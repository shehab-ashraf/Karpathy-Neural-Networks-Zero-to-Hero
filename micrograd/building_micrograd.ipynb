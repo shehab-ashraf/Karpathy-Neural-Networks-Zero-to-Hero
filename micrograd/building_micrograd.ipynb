{
  "cells": [
    {
      "cell_type": "markdown",
      "metadata": {
        "id": "N6EItvMnLf4I"
      },
      "source": [
        "# Mircrograd from scratch\n",
        " micrograd is basically an autograd engine (automatic gradient) implements backpropagation. backpropagation is this algorithm that allows you to efficiently evaluate the gradient of some kind of a loss function with respect to the weights of a neural network and what that allows us to do, we can iteratively tune the weights of that neural network to minimize the loss function and then improve the accuracy of the network"
      ]
    },
    {
      "cell_type": "code",
      "execution_count": 144,
      "metadata": {
        "id": "V7djx5dJLjZV"
      },
      "outputs": [],
      "source": [
        "import math\n",
        "import numpy as np\n",
        "import matplotlib.pyplot as plt\n",
        "import os\n",
        "import glob"
      ]
    },
    {
      "cell_type": "markdown",
      "metadata": {
        "id": "vSsjeDQQM9Ua"
      },
      "source": [
        "## Single Variable: `x`"
      ]
    },
    {
      "cell_type": "code",
      "execution_count": 145,
      "metadata": {
        "id": "oJbijVbbM-1z"
      },
      "outputs": [],
      "source": [
        "def f(x): return 3*x**2 - 4*x + 5"
      ]
    },
    {
      "cell_type": "code",
      "execution_count": 146,
      "metadata": {
        "colab": {
          "base_uri": "https://localhost:8080/"
        },
        "id": "Jvo3DoQzX3hm",
        "outputId": "9042979f-aa03-4bcf-8301-a6b53bad0e8c"
      },
      "outputs": [
        {
          "output_type": "execute_result",
          "data": {
            "text/plain": [
              "20.0"
            ]
          },
          "metadata": {},
          "execution_count": 146
        }
      ],
      "source": [
        "f(3.0)"
      ]
    },
    {
      "cell_type": "code",
      "execution_count": 147,
      "metadata": {
        "colab": {
          "base_uri": "https://localhost:8080/"
        },
        "id": "SDD3QaawX4ZA",
        "outputId": "0b95d7f6-500d-4a8e-e300-4f5d99536bed"
      },
      "outputs": [
        {
          "output_type": "execute_result",
          "data": {
            "text/plain": [
              "array([-5.  , -4.75, -4.5 , -4.25, -4.  , -3.75, -3.5 , -3.25, -3.  ,\n",
              "       -2.75, -2.5 , -2.25, -2.  , -1.75, -1.5 , -1.25, -1.  , -0.75,\n",
              "       -0.5 , -0.25,  0.  ,  0.25,  0.5 ,  0.75,  1.  ,  1.25,  1.5 ,\n",
              "        1.75,  2.  ,  2.25,  2.5 ,  2.75,  3.  ,  3.25,  3.5 ,  3.75,\n",
              "        4.  ,  4.25,  4.5 ,  4.75])"
            ]
          },
          "metadata": {},
          "execution_count": 147
        }
      ],
      "source": [
        "xs = np.arange(-5, 5, 0.25)\n",
        "xs"
      ]
    },
    {
      "cell_type": "code",
      "execution_count": 148,
      "metadata": {
        "colab": {
          "base_uri": "https://localhost:8080/"
        },
        "id": "Qd1MBjO0X4ng",
        "outputId": "bf5d1446-e560-4527-d698-42bbb2abe956"
      },
      "outputs": [
        {
          "output_type": "execute_result",
          "data": {
            "text/plain": [
              "array([100.    ,  91.6875,  83.75  ,  76.1875,  69.    ,  62.1875,\n",
              "        55.75  ,  49.6875,  44.    ,  38.6875,  33.75  ,  29.1875,\n",
              "        25.    ,  21.1875,  17.75  ,  14.6875,  12.    ,   9.6875,\n",
              "         7.75  ,   6.1875,   5.    ,   4.1875,   3.75  ,   3.6875,\n",
              "         4.    ,   4.6875,   5.75  ,   7.1875,   9.    ,  11.1875,\n",
              "        13.75  ,  16.6875,  20.    ,  23.6875,  27.75  ,  32.1875,\n",
              "        37.    ,  42.1875,  47.75  ,  53.6875])"
            ]
          },
          "metadata": {},
          "execution_count": 148
        }
      ],
      "source": [
        "ys = f(xs)\n",
        "ys"
      ]
    },
    {
      "cell_type": "code",
      "execution_count": 149,
      "metadata": {
        "colab": {
          "base_uri": "https://localhost:8080/",
          "height": 447
        },
        "id": "3wiimE41X4zf",
        "outputId": "8036df96-ede2-407a-9e40-2cb2375118c1"
      },
      "outputs": [
        {
          "output_type": "execute_result",
          "data": {
            "text/plain": [
              "[<matplotlib.lines.Line2D at 0x7a6ddaf72680>]"
            ]
          },
          "metadata": {},
          "execution_count": 149
        },
        {
          "output_type": "display_data",
          "data": {
            "text/plain": [
              "<Figure size 640x480 with 1 Axes>"
            ],
            "image/png": "[encoded data removed]"
          },
          "metadata": {}
        }
      ],
      "source": [
        "plt.plot(xs, ys)"
      ]
    },
    {
      "cell_type": "markdown",
      "metadata": {
        "id": "XP552eS9fodu"
      },
      "source": [
        "# Derivative\n",
        "at some point x that you're interested in and if you slightly bump up, you slightly increase it by small number h how does that function respond to this, does the function go up or does it go down and by how much and that's the slope of that function at that point"
      ]
    },
    {
      "cell_type": "markdown",
      "metadata": {
        "id": "ghCMMWbNh3YB"
      },
      "source": [
        "Derivative on increasing side of the curve"
      ]
    },
    {
      "cell_type": "code",
      "execution_count": 150,
      "metadata": {
        "colab": {
          "base_uri": "https://localhost:8080/"
        },
        "id": "YObqYL0jh5oN",
        "outputId": "fbdb22d3-fb88-4654-e280-c7206e22c744"
      },
      "outputs": [
        {
          "output_type": "execute_result",
          "data": {
            "text/plain": [
              "14.000001158365194"
            ]
          },
          "metadata": {},
          "execution_count": 150
        }
      ],
      "source": [
        "h = 0.0000000001\n",
        "x = 3.0\n",
        "(f(x + h) - f(x))/h"
      ]
    },
    {
      "cell_type": "markdown",
      "metadata": {
        "id": "HJKXlSJtj_ws"
      },
      "source": [
        "### Derivative on the decreasing side of the curve"
      ]
    },
    {
      "cell_type": "code",
      "execution_count": 151,
      "metadata": {
        "colab": {
          "base_uri": "https://localhost:8080/"
        },
        "id": "FBQNWwkZkBTZ",
        "outputId": "57007449-6b6b-4a0f-d346-8148644a0f83"
      },
      "outputs": [
        {
          "output_type": "execute_result",
          "data": {
            "text/plain": [
              "-21.999966293151374"
            ]
          },
          "metadata": {},
          "execution_count": 151
        }
      ],
      "source": [
        "h = 0.0000000001\n",
        "x = -3.0\n",
        "(f(x + h) - f(x))/h"
      ]
    },
    {
      "cell_type": "markdown",
      "metadata": {
        "id": "Ctz-00JrkQGt"
      },
      "source": [
        "### Derivative on the bottom of the curve"
      ]
    },
    {
      "cell_type": "code",
      "execution_count": 152,
      "metadata": {
        "colab": {
          "base_uri": "https://localhost:8080/"
        },
        "id": "g7VhQwDYkUMu",
        "outputId": "956d5d3b-311e-4087-988b-11bde399ea2c"
      },
      "outputs": [
        {
          "output_type": "execute_result",
          "data": {
            "text/plain": [
              "0.0"
            ]
          },
          "metadata": {},
          "execution_count": 152
        }
      ],
      "source": [
        "h = 0.0000000001\n",
        "x = 2/3\n",
        "(f(x + h) - f(x))/h"
      ]
    },
    {
      "cell_type": "markdown",
      "metadata": {
        "id": "O0mdEkAokwHl"
      },
      "source": [
        "## Multivariable: `a`, `b`, `c`"
      ]
    },
    {
      "cell_type": "code",
      "execution_count": 153,
      "metadata": {
        "colab": {
          "base_uri": "https://localhost:8080/"
        },
        "id": "zLQRRXaOkxl5",
        "outputId": "e5fac6d6-198d-4e6e-e141-6c0cf2471d26"
      },
      "outputs": [
        {
          "output_type": "stream",
          "name": "stdout",
          "text": [
            "4.0\n"
          ]
        }
      ],
      "source": [
        "a = 2.0\n",
        "b = -3.0\n",
        "c = 10.0\n",
        "def d(a, b, c): return a*b + c\n",
        "print(d(a, b, c))"
      ]
    },
    {
      "cell_type": "markdown",
      "metadata": {
        "id": "v4ZOqvhomCbI"
      },
      "source": [
        "### Derivative with respect to `a`"
      ]
    },
    {
      "cell_type": "code",
      "execution_count": 154,
      "metadata": {
        "colab": {
          "base_uri": "https://localhost:8080/"
        },
        "id": "JW4NzY3emDa9",
        "outputId": "2277e005-2bca-4916-c21e-ff65a8305964"
      },
      "outputs": [
        {
          "output_type": "stream",
          "name": "stdout",
          "text": [
            "d1 4.0\n",
            "d2 3.999699999999999\n",
            "slope -3.000000000010772\n"
          ]
        }
      ],
      "source": [
        "h = 0.0001\n",
        "\n",
        "a = 2.0\n",
        "b = -3.0\n",
        "c = 10.0\n",
        "\n",
        "d1 = a*b + c\n",
        "a += h\n",
        "d2 = a*b + c\n",
        "\n",
        "print('d1', d1)\n",
        "print('d2', d2)\n",
        "print('slope', (d2 - d1)/h)"
      ]
    },
    {
      "cell_type": "markdown",
      "metadata": {
        "id": "0trT43cHojZv"
      },
      "source": [
        "### Derivative with respect to `b`"
      ]
    },
    {
      "cell_type": "code",
      "execution_count": 155,
      "metadata": {
        "colab": {
          "base_uri": "https://localhost:8080/"
        },
        "id": "gyhBwXxgonF7",
        "outputId": "488a1d1d-cf86-465d-ff28-a2ff523b1642"
      },
      "outputs": [
        {
          "output_type": "stream",
          "name": "stdout",
          "text": [
            "d1 4.0\n",
            "d2 4.0002\n",
            "slope 2.0000000000042206\n"
          ]
        }
      ],
      "source": [
        "h = 0.0001\n",
        "\n",
        "a = 2.0\n",
        "b = -3.0\n",
        "c = 10.0\n",
        "\n",
        "d1 = a*b + c\n",
        "b += h\n",
        "d2 = a*b + c\n",
        "\n",
        "print('d1', d1)\n",
        "print('d2', d2)\n",
        "print('slope', (d2 - d1)/h)"
      ]
    },
    {
      "cell_type": "markdown",
      "metadata": {
        "id": "xe3XljxopLSh"
      },
      "source": [
        "### Derivative with respect to `c`"
      ]
    },
    {
      "cell_type": "code",
      "execution_count": 156,
      "metadata": {
        "colab": {
          "base_uri": "https://localhost:8080/"
        },
        "id": "QGRWNAuUpNEt",
        "outputId": "e9b5c584-aae8-4990-e4d5-be0959236b0d"
      },
      "outputs": [
        {
          "output_type": "stream",
          "name": "stdout",
          "text": [
            "d1 4.0\n",
            "d2 4.0001\n",
            "slope 0.9999999999976694\n"
          ]
        }
      ],
      "source": [
        "h = 0.0001\n",
        "\n",
        "a = 2.0\n",
        "b = -3.0\n",
        "c = 10.0\n",
        "\n",
        "d1 = a*b + c\n",
        "c += h\n",
        "d2 = a*b + c\n",
        "\n",
        "print('d1', d1)\n",
        "print('d2', d2)\n",
        "print('slope', (d2 - d1)/h)"
      ]
    },
    {
      "cell_type": "markdown",
      "metadata": {
        "id": "g2jtyKIorpRc"
      },
      "source": [
        "## Create Value Object\n",
        "(mentioned in the README of [micrograd](https://github.com/karpathy/micrograd) )"
      ]
    },
    {
      "cell_type": "markdown",
      "metadata": {
        "id": "GfRNH23Wr3AY"
      },
      "source": [
        "### Define intial template of Value Class"
      ]
    },
    {
      "cell_type": "code",
      "execution_count": 157,
      "metadata": {
        "id": "MYyAT6SJr47B"
      },
      "outputs": [],
      "source": [
        " class Value:\n",
        "    def __init__(self, data):\n",
        "        self.data = data\n",
        "\n",
        "    def __repr__(self):\n",
        "      return f\"Value(data={self.data})\""
      ]
    },
    {
      "cell_type": "code",
      "execution_count": 158,
      "metadata": {
        "colab": {
          "base_uri": "https://localhost:8080/"
        },
        "id": "DhPnzGlmtdCh",
        "outputId": "67f2dca0-87dc-4c73-8686-16bbbb146fe0"
      },
      "outputs": [
        {
          "output_type": "execute_result",
          "data": {
            "text/plain": [
              "(Value(data=2.0), Value(data=-3.0))"
            ]
          },
          "metadata": {},
          "execution_count": 158
        }
      ],
      "source": [
        "a = Value(2.0)\n",
        "b = Value(-3.0)\n",
        "a, b"
      ]
    },
    {
      "cell_type": "markdown",
      "metadata": {
        "id": "9Boqm4pnuByT"
      },
      "source": [
        "### Add the `add` function\n"
      ]
    },
    {
      "cell_type": "code",
      "execution_count": 159,
      "metadata": {
        "id": "K8T8bYnvuJII"
      },
      "outputs": [],
      "source": [
        " class Value:\n",
        "    def __init__(self, data):\n",
        "        self.data = data\n",
        "\n",
        "    def __repr__(self):\n",
        "      return f\"Value(data={self.data})\"\n",
        "\n",
        "    def __add__(self, other):\n",
        "      out = Value(self.data + other.data)\n",
        "      return out"
      ]
    },
    {
      "cell_type": "code",
      "execution_count": 160,
      "metadata": {
        "colab": {
          "base_uri": "https://localhost:8080/"
        },
        "id": "oZVrZNDEtcgh",
        "outputId": "abbd3016-b93e-4fd6-b395-9646555cf5bc"
      },
      "outputs": [
        {
          "output_type": "execute_result",
          "data": {
            "text/plain": [
              "(Value(data=2.0), Value(data=-3.0))"
            ]
          },
          "metadata": {},
          "execution_count": 160
        }
      ],
      "source": [
        "a = Value(2.0)\n",
        "b = Value(-3.0)\n",
        "a, b"
      ]
    },
    {
      "cell_type": "code",
      "execution_count": 161,
      "metadata": {
        "colab": {
          "base_uri": "https://localhost:8080/"
        },
        "id": "1jGd1hx-weE5",
        "outputId": "ba927d3f-94e4-4cc5-caad-7c68c1c907d6"
      },
      "outputs": [
        {
          "output_type": "execute_result",
          "data": {
            "text/plain": [
              "Value(data=-1.0)"
            ]
          },
          "metadata": {},
          "execution_count": 161
        }
      ],
      "source": [
        "a + b # a.__add__(b)"
      ]
    },
    {
      "cell_type": "markdown",
      "metadata": {
        "id": "Sc5I0amrvdnQ"
      },
      "source": [
        "### Add the `mul` function"
      ]
    },
    {
      "cell_type": "code",
      "execution_count": 162,
      "metadata": {
        "id": "iFsE8uHLvmqI"
      },
      "outputs": [],
      "source": [
        " class Value:\n",
        "    def __init__(self, data):\n",
        "        self.data = data\n",
        "\n",
        "    def __repr__(self):\n",
        "      return f\"Value(data={self.data})\"\n",
        "\n",
        "    def __add__(self, other):\n",
        "      out = Value(self.data + other.data)\n",
        "      return out\n",
        "\n",
        "    def __mul__(self, other):\n",
        "      out = Value(self.data * other.data)\n",
        "      return out"
      ]
    },
    {
      "cell_type": "markdown",
      "metadata": {
        "id": "5lZEo3iusBTF"
      },
      "source": []
    },
    {
      "cell_type": "code",
      "execution_count": 163,
      "metadata": {
        "colab": {
          "base_uri": "https://localhost:8080/"
        },
        "id": "GzI1hNGDwbCf",
        "outputId": "93542073-df51-4720-8917-833c926e4106"
      },
      "outputs": [
        {
          "output_type": "execute_result",
          "data": {
            "text/plain": [
              "(Value(data=2.0), Value(data=-3.0))"
            ]
          },
          "metadata": {},
          "execution_count": 163
        }
      ],
      "source": [
        "a = Value(2.0)\n",
        "b = Value(-3.0)\n",
        "a, b"
      ]
    },
    {
      "cell_type": "code",
      "execution_count": 164,
      "metadata": {
        "colab": {
          "base_uri": "https://localhost:8080/"
        },
        "id": "BOlbXuKAw_PM",
        "outputId": "575a60c9-e007-457e-e087-d38816d1fdc6"
      },
      "outputs": [
        {
          "output_type": "execute_result",
          "data": {
            "text/plain": [
              "Value(data=-6.0)"
            ]
          },
          "metadata": {},
          "execution_count": 164
        }
      ],
      "source": [
        "a*b # a.__mul__(b)"
      ]
    },
    {
      "cell_type": "code",
      "execution_count": 165,
      "metadata": {
        "id": "37QnWP1cxXEH"
      },
      "outputs": [],
      "source": [
        "c = Value(10.0)"
      ]
    },
    {
      "cell_type": "code",
      "execution_count": 166,
      "metadata": {
        "colab": {
          "base_uri": "https://localhost:8080/"
        },
        "id": "rp6OvtArxe64",
        "outputId": "035ea621-709b-4137-8131-11c02c50a917"
      },
      "outputs": [
        {
          "output_type": "execute_result",
          "data": {
            "text/plain": [
              "Value(data=4.0)"
            ]
          },
          "metadata": {},
          "execution_count": 166
        }
      ],
      "source": [
        "d = a * b + c\n",
        "d"
      ]
    },
    {
      "cell_type": "markdown",
      "metadata": {
        "id": "EQWXtTVLQJuJ"
      },
      "source": [
        "### Add the functionality to know what values created a value with `_children`"
      ]
    },
    {
      "cell_type": "code",
      "execution_count": 167,
      "metadata": {
        "id": "OMqNj9FZQVla"
      },
      "outputs": [],
      "source": [
        "class Value:\n",
        "    def __init__(self, data, _children=()): #  Add _children\n",
        "        self.data = data\n",
        "        self._prev = set(_children) # Add _children\n",
        "\n",
        "    def __repr__(self):\n",
        "        return f\"Value(data ={self.data})\"\n",
        "\n",
        "    def __add__(self, other):\n",
        "        return Value(self.data + other.data, (self, other))\n",
        "\n",
        "    def __mul__(self, other):\n",
        "        return Value(self.data * other.data, (self, other))"
      ]
    },
    {
      "cell_type": "code",
      "execution_count": 168,
      "metadata": {
        "colab": {
          "base_uri": "https://localhost:8080/"
        },
        "id": "2gA7kDtQR6OL",
        "outputId": "ff8336ac-c142-48ae-a00c-aa8dd47f8a48"
      },
      "outputs": [
        {
          "output_type": "execute_result",
          "data": {
            "text/plain": [
              "Value(data =4.0)"
            ]
          },
          "metadata": {},
          "execution_count": 168
        }
      ],
      "source": [
        "a = Value(2.0)\n",
        "b = Value(-3.0)\n",
        "c = Value(10.0)\n",
        "d = a*b + c\n",
        "d"
      ]
    },
    {
      "cell_type": "code",
      "execution_count": 169,
      "metadata": {
        "colab": {
          "base_uri": "https://localhost:8080/"
        },
        "id": "p_QqlFlVSDdZ",
        "outputId": "f17d83a2-0d82-49aa-b28d-90990dc6500d"
      },
      "outputs": [
        {
          "output_type": "execute_result",
          "data": {
            "text/plain": [
              "{Value(data =-6.0), Value(data =10.0)}"
            ]
          },
          "metadata": {},
          "execution_count": 169
        }
      ],
      "source": [
        "d._prev # childrens are -6.0 (a *b) and 10.0 (c)"
      ]
    },
    {
      "cell_type": "markdown",
      "metadata": {
        "id": "jATiXBpBSRwM"
      },
      "source": [
        "### Add the functionality to know what operations created a value with `_op`"
      ]
    },
    {
      "cell_type": "code",
      "execution_count": 170,
      "metadata": {
        "id": "6FjVFkH4SSx1"
      },
      "outputs": [],
      "source": [
        "class Value:\n",
        "    def __init__(self, data, _children=(), _op=''): #  Add _op\n",
        "        self.data = data\n",
        "        self._prev = set(_children)\n",
        "        self._op = _op # Add _op\n",
        "\n",
        "    def __repr__(self):\n",
        "        return f\"Value(data={self.data})\"\n",
        "\n",
        "    def __add__(self, other):\n",
        "        return Value(self.data + other.data, (self, other), '+')\n",
        "\n",
        "    def __mul__(self, other):\n",
        "        return Value(self.data * other.data, (self, other), '*')"
      ]
    },
    {
      "cell_type": "code",
      "execution_count": 171,
      "metadata": {
        "colab": {
          "base_uri": "https://localhost:8080/"
        },
        "id": "gdtOIQimSXRV",
        "outputId": "2c3a1d1d-4a1f-4cc7-d951-a602747abfc2"
      },
      "outputs": [
        {
          "output_type": "execute_result",
          "data": {
            "text/plain": [
              "Value(data=4.0)"
            ]
          },
          "metadata": {},
          "execution_count": 171
        }
      ],
      "source": [
        "a = Value(2.0)\n",
        "b = Value(-3.0)\n",
        "c = Value(10.0)\n",
        "d = a*b + c\n",
        "d"
      ]
    },
    {
      "cell_type": "code",
      "execution_count": 172,
      "metadata": {
        "colab": {
          "base_uri": "https://localhost:8080/"
        },
        "id": "U03OsQW3SfYN",
        "outputId": "0842dd74-ff19-487d-c66a-8ea83d9b65b3"
      },
      "outputs": [
        {
          "output_type": "execute_result",
          "data": {
            "text/plain": [
              "{Value(data=-6.0), Value(data=10.0)}"
            ]
          },
          "metadata": {},
          "execution_count": 172
        }
      ],
      "source": [
        "d._prev"
      ]
    },
    {
      "cell_type": "code",
      "execution_count": 173,
      "metadata": {
        "colab": {
          "base_uri": "https://localhost:8080/",
          "height": 35
        },
        "id": "wWMvYjpCSgqZ",
        "outputId": "258db05f-45a8-495d-a081-9a0293b3932c"
      },
      "outputs": [
        {
          "output_type": "execute_result",
          "data": {
            "text/plain": [
              "'+'"
            ],
            "application/vnd.google.colaboratory.intrinsic+json": {
              "type": "string"
            }
          },
          "metadata": {},
          "execution_count": 173
        }
      ],
      "source": [
        "d._op"
      ]
    },
    {
      "cell_type": "markdown",
      "metadata": {
        "id": "JLr49XMES8LY"
      },
      "source": [
        "### Visualize the expression graph with operators and operands"
      ]
    },
    {
      "cell_type": "code",
      "execution_count": 174,
      "metadata": {
        "id": "FwrudwAeS86k"
      },
      "outputs": [],
      "source": [
        "from graphviz import Digraph\n",
        "\n",
        "def trace(root):\n",
        "    # build a set of all nodes and edges in a graph\n",
        "    nodes, edges = set(), set()\n",
        "    def build(v):\n",
        "        if v not in nodes:\n",
        "            nodes.add(v)\n",
        "            for child in v._prev:\n",
        "                edges.add((child, v))\n",
        "                build(child)\n",
        "    build(root)\n",
        "    return nodes, edges"
      ]
    },
    {
      "cell_type": "code",
      "execution_count": 175,
      "metadata": {
        "id": "HmJsJIYBTTe8"
      },
      "outputs": [],
      "source": [
        "def draw_dot(root, label):\n",
        "    dot = Digraph(format='svg', graph_attr={'rankdir': 'LR'}) # LR = left to right\n",
        "\n",
        "    nodes, edges = trace(root)\n",
        "    for n in nodes:\n",
        "        uid = str(id(n))\n",
        "        # for any value in the graph, create a rectangular ('record') node for it\n",
        "        dot.node(name = uid, label=label(n), shape='record') # ⭠ label function getting called\n",
        "        if n._op:\n",
        "            # if this value is a result of some operation, create an op node for it\n",
        "            dot.node(name = uid + n._op, label = n._op)\n",
        "            dot.edge(uid + n._op, uid)\n",
        "\n",
        "    for n1, n2 in edges:\n",
        "        # connect n1 to the op node of n2\n",
        "        dot.edge(str(id(n1)), str(id(n2)) + n2._op)\n",
        "\n",
        "    return dot"
      ]
    },
    {
      "cell_type": "code",
      "execution_count": 176,
      "metadata": {
        "colab": {
          "base_uri": "https://localhost:8080/",
          "height": 190
        },
        "id": "5PHjQOPQTZK7",
        "outputId": "49179573-c2a2-401d-f094-4b0688654b2e"
      },
      "outputs": [
        {
          "output_type": "execute_result",
          "data": {
            "image/svg+xml": "<?xml version=\"1.0\" encoding=\"UTF-8\" standalone=\"no\"?>\n<!DOCTYPE svg PUBLIC \"-//W3C//DTD SVG 1.1//EN\"\n \"http://www.w3.org/Graphics/SVG/1.1/DTD/svg11.dtd\">\n<!-- Generated by graphviz version 2.43.0 (0)\n -->\n<!-- Title: %3 Pages: 1 -->\n<svg width=\"512pt\" height=\"127pt\"\n viewBox=\"0.00 0.00 512.00 127.00\" xmlns=\"http://www.w3.org/2000/svg\" xmlns:xlink=\"http://www.w3.org/1999/xlink\">\n<g id=\"graph0\" class=\"graph\" transform=\"scale(1 1) rotate(0) translate(4 123)\">\n<title>%3</title>\n<polygon fill=\"white\" stroke=\"transparent\" points=\"-4,4 -4,-123 508,-123 508,4 -4,4\"/>\n<!-- 134612243931312 -->\n<g id=\"node1\" class=\"node\">\n<title>134612243931312</title>\n<polygon fill=\"none\" stroke=\"black\" points=\"424,-54.5 424,-90.5 504,-90.5 504,-54.5 424,-54.5\"/>\n<text text-anchor=\"middle\" x=\"464\" y=\"-68.8\" font-family=\"Times,serif\" font-size=\"14.00\">data 4.0000</text>\n</g>\n<!-- 134612243931312+ -->\n<g id=\"node2\" class=\"node\">\n<title>134612243931312+</title>\n<ellipse fill=\"none\" stroke=\"black\" cx=\"361\" cy=\"-72.5\" rx=\"27\" ry=\"18\"/>\n<text text-anchor=\"middle\" x=\"361\" y=\"-68.8\" font-family=\"Times,serif\" font-size=\"14.00\">+</text>\n</g>\n<!-- 134612243931312+&#45;&gt;134612243931312 -->\n<g id=\"edge1\" class=\"edge\">\n<title>134612243931312+&#45;&gt;134612243931312</title>\n<path fill=\"none\" stroke=\"black\" d=\"M388.01,-72.5C395.82,-72.5 404.67,-72.5 413.48,-72.5\"/>\n<polygon fill=\"black\" stroke=\"black\" points=\"413.73,-76 423.73,-72.5 413.73,-69 413.73,-76\"/>\n</g>\n<!-- 134612243930880 -->\n<g id=\"node3\" class=\"node\">\n<title>134612243930880</title>\n<polygon fill=\"none\" stroke=\"black\" points=\"0,-55.5 0,-91.5 85,-91.5 85,-55.5 0,-55.5\"/>\n<text text-anchor=\"middle\" x=\"42.5\" y=\"-69.8\" font-family=\"Times,serif\" font-size=\"14.00\">data &#45;3.0000</text>\n</g>\n<!-- 134612243937120* -->\n<g id=\"node6\" class=\"node\">\n<title>134612243937120*</title>\n<ellipse fill=\"none\" stroke=\"black\" cx=\"148\" cy=\"-45.5\" rx=\"27\" ry=\"18\"/>\n<text text-anchor=\"middle\" x=\"148\" y=\"-41.8\" font-family=\"Times,serif\" font-size=\"14.00\">*</text>\n</g>\n<!-- 134612243930880&#45;&gt;134612243937120* -->\n<g id=\"edge5\" class=\"edge\">\n<title>134612243930880&#45;&gt;134612243937120*</title>\n<path fill=\"none\" stroke=\"black\" d=\"M85,-62.27C94.32,-59.75 104.1,-57.11 113.06,-54.68\"/>\n<polygon fill=\"black\" stroke=\"black\" points=\"114.03,-58.04 122.77,-52.05 112.2,-51.29 114.03,-58.04\"/>\n</g>\n<!-- 134612243935056 -->\n<g id=\"node4\" class=\"node\">\n<title>134612243935056</title>\n<polygon fill=\"none\" stroke=\"black\" points=\"211,-82.5 211,-118.5 298,-118.5 298,-82.5 211,-82.5\"/>\n<text text-anchor=\"middle\" x=\"254.5\" y=\"-96.8\" font-family=\"Times,serif\" font-size=\"14.00\">data 10.0000</text>\n</g>\n<!-- 134612243935056&#45;&gt;134612243931312+ -->\n<g id=\"edge4\" class=\"edge\">\n<title>134612243935056&#45;&gt;134612243931312+</title>\n<path fill=\"none\" stroke=\"black\" d=\"M298,-89.11C307.18,-86.65 316.78,-84.08 325.6,-81.72\"/>\n<polygon fill=\"black\" stroke=\"black\" points=\"326.78,-85.02 335.53,-79.06 324.97,-78.26 326.78,-85.02\"/>\n</g>\n<!-- 134612243937120 -->\n<g id=\"node5\" class=\"node\">\n<title>134612243937120</title>\n<polygon fill=\"none\" stroke=\"black\" points=\"212,-27.5 212,-63.5 297,-63.5 297,-27.5 212,-27.5\"/>\n<text text-anchor=\"middle\" x=\"254.5\" y=\"-41.8\" font-family=\"Times,serif\" font-size=\"14.00\">data &#45;6.0000</text>\n</g>\n<!-- 134612243937120&#45;&gt;134612243931312+ -->\n<g id=\"edge6\" class=\"edge\">\n<title>134612243937120&#45;&gt;134612243931312+</title>\n<path fill=\"none\" stroke=\"black\" d=\"M297.1,-56.25C306.61,-58.71 316.62,-61.29 325.78,-63.66\"/>\n<polygon fill=\"black\" stroke=\"black\" points=\"325.13,-67.11 335.69,-66.22 326.88,-60.33 325.13,-67.11\"/>\n</g>\n<!-- 134612243937120*&#45;&gt;134612243937120 -->\n<g id=\"edge2\" class=\"edge\">\n<title>134612243937120*&#45;&gt;134612243937120</title>\n<path fill=\"none\" stroke=\"black\" d=\"M175.1,-45.5C183.27,-45.5 192.59,-45.5 201.88,-45.5\"/>\n<polygon fill=\"black\" stroke=\"black\" points=\"201.89,-49 211.89,-45.5 201.89,-42 201.89,-49\"/>\n</g>\n<!-- 134612243928000 -->\n<g id=\"node7\" class=\"node\">\n<title>134612243928000</title>\n<polygon fill=\"none\" stroke=\"black\" points=\"2.5,-0.5 2.5,-36.5 82.5,-36.5 82.5,-0.5 2.5,-0.5\"/>\n<text text-anchor=\"middle\" x=\"42.5\" y=\"-14.8\" font-family=\"Times,serif\" font-size=\"14.00\">data 2.0000</text>\n</g>\n<!-- 134612243928000&#45;&gt;134612243937120* -->\n<g id=\"edge3\" class=\"edge\">\n<title>134612243928000&#45;&gt;134612243937120*</title>\n<path fill=\"none\" stroke=\"black\" d=\"M82.63,-28.71C92.47,-31.27 102.95,-34.01 112.54,-36.51\"/>\n<polygon fill=\"black\" stroke=\"black\" points=\"111.96,-39.98 122.52,-39.11 113.73,-33.2 111.96,-39.98\"/>\n</g>\n</g>\n</svg>\n",
            "text/plain": [
              "<graphviz.graphs.Digraph at 0x7a6ddafb74f0>"
            ]
          },
          "metadata": {},
          "execution_count": 176
        }
      ],
      "source": [
        "def label(node): return \"{data %.4f}\" % (node.data)\n",
        "draw_dot(d, label)"
      ]
    },
    {
      "cell_type": "markdown",
      "metadata": {
        "id": "Tqlrj2EWT_FN"
      },
      "source": [
        "### Add label to each node\n",
        "> so that we know what are the corresponding variables for each value"
      ]
    },
    {
      "cell_type": "code",
      "execution_count": 177,
      "metadata": {
        "id": "FuYt588BUCU-"
      },
      "outputs": [],
      "source": [
        "class Value:\n",
        "    def __init__(self, data, _children=(), _op='', label=''): # ⭠ Add label\n",
        "        self.data = data\n",
        "        self._prev = set(_children)\n",
        "        self._op = _op\n",
        "        self.label = label # ⭠ Add label\n",
        "\n",
        "    def __repr__(self):\n",
        "        return f\"Value(label={self.label} data={self.data})\"\n",
        "\n",
        "    def __add__(self, other):\n",
        "        return Value(self.data + other.data, (self, other), '+')\n",
        "\n",
        "    def __mul__(self, other):\n",
        "        return Value(self.data * other.data, (self, other), '*')"
      ]
    },
    {
      "cell_type": "code",
      "execution_count": 178,
      "metadata": {
        "colab": {
          "base_uri": "https://localhost:8080/"
        },
        "id": "0gcz7rdDUSzb",
        "outputId": "3c635f79-c099-42e8-ef1a-409c5b5df540"
      },
      "outputs": [
        {
          "output_type": "execute_result",
          "data": {
            "text/plain": [
              "Value(label=L data=-8.0)"
            ]
          },
          "metadata": {},
          "execution_count": 178
        }
      ],
      "source": [
        "a = Value(2.0, label = 'a')\n",
        "b = Value(-3.0, label='b')\n",
        "c = Value(10, label = 'c')\n",
        "e = a*b; e.label = 'e'\n",
        "d = e + c; d.label = 'd'\n",
        "f = Value(-2.0, label='f')\n",
        "L = d * f; L.label = 'L'\n",
        "L"
      ]
    },
    {
      "cell_type": "markdown",
      "metadata": {
        "id": "DBUfHxEtUjyq"
      },
      "source": [
        "Change the `label` function to render the label"
      ]
    },
    {
      "cell_type": "code",
      "execution_count": 179,
      "metadata": {
        "id": "aYYy2iOfUkoP"
      },
      "outputs": [],
      "source": [
        "def label(node): return \"{%s | {data %.4f}}\" % (node.label, node.data)"
      ]
    },
    {
      "cell_type": "code",
      "execution_count": 180,
      "metadata": {
        "colab": {
          "base_uri": "https://localhost:8080/",
          "height": 249
        },
        "id": "uI9huqdRUykH",
        "outputId": "ccc0e572-d7b9-4435-aaac-5545e20256ca"
      },
      "outputs": [
        {
          "output_type": "execute_result",
          "data": {
            "image/svg+xml": "<?xml version=\"1.0\" encoding=\"UTF-8\" standalone=\"no\"?>\n<!DOCTYPE svg PUBLIC \"-//W3C//DTD SVG 1.1//EN\"\n \"http://www.w3.org/Graphics/SVG/1.1/DTD/svg11.dtd\">\n<!-- Generated by graphviz version 2.43.0 (0)\n -->\n<!-- Title: %3 Pages: 1 -->\n<svg width=\"820pt\" height=\"156pt\"\n viewBox=\"0.00 0.00 820.00 156.00\" xmlns=\"http://www.w3.org/2000/svg\" xmlns:xlink=\"http://www.w3.org/1999/xlink\">\n<g id=\"graph0\" class=\"graph\" transform=\"scale(1 1) rotate(0) translate(4 152)\">\n<title>%3</title>\n<polygon fill=\"white\" stroke=\"transparent\" points=\"-4,4 -4,-152 816,-152 816,4 -4,4\"/>\n<!-- 134612243937792 -->\n<g id=\"node1\" class=\"node\">\n<title>134612243937792</title>\n<polygon fill=\"none\" stroke=\"black\" points=\"0,-111.5 0,-147.5 108,-147.5 108,-111.5 0,-111.5\"/>\n<text text-anchor=\"middle\" x=\"11.5\" y=\"-125.8\" font-family=\"Times,serif\" font-size=\"14.00\">b</text>\n<polyline fill=\"none\" stroke=\"black\" points=\"23,-111.5 23,-147.5 \"/>\n<text text-anchor=\"middle\" x=\"65.5\" y=\"-125.8\" font-family=\"Times,serif\" font-size=\"14.00\">data &#45;3.0000</text>\n</g>\n<!-- 134612243929296* -->\n<g id=\"node3\" class=\"node\">\n<title>134612243929296*</title>\n<ellipse fill=\"none\" stroke=\"black\" cx=\"171\" cy=\"-101.5\" rx=\"27\" ry=\"18\"/>\n<text text-anchor=\"middle\" x=\"171\" y=\"-97.8\" font-family=\"Times,serif\" font-size=\"14.00\">*</text>\n</g>\n<!-- 134612243937792&#45;&gt;134612243929296* -->\n<g id=\"edge4\" class=\"edge\">\n<title>134612243937792&#45;&gt;134612243929296*</title>\n<path fill=\"none\" stroke=\"black\" d=\"M108.12,-116.57C117.51,-114.28 127.06,-111.95 135.76,-109.84\"/>\n<polygon fill=\"black\" stroke=\"black\" points=\"136.62,-113.23 145.51,-107.46 134.97,-106.43 136.62,-113.23\"/>\n</g>\n<!-- 134612243929296 -->\n<g id=\"node2\" class=\"node\">\n<title>134612243929296</title>\n<polygon fill=\"none\" stroke=\"black\" points=\"235,-83.5 235,-119.5 343,-119.5 343,-83.5 235,-83.5\"/>\n<text text-anchor=\"middle\" x=\"246.5\" y=\"-97.8\" font-family=\"Times,serif\" font-size=\"14.00\">e</text>\n<polyline fill=\"none\" stroke=\"black\" points=\"258,-83.5 258,-119.5 \"/>\n<text text-anchor=\"middle\" x=\"300.5\" y=\"-97.8\" font-family=\"Times,serif\" font-size=\"14.00\">data &#45;6.0000</text>\n</g>\n<!-- 134612243933664+ -->\n<g id=\"node10\" class=\"node\">\n<title>134612243933664+</title>\n<ellipse fill=\"none\" stroke=\"black\" cx=\"407\" cy=\"-73.5\" rx=\"27\" ry=\"18\"/>\n<text text-anchor=\"middle\" x=\"407\" y=\"-69.8\" font-family=\"Times,serif\" font-size=\"14.00\">+</text>\n</g>\n<!-- 134612243929296&#45;&gt;134612243933664+ -->\n<g id=\"edge6\" class=\"edge\">\n<title>134612243929296&#45;&gt;134612243933664+</title>\n<path fill=\"none\" stroke=\"black\" d=\"M343.25,-88.65C352.84,-86.33 362.6,-83.98 371.48,-81.83\"/>\n<polygon fill=\"black\" stroke=\"black\" points=\"372.54,-85.18 381.43,-79.43 370.89,-78.37 372.54,-85.18\"/>\n</g>\n<!-- 134612243929296*&#45;&gt;134612243929296 -->\n<g id=\"edge1\" class=\"edge\">\n<title>134612243929296*&#45;&gt;134612243929296</title>\n<path fill=\"none\" stroke=\"black\" d=\"M198.03,-101.5C206.08,-101.5 215.32,-101.5 224.74,-101.5\"/>\n<polygon fill=\"black\" stroke=\"black\" points=\"224.99,-105 234.99,-101.5 224.99,-98 224.99,-105\"/>\n</g>\n<!-- 134612243932416 -->\n<g id=\"node4\" class=\"node\">\n<title>134612243932416</title>\n<polygon fill=\"none\" stroke=\"black\" points=\"702,-27.5 702,-63.5 812,-63.5 812,-27.5 702,-27.5\"/>\n<text text-anchor=\"middle\" x=\"714.5\" y=\"-41.8\" font-family=\"Times,serif\" font-size=\"14.00\">L</text>\n<polyline fill=\"none\" stroke=\"black\" points=\"727,-27.5 727,-63.5 \"/>\n<text text-anchor=\"middle\" x=\"769.5\" y=\"-41.8\" font-family=\"Times,serif\" font-size=\"14.00\">data &#45;8.0000</text>\n</g>\n<!-- 134612243932416* -->\n<g id=\"node5\" class=\"node\">\n<title>134612243932416*</title>\n<ellipse fill=\"none\" stroke=\"black\" cx=\"639\" cy=\"-45.5\" rx=\"27\" ry=\"18\"/>\n<text text-anchor=\"middle\" x=\"639\" y=\"-41.8\" font-family=\"Times,serif\" font-size=\"14.00\">*</text>\n</g>\n<!-- 134612243932416*&#45;&gt;134612243932416 -->\n<g id=\"edge2\" class=\"edge\">\n<title>134612243932416*&#45;&gt;134612243932416</title>\n<path fill=\"none\" stroke=\"black\" d=\"M666.03,-45.5C673.7,-45.5 682.45,-45.5 691.42,-45.5\"/>\n<polygon fill=\"black\" stroke=\"black\" points=\"691.58,-49 701.58,-45.5 691.58,-42 691.58,-49\"/>\n</g>\n<!-- 134612243938656 -->\n<g id=\"node6\" class=\"node\">\n<title>134612243938656</title>\n<polygon fill=\"none\" stroke=\"black\" points=\"470,-0.5 470,-36.5 576,-36.5 576,-0.5 470,-0.5\"/>\n<text text-anchor=\"middle\" x=\"480.5\" y=\"-14.8\" font-family=\"Times,serif\" font-size=\"14.00\">f</text>\n<polyline fill=\"none\" stroke=\"black\" points=\"491,-0.5 491,-36.5 \"/>\n<text text-anchor=\"middle\" x=\"533.5\" y=\"-14.8\" font-family=\"Times,serif\" font-size=\"14.00\">data &#45;2.0000</text>\n</g>\n<!-- 134612243938656&#45;&gt;134612243932416* -->\n<g id=\"edge7\" class=\"edge\">\n<title>134612243938656&#45;&gt;134612243932416*</title>\n<path fill=\"none\" stroke=\"black\" d=\"M576.33,-30.89C585.48,-33.06 594.8,-35.27 603.33,-37.29\"/>\n<polygon fill=\"black\" stroke=\"black\" points=\"602.73,-40.74 613.27,-39.64 604.34,-33.93 602.73,-40.74\"/>\n</g>\n<!-- 134612243928432 -->\n<g id=\"node7\" class=\"node\">\n<title>134612243928432</title>\n<polygon fill=\"none\" stroke=\"black\" points=\"2.5,-56.5 2.5,-92.5 105.5,-92.5 105.5,-56.5 2.5,-56.5\"/>\n<text text-anchor=\"middle\" x=\"14\" y=\"-70.8\" font-family=\"Times,serif\" font-size=\"14.00\">a</text>\n<polyline fill=\"none\" stroke=\"black\" points=\"25.5,-56.5 25.5,-92.5 \"/>\n<text text-anchor=\"middle\" x=\"65.5\" y=\"-70.8\" font-family=\"Times,serif\" font-size=\"14.00\">data 2.0000</text>\n</g>\n<!-- 134612243928432&#45;&gt;134612243929296* -->\n<g id=\"edge5\" class=\"edge\">\n<title>134612243928432&#45;&gt;134612243929296*</title>\n<path fill=\"none\" stroke=\"black\" d=\"M105.78,-86.42C115.74,-88.76 125.98,-91.17 135.28,-93.35\"/>\n<polygon fill=\"black\" stroke=\"black\" points=\"134.77,-96.82 145.3,-95.7 136.37,-90.01 134.77,-96.82\"/>\n</g>\n<!-- 134612243930064 -->\n<g id=\"node8\" class=\"node\">\n<title>134612243930064</title>\n<polygon fill=\"none\" stroke=\"black\" points=\"234,-28.5 234,-64.5 344,-64.5 344,-28.5 234,-28.5\"/>\n<text text-anchor=\"middle\" x=\"245.5\" y=\"-42.8\" font-family=\"Times,serif\" font-size=\"14.00\">c</text>\n<polyline fill=\"none\" stroke=\"black\" points=\"257,-28.5 257,-64.5 \"/>\n<text text-anchor=\"middle\" x=\"300.5\" y=\"-42.8\" font-family=\"Times,serif\" font-size=\"14.00\">data 10.0000</text>\n</g>\n<!-- 134612243930064&#45;&gt;134612243933664+ -->\n<g id=\"edge8\" class=\"edge\">\n<title>134612243930064&#45;&gt;134612243933664+</title>\n<path fill=\"none\" stroke=\"black\" d=\"M344.26,-59.13C353.49,-61.28 362.84,-63.45 371.37,-65.44\"/>\n<polygon fill=\"black\" stroke=\"black\" points=\"370.79,-68.9 381.32,-67.76 372.38,-62.08 370.79,-68.9\"/>\n</g>\n<!-- 134612243933664 -->\n<g id=\"node9\" class=\"node\">\n<title>134612243933664</title>\n<polygon fill=\"none\" stroke=\"black\" points=\"471.5,-55.5 471.5,-91.5 574.5,-91.5 574.5,-55.5 471.5,-55.5\"/>\n<text text-anchor=\"middle\" x=\"483\" y=\"-69.8\" font-family=\"Times,serif\" font-size=\"14.00\">d</text>\n<polyline fill=\"none\" stroke=\"black\" points=\"494.5,-55.5 494.5,-91.5 \"/>\n<text text-anchor=\"middle\" x=\"534.5\" y=\"-69.8\" font-family=\"Times,serif\" font-size=\"14.00\">data 4.0000</text>\n</g>\n<!-- 134612243933664&#45;&gt;134612243932416* -->\n<g id=\"edge9\" class=\"edge\">\n<title>134612243933664&#45;&gt;134612243932416*</title>\n<path fill=\"none\" stroke=\"black\" d=\"M574.67,-61.06C584.43,-58.66 594.45,-56.2 603.55,-53.96\"/>\n<polygon fill=\"black\" stroke=\"black\" points=\"604.5,-57.33 613.37,-51.55 602.83,-50.54 604.5,-57.33\"/>\n</g>\n<!-- 134612243933664+&#45;&gt;134612243933664 -->\n<g id=\"edge3\" class=\"edge\">\n<title>134612243933664+&#45;&gt;134612243933664</title>\n<path fill=\"none\" stroke=\"black\" d=\"M434.15,-73.5C442.26,-73.5 451.57,-73.5 461.02,-73.5\"/>\n<polygon fill=\"black\" stroke=\"black\" points=\"461.28,-77 471.28,-73.5 461.28,-70 461.28,-77\"/>\n</g>\n</g>\n</svg>\n",
            "text/plain": [
              "<graphviz.graphs.Digraph at 0x7a6ddafb5330>"
            ]
          },
          "metadata": {},
          "execution_count": 180
        }
      ],
      "source": [
        "draw_dot(L, label)"
      ]
    },
    {
      "cell_type": "markdown",
      "metadata": {
        "id": "ZFTdp6CdVQAg"
      },
      "source": [
        "### Add `grad` to `Value` class"
      ]
    },
    {
      "cell_type": "code",
      "execution_count": 181,
      "metadata": {
        "id": "8QJcm9nwVQxZ"
      },
      "outputs": [],
      "source": [
        "class Value:\n",
        "    def __init__(self, data, _children=(), _op='', label=''):\n",
        "        self.data = data\n",
        "        self.grad = 0.0 # Add grad\n",
        "        self._prev = set(_children)\n",
        "        self._op = _op\n",
        "        self.label = label\n",
        "\n",
        "    def __repr__(self):\n",
        "        return f\"Value(label={self.label} data={self.data})\"\n",
        "\n",
        "    def __add__(self, other):\n",
        "        return Value(self.data + other.data, (self, other), '+')\n",
        "\n",
        "    def __mul__(self, other):\n",
        "        return Value(self.data * other.data, (self, other), '*')"
      ]
    },
    {
      "cell_type": "code",
      "execution_count": 182,
      "metadata": {
        "colab": {
          "base_uri": "https://localhost:8080/"
        },
        "id": "4B5EqM_LVVj7",
        "outputId": "2c631f81-736e-425a-9610-882a0d5628c5"
      },
      "outputs": [
        {
          "output_type": "execute_result",
          "data": {
            "text/plain": [
              "0.0"
            ]
          },
          "metadata": {},
          "execution_count": 182
        }
      ],
      "source": [
        "a = Value(2.0, label = 'a')\n",
        "b = Value(-3.0, label='b')\n",
        "c = Value(10, label = 'c')\n",
        "e = a*b; e.label = 'e'\n",
        "d = e + c; d.label = 'd'\n",
        "f = Value(-2.0, label='f')\n",
        "L = d * f; L.label = 'L'\n",
        "L.grad"
      ]
    },
    {
      "cell_type": "code",
      "execution_count": 183,
      "metadata": {
        "id": "FAPKRUBWVfHb"
      },
      "outputs": [],
      "source": [
        "def label(node): return \"{%s | {data %.4f} | grad %.4f}\" % (node.label, node.data, node.grad)"
      ]
    },
    {
      "cell_type": "code",
      "execution_count": 184,
      "metadata": {
        "colab": {
          "base_uri": "https://localhost:8080/",
          "height": 212
        },
        "id": "YIuHlZu5Vf4o",
        "outputId": "4022c02a-2f36-437f-a52b-abc91e98d19c"
      },
      "outputs": [
        {
          "output_type": "execute_result",
          "data": {
            "image/svg+xml": "<?xml version=\"1.0\" encoding=\"UTF-8\" standalone=\"no\"?>\n<!DOCTYPE svg PUBLIC \"-//W3C//DTD SVG 1.1//EN\"\n \"http://www.w3.org/Graphics/SVG/1.1/DTD/svg11.dtd\">\n<!-- Generated by graphviz version 2.43.0 (0)\n -->\n<!-- Title: %3 Pages: 1 -->\n<svg width=\"1148pt\" height=\"128pt\"\n viewBox=\"0.00 0.00 1148.00 128.00\" xmlns=\"http://www.w3.org/2000/svg\" xmlns:xlink=\"http://www.w3.org/1999/xlink\">\n<g id=\"graph0\" class=\"graph\" transform=\"scale(1 1) rotate(0) translate(4 124)\">\n<title>%3</title>\n<polygon fill=\"white\" stroke=\"transparent\" points=\"-4,4 -4,-124 1144,-124 1144,4 -4,4\"/>\n<!-- 134612241583648 -->\n<g id=\"node1\" class=\"node\">\n<title>134612241583648</title>\n<polygon fill=\"none\" stroke=\"black\" points=\"635.5,-27.5 635.5,-63.5 820.5,-63.5 820.5,-27.5 635.5,-27.5\"/>\n<text text-anchor=\"middle\" x=\"647\" y=\"-41.8\" font-family=\"Times,serif\" font-size=\"14.00\">d</text>\n<polyline fill=\"none\" stroke=\"black\" points=\"658.5,-27.5 658.5,-63.5 \"/>\n<text text-anchor=\"middle\" x=\"698.5\" y=\"-41.8\" font-family=\"Times,serif\" font-size=\"14.00\">data 4.0000</text>\n<polyline fill=\"none\" stroke=\"black\" points=\"738.5,-27.5 738.5,-63.5 \"/>\n<text text-anchor=\"middle\" x=\"779.5\" y=\"-41.8\" font-family=\"Times,serif\" font-size=\"14.00\">grad 0.0000</text>\n</g>\n<!-- 134612243938944* -->\n<g id=\"node6\" class=\"node\">\n<title>134612243938944*</title>\n<ellipse fill=\"none\" stroke=\"black\" cx=\"885\" cy=\"-72.5\" rx=\"27\" ry=\"18\"/>\n<text text-anchor=\"middle\" x=\"885\" y=\"-68.8\" font-family=\"Times,serif\" font-size=\"14.00\">*</text>\n</g>\n<!-- 134612241583648&#45;&gt;134612243938944* -->\n<g id=\"edge7\" class=\"edge\">\n<title>134612241583648&#45;&gt;134612243938944*</title>\n<path fill=\"none\" stroke=\"black\" d=\"M820.51,-61.44C830.48,-63.18 840.13,-64.86 848.77,-66.36\"/>\n<polygon fill=\"black\" stroke=\"black\" points=\"848.31,-69.84 858.77,-68.1 849.52,-62.94 848.31,-69.84\"/>\n</g>\n<!-- 134612241583648+ -->\n<g id=\"node2\" class=\"node\">\n<title>134612241583648+</title>\n<ellipse fill=\"none\" stroke=\"black\" cx=\"571\" cy=\"-45.5\" rx=\"27\" ry=\"18\"/>\n<text text-anchor=\"middle\" x=\"571\" y=\"-41.8\" font-family=\"Times,serif\" font-size=\"14.00\">+</text>\n</g>\n<!-- 134612241583648+&#45;&gt;134612241583648 -->\n<g id=\"edge1\" class=\"edge\">\n<title>134612241583648+&#45;&gt;134612241583648</title>\n<path fill=\"none\" stroke=\"black\" d=\"M598.29,-45.5C606.26,-45.5 615.54,-45.5 625.39,-45.5\"/>\n<polygon fill=\"black\" stroke=\"black\" points=\"625.41,-49 635.41,-45.5 625.41,-42 625.41,-49\"/>\n</g>\n<!-- 134612243936832 -->\n<g id=\"node3\" class=\"node\">\n<title>134612243936832</title>\n<polygon fill=\"none\" stroke=\"black\" points=\"634,-82.5 634,-118.5 822,-118.5 822,-82.5 634,-82.5\"/>\n<text text-anchor=\"middle\" x=\"644.5\" y=\"-96.8\" font-family=\"Times,serif\" font-size=\"14.00\">f</text>\n<polyline fill=\"none\" stroke=\"black\" points=\"655,-82.5 655,-118.5 \"/>\n<text text-anchor=\"middle\" x=\"697.5\" y=\"-96.8\" font-family=\"Times,serif\" font-size=\"14.00\">data &#45;2.0000</text>\n<polyline fill=\"none\" stroke=\"black\" points=\"740,-82.5 740,-118.5 \"/>\n<text text-anchor=\"middle\" x=\"781\" y=\"-96.8\" font-family=\"Times,serif\" font-size=\"14.00\">grad 0.0000</text>\n</g>\n<!-- 134612243936832&#45;&gt;134612243938944* -->\n<g id=\"edge6\" class=\"edge\">\n<title>134612243936832&#45;&gt;134612243938944*</title>\n<path fill=\"none\" stroke=\"black\" d=\"M822.29,-83.65C831.57,-81.97 840.52,-80.35 848.61,-78.89\"/>\n<polygon fill=\"black\" stroke=\"black\" points=\"849.46,-82.3 858.68,-77.07 848.21,-75.41 849.46,-82.3\"/>\n</g>\n<!-- 134612243938896 -->\n<g id=\"node4\" class=\"node\">\n<title>134612243938896</title>\n<polygon fill=\"none\" stroke=\"black\" points=\"0,-83.5 0,-119.5 190,-119.5 190,-83.5 0,-83.5\"/>\n<text text-anchor=\"middle\" x=\"11.5\" y=\"-97.8\" font-family=\"Times,serif\" font-size=\"14.00\">b</text>\n<polyline fill=\"none\" stroke=\"black\" points=\"23,-83.5 23,-119.5 \"/>\n<text text-anchor=\"middle\" x=\"65.5\" y=\"-97.8\" font-family=\"Times,serif\" font-size=\"14.00\">data &#45;3.0000</text>\n<polyline fill=\"none\" stroke=\"black\" points=\"108,-83.5 108,-119.5 \"/>\n<text text-anchor=\"middle\" x=\"149\" y=\"-97.8\" font-family=\"Times,serif\" font-size=\"14.00\">grad 0.0000</text>\n</g>\n<!-- 134612243935392* -->\n<g id=\"node8\" class=\"node\">\n<title>134612243935392*</title>\n<ellipse fill=\"none\" stroke=\"black\" cx=\"253\" cy=\"-73.5\" rx=\"27\" ry=\"18\"/>\n<text text-anchor=\"middle\" x=\"253\" y=\"-69.8\" font-family=\"Times,serif\" font-size=\"14.00\">*</text>\n</g>\n<!-- 134612243938896&#45;&gt;134612243935392* -->\n<g id=\"edge9\" class=\"edge\">\n<title>134612243938896&#45;&gt;134612243935392*</title>\n<path fill=\"none\" stroke=\"black\" d=\"M190.34,-84.57C199.62,-82.9 208.58,-81.29 216.66,-79.84\"/>\n<polygon fill=\"black\" stroke=\"black\" points=\"217.49,-83.25 226.72,-78.04 216.26,-76.36 217.49,-83.25\"/>\n</g>\n<!-- 134612243938944 -->\n<g id=\"node5\" class=\"node\">\n<title>134612243938944</title>\n<polygon fill=\"none\" stroke=\"black\" points=\"948,-54.5 948,-90.5 1140,-90.5 1140,-54.5 948,-54.5\"/>\n<text text-anchor=\"middle\" x=\"960.5\" y=\"-68.8\" font-family=\"Times,serif\" font-size=\"14.00\">L</text>\n<polyline fill=\"none\" stroke=\"black\" points=\"973,-54.5 973,-90.5 \"/>\n<text text-anchor=\"middle\" x=\"1015.5\" y=\"-68.8\" font-family=\"Times,serif\" font-size=\"14.00\">data &#45;8.0000</text>\n<polyline fill=\"none\" stroke=\"black\" points=\"1058,-54.5 1058,-90.5 \"/>\n<text text-anchor=\"middle\" x=\"1099\" y=\"-68.8\" font-family=\"Times,serif\" font-size=\"14.00\">grad 0.0000</text>\n</g>\n<!-- 134612243938944*&#45;&gt;134612243938944 -->\n<g id=\"edge2\" class=\"edge\">\n<title>134612243938944*&#45;&gt;134612243938944</title>\n<path fill=\"none\" stroke=\"black\" d=\"M912.28,-72.5C919.78,-72.5 928.44,-72.5 937.67,-72.5\"/>\n<polygon fill=\"black\" stroke=\"black\" points=\"937.87,-76 947.87,-72.5 937.87,-69 937.87,-76\"/>\n</g>\n<!-- 134612243935392 -->\n<g id=\"node7\" class=\"node\">\n<title>134612243935392</title>\n<polygon fill=\"none\" stroke=\"black\" points=\"317,-55.5 317,-91.5 507,-91.5 507,-55.5 317,-55.5\"/>\n<text text-anchor=\"middle\" x=\"328.5\" y=\"-69.8\" font-family=\"Times,serif\" font-size=\"14.00\">e</text>\n<polyline fill=\"none\" stroke=\"black\" points=\"340,-55.5 340,-91.5 \"/>\n<text text-anchor=\"middle\" x=\"382.5\" y=\"-69.8\" font-family=\"Times,serif\" font-size=\"14.00\">data &#45;6.0000</text>\n<polyline fill=\"none\" stroke=\"black\" points=\"425,-55.5 425,-91.5 \"/>\n<text text-anchor=\"middle\" x=\"466\" y=\"-69.8\" font-family=\"Times,serif\" font-size=\"14.00\">grad 0.0000</text>\n</g>\n<!-- 134612243935392&#45;&gt;134612241583648+ -->\n<g id=\"edge4\" class=\"edge\">\n<title>134612243935392&#45;&gt;134612241583648+</title>\n<path fill=\"none\" stroke=\"black\" d=\"M507.05,-56.73C516.89,-54.97 526.39,-53.28 534.9,-51.76\"/>\n<polygon fill=\"black\" stroke=\"black\" points=\"535.52,-55.2 544.75,-50 534.29,-48.31 535.52,-55.2\"/>\n</g>\n<!-- 134612243935392*&#45;&gt;134612243935392 -->\n<g id=\"edge3\" class=\"edge\">\n<title>134612243935392*&#45;&gt;134612243935392</title>\n<path fill=\"none\" stroke=\"black\" d=\"M280.28,-73.5C288.05,-73.5 297.08,-73.5 306.68,-73.5\"/>\n<polygon fill=\"black\" stroke=\"black\" points=\"306.88,-77 316.88,-73.5 306.88,-70 306.88,-77\"/>\n</g>\n<!-- 134612243937456 -->\n<g id=\"node9\" class=\"node\">\n<title>134612243937456</title>\n<polygon fill=\"none\" stroke=\"black\" points=\"2.5,-28.5 2.5,-64.5 187.5,-64.5 187.5,-28.5 2.5,-28.5\"/>\n<text text-anchor=\"middle\" x=\"14\" y=\"-42.8\" font-family=\"Times,serif\" font-size=\"14.00\">a</text>\n<polyline fill=\"none\" stroke=\"black\" points=\"25.5,-28.5 25.5,-64.5 \"/>\n<text text-anchor=\"middle\" x=\"65.5\" y=\"-42.8\" font-family=\"Times,serif\" font-size=\"14.00\">data 2.0000</text>\n<polyline fill=\"none\" stroke=\"black\" points=\"105.5,-28.5 105.5,-64.5 \"/>\n<text text-anchor=\"middle\" x=\"146.5\" y=\"-42.8\" font-family=\"Times,serif\" font-size=\"14.00\">grad 0.0000</text>\n</g>\n<!-- 134612243937456&#45;&gt;134612243935392* -->\n<g id=\"edge8\" class=\"edge\">\n<title>134612243937456&#45;&gt;134612243935392*</title>\n<path fill=\"none\" stroke=\"black\" d=\"M187.65,-62.36C197.94,-64.14 207.91,-65.87 216.81,-67.41\"/>\n<polygon fill=\"black\" stroke=\"black\" points=\"216.26,-70.87 226.71,-69.12 217.45,-63.97 216.26,-70.87\"/>\n</g>\n<!-- 134612243929392 -->\n<g id=\"node10\" class=\"node\">\n<title>134612243929392</title>\n<polygon fill=\"none\" stroke=\"black\" points=\"316,-0.5 316,-36.5 508,-36.5 508,-0.5 316,-0.5\"/>\n<text text-anchor=\"middle\" x=\"327.5\" y=\"-14.8\" font-family=\"Times,serif\" font-size=\"14.00\">c</text>\n<polyline fill=\"none\" stroke=\"black\" points=\"339,-0.5 339,-36.5 \"/>\n<text text-anchor=\"middle\" x=\"382.5\" y=\"-14.8\" font-family=\"Times,serif\" font-size=\"14.00\">data 10.0000</text>\n<polyline fill=\"none\" stroke=\"black\" points=\"426,-0.5 426,-36.5 \"/>\n<text text-anchor=\"middle\" x=\"467\" y=\"-14.8\" font-family=\"Times,serif\" font-size=\"14.00\">grad 0.0000</text>\n</g>\n<!-- 134612243929392&#45;&gt;134612241583648+ -->\n<g id=\"edge5\" class=\"edge\">\n<title>134612243929392&#45;&gt;134612241583648+</title>\n<path fill=\"none\" stroke=\"black\" d=\"M508.4,-34.91C517.69,-36.5 526.64,-38.04 534.71,-39.43\"/>\n<polygon fill=\"black\" stroke=\"black\" points=\"534.32,-42.91 544.76,-41.16 535.5,-36.02 534.32,-42.91\"/>\n</g>\n</g>\n</svg>\n",
            "text/plain": [
              "<graphviz.graphs.Digraph at 0x7a6ddafb6740>"
            ]
          },
          "metadata": {},
          "execution_count": 184
        }
      ],
      "source": [
        "draw_dot(L, label)"
      ]
    },
    {
      "cell_type": "markdown",
      "metadata": {
        "id": "E5rODVOVWbf-"
      },
      "source": [
        "### Create a function `lol`\n",
        "#### Derive with respect to `a`"
      ]
    },
    {
      "cell_type": "code",
      "execution_count": 185,
      "metadata": {
        "colab": {
          "base_uri": "https://localhost:8080/"
        },
        "id": "zzid-93jWcd-",
        "outputId": "d90f776a-0bd1-4f73-d8d1-4a829f1b65f9"
      },
      "outputs": [
        {
          "output_type": "stream",
          "name": "stdout",
          "text": [
            "6.000000000000227\n"
          ]
        }
      ],
      "source": [
        "def lol():\n",
        "\n",
        "  h = 0.001\n",
        "\n",
        "  a = Value(2.0, label = 'a')\n",
        "  b = Value(-3.0, label='b')\n",
        "  c = Value(10, label = 'c')\n",
        "  e = a*b; e.label = 'e'\n",
        "  d = e + c; d.label = 'd'\n",
        "  f = Value(-2.0, label='f')\n",
        "  L = d * f; L.label = 'L'\n",
        "  L1 = L.data\n",
        "\n",
        "  a = Value(2.0 + h, label = 'a')\n",
        "  b = Value(-3.0, label='b')\n",
        "  c = Value(10, label = 'c')\n",
        "  e = a*b; e.label = 'e'\n",
        "  d = e + c; d.label = 'd'\n",
        "  f = Value(-2.0, label='f')\n",
        "  L = d * f; L.label = 'L'\n",
        "  L2 = L.data\n",
        "\n",
        "  print((L2 - L1)/h)\n",
        "\n",
        "lol()"
      ]
    },
    {
      "cell_type": "markdown",
      "metadata": {
        "id": "lrDDCb2daop6"
      },
      "source": [
        "#### Derive with respect to `L`"
      ]
    },
    {
      "cell_type": "code",
      "execution_count": 186,
      "metadata": {
        "colab": {
          "base_uri": "https://localhost:8080/"
        },
        "id": "FWVANUzFapgq",
        "outputId": "a62c3667-1533-4e11-85f0-f67d30f6997f"
      },
      "outputs": [
        {
          "output_type": "stream",
          "name": "stdout",
          "text": [
            "1.000000000000334\n"
          ]
        }
      ],
      "source": [
        "def lol():\n",
        "\n",
        "  h = 0.001\n",
        "\n",
        "  a = Value(2.0, label = 'a')\n",
        "  b = Value(-3.0, label='b')\n",
        "  c = Value(10, label = 'c')\n",
        "  e = a*b; e.label = 'e'\n",
        "  d = e + c; d.label = 'd'\n",
        "  f = Value(-2.0, label='f')\n",
        "  L = d * f; L.label = 'L'\n",
        "  L1 = L.data\n",
        "\n",
        "  a = Value(2.0, label = 'a')\n",
        "  b = Value(-3.0, label='b')\n",
        "  c = Value(10, label = 'c')\n",
        "  e = a*b; e.label = 'e'\n",
        "  d = e + c; d.label = 'd'\n",
        "  f = Value(-2.0, label='f')\n",
        "  L = d * f; L.label = 'L'\n",
        "  L2 = L.data + h\n",
        "\n",
        "  print((L2 - L1)/h)\n",
        "\n",
        "lol()"
      ]
    },
    {
      "cell_type": "code",
      "execution_count": 187,
      "metadata": {
        "id": "k9V92ZbbbDG5"
      },
      "outputs": [],
      "source": [
        "L.grad = 1.0"
      ]
    },
    {
      "cell_type": "code",
      "execution_count": 188,
      "metadata": {
        "colab": {
          "base_uri": "https://localhost:8080/",
          "height": 212
        },
        "id": "tgpGm10hbFrs",
        "outputId": "d55898fb-9db8-4a00-aaed-da7436c65ce4"
      },
      "outputs": [
        {
          "output_type": "execute_result",
          "data": {
            "image/svg+xml": "<?xml version=\"1.0\" encoding=\"UTF-8\" standalone=\"no\"?>\n<!DOCTYPE svg PUBLIC \"-//W3C//DTD SVG 1.1//EN\"\n \"http://www.w3.org/Graphics/SVG/1.1/DTD/svg11.dtd\">\n<!-- Generated by graphviz version 2.43.0 (0)\n -->\n<!-- Title: %3 Pages: 1 -->\n<svg width=\"1148pt\" height=\"128pt\"\n viewBox=\"0.00 0.00 1148.00 128.00\" xmlns=\"http://www.w3.org/2000/svg\" xmlns:xlink=\"http://www.w3.org/1999/xlink\">\n<g id=\"graph0\" class=\"graph\" transform=\"scale(1 1) rotate(0) translate(4 124)\">\n<title>%3</title>\n<polygon fill=\"white\" stroke=\"transparent\" points=\"-4,4 -4,-124 1144,-124 1144,4 -4,4\"/>\n<!-- 134612241583648 -->\n<g id=\"node1\" class=\"node\">\n<title>134612241583648</title>\n<polygon fill=\"none\" stroke=\"black\" points=\"635.5,-27.5 635.5,-63.5 820.5,-63.5 820.5,-27.5 635.5,-27.5\"/>\n<text text-anchor=\"middle\" x=\"647\" y=\"-41.8\" font-family=\"Times,serif\" font-size=\"14.00\">d</text>\n<polyline fill=\"none\" stroke=\"black\" points=\"658.5,-27.5 658.5,-63.5 \"/>\n<text text-anchor=\"middle\" x=\"698.5\" y=\"-41.8\" font-family=\"Times,serif\" font-size=\"14.00\">data 4.0000</text>\n<polyline fill=\"none\" stroke=\"black\" points=\"738.5,-27.5 738.5,-63.5 \"/>\n<text text-anchor=\"middle\" x=\"779.5\" y=\"-41.8\" font-family=\"Times,serif\" font-size=\"14.00\">grad 0.0000</text>\n</g>\n<!-- 134612243938944* -->\n<g id=\"node6\" class=\"node\">\n<title>134612243938944*</title>\n<ellipse fill=\"none\" stroke=\"black\" cx=\"885\" cy=\"-72.5\" rx=\"27\" ry=\"18\"/>\n<text text-anchor=\"middle\" x=\"885\" y=\"-68.8\" font-family=\"Times,serif\" font-size=\"14.00\">*</text>\n</g>\n<!-- 134612241583648&#45;&gt;134612243938944* -->\n<g id=\"edge7\" class=\"edge\">\n<title>134612241583648&#45;&gt;134612243938944*</title>\n<path fill=\"none\" stroke=\"black\" d=\"M820.51,-61.44C830.48,-63.18 840.13,-64.86 848.77,-66.36\"/>\n<polygon fill=\"black\" stroke=\"black\" points=\"848.31,-69.84 858.77,-68.1 849.52,-62.94 848.31,-69.84\"/>\n</g>\n<!-- 134612241583648+ -->\n<g id=\"node2\" class=\"node\">\n<title>134612241583648+</title>\n<ellipse fill=\"none\" stroke=\"black\" cx=\"571\" cy=\"-45.5\" rx=\"27\" ry=\"18\"/>\n<text text-anchor=\"middle\" x=\"571\" y=\"-41.8\" font-family=\"Times,serif\" font-size=\"14.00\">+</text>\n</g>\n<!-- 134612241583648+&#45;&gt;134612241583648 -->\n<g id=\"edge1\" class=\"edge\">\n<title>134612241583648+&#45;&gt;134612241583648</title>\n<path fill=\"none\" stroke=\"black\" d=\"M598.29,-45.5C606.26,-45.5 615.54,-45.5 625.39,-45.5\"/>\n<polygon fill=\"black\" stroke=\"black\" points=\"625.41,-49 635.41,-45.5 625.41,-42 625.41,-49\"/>\n</g>\n<!-- 134612243936832 -->\n<g id=\"node3\" class=\"node\">\n<title>134612243936832</title>\n<polygon fill=\"none\" stroke=\"black\" points=\"634,-82.5 634,-118.5 822,-118.5 822,-82.5 634,-82.5\"/>\n<text text-anchor=\"middle\" x=\"644.5\" y=\"-96.8\" font-family=\"Times,serif\" font-size=\"14.00\">f</text>\n<polyline fill=\"none\" stroke=\"black\" points=\"655,-82.5 655,-118.5 \"/>\n<text text-anchor=\"middle\" x=\"697.5\" y=\"-96.8\" font-family=\"Times,serif\" font-size=\"14.00\">data &#45;2.0000</text>\n<polyline fill=\"none\" stroke=\"black\" points=\"740,-82.5 740,-118.5 \"/>\n<text text-anchor=\"middle\" x=\"781\" y=\"-96.8\" font-family=\"Times,serif\" font-size=\"14.00\">grad 0.0000</text>\n</g>\n<!-- 134612243936832&#45;&gt;134612243938944* -->\n<g id=\"edge6\" class=\"edge\">\n<title>134612243936832&#45;&gt;134612243938944*</title>\n<path fill=\"none\" stroke=\"black\" d=\"M822.29,-83.65C831.57,-81.97 840.52,-80.35 848.61,-78.89\"/>\n<polygon fill=\"black\" stroke=\"black\" points=\"849.46,-82.3 858.68,-77.07 848.21,-75.41 849.46,-82.3\"/>\n</g>\n<!-- 134612243938896 -->\n<g id=\"node4\" class=\"node\">\n<title>134612243938896</title>\n<polygon fill=\"none\" stroke=\"black\" points=\"0,-83.5 0,-119.5 190,-119.5 190,-83.5 0,-83.5\"/>\n<text text-anchor=\"middle\" x=\"11.5\" y=\"-97.8\" font-family=\"Times,serif\" font-size=\"14.00\">b</text>\n<polyline fill=\"none\" stroke=\"black\" points=\"23,-83.5 23,-119.5 \"/>\n<text text-anchor=\"middle\" x=\"65.5\" y=\"-97.8\" font-family=\"Times,serif\" font-size=\"14.00\">data &#45;3.0000</text>\n<polyline fill=\"none\" stroke=\"black\" points=\"108,-83.5 108,-119.5 \"/>\n<text text-anchor=\"middle\" x=\"149\" y=\"-97.8\" font-family=\"Times,serif\" font-size=\"14.00\">grad 0.0000</text>\n</g>\n<!-- 134612243935392* -->\n<g id=\"node8\" class=\"node\">\n<title>134612243935392*</title>\n<ellipse fill=\"none\" stroke=\"black\" cx=\"253\" cy=\"-73.5\" rx=\"27\" ry=\"18\"/>\n<text text-anchor=\"middle\" x=\"253\" y=\"-69.8\" font-family=\"Times,serif\" font-size=\"14.00\">*</text>\n</g>\n<!-- 134612243938896&#45;&gt;134612243935392* -->\n<g id=\"edge9\" class=\"edge\">\n<title>134612243938896&#45;&gt;134612243935392*</title>\n<path fill=\"none\" stroke=\"black\" d=\"M190.34,-84.57C199.62,-82.9 208.58,-81.29 216.66,-79.84\"/>\n<polygon fill=\"black\" stroke=\"black\" points=\"217.49,-83.25 226.72,-78.04 216.26,-76.36 217.49,-83.25\"/>\n</g>\n<!-- 134612243938944 -->\n<g id=\"node5\" class=\"node\">\n<title>134612243938944</title>\n<polygon fill=\"none\" stroke=\"black\" points=\"948,-54.5 948,-90.5 1140,-90.5 1140,-54.5 948,-54.5\"/>\n<text text-anchor=\"middle\" x=\"960.5\" y=\"-68.8\" font-family=\"Times,serif\" font-size=\"14.00\">L</text>\n<polyline fill=\"none\" stroke=\"black\" points=\"973,-54.5 973,-90.5 \"/>\n<text text-anchor=\"middle\" x=\"1015.5\" y=\"-68.8\" font-family=\"Times,serif\" font-size=\"14.00\">data &#45;8.0000</text>\n<polyline fill=\"none\" stroke=\"black\" points=\"1058,-54.5 1058,-90.5 \"/>\n<text text-anchor=\"middle\" x=\"1099\" y=\"-68.8\" font-family=\"Times,serif\" font-size=\"14.00\">grad 1.0000</text>\n</g>\n<!-- 134612243938944*&#45;&gt;134612243938944 -->\n<g id=\"edge2\" class=\"edge\">\n<title>134612243938944*&#45;&gt;134612243938944</title>\n<path fill=\"none\" stroke=\"black\" d=\"M912.28,-72.5C919.78,-72.5 928.44,-72.5 937.67,-72.5\"/>\n<polygon fill=\"black\" stroke=\"black\" points=\"937.87,-76 947.87,-72.5 937.87,-69 937.87,-76\"/>\n</g>\n<!-- 134612243935392 -->\n<g id=\"node7\" class=\"node\">\n<title>134612243935392</title>\n<polygon fill=\"none\" stroke=\"black\" points=\"317,-55.5 317,-91.5 507,-91.5 507,-55.5 317,-55.5\"/>\n<text text-anchor=\"middle\" x=\"328.5\" y=\"-69.8\" font-family=\"Times,serif\" font-size=\"14.00\">e</text>\n<polyline fill=\"none\" stroke=\"black\" points=\"340,-55.5 340,-91.5 \"/>\n<text text-anchor=\"middle\" x=\"382.5\" y=\"-69.8\" font-family=\"Times,serif\" font-size=\"14.00\">data &#45;6.0000</text>\n<polyline fill=\"none\" stroke=\"black\" points=\"425,-55.5 425,-91.5 \"/>\n<text text-anchor=\"middle\" x=\"466\" y=\"-69.8\" font-family=\"Times,serif\" font-size=\"14.00\">grad 0.0000</text>\n</g>\n<!-- 134612243935392&#45;&gt;134612241583648+ -->\n<g id=\"edge4\" class=\"edge\">\n<title>134612243935392&#45;&gt;134612241583648+</title>\n<path fill=\"none\" stroke=\"black\" d=\"M507.05,-56.73C516.89,-54.97 526.39,-53.28 534.9,-51.76\"/>\n<polygon fill=\"black\" stroke=\"black\" points=\"535.52,-55.2 544.75,-50 534.29,-48.31 535.52,-55.2\"/>\n</g>\n<!-- 134612243935392*&#45;&gt;134612243935392 -->\n<g id=\"edge3\" class=\"edge\">\n<title>134612243935392*&#45;&gt;134612243935392</title>\n<path fill=\"none\" stroke=\"black\" d=\"M280.28,-73.5C288.05,-73.5 297.08,-73.5 306.68,-73.5\"/>\n<polygon fill=\"black\" stroke=\"black\" points=\"306.88,-77 316.88,-73.5 306.88,-70 306.88,-77\"/>\n</g>\n<!-- 134612243937456 -->\n<g id=\"node9\" class=\"node\">\n<title>134612243937456</title>\n<polygon fill=\"none\" stroke=\"black\" points=\"2.5,-28.5 2.5,-64.5 187.5,-64.5 187.5,-28.5 2.5,-28.5\"/>\n<text text-anchor=\"middle\" x=\"14\" y=\"-42.8\" font-family=\"Times,serif\" font-size=\"14.00\">a</text>\n<polyline fill=\"none\" stroke=\"black\" points=\"25.5,-28.5 25.5,-64.5 \"/>\n<text text-anchor=\"middle\" x=\"65.5\" y=\"-42.8\" font-family=\"Times,serif\" font-size=\"14.00\">data 2.0000</text>\n<polyline fill=\"none\" stroke=\"black\" points=\"105.5,-28.5 105.5,-64.5 \"/>\n<text text-anchor=\"middle\" x=\"146.5\" y=\"-42.8\" font-family=\"Times,serif\" font-size=\"14.00\">grad 0.0000</text>\n</g>\n<!-- 134612243937456&#45;&gt;134612243935392* -->\n<g id=\"edge8\" class=\"edge\">\n<title>134612243937456&#45;&gt;134612243935392*</title>\n<path fill=\"none\" stroke=\"black\" d=\"M187.65,-62.36C197.94,-64.14 207.91,-65.87 216.81,-67.41\"/>\n<polygon fill=\"black\" stroke=\"black\" points=\"216.26,-70.87 226.71,-69.12 217.45,-63.97 216.26,-70.87\"/>\n</g>\n<!-- 134612243929392 -->\n<g id=\"node10\" class=\"node\">\n<title>134612243929392</title>\n<polygon fill=\"none\" stroke=\"black\" points=\"316,-0.5 316,-36.5 508,-36.5 508,-0.5 316,-0.5\"/>\n<text text-anchor=\"middle\" x=\"327.5\" y=\"-14.8\" font-family=\"Times,serif\" font-size=\"14.00\">c</text>\n<polyline fill=\"none\" stroke=\"black\" points=\"339,-0.5 339,-36.5 \"/>\n<text text-anchor=\"middle\" x=\"382.5\" y=\"-14.8\" font-family=\"Times,serif\" font-size=\"14.00\">data 10.0000</text>\n<polyline fill=\"none\" stroke=\"black\" points=\"426,-0.5 426,-36.5 \"/>\n<text text-anchor=\"middle\" x=\"467\" y=\"-14.8\" font-family=\"Times,serif\" font-size=\"14.00\">grad 0.0000</text>\n</g>\n<!-- 134612243929392&#45;&gt;134612241583648+ -->\n<g id=\"edge5\" class=\"edge\">\n<title>134612243929392&#45;&gt;134612241583648+</title>\n<path fill=\"none\" stroke=\"black\" d=\"M508.4,-34.91C517.69,-36.5 526.64,-38.04 534.71,-39.43\"/>\n<polygon fill=\"black\" stroke=\"black\" points=\"534.32,-42.91 544.76,-41.16 535.5,-36.02 534.32,-42.91\"/>\n</g>\n</g>\n</svg>\n",
            "text/plain": [
              "<graphviz.graphs.Digraph at 0x7a6ddafb4eb0>"
            ]
          },
          "metadata": {},
          "execution_count": 188
        }
      ],
      "source": [
        "draw_dot(L, label)"
      ]
    },
    {
      "cell_type": "markdown",
      "metadata": {
        "id": "hX_0nazjbbE-"
      },
      "source": [
        "\n",
        "#### Derivative of `L` with respect to `f`\n",
        "\n",
        "$$ L = f \\cdot d $$\n",
        "\n",
        "$$ \\frac{\\partial L}{\\partial f} = \\frac{\\partial (f \\cdot d)}{\\partial f} = d = 4.0 $$\n",
        "\n"
      ]
    },
    {
      "cell_type": "code",
      "execution_count": 189,
      "metadata": {
        "colab": {
          "base_uri": "https://localhost:8080/"
        },
        "id": "Vz0RkJcmbm9-",
        "outputId": "f83e2f94-8360-41e4-ea0c-566f8bb5b909"
      },
      "outputs": [
        {
          "output_type": "stream",
          "name": "stdout",
          "text": [
            "3.9999999999995595\n"
          ]
        }
      ],
      "source": [
        "def lol():\n",
        "\n",
        "  h = 0.001\n",
        "\n",
        "  a = Value(2.0, label = 'a')\n",
        "  b = Value(-3.0, label='b')\n",
        "  c = Value(10, label = 'c')\n",
        "  e = a*b; e.label = 'e'\n",
        "  d = e + c; d.label = 'd'\n",
        "  f = Value(-2.0, label='f')\n",
        "  L = d * f; L.label = 'L'\n",
        "  L1 = L.data\n",
        "\n",
        "  a = Value(2.0, label = 'a')\n",
        "  b = Value(-3.0, label='b')\n",
        "  c = Value(10, label = 'c')\n",
        "  e = a*b; e.label = 'e'\n",
        "  d = e + c; d.label = 'd'\n",
        "  f = Value(-2.0 + h, label='f')\n",
        "  L = d * f; L.label = 'L'\n",
        "  L2 = L.data\n",
        "\n",
        "  print((L2 - L1)/h)\n",
        "\n",
        "lol()"
      ]
    },
    {
      "cell_type": "code",
      "execution_count": 190,
      "metadata": {
        "id": "wl_4q9KebdYj"
      },
      "outputs": [],
      "source": [
        "f.grad = 4.0"
      ]
    },
    {
      "cell_type": "code",
      "execution_count": 191,
      "metadata": {
        "colab": {
          "base_uri": "https://localhost:8080/",
          "height": 212
        },
        "id": "pnYmttTrb7io",
        "outputId": "7782fe53-0b82-4d03-fa11-c71e9575769c"
      },
      "outputs": [
        {
          "output_type": "execute_result",
          "data": {
            "image/svg+xml": "<?xml version=\"1.0\" encoding=\"UTF-8\" standalone=\"no\"?>\n<!DOCTYPE svg PUBLIC \"-//W3C//DTD SVG 1.1//EN\"\n \"http://www.w3.org/Graphics/SVG/1.1/DTD/svg11.dtd\">\n<!-- Generated by graphviz version 2.43.0 (0)\n -->\n<!-- Title: %3 Pages: 1 -->\n<svg width=\"1148pt\" height=\"128pt\"\n viewBox=\"0.00 0.00 1148.00 128.00\" xmlns=\"http://www.w3.org/2000/svg\" xmlns:xlink=\"http://www.w3.org/1999/xlink\">\n<g id=\"graph0\" class=\"graph\" transform=\"scale(1 1) rotate(0) translate(4 124)\">\n<title>%3</title>\n<polygon fill=\"white\" stroke=\"transparent\" points=\"-4,4 -4,-124 1144,-124 1144,4 -4,4\"/>\n<!-- 134612241583648 -->\n<g id=\"node1\" class=\"node\">\n<title>134612241583648</title>\n<polygon fill=\"none\" stroke=\"black\" points=\"635.5,-27.5 635.5,-63.5 820.5,-63.5 820.5,-27.5 635.5,-27.5\"/>\n<text text-anchor=\"middle\" x=\"647\" y=\"-41.8\" font-family=\"Times,serif\" font-size=\"14.00\">d</text>\n<polyline fill=\"none\" stroke=\"black\" points=\"658.5,-27.5 658.5,-63.5 \"/>\n<text text-anchor=\"middle\" x=\"698.5\" y=\"-41.8\" font-family=\"Times,serif\" font-size=\"14.00\">data 4.0000</text>\n<polyline fill=\"none\" stroke=\"black\" points=\"738.5,-27.5 738.5,-63.5 \"/>\n<text text-anchor=\"middle\" x=\"779.5\" y=\"-41.8\" font-family=\"Times,serif\" font-size=\"14.00\">grad 0.0000</text>\n</g>\n<!-- 134612243938944* -->\n<g id=\"node6\" class=\"node\">\n<title>134612243938944*</title>\n<ellipse fill=\"none\" stroke=\"black\" cx=\"885\" cy=\"-72.5\" rx=\"27\" ry=\"18\"/>\n<text text-anchor=\"middle\" x=\"885\" y=\"-68.8\" font-family=\"Times,serif\" font-size=\"14.00\">*</text>\n</g>\n<!-- 134612241583648&#45;&gt;134612243938944* -->\n<g id=\"edge7\" class=\"edge\">\n<title>134612241583648&#45;&gt;134612243938944*</title>\n<path fill=\"none\" stroke=\"black\" d=\"M820.51,-61.44C830.48,-63.18 840.13,-64.86 848.77,-66.36\"/>\n<polygon fill=\"black\" stroke=\"black\" points=\"848.31,-69.84 858.77,-68.1 849.52,-62.94 848.31,-69.84\"/>\n</g>\n<!-- 134612241583648+ -->\n<g id=\"node2\" class=\"node\">\n<title>134612241583648+</title>\n<ellipse fill=\"none\" stroke=\"black\" cx=\"571\" cy=\"-45.5\" rx=\"27\" ry=\"18\"/>\n<text text-anchor=\"middle\" x=\"571\" y=\"-41.8\" font-family=\"Times,serif\" font-size=\"14.00\">+</text>\n</g>\n<!-- 134612241583648+&#45;&gt;134612241583648 -->\n<g id=\"edge1\" class=\"edge\">\n<title>134612241583648+&#45;&gt;134612241583648</title>\n<path fill=\"none\" stroke=\"black\" d=\"M598.29,-45.5C606.26,-45.5 615.54,-45.5 625.39,-45.5\"/>\n<polygon fill=\"black\" stroke=\"black\" points=\"625.41,-49 635.41,-45.5 625.41,-42 625.41,-49\"/>\n</g>\n<!-- 134612243936832 -->\n<g id=\"node3\" class=\"node\">\n<title>134612243936832</title>\n<polygon fill=\"none\" stroke=\"black\" points=\"634,-82.5 634,-118.5 822,-118.5 822,-82.5 634,-82.5\"/>\n<text text-anchor=\"middle\" x=\"644.5\" y=\"-96.8\" font-family=\"Times,serif\" font-size=\"14.00\">f</text>\n<polyline fill=\"none\" stroke=\"black\" points=\"655,-82.5 655,-118.5 \"/>\n<text text-anchor=\"middle\" x=\"697.5\" y=\"-96.8\" font-family=\"Times,serif\" font-size=\"14.00\">data &#45;2.0000</text>\n<polyline fill=\"none\" stroke=\"black\" points=\"740,-82.5 740,-118.5 \"/>\n<text text-anchor=\"middle\" x=\"781\" y=\"-96.8\" font-family=\"Times,serif\" font-size=\"14.00\">grad 4.0000</text>\n</g>\n<!-- 134612243936832&#45;&gt;134612243938944* -->\n<g id=\"edge6\" class=\"edge\">\n<title>134612243936832&#45;&gt;134612243938944*</title>\n<path fill=\"none\" stroke=\"black\" d=\"M822.29,-83.65C831.57,-81.97 840.52,-80.35 848.61,-78.89\"/>\n<polygon fill=\"black\" stroke=\"black\" points=\"849.46,-82.3 858.68,-77.07 848.21,-75.41 849.46,-82.3\"/>\n</g>\n<!-- 134612243938896 -->\n<g id=\"node4\" class=\"node\">\n<title>134612243938896</title>\n<polygon fill=\"none\" stroke=\"black\" points=\"0,-83.5 0,-119.5 190,-119.5 190,-83.5 0,-83.5\"/>\n<text text-anchor=\"middle\" x=\"11.5\" y=\"-97.8\" font-family=\"Times,serif\" font-size=\"14.00\">b</text>\n<polyline fill=\"none\" stroke=\"black\" points=\"23,-83.5 23,-119.5 \"/>\n<text text-anchor=\"middle\" x=\"65.5\" y=\"-97.8\" font-family=\"Times,serif\" font-size=\"14.00\">data &#45;3.0000</text>\n<polyline fill=\"none\" stroke=\"black\" points=\"108,-83.5 108,-119.5 \"/>\n<text text-anchor=\"middle\" x=\"149\" y=\"-97.8\" font-family=\"Times,serif\" font-size=\"14.00\">grad 0.0000</text>\n</g>\n<!-- 134612243935392* -->\n<g id=\"node8\" class=\"node\">\n<title>134612243935392*</title>\n<ellipse fill=\"none\" stroke=\"black\" cx=\"253\" cy=\"-73.5\" rx=\"27\" ry=\"18\"/>\n<text text-anchor=\"middle\" x=\"253\" y=\"-69.8\" font-family=\"Times,serif\" font-size=\"14.00\">*</text>\n</g>\n<!-- 134612243938896&#45;&gt;134612243935392* -->\n<g id=\"edge9\" class=\"edge\">\n<title>134612243938896&#45;&gt;134612243935392*</title>\n<path fill=\"none\" stroke=\"black\" d=\"M190.34,-84.57C199.62,-82.9 208.58,-81.29 216.66,-79.84\"/>\n<polygon fill=\"black\" stroke=\"black\" points=\"217.49,-83.25 226.72,-78.04 216.26,-76.36 217.49,-83.25\"/>\n</g>\n<!-- 134612243938944 -->\n<g id=\"node5\" class=\"node\">\n<title>134612243938944</title>\n<polygon fill=\"none\" stroke=\"black\" points=\"948,-54.5 948,-90.5 1140,-90.5 1140,-54.5 948,-54.5\"/>\n<text text-anchor=\"middle\" x=\"960.5\" y=\"-68.8\" font-family=\"Times,serif\" font-size=\"14.00\">L</text>\n<polyline fill=\"none\" stroke=\"black\" points=\"973,-54.5 973,-90.5 \"/>\n<text text-anchor=\"middle\" x=\"1015.5\" y=\"-68.8\" font-family=\"Times,serif\" font-size=\"14.00\">data &#45;8.0000</text>\n<polyline fill=\"none\" stroke=\"black\" points=\"1058,-54.5 1058,-90.5 \"/>\n<text text-anchor=\"middle\" x=\"1099\" y=\"-68.8\" font-family=\"Times,serif\" font-size=\"14.00\">grad 1.0000</text>\n</g>\n<!-- 134612243938944*&#45;&gt;134612243938944 -->\n<g id=\"edge2\" class=\"edge\">\n<title>134612243938944*&#45;&gt;134612243938944</title>\n<path fill=\"none\" stroke=\"black\" d=\"M912.28,-72.5C919.78,-72.5 928.44,-72.5 937.67,-72.5\"/>\n<polygon fill=\"black\" stroke=\"black\" points=\"937.87,-76 947.87,-72.5 937.87,-69 937.87,-76\"/>\n</g>\n<!-- 134612243935392 -->\n<g id=\"node7\" class=\"node\">\n<title>134612243935392</title>\n<polygon fill=\"none\" stroke=\"black\" points=\"317,-55.5 317,-91.5 507,-91.5 507,-55.5 317,-55.5\"/>\n<text text-anchor=\"middle\" x=\"328.5\" y=\"-69.8\" font-family=\"Times,serif\" font-size=\"14.00\">e</text>\n<polyline fill=\"none\" stroke=\"black\" points=\"340,-55.5 340,-91.5 \"/>\n<text text-anchor=\"middle\" x=\"382.5\" y=\"-69.8\" font-family=\"Times,serif\" font-size=\"14.00\">data &#45;6.0000</text>\n<polyline fill=\"none\" stroke=\"black\" points=\"425,-55.5 425,-91.5 \"/>\n<text text-anchor=\"middle\" x=\"466\" y=\"-69.8\" font-family=\"Times,serif\" font-size=\"14.00\">grad 0.0000</text>\n</g>\n<!-- 134612243935392&#45;&gt;134612241583648+ -->\n<g id=\"edge4\" class=\"edge\">\n<title>134612243935392&#45;&gt;134612241583648+</title>\n<path fill=\"none\" stroke=\"black\" d=\"M507.05,-56.73C516.89,-54.97 526.39,-53.28 534.9,-51.76\"/>\n<polygon fill=\"black\" stroke=\"black\" points=\"535.52,-55.2 544.75,-50 534.29,-48.31 535.52,-55.2\"/>\n</g>\n<!-- 134612243935392*&#45;&gt;134612243935392 -->\n<g id=\"edge3\" class=\"edge\">\n<title>134612243935392*&#45;&gt;134612243935392</title>\n<path fill=\"none\" stroke=\"black\" d=\"M280.28,-73.5C288.05,-73.5 297.08,-73.5 306.68,-73.5\"/>\n<polygon fill=\"black\" stroke=\"black\" points=\"306.88,-77 316.88,-73.5 306.88,-70 306.88,-77\"/>\n</g>\n<!-- 134612243937456 -->\n<g id=\"node9\" class=\"node\">\n<title>134612243937456</title>\n<polygon fill=\"none\" stroke=\"black\" points=\"2.5,-28.5 2.5,-64.5 187.5,-64.5 187.5,-28.5 2.5,-28.5\"/>\n<text text-anchor=\"middle\" x=\"14\" y=\"-42.8\" font-family=\"Times,serif\" font-size=\"14.00\">a</text>\n<polyline fill=\"none\" stroke=\"black\" points=\"25.5,-28.5 25.5,-64.5 \"/>\n<text text-anchor=\"middle\" x=\"65.5\" y=\"-42.8\" font-family=\"Times,serif\" font-size=\"14.00\">data 2.0000</text>\n<polyline fill=\"none\" stroke=\"black\" points=\"105.5,-28.5 105.5,-64.5 \"/>\n<text text-anchor=\"middle\" x=\"146.5\" y=\"-42.8\" font-family=\"Times,serif\" font-size=\"14.00\">grad 0.0000</text>\n</g>\n<!-- 134612243937456&#45;&gt;134612243935392* -->\n<g id=\"edge8\" class=\"edge\">\n<title>134612243937456&#45;&gt;134612243935392*</title>\n<path fill=\"none\" stroke=\"black\" d=\"M187.65,-62.36C197.94,-64.14 207.91,-65.87 216.81,-67.41\"/>\n<polygon fill=\"black\" stroke=\"black\" points=\"216.26,-70.87 226.71,-69.12 217.45,-63.97 216.26,-70.87\"/>\n</g>\n<!-- 134612243929392 -->\n<g id=\"node10\" class=\"node\">\n<title>134612243929392</title>\n<polygon fill=\"none\" stroke=\"black\" points=\"316,-0.5 316,-36.5 508,-36.5 508,-0.5 316,-0.5\"/>\n<text text-anchor=\"middle\" x=\"327.5\" y=\"-14.8\" font-family=\"Times,serif\" font-size=\"14.00\">c</text>\n<polyline fill=\"none\" stroke=\"black\" points=\"339,-0.5 339,-36.5 \"/>\n<text text-anchor=\"middle\" x=\"382.5\" y=\"-14.8\" font-family=\"Times,serif\" font-size=\"14.00\">data 10.0000</text>\n<polyline fill=\"none\" stroke=\"black\" points=\"426,-0.5 426,-36.5 \"/>\n<text text-anchor=\"middle\" x=\"467\" y=\"-14.8\" font-family=\"Times,serif\" font-size=\"14.00\">grad 0.0000</text>\n</g>\n<!-- 134612243929392&#45;&gt;134612241583648+ -->\n<g id=\"edge5\" class=\"edge\">\n<title>134612243929392&#45;&gt;134612241583648+</title>\n<path fill=\"none\" stroke=\"black\" d=\"M508.4,-34.91C517.69,-36.5 526.64,-38.04 534.71,-39.43\"/>\n<polygon fill=\"black\" stroke=\"black\" points=\"534.32,-42.91 544.76,-41.16 535.5,-36.02 534.32,-42.91\"/>\n</g>\n</g>\n</svg>\n",
            "text/plain": [
              "<graphviz.graphs.Digraph at 0x7a6ddad79510>"
            ]
          },
          "metadata": {},
          "execution_count": 191
        }
      ],
      "source": [
        "draw_dot(L, label)"
      ]
    },
    {
      "cell_type": "markdown",
      "metadata": {
        "id": "bQDKbSK7bbR-"
      },
      "source": [
        "#### Derivative of `L` with respect to `d`\n",
        "\n",
        "\n",
        "$$ \\frac{\\partial L}{\\partial d} = \\frac{\\partial (f \\cdot d)}{\\partial d} = f = -2.0 $$\n"
      ]
    },
    {
      "cell_type": "code",
      "execution_count": 192,
      "metadata": {
        "colab": {
          "base_uri": "https://localhost:8080/"
        },
        "id": "au5V880McEkq",
        "outputId": "968024f8-a6ba-4a72-e146-72b71a39c8de"
      },
      "outputs": [
        {
          "output_type": "stream",
          "name": "stdout",
          "text": [
            "-2.000000000000668\n"
          ]
        }
      ],
      "source": [
        "def lol():\n",
        "\n",
        "  h = 0.001\n",
        "\n",
        "  a = Value(2.0, label = 'a')\n",
        "  b = Value(-3.0, label='b')\n",
        "  c = Value(10, label = 'c')\n",
        "  e = a*b; e.label = 'e'\n",
        "  d = e + c; d.label = 'd'\n",
        "  f = Value(-2.0, label='f')\n",
        "  L = d * f; L.label = 'L'\n",
        "  L1 = L.data\n",
        "\n",
        "  a = Value(2.0, label = 'a')\n",
        "  b = Value(-3.0, label='b')\n",
        "  c = Value(10, label = 'c')\n",
        "  e = a*b; e.label = 'e'\n",
        "  d = e + c; d.label = 'd'\n",
        "  f = Value(-2.0, label='f')\n",
        "  d.data += h\n",
        "  L = d * f; L.label = 'L'\n",
        "  L2 = L.data\n",
        "\n",
        "  print((L2 - L1)/h)\n",
        "\n",
        "lol()"
      ]
    },
    {
      "cell_type": "code",
      "execution_count": 193,
      "metadata": {
        "id": "As_wYxq3cpja"
      },
      "outputs": [],
      "source": [
        "d.grad = -2.0"
      ]
    },
    {
      "cell_type": "code",
      "execution_count": 194,
      "metadata": {
        "colab": {
          "base_uri": "https://localhost:8080/",
          "height": 212
        },
        "id": "93JyY0ZOcjLK",
        "outputId": "b3749d9c-7cbe-44e0-a946-90c74172ca44"
      },
      "outputs": [
        {
          "output_type": "execute_result",
          "data": {
            "image/svg+xml": "<?xml version=\"1.0\" encoding=\"UTF-8\" standalone=\"no\"?>\n<!DOCTYPE svg PUBLIC \"-//W3C//DTD SVG 1.1//EN\"\n \"http://www.w3.org/Graphics/SVG/1.1/DTD/svg11.dtd\">\n<!-- Generated by graphviz version 2.43.0 (0)\n -->\n<!-- Title: %3 Pages: 1 -->\n<svg width=\"1149pt\" height=\"128pt\"\n viewBox=\"0.00 0.00 1149.00 128.00\" xmlns=\"http://www.w3.org/2000/svg\" xmlns:xlink=\"http://www.w3.org/1999/xlink\">\n<g id=\"graph0\" class=\"graph\" transform=\"scale(1 1) rotate(0) translate(4 124)\">\n<title>%3</title>\n<polygon fill=\"white\" stroke=\"transparent\" points=\"-4,4 -4,-124 1145,-124 1145,4 -4,4\"/>\n<!-- 134612241583648 -->\n<g id=\"node1\" class=\"node\">\n<title>134612241583648</title>\n<polygon fill=\"none\" stroke=\"black\" points=\"634,-27.5 634,-63.5 823,-63.5 823,-27.5 634,-27.5\"/>\n<text text-anchor=\"middle\" x=\"645.5\" y=\"-41.8\" font-family=\"Times,serif\" font-size=\"14.00\">d</text>\n<polyline fill=\"none\" stroke=\"black\" points=\"657,-27.5 657,-63.5 \"/>\n<text text-anchor=\"middle\" x=\"697\" y=\"-41.8\" font-family=\"Times,serif\" font-size=\"14.00\">data 4.0000</text>\n<polyline fill=\"none\" stroke=\"black\" points=\"737,-27.5 737,-63.5 \"/>\n<text text-anchor=\"middle\" x=\"780\" y=\"-41.8\" font-family=\"Times,serif\" font-size=\"14.00\">grad &#45;2.0000</text>\n</g>\n<!-- 134612243938944* -->\n<g id=\"node6\" class=\"node\">\n<title>134612243938944*</title>\n<ellipse fill=\"none\" stroke=\"black\" cx=\"886\" cy=\"-72.5\" rx=\"27\" ry=\"18\"/>\n<text text-anchor=\"middle\" x=\"886\" y=\"-68.8\" font-family=\"Times,serif\" font-size=\"14.00\">*</text>\n</g>\n<!-- 134612241583648&#45;&gt;134612243938944* -->\n<g id=\"edge7\" class=\"edge\">\n<title>134612241583648&#45;&gt;134612243938944*</title>\n<path fill=\"none\" stroke=\"black\" d=\"M823.1,-61.75C832.4,-63.37 841.38,-64.93 849.49,-66.33\"/>\n<polygon fill=\"black\" stroke=\"black\" points=\"849.14,-69.83 859.59,-68.09 850.34,-62.93 849.14,-69.83\"/>\n</g>\n<!-- 134612241583648+ -->\n<g id=\"node2\" class=\"node\">\n<title>134612241583648+</title>\n<ellipse fill=\"none\" stroke=\"black\" cx=\"571\" cy=\"-45.5\" rx=\"27\" ry=\"18\"/>\n<text text-anchor=\"middle\" x=\"571\" y=\"-41.8\" font-family=\"Times,serif\" font-size=\"14.00\">+</text>\n</g>\n<!-- 134612241583648+&#45;&gt;134612241583648 -->\n<g id=\"edge1\" class=\"edge\">\n<title>134612241583648+&#45;&gt;134612241583648</title>\n<path fill=\"none\" stroke=\"black\" d=\"M598.03,-45.5C605.66,-45.5 614.52,-45.5 623.94,-45.5\"/>\n<polygon fill=\"black\" stroke=\"black\" points=\"623.94,-49 633.94,-45.5 623.94,-42 623.94,-49\"/>\n</g>\n<!-- 134612243936832 -->\n<g id=\"node3\" class=\"node\">\n<title>134612243936832</title>\n<polygon fill=\"none\" stroke=\"black\" points=\"634.5,-82.5 634.5,-118.5 822.5,-118.5 822.5,-82.5 634.5,-82.5\"/>\n<text text-anchor=\"middle\" x=\"645\" y=\"-96.8\" font-family=\"Times,serif\" font-size=\"14.00\">f</text>\n<polyline fill=\"none\" stroke=\"black\" points=\"655.5,-82.5 655.5,-118.5 \"/>\n<text text-anchor=\"middle\" x=\"698\" y=\"-96.8\" font-family=\"Times,serif\" font-size=\"14.00\">data &#45;2.0000</text>\n<polyline fill=\"none\" stroke=\"black\" points=\"740.5,-82.5 740.5,-118.5 \"/>\n<text text-anchor=\"middle\" x=\"781.5\" y=\"-96.8\" font-family=\"Times,serif\" font-size=\"14.00\">grad 4.0000</text>\n</g>\n<!-- 134612243936832&#45;&gt;134612243938944* -->\n<g id=\"edge6\" class=\"edge\">\n<title>134612243936832&#45;&gt;134612243938944*</title>\n<path fill=\"none\" stroke=\"black\" d=\"M822.65,-83.73C832.2,-82.01 841.43,-80.35 849.72,-78.85\"/>\n<polygon fill=\"black\" stroke=\"black\" points=\"850.47,-82.27 859.69,-77.06 849.23,-75.39 850.47,-82.27\"/>\n</g>\n<!-- 134612243938896 -->\n<g id=\"node4\" class=\"node\">\n<title>134612243938896</title>\n<polygon fill=\"none\" stroke=\"black\" points=\"0,-83.5 0,-119.5 190,-119.5 190,-83.5 0,-83.5\"/>\n<text text-anchor=\"middle\" x=\"11.5\" y=\"-97.8\" font-family=\"Times,serif\" font-size=\"14.00\">b</text>\n<polyline fill=\"none\" stroke=\"black\" points=\"23,-83.5 23,-119.5 \"/>\n<text text-anchor=\"middle\" x=\"65.5\" y=\"-97.8\" font-family=\"Times,serif\" font-size=\"14.00\">data &#45;3.0000</text>\n<polyline fill=\"none\" stroke=\"black\" points=\"108,-83.5 108,-119.5 \"/>\n<text text-anchor=\"middle\" x=\"149\" y=\"-97.8\" font-family=\"Times,serif\" font-size=\"14.00\">grad 0.0000</text>\n</g>\n<!-- 134612243935392* -->\n<g id=\"node8\" class=\"node\">\n<title>134612243935392*</title>\n<ellipse fill=\"none\" stroke=\"black\" cx=\"253\" cy=\"-73.5\" rx=\"27\" ry=\"18\"/>\n<text text-anchor=\"middle\" x=\"253\" y=\"-69.8\" font-family=\"Times,serif\" font-size=\"14.00\">*</text>\n</g>\n<!-- 134612243938896&#45;&gt;134612243935392* -->\n<g id=\"edge9\" class=\"edge\">\n<title>134612243938896&#45;&gt;134612243935392*</title>\n<path fill=\"none\" stroke=\"black\" d=\"M190.34,-84.57C199.62,-82.9 208.58,-81.29 216.66,-79.84\"/>\n<polygon fill=\"black\" stroke=\"black\" points=\"217.49,-83.25 226.72,-78.04 216.26,-76.36 217.49,-83.25\"/>\n</g>\n<!-- 134612243938944 -->\n<g id=\"node5\" class=\"node\">\n<title>134612243938944</title>\n<polygon fill=\"none\" stroke=\"black\" points=\"949,-54.5 949,-90.5 1141,-90.5 1141,-54.5 949,-54.5\"/>\n<text text-anchor=\"middle\" x=\"961.5\" y=\"-68.8\" font-family=\"Times,serif\" font-size=\"14.00\">L</text>\n<polyline fill=\"none\" stroke=\"black\" points=\"974,-54.5 974,-90.5 \"/>\n<text text-anchor=\"middle\" x=\"1016.5\" y=\"-68.8\" font-family=\"Times,serif\" font-size=\"14.00\">data &#45;8.0000</text>\n<polyline fill=\"none\" stroke=\"black\" points=\"1059,-54.5 1059,-90.5 \"/>\n<text text-anchor=\"middle\" x=\"1100\" y=\"-68.8\" font-family=\"Times,serif\" font-size=\"14.00\">grad 1.0000</text>\n</g>\n<!-- 134612243938944*&#45;&gt;134612243938944 -->\n<g id=\"edge2\" class=\"edge\">\n<title>134612243938944*&#45;&gt;134612243938944</title>\n<path fill=\"none\" stroke=\"black\" d=\"M913.28,-72.5C920.78,-72.5 929.44,-72.5 938.67,-72.5\"/>\n<polygon fill=\"black\" stroke=\"black\" points=\"938.87,-76 948.87,-72.5 938.87,-69 938.87,-76\"/>\n</g>\n<!-- 134612243935392 -->\n<g id=\"node7\" class=\"node\">\n<title>134612243935392</title>\n<polygon fill=\"none\" stroke=\"black\" points=\"317,-55.5 317,-91.5 507,-91.5 507,-55.5 317,-55.5\"/>\n<text text-anchor=\"middle\" x=\"328.5\" y=\"-69.8\" font-family=\"Times,serif\" font-size=\"14.00\">e</text>\n<polyline fill=\"none\" stroke=\"black\" points=\"340,-55.5 340,-91.5 \"/>\n<text text-anchor=\"middle\" x=\"382.5\" y=\"-69.8\" font-family=\"Times,serif\" font-size=\"14.00\">data &#45;6.0000</text>\n<polyline fill=\"none\" stroke=\"black\" points=\"425,-55.5 425,-91.5 \"/>\n<text text-anchor=\"middle\" x=\"466\" y=\"-69.8\" font-family=\"Times,serif\" font-size=\"14.00\">grad 0.0000</text>\n</g>\n<!-- 134612243935392&#45;&gt;134612241583648+ -->\n<g id=\"edge4\" class=\"edge\">\n<title>134612243935392&#45;&gt;134612241583648+</title>\n<path fill=\"none\" stroke=\"black\" d=\"M507.05,-56.73C516.89,-54.97 526.39,-53.28 534.9,-51.76\"/>\n<polygon fill=\"black\" stroke=\"black\" points=\"535.52,-55.2 544.75,-50 534.29,-48.31 535.52,-55.2\"/>\n</g>\n<!-- 134612243935392*&#45;&gt;134612243935392 -->\n<g id=\"edge3\" class=\"edge\">\n<title>134612243935392*&#45;&gt;134612243935392</title>\n<path fill=\"none\" stroke=\"black\" d=\"M280.28,-73.5C288.05,-73.5 297.08,-73.5 306.68,-73.5\"/>\n<polygon fill=\"black\" stroke=\"black\" points=\"306.88,-77 316.88,-73.5 306.88,-70 306.88,-77\"/>\n</g>\n<!-- 134612243937456 -->\n<g id=\"node9\" class=\"node\">\n<title>134612243937456</title>\n<polygon fill=\"none\" stroke=\"black\" points=\"2.5,-28.5 2.5,-64.5 187.5,-64.5 187.5,-28.5 2.5,-28.5\"/>\n<text text-anchor=\"middle\" x=\"14\" y=\"-42.8\" font-family=\"Times,serif\" font-size=\"14.00\">a</text>\n<polyline fill=\"none\" stroke=\"black\" points=\"25.5,-28.5 25.5,-64.5 \"/>\n<text text-anchor=\"middle\" x=\"65.5\" y=\"-42.8\" font-family=\"Times,serif\" font-size=\"14.00\">data 2.0000</text>\n<polyline fill=\"none\" stroke=\"black\" points=\"105.5,-28.5 105.5,-64.5 \"/>\n<text text-anchor=\"middle\" x=\"146.5\" y=\"-42.8\" font-family=\"Times,serif\" font-size=\"14.00\">grad 0.0000</text>\n</g>\n<!-- 134612243937456&#45;&gt;134612243935392* -->\n<g id=\"edge8\" class=\"edge\">\n<title>134612243937456&#45;&gt;134612243935392*</title>\n<path fill=\"none\" stroke=\"black\" d=\"M187.65,-62.36C197.94,-64.14 207.91,-65.87 216.81,-67.41\"/>\n<polygon fill=\"black\" stroke=\"black\" points=\"216.26,-70.87 226.71,-69.12 217.45,-63.97 216.26,-70.87\"/>\n</g>\n<!-- 134612243929392 -->\n<g id=\"node10\" class=\"node\">\n<title>134612243929392</title>\n<polygon fill=\"none\" stroke=\"black\" points=\"316,-0.5 316,-36.5 508,-36.5 508,-0.5 316,-0.5\"/>\n<text text-anchor=\"middle\" x=\"327.5\" y=\"-14.8\" font-family=\"Times,serif\" font-size=\"14.00\">c</text>\n<polyline fill=\"none\" stroke=\"black\" points=\"339,-0.5 339,-36.5 \"/>\n<text text-anchor=\"middle\" x=\"382.5\" y=\"-14.8\" font-family=\"Times,serif\" font-size=\"14.00\">data 10.0000</text>\n<polyline fill=\"none\" stroke=\"black\" points=\"426,-0.5 426,-36.5 \"/>\n<text text-anchor=\"middle\" x=\"467\" y=\"-14.8\" font-family=\"Times,serif\" font-size=\"14.00\">grad 0.0000</text>\n</g>\n<!-- 134612243929392&#45;&gt;134612241583648+ -->\n<g id=\"edge5\" class=\"edge\">\n<title>134612243929392&#45;&gt;134612241583648+</title>\n<path fill=\"none\" stroke=\"black\" d=\"M508.4,-34.91C517.69,-36.5 526.64,-38.04 534.71,-39.43\"/>\n<polygon fill=\"black\" stroke=\"black\" points=\"534.32,-42.91 544.76,-41.16 535.5,-36.02 534.32,-42.91\"/>\n</g>\n</g>\n</svg>\n",
            "text/plain": [
              "<graphviz.graphs.Digraph at 0x7a6ddad7bd60>"
            ]
          },
          "metadata": {},
          "execution_count": 194
        }
      ],
      "source": [
        "draw_dot(L, label)"
      ]
    },
    {
      "cell_type": "markdown",
      "metadata": {
        "id": "wz_NHMQQd_I7"
      },
      "source": [
        "#### Derivative of `L` with respect to `c`\n",
        "\n",
        "$$ \\frac{\\partial d}{\\partial c} = \\frac{\\partial (c + e)}{\\partial c} = 1.0 $$\n",
        "\n",
        "$$ \\frac{\\partial L}{\\partial c} = \\frac{\\partial L}{\\partial d}\\cdot\\frac{\\partial d}{\\partial c} = f = -2.0 $$"
      ]
    },
    {
      "cell_type": "code",
      "execution_count": 195,
      "metadata": {
        "colab": {
          "base_uri": "https://localhost:8080/"
        },
        "id": "2eDJXkDQeA8I",
        "outputId": "3ada6aee-2e53-4927-ac18-615ff91514eb"
      },
      "outputs": [
        {
          "output_type": "stream",
          "name": "stdout",
          "text": [
            "-1.9999999999988916\n"
          ]
        }
      ],
      "source": [
        "def lol():\n",
        "\n",
        "  h = 0.001\n",
        "\n",
        "  a = Value(2.0, label = 'a')\n",
        "  b = Value(-3.0, label='b')\n",
        "  c = Value(10, label = 'c')\n",
        "  e = a*b; e.label = 'e'\n",
        "  d = e + c; d.label = 'd'\n",
        "  f = Value(-2.0, label='f')\n",
        "  L = d * f; L.label = 'L'\n",
        "  L1 = L.data\n",
        "\n",
        "  a = Value(2.0, label = 'a')\n",
        "  b = Value(-3.0, label='b')\n",
        "  c = Value(10 + h, label = 'c')\n",
        "  e = a*b; e.label = 'e'\n",
        "  d = e + c; d.label = 'd'\n",
        "  f = Value(-2.0, label='f')\n",
        "  L = d * f; L.label = 'L'\n",
        "  L2 = L.data\n",
        "\n",
        "  print((L2 - L1)/h)\n",
        "\n",
        "lol()"
      ]
    },
    {
      "cell_type": "code",
      "execution_count": 196,
      "metadata": {
        "id": "ZIjPIFc8gxab"
      },
      "outputs": [],
      "source": [
        "c.grad = -2"
      ]
    },
    {
      "cell_type": "code",
      "execution_count": 197,
      "metadata": {
        "colab": {
          "base_uri": "https://localhost:8080/",
          "height": 212
        },
        "id": "TacZsmH5g0x_",
        "outputId": "b5a511e4-512b-4dc1-fa83-7aaa7f439544"
      },
      "outputs": [
        {
          "output_type": "execute_result",
          "data": {
            "image/svg+xml": "<?xml version=\"1.0\" encoding=\"UTF-8\" standalone=\"no\"?>\n<!DOCTYPE svg PUBLIC \"-//W3C//DTD SVG 1.1//EN\"\n \"http://www.w3.org/Graphics/SVG/1.1/DTD/svg11.dtd\">\n<!-- Generated by graphviz version 2.43.0 (0)\n -->\n<!-- Title: %3 Pages: 1 -->\n<svg width=\"1153pt\" height=\"128pt\"\n viewBox=\"0.00 0.00 1153.00 128.00\" xmlns=\"http://www.w3.org/2000/svg\" xmlns:xlink=\"http://www.w3.org/1999/xlink\">\n<g id=\"graph0\" class=\"graph\" transform=\"scale(1 1) rotate(0) translate(4 124)\">\n<title>%3</title>\n<polygon fill=\"white\" stroke=\"transparent\" points=\"-4,4 -4,-124 1149,-124 1149,4 -4,4\"/>\n<!-- 134612241583648 -->\n<g id=\"node1\" class=\"node\">\n<title>134612241583648</title>\n<polygon fill=\"none\" stroke=\"black\" points=\"638,-27.5 638,-63.5 827,-63.5 827,-27.5 638,-27.5\"/>\n<text text-anchor=\"middle\" x=\"649.5\" y=\"-41.8\" font-family=\"Times,serif\" font-size=\"14.00\">d</text>\n<polyline fill=\"none\" stroke=\"black\" points=\"661,-27.5 661,-63.5 \"/>\n<text text-anchor=\"middle\" x=\"701\" y=\"-41.8\" font-family=\"Times,serif\" font-size=\"14.00\">data 4.0000</text>\n<polyline fill=\"none\" stroke=\"black\" points=\"741,-27.5 741,-63.5 \"/>\n<text text-anchor=\"middle\" x=\"784\" y=\"-41.8\" font-family=\"Times,serif\" font-size=\"14.00\">grad &#45;2.0000</text>\n</g>\n<!-- 134612243938944* -->\n<g id=\"node6\" class=\"node\">\n<title>134612243938944*</title>\n<ellipse fill=\"none\" stroke=\"black\" cx=\"890\" cy=\"-72.5\" rx=\"27\" ry=\"18\"/>\n<text text-anchor=\"middle\" x=\"890\" y=\"-68.8\" font-family=\"Times,serif\" font-size=\"14.00\">*</text>\n</g>\n<!-- 134612241583648&#45;&gt;134612243938944* -->\n<g id=\"edge7\" class=\"edge\">\n<title>134612241583648&#45;&gt;134612243938944*</title>\n<path fill=\"none\" stroke=\"black\" d=\"M827.1,-61.75C836.4,-63.37 845.38,-64.93 853.49,-66.33\"/>\n<polygon fill=\"black\" stroke=\"black\" points=\"853.14,-69.83 863.59,-68.09 854.34,-62.93 853.14,-69.83\"/>\n</g>\n<!-- 134612241583648+ -->\n<g id=\"node2\" class=\"node\">\n<title>134612241583648+</title>\n<ellipse fill=\"none\" stroke=\"black\" cx=\"575\" cy=\"-45.5\" rx=\"27\" ry=\"18\"/>\n<text text-anchor=\"middle\" x=\"575\" y=\"-41.8\" font-family=\"Times,serif\" font-size=\"14.00\">+</text>\n</g>\n<!-- 134612241583648+&#45;&gt;134612241583648 -->\n<g id=\"edge1\" class=\"edge\">\n<title>134612241583648+&#45;&gt;134612241583648</title>\n<path fill=\"none\" stroke=\"black\" d=\"M602.03,-45.5C609.66,-45.5 618.52,-45.5 627.94,-45.5\"/>\n<polygon fill=\"black\" stroke=\"black\" points=\"627.94,-49 637.94,-45.5 627.94,-42 627.94,-49\"/>\n</g>\n<!-- 134612243936832 -->\n<g id=\"node3\" class=\"node\">\n<title>134612243936832</title>\n<polygon fill=\"none\" stroke=\"black\" points=\"638.5,-82.5 638.5,-118.5 826.5,-118.5 826.5,-82.5 638.5,-82.5\"/>\n<text text-anchor=\"middle\" x=\"649\" y=\"-96.8\" font-family=\"Times,serif\" font-size=\"14.00\">f</text>\n<polyline fill=\"none\" stroke=\"black\" points=\"659.5,-82.5 659.5,-118.5 \"/>\n<text text-anchor=\"middle\" x=\"702\" y=\"-96.8\" font-family=\"Times,serif\" font-size=\"14.00\">data &#45;2.0000</text>\n<polyline fill=\"none\" stroke=\"black\" points=\"744.5,-82.5 744.5,-118.5 \"/>\n<text text-anchor=\"middle\" x=\"785.5\" y=\"-96.8\" font-family=\"Times,serif\" font-size=\"14.00\">grad 4.0000</text>\n</g>\n<!-- 134612243936832&#45;&gt;134612243938944* -->\n<g id=\"edge6\" class=\"edge\">\n<title>134612243936832&#45;&gt;134612243938944*</title>\n<path fill=\"none\" stroke=\"black\" d=\"M826.65,-83.73C836.2,-82.01 845.43,-80.35 853.72,-78.85\"/>\n<polygon fill=\"black\" stroke=\"black\" points=\"854.47,-82.27 863.69,-77.06 853.23,-75.39 854.47,-82.27\"/>\n</g>\n<!-- 134612243938896 -->\n<g id=\"node4\" class=\"node\">\n<title>134612243938896</title>\n<polygon fill=\"none\" stroke=\"black\" points=\"0,-83.5 0,-119.5 190,-119.5 190,-83.5 0,-83.5\"/>\n<text text-anchor=\"middle\" x=\"11.5\" y=\"-97.8\" font-family=\"Times,serif\" font-size=\"14.00\">b</text>\n<polyline fill=\"none\" stroke=\"black\" points=\"23,-83.5 23,-119.5 \"/>\n<text text-anchor=\"middle\" x=\"65.5\" y=\"-97.8\" font-family=\"Times,serif\" font-size=\"14.00\">data &#45;3.0000</text>\n<polyline fill=\"none\" stroke=\"black\" points=\"108,-83.5 108,-119.5 \"/>\n<text text-anchor=\"middle\" x=\"149\" y=\"-97.8\" font-family=\"Times,serif\" font-size=\"14.00\">grad 0.0000</text>\n</g>\n<!-- 134612243935392* -->\n<g id=\"node8\" class=\"node\">\n<title>134612243935392*</title>\n<ellipse fill=\"none\" stroke=\"black\" cx=\"253\" cy=\"-73.5\" rx=\"27\" ry=\"18\"/>\n<text text-anchor=\"middle\" x=\"253\" y=\"-69.8\" font-family=\"Times,serif\" font-size=\"14.00\">*</text>\n</g>\n<!-- 134612243938896&#45;&gt;134612243935392* -->\n<g id=\"edge9\" class=\"edge\">\n<title>134612243938896&#45;&gt;134612243935392*</title>\n<path fill=\"none\" stroke=\"black\" d=\"M190.34,-84.57C199.62,-82.9 208.58,-81.29 216.66,-79.84\"/>\n<polygon fill=\"black\" stroke=\"black\" points=\"217.49,-83.25 226.72,-78.04 216.26,-76.36 217.49,-83.25\"/>\n</g>\n<!-- 134612243938944 -->\n<g id=\"node5\" class=\"node\">\n<title>134612243938944</title>\n<polygon fill=\"none\" stroke=\"black\" points=\"953,-54.5 953,-90.5 1145,-90.5 1145,-54.5 953,-54.5\"/>\n<text text-anchor=\"middle\" x=\"965.5\" y=\"-68.8\" font-family=\"Times,serif\" font-size=\"14.00\">L</text>\n<polyline fill=\"none\" stroke=\"black\" points=\"978,-54.5 978,-90.5 \"/>\n<text text-anchor=\"middle\" x=\"1020.5\" y=\"-68.8\" font-family=\"Times,serif\" font-size=\"14.00\">data &#45;8.0000</text>\n<polyline fill=\"none\" stroke=\"black\" points=\"1063,-54.5 1063,-90.5 \"/>\n<text text-anchor=\"middle\" x=\"1104\" y=\"-68.8\" font-family=\"Times,serif\" font-size=\"14.00\">grad 1.0000</text>\n</g>\n<!-- 134612243938944*&#45;&gt;134612243938944 -->\n<g id=\"edge2\" class=\"edge\">\n<title>134612243938944*&#45;&gt;134612243938944</title>\n<path fill=\"none\" stroke=\"black\" d=\"M917.28,-72.5C924.78,-72.5 933.44,-72.5 942.67,-72.5\"/>\n<polygon fill=\"black\" stroke=\"black\" points=\"942.87,-76 952.87,-72.5 942.87,-69 942.87,-76\"/>\n</g>\n<!-- 134612243935392 -->\n<g id=\"node7\" class=\"node\">\n<title>134612243935392</title>\n<polygon fill=\"none\" stroke=\"black\" points=\"319,-55.5 319,-91.5 509,-91.5 509,-55.5 319,-55.5\"/>\n<text text-anchor=\"middle\" x=\"330.5\" y=\"-69.8\" font-family=\"Times,serif\" font-size=\"14.00\">e</text>\n<polyline fill=\"none\" stroke=\"black\" points=\"342,-55.5 342,-91.5 \"/>\n<text text-anchor=\"middle\" x=\"384.5\" y=\"-69.8\" font-family=\"Times,serif\" font-size=\"14.00\">data &#45;6.0000</text>\n<polyline fill=\"none\" stroke=\"black\" points=\"427,-55.5 427,-91.5 \"/>\n<text text-anchor=\"middle\" x=\"468\" y=\"-69.8\" font-family=\"Times,serif\" font-size=\"14.00\">grad 0.0000</text>\n</g>\n<!-- 134612243935392&#45;&gt;134612241583648+ -->\n<g id=\"edge4\" class=\"edge\">\n<title>134612243935392&#45;&gt;134612241583648+</title>\n<path fill=\"none\" stroke=\"black\" d=\"M509.33,-56.89C519.71,-55.06 529.74,-53.29 538.68,-51.72\"/>\n<polygon fill=\"black\" stroke=\"black\" points=\"539.39,-55.15 548.63,-49.97 538.17,-48.26 539.39,-55.15\"/>\n</g>\n<!-- 134612243935392*&#45;&gt;134612243935392 -->\n<g id=\"edge3\" class=\"edge\">\n<title>134612243935392*&#45;&gt;134612243935392</title>\n<path fill=\"none\" stroke=\"black\" d=\"M280.26,-73.5C288.54,-73.5 298.26,-73.5 308.6,-73.5\"/>\n<polygon fill=\"black\" stroke=\"black\" points=\"308.69,-77 318.69,-73.5 308.69,-70 308.69,-77\"/>\n</g>\n<!-- 134612243937456 -->\n<g id=\"node9\" class=\"node\">\n<title>134612243937456</title>\n<polygon fill=\"none\" stroke=\"black\" points=\"2.5,-28.5 2.5,-64.5 187.5,-64.5 187.5,-28.5 2.5,-28.5\"/>\n<text text-anchor=\"middle\" x=\"14\" y=\"-42.8\" font-family=\"Times,serif\" font-size=\"14.00\">a</text>\n<polyline fill=\"none\" stroke=\"black\" points=\"25.5,-28.5 25.5,-64.5 \"/>\n<text text-anchor=\"middle\" x=\"65.5\" y=\"-42.8\" font-family=\"Times,serif\" font-size=\"14.00\">data 2.0000</text>\n<polyline fill=\"none\" stroke=\"black\" points=\"105.5,-28.5 105.5,-64.5 \"/>\n<text text-anchor=\"middle\" x=\"146.5\" y=\"-42.8\" font-family=\"Times,serif\" font-size=\"14.00\">grad 0.0000</text>\n</g>\n<!-- 134612243937456&#45;&gt;134612243935392* -->\n<g id=\"edge8\" class=\"edge\">\n<title>134612243937456&#45;&gt;134612243935392*</title>\n<path fill=\"none\" stroke=\"black\" d=\"M187.65,-62.36C197.94,-64.14 207.91,-65.87 216.81,-67.41\"/>\n<polygon fill=\"black\" stroke=\"black\" points=\"216.26,-70.87 226.71,-69.12 217.45,-63.97 216.26,-70.87\"/>\n</g>\n<!-- 134612243929392 -->\n<g id=\"node10\" class=\"node\">\n<title>134612243929392</title>\n<polygon fill=\"none\" stroke=\"black\" points=\"316,-0.5 316,-36.5 512,-36.5 512,-0.5 316,-0.5\"/>\n<text text-anchor=\"middle\" x=\"327.5\" y=\"-14.8\" font-family=\"Times,serif\" font-size=\"14.00\">c</text>\n<polyline fill=\"none\" stroke=\"black\" points=\"339,-0.5 339,-36.5 \"/>\n<text text-anchor=\"middle\" x=\"382.5\" y=\"-14.8\" font-family=\"Times,serif\" font-size=\"14.00\">data 10.0000</text>\n<polyline fill=\"none\" stroke=\"black\" points=\"426,-0.5 426,-36.5 \"/>\n<text text-anchor=\"middle\" x=\"469\" y=\"-14.8\" font-family=\"Times,serif\" font-size=\"14.00\">grad &#45;2.0000</text>\n</g>\n<!-- 134612243929392&#45;&gt;134612241583648+ -->\n<g id=\"edge5\" class=\"edge\">\n<title>134612243929392&#45;&gt;134612241583648+</title>\n<path fill=\"none\" stroke=\"black\" d=\"M512.07,-34.98C521.42,-36.57 530.43,-38.1 538.55,-39.48\"/>\n<polygon fill=\"black\" stroke=\"black\" points=\"538.21,-42.97 548.65,-41.2 539.38,-36.07 538.21,-42.97\"/>\n</g>\n</g>\n</svg>\n",
            "text/plain": [
              "<graphviz.graphs.Digraph at 0x7a6ddad79de0>"
            ]
          },
          "metadata": {},
          "execution_count": 197
        }
      ],
      "source": [
        "draw_dot(L, label)"
      ]
    },
    {
      "cell_type": "markdown",
      "metadata": {
        "id": "cWjupp6UhBSz"
      },
      "source": [
        "#### Derivative of `L` with respect to `e`\n",
        "\n",
        "$$ \\frac{\\partial d}{\\partial e} = \\frac{\\partial (c + e)}{\\partial e} = 1.0 $$\n",
        "\n",
        "$$ \\frac{\\partial L}{\\partial e} = \\frac{\\partial L}{\\partial d} \\cdot \\frac{\\partial d}{\\partial e} = f = -2.0 $$"
      ]
    },
    {
      "cell_type": "code",
      "execution_count": 198,
      "metadata": {
        "colab": {
          "base_uri": "https://localhost:8080/"
        },
        "id": "DpqTs3fFhCiP",
        "outputId": "2693037e-7fdb-4504-8d05-e860d177e9a9"
      },
      "outputs": [
        {
          "output_type": "stream",
          "name": "stdout",
          "text": [
            "-2.000000000000668\n"
          ]
        }
      ],
      "source": [
        "def lol():\n",
        "\n",
        "  h = 0.001\n",
        "\n",
        "  a = Value(2.0, label = 'a')\n",
        "  b = Value(-3.0, label='b')\n",
        "  c = Value(10, label = 'c')\n",
        "  e = a*b; e.label = 'e'\n",
        "  d = e + c; d.label = 'd'\n",
        "  f = Value(-2.0, label='f')\n",
        "  L = d * f; L.label = 'L'\n",
        "  L1 = L.data\n",
        "\n",
        "  a = Value(2.0, label = 'a')\n",
        "  b = Value(-3.0, label='b')\n",
        "  c = Value(10, label = 'c')\n",
        "  e = a*b; e.label = 'e'\n",
        "  e.data += h\n",
        "  d = e + c; d.label = 'd'\n",
        "  f = Value(-2.0, label='f')\n",
        "  L = d * f; L.label = 'L'\n",
        "  L2 = L.data\n",
        "\n",
        "  print((L2 - L1)/h)\n",
        "\n",
        "lol()"
      ]
    },
    {
      "cell_type": "code",
      "execution_count": 199,
      "metadata": {
        "id": "HvR52jaHhRC7"
      },
      "outputs": [],
      "source": [
        "e.grad = -2.0"
      ]
    },
    {
      "cell_type": "code",
      "execution_count": 200,
      "metadata": {
        "colab": {
          "base_uri": "https://localhost:8080/",
          "height": 212
        },
        "id": "hBMgFH_RhZcT",
        "outputId": "1c3292c1-c8b1-4a4d-891d-b038e6567f1a"
      },
      "outputs": [
        {
          "output_type": "execute_result",
          "data": {
            "image/svg+xml": "<?xml version=\"1.0\" encoding=\"UTF-8\" standalone=\"no\"?>\n<!DOCTYPE svg PUBLIC \"-//W3C//DTD SVG 1.1//EN\"\n \"http://www.w3.org/Graphics/SVG/1.1/DTD/svg11.dtd\">\n<!-- Generated by graphviz version 2.43.0 (0)\n -->\n<!-- Title: %3 Pages: 1 -->\n<svg width=\"1153pt\" height=\"128pt\"\n viewBox=\"0.00 0.00 1153.00 128.00\" xmlns=\"http://www.w3.org/2000/svg\" xmlns:xlink=\"http://www.w3.org/1999/xlink\">\n<g id=\"graph0\" class=\"graph\" transform=\"scale(1 1) rotate(0) translate(4 124)\">\n<title>%3</title>\n<polygon fill=\"white\" stroke=\"transparent\" points=\"-4,4 -4,-124 1149,-124 1149,4 -4,4\"/>\n<!-- 134612241583648 -->\n<g id=\"node1\" class=\"node\">\n<title>134612241583648</title>\n<polygon fill=\"none\" stroke=\"black\" points=\"638,-27.5 638,-63.5 827,-63.5 827,-27.5 638,-27.5\"/>\n<text text-anchor=\"middle\" x=\"649.5\" y=\"-41.8\" font-family=\"Times,serif\" font-size=\"14.00\">d</text>\n<polyline fill=\"none\" stroke=\"black\" points=\"661,-27.5 661,-63.5 \"/>\n<text text-anchor=\"middle\" x=\"701\" y=\"-41.8\" font-family=\"Times,serif\" font-size=\"14.00\">data 4.0000</text>\n<polyline fill=\"none\" stroke=\"black\" points=\"741,-27.5 741,-63.5 \"/>\n<text text-anchor=\"middle\" x=\"784\" y=\"-41.8\" font-family=\"Times,serif\" font-size=\"14.00\">grad &#45;2.0000</text>\n</g>\n<!-- 134612243938944* -->\n<g id=\"node6\" class=\"node\">\n<title>134612243938944*</title>\n<ellipse fill=\"none\" stroke=\"black\" cx=\"890\" cy=\"-72.5\" rx=\"27\" ry=\"18\"/>\n<text text-anchor=\"middle\" x=\"890\" y=\"-68.8\" font-family=\"Times,serif\" font-size=\"14.00\">*</text>\n</g>\n<!-- 134612241583648&#45;&gt;134612243938944* -->\n<g id=\"edge7\" class=\"edge\">\n<title>134612241583648&#45;&gt;134612243938944*</title>\n<path fill=\"none\" stroke=\"black\" d=\"M827.1,-61.75C836.4,-63.37 845.38,-64.93 853.49,-66.33\"/>\n<polygon fill=\"black\" stroke=\"black\" points=\"853.14,-69.83 863.59,-68.09 854.34,-62.93 853.14,-69.83\"/>\n</g>\n<!-- 134612241583648+ -->\n<g id=\"node2\" class=\"node\">\n<title>134612241583648+</title>\n<ellipse fill=\"none\" stroke=\"black\" cx=\"575\" cy=\"-45.5\" rx=\"27\" ry=\"18\"/>\n<text text-anchor=\"middle\" x=\"575\" y=\"-41.8\" font-family=\"Times,serif\" font-size=\"14.00\">+</text>\n</g>\n<!-- 134612241583648+&#45;&gt;134612241583648 -->\n<g id=\"edge1\" class=\"edge\">\n<title>134612241583648+&#45;&gt;134612241583648</title>\n<path fill=\"none\" stroke=\"black\" d=\"M602.03,-45.5C609.66,-45.5 618.52,-45.5 627.94,-45.5\"/>\n<polygon fill=\"black\" stroke=\"black\" points=\"627.94,-49 637.94,-45.5 627.94,-42 627.94,-49\"/>\n</g>\n<!-- 134612243936832 -->\n<g id=\"node3\" class=\"node\">\n<title>134612243936832</title>\n<polygon fill=\"none\" stroke=\"black\" points=\"638.5,-82.5 638.5,-118.5 826.5,-118.5 826.5,-82.5 638.5,-82.5\"/>\n<text text-anchor=\"middle\" x=\"649\" y=\"-96.8\" font-family=\"Times,serif\" font-size=\"14.00\">f</text>\n<polyline fill=\"none\" stroke=\"black\" points=\"659.5,-82.5 659.5,-118.5 \"/>\n<text text-anchor=\"middle\" x=\"702\" y=\"-96.8\" font-family=\"Times,serif\" font-size=\"14.00\">data &#45;2.0000</text>\n<polyline fill=\"none\" stroke=\"black\" points=\"744.5,-82.5 744.5,-118.5 \"/>\n<text text-anchor=\"middle\" x=\"785.5\" y=\"-96.8\" font-family=\"Times,serif\" font-size=\"14.00\">grad 4.0000</text>\n</g>\n<!-- 134612243936832&#45;&gt;134612243938944* -->\n<g id=\"edge6\" class=\"edge\">\n<title>134612243936832&#45;&gt;134612243938944*</title>\n<path fill=\"none\" stroke=\"black\" d=\"M826.65,-83.73C836.2,-82.01 845.43,-80.35 853.72,-78.85\"/>\n<polygon fill=\"black\" stroke=\"black\" points=\"854.47,-82.27 863.69,-77.06 853.23,-75.39 854.47,-82.27\"/>\n</g>\n<!-- 134612243938896 -->\n<g id=\"node4\" class=\"node\">\n<title>134612243938896</title>\n<polygon fill=\"none\" stroke=\"black\" points=\"0,-83.5 0,-119.5 190,-119.5 190,-83.5 0,-83.5\"/>\n<text text-anchor=\"middle\" x=\"11.5\" y=\"-97.8\" font-family=\"Times,serif\" font-size=\"14.00\">b</text>\n<polyline fill=\"none\" stroke=\"black\" points=\"23,-83.5 23,-119.5 \"/>\n<text text-anchor=\"middle\" x=\"65.5\" y=\"-97.8\" font-family=\"Times,serif\" font-size=\"14.00\">data &#45;3.0000</text>\n<polyline fill=\"none\" stroke=\"black\" points=\"108,-83.5 108,-119.5 \"/>\n<text text-anchor=\"middle\" x=\"149\" y=\"-97.8\" font-family=\"Times,serif\" font-size=\"14.00\">grad 0.0000</text>\n</g>\n<!-- 134612243935392* -->\n<g id=\"node8\" class=\"node\">\n<title>134612243935392*</title>\n<ellipse fill=\"none\" stroke=\"black\" cx=\"253\" cy=\"-73.5\" rx=\"27\" ry=\"18\"/>\n<text text-anchor=\"middle\" x=\"253\" y=\"-69.8\" font-family=\"Times,serif\" font-size=\"14.00\">*</text>\n</g>\n<!-- 134612243938896&#45;&gt;134612243935392* -->\n<g id=\"edge9\" class=\"edge\">\n<title>134612243938896&#45;&gt;134612243935392*</title>\n<path fill=\"none\" stroke=\"black\" d=\"M190.34,-84.57C199.62,-82.9 208.58,-81.29 216.66,-79.84\"/>\n<polygon fill=\"black\" stroke=\"black\" points=\"217.49,-83.25 226.72,-78.04 216.26,-76.36 217.49,-83.25\"/>\n</g>\n<!-- 134612243938944 -->\n<g id=\"node5\" class=\"node\">\n<title>134612243938944</title>\n<polygon fill=\"none\" stroke=\"black\" points=\"953,-54.5 953,-90.5 1145,-90.5 1145,-54.5 953,-54.5\"/>\n<text text-anchor=\"middle\" x=\"965.5\" y=\"-68.8\" font-family=\"Times,serif\" font-size=\"14.00\">L</text>\n<polyline fill=\"none\" stroke=\"black\" points=\"978,-54.5 978,-90.5 \"/>\n<text text-anchor=\"middle\" x=\"1020.5\" y=\"-68.8\" font-family=\"Times,serif\" font-size=\"14.00\">data &#45;8.0000</text>\n<polyline fill=\"none\" stroke=\"black\" points=\"1063,-54.5 1063,-90.5 \"/>\n<text text-anchor=\"middle\" x=\"1104\" y=\"-68.8\" font-family=\"Times,serif\" font-size=\"14.00\">grad 1.0000</text>\n</g>\n<!-- 134612243938944*&#45;&gt;134612243938944 -->\n<g id=\"edge2\" class=\"edge\">\n<title>134612243938944*&#45;&gt;134612243938944</title>\n<path fill=\"none\" stroke=\"black\" d=\"M917.28,-72.5C924.78,-72.5 933.44,-72.5 942.67,-72.5\"/>\n<polygon fill=\"black\" stroke=\"black\" points=\"942.87,-76 952.87,-72.5 942.87,-69 942.87,-76\"/>\n</g>\n<!-- 134612243935392 -->\n<g id=\"node7\" class=\"node\">\n<title>134612243935392</title>\n<polygon fill=\"none\" stroke=\"black\" points=\"317,-55.5 317,-91.5 511,-91.5 511,-55.5 317,-55.5\"/>\n<text text-anchor=\"middle\" x=\"328.5\" y=\"-69.8\" font-family=\"Times,serif\" font-size=\"14.00\">e</text>\n<polyline fill=\"none\" stroke=\"black\" points=\"340,-55.5 340,-91.5 \"/>\n<text text-anchor=\"middle\" x=\"382.5\" y=\"-69.8\" font-family=\"Times,serif\" font-size=\"14.00\">data &#45;6.0000</text>\n<polyline fill=\"none\" stroke=\"black\" points=\"425,-55.5 425,-91.5 \"/>\n<text text-anchor=\"middle\" x=\"468\" y=\"-69.8\" font-family=\"Times,serif\" font-size=\"14.00\">grad &#45;2.0000</text>\n</g>\n<!-- 134612243935392&#45;&gt;134612241583648+ -->\n<g id=\"edge4\" class=\"edge\">\n<title>134612243935392&#45;&gt;134612241583648+</title>\n<path fill=\"none\" stroke=\"black\" d=\"M511.16,-56.57C520.82,-54.87 530.13,-53.23 538.49,-51.75\"/>\n<polygon fill=\"black\" stroke=\"black\" points=\"539.3,-55.17 548.54,-49.98 538.08,-48.27 539.3,-55.17\"/>\n</g>\n<!-- 134612243935392*&#45;&gt;134612243935392 -->\n<g id=\"edge3\" class=\"edge\">\n<title>134612243935392*&#45;&gt;134612243935392</title>\n<path fill=\"none\" stroke=\"black\" d=\"M280.26,-73.5C288.05,-73.5 297.1,-73.5 306.75,-73.5\"/>\n<polygon fill=\"black\" stroke=\"black\" points=\"306.99,-77 316.99,-73.5 306.99,-70 306.99,-77\"/>\n</g>\n<!-- 134612243937456 -->\n<g id=\"node9\" class=\"node\">\n<title>134612243937456</title>\n<polygon fill=\"none\" stroke=\"black\" points=\"2.5,-28.5 2.5,-64.5 187.5,-64.5 187.5,-28.5 2.5,-28.5\"/>\n<text text-anchor=\"middle\" x=\"14\" y=\"-42.8\" font-family=\"Times,serif\" font-size=\"14.00\">a</text>\n<polyline fill=\"none\" stroke=\"black\" points=\"25.5,-28.5 25.5,-64.5 \"/>\n<text text-anchor=\"middle\" x=\"65.5\" y=\"-42.8\" font-family=\"Times,serif\" font-size=\"14.00\">data 2.0000</text>\n<polyline fill=\"none\" stroke=\"black\" points=\"105.5,-28.5 105.5,-64.5 \"/>\n<text text-anchor=\"middle\" x=\"146.5\" y=\"-42.8\" font-family=\"Times,serif\" font-size=\"14.00\">grad 0.0000</text>\n</g>\n<!-- 134612243937456&#45;&gt;134612243935392* -->\n<g id=\"edge8\" class=\"edge\">\n<title>134612243937456&#45;&gt;134612243935392*</title>\n<path fill=\"none\" stroke=\"black\" d=\"M187.65,-62.36C197.94,-64.14 207.91,-65.87 216.81,-67.41\"/>\n<polygon fill=\"black\" stroke=\"black\" points=\"216.26,-70.87 226.71,-69.12 217.45,-63.97 216.26,-70.87\"/>\n</g>\n<!-- 134612243929392 -->\n<g id=\"node10\" class=\"node\">\n<title>134612243929392</title>\n<polygon fill=\"none\" stroke=\"black\" points=\"316,-0.5 316,-36.5 512,-36.5 512,-0.5 316,-0.5\"/>\n<text text-anchor=\"middle\" x=\"327.5\" y=\"-14.8\" font-family=\"Times,serif\" font-size=\"14.00\">c</text>\n<polyline fill=\"none\" stroke=\"black\" points=\"339,-0.5 339,-36.5 \"/>\n<text text-anchor=\"middle\" x=\"382.5\" y=\"-14.8\" font-family=\"Times,serif\" font-size=\"14.00\">data 10.0000</text>\n<polyline fill=\"none\" stroke=\"black\" points=\"426,-0.5 426,-36.5 \"/>\n<text text-anchor=\"middle\" x=\"469\" y=\"-14.8\" font-family=\"Times,serif\" font-size=\"14.00\">grad &#45;2.0000</text>\n</g>\n<!-- 134612243929392&#45;&gt;134612241583648+ -->\n<g id=\"edge5\" class=\"edge\">\n<title>134612243929392&#45;&gt;134612241583648+</title>\n<path fill=\"none\" stroke=\"black\" d=\"M512.07,-34.98C521.42,-36.57 530.43,-38.1 538.55,-39.48\"/>\n<polygon fill=\"black\" stroke=\"black\" points=\"538.21,-42.97 548.65,-41.2 539.38,-36.07 538.21,-42.97\"/>\n</g>\n</g>\n</svg>\n",
            "text/plain": [
              "<graphviz.graphs.Digraph at 0x7a6ddad7a8c0>"
            ]
          },
          "metadata": {},
          "execution_count": 200
        }
      ],
      "source": [
        "draw_dot(L, label)"
      ]
    },
    {
      "cell_type": "markdown",
      "metadata": {
        "id": "LzbzYOazhfzT"
      },
      "source": [
        "#### Derivative of `L` with respect to `a`\n",
        "\n",
        "$$ \\frac{\\partial e}{\\partial a} = \\frac{\\partial ({a}\\cdot{bMB})}{\\partial a} = b $$\n",
        "\n",
        "$$ \\frac{\\partial L}{\\partial a} = \\frac{\\partial L}{\\partial e} \\cdot \\frac{\\partial e}{\\partial a} = -2b = 6 $$"
      ]
    },
    {
      "cell_type": "code",
      "execution_count": 201,
      "metadata": {
        "colab": {
          "base_uri": "https://localhost:8080/"
        },
        "id": "q9zZ5wLKjv1W",
        "outputId": "33684984-f57a-4a39-fc71-1a219e0cf2bb"
      },
      "outputs": [
        {
          "output_type": "stream",
          "name": "stdout",
          "text": [
            "6.000000000000227\n"
          ]
        }
      ],
      "source": [
        "def lol():\n",
        "\n",
        "  h = 0.001\n",
        "\n",
        "  a = Value(2.0, label = 'a')\n",
        "  b = Value(-3.0, label='b')\n",
        "  c = Value(10, label = 'c')\n",
        "  e = a*b; e.label = 'e'\n",
        "  d = e + c; d.label = 'd'\n",
        "  f = Value(-2.0, label='f')\n",
        "  L = d * f; L.label = 'L'\n",
        "  L1 = L.data\n",
        "\n",
        "  a = Value(2.0 + h, label = 'a')\n",
        "  b = Value(-3.0, label='b')\n",
        "  c = Value(10, label = 'c')\n",
        "  e = a*b; e.label = 'e'\n",
        "  d = e + c; d.label = 'd'\n",
        "  f = Value(-2.0, label='f')\n",
        "  L = d * f; L.label = 'L'\n",
        "  L2 = L.data\n",
        "\n",
        "  print((L2 - L1)/h)\n",
        "\n",
        "lol()"
      ]
    },
    {
      "cell_type": "code",
      "execution_count": 202,
      "metadata": {
        "id": "gYQhgTY8k5As"
      },
      "outputs": [],
      "source": [
        "a.grad = 6.0"
      ]
    },
    {
      "cell_type": "code",
      "execution_count": 203,
      "metadata": {
        "colab": {
          "base_uri": "https://localhost:8080/",
          "height": 212
        },
        "id": "JGu9cbVGlRXp",
        "outputId": "beb32443-21c2-4a01-965c-50f7240e6fcf"
      },
      "outputs": [
        {
          "output_type": "execute_result",
          "data": {
            "image/svg+xml": "<?xml version=\"1.0\" encoding=\"UTF-8\" standalone=\"no\"?>\n<!DOCTYPE svg PUBLIC \"-//W3C//DTD SVG 1.1//EN\"\n \"http://www.w3.org/Graphics/SVG/1.1/DTD/svg11.dtd\">\n<!-- Generated by graphviz version 2.43.0 (0)\n -->\n<!-- Title: %3 Pages: 1 -->\n<svg width=\"1153pt\" height=\"128pt\"\n viewBox=\"0.00 0.00 1153.00 128.00\" xmlns=\"http://www.w3.org/2000/svg\" xmlns:xlink=\"http://www.w3.org/1999/xlink\">\n<g id=\"graph0\" class=\"graph\" transform=\"scale(1 1) rotate(0) translate(4 124)\">\n<title>%3</title>\n<polygon fill=\"white\" stroke=\"transparent\" points=\"-4,4 -4,-124 1149,-124 1149,4 -4,4\"/>\n<!-- 134612241583648 -->\n<g id=\"node1\" class=\"node\">\n<title>134612241583648</title>\n<polygon fill=\"none\" stroke=\"black\" points=\"638,-27.5 638,-63.5 827,-63.5 827,-27.5 638,-27.5\"/>\n<text text-anchor=\"middle\" x=\"649.5\" y=\"-41.8\" font-family=\"Times,serif\" font-size=\"14.00\">d</text>\n<polyline fill=\"none\" stroke=\"black\" points=\"661,-27.5 661,-63.5 \"/>\n<text text-anchor=\"middle\" x=\"701\" y=\"-41.8\" font-family=\"Times,serif\" font-size=\"14.00\">data 4.0000</text>\n<polyline fill=\"none\" stroke=\"black\" points=\"741,-27.5 741,-63.5 \"/>\n<text text-anchor=\"middle\" x=\"784\" y=\"-41.8\" font-family=\"Times,serif\" font-size=\"14.00\">grad &#45;2.0000</text>\n</g>\n<!-- 134612243938944* -->\n<g id=\"node6\" class=\"node\">\n<title>134612243938944*</title>\n<ellipse fill=\"none\" stroke=\"black\" cx=\"890\" cy=\"-72.5\" rx=\"27\" ry=\"18\"/>\n<text text-anchor=\"middle\" x=\"890\" y=\"-68.8\" font-family=\"Times,serif\" font-size=\"14.00\">*</text>\n</g>\n<!-- 134612241583648&#45;&gt;134612243938944* -->\n<g id=\"edge7\" class=\"edge\">\n<title>134612241583648&#45;&gt;134612243938944*</title>\n<path fill=\"none\" stroke=\"black\" d=\"M827.1,-61.75C836.4,-63.37 845.38,-64.93 853.49,-66.33\"/>\n<polygon fill=\"black\" stroke=\"black\" points=\"853.14,-69.83 863.59,-68.09 854.34,-62.93 853.14,-69.83\"/>\n</g>\n<!-- 134612241583648+ -->\n<g id=\"node2\" class=\"node\">\n<title>134612241583648+</title>\n<ellipse fill=\"none\" stroke=\"black\" cx=\"575\" cy=\"-45.5\" rx=\"27\" ry=\"18\"/>\n<text text-anchor=\"middle\" x=\"575\" y=\"-41.8\" font-family=\"Times,serif\" font-size=\"14.00\">+</text>\n</g>\n<!-- 134612241583648+&#45;&gt;134612241583648 -->\n<g id=\"edge1\" class=\"edge\">\n<title>134612241583648+&#45;&gt;134612241583648</title>\n<path fill=\"none\" stroke=\"black\" d=\"M602.03,-45.5C609.66,-45.5 618.52,-45.5 627.94,-45.5\"/>\n<polygon fill=\"black\" stroke=\"black\" points=\"627.94,-49 637.94,-45.5 627.94,-42 627.94,-49\"/>\n</g>\n<!-- 134612243936832 -->\n<g id=\"node3\" class=\"node\">\n<title>134612243936832</title>\n<polygon fill=\"none\" stroke=\"black\" points=\"638.5,-82.5 638.5,-118.5 826.5,-118.5 826.5,-82.5 638.5,-82.5\"/>\n<text text-anchor=\"middle\" x=\"649\" y=\"-96.8\" font-family=\"Times,serif\" font-size=\"14.00\">f</text>\n<polyline fill=\"none\" stroke=\"black\" points=\"659.5,-82.5 659.5,-118.5 \"/>\n<text text-anchor=\"middle\" x=\"702\" y=\"-96.8\" font-family=\"Times,serif\" font-size=\"14.00\">data &#45;2.0000</text>\n<polyline fill=\"none\" stroke=\"black\" points=\"744.5,-82.5 744.5,-118.5 \"/>\n<text text-anchor=\"middle\" x=\"785.5\" y=\"-96.8\" font-family=\"Times,serif\" font-size=\"14.00\">grad 4.0000</text>\n</g>\n<!-- 134612243936832&#45;&gt;134612243938944* -->\n<g id=\"edge6\" class=\"edge\">\n<title>134612243936832&#45;&gt;134612243938944*</title>\n<path fill=\"none\" stroke=\"black\" d=\"M826.65,-83.73C836.2,-82.01 845.43,-80.35 853.72,-78.85\"/>\n<polygon fill=\"black\" stroke=\"black\" points=\"854.47,-82.27 863.69,-77.06 853.23,-75.39 854.47,-82.27\"/>\n</g>\n<!-- 134612243938896 -->\n<g id=\"node4\" class=\"node\">\n<title>134612243938896</title>\n<polygon fill=\"none\" stroke=\"black\" points=\"0,-83.5 0,-119.5 190,-119.5 190,-83.5 0,-83.5\"/>\n<text text-anchor=\"middle\" x=\"11.5\" y=\"-97.8\" font-family=\"Times,serif\" font-size=\"14.00\">b</text>\n<polyline fill=\"none\" stroke=\"black\" points=\"23,-83.5 23,-119.5 \"/>\n<text text-anchor=\"middle\" x=\"65.5\" y=\"-97.8\" font-family=\"Times,serif\" font-size=\"14.00\">data &#45;3.0000</text>\n<polyline fill=\"none\" stroke=\"black\" points=\"108,-83.5 108,-119.5 \"/>\n<text text-anchor=\"middle\" x=\"149\" y=\"-97.8\" font-family=\"Times,serif\" font-size=\"14.00\">grad 0.0000</text>\n</g>\n<!-- 134612243935392* -->\n<g id=\"node8\" class=\"node\">\n<title>134612243935392*</title>\n<ellipse fill=\"none\" stroke=\"black\" cx=\"253\" cy=\"-73.5\" rx=\"27\" ry=\"18\"/>\n<text text-anchor=\"middle\" x=\"253\" y=\"-69.8\" font-family=\"Times,serif\" font-size=\"14.00\">*</text>\n</g>\n<!-- 134612243938896&#45;&gt;134612243935392* -->\n<g id=\"edge9\" class=\"edge\">\n<title>134612243938896&#45;&gt;134612243935392*</title>\n<path fill=\"none\" stroke=\"black\" d=\"M190.34,-84.57C199.62,-82.9 208.58,-81.29 216.66,-79.84\"/>\n<polygon fill=\"black\" stroke=\"black\" points=\"217.49,-83.25 226.72,-78.04 216.26,-76.36 217.49,-83.25\"/>\n</g>\n<!-- 134612243938944 -->\n<g id=\"node5\" class=\"node\">\n<title>134612243938944</title>\n<polygon fill=\"none\" stroke=\"black\" points=\"953,-54.5 953,-90.5 1145,-90.5 1145,-54.5 953,-54.5\"/>\n<text text-anchor=\"middle\" x=\"965.5\" y=\"-68.8\" font-family=\"Times,serif\" font-size=\"14.00\">L</text>\n<polyline fill=\"none\" stroke=\"black\" points=\"978,-54.5 978,-90.5 \"/>\n<text text-anchor=\"middle\" x=\"1020.5\" y=\"-68.8\" font-family=\"Times,serif\" font-size=\"14.00\">data &#45;8.0000</text>\n<polyline fill=\"none\" stroke=\"black\" points=\"1063,-54.5 1063,-90.5 \"/>\n<text text-anchor=\"middle\" x=\"1104\" y=\"-68.8\" font-family=\"Times,serif\" font-size=\"14.00\">grad 1.0000</text>\n</g>\n<!-- 134612243938944*&#45;&gt;134612243938944 -->\n<g id=\"edge2\" class=\"edge\">\n<title>134612243938944*&#45;&gt;134612243938944</title>\n<path fill=\"none\" stroke=\"black\" d=\"M917.28,-72.5C924.78,-72.5 933.44,-72.5 942.67,-72.5\"/>\n<polygon fill=\"black\" stroke=\"black\" points=\"942.87,-76 952.87,-72.5 942.87,-69 942.87,-76\"/>\n</g>\n<!-- 134612243935392 -->\n<g id=\"node7\" class=\"node\">\n<title>134612243935392</title>\n<polygon fill=\"none\" stroke=\"black\" points=\"317,-55.5 317,-91.5 511,-91.5 511,-55.5 317,-55.5\"/>\n<text text-anchor=\"middle\" x=\"328.5\" y=\"-69.8\" font-family=\"Times,serif\" font-size=\"14.00\">e</text>\n<polyline fill=\"none\" stroke=\"black\" points=\"340,-55.5 340,-91.5 \"/>\n<text text-anchor=\"middle\" x=\"382.5\" y=\"-69.8\" font-family=\"Times,serif\" font-size=\"14.00\">data &#45;6.0000</text>\n<polyline fill=\"none\" stroke=\"black\" points=\"425,-55.5 425,-91.5 \"/>\n<text text-anchor=\"middle\" x=\"468\" y=\"-69.8\" font-family=\"Times,serif\" font-size=\"14.00\">grad &#45;2.0000</text>\n</g>\n<!-- 134612243935392&#45;&gt;134612241583648+ -->\n<g id=\"edge4\" class=\"edge\">\n<title>134612243935392&#45;&gt;134612241583648+</title>\n<path fill=\"none\" stroke=\"black\" d=\"M511.16,-56.57C520.82,-54.87 530.13,-53.23 538.49,-51.75\"/>\n<polygon fill=\"black\" stroke=\"black\" points=\"539.3,-55.17 548.54,-49.98 538.08,-48.27 539.3,-55.17\"/>\n</g>\n<!-- 134612243935392*&#45;&gt;134612243935392 -->\n<g id=\"edge3\" class=\"edge\">\n<title>134612243935392*&#45;&gt;134612243935392</title>\n<path fill=\"none\" stroke=\"black\" d=\"M280.26,-73.5C288.05,-73.5 297.1,-73.5 306.75,-73.5\"/>\n<polygon fill=\"black\" stroke=\"black\" points=\"306.99,-77 316.99,-73.5 306.99,-70 306.99,-77\"/>\n</g>\n<!-- 134612243937456 -->\n<g id=\"node9\" class=\"node\">\n<title>134612243937456</title>\n<polygon fill=\"none\" stroke=\"black\" points=\"2.5,-28.5 2.5,-64.5 187.5,-64.5 187.5,-28.5 2.5,-28.5\"/>\n<text text-anchor=\"middle\" x=\"14\" y=\"-42.8\" font-family=\"Times,serif\" font-size=\"14.00\">a</text>\n<polyline fill=\"none\" stroke=\"black\" points=\"25.5,-28.5 25.5,-64.5 \"/>\n<text text-anchor=\"middle\" x=\"65.5\" y=\"-42.8\" font-family=\"Times,serif\" font-size=\"14.00\">data 2.0000</text>\n<polyline fill=\"none\" stroke=\"black\" points=\"105.5,-28.5 105.5,-64.5 \"/>\n<text text-anchor=\"middle\" x=\"146.5\" y=\"-42.8\" font-family=\"Times,serif\" font-size=\"14.00\">grad 6.0000</text>\n</g>\n<!-- 134612243937456&#45;&gt;134612243935392* -->\n<g id=\"edge8\" class=\"edge\">\n<title>134612243937456&#45;&gt;134612243935392*</title>\n<path fill=\"none\" stroke=\"black\" d=\"M187.65,-62.36C197.94,-64.14 207.91,-65.87 216.81,-67.41\"/>\n<polygon fill=\"black\" stroke=\"black\" points=\"216.26,-70.87 226.71,-69.12 217.45,-63.97 216.26,-70.87\"/>\n</g>\n<!-- 134612243929392 -->\n<g id=\"node10\" class=\"node\">\n<title>134612243929392</title>\n<polygon fill=\"none\" stroke=\"black\" points=\"316,-0.5 316,-36.5 512,-36.5 512,-0.5 316,-0.5\"/>\n<text text-anchor=\"middle\" x=\"327.5\" y=\"-14.8\" font-family=\"Times,serif\" font-size=\"14.00\">c</text>\n<polyline fill=\"none\" stroke=\"black\" points=\"339,-0.5 339,-36.5 \"/>\n<text text-anchor=\"middle\" x=\"382.5\" y=\"-14.8\" font-family=\"Times,serif\" font-size=\"14.00\">data 10.0000</text>\n<polyline fill=\"none\" stroke=\"black\" points=\"426,-0.5 426,-36.5 \"/>\n<text text-anchor=\"middle\" x=\"469\" y=\"-14.8\" font-family=\"Times,serif\" font-size=\"14.00\">grad &#45;2.0000</text>\n</g>\n<!-- 134612243929392&#45;&gt;134612241583648+ -->\n<g id=\"edge5\" class=\"edge\">\n<title>134612243929392&#45;&gt;134612241583648+</title>\n<path fill=\"none\" stroke=\"black\" d=\"M512.07,-34.98C521.42,-36.57 530.43,-38.1 538.55,-39.48\"/>\n<polygon fill=\"black\" stroke=\"black\" points=\"538.21,-42.97 548.65,-41.2 539.38,-36.07 538.21,-42.97\"/>\n</g>\n</g>\n</svg>\n",
            "text/plain": [
              "<graphviz.graphs.Digraph at 0x7a6ddad796c0>"
            ]
          },
          "metadata": {},
          "execution_count": 203
        }
      ],
      "source": [
        "draw_dot(L, label)"
      ]
    },
    {
      "cell_type": "markdown",
      "metadata": {
        "id": "EbamZ2owmuNq"
      },
      "source": [
        "#### Derivative of `L` with respect to `b`\n",
        "\n",
        "$$ \\frac{\\partial e}{\\partial b} = \\frac{\\partial ({a}\\cdot{b})}{\\partial b} = a $$\n",
        "\n",
        "$$ \\frac{\\partial L}{\\partial b} = \\frac{\\partial L}{\\partial e} \\cdot \\frac{\\partial e}{\\partial b}= -2a = -4 $$"
      ]
    },
    {
      "cell_type": "code",
      "execution_count": 204,
      "metadata": {
        "colab": {
          "base_uri": "https://localhost:8080/"
        },
        "id": "71o8OCBxm5xD",
        "outputId": "c2ca66e7-84ef-439b-d09f-b9ee230f1a0b"
      },
      "outputs": [
        {
          "output_type": "stream",
          "name": "stdout",
          "text": [
            "-3.9999999999995595\n"
          ]
        }
      ],
      "source": [
        "def lol():\n",
        "\n",
        "  h = 0.001\n",
        "\n",
        "  a = Value(2.0, label = 'a')\n",
        "  b = Value(-3.0, label='b')\n",
        "  c = Value(10, label = 'c')\n",
        "  e = a*b; e.label = 'e'\n",
        "  d = e + c; d.label = 'd'\n",
        "  f = Value(-2.0, label='f')\n",
        "  L = d * f; L.label = 'L'\n",
        "  L1 = L.data\n",
        "\n",
        "  a = Value(2.0, label = 'a')\n",
        "  b = Value(-3.0 + h, label='b')\n",
        "  c = Value(10, label = 'c')\n",
        "  e = a*b; e.label = 'e'\n",
        "  d = e + c; d.label = 'd'\n",
        "  f = Value(-2.0, label='f')\n",
        "  L = d * f; L.label = 'L'\n",
        "  L2 = L.data\n",
        "\n",
        "  print((L2 - L1)/h)\n",
        "\n",
        "lol()"
      ]
    },
    {
      "cell_type": "code",
      "execution_count": 205,
      "metadata": {
        "id": "ebr04QSsmxwJ"
      },
      "outputs": [],
      "source": [
        "b.grad = -4.0"
      ]
    },
    {
      "cell_type": "code",
      "execution_count": 206,
      "metadata": {
        "colab": {
          "base_uri": "https://localhost:8080/",
          "height": 212
        },
        "id": "JmoSuLitnGj2",
        "outputId": "a347d06f-44eb-42fc-be38-654efb885001"
      },
      "outputs": [
        {
          "output_type": "execute_result",
          "data": {
            "image/svg+xml": "<?xml version=\"1.0\" encoding=\"UTF-8\" standalone=\"no\"?>\n<!DOCTYPE svg PUBLIC \"-//W3C//DTD SVG 1.1//EN\"\n \"http://www.w3.org/Graphics/SVG/1.1/DTD/svg11.dtd\">\n<!-- Generated by graphviz version 2.43.0 (0)\n -->\n<!-- Title: %3 Pages: 1 -->\n<svg width=\"1157pt\" height=\"128pt\"\n viewBox=\"0.00 0.00 1157.00 128.00\" xmlns=\"http://www.w3.org/2000/svg\" xmlns:xlink=\"http://www.w3.org/1999/xlink\">\n<g id=\"graph0\" class=\"graph\" transform=\"scale(1 1) rotate(0) translate(4 124)\">\n<title>%3</title>\n<polygon fill=\"white\" stroke=\"transparent\" points=\"-4,4 -4,-124 1153,-124 1153,4 -4,4\"/>\n<!-- 134612241583648 -->\n<g id=\"node1\" class=\"node\">\n<title>134612241583648</title>\n<polygon fill=\"none\" stroke=\"black\" points=\"642,-27.5 642,-63.5 831,-63.5 831,-27.5 642,-27.5\"/>\n<text text-anchor=\"middle\" x=\"653.5\" y=\"-41.8\" font-family=\"Times,serif\" font-size=\"14.00\">d</text>\n<polyline fill=\"none\" stroke=\"black\" points=\"665,-27.5 665,-63.5 \"/>\n<text text-anchor=\"middle\" x=\"705\" y=\"-41.8\" font-family=\"Times,serif\" font-size=\"14.00\">data 4.0000</text>\n<polyline fill=\"none\" stroke=\"black\" points=\"745,-27.5 745,-63.5 \"/>\n<text text-anchor=\"middle\" x=\"788\" y=\"-41.8\" font-family=\"Times,serif\" font-size=\"14.00\">grad &#45;2.0000</text>\n</g>\n<!-- 134612243938944* -->\n<g id=\"node6\" class=\"node\">\n<title>134612243938944*</title>\n<ellipse fill=\"none\" stroke=\"black\" cx=\"894\" cy=\"-72.5\" rx=\"27\" ry=\"18\"/>\n<text text-anchor=\"middle\" x=\"894\" y=\"-68.8\" font-family=\"Times,serif\" font-size=\"14.00\">*</text>\n</g>\n<!-- 134612241583648&#45;&gt;134612243938944* -->\n<g id=\"edge7\" class=\"edge\">\n<title>134612241583648&#45;&gt;134612243938944*</title>\n<path fill=\"none\" stroke=\"black\" d=\"M831.1,-61.75C840.4,-63.37 849.38,-64.93 857.49,-66.33\"/>\n<polygon fill=\"black\" stroke=\"black\" points=\"857.14,-69.83 867.59,-68.09 858.34,-62.93 857.14,-69.83\"/>\n</g>\n<!-- 134612241583648+ -->\n<g id=\"node2\" class=\"node\">\n<title>134612241583648+</title>\n<ellipse fill=\"none\" stroke=\"black\" cx=\"579\" cy=\"-45.5\" rx=\"27\" ry=\"18\"/>\n<text text-anchor=\"middle\" x=\"579\" y=\"-41.8\" font-family=\"Times,serif\" font-size=\"14.00\">+</text>\n</g>\n<!-- 134612241583648+&#45;&gt;134612241583648 -->\n<g id=\"edge1\" class=\"edge\">\n<title>134612241583648+&#45;&gt;134612241583648</title>\n<path fill=\"none\" stroke=\"black\" d=\"M606.03,-45.5C613.66,-45.5 622.52,-45.5 631.94,-45.5\"/>\n<polygon fill=\"black\" stroke=\"black\" points=\"631.94,-49 641.94,-45.5 631.94,-42 631.94,-49\"/>\n</g>\n<!-- 134612243936832 -->\n<g id=\"node3\" class=\"node\">\n<title>134612243936832</title>\n<polygon fill=\"none\" stroke=\"black\" points=\"642.5,-82.5 642.5,-118.5 830.5,-118.5 830.5,-82.5 642.5,-82.5\"/>\n<text text-anchor=\"middle\" x=\"653\" y=\"-96.8\" font-family=\"Times,serif\" font-size=\"14.00\">f</text>\n<polyline fill=\"none\" stroke=\"black\" points=\"663.5,-82.5 663.5,-118.5 \"/>\n<text text-anchor=\"middle\" x=\"706\" y=\"-96.8\" font-family=\"Times,serif\" font-size=\"14.00\">data &#45;2.0000</text>\n<polyline fill=\"none\" stroke=\"black\" points=\"748.5,-82.5 748.5,-118.5 \"/>\n<text text-anchor=\"middle\" x=\"789.5\" y=\"-96.8\" font-family=\"Times,serif\" font-size=\"14.00\">grad 4.0000</text>\n</g>\n<!-- 134612243936832&#45;&gt;134612243938944* -->\n<g id=\"edge6\" class=\"edge\">\n<title>134612243936832&#45;&gt;134612243938944*</title>\n<path fill=\"none\" stroke=\"black\" d=\"M830.65,-83.73C840.2,-82.01 849.43,-80.35 857.72,-78.85\"/>\n<polygon fill=\"black\" stroke=\"black\" points=\"858.47,-82.27 867.69,-77.06 857.23,-75.39 858.47,-82.27\"/>\n</g>\n<!-- 134612243938896 -->\n<g id=\"node4\" class=\"node\">\n<title>134612243938896</title>\n<polygon fill=\"none\" stroke=\"black\" points=\"0,-83.5 0,-119.5 194,-119.5 194,-83.5 0,-83.5\"/>\n<text text-anchor=\"middle\" x=\"11.5\" y=\"-97.8\" font-family=\"Times,serif\" font-size=\"14.00\">b</text>\n<polyline fill=\"none\" stroke=\"black\" points=\"23,-83.5 23,-119.5 \"/>\n<text text-anchor=\"middle\" x=\"65.5\" y=\"-97.8\" font-family=\"Times,serif\" font-size=\"14.00\">data &#45;3.0000</text>\n<polyline fill=\"none\" stroke=\"black\" points=\"108,-83.5 108,-119.5 \"/>\n<text text-anchor=\"middle\" x=\"151\" y=\"-97.8\" font-family=\"Times,serif\" font-size=\"14.00\">grad &#45;4.0000</text>\n</g>\n<!-- 134612243935392* -->\n<g id=\"node8\" class=\"node\">\n<title>134612243935392*</title>\n<ellipse fill=\"none\" stroke=\"black\" cx=\"257\" cy=\"-73.5\" rx=\"27\" ry=\"18\"/>\n<text text-anchor=\"middle\" x=\"257\" y=\"-69.8\" font-family=\"Times,serif\" font-size=\"14.00\">*</text>\n</g>\n<!-- 134612243938896&#45;&gt;134612243935392* -->\n<g id=\"edge9\" class=\"edge\">\n<title>134612243938896&#45;&gt;134612243935392*</title>\n<path fill=\"none\" stroke=\"black\" d=\"M194.01,-84.49C203.35,-82.83 212.37,-81.23 220.49,-79.79\"/>\n<polygon fill=\"black\" stroke=\"black\" points=\"221.37,-83.19 230.6,-78 220.15,-76.3 221.37,-83.19\"/>\n</g>\n<!-- 134612243938944 -->\n<g id=\"node5\" class=\"node\">\n<title>134612243938944</title>\n<polygon fill=\"none\" stroke=\"black\" points=\"957,-54.5 957,-90.5 1149,-90.5 1149,-54.5 957,-54.5\"/>\n<text text-anchor=\"middle\" x=\"969.5\" y=\"-68.8\" font-family=\"Times,serif\" font-size=\"14.00\">L</text>\n<polyline fill=\"none\" stroke=\"black\" points=\"982,-54.5 982,-90.5 \"/>\n<text text-anchor=\"middle\" x=\"1024.5\" y=\"-68.8\" font-family=\"Times,serif\" font-size=\"14.00\">data &#45;8.0000</text>\n<polyline fill=\"none\" stroke=\"black\" points=\"1067,-54.5 1067,-90.5 \"/>\n<text text-anchor=\"middle\" x=\"1108\" y=\"-68.8\" font-family=\"Times,serif\" font-size=\"14.00\">grad 1.0000</text>\n</g>\n<!-- 134612243938944*&#45;&gt;134612243938944 -->\n<g id=\"edge2\" class=\"edge\">\n<title>134612243938944*&#45;&gt;134612243938944</title>\n<path fill=\"none\" stroke=\"black\" d=\"M921.28,-72.5C928.78,-72.5 937.44,-72.5 946.67,-72.5\"/>\n<polygon fill=\"black\" stroke=\"black\" points=\"946.87,-76 956.87,-72.5 946.87,-69 946.87,-76\"/>\n</g>\n<!-- 134612243935392 -->\n<g id=\"node7\" class=\"node\">\n<title>134612243935392</title>\n<polygon fill=\"none\" stroke=\"black\" points=\"321,-55.5 321,-91.5 515,-91.5 515,-55.5 321,-55.5\"/>\n<text text-anchor=\"middle\" x=\"332.5\" y=\"-69.8\" font-family=\"Times,serif\" font-size=\"14.00\">e</text>\n<polyline fill=\"none\" stroke=\"black\" points=\"344,-55.5 344,-91.5 \"/>\n<text text-anchor=\"middle\" x=\"386.5\" y=\"-69.8\" font-family=\"Times,serif\" font-size=\"14.00\">data &#45;6.0000</text>\n<polyline fill=\"none\" stroke=\"black\" points=\"429,-55.5 429,-91.5 \"/>\n<text text-anchor=\"middle\" x=\"472\" y=\"-69.8\" font-family=\"Times,serif\" font-size=\"14.00\">grad &#45;2.0000</text>\n</g>\n<!-- 134612243935392&#45;&gt;134612241583648+ -->\n<g id=\"edge4\" class=\"edge\">\n<title>134612243935392&#45;&gt;134612241583648+</title>\n<path fill=\"none\" stroke=\"black\" d=\"M515.16,-56.57C524.82,-54.87 534.13,-53.23 542.49,-51.75\"/>\n<polygon fill=\"black\" stroke=\"black\" points=\"543.3,-55.17 552.54,-49.98 542.08,-48.27 543.3,-55.17\"/>\n</g>\n<!-- 134612243935392*&#45;&gt;134612243935392 -->\n<g id=\"edge3\" class=\"edge\">\n<title>134612243935392*&#45;&gt;134612243935392</title>\n<path fill=\"none\" stroke=\"black\" d=\"M284.26,-73.5C292.05,-73.5 301.1,-73.5 310.75,-73.5\"/>\n<polygon fill=\"black\" stroke=\"black\" points=\"310.99,-77 320.99,-73.5 310.99,-70 310.99,-77\"/>\n</g>\n<!-- 134612243937456 -->\n<g id=\"node9\" class=\"node\">\n<title>134612243937456</title>\n<polygon fill=\"none\" stroke=\"black\" points=\"4.5,-28.5 4.5,-64.5 189.5,-64.5 189.5,-28.5 4.5,-28.5\"/>\n<text text-anchor=\"middle\" x=\"16\" y=\"-42.8\" font-family=\"Times,serif\" font-size=\"14.00\">a</text>\n<polyline fill=\"none\" stroke=\"black\" points=\"27.5,-28.5 27.5,-64.5 \"/>\n<text text-anchor=\"middle\" x=\"67.5\" y=\"-42.8\" font-family=\"Times,serif\" font-size=\"14.00\">data 2.0000</text>\n<polyline fill=\"none\" stroke=\"black\" points=\"107.5,-28.5 107.5,-64.5 \"/>\n<text text-anchor=\"middle\" x=\"148.5\" y=\"-42.8\" font-family=\"Times,serif\" font-size=\"14.00\">grad 6.0000</text>\n</g>\n<!-- 134612243937456&#45;&gt;134612243935392* -->\n<g id=\"edge8\" class=\"edge\">\n<title>134612243937456&#45;&gt;134612243935392*</title>\n<path fill=\"none\" stroke=\"black\" d=\"M189.91,-62.21C200.76,-64.06 211.28,-65.86 220.61,-67.45\"/>\n<polygon fill=\"black\" stroke=\"black\" points=\"220.16,-70.93 230.6,-69.16 221.34,-64.03 220.16,-70.93\"/>\n</g>\n<!-- 134612243929392 -->\n<g id=\"node10\" class=\"node\">\n<title>134612243929392</title>\n<polygon fill=\"none\" stroke=\"black\" points=\"320,-0.5 320,-36.5 516,-36.5 516,-0.5 320,-0.5\"/>\n<text text-anchor=\"middle\" x=\"331.5\" y=\"-14.8\" font-family=\"Times,serif\" font-size=\"14.00\">c</text>\n<polyline fill=\"none\" stroke=\"black\" points=\"343,-0.5 343,-36.5 \"/>\n<text text-anchor=\"middle\" x=\"386.5\" y=\"-14.8\" font-family=\"Times,serif\" font-size=\"14.00\">data 10.0000</text>\n<polyline fill=\"none\" stroke=\"black\" points=\"430,-0.5 430,-36.5 \"/>\n<text text-anchor=\"middle\" x=\"473\" y=\"-14.8\" font-family=\"Times,serif\" font-size=\"14.00\">grad &#45;2.0000</text>\n</g>\n<!-- 134612243929392&#45;&gt;134612241583648+ -->\n<g id=\"edge5\" class=\"edge\">\n<title>134612243929392&#45;&gt;134612241583648+</title>\n<path fill=\"none\" stroke=\"black\" d=\"M516.07,-34.98C525.42,-36.57 534.43,-38.1 542.55,-39.48\"/>\n<polygon fill=\"black\" stroke=\"black\" points=\"542.21,-42.97 552.65,-41.2 543.38,-36.07 542.21,-42.97\"/>\n</g>\n</g>\n</svg>\n",
            "text/plain": [
              "<graphviz.graphs.Digraph at 0x7a6ddad7a650>"
            ]
          },
          "metadata": {},
          "execution_count": 206
        }
      ],
      "source": [
        "draw_dot(L, label)"
      ]
    },
    {
      "cell_type": "code",
      "execution_count": 207,
      "metadata": {
        "id": "Fr2DqkmApAIA"
      },
      "outputs": [],
      "source": [
        "a.data += 0.01 * a.grad\n",
        "b.data += 0.01 * b.grad\n",
        "c.data += 0.01 * c.grad\n",
        "f.data += 0.01 * f.grad"
      ]
    },
    {
      "cell_type": "code",
      "execution_count": 208,
      "metadata": {
        "colab": {
          "base_uri": "https://localhost:8080/"
        },
        "id": "Zb6qfoFZpA9P",
        "outputId": "e168d021-aa35-4e3e-e1c7-2430210351cc"
      },
      "outputs": [
        {
          "output_type": "stream",
          "name": "stdout",
          "text": [
            "-7.286496\n"
          ]
        }
      ],
      "source": [
        "e = a * b\n",
        "d = e + c\n",
        "L = d * f\n",
        "print(L.data)"
      ]
    },
    {
      "cell_type": "markdown",
      "metadata": {
        "id": "J_bqLieTRomY"
      },
      "source": [
        "## Neural Network"
      ]
    },
    {
      "cell_type": "markdown",
      "metadata": {
        "id": "j66uBYKWRvAP"
      },
      "source": [
        "### Tanh"
      ]
    },
    {
      "cell_type": "code",
      "execution_count": 209,
      "metadata": {
        "colab": {
          "base_uri": "https://localhost:8080/",
          "height": 447
        },
        "id": "rubTcSOtRwBt",
        "outputId": "43318a54-5de7-4d19-bbf9-25b5a51117d3"
      },
      "outputs": [
        {
          "output_type": "execute_result",
          "data": {
            "text/plain": [
              "[<matplotlib.lines.Line2D at 0x7a6ddad9b760>]"
            ]
          },
          "metadata": {},
          "execution_count": 209
        },
        {
          "output_type": "display_data",
          "data": {
            "text/plain": [
              "<Figure size 640x480 with 1 Axes>"
            ],
            "image/png": "[encoded data removed]"
          },
          "metadata": {}
        }
      ],
      "source": [
        "plt.plot(np.arange(-5, 5, 0.2), np.tanh(np.arange(-5, 5, 0.2)))"
      ]
    },
    {
      "cell_type": "code",
      "execution_count": 210,
      "metadata": {
        "id": "qSe9W4DJRrC5"
      },
      "outputs": [],
      "source": [
        "class Value:\n",
        "    def __init__(self, data, _children=(), _op='', label=''):\n",
        "        self.data = data\n",
        "        self.grad = 0.0 # ⭠ Add grad\n",
        "        self._prev = set(_children)\n",
        "        self._op = _op\n",
        "        self.label = label\n",
        "\n",
        "    def __repr__(self):\n",
        "        return f\"Value(label={self.label} data={self.data})\"\n",
        "\n",
        "    def __add__(self, other):\n",
        "        return Value(self.data + other.data, (self, other), '+')\n",
        "\n",
        "    def __mul__(self, other):\n",
        "        return Value(self.data * other.data, (self, other), '*')\n",
        "\n",
        "    def tanh(self):\n",
        "        x = self.data\n",
        "        t = (math.exp(2*x) - 1)/(math.exp(2*x) + 1)\n",
        "        out = Value(t, (self,), 'tanh')\n",
        "        return out"
      ]
    },
    {
      "cell_type": "markdown",
      "metadata": {
        "id": "IIKwnvxnVhaJ"
      },
      "source": [
        "### Inputs: x1, x2"
      ]
    },
    {
      "cell_type": "code",
      "execution_count": 211,
      "metadata": {
        "id": "Ok-hZd1wVirr"
      },
      "outputs": [],
      "source": [
        "x1 = Value(2.0, label='x1')\n",
        "x2 = Value(0.0, label='x2')"
      ]
    },
    {
      "cell_type": "markdown",
      "metadata": {
        "id": "Btq46kSQVrmg"
      },
      "source": [
        "### Weights: w1, w2"
      ]
    },
    {
      "cell_type": "code",
      "execution_count": 212,
      "metadata": {
        "id": "bkBrh4ipVvYn"
      },
      "outputs": [],
      "source": [
        "w1 = Value(-3.0, label='w1')\n",
        "w2 = Value(1.0, label='w2')"
      ]
    },
    {
      "cell_type": "markdown",
      "metadata": {
        "id": "DX4lUy4xV8F7"
      },
      "source": [
        "### Bias"
      ]
    },
    {
      "cell_type": "code",
      "execution_count": 213,
      "metadata": {
        "id": "7KwsXtagRnpT"
      },
      "outputs": [],
      "source": [
        "b = Value(6.8813735870195432, label='b')"
      ]
    },
    {
      "cell_type": "markdown",
      "metadata": {
        "id": "qE28Fy_LWBNR"
      },
      "source": [
        "### x1w1 + x2w2 + b"
      ]
    },
    {
      "cell_type": "code",
      "execution_count": 214,
      "metadata": {
        "id": "nuCvJKVBWCJz"
      },
      "outputs": [],
      "source": [
        "x1w1 = x1*w1; x1w1.label='x1*w1'\n",
        "x2w2 = x2*w2; x2w2.label='x2*w2'\n",
        "x1w1x2w2 = x1w1 + x2w2; x1w1x2w2.label='x1*w1 + x2*w2'\n",
        "n = x1w1x2w2 + b; n.label='n'"
      ]
    },
    {
      "cell_type": "code",
      "execution_count": 215,
      "metadata": {
        "id": "_tETc8H6WMhC"
      },
      "outputs": [],
      "source": [
        "o = n.tanh(); o.label = 'o'"
      ]
    },
    {
      "cell_type": "code",
      "execution_count": 216,
      "metadata": {
        "colab": {
          "base_uri": "https://localhost:8080/",
          "height": 321
        },
        "id": "IEg2ynDgWM1s",
        "outputId": "da2cecab-bcfd-4cf6-bfd9-805c301a4809"
      },
      "outputs": [
        {
          "output_type": "execute_result",
          "data": {
            "image/svg+xml": "<?xml version=\"1.0\" encoding=\"UTF-8\" standalone=\"no\"?>\n<!DOCTYPE svg PUBLIC \"-//W3C//DTD SVG 1.1//EN\"\n \"http://www.w3.org/Graphics/SVG/1.1/DTD/svg11.dtd\">\n<!-- Generated by graphviz version 2.43.0 (0)\n -->\n<!-- Title: %3 Pages: 1 -->\n<svg width=\"1575pt\" height=\"210pt\"\n viewBox=\"0.00 0.00 1575.00 210.00\" xmlns=\"http://www.w3.org/2000/svg\" xmlns:xlink=\"http://www.w3.org/1999/xlink\">\n<g id=\"graph0\" class=\"graph\" transform=\"scale(1 1) rotate(0) translate(4 206)\">\n<title>%3</title>\n<polygon fill=\"white\" stroke=\"transparent\" points=\"-4,4 -4,-206 1571,-206 1571,4 -4,4\"/>\n<!-- 134612240103936 -->\n<g id=\"node1\" class=\"node\">\n<title>134612240103936</title>\n<polygon fill=\"none\" stroke=\"black\" points=\"2.5,-165.5 2.5,-201.5 197.5,-201.5 197.5,-165.5 2.5,-165.5\"/>\n<text text-anchor=\"middle\" x=\"19\" y=\"-179.8\" font-family=\"Times,serif\" font-size=\"14.00\">w2</text>\n<polyline fill=\"none\" stroke=\"black\" points=\"35.5,-165.5 35.5,-201.5 \"/>\n<text text-anchor=\"middle\" x=\"75.5\" y=\"-179.8\" font-family=\"Times,serif\" font-size=\"14.00\">data 1.0000</text>\n<polyline fill=\"none\" stroke=\"black\" points=\"115.5,-165.5 115.5,-201.5 \"/>\n<text text-anchor=\"middle\" x=\"156.5\" y=\"-179.8\" font-family=\"Times,serif\" font-size=\"14.00\">grad 0.0000</text>\n</g>\n<!-- 134612255310176* -->\n<g id=\"node14\" class=\"node\">\n<title>134612255310176*</title>\n<ellipse fill=\"none\" stroke=\"black\" cx=\"263\" cy=\"-128.5\" rx=\"27\" ry=\"18\"/>\n<text text-anchor=\"middle\" x=\"263\" y=\"-124.8\" font-family=\"Times,serif\" font-size=\"14.00\">*</text>\n</g>\n<!-- 134612240103936&#45;&gt;134612255310176* -->\n<g id=\"edge6\" class=\"edge\">\n<title>134612240103936&#45;&gt;134612255310176*</title>\n<path fill=\"none\" stroke=\"black\" d=\"M172.53,-165.44C181.84,-162.67 191.2,-159.67 200,-156.5 210.53,-152.71 221.75,-147.9 231.72,-143.33\"/>\n<polygon fill=\"black\" stroke=\"black\" points=\"233.25,-146.48 240.82,-139.07 230.28,-140.14 233.25,-146.48\"/>\n</g>\n<!-- 134612255321120 -->\n<g id=\"node2\" class=\"node\">\n<title>134612255321120</title>\n<polygon fill=\"none\" stroke=\"black\" points=\"326,-55.5 326,-91.5 546,-91.5 546,-55.5 326,-55.5\"/>\n<text text-anchor=\"middle\" x=\"352.5\" y=\"-69.8\" font-family=\"Times,serif\" font-size=\"14.00\">x1*w1</text>\n<polyline fill=\"none\" stroke=\"black\" points=\"379,-55.5 379,-91.5 \"/>\n<text text-anchor=\"middle\" x=\"421.5\" y=\"-69.8\" font-family=\"Times,serif\" font-size=\"14.00\">data &#45;6.0000</text>\n<polyline fill=\"none\" stroke=\"black\" points=\"464,-55.5 464,-91.5 \"/>\n<text text-anchor=\"middle\" x=\"505\" y=\"-69.8\" font-family=\"Times,serif\" font-size=\"14.00\">grad 0.0000</text>\n</g>\n<!-- 134612255316176+ -->\n<g id=\"node8\" class=\"node\">\n<title>134612255316176+</title>\n<ellipse fill=\"none\" stroke=\"black\" cx=\"609\" cy=\"-100.5\" rx=\"27\" ry=\"18\"/>\n<text text-anchor=\"middle\" x=\"609\" y=\"-96.8\" font-family=\"Times,serif\" font-size=\"14.00\">+</text>\n</g>\n<!-- 134612255321120&#45;&gt;134612255316176+ -->\n<g id=\"edge10\" class=\"edge\">\n<title>134612255321120&#45;&gt;134612255316176+</title>\n<path fill=\"none\" stroke=\"black\" d=\"M546.27,-90.75C555.64,-92.23 564.6,-93.65 572.65,-94.92\"/>\n<polygon fill=\"black\" stroke=\"black\" points=\"572.23,-98.4 582.65,-96.5 573.32,-91.48 572.23,-98.4\"/>\n</g>\n<!-- 134612255321120* -->\n<g id=\"node3\" class=\"node\">\n<title>134612255321120*</title>\n<ellipse fill=\"none\" stroke=\"black\" cx=\"263\" cy=\"-73.5\" rx=\"27\" ry=\"18\"/>\n<text text-anchor=\"middle\" x=\"263\" y=\"-69.8\" font-family=\"Times,serif\" font-size=\"14.00\">*</text>\n</g>\n<!-- 134612255321120*&#45;&gt;134612255321120 -->\n<g id=\"edge1\" class=\"edge\">\n<title>134612255321120*&#45;&gt;134612255321120</title>\n<path fill=\"none\" stroke=\"black\" d=\"M290.34,-73.5C297.77,-73.5 306.37,-73.5 315.6,-73.5\"/>\n<polygon fill=\"black\" stroke=\"black\" points=\"315.84,-77 325.84,-73.5 315.84,-70 315.84,-77\"/>\n</g>\n<!-- 134612242730624 -->\n<g id=\"node4\" class=\"node\">\n<title>134612242730624</title>\n<polygon fill=\"none\" stroke=\"black\" points=\"1382,-54.5 1382,-90.5 1567,-90.5 1567,-54.5 1382,-54.5\"/>\n<text text-anchor=\"middle\" x=\"1393.5\" y=\"-68.8\" font-family=\"Times,serif\" font-size=\"14.00\">o</text>\n<polyline fill=\"none\" stroke=\"black\" points=\"1405,-54.5 1405,-90.5 \"/>\n<text text-anchor=\"middle\" x=\"1445\" y=\"-68.8\" font-family=\"Times,serif\" font-size=\"14.00\">data 0.7071</text>\n<polyline fill=\"none\" stroke=\"black\" points=\"1485,-54.5 1485,-90.5 \"/>\n<text text-anchor=\"middle\" x=\"1526\" y=\"-68.8\" font-family=\"Times,serif\" font-size=\"14.00\">grad 0.0000</text>\n</g>\n<!-- 134612242730624tanh -->\n<g id=\"node5\" class=\"node\">\n<title>134612242730624tanh</title>\n<ellipse fill=\"none\" stroke=\"black\" cx=\"1319\" cy=\"-72.5\" rx=\"27\" ry=\"18\"/>\n<text text-anchor=\"middle\" x=\"1319\" y=\"-68.8\" font-family=\"Times,serif\" font-size=\"14.00\">tanh</text>\n</g>\n<!-- 134612242730624tanh&#45;&gt;134612242730624 -->\n<g id=\"edge2\" class=\"edge\">\n<title>134612242730624tanh&#45;&gt;134612242730624</title>\n<path fill=\"none\" stroke=\"black\" d=\"M1346.04,-72.5C1353.58,-72.5 1362.3,-72.5 1371.57,-72.5\"/>\n<polygon fill=\"black\" stroke=\"black\" points=\"1371.81,-76 1381.81,-72.5 1371.81,-69 1371.81,-76\"/>\n</g>\n<!-- 134612240097456 -->\n<g id=\"node6\" class=\"node\">\n<title>134612240097456</title>\n<polygon fill=\"none\" stroke=\"black\" points=\"0,-55.5 0,-91.5 200,-91.5 200,-55.5 0,-55.5\"/>\n<text text-anchor=\"middle\" x=\"16.5\" y=\"-69.8\" font-family=\"Times,serif\" font-size=\"14.00\">w1</text>\n<polyline fill=\"none\" stroke=\"black\" points=\"33,-55.5 33,-91.5 \"/>\n<text text-anchor=\"middle\" x=\"75.5\" y=\"-69.8\" font-family=\"Times,serif\" font-size=\"14.00\">data &#45;3.0000</text>\n<polyline fill=\"none\" stroke=\"black\" points=\"118,-55.5 118,-91.5 \"/>\n<text text-anchor=\"middle\" x=\"159\" y=\"-69.8\" font-family=\"Times,serif\" font-size=\"14.00\">grad 0.0000</text>\n</g>\n<!-- 134612240097456&#45;&gt;134612255321120* -->\n<g id=\"edge8\" class=\"edge\">\n<title>134612240097456&#45;&gt;134612255321120*</title>\n<path fill=\"none\" stroke=\"black\" d=\"M200.21,-73.5C209.2,-73.5 217.86,-73.5 225.7,-73.5\"/>\n<polygon fill=\"black\" stroke=\"black\" points=\"225.85,-77 235.85,-73.5 225.85,-70 225.85,-77\"/>\n</g>\n<!-- 134612255316176 -->\n<g id=\"node7\" class=\"node\">\n<title>134612255316176</title>\n<polygon fill=\"none\" stroke=\"black\" points=\"672,-82.5 672,-118.5 945,-118.5 945,-82.5 672,-82.5\"/>\n<text text-anchor=\"middle\" x=\"725\" y=\"-96.8\" font-family=\"Times,serif\" font-size=\"14.00\">x1*w1 + x2*w2</text>\n<polyline fill=\"none\" stroke=\"black\" points=\"778,-82.5 778,-118.5 \"/>\n<text text-anchor=\"middle\" x=\"820.5\" y=\"-96.8\" font-family=\"Times,serif\" font-size=\"14.00\">data &#45;6.0000</text>\n<polyline fill=\"none\" stroke=\"black\" points=\"863,-82.5 863,-118.5 \"/>\n<text text-anchor=\"middle\" x=\"904\" y=\"-96.8\" font-family=\"Times,serif\" font-size=\"14.00\">grad 0.0000</text>\n</g>\n<!-- 134612243930976+ -->\n<g id=\"node12\" class=\"node\">\n<title>134612243930976+</title>\n<ellipse fill=\"none\" stroke=\"black\" cx=\"1008\" cy=\"-72.5\" rx=\"27\" ry=\"18\"/>\n<text text-anchor=\"middle\" x=\"1008\" y=\"-68.8\" font-family=\"Times,serif\" font-size=\"14.00\">+</text>\n</g>\n<!-- 134612255316176&#45;&gt;134612243930976+ -->\n<g id=\"edge9\" class=\"edge\">\n<title>134612255316176&#45;&gt;134612243930976+</title>\n<path fill=\"none\" stroke=\"black\" d=\"M936.53,-82.49C949.09,-80.71 960.99,-79.02 971.3,-77.56\"/>\n<polygon fill=\"black\" stroke=\"black\" points=\"972.03,-80.99 981.44,-76.12 971.05,-74.06 972.03,-80.99\"/>\n</g>\n<!-- 134612255316176+&#45;&gt;134612255316176 -->\n<g id=\"edge3\" class=\"edge\">\n<title>134612255316176+&#45;&gt;134612255316176</title>\n<path fill=\"none\" stroke=\"black\" d=\"M636.23,-100.5C643.7,-100.5 652.41,-100.5 661.87,-100.5\"/>\n<polygon fill=\"black\" stroke=\"black\" points=\"661.98,-104 671.98,-100.5 661.98,-97 661.98,-104\"/>\n</g>\n<!-- 134612240097024 -->\n<g id=\"node9\" class=\"node\">\n<title>134612240097024</title>\n<polygon fill=\"none\" stroke=\"black\" points=\"4,-0.5 4,-36.5 196,-36.5 196,-0.5 4,-0.5\"/>\n<text text-anchor=\"middle\" x=\"19\" y=\"-14.8\" font-family=\"Times,serif\" font-size=\"14.00\">x1</text>\n<polyline fill=\"none\" stroke=\"black\" points=\"34,-0.5 34,-36.5 \"/>\n<text text-anchor=\"middle\" x=\"74\" y=\"-14.8\" font-family=\"Times,serif\" font-size=\"14.00\">data 2.0000</text>\n<polyline fill=\"none\" stroke=\"black\" points=\"114,-0.5 114,-36.5 \"/>\n<text text-anchor=\"middle\" x=\"155\" y=\"-14.8\" font-family=\"Times,serif\" font-size=\"14.00\">grad 0.0000</text>\n</g>\n<!-- 134612240097024&#45;&gt;134612255321120* -->\n<g id=\"edge14\" class=\"edge\">\n<title>134612240097024&#45;&gt;134612255321120*</title>\n<path fill=\"none\" stroke=\"black\" d=\"M169.28,-36.5C179.65,-39.61 190.16,-42.98 200,-46.5 210.28,-50.17 221.28,-54.74 231.11,-59.07\"/>\n<polygon fill=\"black\" stroke=\"black\" points=\"229.93,-62.37 240.48,-63.27 232.79,-55.99 229.93,-62.37\"/>\n</g>\n<!-- 134612240097072 -->\n<g id=\"node10\" class=\"node\">\n<title>134612240097072</title>\n<polygon fill=\"none\" stroke=\"black\" points=\"716,-27.5 716,-63.5 901,-63.5 901,-27.5 716,-27.5\"/>\n<text text-anchor=\"middle\" x=\"727.5\" y=\"-41.8\" font-family=\"Times,serif\" font-size=\"14.00\">b</text>\n<polyline fill=\"none\" stroke=\"black\" points=\"739,-27.5 739,-63.5 \"/>\n<text text-anchor=\"middle\" x=\"779\" y=\"-41.8\" font-family=\"Times,serif\" font-size=\"14.00\">data 6.8814</text>\n<polyline fill=\"none\" stroke=\"black\" points=\"819,-27.5 819,-63.5 \"/>\n<text text-anchor=\"middle\" x=\"860\" y=\"-41.8\" font-family=\"Times,serif\" font-size=\"14.00\">grad 0.0000</text>\n</g>\n<!-- 134612240097072&#45;&gt;134612243930976+ -->\n<g id=\"edge7\" class=\"edge\">\n<title>134612240097072&#45;&gt;134612243930976+</title>\n<path fill=\"none\" stroke=\"black\" d=\"M901.02,-58.01C926,-61.43 951.59,-64.93 971.37,-67.63\"/>\n<polygon fill=\"black\" stroke=\"black\" points=\"971.05,-71.12 981.43,-69.01 972,-64.18 971.05,-71.12\"/>\n</g>\n<!-- 134612243930976 -->\n<g id=\"node11\" class=\"node\">\n<title>134612243930976</title>\n<polygon fill=\"none\" stroke=\"black\" points=\"1071,-54.5 1071,-90.5 1256,-90.5 1256,-54.5 1071,-54.5\"/>\n<text text-anchor=\"middle\" x=\"1082.5\" y=\"-68.8\" font-family=\"Times,serif\" font-size=\"14.00\">n</text>\n<polyline fill=\"none\" stroke=\"black\" points=\"1094,-54.5 1094,-90.5 \"/>\n<text text-anchor=\"middle\" x=\"1134\" y=\"-68.8\" font-family=\"Times,serif\" font-size=\"14.00\">data 0.8814</text>\n<polyline fill=\"none\" stroke=\"black\" points=\"1174,-54.5 1174,-90.5 \"/>\n<text text-anchor=\"middle\" x=\"1215\" y=\"-68.8\" font-family=\"Times,serif\" font-size=\"14.00\">grad 0.0000</text>\n</g>\n<!-- 134612243930976&#45;&gt;134612242730624tanh -->\n<g id=\"edge11\" class=\"edge\">\n<title>134612243930976&#45;&gt;134612242730624tanh</title>\n<path fill=\"none\" stroke=\"black\" d=\"M1256.01,-72.5C1265.01,-72.5 1273.74,-72.5 1281.66,-72.5\"/>\n<polygon fill=\"black\" stroke=\"black\" points=\"1281.91,-76 1291.91,-72.5 1281.91,-69 1281.91,-76\"/>\n</g>\n<!-- 134612243930976+&#45;&gt;134612243930976 -->\n<g id=\"edge4\" class=\"edge\">\n<title>134612243930976+&#45;&gt;134612243930976</title>\n<path fill=\"none\" stroke=\"black\" d=\"M1035.04,-72.5C1042.58,-72.5 1051.3,-72.5 1060.57,-72.5\"/>\n<polygon fill=\"black\" stroke=\"black\" points=\"1060.81,-76 1070.81,-72.5 1060.81,-69 1060.81,-76\"/>\n</g>\n<!-- 134612255310176 -->\n<g id=\"node13\" class=\"node\">\n<title>134612255310176</title>\n<polygon fill=\"none\" stroke=\"black\" points=\"328.5,-110.5 328.5,-146.5 543.5,-146.5 543.5,-110.5 328.5,-110.5\"/>\n<text text-anchor=\"middle\" x=\"355\" y=\"-124.8\" font-family=\"Times,serif\" font-size=\"14.00\">x2*w2</text>\n<polyline fill=\"none\" stroke=\"black\" points=\"381.5,-110.5 381.5,-146.5 \"/>\n<text text-anchor=\"middle\" x=\"421.5\" y=\"-124.8\" font-family=\"Times,serif\" font-size=\"14.00\">data 0.0000</text>\n<polyline fill=\"none\" stroke=\"black\" points=\"461.5,-110.5 461.5,-146.5 \"/>\n<text text-anchor=\"middle\" x=\"502.5\" y=\"-124.8\" font-family=\"Times,serif\" font-size=\"14.00\">grad 0.0000</text>\n</g>\n<!-- 134612255310176&#45;&gt;134612255316176+ -->\n<g id=\"edge12\" class=\"edge\">\n<title>134612255310176&#45;&gt;134612255316176+</title>\n<path fill=\"none\" stroke=\"black\" d=\"M543.84,-111.01C554.01,-109.34 563.76,-107.74 572.44,-106.32\"/>\n<polygon fill=\"black\" stroke=\"black\" points=\"573.17,-109.75 582.47,-104.68 572.04,-102.84 573.17,-109.75\"/>\n</g>\n<!-- 134612255310176*&#45;&gt;134612255310176 -->\n<g id=\"edge5\" class=\"edge\">\n<title>134612255310176*&#45;&gt;134612255310176</title>\n<path fill=\"none\" stroke=\"black\" d=\"M290.34,-128.5C298.51,-128.5 308.08,-128.5 318.36,-128.5\"/>\n<polygon fill=\"black\" stroke=\"black\" points=\"318.39,-132 328.39,-128.5 318.39,-125 318.39,-132\"/>\n</g>\n<!-- 134612240104800 -->\n<g id=\"node15\" class=\"node\">\n<title>134612240104800</title>\n<polygon fill=\"none\" stroke=\"black\" points=\"4,-110.5 4,-146.5 196,-146.5 196,-110.5 4,-110.5\"/>\n<text text-anchor=\"middle\" x=\"19\" y=\"-124.8\" font-family=\"Times,serif\" font-size=\"14.00\">x2</text>\n<polyline fill=\"none\" stroke=\"black\" points=\"34,-110.5 34,-146.5 \"/>\n<text text-anchor=\"middle\" x=\"74\" y=\"-124.8\" font-family=\"Times,serif\" font-size=\"14.00\">data 0.0000</text>\n<polyline fill=\"none\" stroke=\"black\" points=\"114,-110.5 114,-146.5 \"/>\n<text text-anchor=\"middle\" x=\"155\" y=\"-124.8\" font-family=\"Times,serif\" font-size=\"14.00\">grad 0.0000</text>\n</g>\n<!-- 134612240104800&#45;&gt;134612255310176* -->\n<g id=\"edge13\" class=\"edge\">\n<title>134612240104800&#45;&gt;134612255310176*</title>\n<path fill=\"none\" stroke=\"black\" d=\"M196.05,-128.5C206.52,-128.5 216.65,-128.5 225.71,-128.5\"/>\n<polygon fill=\"black\" stroke=\"black\" points=\"225.79,-132 235.79,-128.5 225.79,-125 225.79,-132\"/>\n</g>\n</g>\n</svg>\n",
            "text/plain": [
              "<graphviz.graphs.Digraph at 0x7a6ddafab010>"
            ]
          },
          "metadata": {},
          "execution_count": 216
        }
      ],
      "source": [
        "draw_dot(o, label)"
      ]
    },
    {
      "cell_type": "markdown",
      "metadata": {
        "id": "RszGWh2UaOA6"
      },
      "source": [
        "### Computing gradient of each node manually"
      ]
    },
    {
      "cell_type": "markdown",
      "metadata": {
        "id": "UGdzBuz7aRTm"
      },
      "source": [
        "$$ \\frac{\\partial o}{\\partial o} = 1 $$"
      ]
    },
    {
      "cell_type": "code",
      "execution_count": 217,
      "metadata": {
        "id": "r4Sis0toaUxX"
      },
      "outputs": [],
      "source": [
        "o.grad = 1.0"
      ]
    },
    {
      "cell_type": "code",
      "execution_count": 218,
      "metadata": {
        "colab": {
          "base_uri": "https://localhost:8080/",
          "height": 321
        },
        "id": "QsRd-zo8aPY0",
        "outputId": "141cc9d4-f021-4aa6-a218-adee5990d1a7"
      },
      "outputs": [
        {
          "output_type": "execute_result",
          "data": {
            "image/svg+xml": "<?xml version=\"1.0\" encoding=\"UTF-8\" standalone=\"no\"?>\n<!DOCTYPE svg PUBLIC \"-//W3C//DTD SVG 1.1//EN\"\n \"http://www.w3.org/Graphics/SVG/1.1/DTD/svg11.dtd\">\n<!-- Generated by graphviz version 2.43.0 (0)\n -->\n<!-- Title: %3 Pages: 1 -->\n<svg width=\"1575pt\" height=\"210pt\"\n viewBox=\"0.00 0.00 1575.00 210.00\" xmlns=\"http://www.w3.org/2000/svg\" xmlns:xlink=\"http://www.w3.org/1999/xlink\">\n<g id=\"graph0\" class=\"graph\" transform=\"scale(1 1) rotate(0) translate(4 206)\">\n<title>%3</title>\n<polygon fill=\"white\" stroke=\"transparent\" points=\"-4,4 -4,-206 1571,-206 1571,4 -4,4\"/>\n<!-- 134612240103936 -->\n<g id=\"node1\" class=\"node\">\n<title>134612240103936</title>\n<polygon fill=\"none\" stroke=\"black\" points=\"2.5,-165.5 2.5,-201.5 197.5,-201.5 197.5,-165.5 2.5,-165.5\"/>\n<text text-anchor=\"middle\" x=\"19\" y=\"-179.8\" font-family=\"Times,serif\" font-size=\"14.00\">w2</text>\n<polyline fill=\"none\" stroke=\"black\" points=\"35.5,-165.5 35.5,-201.5 \"/>\n<text text-anchor=\"middle\" x=\"75.5\" y=\"-179.8\" font-family=\"Times,serif\" font-size=\"14.00\">data 1.0000</text>\n<polyline fill=\"none\" stroke=\"black\" points=\"115.5,-165.5 115.5,-201.5 \"/>\n<text text-anchor=\"middle\" x=\"156.5\" y=\"-179.8\" font-family=\"Times,serif\" font-size=\"14.00\">grad 0.0000</text>\n</g>\n<!-- 134612255310176* -->\n<g id=\"node14\" class=\"node\">\n<title>134612255310176*</title>\n<ellipse fill=\"none\" stroke=\"black\" cx=\"263\" cy=\"-128.5\" rx=\"27\" ry=\"18\"/>\n<text text-anchor=\"middle\" x=\"263\" y=\"-124.8\" font-family=\"Times,serif\" font-size=\"14.00\">*</text>\n</g>\n<!-- 134612240103936&#45;&gt;134612255310176* -->\n<g id=\"edge6\" class=\"edge\">\n<title>134612240103936&#45;&gt;134612255310176*</title>\n<path fill=\"none\" stroke=\"black\" d=\"M172.53,-165.44C181.84,-162.67 191.2,-159.67 200,-156.5 210.53,-152.71 221.75,-147.9 231.72,-143.33\"/>\n<polygon fill=\"black\" stroke=\"black\" points=\"233.25,-146.48 240.82,-139.07 230.28,-140.14 233.25,-146.48\"/>\n</g>\n<!-- 134612255321120 -->\n<g id=\"node2\" class=\"node\">\n<title>134612255321120</title>\n<polygon fill=\"none\" stroke=\"black\" points=\"326,-55.5 326,-91.5 546,-91.5 546,-55.5 326,-55.5\"/>\n<text text-anchor=\"middle\" x=\"352.5\" y=\"-69.8\" font-family=\"Times,serif\" font-size=\"14.00\">x1*w1</text>\n<polyline fill=\"none\" stroke=\"black\" points=\"379,-55.5 379,-91.5 \"/>\n<text text-anchor=\"middle\" x=\"421.5\" y=\"-69.8\" font-family=\"Times,serif\" font-size=\"14.00\">data &#45;6.0000</text>\n<polyline fill=\"none\" stroke=\"black\" points=\"464,-55.5 464,-91.5 \"/>\n<text text-anchor=\"middle\" x=\"505\" y=\"-69.8\" font-family=\"Times,serif\" font-size=\"14.00\">grad 0.0000</text>\n</g>\n<!-- 134612255316176+ -->\n<g id=\"node8\" class=\"node\">\n<title>134612255316176+</title>\n<ellipse fill=\"none\" stroke=\"black\" cx=\"609\" cy=\"-100.5\" rx=\"27\" ry=\"18\"/>\n<text text-anchor=\"middle\" x=\"609\" y=\"-96.8\" font-family=\"Times,serif\" font-size=\"14.00\">+</text>\n</g>\n<!-- 134612255321120&#45;&gt;134612255316176+ -->\n<g id=\"edge10\" class=\"edge\">\n<title>134612255321120&#45;&gt;134612255316176+</title>\n<path fill=\"none\" stroke=\"black\" d=\"M546.27,-90.75C555.64,-92.23 564.6,-93.65 572.65,-94.92\"/>\n<polygon fill=\"black\" stroke=\"black\" points=\"572.23,-98.4 582.65,-96.5 573.32,-91.48 572.23,-98.4\"/>\n</g>\n<!-- 134612255321120* -->\n<g id=\"node3\" class=\"node\">\n<title>134612255321120*</title>\n<ellipse fill=\"none\" stroke=\"black\" cx=\"263\" cy=\"-73.5\" rx=\"27\" ry=\"18\"/>\n<text text-anchor=\"middle\" x=\"263\" y=\"-69.8\" font-family=\"Times,serif\" font-size=\"14.00\">*</text>\n</g>\n<!-- 134612255321120*&#45;&gt;134612255321120 -->\n<g id=\"edge1\" class=\"edge\">\n<title>134612255321120*&#45;&gt;134612255321120</title>\n<path fill=\"none\" stroke=\"black\" d=\"M290.34,-73.5C297.77,-73.5 306.37,-73.5 315.6,-73.5\"/>\n<polygon fill=\"black\" stroke=\"black\" points=\"315.84,-77 325.84,-73.5 315.84,-70 315.84,-77\"/>\n</g>\n<!-- 134612242730624 -->\n<g id=\"node4\" class=\"node\">\n<title>134612242730624</title>\n<polygon fill=\"none\" stroke=\"black\" points=\"1382,-54.5 1382,-90.5 1567,-90.5 1567,-54.5 1382,-54.5\"/>\n<text text-anchor=\"middle\" x=\"1393.5\" y=\"-68.8\" font-family=\"Times,serif\" font-size=\"14.00\">o</text>\n<polyline fill=\"none\" stroke=\"black\" points=\"1405,-54.5 1405,-90.5 \"/>\n<text text-anchor=\"middle\" x=\"1445\" y=\"-68.8\" font-family=\"Times,serif\" font-size=\"14.00\">data 0.7071</text>\n<polyline fill=\"none\" stroke=\"black\" points=\"1485,-54.5 1485,-90.5 \"/>\n<text text-anchor=\"middle\" x=\"1526\" y=\"-68.8\" font-family=\"Times,serif\" font-size=\"14.00\">grad 1.0000</text>\n</g>\n<!-- 134612242730624tanh -->\n<g id=\"node5\" class=\"node\">\n<title>134612242730624tanh</title>\n<ellipse fill=\"none\" stroke=\"black\" cx=\"1319\" cy=\"-72.5\" rx=\"27\" ry=\"18\"/>\n<text text-anchor=\"middle\" x=\"1319\" y=\"-68.8\" font-family=\"Times,serif\" font-size=\"14.00\">tanh</text>\n</g>\n<!-- 134612242730624tanh&#45;&gt;134612242730624 -->\n<g id=\"edge2\" class=\"edge\">\n<title>134612242730624tanh&#45;&gt;134612242730624</title>\n<path fill=\"none\" stroke=\"black\" d=\"M1346.04,-72.5C1353.58,-72.5 1362.3,-72.5 1371.57,-72.5\"/>\n<polygon fill=\"black\" stroke=\"black\" points=\"1371.81,-76 1381.81,-72.5 1371.81,-69 1371.81,-76\"/>\n</g>\n<!-- 134612240097456 -->\n<g id=\"node6\" class=\"node\">\n<title>134612240097456</title>\n<polygon fill=\"none\" stroke=\"black\" points=\"0,-55.5 0,-91.5 200,-91.5 200,-55.5 0,-55.5\"/>\n<text text-anchor=\"middle\" x=\"16.5\" y=\"-69.8\" font-family=\"Times,serif\" font-size=\"14.00\">w1</text>\n<polyline fill=\"none\" stroke=\"black\" points=\"33,-55.5 33,-91.5 \"/>\n<text text-anchor=\"middle\" x=\"75.5\" y=\"-69.8\" font-family=\"Times,serif\" font-size=\"14.00\">data &#45;3.0000</text>\n<polyline fill=\"none\" stroke=\"black\" points=\"118,-55.5 118,-91.5 \"/>\n<text text-anchor=\"middle\" x=\"159\" y=\"-69.8\" font-family=\"Times,serif\" font-size=\"14.00\">grad 0.0000</text>\n</g>\n<!-- 134612240097456&#45;&gt;134612255321120* -->\n<g id=\"edge8\" class=\"edge\">\n<title>134612240097456&#45;&gt;134612255321120*</title>\n<path fill=\"none\" stroke=\"black\" d=\"M200.21,-73.5C209.2,-73.5 217.86,-73.5 225.7,-73.5\"/>\n<polygon fill=\"black\" stroke=\"black\" points=\"225.85,-77 235.85,-73.5 225.85,-70 225.85,-77\"/>\n</g>\n<!-- 134612255316176 -->\n<g id=\"node7\" class=\"node\">\n<title>134612255316176</title>\n<polygon fill=\"none\" stroke=\"black\" points=\"672,-82.5 672,-118.5 945,-118.5 945,-82.5 672,-82.5\"/>\n<text text-anchor=\"middle\" x=\"725\" y=\"-96.8\" font-family=\"Times,serif\" font-size=\"14.00\">x1*w1 + x2*w2</text>\n<polyline fill=\"none\" stroke=\"black\" points=\"778,-82.5 778,-118.5 \"/>\n<text text-anchor=\"middle\" x=\"820.5\" y=\"-96.8\" font-family=\"Times,serif\" font-size=\"14.00\">data &#45;6.0000</text>\n<polyline fill=\"none\" stroke=\"black\" points=\"863,-82.5 863,-118.5 \"/>\n<text text-anchor=\"middle\" x=\"904\" y=\"-96.8\" font-family=\"Times,serif\" font-size=\"14.00\">grad 0.0000</text>\n</g>\n<!-- 134612243930976+ -->\n<g id=\"node12\" class=\"node\">\n<title>134612243930976+</title>\n<ellipse fill=\"none\" stroke=\"black\" cx=\"1008\" cy=\"-72.5\" rx=\"27\" ry=\"18\"/>\n<text text-anchor=\"middle\" x=\"1008\" y=\"-68.8\" font-family=\"Times,serif\" font-size=\"14.00\">+</text>\n</g>\n<!-- 134612255316176&#45;&gt;134612243930976+ -->\n<g id=\"edge9\" class=\"edge\">\n<title>134612255316176&#45;&gt;134612243930976+</title>\n<path fill=\"none\" stroke=\"black\" d=\"M936.53,-82.49C949.09,-80.71 960.99,-79.02 971.3,-77.56\"/>\n<polygon fill=\"black\" stroke=\"black\" points=\"972.03,-80.99 981.44,-76.12 971.05,-74.06 972.03,-80.99\"/>\n</g>\n<!-- 134612255316176+&#45;&gt;134612255316176 -->\n<g id=\"edge3\" class=\"edge\">\n<title>134612255316176+&#45;&gt;134612255316176</title>\n<path fill=\"none\" stroke=\"black\" d=\"M636.23,-100.5C643.7,-100.5 652.41,-100.5 661.87,-100.5\"/>\n<polygon fill=\"black\" stroke=\"black\" points=\"661.98,-104 671.98,-100.5 661.98,-97 661.98,-104\"/>\n</g>\n<!-- 134612240097024 -->\n<g id=\"node9\" class=\"node\">\n<title>134612240097024</title>\n<polygon fill=\"none\" stroke=\"black\" points=\"4,-0.5 4,-36.5 196,-36.5 196,-0.5 4,-0.5\"/>\n<text text-anchor=\"middle\" x=\"19\" y=\"-14.8\" font-family=\"Times,serif\" font-size=\"14.00\">x1</text>\n<polyline fill=\"none\" stroke=\"black\" points=\"34,-0.5 34,-36.5 \"/>\n<text text-anchor=\"middle\" x=\"74\" y=\"-14.8\" font-family=\"Times,serif\" font-size=\"14.00\">data 2.0000</text>\n<polyline fill=\"none\" stroke=\"black\" points=\"114,-0.5 114,-36.5 \"/>\n<text text-anchor=\"middle\" x=\"155\" y=\"-14.8\" font-family=\"Times,serif\" font-size=\"14.00\">grad 0.0000</text>\n</g>\n<!-- 134612240097024&#45;&gt;134612255321120* -->\n<g id=\"edge14\" class=\"edge\">\n<title>134612240097024&#45;&gt;134612255321120*</title>\n<path fill=\"none\" stroke=\"black\" d=\"M169.28,-36.5C179.65,-39.61 190.16,-42.98 200,-46.5 210.28,-50.17 221.28,-54.74 231.11,-59.07\"/>\n<polygon fill=\"black\" stroke=\"black\" points=\"229.93,-62.37 240.48,-63.27 232.79,-55.99 229.93,-62.37\"/>\n</g>\n<!-- 134612240097072 -->\n<g id=\"node10\" class=\"node\">\n<title>134612240097072</title>\n<polygon fill=\"none\" stroke=\"black\" points=\"716,-27.5 716,-63.5 901,-63.5 901,-27.5 716,-27.5\"/>\n<text text-anchor=\"middle\" x=\"727.5\" y=\"-41.8\" font-family=\"Times,serif\" font-size=\"14.00\">b</text>\n<polyline fill=\"none\" stroke=\"black\" points=\"739,-27.5 739,-63.5 \"/>\n<text text-anchor=\"middle\" x=\"779\" y=\"-41.8\" font-family=\"Times,serif\" font-size=\"14.00\">data 6.8814</text>\n<polyline fill=\"none\" stroke=\"black\" points=\"819,-27.5 819,-63.5 \"/>\n<text text-anchor=\"middle\" x=\"860\" y=\"-41.8\" font-family=\"Times,serif\" font-size=\"14.00\">grad 0.0000</text>\n</g>\n<!-- 134612240097072&#45;&gt;134612243930976+ -->\n<g id=\"edge7\" class=\"edge\">\n<title>134612240097072&#45;&gt;134612243930976+</title>\n<path fill=\"none\" stroke=\"black\" d=\"M901.02,-58.01C926,-61.43 951.59,-64.93 971.37,-67.63\"/>\n<polygon fill=\"black\" stroke=\"black\" points=\"971.05,-71.12 981.43,-69.01 972,-64.18 971.05,-71.12\"/>\n</g>\n<!-- 134612243930976 -->\n<g id=\"node11\" class=\"node\">\n<title>134612243930976</title>\n<polygon fill=\"none\" stroke=\"black\" points=\"1071,-54.5 1071,-90.5 1256,-90.5 1256,-54.5 1071,-54.5\"/>\n<text text-anchor=\"middle\" x=\"1082.5\" y=\"-68.8\" font-family=\"Times,serif\" font-size=\"14.00\">n</text>\n<polyline fill=\"none\" stroke=\"black\" points=\"1094,-54.5 1094,-90.5 \"/>\n<text text-anchor=\"middle\" x=\"1134\" y=\"-68.8\" font-family=\"Times,serif\" font-size=\"14.00\">data 0.8814</text>\n<polyline fill=\"none\" stroke=\"black\" points=\"1174,-54.5 1174,-90.5 \"/>\n<text text-anchor=\"middle\" x=\"1215\" y=\"-68.8\" font-family=\"Times,serif\" font-size=\"14.00\">grad 0.0000</text>\n</g>\n<!-- 134612243930976&#45;&gt;134612242730624tanh -->\n<g id=\"edge11\" class=\"edge\">\n<title>134612243930976&#45;&gt;134612242730624tanh</title>\n<path fill=\"none\" stroke=\"black\" d=\"M1256.01,-72.5C1265.01,-72.5 1273.74,-72.5 1281.66,-72.5\"/>\n<polygon fill=\"black\" stroke=\"black\" points=\"1281.91,-76 1291.91,-72.5 1281.91,-69 1281.91,-76\"/>\n</g>\n<!-- 134612243930976+&#45;&gt;134612243930976 -->\n<g id=\"edge4\" class=\"edge\">\n<title>134612243930976+&#45;&gt;134612243930976</title>\n<path fill=\"none\" stroke=\"black\" d=\"M1035.04,-72.5C1042.58,-72.5 1051.3,-72.5 1060.57,-72.5\"/>\n<polygon fill=\"black\" stroke=\"black\" points=\"1060.81,-76 1070.81,-72.5 1060.81,-69 1060.81,-76\"/>\n</g>\n<!-- 134612255310176 -->\n<g id=\"node13\" class=\"node\">\n<title>134612255310176</title>\n<polygon fill=\"none\" stroke=\"black\" points=\"328.5,-110.5 328.5,-146.5 543.5,-146.5 543.5,-110.5 328.5,-110.5\"/>\n<text text-anchor=\"middle\" x=\"355\" y=\"-124.8\" font-family=\"Times,serif\" font-size=\"14.00\">x2*w2</text>\n<polyline fill=\"none\" stroke=\"black\" points=\"381.5,-110.5 381.5,-146.5 \"/>\n<text text-anchor=\"middle\" x=\"421.5\" y=\"-124.8\" font-family=\"Times,serif\" font-size=\"14.00\">data 0.0000</text>\n<polyline fill=\"none\" stroke=\"black\" points=\"461.5,-110.5 461.5,-146.5 \"/>\n<text text-anchor=\"middle\" x=\"502.5\" y=\"-124.8\" font-family=\"Times,serif\" font-size=\"14.00\">grad 0.0000</text>\n</g>\n<!-- 134612255310176&#45;&gt;134612255316176+ -->\n<g id=\"edge12\" class=\"edge\">\n<title>134612255310176&#45;&gt;134612255316176+</title>\n<path fill=\"none\" stroke=\"black\" d=\"M543.84,-111.01C554.01,-109.34 563.76,-107.74 572.44,-106.32\"/>\n<polygon fill=\"black\" stroke=\"black\" points=\"573.17,-109.75 582.47,-104.68 572.04,-102.84 573.17,-109.75\"/>\n</g>\n<!-- 134612255310176*&#45;&gt;134612255310176 -->\n<g id=\"edge5\" class=\"edge\">\n<title>134612255310176*&#45;&gt;134612255310176</title>\n<path fill=\"none\" stroke=\"black\" d=\"M290.34,-128.5C298.51,-128.5 308.08,-128.5 318.36,-128.5\"/>\n<polygon fill=\"black\" stroke=\"black\" points=\"318.39,-132 328.39,-128.5 318.39,-125 318.39,-132\"/>\n</g>\n<!-- 134612240104800 -->\n<g id=\"node15\" class=\"node\">\n<title>134612240104800</title>\n<polygon fill=\"none\" stroke=\"black\" points=\"4,-110.5 4,-146.5 196,-146.5 196,-110.5 4,-110.5\"/>\n<text text-anchor=\"middle\" x=\"19\" y=\"-124.8\" font-family=\"Times,serif\" font-size=\"14.00\">x2</text>\n<polyline fill=\"none\" stroke=\"black\" points=\"34,-110.5 34,-146.5 \"/>\n<text text-anchor=\"middle\" x=\"74\" y=\"-124.8\" font-family=\"Times,serif\" font-size=\"14.00\">data 0.0000</text>\n<polyline fill=\"none\" stroke=\"black\" points=\"114,-110.5 114,-146.5 \"/>\n<text text-anchor=\"middle\" x=\"155\" y=\"-124.8\" font-family=\"Times,serif\" font-size=\"14.00\">grad 0.0000</text>\n</g>\n<!-- 134612240104800&#45;&gt;134612255310176* -->\n<g id=\"edge13\" class=\"edge\">\n<title>134612240104800&#45;&gt;134612255310176*</title>\n<path fill=\"none\" stroke=\"black\" d=\"M196.05,-128.5C206.52,-128.5 216.65,-128.5 225.71,-128.5\"/>\n<polygon fill=\"black\" stroke=\"black\" points=\"225.79,-132 235.79,-128.5 225.79,-125 225.79,-132\"/>\n</g>\n</g>\n</svg>\n",
            "text/plain": [
              "<graphviz.graphs.Digraph at 0x7a6ddba92c50>"
            ]
          },
          "metadata": {},
          "execution_count": 218
        }
      ],
      "source": [
        "draw_dot(o, label)"
      ]
    },
    {
      "cell_type": "markdown",
      "metadata": {
        "id": "v9BNqO44abhV"
      },
      "source": []
    },
    {
      "cell_type": "markdown",
      "metadata": {
        "id": "Z-LHraf2apch"
      },
      "source": [
        "$$ o = \\tanh(n) $$\n",
        "$$ \\frac{\\partial o}{\\partial n} = \\frac{\\partial{\\tanh(n)}}{\\partial n} = 1 - \\tanh(n)^2 = 1 - o^2 $$"
      ]
    },
    {
      "cell_type": "code",
      "execution_count": 219,
      "metadata": {
        "id": "Zh_jnhF4atgV"
      },
      "outputs": [],
      "source": [
        "n.grad = 1 - (o.data ** 2)"
      ]
    },
    {
      "cell_type": "code",
      "execution_count": 220,
      "metadata": {
        "colab": {
          "base_uri": "https://localhost:8080/",
          "height": 321
        },
        "id": "fqUOhm1nbVrZ",
        "outputId": "57a8d6f7-0f9f-4970-cedf-eb5b7462486b"
      },
      "outputs": [
        {
          "output_type": "execute_result",
          "data": {
            "image/svg+xml": "<?xml version=\"1.0\" encoding=\"UTF-8\" standalone=\"no\"?>\n<!DOCTYPE svg PUBLIC \"-//W3C//DTD SVG 1.1//EN\"\n \"http://www.w3.org/Graphics/SVG/1.1/DTD/svg11.dtd\">\n<!-- Generated by graphviz version 2.43.0 (0)\n -->\n<!-- Title: %3 Pages: 1 -->\n<svg width=\"1575pt\" height=\"210pt\"\n viewBox=\"0.00 0.00 1575.00 210.00\" xmlns=\"http://www.w3.org/2000/svg\" xmlns:xlink=\"http://www.w3.org/1999/xlink\">\n<g id=\"graph0\" class=\"graph\" transform=\"scale(1 1) rotate(0) translate(4 206)\">\n<title>%3</title>\n<polygon fill=\"white\" stroke=\"transparent\" points=\"-4,4 -4,-206 1571,-206 1571,4 -4,4\"/>\n<!-- 134612240103936 -->\n<g id=\"node1\" class=\"node\">\n<title>134612240103936</title>\n<polygon fill=\"none\" stroke=\"black\" points=\"2.5,-165.5 2.5,-201.5 197.5,-201.5 197.5,-165.5 2.5,-165.5\"/>\n<text text-anchor=\"middle\" x=\"19\" y=\"-179.8\" font-family=\"Times,serif\" font-size=\"14.00\">w2</text>\n<polyline fill=\"none\" stroke=\"black\" points=\"35.5,-165.5 35.5,-201.5 \"/>\n<text text-anchor=\"middle\" x=\"75.5\" y=\"-179.8\" font-family=\"Times,serif\" font-size=\"14.00\">data 1.0000</text>\n<polyline fill=\"none\" stroke=\"black\" points=\"115.5,-165.5 115.5,-201.5 \"/>\n<text text-anchor=\"middle\" x=\"156.5\" y=\"-179.8\" font-family=\"Times,serif\" font-size=\"14.00\">grad 0.0000</text>\n</g>\n<!-- 134612255310176* -->\n<g id=\"node14\" class=\"node\">\n<title>134612255310176*</title>\n<ellipse fill=\"none\" stroke=\"black\" cx=\"263\" cy=\"-128.5\" rx=\"27\" ry=\"18\"/>\n<text text-anchor=\"middle\" x=\"263\" y=\"-124.8\" font-family=\"Times,serif\" font-size=\"14.00\">*</text>\n</g>\n<!-- 134612240103936&#45;&gt;134612255310176* -->\n<g id=\"edge6\" class=\"edge\">\n<title>134612240103936&#45;&gt;134612255310176*</title>\n<path fill=\"none\" stroke=\"black\" d=\"M172.53,-165.44C181.84,-162.67 191.2,-159.67 200,-156.5 210.53,-152.71 221.75,-147.9 231.72,-143.33\"/>\n<polygon fill=\"black\" stroke=\"black\" points=\"233.25,-146.48 240.82,-139.07 230.28,-140.14 233.25,-146.48\"/>\n</g>\n<!-- 134612255321120 -->\n<g id=\"node2\" class=\"node\">\n<title>134612255321120</title>\n<polygon fill=\"none\" stroke=\"black\" points=\"326,-55.5 326,-91.5 546,-91.5 546,-55.5 326,-55.5\"/>\n<text text-anchor=\"middle\" x=\"352.5\" y=\"-69.8\" font-family=\"Times,serif\" font-size=\"14.00\">x1*w1</text>\n<polyline fill=\"none\" stroke=\"black\" points=\"379,-55.5 379,-91.5 \"/>\n<text text-anchor=\"middle\" x=\"421.5\" y=\"-69.8\" font-family=\"Times,serif\" font-size=\"14.00\">data &#45;6.0000</text>\n<polyline fill=\"none\" stroke=\"black\" points=\"464,-55.5 464,-91.5 \"/>\n<text text-anchor=\"middle\" x=\"505\" y=\"-69.8\" font-family=\"Times,serif\" font-size=\"14.00\">grad 0.0000</text>\n</g>\n<!-- 134612255316176+ -->\n<g id=\"node8\" class=\"node\">\n<title>134612255316176+</title>\n<ellipse fill=\"none\" stroke=\"black\" cx=\"609\" cy=\"-100.5\" rx=\"27\" ry=\"18\"/>\n<text text-anchor=\"middle\" x=\"609\" y=\"-96.8\" font-family=\"Times,serif\" font-size=\"14.00\">+</text>\n</g>\n<!-- 134612255321120&#45;&gt;134612255316176+ -->\n<g id=\"edge10\" class=\"edge\">\n<title>134612255321120&#45;&gt;134612255316176+</title>\n<path fill=\"none\" stroke=\"black\" d=\"M546.27,-90.75C555.64,-92.23 564.6,-93.65 572.65,-94.92\"/>\n<polygon fill=\"black\" stroke=\"black\" points=\"572.23,-98.4 582.65,-96.5 573.32,-91.48 572.23,-98.4\"/>\n</g>\n<!-- 134612255321120* -->\n<g id=\"node3\" class=\"node\">\n<title>134612255321120*</title>\n<ellipse fill=\"none\" stroke=\"black\" cx=\"263\" cy=\"-73.5\" rx=\"27\" ry=\"18\"/>\n<text text-anchor=\"middle\" x=\"263\" y=\"-69.8\" font-family=\"Times,serif\" font-size=\"14.00\">*</text>\n</g>\n<!-- 134612255321120*&#45;&gt;134612255321120 -->\n<g id=\"edge1\" class=\"edge\">\n<title>134612255321120*&#45;&gt;134612255321120</title>\n<path fill=\"none\" stroke=\"black\" d=\"M290.34,-73.5C297.77,-73.5 306.37,-73.5 315.6,-73.5\"/>\n<polygon fill=\"black\" stroke=\"black\" points=\"315.84,-77 325.84,-73.5 315.84,-70 315.84,-77\"/>\n</g>\n<!-- 134612242730624 -->\n<g id=\"node4\" class=\"node\">\n<title>134612242730624</title>\n<polygon fill=\"none\" stroke=\"black\" points=\"1382,-54.5 1382,-90.5 1567,-90.5 1567,-54.5 1382,-54.5\"/>\n<text text-anchor=\"middle\" x=\"1393.5\" y=\"-68.8\" font-family=\"Times,serif\" font-size=\"14.00\">o</text>\n<polyline fill=\"none\" stroke=\"black\" points=\"1405,-54.5 1405,-90.5 \"/>\n<text text-anchor=\"middle\" x=\"1445\" y=\"-68.8\" font-family=\"Times,serif\" font-size=\"14.00\">data 0.7071</text>\n<polyline fill=\"none\" stroke=\"black\" points=\"1485,-54.5 1485,-90.5 \"/>\n<text text-anchor=\"middle\" x=\"1526\" y=\"-68.8\" font-family=\"Times,serif\" font-size=\"14.00\">grad 1.0000</text>\n</g>\n<!-- 134612242730624tanh -->\n<g id=\"node5\" class=\"node\">\n<title>134612242730624tanh</title>\n<ellipse fill=\"none\" stroke=\"black\" cx=\"1319\" cy=\"-72.5\" rx=\"27\" ry=\"18\"/>\n<text text-anchor=\"middle\" x=\"1319\" y=\"-68.8\" font-family=\"Times,serif\" font-size=\"14.00\">tanh</text>\n</g>\n<!-- 134612242730624tanh&#45;&gt;134612242730624 -->\n<g id=\"edge2\" class=\"edge\">\n<title>134612242730624tanh&#45;&gt;134612242730624</title>\n<path fill=\"none\" stroke=\"black\" d=\"M1346.04,-72.5C1353.58,-72.5 1362.3,-72.5 1371.57,-72.5\"/>\n<polygon fill=\"black\" stroke=\"black\" points=\"1371.81,-76 1381.81,-72.5 1371.81,-69 1371.81,-76\"/>\n</g>\n<!-- 134612240097456 -->\n<g id=\"node6\" class=\"node\">\n<title>134612240097456</title>\n<polygon fill=\"none\" stroke=\"black\" points=\"0,-55.5 0,-91.5 200,-91.5 200,-55.5 0,-55.5\"/>\n<text text-anchor=\"middle\" x=\"16.5\" y=\"-69.8\" font-family=\"Times,serif\" font-size=\"14.00\">w1</text>\n<polyline fill=\"none\" stroke=\"black\" points=\"33,-55.5 33,-91.5 \"/>\n<text text-anchor=\"middle\" x=\"75.5\" y=\"-69.8\" font-family=\"Times,serif\" font-size=\"14.00\">data &#45;3.0000</text>\n<polyline fill=\"none\" stroke=\"black\" points=\"118,-55.5 118,-91.5 \"/>\n<text text-anchor=\"middle\" x=\"159\" y=\"-69.8\" font-family=\"Times,serif\" font-size=\"14.00\">grad 0.0000</text>\n</g>\n<!-- 134612240097456&#45;&gt;134612255321120* -->\n<g id=\"edge8\" class=\"edge\">\n<title>134612240097456&#45;&gt;134612255321120*</title>\n<path fill=\"none\" stroke=\"black\" d=\"M200.21,-73.5C209.2,-73.5 217.86,-73.5 225.7,-73.5\"/>\n<polygon fill=\"black\" stroke=\"black\" points=\"225.85,-77 235.85,-73.5 225.85,-70 225.85,-77\"/>\n</g>\n<!-- 134612255316176 -->\n<g id=\"node7\" class=\"node\">\n<title>134612255316176</title>\n<polygon fill=\"none\" stroke=\"black\" points=\"672,-82.5 672,-118.5 945,-118.5 945,-82.5 672,-82.5\"/>\n<text text-anchor=\"middle\" x=\"725\" y=\"-96.8\" font-family=\"Times,serif\" font-size=\"14.00\">x1*w1 + x2*w2</text>\n<polyline fill=\"none\" stroke=\"black\" points=\"778,-82.5 778,-118.5 \"/>\n<text text-anchor=\"middle\" x=\"820.5\" y=\"-96.8\" font-family=\"Times,serif\" font-size=\"14.00\">data &#45;6.0000</text>\n<polyline fill=\"none\" stroke=\"black\" points=\"863,-82.5 863,-118.5 \"/>\n<text text-anchor=\"middle\" x=\"904\" y=\"-96.8\" font-family=\"Times,serif\" font-size=\"14.00\">grad 0.0000</text>\n</g>\n<!-- 134612243930976+ -->\n<g id=\"node12\" class=\"node\">\n<title>134612243930976+</title>\n<ellipse fill=\"none\" stroke=\"black\" cx=\"1008\" cy=\"-72.5\" rx=\"27\" ry=\"18\"/>\n<text text-anchor=\"middle\" x=\"1008\" y=\"-68.8\" font-family=\"Times,serif\" font-size=\"14.00\">+</text>\n</g>\n<!-- 134612255316176&#45;&gt;134612243930976+ -->\n<g id=\"edge9\" class=\"edge\">\n<title>134612255316176&#45;&gt;134612243930976+</title>\n<path fill=\"none\" stroke=\"black\" d=\"M936.53,-82.49C949.09,-80.71 960.99,-79.02 971.3,-77.56\"/>\n<polygon fill=\"black\" stroke=\"black\" points=\"972.03,-80.99 981.44,-76.12 971.05,-74.06 972.03,-80.99\"/>\n</g>\n<!-- 134612255316176+&#45;&gt;134612255316176 -->\n<g id=\"edge3\" class=\"edge\">\n<title>134612255316176+&#45;&gt;134612255316176</title>\n<path fill=\"none\" stroke=\"black\" d=\"M636.23,-100.5C643.7,-100.5 652.41,-100.5 661.87,-100.5\"/>\n<polygon fill=\"black\" stroke=\"black\" points=\"661.98,-104 671.98,-100.5 661.98,-97 661.98,-104\"/>\n</g>\n<!-- 134612240097024 -->\n<g id=\"node9\" class=\"node\">\n<title>134612240097024</title>\n<polygon fill=\"none\" stroke=\"black\" points=\"4,-0.5 4,-36.5 196,-36.5 196,-0.5 4,-0.5\"/>\n<text text-anchor=\"middle\" x=\"19\" y=\"-14.8\" font-family=\"Times,serif\" font-size=\"14.00\">x1</text>\n<polyline fill=\"none\" stroke=\"black\" points=\"34,-0.5 34,-36.5 \"/>\n<text text-anchor=\"middle\" x=\"74\" y=\"-14.8\" font-family=\"Times,serif\" font-size=\"14.00\">data 2.0000</text>\n<polyline fill=\"none\" stroke=\"black\" points=\"114,-0.5 114,-36.5 \"/>\n<text text-anchor=\"middle\" x=\"155\" y=\"-14.8\" font-family=\"Times,serif\" font-size=\"14.00\">grad 0.0000</text>\n</g>\n<!-- 134612240097024&#45;&gt;134612255321120* -->\n<g id=\"edge14\" class=\"edge\">\n<title>134612240097024&#45;&gt;134612255321120*</title>\n<path fill=\"none\" stroke=\"black\" d=\"M169.28,-36.5C179.65,-39.61 190.16,-42.98 200,-46.5 210.28,-50.17 221.28,-54.74 231.11,-59.07\"/>\n<polygon fill=\"black\" stroke=\"black\" points=\"229.93,-62.37 240.48,-63.27 232.79,-55.99 229.93,-62.37\"/>\n</g>\n<!-- 134612240097072 -->\n<g id=\"node10\" class=\"node\">\n<title>134612240097072</title>\n<polygon fill=\"none\" stroke=\"black\" points=\"716,-27.5 716,-63.5 901,-63.5 901,-27.5 716,-27.5\"/>\n<text text-anchor=\"middle\" x=\"727.5\" y=\"-41.8\" font-family=\"Times,serif\" font-size=\"14.00\">b</text>\n<polyline fill=\"none\" stroke=\"black\" points=\"739,-27.5 739,-63.5 \"/>\n<text text-anchor=\"middle\" x=\"779\" y=\"-41.8\" font-family=\"Times,serif\" font-size=\"14.00\">data 6.8814</text>\n<polyline fill=\"none\" stroke=\"black\" points=\"819,-27.5 819,-63.5 \"/>\n<text text-anchor=\"middle\" x=\"860\" y=\"-41.8\" font-family=\"Times,serif\" font-size=\"14.00\">grad 0.0000</text>\n</g>\n<!-- 134612240097072&#45;&gt;134612243930976+ -->\n<g id=\"edge7\" class=\"edge\">\n<title>134612240097072&#45;&gt;134612243930976+</title>\n<path fill=\"none\" stroke=\"black\" d=\"M901.02,-58.01C926,-61.43 951.59,-64.93 971.37,-67.63\"/>\n<polygon fill=\"black\" stroke=\"black\" points=\"971.05,-71.12 981.43,-69.01 972,-64.18 971.05,-71.12\"/>\n</g>\n<!-- 134612243930976 -->\n<g id=\"node11\" class=\"node\">\n<title>134612243930976</title>\n<polygon fill=\"none\" stroke=\"black\" points=\"1071,-54.5 1071,-90.5 1256,-90.5 1256,-54.5 1071,-54.5\"/>\n<text text-anchor=\"middle\" x=\"1082.5\" y=\"-68.8\" font-family=\"Times,serif\" font-size=\"14.00\">n</text>\n<polyline fill=\"none\" stroke=\"black\" points=\"1094,-54.5 1094,-90.5 \"/>\n<text text-anchor=\"middle\" x=\"1134\" y=\"-68.8\" font-family=\"Times,serif\" font-size=\"14.00\">data 0.8814</text>\n<polyline fill=\"none\" stroke=\"black\" points=\"1174,-54.5 1174,-90.5 \"/>\n<text text-anchor=\"middle\" x=\"1215\" y=\"-68.8\" font-family=\"Times,serif\" font-size=\"14.00\">grad 0.5000</text>\n</g>\n<!-- 134612243930976&#45;&gt;134612242730624tanh -->\n<g id=\"edge11\" class=\"edge\">\n<title>134612243930976&#45;&gt;134612242730624tanh</title>\n<path fill=\"none\" stroke=\"black\" d=\"M1256.01,-72.5C1265.01,-72.5 1273.74,-72.5 1281.66,-72.5\"/>\n<polygon fill=\"black\" stroke=\"black\" points=\"1281.91,-76 1291.91,-72.5 1281.91,-69 1281.91,-76\"/>\n</g>\n<!-- 134612243930976+&#45;&gt;134612243930976 -->\n<g id=\"edge4\" class=\"edge\">\n<title>134612243930976+&#45;&gt;134612243930976</title>\n<path fill=\"none\" stroke=\"black\" d=\"M1035.04,-72.5C1042.58,-72.5 1051.3,-72.5 1060.57,-72.5\"/>\n<polygon fill=\"black\" stroke=\"black\" points=\"1060.81,-76 1070.81,-72.5 1060.81,-69 1060.81,-76\"/>\n</g>\n<!-- 134612255310176 -->\n<g id=\"node13\" class=\"node\">\n<title>134612255310176</title>\n<polygon fill=\"none\" stroke=\"black\" points=\"328.5,-110.5 328.5,-146.5 543.5,-146.5 543.5,-110.5 328.5,-110.5\"/>\n<text text-anchor=\"middle\" x=\"355\" y=\"-124.8\" font-family=\"Times,serif\" font-size=\"14.00\">x2*w2</text>\n<polyline fill=\"none\" stroke=\"black\" points=\"381.5,-110.5 381.5,-146.5 \"/>\n<text text-anchor=\"middle\" x=\"421.5\" y=\"-124.8\" font-family=\"Times,serif\" font-size=\"14.00\">data 0.0000</text>\n<polyline fill=\"none\" stroke=\"black\" points=\"461.5,-110.5 461.5,-146.5 \"/>\n<text text-anchor=\"middle\" x=\"502.5\" y=\"-124.8\" font-family=\"Times,serif\" font-size=\"14.00\">grad 0.0000</text>\n</g>\n<!-- 134612255310176&#45;&gt;134612255316176+ -->\n<g id=\"edge12\" class=\"edge\">\n<title>134612255310176&#45;&gt;134612255316176+</title>\n<path fill=\"none\" stroke=\"black\" d=\"M543.84,-111.01C554.01,-109.34 563.76,-107.74 572.44,-106.32\"/>\n<polygon fill=\"black\" stroke=\"black\" points=\"573.17,-109.75 582.47,-104.68 572.04,-102.84 573.17,-109.75\"/>\n</g>\n<!-- 134612255310176*&#45;&gt;134612255310176 -->\n<g id=\"edge5\" class=\"edge\">\n<title>134612255310176*&#45;&gt;134612255310176</title>\n<path fill=\"none\" stroke=\"black\" d=\"M290.34,-128.5C298.51,-128.5 308.08,-128.5 318.36,-128.5\"/>\n<polygon fill=\"black\" stroke=\"black\" points=\"318.39,-132 328.39,-128.5 318.39,-125 318.39,-132\"/>\n</g>\n<!-- 134612240104800 -->\n<g id=\"node15\" class=\"node\">\n<title>134612240104800</title>\n<polygon fill=\"none\" stroke=\"black\" points=\"4,-110.5 4,-146.5 196,-146.5 196,-110.5 4,-110.5\"/>\n<text text-anchor=\"middle\" x=\"19\" y=\"-124.8\" font-family=\"Times,serif\" font-size=\"14.00\">x2</text>\n<polyline fill=\"none\" stroke=\"black\" points=\"34,-110.5 34,-146.5 \"/>\n<text text-anchor=\"middle\" x=\"74\" y=\"-124.8\" font-family=\"Times,serif\" font-size=\"14.00\">data 0.0000</text>\n<polyline fill=\"none\" stroke=\"black\" points=\"114,-110.5 114,-146.5 \"/>\n<text text-anchor=\"middle\" x=\"155\" y=\"-124.8\" font-family=\"Times,serif\" font-size=\"14.00\">grad 0.0000</text>\n</g>\n<!-- 134612240104800&#45;&gt;134612255310176* -->\n<g id=\"edge13\" class=\"edge\">\n<title>134612240104800&#45;&gt;134612255310176*</title>\n<path fill=\"none\" stroke=\"black\" d=\"M196.05,-128.5C206.52,-128.5 216.65,-128.5 225.71,-128.5\"/>\n<polygon fill=\"black\" stroke=\"black\" points=\"225.79,-132 235.79,-128.5 225.79,-125 225.79,-132\"/>\n</g>\n</g>\n</svg>\n",
            "text/plain": [
              "<graphviz.graphs.Digraph at 0x7a6ddba93d60>"
            ]
          },
          "metadata": {},
          "execution_count": 220
        }
      ],
      "source": [
        "draw_dot(o, label)"
      ]
    },
    {
      "cell_type": "markdown",
      "metadata": {
        "id": "TGP1Rbulc8pf"
      },
      "source": [
        "> With pluses as we saw the gradient will be same as previous gradient"
      ]
    },
    {
      "cell_type": "code",
      "execution_count": 221,
      "metadata": {
        "id": "pTNgYzlAc90z"
      },
      "outputs": [],
      "source": [
        "x1w1x2w2.grad = 0.5\n",
        "b.grad = 0.5"
      ]
    },
    {
      "cell_type": "code",
      "execution_count": 222,
      "metadata": {
        "colab": {
          "base_uri": "https://localhost:8080/",
          "height": 321
        },
        "id": "K3yKbLTcdn4O",
        "outputId": "8c0dc5dc-4e2f-45ad-8008-8f292448ed06"
      },
      "outputs": [
        {
          "output_type": "execute_result",
          "data": {
            "image/svg+xml": "<?xml version=\"1.0\" encoding=\"UTF-8\" standalone=\"no\"?>\n<!DOCTYPE svg PUBLIC \"-//W3C//DTD SVG 1.1//EN\"\n \"http://www.w3.org/Graphics/SVG/1.1/DTD/svg11.dtd\">\n<!-- Generated by graphviz version 2.43.0 (0)\n -->\n<!-- Title: %3 Pages: 1 -->\n<svg width=\"1575pt\" height=\"210pt\"\n viewBox=\"0.00 0.00 1575.00 210.00\" xmlns=\"http://www.w3.org/2000/svg\" xmlns:xlink=\"http://www.w3.org/1999/xlink\">\n<g id=\"graph0\" class=\"graph\" transform=\"scale(1 1) rotate(0) translate(4 206)\">\n<title>%3</title>\n<polygon fill=\"white\" stroke=\"transparent\" points=\"-4,4 -4,-206 1571,-206 1571,4 -4,4\"/>\n<!-- 134612240103936 -->\n<g id=\"node1\" class=\"node\">\n<title>134612240103936</title>\n<polygon fill=\"none\" stroke=\"black\" points=\"2.5,-165.5 2.5,-201.5 197.5,-201.5 197.5,-165.5 2.5,-165.5\"/>\n<text text-anchor=\"middle\" x=\"19\" y=\"-179.8\" font-family=\"Times,serif\" font-size=\"14.00\">w2</text>\n<polyline fill=\"none\" stroke=\"black\" points=\"35.5,-165.5 35.5,-201.5 \"/>\n<text text-anchor=\"middle\" x=\"75.5\" y=\"-179.8\" font-family=\"Times,serif\" font-size=\"14.00\">data 1.0000</text>\n<polyline fill=\"none\" stroke=\"black\" points=\"115.5,-165.5 115.5,-201.5 \"/>\n<text text-anchor=\"middle\" x=\"156.5\" y=\"-179.8\" font-family=\"Times,serif\" font-size=\"14.00\">grad 0.0000</text>\n</g>\n<!-- 134612255310176* -->\n<g id=\"node14\" class=\"node\">\n<title>134612255310176*</title>\n<ellipse fill=\"none\" stroke=\"black\" cx=\"263\" cy=\"-128.5\" rx=\"27\" ry=\"18\"/>\n<text text-anchor=\"middle\" x=\"263\" y=\"-124.8\" font-family=\"Times,serif\" font-size=\"14.00\">*</text>\n</g>\n<!-- 134612240103936&#45;&gt;134612255310176* -->\n<g id=\"edge6\" class=\"edge\">\n<title>134612240103936&#45;&gt;134612255310176*</title>\n<path fill=\"none\" stroke=\"black\" d=\"M172.53,-165.44C181.84,-162.67 191.2,-159.67 200,-156.5 210.53,-152.71 221.75,-147.9 231.72,-143.33\"/>\n<polygon fill=\"black\" stroke=\"black\" points=\"233.25,-146.48 240.82,-139.07 230.28,-140.14 233.25,-146.48\"/>\n</g>\n<!-- 134612255321120 -->\n<g id=\"node2\" class=\"node\">\n<title>134612255321120</title>\n<polygon fill=\"none\" stroke=\"black\" points=\"326,-55.5 326,-91.5 546,-91.5 546,-55.5 326,-55.5\"/>\n<text text-anchor=\"middle\" x=\"352.5\" y=\"-69.8\" font-family=\"Times,serif\" font-size=\"14.00\">x1*w1</text>\n<polyline fill=\"none\" stroke=\"black\" points=\"379,-55.5 379,-91.5 \"/>\n<text text-anchor=\"middle\" x=\"421.5\" y=\"-69.8\" font-family=\"Times,serif\" font-size=\"14.00\">data &#45;6.0000</text>\n<polyline fill=\"none\" stroke=\"black\" points=\"464,-55.5 464,-91.5 \"/>\n<text text-anchor=\"middle\" x=\"505\" y=\"-69.8\" font-family=\"Times,serif\" font-size=\"14.00\">grad 0.0000</text>\n</g>\n<!-- 134612255316176+ -->\n<g id=\"node8\" class=\"node\">\n<title>134612255316176+</title>\n<ellipse fill=\"none\" stroke=\"black\" cx=\"609\" cy=\"-100.5\" rx=\"27\" ry=\"18\"/>\n<text text-anchor=\"middle\" x=\"609\" y=\"-96.8\" font-family=\"Times,serif\" font-size=\"14.00\">+</text>\n</g>\n<!-- 134612255321120&#45;&gt;134612255316176+ -->\n<g id=\"edge10\" class=\"edge\">\n<title>134612255321120&#45;&gt;134612255316176+</title>\n<path fill=\"none\" stroke=\"black\" d=\"M546.27,-90.75C555.64,-92.23 564.6,-93.65 572.65,-94.92\"/>\n<polygon fill=\"black\" stroke=\"black\" points=\"572.23,-98.4 582.65,-96.5 573.32,-91.48 572.23,-98.4\"/>\n</g>\n<!-- 134612255321120* -->\n<g id=\"node3\" class=\"node\">\n<title>134612255321120*</title>\n<ellipse fill=\"none\" stroke=\"black\" cx=\"263\" cy=\"-73.5\" rx=\"27\" ry=\"18\"/>\n<text text-anchor=\"middle\" x=\"263\" y=\"-69.8\" font-family=\"Times,serif\" font-size=\"14.00\">*</text>\n</g>\n<!-- 134612255321120*&#45;&gt;134612255321120 -->\n<g id=\"edge1\" class=\"edge\">\n<title>134612255321120*&#45;&gt;134612255321120</title>\n<path fill=\"none\" stroke=\"black\" d=\"M290.34,-73.5C297.77,-73.5 306.37,-73.5 315.6,-73.5\"/>\n<polygon fill=\"black\" stroke=\"black\" points=\"315.84,-77 325.84,-73.5 315.84,-70 315.84,-77\"/>\n</g>\n<!-- 134612242730624 -->\n<g id=\"node4\" class=\"node\">\n<title>134612242730624</title>\n<polygon fill=\"none\" stroke=\"black\" points=\"1382,-54.5 1382,-90.5 1567,-90.5 1567,-54.5 1382,-54.5\"/>\n<text text-anchor=\"middle\" x=\"1393.5\" y=\"-68.8\" font-family=\"Times,serif\" font-size=\"14.00\">o</text>\n<polyline fill=\"none\" stroke=\"black\" points=\"1405,-54.5 1405,-90.5 \"/>\n<text text-anchor=\"middle\" x=\"1445\" y=\"-68.8\" font-family=\"Times,serif\" font-size=\"14.00\">data 0.7071</text>\n<polyline fill=\"none\" stroke=\"black\" points=\"1485,-54.5 1485,-90.5 \"/>\n<text text-anchor=\"middle\" x=\"1526\" y=\"-68.8\" font-family=\"Times,serif\" font-size=\"14.00\">grad 1.0000</text>\n</g>\n<!-- 134612242730624tanh -->\n<g id=\"node5\" class=\"node\">\n<title>134612242730624tanh</title>\n<ellipse fill=\"none\" stroke=\"black\" cx=\"1319\" cy=\"-72.5\" rx=\"27\" ry=\"18\"/>\n<text text-anchor=\"middle\" x=\"1319\" y=\"-68.8\" font-family=\"Times,serif\" font-size=\"14.00\">tanh</text>\n</g>\n<!-- 134612242730624tanh&#45;&gt;134612242730624 -->\n<g id=\"edge2\" class=\"edge\">\n<title>134612242730624tanh&#45;&gt;134612242730624</title>\n<path fill=\"none\" stroke=\"black\" d=\"M1346.04,-72.5C1353.58,-72.5 1362.3,-72.5 1371.57,-72.5\"/>\n<polygon fill=\"black\" stroke=\"black\" points=\"1371.81,-76 1381.81,-72.5 1371.81,-69 1371.81,-76\"/>\n</g>\n<!-- 134612240097456 -->\n<g id=\"node6\" class=\"node\">\n<title>134612240097456</title>\n<polygon fill=\"none\" stroke=\"black\" points=\"0,-55.5 0,-91.5 200,-91.5 200,-55.5 0,-55.5\"/>\n<text text-anchor=\"middle\" x=\"16.5\" y=\"-69.8\" font-family=\"Times,serif\" font-size=\"14.00\">w1</text>\n<polyline fill=\"none\" stroke=\"black\" points=\"33,-55.5 33,-91.5 \"/>\n<text text-anchor=\"middle\" x=\"75.5\" y=\"-69.8\" font-family=\"Times,serif\" font-size=\"14.00\">data &#45;3.0000</text>\n<polyline fill=\"none\" stroke=\"black\" points=\"118,-55.5 118,-91.5 \"/>\n<text text-anchor=\"middle\" x=\"159\" y=\"-69.8\" font-family=\"Times,serif\" font-size=\"14.00\">grad 0.0000</text>\n</g>\n<!-- 134612240097456&#45;&gt;134612255321120* -->\n<g id=\"edge8\" class=\"edge\">\n<title>134612240097456&#45;&gt;134612255321120*</title>\n<path fill=\"none\" stroke=\"black\" d=\"M200.21,-73.5C209.2,-73.5 217.86,-73.5 225.7,-73.5\"/>\n<polygon fill=\"black\" stroke=\"black\" points=\"225.85,-77 235.85,-73.5 225.85,-70 225.85,-77\"/>\n</g>\n<!-- 134612255316176 -->\n<g id=\"node7\" class=\"node\">\n<title>134612255316176</title>\n<polygon fill=\"none\" stroke=\"black\" points=\"672,-82.5 672,-118.5 945,-118.5 945,-82.5 672,-82.5\"/>\n<text text-anchor=\"middle\" x=\"725\" y=\"-96.8\" font-family=\"Times,serif\" font-size=\"14.00\">x1*w1 + x2*w2</text>\n<polyline fill=\"none\" stroke=\"black\" points=\"778,-82.5 778,-118.5 \"/>\n<text text-anchor=\"middle\" x=\"820.5\" y=\"-96.8\" font-family=\"Times,serif\" font-size=\"14.00\">data &#45;6.0000</text>\n<polyline fill=\"none\" stroke=\"black\" points=\"863,-82.5 863,-118.5 \"/>\n<text text-anchor=\"middle\" x=\"904\" y=\"-96.8\" font-family=\"Times,serif\" font-size=\"14.00\">grad 0.5000</text>\n</g>\n<!-- 134612243930976+ -->\n<g id=\"node12\" class=\"node\">\n<title>134612243930976+</title>\n<ellipse fill=\"none\" stroke=\"black\" cx=\"1008\" cy=\"-72.5\" rx=\"27\" ry=\"18\"/>\n<text text-anchor=\"middle\" x=\"1008\" y=\"-68.8\" font-family=\"Times,serif\" font-size=\"14.00\">+</text>\n</g>\n<!-- 134612255316176&#45;&gt;134612243930976+ -->\n<g id=\"edge9\" class=\"edge\">\n<title>134612255316176&#45;&gt;134612243930976+</title>\n<path fill=\"none\" stroke=\"black\" d=\"M936.53,-82.49C949.09,-80.71 960.99,-79.02 971.3,-77.56\"/>\n<polygon fill=\"black\" stroke=\"black\" points=\"972.03,-80.99 981.44,-76.12 971.05,-74.06 972.03,-80.99\"/>\n</g>\n<!-- 134612255316176+&#45;&gt;134612255316176 -->\n<g id=\"edge3\" class=\"edge\">\n<title>134612255316176+&#45;&gt;134612255316176</title>\n<path fill=\"none\" stroke=\"black\" d=\"M636.23,-100.5C643.7,-100.5 652.41,-100.5 661.87,-100.5\"/>\n<polygon fill=\"black\" stroke=\"black\" points=\"661.98,-104 671.98,-100.5 661.98,-97 661.98,-104\"/>\n</g>\n<!-- 134612240097024 -->\n<g id=\"node9\" class=\"node\">\n<title>134612240097024</title>\n<polygon fill=\"none\" stroke=\"black\" points=\"4,-0.5 4,-36.5 196,-36.5 196,-0.5 4,-0.5\"/>\n<text text-anchor=\"middle\" x=\"19\" y=\"-14.8\" font-family=\"Times,serif\" font-size=\"14.00\">x1</text>\n<polyline fill=\"none\" stroke=\"black\" points=\"34,-0.5 34,-36.5 \"/>\n<text text-anchor=\"middle\" x=\"74\" y=\"-14.8\" font-family=\"Times,serif\" font-size=\"14.00\">data 2.0000</text>\n<polyline fill=\"none\" stroke=\"black\" points=\"114,-0.5 114,-36.5 \"/>\n<text text-anchor=\"middle\" x=\"155\" y=\"-14.8\" font-family=\"Times,serif\" font-size=\"14.00\">grad 0.0000</text>\n</g>\n<!-- 134612240097024&#45;&gt;134612255321120* -->\n<g id=\"edge14\" class=\"edge\">\n<title>134612240097024&#45;&gt;134612255321120*</title>\n<path fill=\"none\" stroke=\"black\" d=\"M169.28,-36.5C179.65,-39.61 190.16,-42.98 200,-46.5 210.28,-50.17 221.28,-54.74 231.11,-59.07\"/>\n<polygon fill=\"black\" stroke=\"black\" points=\"229.93,-62.37 240.48,-63.27 232.79,-55.99 229.93,-62.37\"/>\n</g>\n<!-- 134612240097072 -->\n<g id=\"node10\" class=\"node\">\n<title>134612240097072</title>\n<polygon fill=\"none\" stroke=\"black\" points=\"716,-27.5 716,-63.5 901,-63.5 901,-27.5 716,-27.5\"/>\n<text text-anchor=\"middle\" x=\"727.5\" y=\"-41.8\" font-family=\"Times,serif\" font-size=\"14.00\">b</text>\n<polyline fill=\"none\" stroke=\"black\" points=\"739,-27.5 739,-63.5 \"/>\n<text text-anchor=\"middle\" x=\"779\" y=\"-41.8\" font-family=\"Times,serif\" font-size=\"14.00\">data 6.8814</text>\n<polyline fill=\"none\" stroke=\"black\" points=\"819,-27.5 819,-63.5 \"/>\n<text text-anchor=\"middle\" x=\"860\" y=\"-41.8\" font-family=\"Times,serif\" font-size=\"14.00\">grad 0.5000</text>\n</g>\n<!-- 134612240097072&#45;&gt;134612243930976+ -->\n<g id=\"edge7\" class=\"edge\">\n<title>134612240097072&#45;&gt;134612243930976+</title>\n<path fill=\"none\" stroke=\"black\" d=\"M901.02,-58.01C926,-61.43 951.59,-64.93 971.37,-67.63\"/>\n<polygon fill=\"black\" stroke=\"black\" points=\"971.05,-71.12 981.43,-69.01 972,-64.18 971.05,-71.12\"/>\n</g>\n<!-- 134612243930976 -->\n<g id=\"node11\" class=\"node\">\n<title>134612243930976</title>\n<polygon fill=\"none\" stroke=\"black\" points=\"1071,-54.5 1071,-90.5 1256,-90.5 1256,-54.5 1071,-54.5\"/>\n<text text-anchor=\"middle\" x=\"1082.5\" y=\"-68.8\" font-family=\"Times,serif\" font-size=\"14.00\">n</text>\n<polyline fill=\"none\" stroke=\"black\" points=\"1094,-54.5 1094,-90.5 \"/>\n<text text-anchor=\"middle\" x=\"1134\" y=\"-68.8\" font-family=\"Times,serif\" font-size=\"14.00\">data 0.8814</text>\n<polyline fill=\"none\" stroke=\"black\" points=\"1174,-54.5 1174,-90.5 \"/>\n<text text-anchor=\"middle\" x=\"1215\" y=\"-68.8\" font-family=\"Times,serif\" font-size=\"14.00\">grad 0.5000</text>\n</g>\n<!-- 134612243930976&#45;&gt;134612242730624tanh -->\n<g id=\"edge11\" class=\"edge\">\n<title>134612243930976&#45;&gt;134612242730624tanh</title>\n<path fill=\"none\" stroke=\"black\" d=\"M1256.01,-72.5C1265.01,-72.5 1273.74,-72.5 1281.66,-72.5\"/>\n<polygon fill=\"black\" stroke=\"black\" points=\"1281.91,-76 1291.91,-72.5 1281.91,-69 1281.91,-76\"/>\n</g>\n<!-- 134612243930976+&#45;&gt;134612243930976 -->\n<g id=\"edge4\" class=\"edge\">\n<title>134612243930976+&#45;&gt;134612243930976</title>\n<path fill=\"none\" stroke=\"black\" d=\"M1035.04,-72.5C1042.58,-72.5 1051.3,-72.5 1060.57,-72.5\"/>\n<polygon fill=\"black\" stroke=\"black\" points=\"1060.81,-76 1070.81,-72.5 1060.81,-69 1060.81,-76\"/>\n</g>\n<!-- 134612255310176 -->\n<g id=\"node13\" class=\"node\">\n<title>134612255310176</title>\n<polygon fill=\"none\" stroke=\"black\" points=\"328.5,-110.5 328.5,-146.5 543.5,-146.5 543.5,-110.5 328.5,-110.5\"/>\n<text text-anchor=\"middle\" x=\"355\" y=\"-124.8\" font-family=\"Times,serif\" font-size=\"14.00\">x2*w2</text>\n<polyline fill=\"none\" stroke=\"black\" points=\"381.5,-110.5 381.5,-146.5 \"/>\n<text text-anchor=\"middle\" x=\"421.5\" y=\"-124.8\" font-family=\"Times,serif\" font-size=\"14.00\">data 0.0000</text>\n<polyline fill=\"none\" stroke=\"black\" points=\"461.5,-110.5 461.5,-146.5 \"/>\n<text text-anchor=\"middle\" x=\"502.5\" y=\"-124.8\" font-family=\"Times,serif\" font-size=\"14.00\">grad 0.0000</text>\n</g>\n<!-- 134612255310176&#45;&gt;134612255316176+ -->\n<g id=\"edge12\" class=\"edge\">\n<title>134612255310176&#45;&gt;134612255316176+</title>\n<path fill=\"none\" stroke=\"black\" d=\"M543.84,-111.01C554.01,-109.34 563.76,-107.74 572.44,-106.32\"/>\n<polygon fill=\"black\" stroke=\"black\" points=\"573.17,-109.75 582.47,-104.68 572.04,-102.84 573.17,-109.75\"/>\n</g>\n<!-- 134612255310176*&#45;&gt;134612255310176 -->\n<g id=\"edge5\" class=\"edge\">\n<title>134612255310176*&#45;&gt;134612255310176</title>\n<path fill=\"none\" stroke=\"black\" d=\"M290.34,-128.5C298.51,-128.5 308.08,-128.5 318.36,-128.5\"/>\n<polygon fill=\"black\" stroke=\"black\" points=\"318.39,-132 328.39,-128.5 318.39,-125 318.39,-132\"/>\n</g>\n<!-- 134612240104800 -->\n<g id=\"node15\" class=\"node\">\n<title>134612240104800</title>\n<polygon fill=\"none\" stroke=\"black\" points=\"4,-110.5 4,-146.5 196,-146.5 196,-110.5 4,-110.5\"/>\n<text text-anchor=\"middle\" x=\"19\" y=\"-124.8\" font-family=\"Times,serif\" font-size=\"14.00\">x2</text>\n<polyline fill=\"none\" stroke=\"black\" points=\"34,-110.5 34,-146.5 \"/>\n<text text-anchor=\"middle\" x=\"74\" y=\"-124.8\" font-family=\"Times,serif\" font-size=\"14.00\">data 0.0000</text>\n<polyline fill=\"none\" stroke=\"black\" points=\"114,-110.5 114,-146.5 \"/>\n<text text-anchor=\"middle\" x=\"155\" y=\"-124.8\" font-family=\"Times,serif\" font-size=\"14.00\">grad 0.0000</text>\n</g>\n<!-- 134612240104800&#45;&gt;134612255310176* -->\n<g id=\"edge13\" class=\"edge\">\n<title>134612240104800&#45;&gt;134612255310176*</title>\n<path fill=\"none\" stroke=\"black\" d=\"M196.05,-128.5C206.52,-128.5 216.65,-128.5 225.71,-128.5\"/>\n<polygon fill=\"black\" stroke=\"black\" points=\"225.79,-132 235.79,-128.5 225.79,-125 225.79,-132\"/>\n</g>\n</g>\n</svg>\n",
            "text/plain": [
              "<graphviz.graphs.Digraph at 0x7a6ddbbe0130>"
            ]
          },
          "metadata": {},
          "execution_count": 222
        }
      ],
      "source": [
        "draw_dot(o, label)"
      ]
    },
    {
      "cell_type": "code",
      "source": [
        "x1w1.grad = 0.5\n",
        "x2w2.grad = 0.5"
      ],
      "metadata": {
        "id": "GaUScjX1ONZu"
      },
      "execution_count": 223,
      "outputs": []
    },
    {
      "cell_type": "code",
      "source": [
        "draw_dot(o, label)"
      ],
      "metadata": {
        "colab": {
          "base_uri": "https://localhost:8080/",
          "height": 321
        },
        "id": "6SP3adExOQdJ",
        "outputId": "0063a10a-e854-4c4c-a23d-be0ced282db3"
      },
      "execution_count": 224,
      "outputs": [
        {
          "output_type": "execute_result",
          "data": {
            "image/svg+xml": "<?xml version=\"1.0\" encoding=\"UTF-8\" standalone=\"no\"?>\n<!DOCTYPE svg PUBLIC \"-//W3C//DTD SVG 1.1//EN\"\n \"http://www.w3.org/Graphics/SVG/1.1/DTD/svg11.dtd\">\n<!-- Generated by graphviz version 2.43.0 (0)\n -->\n<!-- Title: %3 Pages: 1 -->\n<svg width=\"1575pt\" height=\"210pt\"\n viewBox=\"0.00 0.00 1575.00 210.00\" xmlns=\"http://www.w3.org/2000/svg\" xmlns:xlink=\"http://www.w3.org/1999/xlink\">\n<g id=\"graph0\" class=\"graph\" transform=\"scale(1 1) rotate(0) translate(4 206)\">\n<title>%3</title>\n<polygon fill=\"white\" stroke=\"transparent\" points=\"-4,4 -4,-206 1571,-206 1571,4 -4,4\"/>\n<!-- 134612240103936 -->\n<g id=\"node1\" class=\"node\">\n<title>134612240103936</title>\n<polygon fill=\"none\" stroke=\"black\" points=\"2.5,-165.5 2.5,-201.5 197.5,-201.5 197.5,-165.5 2.5,-165.5\"/>\n<text text-anchor=\"middle\" x=\"19\" y=\"-179.8\" font-family=\"Times,serif\" font-size=\"14.00\">w2</text>\n<polyline fill=\"none\" stroke=\"black\" points=\"35.5,-165.5 35.5,-201.5 \"/>\n<text text-anchor=\"middle\" x=\"75.5\" y=\"-179.8\" font-family=\"Times,serif\" font-size=\"14.00\">data 1.0000</text>\n<polyline fill=\"none\" stroke=\"black\" points=\"115.5,-165.5 115.5,-201.5 \"/>\n<text text-anchor=\"middle\" x=\"156.5\" y=\"-179.8\" font-family=\"Times,serif\" font-size=\"14.00\">grad 0.0000</text>\n</g>\n<!-- 134612255310176* -->\n<g id=\"node14\" class=\"node\">\n<title>134612255310176*</title>\n<ellipse fill=\"none\" stroke=\"black\" cx=\"263\" cy=\"-128.5\" rx=\"27\" ry=\"18\"/>\n<text text-anchor=\"middle\" x=\"263\" y=\"-124.8\" font-family=\"Times,serif\" font-size=\"14.00\">*</text>\n</g>\n<!-- 134612240103936&#45;&gt;134612255310176* -->\n<g id=\"edge6\" class=\"edge\">\n<title>134612240103936&#45;&gt;134612255310176*</title>\n<path fill=\"none\" stroke=\"black\" d=\"M172.53,-165.44C181.84,-162.67 191.2,-159.67 200,-156.5 210.53,-152.71 221.75,-147.9 231.72,-143.33\"/>\n<polygon fill=\"black\" stroke=\"black\" points=\"233.25,-146.48 240.82,-139.07 230.28,-140.14 233.25,-146.48\"/>\n</g>\n<!-- 134612255321120 -->\n<g id=\"node2\" class=\"node\">\n<title>134612255321120</title>\n<polygon fill=\"none\" stroke=\"black\" points=\"326,-55.5 326,-91.5 546,-91.5 546,-55.5 326,-55.5\"/>\n<text text-anchor=\"middle\" x=\"352.5\" y=\"-69.8\" font-family=\"Times,serif\" font-size=\"14.00\">x1*w1</text>\n<polyline fill=\"none\" stroke=\"black\" points=\"379,-55.5 379,-91.5 \"/>\n<text text-anchor=\"middle\" x=\"421.5\" y=\"-69.8\" font-family=\"Times,serif\" font-size=\"14.00\">data &#45;6.0000</text>\n<polyline fill=\"none\" stroke=\"black\" points=\"464,-55.5 464,-91.5 \"/>\n<text text-anchor=\"middle\" x=\"505\" y=\"-69.8\" font-family=\"Times,serif\" font-size=\"14.00\">grad 0.5000</text>\n</g>\n<!-- 134612255316176+ -->\n<g id=\"node8\" class=\"node\">\n<title>134612255316176+</title>\n<ellipse fill=\"none\" stroke=\"black\" cx=\"609\" cy=\"-100.5\" rx=\"27\" ry=\"18\"/>\n<text text-anchor=\"middle\" x=\"609\" y=\"-96.8\" font-family=\"Times,serif\" font-size=\"14.00\">+</text>\n</g>\n<!-- 134612255321120&#45;&gt;134612255316176+ -->\n<g id=\"edge10\" class=\"edge\">\n<title>134612255321120&#45;&gt;134612255316176+</title>\n<path fill=\"none\" stroke=\"black\" d=\"M546.27,-90.75C555.64,-92.23 564.6,-93.65 572.65,-94.92\"/>\n<polygon fill=\"black\" stroke=\"black\" points=\"572.23,-98.4 582.65,-96.5 573.32,-91.48 572.23,-98.4\"/>\n</g>\n<!-- 134612255321120* -->\n<g id=\"node3\" class=\"node\">\n<title>134612255321120*</title>\n<ellipse fill=\"none\" stroke=\"black\" cx=\"263\" cy=\"-73.5\" rx=\"27\" ry=\"18\"/>\n<text text-anchor=\"middle\" x=\"263\" y=\"-69.8\" font-family=\"Times,serif\" font-size=\"14.00\">*</text>\n</g>\n<!-- 134612255321120*&#45;&gt;134612255321120 -->\n<g id=\"edge1\" class=\"edge\">\n<title>134612255321120*&#45;&gt;134612255321120</title>\n<path fill=\"none\" stroke=\"black\" d=\"M290.34,-73.5C297.77,-73.5 306.37,-73.5 315.6,-73.5\"/>\n<polygon fill=\"black\" stroke=\"black\" points=\"315.84,-77 325.84,-73.5 315.84,-70 315.84,-77\"/>\n</g>\n<!-- 134612242730624 -->\n<g id=\"node4\" class=\"node\">\n<title>134612242730624</title>\n<polygon fill=\"none\" stroke=\"black\" points=\"1382,-54.5 1382,-90.5 1567,-90.5 1567,-54.5 1382,-54.5\"/>\n<text text-anchor=\"middle\" x=\"1393.5\" y=\"-68.8\" font-family=\"Times,serif\" font-size=\"14.00\">o</text>\n<polyline fill=\"none\" stroke=\"black\" points=\"1405,-54.5 1405,-90.5 \"/>\n<text text-anchor=\"middle\" x=\"1445\" y=\"-68.8\" font-family=\"Times,serif\" font-size=\"14.00\">data 0.7071</text>\n<polyline fill=\"none\" stroke=\"black\" points=\"1485,-54.5 1485,-90.5 \"/>\n<text text-anchor=\"middle\" x=\"1526\" y=\"-68.8\" font-family=\"Times,serif\" font-size=\"14.00\">grad 1.0000</text>\n</g>\n<!-- 134612242730624tanh -->\n<g id=\"node5\" class=\"node\">\n<title>134612242730624tanh</title>\n<ellipse fill=\"none\" stroke=\"black\" cx=\"1319\" cy=\"-72.5\" rx=\"27\" ry=\"18\"/>\n<text text-anchor=\"middle\" x=\"1319\" y=\"-68.8\" font-family=\"Times,serif\" font-size=\"14.00\">tanh</text>\n</g>\n<!-- 134612242730624tanh&#45;&gt;134612242730624 -->\n<g id=\"edge2\" class=\"edge\">\n<title>134612242730624tanh&#45;&gt;134612242730624</title>\n<path fill=\"none\" stroke=\"black\" d=\"M1346.04,-72.5C1353.58,-72.5 1362.3,-72.5 1371.57,-72.5\"/>\n<polygon fill=\"black\" stroke=\"black\" points=\"1371.81,-76 1381.81,-72.5 1371.81,-69 1371.81,-76\"/>\n</g>\n<!-- 134612240097456 -->\n<g id=\"node6\" class=\"node\">\n<title>134612240097456</title>\n<polygon fill=\"none\" stroke=\"black\" points=\"0,-55.5 0,-91.5 200,-91.5 200,-55.5 0,-55.5\"/>\n<text text-anchor=\"middle\" x=\"16.5\" y=\"-69.8\" font-family=\"Times,serif\" font-size=\"14.00\">w1</text>\n<polyline fill=\"none\" stroke=\"black\" points=\"33,-55.5 33,-91.5 \"/>\n<text text-anchor=\"middle\" x=\"75.5\" y=\"-69.8\" font-family=\"Times,serif\" font-size=\"14.00\">data &#45;3.0000</text>\n<polyline fill=\"none\" stroke=\"black\" points=\"118,-55.5 118,-91.5 \"/>\n<text text-anchor=\"middle\" x=\"159\" y=\"-69.8\" font-family=\"Times,serif\" font-size=\"14.00\">grad 0.0000</text>\n</g>\n<!-- 134612240097456&#45;&gt;134612255321120* -->\n<g id=\"edge8\" class=\"edge\">\n<title>134612240097456&#45;&gt;134612255321120*</title>\n<path fill=\"none\" stroke=\"black\" d=\"M200.21,-73.5C209.2,-73.5 217.86,-73.5 225.7,-73.5\"/>\n<polygon fill=\"black\" stroke=\"black\" points=\"225.85,-77 235.85,-73.5 225.85,-70 225.85,-77\"/>\n</g>\n<!-- 134612255316176 -->\n<g id=\"node7\" class=\"node\">\n<title>134612255316176</title>\n<polygon fill=\"none\" stroke=\"black\" points=\"672,-82.5 672,-118.5 945,-118.5 945,-82.5 672,-82.5\"/>\n<text text-anchor=\"middle\" x=\"725\" y=\"-96.8\" font-family=\"Times,serif\" font-size=\"14.00\">x1*w1 + x2*w2</text>\n<polyline fill=\"none\" stroke=\"black\" points=\"778,-82.5 778,-118.5 \"/>\n<text text-anchor=\"middle\" x=\"820.5\" y=\"-96.8\" font-family=\"Times,serif\" font-size=\"14.00\">data &#45;6.0000</text>\n<polyline fill=\"none\" stroke=\"black\" points=\"863,-82.5 863,-118.5 \"/>\n<text text-anchor=\"middle\" x=\"904\" y=\"-96.8\" font-family=\"Times,serif\" font-size=\"14.00\">grad 0.5000</text>\n</g>\n<!-- 134612243930976+ -->\n<g id=\"node12\" class=\"node\">\n<title>134612243930976+</title>\n<ellipse fill=\"none\" stroke=\"black\" cx=\"1008\" cy=\"-72.5\" rx=\"27\" ry=\"18\"/>\n<text text-anchor=\"middle\" x=\"1008\" y=\"-68.8\" font-family=\"Times,serif\" font-size=\"14.00\">+</text>\n</g>\n<!-- 134612255316176&#45;&gt;134612243930976+ -->\n<g id=\"edge9\" class=\"edge\">\n<title>134612255316176&#45;&gt;134612243930976+</title>\n<path fill=\"none\" stroke=\"black\" d=\"M936.53,-82.49C949.09,-80.71 960.99,-79.02 971.3,-77.56\"/>\n<polygon fill=\"black\" stroke=\"black\" points=\"972.03,-80.99 981.44,-76.12 971.05,-74.06 972.03,-80.99\"/>\n</g>\n<!-- 134612255316176+&#45;&gt;134612255316176 -->\n<g id=\"edge3\" class=\"edge\">\n<title>134612255316176+&#45;&gt;134612255316176</title>\n<path fill=\"none\" stroke=\"black\" d=\"M636.23,-100.5C643.7,-100.5 652.41,-100.5 661.87,-100.5\"/>\n<polygon fill=\"black\" stroke=\"black\" points=\"661.98,-104 671.98,-100.5 661.98,-97 661.98,-104\"/>\n</g>\n<!-- 134612240097024 -->\n<g id=\"node9\" class=\"node\">\n<title>134612240097024</title>\n<polygon fill=\"none\" stroke=\"black\" points=\"4,-0.5 4,-36.5 196,-36.5 196,-0.5 4,-0.5\"/>\n<text text-anchor=\"middle\" x=\"19\" y=\"-14.8\" font-family=\"Times,serif\" font-size=\"14.00\">x1</text>\n<polyline fill=\"none\" stroke=\"black\" points=\"34,-0.5 34,-36.5 \"/>\n<text text-anchor=\"middle\" x=\"74\" y=\"-14.8\" font-family=\"Times,serif\" font-size=\"14.00\">data 2.0000</text>\n<polyline fill=\"none\" stroke=\"black\" points=\"114,-0.5 114,-36.5 \"/>\n<text text-anchor=\"middle\" x=\"155\" y=\"-14.8\" font-family=\"Times,serif\" font-size=\"14.00\">grad 0.0000</text>\n</g>\n<!-- 134612240097024&#45;&gt;134612255321120* -->\n<g id=\"edge14\" class=\"edge\">\n<title>134612240097024&#45;&gt;134612255321120*</title>\n<path fill=\"none\" stroke=\"black\" d=\"M169.28,-36.5C179.65,-39.61 190.16,-42.98 200,-46.5 210.28,-50.17 221.28,-54.74 231.11,-59.07\"/>\n<polygon fill=\"black\" stroke=\"black\" points=\"229.93,-62.37 240.48,-63.27 232.79,-55.99 229.93,-62.37\"/>\n</g>\n<!-- 134612240097072 -->\n<g id=\"node10\" class=\"node\">\n<title>134612240097072</title>\n<polygon fill=\"none\" stroke=\"black\" points=\"716,-27.5 716,-63.5 901,-63.5 901,-27.5 716,-27.5\"/>\n<text text-anchor=\"middle\" x=\"727.5\" y=\"-41.8\" font-family=\"Times,serif\" font-size=\"14.00\">b</text>\n<polyline fill=\"none\" stroke=\"black\" points=\"739,-27.5 739,-63.5 \"/>\n<text text-anchor=\"middle\" x=\"779\" y=\"-41.8\" font-family=\"Times,serif\" font-size=\"14.00\">data 6.8814</text>\n<polyline fill=\"none\" stroke=\"black\" points=\"819,-27.5 819,-63.5 \"/>\n<text text-anchor=\"middle\" x=\"860\" y=\"-41.8\" font-family=\"Times,serif\" font-size=\"14.00\">grad 0.5000</text>\n</g>\n<!-- 134612240097072&#45;&gt;134612243930976+ -->\n<g id=\"edge7\" class=\"edge\">\n<title>134612240097072&#45;&gt;134612243930976+</title>\n<path fill=\"none\" stroke=\"black\" d=\"M901.02,-58.01C926,-61.43 951.59,-64.93 971.37,-67.63\"/>\n<polygon fill=\"black\" stroke=\"black\" points=\"971.05,-71.12 981.43,-69.01 972,-64.18 971.05,-71.12\"/>\n</g>\n<!-- 134612243930976 -->\n<g id=\"node11\" class=\"node\">\n<title>134612243930976</title>\n<polygon fill=\"none\" stroke=\"black\" points=\"1071,-54.5 1071,-90.5 1256,-90.5 1256,-54.5 1071,-54.5\"/>\n<text text-anchor=\"middle\" x=\"1082.5\" y=\"-68.8\" font-family=\"Times,serif\" font-size=\"14.00\">n</text>\n<polyline fill=\"none\" stroke=\"black\" points=\"1094,-54.5 1094,-90.5 \"/>\n<text text-anchor=\"middle\" x=\"1134\" y=\"-68.8\" font-family=\"Times,serif\" font-size=\"14.00\">data 0.8814</text>\n<polyline fill=\"none\" stroke=\"black\" points=\"1174,-54.5 1174,-90.5 \"/>\n<text text-anchor=\"middle\" x=\"1215\" y=\"-68.8\" font-family=\"Times,serif\" font-size=\"14.00\">grad 0.5000</text>\n</g>\n<!-- 134612243930976&#45;&gt;134612242730624tanh -->\n<g id=\"edge11\" class=\"edge\">\n<title>134612243930976&#45;&gt;134612242730624tanh</title>\n<path fill=\"none\" stroke=\"black\" d=\"M1256.01,-72.5C1265.01,-72.5 1273.74,-72.5 1281.66,-72.5\"/>\n<polygon fill=\"black\" stroke=\"black\" points=\"1281.91,-76 1291.91,-72.5 1281.91,-69 1281.91,-76\"/>\n</g>\n<!-- 134612243930976+&#45;&gt;134612243930976 -->\n<g id=\"edge4\" class=\"edge\">\n<title>134612243930976+&#45;&gt;134612243930976</title>\n<path fill=\"none\" stroke=\"black\" d=\"M1035.04,-72.5C1042.58,-72.5 1051.3,-72.5 1060.57,-72.5\"/>\n<polygon fill=\"black\" stroke=\"black\" points=\"1060.81,-76 1070.81,-72.5 1060.81,-69 1060.81,-76\"/>\n</g>\n<!-- 134612255310176 -->\n<g id=\"node13\" class=\"node\">\n<title>134612255310176</title>\n<polygon fill=\"none\" stroke=\"black\" points=\"328.5,-110.5 328.5,-146.5 543.5,-146.5 543.5,-110.5 328.5,-110.5\"/>\n<text text-anchor=\"middle\" x=\"355\" y=\"-124.8\" font-family=\"Times,serif\" font-size=\"14.00\">x2*w2</text>\n<polyline fill=\"none\" stroke=\"black\" points=\"381.5,-110.5 381.5,-146.5 \"/>\n<text text-anchor=\"middle\" x=\"421.5\" y=\"-124.8\" font-family=\"Times,serif\" font-size=\"14.00\">data 0.0000</text>\n<polyline fill=\"none\" stroke=\"black\" points=\"461.5,-110.5 461.5,-146.5 \"/>\n<text text-anchor=\"middle\" x=\"502.5\" y=\"-124.8\" font-family=\"Times,serif\" font-size=\"14.00\">grad 0.5000</text>\n</g>\n<!-- 134612255310176&#45;&gt;134612255316176+ -->\n<g id=\"edge12\" class=\"edge\">\n<title>134612255310176&#45;&gt;134612255316176+</title>\n<path fill=\"none\" stroke=\"black\" d=\"M543.84,-111.01C554.01,-109.34 563.76,-107.74 572.44,-106.32\"/>\n<polygon fill=\"black\" stroke=\"black\" points=\"573.17,-109.75 582.47,-104.68 572.04,-102.84 573.17,-109.75\"/>\n</g>\n<!-- 134612255310176*&#45;&gt;134612255310176 -->\n<g id=\"edge5\" class=\"edge\">\n<title>134612255310176*&#45;&gt;134612255310176</title>\n<path fill=\"none\" stroke=\"black\" d=\"M290.34,-128.5C298.51,-128.5 308.08,-128.5 318.36,-128.5\"/>\n<polygon fill=\"black\" stroke=\"black\" points=\"318.39,-132 328.39,-128.5 318.39,-125 318.39,-132\"/>\n</g>\n<!-- 134612240104800 -->\n<g id=\"node15\" class=\"node\">\n<title>134612240104800</title>\n<polygon fill=\"none\" stroke=\"black\" points=\"4,-110.5 4,-146.5 196,-146.5 196,-110.5 4,-110.5\"/>\n<text text-anchor=\"middle\" x=\"19\" y=\"-124.8\" font-family=\"Times,serif\" font-size=\"14.00\">x2</text>\n<polyline fill=\"none\" stroke=\"black\" points=\"34,-110.5 34,-146.5 \"/>\n<text text-anchor=\"middle\" x=\"74\" y=\"-124.8\" font-family=\"Times,serif\" font-size=\"14.00\">data 0.0000</text>\n<polyline fill=\"none\" stroke=\"black\" points=\"114,-110.5 114,-146.5 \"/>\n<text text-anchor=\"middle\" x=\"155\" y=\"-124.8\" font-family=\"Times,serif\" font-size=\"14.00\">grad 0.0000</text>\n</g>\n<!-- 134612240104800&#45;&gt;134612255310176* -->\n<g id=\"edge13\" class=\"edge\">\n<title>134612240104800&#45;&gt;134612255310176*</title>\n<path fill=\"none\" stroke=\"black\" d=\"M196.05,-128.5C206.52,-128.5 216.65,-128.5 225.71,-128.5\"/>\n<polygon fill=\"black\" stroke=\"black\" points=\"225.79,-132 235.79,-128.5 225.79,-125 225.79,-132\"/>\n</g>\n</g>\n</svg>\n",
            "text/plain": [
              "<graphviz.graphs.Digraph at 0x7a6ddbbe2230>"
            ]
          },
          "metadata": {},
          "execution_count": 224
        }
      ]
    },
    {
      "cell_type": "code",
      "execution_count": 225,
      "metadata": {
        "id": "TKBJaRdBd-sH"
      },
      "outputs": [],
      "source": [
        "x2.grad = w2.data * x2w2.grad\n",
        "w2.grad = x2.data * x2w2.grad"
      ]
    },
    {
      "cell_type": "code",
      "execution_count": 226,
      "metadata": {
        "colab": {
          "base_uri": "https://localhost:8080/",
          "height": 321
        },
        "id": "h-aJ3NWteOww",
        "outputId": "ff95abf9-55cd-47e9-a33c-48d0e41320c6"
      },
      "outputs": [
        {
          "output_type": "execute_result",
          "data": {
            "image/svg+xml": "<?xml version=\"1.0\" encoding=\"UTF-8\" standalone=\"no\"?>\n<!DOCTYPE svg PUBLIC \"-//W3C//DTD SVG 1.1//EN\"\n \"http://www.w3.org/Graphics/SVG/1.1/DTD/svg11.dtd\">\n<!-- Generated by graphviz version 2.43.0 (0)\n -->\n<!-- Title: %3 Pages: 1 -->\n<svg width=\"1575pt\" height=\"210pt\"\n viewBox=\"0.00 0.00 1575.00 210.00\" xmlns=\"http://www.w3.org/2000/svg\" xmlns:xlink=\"http://www.w3.org/1999/xlink\">\n<g id=\"graph0\" class=\"graph\" transform=\"scale(1 1) rotate(0) translate(4 206)\">\n<title>%3</title>\n<polygon fill=\"white\" stroke=\"transparent\" points=\"-4,4 -4,-206 1571,-206 1571,4 -4,4\"/>\n<!-- 134612240103936 -->\n<g id=\"node1\" class=\"node\">\n<title>134612240103936</title>\n<polygon fill=\"none\" stroke=\"black\" points=\"2.5,-165.5 2.5,-201.5 197.5,-201.5 197.5,-165.5 2.5,-165.5\"/>\n<text text-anchor=\"middle\" x=\"19\" y=\"-179.8\" font-family=\"Times,serif\" font-size=\"14.00\">w2</text>\n<polyline fill=\"none\" stroke=\"black\" points=\"35.5,-165.5 35.5,-201.5 \"/>\n<text text-anchor=\"middle\" x=\"75.5\" y=\"-179.8\" font-family=\"Times,serif\" font-size=\"14.00\">data 1.0000</text>\n<polyline fill=\"none\" stroke=\"black\" points=\"115.5,-165.5 115.5,-201.5 \"/>\n<text text-anchor=\"middle\" x=\"156.5\" y=\"-179.8\" font-family=\"Times,serif\" font-size=\"14.00\">grad 0.0000</text>\n</g>\n<!-- 134612255310176* -->\n<g id=\"node14\" class=\"node\">\n<title>134612255310176*</title>\n<ellipse fill=\"none\" stroke=\"black\" cx=\"263\" cy=\"-128.5\" rx=\"27\" ry=\"18\"/>\n<text text-anchor=\"middle\" x=\"263\" y=\"-124.8\" font-family=\"Times,serif\" font-size=\"14.00\">*</text>\n</g>\n<!-- 134612240103936&#45;&gt;134612255310176* -->\n<g id=\"edge6\" class=\"edge\">\n<title>134612240103936&#45;&gt;134612255310176*</title>\n<path fill=\"none\" stroke=\"black\" d=\"M172.53,-165.44C181.84,-162.67 191.2,-159.67 200,-156.5 210.53,-152.71 221.75,-147.9 231.72,-143.33\"/>\n<polygon fill=\"black\" stroke=\"black\" points=\"233.25,-146.48 240.82,-139.07 230.28,-140.14 233.25,-146.48\"/>\n</g>\n<!-- 134612255321120 -->\n<g id=\"node2\" class=\"node\">\n<title>134612255321120</title>\n<polygon fill=\"none\" stroke=\"black\" points=\"326,-55.5 326,-91.5 546,-91.5 546,-55.5 326,-55.5\"/>\n<text text-anchor=\"middle\" x=\"352.5\" y=\"-69.8\" font-family=\"Times,serif\" font-size=\"14.00\">x1*w1</text>\n<polyline fill=\"none\" stroke=\"black\" points=\"379,-55.5 379,-91.5 \"/>\n<text text-anchor=\"middle\" x=\"421.5\" y=\"-69.8\" font-family=\"Times,serif\" font-size=\"14.00\">data &#45;6.0000</text>\n<polyline fill=\"none\" stroke=\"black\" points=\"464,-55.5 464,-91.5 \"/>\n<text text-anchor=\"middle\" x=\"505\" y=\"-69.8\" font-family=\"Times,serif\" font-size=\"14.00\">grad 0.5000</text>\n</g>\n<!-- 134612255316176+ -->\n<g id=\"node8\" class=\"node\">\n<title>134612255316176+</title>\n<ellipse fill=\"none\" stroke=\"black\" cx=\"609\" cy=\"-100.5\" rx=\"27\" ry=\"18\"/>\n<text text-anchor=\"middle\" x=\"609\" y=\"-96.8\" font-family=\"Times,serif\" font-size=\"14.00\">+</text>\n</g>\n<!-- 134612255321120&#45;&gt;134612255316176+ -->\n<g id=\"edge10\" class=\"edge\">\n<title>134612255321120&#45;&gt;134612255316176+</title>\n<path fill=\"none\" stroke=\"black\" d=\"M546.27,-90.75C555.64,-92.23 564.6,-93.65 572.65,-94.92\"/>\n<polygon fill=\"black\" stroke=\"black\" points=\"572.23,-98.4 582.65,-96.5 573.32,-91.48 572.23,-98.4\"/>\n</g>\n<!-- 134612255321120* -->\n<g id=\"node3\" class=\"node\">\n<title>134612255321120*</title>\n<ellipse fill=\"none\" stroke=\"black\" cx=\"263\" cy=\"-73.5\" rx=\"27\" ry=\"18\"/>\n<text text-anchor=\"middle\" x=\"263\" y=\"-69.8\" font-family=\"Times,serif\" font-size=\"14.00\">*</text>\n</g>\n<!-- 134612255321120*&#45;&gt;134612255321120 -->\n<g id=\"edge1\" class=\"edge\">\n<title>134612255321120*&#45;&gt;134612255321120</title>\n<path fill=\"none\" stroke=\"black\" d=\"M290.34,-73.5C297.77,-73.5 306.37,-73.5 315.6,-73.5\"/>\n<polygon fill=\"black\" stroke=\"black\" points=\"315.84,-77 325.84,-73.5 315.84,-70 315.84,-77\"/>\n</g>\n<!-- 134612242730624 -->\n<g id=\"node4\" class=\"node\">\n<title>134612242730624</title>\n<polygon fill=\"none\" stroke=\"black\" points=\"1382,-54.5 1382,-90.5 1567,-90.5 1567,-54.5 1382,-54.5\"/>\n<text text-anchor=\"middle\" x=\"1393.5\" y=\"-68.8\" font-family=\"Times,serif\" font-size=\"14.00\">o</text>\n<polyline fill=\"none\" stroke=\"black\" points=\"1405,-54.5 1405,-90.5 \"/>\n<text text-anchor=\"middle\" x=\"1445\" y=\"-68.8\" font-family=\"Times,serif\" font-size=\"14.00\">data 0.7071</text>\n<polyline fill=\"none\" stroke=\"black\" points=\"1485,-54.5 1485,-90.5 \"/>\n<text text-anchor=\"middle\" x=\"1526\" y=\"-68.8\" font-family=\"Times,serif\" font-size=\"14.00\">grad 1.0000</text>\n</g>\n<!-- 134612242730624tanh -->\n<g id=\"node5\" class=\"node\">\n<title>134612242730624tanh</title>\n<ellipse fill=\"none\" stroke=\"black\" cx=\"1319\" cy=\"-72.5\" rx=\"27\" ry=\"18\"/>\n<text text-anchor=\"middle\" x=\"1319\" y=\"-68.8\" font-family=\"Times,serif\" font-size=\"14.00\">tanh</text>\n</g>\n<!-- 134612242730624tanh&#45;&gt;134612242730624 -->\n<g id=\"edge2\" class=\"edge\">\n<title>134612242730624tanh&#45;&gt;134612242730624</title>\n<path fill=\"none\" stroke=\"black\" d=\"M1346.04,-72.5C1353.58,-72.5 1362.3,-72.5 1371.57,-72.5\"/>\n<polygon fill=\"black\" stroke=\"black\" points=\"1371.81,-76 1381.81,-72.5 1371.81,-69 1371.81,-76\"/>\n</g>\n<!-- 134612240097456 -->\n<g id=\"node6\" class=\"node\">\n<title>134612240097456</title>\n<polygon fill=\"none\" stroke=\"black\" points=\"0,-55.5 0,-91.5 200,-91.5 200,-55.5 0,-55.5\"/>\n<text text-anchor=\"middle\" x=\"16.5\" y=\"-69.8\" font-family=\"Times,serif\" font-size=\"14.00\">w1</text>\n<polyline fill=\"none\" stroke=\"black\" points=\"33,-55.5 33,-91.5 \"/>\n<text text-anchor=\"middle\" x=\"75.5\" y=\"-69.8\" font-family=\"Times,serif\" font-size=\"14.00\">data &#45;3.0000</text>\n<polyline fill=\"none\" stroke=\"black\" points=\"118,-55.5 118,-91.5 \"/>\n<text text-anchor=\"middle\" x=\"159\" y=\"-69.8\" font-family=\"Times,serif\" font-size=\"14.00\">grad 0.0000</text>\n</g>\n<!-- 134612240097456&#45;&gt;134612255321120* -->\n<g id=\"edge8\" class=\"edge\">\n<title>134612240097456&#45;&gt;134612255321120*</title>\n<path fill=\"none\" stroke=\"black\" d=\"M200.21,-73.5C209.2,-73.5 217.86,-73.5 225.7,-73.5\"/>\n<polygon fill=\"black\" stroke=\"black\" points=\"225.85,-77 235.85,-73.5 225.85,-70 225.85,-77\"/>\n</g>\n<!-- 134612255316176 -->\n<g id=\"node7\" class=\"node\">\n<title>134612255316176</title>\n<polygon fill=\"none\" stroke=\"black\" points=\"672,-82.5 672,-118.5 945,-118.5 945,-82.5 672,-82.5\"/>\n<text text-anchor=\"middle\" x=\"725\" y=\"-96.8\" font-family=\"Times,serif\" font-size=\"14.00\">x1*w1 + x2*w2</text>\n<polyline fill=\"none\" stroke=\"black\" points=\"778,-82.5 778,-118.5 \"/>\n<text text-anchor=\"middle\" x=\"820.5\" y=\"-96.8\" font-family=\"Times,serif\" font-size=\"14.00\">data &#45;6.0000</text>\n<polyline fill=\"none\" stroke=\"black\" points=\"863,-82.5 863,-118.5 \"/>\n<text text-anchor=\"middle\" x=\"904\" y=\"-96.8\" font-family=\"Times,serif\" font-size=\"14.00\">grad 0.5000</text>\n</g>\n<!-- 134612243930976+ -->\n<g id=\"node12\" class=\"node\">\n<title>134612243930976+</title>\n<ellipse fill=\"none\" stroke=\"black\" cx=\"1008\" cy=\"-72.5\" rx=\"27\" ry=\"18\"/>\n<text text-anchor=\"middle\" x=\"1008\" y=\"-68.8\" font-family=\"Times,serif\" font-size=\"14.00\">+</text>\n</g>\n<!-- 134612255316176&#45;&gt;134612243930976+ -->\n<g id=\"edge9\" class=\"edge\">\n<title>134612255316176&#45;&gt;134612243930976+</title>\n<path fill=\"none\" stroke=\"black\" d=\"M936.53,-82.49C949.09,-80.71 960.99,-79.02 971.3,-77.56\"/>\n<polygon fill=\"black\" stroke=\"black\" points=\"972.03,-80.99 981.44,-76.12 971.05,-74.06 972.03,-80.99\"/>\n</g>\n<!-- 134612255316176+&#45;&gt;134612255316176 -->\n<g id=\"edge3\" class=\"edge\">\n<title>134612255316176+&#45;&gt;134612255316176</title>\n<path fill=\"none\" stroke=\"black\" d=\"M636.23,-100.5C643.7,-100.5 652.41,-100.5 661.87,-100.5\"/>\n<polygon fill=\"black\" stroke=\"black\" points=\"661.98,-104 671.98,-100.5 661.98,-97 661.98,-104\"/>\n</g>\n<!-- 134612240097024 -->\n<g id=\"node9\" class=\"node\">\n<title>134612240097024</title>\n<polygon fill=\"none\" stroke=\"black\" points=\"4,-0.5 4,-36.5 196,-36.5 196,-0.5 4,-0.5\"/>\n<text text-anchor=\"middle\" x=\"19\" y=\"-14.8\" font-family=\"Times,serif\" font-size=\"14.00\">x1</text>\n<polyline fill=\"none\" stroke=\"black\" points=\"34,-0.5 34,-36.5 \"/>\n<text text-anchor=\"middle\" x=\"74\" y=\"-14.8\" font-family=\"Times,serif\" font-size=\"14.00\">data 2.0000</text>\n<polyline fill=\"none\" stroke=\"black\" points=\"114,-0.5 114,-36.5 \"/>\n<text text-anchor=\"middle\" x=\"155\" y=\"-14.8\" font-family=\"Times,serif\" font-size=\"14.00\">grad 0.0000</text>\n</g>\n<!-- 134612240097024&#45;&gt;134612255321120* -->\n<g id=\"edge14\" class=\"edge\">\n<title>134612240097024&#45;&gt;134612255321120*</title>\n<path fill=\"none\" stroke=\"black\" d=\"M169.28,-36.5C179.65,-39.61 190.16,-42.98 200,-46.5 210.28,-50.17 221.28,-54.74 231.11,-59.07\"/>\n<polygon fill=\"black\" stroke=\"black\" points=\"229.93,-62.37 240.48,-63.27 232.79,-55.99 229.93,-62.37\"/>\n</g>\n<!-- 134612240097072 -->\n<g id=\"node10\" class=\"node\">\n<title>134612240097072</title>\n<polygon fill=\"none\" stroke=\"black\" points=\"716,-27.5 716,-63.5 901,-63.5 901,-27.5 716,-27.5\"/>\n<text text-anchor=\"middle\" x=\"727.5\" y=\"-41.8\" font-family=\"Times,serif\" font-size=\"14.00\">b</text>\n<polyline fill=\"none\" stroke=\"black\" points=\"739,-27.5 739,-63.5 \"/>\n<text text-anchor=\"middle\" x=\"779\" y=\"-41.8\" font-family=\"Times,serif\" font-size=\"14.00\">data 6.8814</text>\n<polyline fill=\"none\" stroke=\"black\" points=\"819,-27.5 819,-63.5 \"/>\n<text text-anchor=\"middle\" x=\"860\" y=\"-41.8\" font-family=\"Times,serif\" font-size=\"14.00\">grad 0.5000</text>\n</g>\n<!-- 134612240097072&#45;&gt;134612243930976+ -->\n<g id=\"edge7\" class=\"edge\">\n<title>134612240097072&#45;&gt;134612243930976+</title>\n<path fill=\"none\" stroke=\"black\" d=\"M901.02,-58.01C926,-61.43 951.59,-64.93 971.37,-67.63\"/>\n<polygon fill=\"black\" stroke=\"black\" points=\"971.05,-71.12 981.43,-69.01 972,-64.18 971.05,-71.12\"/>\n</g>\n<!-- 134612243930976 -->\n<g id=\"node11\" class=\"node\">\n<title>134612243930976</title>\n<polygon fill=\"none\" stroke=\"black\" points=\"1071,-54.5 1071,-90.5 1256,-90.5 1256,-54.5 1071,-54.5\"/>\n<text text-anchor=\"middle\" x=\"1082.5\" y=\"-68.8\" font-family=\"Times,serif\" font-size=\"14.00\">n</text>\n<polyline fill=\"none\" stroke=\"black\" points=\"1094,-54.5 1094,-90.5 \"/>\n<text text-anchor=\"middle\" x=\"1134\" y=\"-68.8\" font-family=\"Times,serif\" font-size=\"14.00\">data 0.8814</text>\n<polyline fill=\"none\" stroke=\"black\" points=\"1174,-54.5 1174,-90.5 \"/>\n<text text-anchor=\"middle\" x=\"1215\" y=\"-68.8\" font-family=\"Times,serif\" font-size=\"14.00\">grad 0.5000</text>\n</g>\n<!-- 134612243930976&#45;&gt;134612242730624tanh -->\n<g id=\"edge11\" class=\"edge\">\n<title>134612243930976&#45;&gt;134612242730624tanh</title>\n<path fill=\"none\" stroke=\"black\" d=\"M1256.01,-72.5C1265.01,-72.5 1273.74,-72.5 1281.66,-72.5\"/>\n<polygon fill=\"black\" stroke=\"black\" points=\"1281.91,-76 1291.91,-72.5 1281.91,-69 1281.91,-76\"/>\n</g>\n<!-- 134612243930976+&#45;&gt;134612243930976 -->\n<g id=\"edge4\" class=\"edge\">\n<title>134612243930976+&#45;&gt;134612243930976</title>\n<path fill=\"none\" stroke=\"black\" d=\"M1035.04,-72.5C1042.58,-72.5 1051.3,-72.5 1060.57,-72.5\"/>\n<polygon fill=\"black\" stroke=\"black\" points=\"1060.81,-76 1070.81,-72.5 1060.81,-69 1060.81,-76\"/>\n</g>\n<!-- 134612255310176 -->\n<g id=\"node13\" class=\"node\">\n<title>134612255310176</title>\n<polygon fill=\"none\" stroke=\"black\" points=\"328.5,-110.5 328.5,-146.5 543.5,-146.5 543.5,-110.5 328.5,-110.5\"/>\n<text text-anchor=\"middle\" x=\"355\" y=\"-124.8\" font-family=\"Times,serif\" font-size=\"14.00\">x2*w2</text>\n<polyline fill=\"none\" stroke=\"black\" points=\"381.5,-110.5 381.5,-146.5 \"/>\n<text text-anchor=\"middle\" x=\"421.5\" y=\"-124.8\" font-family=\"Times,serif\" font-size=\"14.00\">data 0.0000</text>\n<polyline fill=\"none\" stroke=\"black\" points=\"461.5,-110.5 461.5,-146.5 \"/>\n<text text-anchor=\"middle\" x=\"502.5\" y=\"-124.8\" font-family=\"Times,serif\" font-size=\"14.00\">grad 0.5000</text>\n</g>\n<!-- 134612255310176&#45;&gt;134612255316176+ -->\n<g id=\"edge12\" class=\"edge\">\n<title>134612255310176&#45;&gt;134612255316176+</title>\n<path fill=\"none\" stroke=\"black\" d=\"M543.84,-111.01C554.01,-109.34 563.76,-107.74 572.44,-106.32\"/>\n<polygon fill=\"black\" stroke=\"black\" points=\"573.17,-109.75 582.47,-104.68 572.04,-102.84 573.17,-109.75\"/>\n</g>\n<!-- 134612255310176*&#45;&gt;134612255310176 -->\n<g id=\"edge5\" class=\"edge\">\n<title>134612255310176*&#45;&gt;134612255310176</title>\n<path fill=\"none\" stroke=\"black\" d=\"M290.34,-128.5C298.51,-128.5 308.08,-128.5 318.36,-128.5\"/>\n<polygon fill=\"black\" stroke=\"black\" points=\"318.39,-132 328.39,-128.5 318.39,-125 318.39,-132\"/>\n</g>\n<!-- 134612240104800 -->\n<g id=\"node15\" class=\"node\">\n<title>134612240104800</title>\n<polygon fill=\"none\" stroke=\"black\" points=\"4,-110.5 4,-146.5 196,-146.5 196,-110.5 4,-110.5\"/>\n<text text-anchor=\"middle\" x=\"19\" y=\"-124.8\" font-family=\"Times,serif\" font-size=\"14.00\">x2</text>\n<polyline fill=\"none\" stroke=\"black\" points=\"34,-110.5 34,-146.5 \"/>\n<text text-anchor=\"middle\" x=\"74\" y=\"-124.8\" font-family=\"Times,serif\" font-size=\"14.00\">data 0.0000</text>\n<polyline fill=\"none\" stroke=\"black\" points=\"114,-110.5 114,-146.5 \"/>\n<text text-anchor=\"middle\" x=\"155\" y=\"-124.8\" font-family=\"Times,serif\" font-size=\"14.00\">grad 0.5000</text>\n</g>\n<!-- 134612240104800&#45;&gt;134612255310176* -->\n<g id=\"edge13\" class=\"edge\">\n<title>134612240104800&#45;&gt;134612255310176*</title>\n<path fill=\"none\" stroke=\"black\" d=\"M196.05,-128.5C206.52,-128.5 216.65,-128.5 225.71,-128.5\"/>\n<polygon fill=\"black\" stroke=\"black\" points=\"225.79,-132 235.79,-128.5 225.79,-125 225.79,-132\"/>\n</g>\n</g>\n</svg>\n",
            "text/plain": [
              "<graphviz.graphs.Digraph at 0x7a6ddafb6110>"
            ]
          },
          "metadata": {},
          "execution_count": 226
        }
      ],
      "source": [
        "draw_dot(o, label)"
      ]
    },
    {
      "cell_type": "code",
      "execution_count": 227,
      "metadata": {
        "id": "iRkEJ0wFfpUa"
      },
      "outputs": [],
      "source": [
        "x1.grad = w1.data * x1w1.grad\n",
        "w1.grad = x1.data * x1w1.grad"
      ]
    },
    {
      "cell_type": "code",
      "execution_count": 228,
      "metadata": {
        "colab": {
          "base_uri": "https://localhost:8080/",
          "height": 321
        },
        "id": "WzU9wldTfrhL",
        "outputId": "2da3f470-a01b-4ca7-e95e-7e28365ea108"
      },
      "outputs": [
        {
          "output_type": "execute_result",
          "data": {
            "image/svg+xml": "<?xml version=\"1.0\" encoding=\"UTF-8\" standalone=\"no\"?>\n<!DOCTYPE svg PUBLIC \"-//W3C//DTD SVG 1.1//EN\"\n \"http://www.w3.org/Graphics/SVG/1.1/DTD/svg11.dtd\">\n<!-- Generated by graphviz version 2.43.0 (0)\n -->\n<!-- Title: %3 Pages: 1 -->\n<svg width=\"1575pt\" height=\"210pt\"\n viewBox=\"0.00 0.00 1575.00 210.00\" xmlns=\"http://www.w3.org/2000/svg\" xmlns:xlink=\"http://www.w3.org/1999/xlink\">\n<g id=\"graph0\" class=\"graph\" transform=\"scale(1 1) rotate(0) translate(4 206)\">\n<title>%3</title>\n<polygon fill=\"white\" stroke=\"transparent\" points=\"-4,4 -4,-206 1571,-206 1571,4 -4,4\"/>\n<!-- 134612240103936 -->\n<g id=\"node1\" class=\"node\">\n<title>134612240103936</title>\n<polygon fill=\"none\" stroke=\"black\" points=\"2.5,-165.5 2.5,-201.5 197.5,-201.5 197.5,-165.5 2.5,-165.5\"/>\n<text text-anchor=\"middle\" x=\"19\" y=\"-179.8\" font-family=\"Times,serif\" font-size=\"14.00\">w2</text>\n<polyline fill=\"none\" stroke=\"black\" points=\"35.5,-165.5 35.5,-201.5 \"/>\n<text text-anchor=\"middle\" x=\"75.5\" y=\"-179.8\" font-family=\"Times,serif\" font-size=\"14.00\">data 1.0000</text>\n<polyline fill=\"none\" stroke=\"black\" points=\"115.5,-165.5 115.5,-201.5 \"/>\n<text text-anchor=\"middle\" x=\"156.5\" y=\"-179.8\" font-family=\"Times,serif\" font-size=\"14.00\">grad 0.0000</text>\n</g>\n<!-- 134612255310176* -->\n<g id=\"node14\" class=\"node\">\n<title>134612255310176*</title>\n<ellipse fill=\"none\" stroke=\"black\" cx=\"263\" cy=\"-128.5\" rx=\"27\" ry=\"18\"/>\n<text text-anchor=\"middle\" x=\"263\" y=\"-124.8\" font-family=\"Times,serif\" font-size=\"14.00\">*</text>\n</g>\n<!-- 134612240103936&#45;&gt;134612255310176* -->\n<g id=\"edge6\" class=\"edge\">\n<title>134612240103936&#45;&gt;134612255310176*</title>\n<path fill=\"none\" stroke=\"black\" d=\"M172.53,-165.44C181.84,-162.67 191.2,-159.67 200,-156.5 210.53,-152.71 221.75,-147.9 231.72,-143.33\"/>\n<polygon fill=\"black\" stroke=\"black\" points=\"233.25,-146.48 240.82,-139.07 230.28,-140.14 233.25,-146.48\"/>\n</g>\n<!-- 134612255321120 -->\n<g id=\"node2\" class=\"node\">\n<title>134612255321120</title>\n<polygon fill=\"none\" stroke=\"black\" points=\"326,-55.5 326,-91.5 546,-91.5 546,-55.5 326,-55.5\"/>\n<text text-anchor=\"middle\" x=\"352.5\" y=\"-69.8\" font-family=\"Times,serif\" font-size=\"14.00\">x1*w1</text>\n<polyline fill=\"none\" stroke=\"black\" points=\"379,-55.5 379,-91.5 \"/>\n<text text-anchor=\"middle\" x=\"421.5\" y=\"-69.8\" font-family=\"Times,serif\" font-size=\"14.00\">data &#45;6.0000</text>\n<polyline fill=\"none\" stroke=\"black\" points=\"464,-55.5 464,-91.5 \"/>\n<text text-anchor=\"middle\" x=\"505\" y=\"-69.8\" font-family=\"Times,serif\" font-size=\"14.00\">grad 0.5000</text>\n</g>\n<!-- 134612255316176+ -->\n<g id=\"node8\" class=\"node\">\n<title>134612255316176+</title>\n<ellipse fill=\"none\" stroke=\"black\" cx=\"609\" cy=\"-100.5\" rx=\"27\" ry=\"18\"/>\n<text text-anchor=\"middle\" x=\"609\" y=\"-96.8\" font-family=\"Times,serif\" font-size=\"14.00\">+</text>\n</g>\n<!-- 134612255321120&#45;&gt;134612255316176+ -->\n<g id=\"edge10\" class=\"edge\">\n<title>134612255321120&#45;&gt;134612255316176+</title>\n<path fill=\"none\" stroke=\"black\" d=\"M546.27,-90.75C555.64,-92.23 564.6,-93.65 572.65,-94.92\"/>\n<polygon fill=\"black\" stroke=\"black\" points=\"572.23,-98.4 582.65,-96.5 573.32,-91.48 572.23,-98.4\"/>\n</g>\n<!-- 134612255321120* -->\n<g id=\"node3\" class=\"node\">\n<title>134612255321120*</title>\n<ellipse fill=\"none\" stroke=\"black\" cx=\"263\" cy=\"-73.5\" rx=\"27\" ry=\"18\"/>\n<text text-anchor=\"middle\" x=\"263\" y=\"-69.8\" font-family=\"Times,serif\" font-size=\"14.00\">*</text>\n</g>\n<!-- 134612255321120*&#45;&gt;134612255321120 -->\n<g id=\"edge1\" class=\"edge\">\n<title>134612255321120*&#45;&gt;134612255321120</title>\n<path fill=\"none\" stroke=\"black\" d=\"M290.34,-73.5C297.77,-73.5 306.37,-73.5 315.6,-73.5\"/>\n<polygon fill=\"black\" stroke=\"black\" points=\"315.84,-77 325.84,-73.5 315.84,-70 315.84,-77\"/>\n</g>\n<!-- 134612242730624 -->\n<g id=\"node4\" class=\"node\">\n<title>134612242730624</title>\n<polygon fill=\"none\" stroke=\"black\" points=\"1382,-54.5 1382,-90.5 1567,-90.5 1567,-54.5 1382,-54.5\"/>\n<text text-anchor=\"middle\" x=\"1393.5\" y=\"-68.8\" font-family=\"Times,serif\" font-size=\"14.00\">o</text>\n<polyline fill=\"none\" stroke=\"black\" points=\"1405,-54.5 1405,-90.5 \"/>\n<text text-anchor=\"middle\" x=\"1445\" y=\"-68.8\" font-family=\"Times,serif\" font-size=\"14.00\">data 0.7071</text>\n<polyline fill=\"none\" stroke=\"black\" points=\"1485,-54.5 1485,-90.5 \"/>\n<text text-anchor=\"middle\" x=\"1526\" y=\"-68.8\" font-family=\"Times,serif\" font-size=\"14.00\">grad 1.0000</text>\n</g>\n<!-- 134612242730624tanh -->\n<g id=\"node5\" class=\"node\">\n<title>134612242730624tanh</title>\n<ellipse fill=\"none\" stroke=\"black\" cx=\"1319\" cy=\"-72.5\" rx=\"27\" ry=\"18\"/>\n<text text-anchor=\"middle\" x=\"1319\" y=\"-68.8\" font-family=\"Times,serif\" font-size=\"14.00\">tanh</text>\n</g>\n<!-- 134612242730624tanh&#45;&gt;134612242730624 -->\n<g id=\"edge2\" class=\"edge\">\n<title>134612242730624tanh&#45;&gt;134612242730624</title>\n<path fill=\"none\" stroke=\"black\" d=\"M1346.04,-72.5C1353.58,-72.5 1362.3,-72.5 1371.57,-72.5\"/>\n<polygon fill=\"black\" stroke=\"black\" points=\"1371.81,-76 1381.81,-72.5 1371.81,-69 1371.81,-76\"/>\n</g>\n<!-- 134612240097456 -->\n<g id=\"node6\" class=\"node\">\n<title>134612240097456</title>\n<polygon fill=\"none\" stroke=\"black\" points=\"0,-55.5 0,-91.5 200,-91.5 200,-55.5 0,-55.5\"/>\n<text text-anchor=\"middle\" x=\"16.5\" y=\"-69.8\" font-family=\"Times,serif\" font-size=\"14.00\">w1</text>\n<polyline fill=\"none\" stroke=\"black\" points=\"33,-55.5 33,-91.5 \"/>\n<text text-anchor=\"middle\" x=\"75.5\" y=\"-69.8\" font-family=\"Times,serif\" font-size=\"14.00\">data &#45;3.0000</text>\n<polyline fill=\"none\" stroke=\"black\" points=\"118,-55.5 118,-91.5 \"/>\n<text text-anchor=\"middle\" x=\"159\" y=\"-69.8\" font-family=\"Times,serif\" font-size=\"14.00\">grad 1.0000</text>\n</g>\n<!-- 134612240097456&#45;&gt;134612255321120* -->\n<g id=\"edge8\" class=\"edge\">\n<title>134612240097456&#45;&gt;134612255321120*</title>\n<path fill=\"none\" stroke=\"black\" d=\"M200.21,-73.5C209.2,-73.5 217.86,-73.5 225.7,-73.5\"/>\n<polygon fill=\"black\" stroke=\"black\" points=\"225.85,-77 235.85,-73.5 225.85,-70 225.85,-77\"/>\n</g>\n<!-- 134612255316176 -->\n<g id=\"node7\" class=\"node\">\n<title>134612255316176</title>\n<polygon fill=\"none\" stroke=\"black\" points=\"672,-82.5 672,-118.5 945,-118.5 945,-82.5 672,-82.5\"/>\n<text text-anchor=\"middle\" x=\"725\" y=\"-96.8\" font-family=\"Times,serif\" font-size=\"14.00\">x1*w1 + x2*w2</text>\n<polyline fill=\"none\" stroke=\"black\" points=\"778,-82.5 778,-118.5 \"/>\n<text text-anchor=\"middle\" x=\"820.5\" y=\"-96.8\" font-family=\"Times,serif\" font-size=\"14.00\">data &#45;6.0000</text>\n<polyline fill=\"none\" stroke=\"black\" points=\"863,-82.5 863,-118.5 \"/>\n<text text-anchor=\"middle\" x=\"904\" y=\"-96.8\" font-family=\"Times,serif\" font-size=\"14.00\">grad 0.5000</text>\n</g>\n<!-- 134612243930976+ -->\n<g id=\"node12\" class=\"node\">\n<title>134612243930976+</title>\n<ellipse fill=\"none\" stroke=\"black\" cx=\"1008\" cy=\"-72.5\" rx=\"27\" ry=\"18\"/>\n<text text-anchor=\"middle\" x=\"1008\" y=\"-68.8\" font-family=\"Times,serif\" font-size=\"14.00\">+</text>\n</g>\n<!-- 134612255316176&#45;&gt;134612243930976+ -->\n<g id=\"edge9\" class=\"edge\">\n<title>134612255316176&#45;&gt;134612243930976+</title>\n<path fill=\"none\" stroke=\"black\" d=\"M936.53,-82.49C949.09,-80.71 960.99,-79.02 971.3,-77.56\"/>\n<polygon fill=\"black\" stroke=\"black\" points=\"972.03,-80.99 981.44,-76.12 971.05,-74.06 972.03,-80.99\"/>\n</g>\n<!-- 134612255316176+&#45;&gt;134612255316176 -->\n<g id=\"edge3\" class=\"edge\">\n<title>134612255316176+&#45;&gt;134612255316176</title>\n<path fill=\"none\" stroke=\"black\" d=\"M636.23,-100.5C643.7,-100.5 652.41,-100.5 661.87,-100.5\"/>\n<polygon fill=\"black\" stroke=\"black\" points=\"661.98,-104 671.98,-100.5 661.98,-97 661.98,-104\"/>\n</g>\n<!-- 134612240097024 -->\n<g id=\"node9\" class=\"node\">\n<title>134612240097024</title>\n<polygon fill=\"none\" stroke=\"black\" points=\"2,-0.5 2,-36.5 198,-36.5 198,-0.5 2,-0.5\"/>\n<text text-anchor=\"middle\" x=\"17\" y=\"-14.8\" font-family=\"Times,serif\" font-size=\"14.00\">x1</text>\n<polyline fill=\"none\" stroke=\"black\" points=\"32,-0.5 32,-36.5 \"/>\n<text text-anchor=\"middle\" x=\"72\" y=\"-14.8\" font-family=\"Times,serif\" font-size=\"14.00\">data 2.0000</text>\n<polyline fill=\"none\" stroke=\"black\" points=\"112,-0.5 112,-36.5 \"/>\n<text text-anchor=\"middle\" x=\"155\" y=\"-14.8\" font-family=\"Times,serif\" font-size=\"14.00\">grad &#45;1.5000</text>\n</g>\n<!-- 134612240097024&#45;&gt;134612255321120* -->\n<g id=\"edge14\" class=\"edge\">\n<title>134612240097024&#45;&gt;134612255321120*</title>\n<path fill=\"none\" stroke=\"black\" d=\"M169.28,-36.5C179.65,-39.61 190.16,-42.98 200,-46.5 210.28,-50.17 221.28,-54.74 231.11,-59.07\"/>\n<polygon fill=\"black\" stroke=\"black\" points=\"229.93,-62.37 240.48,-63.27 232.79,-55.99 229.93,-62.37\"/>\n</g>\n<!-- 134612240097072 -->\n<g id=\"node10\" class=\"node\">\n<title>134612240097072</title>\n<polygon fill=\"none\" stroke=\"black\" points=\"716,-27.5 716,-63.5 901,-63.5 901,-27.5 716,-27.5\"/>\n<text text-anchor=\"middle\" x=\"727.5\" y=\"-41.8\" font-family=\"Times,serif\" font-size=\"14.00\">b</text>\n<polyline fill=\"none\" stroke=\"black\" points=\"739,-27.5 739,-63.5 \"/>\n<text text-anchor=\"middle\" x=\"779\" y=\"-41.8\" font-family=\"Times,serif\" font-size=\"14.00\">data 6.8814</text>\n<polyline fill=\"none\" stroke=\"black\" points=\"819,-27.5 819,-63.5 \"/>\n<text text-anchor=\"middle\" x=\"860\" y=\"-41.8\" font-family=\"Times,serif\" font-size=\"14.00\">grad 0.5000</text>\n</g>\n<!-- 134612240097072&#45;&gt;134612243930976+ -->\n<g id=\"edge7\" class=\"edge\">\n<title>134612240097072&#45;&gt;134612243930976+</title>\n<path fill=\"none\" stroke=\"black\" d=\"M901.02,-58.01C926,-61.43 951.59,-64.93 971.37,-67.63\"/>\n<polygon fill=\"black\" stroke=\"black\" points=\"971.05,-71.12 981.43,-69.01 972,-64.18 971.05,-71.12\"/>\n</g>\n<!-- 134612243930976 -->\n<g id=\"node11\" class=\"node\">\n<title>134612243930976</title>\n<polygon fill=\"none\" stroke=\"black\" points=\"1071,-54.5 1071,-90.5 1256,-90.5 1256,-54.5 1071,-54.5\"/>\n<text text-anchor=\"middle\" x=\"1082.5\" y=\"-68.8\" font-family=\"Times,serif\" font-size=\"14.00\">n</text>\n<polyline fill=\"none\" stroke=\"black\" points=\"1094,-54.5 1094,-90.5 \"/>\n<text text-anchor=\"middle\" x=\"1134\" y=\"-68.8\" font-family=\"Times,serif\" font-size=\"14.00\">data 0.8814</text>\n<polyline fill=\"none\" stroke=\"black\" points=\"1174,-54.5 1174,-90.5 \"/>\n<text text-anchor=\"middle\" x=\"1215\" y=\"-68.8\" font-family=\"Times,serif\" font-size=\"14.00\">grad 0.5000</text>\n</g>\n<!-- 134612243930976&#45;&gt;134612242730624tanh -->\n<g id=\"edge11\" class=\"edge\">\n<title>134612243930976&#45;&gt;134612242730624tanh</title>\n<path fill=\"none\" stroke=\"black\" d=\"M1256.01,-72.5C1265.01,-72.5 1273.74,-72.5 1281.66,-72.5\"/>\n<polygon fill=\"black\" stroke=\"black\" points=\"1281.91,-76 1291.91,-72.5 1281.91,-69 1281.91,-76\"/>\n</g>\n<!-- 134612243930976+&#45;&gt;134612243930976 -->\n<g id=\"edge4\" class=\"edge\">\n<title>134612243930976+&#45;&gt;134612243930976</title>\n<path fill=\"none\" stroke=\"black\" d=\"M1035.04,-72.5C1042.58,-72.5 1051.3,-72.5 1060.57,-72.5\"/>\n<polygon fill=\"black\" stroke=\"black\" points=\"1060.81,-76 1070.81,-72.5 1060.81,-69 1060.81,-76\"/>\n</g>\n<!-- 134612255310176 -->\n<g id=\"node13\" class=\"node\">\n<title>134612255310176</title>\n<polygon fill=\"none\" stroke=\"black\" points=\"328.5,-110.5 328.5,-146.5 543.5,-146.5 543.5,-110.5 328.5,-110.5\"/>\n<text text-anchor=\"middle\" x=\"355\" y=\"-124.8\" font-family=\"Times,serif\" font-size=\"14.00\">x2*w2</text>\n<polyline fill=\"none\" stroke=\"black\" points=\"381.5,-110.5 381.5,-146.5 \"/>\n<text text-anchor=\"middle\" x=\"421.5\" y=\"-124.8\" font-family=\"Times,serif\" font-size=\"14.00\">data 0.0000</text>\n<polyline fill=\"none\" stroke=\"black\" points=\"461.5,-110.5 461.5,-146.5 \"/>\n<text text-anchor=\"middle\" x=\"502.5\" y=\"-124.8\" font-family=\"Times,serif\" font-size=\"14.00\">grad 0.5000</text>\n</g>\n<!-- 134612255310176&#45;&gt;134612255316176+ -->\n<g id=\"edge12\" class=\"edge\">\n<title>134612255310176&#45;&gt;134612255316176+</title>\n<path fill=\"none\" stroke=\"black\" d=\"M543.84,-111.01C554.01,-109.34 563.76,-107.74 572.44,-106.32\"/>\n<polygon fill=\"black\" stroke=\"black\" points=\"573.17,-109.75 582.47,-104.68 572.04,-102.84 573.17,-109.75\"/>\n</g>\n<!-- 134612255310176*&#45;&gt;134612255310176 -->\n<g id=\"edge5\" class=\"edge\">\n<title>134612255310176*&#45;&gt;134612255310176</title>\n<path fill=\"none\" stroke=\"black\" d=\"M290.34,-128.5C298.51,-128.5 308.08,-128.5 318.36,-128.5\"/>\n<polygon fill=\"black\" stroke=\"black\" points=\"318.39,-132 328.39,-128.5 318.39,-125 318.39,-132\"/>\n</g>\n<!-- 134612240104800 -->\n<g id=\"node15\" class=\"node\">\n<title>134612240104800</title>\n<polygon fill=\"none\" stroke=\"black\" points=\"4,-110.5 4,-146.5 196,-146.5 196,-110.5 4,-110.5\"/>\n<text text-anchor=\"middle\" x=\"19\" y=\"-124.8\" font-family=\"Times,serif\" font-size=\"14.00\">x2</text>\n<polyline fill=\"none\" stroke=\"black\" points=\"34,-110.5 34,-146.5 \"/>\n<text text-anchor=\"middle\" x=\"74\" y=\"-124.8\" font-family=\"Times,serif\" font-size=\"14.00\">data 0.0000</text>\n<polyline fill=\"none\" stroke=\"black\" points=\"114,-110.5 114,-146.5 \"/>\n<text text-anchor=\"middle\" x=\"155\" y=\"-124.8\" font-family=\"Times,serif\" font-size=\"14.00\">grad 0.5000</text>\n</g>\n<!-- 134612240104800&#45;&gt;134612255310176* -->\n<g id=\"edge13\" class=\"edge\">\n<title>134612240104800&#45;&gt;134612255310176*</title>\n<path fill=\"none\" stroke=\"black\" d=\"M196.05,-128.5C206.52,-128.5 216.65,-128.5 225.71,-128.5\"/>\n<polygon fill=\"black\" stroke=\"black\" points=\"225.79,-132 235.79,-128.5 225.79,-125 225.79,-132\"/>\n</g>\n</g>\n</svg>\n",
            "text/plain": [
              "<graphviz.graphs.Digraph at 0x7a6ddafb5090>"
            ]
          },
          "metadata": {},
          "execution_count": 228
        }
      ],
      "source": [
        "draw_dot(o, label)"
      ]
    },
    {
      "cell_type": "markdown",
      "source": [
        "### Computing gradient of each node with `_backward()`"
      ],
      "metadata": {
        "id": "2XdvClYQOe7s"
      }
    },
    {
      "cell_type": "code",
      "source": [
        "class Value:\n",
        "    def __init__(self, data, _children=(), _op='', label=''):\n",
        "        self.data = data\n",
        "        self.grad = 0.0 # ⭠ Add grad\n",
        "        self._backward = lambda : None\n",
        "        self._prev = set(_children)\n",
        "        self._op = _op\n",
        "        self.label = label\n",
        "\n",
        "    def __repr__(self):\n",
        "        return f\"Value(label={self.label} data={self.data})\"\n",
        "\n",
        "    def __add__(self, other):\n",
        "        out = Value(self.data + other.data, (self, other), '+')\n",
        "        def _backward():\n",
        "            self.grad = 1.0 * out.grad\n",
        "            other.grad = 1.0 * out.grad\n",
        "        out._backward = _backward\n",
        "        return out\n",
        "\n",
        "    def __mul__(self, other):\n",
        "        out = Value(self.data * other.data, (self, other), '*')\n",
        "        def _backward():\n",
        "            self.grad = other.data * out.grad\n",
        "            other.grad = self.data * out.grad\n",
        "        out._backward = _backward\n",
        "        return out\n",
        "\n",
        "    def tanh(self):\n",
        "        x = self.data\n",
        "        t = (math.exp(2*x) - 1)/(math.exp(2*x) + 1)\n",
        "        out = Value(t, (self,), 'tanh')\n",
        "\n",
        "        def _backward():\n",
        "            self.grad = (1 - t**2) * out.grad\n",
        "        out._backward = _backward\n",
        "        return out"
      ],
      "metadata": {
        "id": "zskuUnMOOeif"
      },
      "execution_count": 229,
      "outputs": []
    },
    {
      "cell_type": "markdown",
      "source": [
        "> Lets take the NN code from the above"
      ],
      "metadata": {
        "id": "aNPZ4zgdOqwK"
      }
    },
    {
      "cell_type": "code",
      "source": [
        "x1 = Value(2.0, label='x1')\n",
        "x2 = Value(0.0, label='x2')\n",
        "\n",
        "w1 = Value(-3.0, label='w1')\n",
        "w2 = Value(1.0, label='w2')\n",
        "\n",
        "b = Value(6.8813735870195432, label='b')\n",
        "\n",
        "x1w1 = x1*w1; x1w1.label='x1*w1'\n",
        "x2w2 = x2*w2; x2w2.label='x2*w2'\n",
        "x1w1x2w2 = x1w1 + x2w2; x1w1x2w2.label='x1*w1 + x2*w2'\n",
        "n = x1w1x2w2 + b; n.label='n'\n",
        "o = n.tanh(); o.label = 'o'"
      ],
      "metadata": {
        "id": "pwsNZ4INO-h4"
      },
      "execution_count": 230,
      "outputs": []
    },
    {
      "cell_type": "code",
      "source": [
        "draw_dot(o, label)"
      ],
      "metadata": {
        "colab": {
          "base_uri": "https://localhost:8080/",
          "height": 321
        },
        "id": "6YvjgQqHPgVG",
        "outputId": "7dc1e494-7181-494b-acbd-d7aa6b30c32b"
      },
      "execution_count": 231,
      "outputs": [
        {
          "output_type": "execute_result",
          "data": {
            "image/svg+xml": "<?xml version=\"1.0\" encoding=\"UTF-8\" standalone=\"no\"?>\n<!DOCTYPE svg PUBLIC \"-//W3C//DTD SVG 1.1//EN\"\n \"http://www.w3.org/Graphics/SVG/1.1/DTD/svg11.dtd\">\n<!-- Generated by graphviz version 2.43.0 (0)\n -->\n<!-- Title: %3 Pages: 1 -->\n<svg width=\"1575pt\" height=\"210pt\"\n viewBox=\"0.00 0.00 1575.00 210.00\" xmlns=\"http://www.w3.org/2000/svg\" xmlns:xlink=\"http://www.w3.org/1999/xlink\">\n<g id=\"graph0\" class=\"graph\" transform=\"scale(1 1) rotate(0) translate(4 206)\">\n<title>%3</title>\n<polygon fill=\"white\" stroke=\"transparent\" points=\"-4,4 -4,-206 1571,-206 1571,4 -4,4\"/>\n<!-- 134612241591808 -->\n<g id=\"node1\" class=\"node\">\n<title>134612241591808</title>\n<polygon fill=\"none\" stroke=\"black\" points=\"672,-82.5 672,-118.5 945,-118.5 945,-82.5 672,-82.5\"/>\n<text text-anchor=\"middle\" x=\"725\" y=\"-96.8\" font-family=\"Times,serif\" font-size=\"14.00\">x1*w1 + x2*w2</text>\n<polyline fill=\"none\" stroke=\"black\" points=\"778,-82.5 778,-118.5 \"/>\n<text text-anchor=\"middle\" x=\"820.5\" y=\"-96.8\" font-family=\"Times,serif\" font-size=\"14.00\">data &#45;6.0000</text>\n<polyline fill=\"none\" stroke=\"black\" points=\"863,-82.5 863,-118.5 \"/>\n<text text-anchor=\"middle\" x=\"904\" y=\"-96.8\" font-family=\"Times,serif\" font-size=\"14.00\">grad 0.0000</text>\n</g>\n<!-- 134612241592912+ -->\n<g id=\"node7\" class=\"node\">\n<title>134612241592912+</title>\n<ellipse fill=\"none\" stroke=\"black\" cx=\"1008\" cy=\"-127.5\" rx=\"27\" ry=\"18\"/>\n<text text-anchor=\"middle\" x=\"1008\" y=\"-123.8\" font-family=\"Times,serif\" font-size=\"14.00\">+</text>\n</g>\n<!-- 134612241591808&#45;&gt;134612241592912+ -->\n<g id=\"edge14\" class=\"edge\">\n<title>134612241591808&#45;&gt;134612241592912+</title>\n<path fill=\"none\" stroke=\"black\" d=\"M941.24,-118.51C952.12,-120 962.4,-121.4 971.45,-122.64\"/>\n<polygon fill=\"black\" stroke=\"black\" points=\"971.11,-126.13 981.49,-124.01 972.05,-119.19 971.11,-126.13\"/>\n</g>\n<!-- 134612241591808+ -->\n<g id=\"node2\" class=\"node\">\n<title>134612241591808+</title>\n<ellipse fill=\"none\" stroke=\"black\" cx=\"609\" cy=\"-100.5\" rx=\"27\" ry=\"18\"/>\n<text text-anchor=\"middle\" x=\"609\" y=\"-96.8\" font-family=\"Times,serif\" font-size=\"14.00\">+</text>\n</g>\n<!-- 134612241591808+&#45;&gt;134612241591808 -->\n<g id=\"edge1\" class=\"edge\">\n<title>134612241591808+&#45;&gt;134612241591808</title>\n<path fill=\"none\" stroke=\"black\" d=\"M636.23,-100.5C643.7,-100.5 652.41,-100.5 661.87,-100.5\"/>\n<polygon fill=\"black\" stroke=\"black\" points=\"661.98,-104 671.98,-100.5 661.98,-97 661.98,-104\"/>\n</g>\n<!-- 134612241595408 -->\n<g id=\"node3\" class=\"node\">\n<title>134612241595408</title>\n<polygon fill=\"none\" stroke=\"black\" points=\"2.5,-55.5 2.5,-91.5 197.5,-91.5 197.5,-55.5 2.5,-55.5\"/>\n<text text-anchor=\"middle\" x=\"19\" y=\"-69.8\" font-family=\"Times,serif\" font-size=\"14.00\">w2</text>\n<polyline fill=\"none\" stroke=\"black\" points=\"35.5,-55.5 35.5,-91.5 \"/>\n<text text-anchor=\"middle\" x=\"75.5\" y=\"-69.8\" font-family=\"Times,serif\" font-size=\"14.00\">data 1.0000</text>\n<polyline fill=\"none\" stroke=\"black\" points=\"115.5,-55.5 115.5,-91.5 \"/>\n<text text-anchor=\"middle\" x=\"156.5\" y=\"-69.8\" font-family=\"Times,serif\" font-size=\"14.00\">grad 0.0000</text>\n</g>\n<!-- 134612241595552* -->\n<g id=\"node9\" class=\"node\">\n<title>134612241595552*</title>\n<ellipse fill=\"none\" stroke=\"black\" cx=\"263\" cy=\"-73.5\" rx=\"27\" ry=\"18\"/>\n<text text-anchor=\"middle\" x=\"263\" y=\"-69.8\" font-family=\"Times,serif\" font-size=\"14.00\">*</text>\n</g>\n<!-- 134612241595408&#45;&gt;134612241595552* -->\n<g id=\"edge12\" class=\"edge\">\n<title>134612241595408&#45;&gt;134612241595552*</title>\n<path fill=\"none\" stroke=\"black\" d=\"M197.91,-73.5C207.65,-73.5 217.05,-73.5 225.52,-73.5\"/>\n<polygon fill=\"black\" stroke=\"black\" points=\"225.7,-77 235.7,-73.5 225.7,-70 225.7,-77\"/>\n</g>\n<!-- 134612241590848 -->\n<g id=\"node4\" class=\"node\">\n<title>134612241590848</title>\n<polygon fill=\"none\" stroke=\"black\" points=\"326,-110.5 326,-146.5 546,-146.5 546,-110.5 326,-110.5\"/>\n<text text-anchor=\"middle\" x=\"352.5\" y=\"-124.8\" font-family=\"Times,serif\" font-size=\"14.00\">x1*w1</text>\n<polyline fill=\"none\" stroke=\"black\" points=\"379,-110.5 379,-146.5 \"/>\n<text text-anchor=\"middle\" x=\"421.5\" y=\"-124.8\" font-family=\"Times,serif\" font-size=\"14.00\">data &#45;6.0000</text>\n<polyline fill=\"none\" stroke=\"black\" points=\"464,-110.5 464,-146.5 \"/>\n<text text-anchor=\"middle\" x=\"505\" y=\"-124.8\" font-family=\"Times,serif\" font-size=\"14.00\">grad 0.0000</text>\n</g>\n<!-- 134612241590848&#45;&gt;134612241591808+ -->\n<g id=\"edge10\" class=\"edge\">\n<title>134612241590848&#45;&gt;134612241591808+</title>\n<path fill=\"none\" stroke=\"black\" d=\"M546.27,-110.61C555.64,-109.07 564.6,-107.61 572.65,-106.29\"/>\n<polygon fill=\"black\" stroke=\"black\" points=\"573.35,-109.72 582.65,-104.65 572.22,-102.81 573.35,-109.72\"/>\n</g>\n<!-- 134612241590848* -->\n<g id=\"node5\" class=\"node\">\n<title>134612241590848*</title>\n<ellipse fill=\"none\" stroke=\"black\" cx=\"263\" cy=\"-128.5\" rx=\"27\" ry=\"18\"/>\n<text text-anchor=\"middle\" x=\"263\" y=\"-124.8\" font-family=\"Times,serif\" font-size=\"14.00\">*</text>\n</g>\n<!-- 134612241590848*&#45;&gt;134612241590848 -->\n<g id=\"edge2\" class=\"edge\">\n<title>134612241590848*&#45;&gt;134612241590848</title>\n<path fill=\"none\" stroke=\"black\" d=\"M290.34,-128.5C297.77,-128.5 306.37,-128.5 315.6,-128.5\"/>\n<polygon fill=\"black\" stroke=\"black\" points=\"315.84,-132 325.84,-128.5 315.84,-125 315.84,-132\"/>\n</g>\n<!-- 134612241592912 -->\n<g id=\"node6\" class=\"node\">\n<title>134612241592912</title>\n<polygon fill=\"none\" stroke=\"black\" points=\"1071,-109.5 1071,-145.5 1256,-145.5 1256,-109.5 1071,-109.5\"/>\n<text text-anchor=\"middle\" x=\"1082.5\" y=\"-123.8\" font-family=\"Times,serif\" font-size=\"14.00\">n</text>\n<polyline fill=\"none\" stroke=\"black\" points=\"1094,-109.5 1094,-145.5 \"/>\n<text text-anchor=\"middle\" x=\"1134\" y=\"-123.8\" font-family=\"Times,serif\" font-size=\"14.00\">data 0.8814</text>\n<polyline fill=\"none\" stroke=\"black\" points=\"1174,-109.5 1174,-145.5 \"/>\n<text text-anchor=\"middle\" x=\"1215\" y=\"-123.8\" font-family=\"Times,serif\" font-size=\"14.00\">grad 0.0000</text>\n</g>\n<!-- 134612241585904tanh -->\n<g id=\"node12\" class=\"node\">\n<title>134612241585904tanh</title>\n<ellipse fill=\"none\" stroke=\"black\" cx=\"1319\" cy=\"-127.5\" rx=\"27\" ry=\"18\"/>\n<text text-anchor=\"middle\" x=\"1319\" y=\"-123.8\" font-family=\"Times,serif\" font-size=\"14.00\">tanh</text>\n</g>\n<!-- 134612241592912&#45;&gt;134612241585904tanh -->\n<g id=\"edge6\" class=\"edge\">\n<title>134612241592912&#45;&gt;134612241585904tanh</title>\n<path fill=\"none\" stroke=\"black\" d=\"M1256.01,-127.5C1265.01,-127.5 1273.74,-127.5 1281.66,-127.5\"/>\n<polygon fill=\"black\" stroke=\"black\" points=\"1281.91,-131 1291.91,-127.5 1281.91,-124 1281.91,-131\"/>\n</g>\n<!-- 134612241592912+&#45;&gt;134612241592912 -->\n<g id=\"edge3\" class=\"edge\">\n<title>134612241592912+&#45;&gt;134612241592912</title>\n<path fill=\"none\" stroke=\"black\" d=\"M1035.04,-127.5C1042.58,-127.5 1051.3,-127.5 1060.57,-127.5\"/>\n<polygon fill=\"black\" stroke=\"black\" points=\"1060.81,-131 1070.81,-127.5 1060.81,-124 1060.81,-131\"/>\n</g>\n<!-- 134612241595552 -->\n<g id=\"node8\" class=\"node\">\n<title>134612241595552</title>\n<polygon fill=\"none\" stroke=\"black\" points=\"328.5,-55.5 328.5,-91.5 543.5,-91.5 543.5,-55.5 328.5,-55.5\"/>\n<text text-anchor=\"middle\" x=\"355\" y=\"-69.8\" font-family=\"Times,serif\" font-size=\"14.00\">x2*w2</text>\n<polyline fill=\"none\" stroke=\"black\" points=\"381.5,-55.5 381.5,-91.5 \"/>\n<text text-anchor=\"middle\" x=\"421.5\" y=\"-69.8\" font-family=\"Times,serif\" font-size=\"14.00\">data 0.0000</text>\n<polyline fill=\"none\" stroke=\"black\" points=\"461.5,-55.5 461.5,-91.5 \"/>\n<text text-anchor=\"middle\" x=\"502.5\" y=\"-69.8\" font-family=\"Times,serif\" font-size=\"14.00\">grad 0.0000</text>\n</g>\n<!-- 134612241595552&#45;&gt;134612241591808+ -->\n<g id=\"edge11\" class=\"edge\">\n<title>134612241595552&#45;&gt;134612241591808+</title>\n<path fill=\"none\" stroke=\"black\" d=\"M543.84,-90.37C554.01,-91.98 563.76,-93.51 572.44,-94.89\"/>\n<polygon fill=\"black\" stroke=\"black\" points=\"572.05,-98.37 582.47,-96.47 573.14,-91.45 572.05,-98.37\"/>\n</g>\n<!-- 134612241595552*&#45;&gt;134612241595552 -->\n<g id=\"edge4\" class=\"edge\">\n<title>134612241595552*&#45;&gt;134612241595552</title>\n<path fill=\"none\" stroke=\"black\" d=\"M290.34,-73.5C298.51,-73.5 308.08,-73.5 318.36,-73.5\"/>\n<polygon fill=\"black\" stroke=\"black\" points=\"318.39,-77 328.39,-73.5 318.39,-70 318.39,-77\"/>\n</g>\n<!-- 134612241583840 -->\n<g id=\"node10\" class=\"node\">\n<title>134612241583840</title>\n<polygon fill=\"none\" stroke=\"black\" points=\"4,-165.5 4,-201.5 196,-201.5 196,-165.5 4,-165.5\"/>\n<text text-anchor=\"middle\" x=\"19\" y=\"-179.8\" font-family=\"Times,serif\" font-size=\"14.00\">x1</text>\n<polyline fill=\"none\" stroke=\"black\" points=\"34,-165.5 34,-201.5 \"/>\n<text text-anchor=\"middle\" x=\"74\" y=\"-179.8\" font-family=\"Times,serif\" font-size=\"14.00\">data 2.0000</text>\n<polyline fill=\"none\" stroke=\"black\" points=\"114,-165.5 114,-201.5 \"/>\n<text text-anchor=\"middle\" x=\"155\" y=\"-179.8\" font-family=\"Times,serif\" font-size=\"14.00\">grad 0.0000</text>\n</g>\n<!-- 134612241583840&#45;&gt;134612241590848* -->\n<g id=\"edge7\" class=\"edge\">\n<title>134612241583840&#45;&gt;134612241590848*</title>\n<path fill=\"none\" stroke=\"black\" d=\"M172.53,-165.44C181.84,-162.67 191.2,-159.67 200,-156.5 210.53,-152.71 221.75,-147.9 231.72,-143.33\"/>\n<polygon fill=\"black\" stroke=\"black\" points=\"233.25,-146.48 240.82,-139.07 230.28,-140.14 233.25,-146.48\"/>\n</g>\n<!-- 134612241585904 -->\n<g id=\"node11\" class=\"node\">\n<title>134612241585904</title>\n<polygon fill=\"none\" stroke=\"black\" points=\"1382,-109.5 1382,-145.5 1567,-145.5 1567,-109.5 1382,-109.5\"/>\n<text text-anchor=\"middle\" x=\"1393.5\" y=\"-123.8\" font-family=\"Times,serif\" font-size=\"14.00\">o</text>\n<polyline fill=\"none\" stroke=\"black\" points=\"1405,-109.5 1405,-145.5 \"/>\n<text text-anchor=\"middle\" x=\"1445\" y=\"-123.8\" font-family=\"Times,serif\" font-size=\"14.00\">data 0.7071</text>\n<polyline fill=\"none\" stroke=\"black\" points=\"1485,-109.5 1485,-145.5 \"/>\n<text text-anchor=\"middle\" x=\"1526\" y=\"-123.8\" font-family=\"Times,serif\" font-size=\"14.00\">grad 0.0000</text>\n</g>\n<!-- 134612241585904tanh&#45;&gt;134612241585904 -->\n<g id=\"edge5\" class=\"edge\">\n<title>134612241585904tanh&#45;&gt;134612241585904</title>\n<path fill=\"none\" stroke=\"black\" d=\"M1346.04,-127.5C1353.58,-127.5 1362.3,-127.5 1371.57,-127.5\"/>\n<polygon fill=\"black\" stroke=\"black\" points=\"1371.81,-131 1381.81,-127.5 1371.81,-124 1371.81,-131\"/>\n</g>\n<!-- 134612241580336 -->\n<g id=\"node13\" class=\"node\">\n<title>134612241580336</title>\n<polygon fill=\"none\" stroke=\"black\" points=\"716,-137.5 716,-173.5 901,-173.5 901,-137.5 716,-137.5\"/>\n<text text-anchor=\"middle\" x=\"727.5\" y=\"-151.8\" font-family=\"Times,serif\" font-size=\"14.00\">b</text>\n<polyline fill=\"none\" stroke=\"black\" points=\"739,-137.5 739,-173.5 \"/>\n<text text-anchor=\"middle\" x=\"779\" y=\"-151.8\" font-family=\"Times,serif\" font-size=\"14.00\">data 6.8814</text>\n<polyline fill=\"none\" stroke=\"black\" points=\"819,-137.5 819,-173.5 \"/>\n<text text-anchor=\"middle\" x=\"860\" y=\"-151.8\" font-family=\"Times,serif\" font-size=\"14.00\">grad 0.0000</text>\n</g>\n<!-- 134612241580336&#45;&gt;134612241592912+ -->\n<g id=\"edge8\" class=\"edge\">\n<title>134612241580336&#45;&gt;134612241592912+</title>\n<path fill=\"none\" stroke=\"black\" d=\"M901.02,-142.52C926,-138.98 951.59,-135.36 971.37,-132.55\"/>\n<polygon fill=\"black\" stroke=\"black\" points=\"972.03,-135.99 981.43,-131.12 971.04,-129.06 972.03,-135.99\"/>\n</g>\n<!-- 134612241586048 -->\n<g id=\"node14\" class=\"node\">\n<title>134612241586048</title>\n<polygon fill=\"none\" stroke=\"black\" points=\"0,-110.5 0,-146.5 200,-146.5 200,-110.5 0,-110.5\"/>\n<text text-anchor=\"middle\" x=\"16.5\" y=\"-124.8\" font-family=\"Times,serif\" font-size=\"14.00\">w1</text>\n<polyline fill=\"none\" stroke=\"black\" points=\"33,-110.5 33,-146.5 \"/>\n<text text-anchor=\"middle\" x=\"75.5\" y=\"-124.8\" font-family=\"Times,serif\" font-size=\"14.00\">data &#45;3.0000</text>\n<polyline fill=\"none\" stroke=\"black\" points=\"118,-110.5 118,-146.5 \"/>\n<text text-anchor=\"middle\" x=\"159\" y=\"-124.8\" font-family=\"Times,serif\" font-size=\"14.00\">grad 0.0000</text>\n</g>\n<!-- 134612241586048&#45;&gt;134612241590848* -->\n<g id=\"edge13\" class=\"edge\">\n<title>134612241586048&#45;&gt;134612241590848*</title>\n<path fill=\"none\" stroke=\"black\" d=\"M200.21,-128.5C209.2,-128.5 217.86,-128.5 225.7,-128.5\"/>\n<polygon fill=\"black\" stroke=\"black\" points=\"225.85,-132 235.85,-128.5 225.85,-125 225.85,-132\"/>\n</g>\n<!-- 134612241580432 -->\n<g id=\"node15\" class=\"node\">\n<title>134612241580432</title>\n<polygon fill=\"none\" stroke=\"black\" points=\"4,-0.5 4,-36.5 196,-36.5 196,-0.5 4,-0.5\"/>\n<text text-anchor=\"middle\" x=\"19\" y=\"-14.8\" font-family=\"Times,serif\" font-size=\"14.00\">x2</text>\n<polyline fill=\"none\" stroke=\"black\" points=\"34,-0.5 34,-36.5 \"/>\n<text text-anchor=\"middle\" x=\"74\" y=\"-14.8\" font-family=\"Times,serif\" font-size=\"14.00\">data 0.0000</text>\n<polyline fill=\"none\" stroke=\"black\" points=\"114,-0.5 114,-36.5 \"/>\n<text text-anchor=\"middle\" x=\"155\" y=\"-14.8\" font-family=\"Times,serif\" font-size=\"14.00\">grad 0.0000</text>\n</g>\n<!-- 134612241580432&#45;&gt;134612241595552* -->\n<g id=\"edge9\" class=\"edge\">\n<title>134612241580432&#45;&gt;134612241595552*</title>\n<path fill=\"none\" stroke=\"black\" d=\"M169.28,-36.5C179.65,-39.61 190.16,-42.98 200,-46.5 210.28,-50.17 221.28,-54.74 231.11,-59.07\"/>\n<polygon fill=\"black\" stroke=\"black\" points=\"229.93,-62.37 240.48,-63.27 232.79,-55.99 229.93,-62.37\"/>\n</g>\n</g>\n</svg>\n",
            "text/plain": [
              "<graphviz.graphs.Digraph at 0x7a6ddad7b220>"
            ]
          },
          "metadata": {},
          "execution_count": 231
        }
      ]
    },
    {
      "cell_type": "markdown",
      "source": [
        "#### Backward on `o`"
      ],
      "metadata": {
        "id": "Ekrj0XEsQP0Q"
      }
    },
    {
      "cell_type": "code",
      "source": [
        "o.grad = 1.0 # setting this to 1 because Value's grad variable is 0\n",
        "o._backward();  n.grad"
      ],
      "metadata": {
        "colab": {
          "base_uri": "https://localhost:8080/"
        },
        "id": "qsdtoQvCQPYC",
        "outputId": "09caafdc-4bb6-44a6-d0db-5fcc723902e5"
      },
      "execution_count": 232,
      "outputs": [
        {
          "output_type": "execute_result",
          "data": {
            "text/plain": [
              "0.4999999999999999"
            ]
          },
          "metadata": {},
          "execution_count": 232
        }
      ]
    },
    {
      "cell_type": "markdown",
      "source": [
        "#### Backward on `n`"
      ],
      "metadata": {
        "id": "ICLjh2u_QbWx"
      }
    },
    {
      "cell_type": "code",
      "source": [
        "n._backward();\n",
        "b.grad, x1w1x2w2.grad"
      ],
      "metadata": {
        "colab": {
          "base_uri": "https://localhost:8080/"
        },
        "id": "AUyIIdxZQgK5",
        "outputId": "c55e3094-efe7-489c-9a94-84e5312536a8"
      },
      "execution_count": 233,
      "outputs": [
        {
          "output_type": "execute_result",
          "data": {
            "text/plain": [
              "(0.4999999999999999, 0.4999999999999999)"
            ]
          },
          "metadata": {},
          "execution_count": 233
        }
      ]
    },
    {
      "cell_type": "markdown",
      "source": [
        "#### Backward on `x1w1x2w2`"
      ],
      "metadata": {
        "id": "_gvX95NPQnSu"
      }
    },
    {
      "cell_type": "code",
      "source": [
        "x1w1x2w2._backward();\n",
        "x1w1.grad, x2w2.grad"
      ],
      "metadata": {
        "colab": {
          "base_uri": "https://localhost:8080/"
        },
        "id": "vDuIbgRjQm58",
        "outputId": "5cfb9df5-ab7c-43a1-e0ac-0dc41eecdf59"
      },
      "execution_count": 234,
      "outputs": [
        {
          "output_type": "execute_result",
          "data": {
            "text/plain": [
              "(0.4999999999999999, 0.4999999999999999)"
            ]
          },
          "metadata": {},
          "execution_count": 234
        }
      ]
    },
    {
      "cell_type": "markdown",
      "source": [
        "#### Backward on `x2w2`"
      ],
      "metadata": {
        "id": "wjeQJK-GQvSj"
      }
    },
    {
      "cell_type": "code",
      "source": [
        "x2w2._backward()\n",
        "x2.grad, w2.grad"
      ],
      "metadata": {
        "colab": {
          "base_uri": "https://localhost:8080/"
        },
        "id": "zceaMFWmQywM",
        "outputId": "08fa6b62-91ec-4904-9bfb-fb784e155060"
      },
      "execution_count": 235,
      "outputs": [
        {
          "output_type": "execute_result",
          "data": {
            "text/plain": [
              "(0.4999999999999999, 0.0)"
            ]
          },
          "metadata": {},
          "execution_count": 235
        }
      ]
    },
    {
      "cell_type": "markdown",
      "source": [
        "#### Backward on `x1w1`"
      ],
      "metadata": {
        "id": "-QNgkdxqQ27s"
      }
    },
    {
      "cell_type": "code",
      "source": [
        "x1w1._backward()\n",
        "x1.grad, w1.grad"
      ],
      "metadata": {
        "colab": {
          "base_uri": "https://localhost:8080/"
        },
        "id": "sBmkNQ-6Q3UL",
        "outputId": "0db86e49-d1d1-4a63-a78b-b2e429c23f70"
      },
      "execution_count": 236,
      "outputs": [
        {
          "output_type": "execute_result",
          "data": {
            "text/plain": [
              "(-1.4999999999999996, 0.9999999999999998)"
            ]
          },
          "metadata": {},
          "execution_count": 236
        }
      ]
    },
    {
      "cell_type": "markdown",
      "source": [
        "> Draw the computation graph"
      ],
      "metadata": {
        "id": "q9BH47lpRA4p"
      }
    },
    {
      "cell_type": "code",
      "source": [
        "draw_dot(o, label)"
      ],
      "metadata": {
        "colab": {
          "base_uri": "https://localhost:8080/",
          "height": 321
        },
        "id": "YQ3FO10cRCIc",
        "outputId": "1d4229d5-661e-42e9-e33f-73cf2cd7198c"
      },
      "execution_count": 237,
      "outputs": [
        {
          "output_type": "execute_result",
          "data": {
            "image/svg+xml": "<?xml version=\"1.0\" encoding=\"UTF-8\" standalone=\"no\"?>\n<!DOCTYPE svg PUBLIC \"-//W3C//DTD SVG 1.1//EN\"\n \"http://www.w3.org/Graphics/SVG/1.1/DTD/svg11.dtd\">\n<!-- Generated by graphviz version 2.43.0 (0)\n -->\n<!-- Title: %3 Pages: 1 -->\n<svg width=\"1575pt\" height=\"210pt\"\n viewBox=\"0.00 0.00 1575.00 210.00\" xmlns=\"http://www.w3.org/2000/svg\" xmlns:xlink=\"http://www.w3.org/1999/xlink\">\n<g id=\"graph0\" class=\"graph\" transform=\"scale(1 1) rotate(0) translate(4 206)\">\n<title>%3</title>\n<polygon fill=\"white\" stroke=\"transparent\" points=\"-4,4 -4,-206 1571,-206 1571,4 -4,4\"/>\n<!-- 134612241591808 -->\n<g id=\"node1\" class=\"node\">\n<title>134612241591808</title>\n<polygon fill=\"none\" stroke=\"black\" points=\"672,-82.5 672,-118.5 945,-118.5 945,-82.5 672,-82.5\"/>\n<text text-anchor=\"middle\" x=\"725\" y=\"-96.8\" font-family=\"Times,serif\" font-size=\"14.00\">x1*w1 + x2*w2</text>\n<polyline fill=\"none\" stroke=\"black\" points=\"778,-82.5 778,-118.5 \"/>\n<text text-anchor=\"middle\" x=\"820.5\" y=\"-96.8\" font-family=\"Times,serif\" font-size=\"14.00\">data &#45;6.0000</text>\n<polyline fill=\"none\" stroke=\"black\" points=\"863,-82.5 863,-118.5 \"/>\n<text text-anchor=\"middle\" x=\"904\" y=\"-96.8\" font-family=\"Times,serif\" font-size=\"14.00\">grad 0.5000</text>\n</g>\n<!-- 134612241592912+ -->\n<g id=\"node7\" class=\"node\">\n<title>134612241592912+</title>\n<ellipse fill=\"none\" stroke=\"black\" cx=\"1008\" cy=\"-127.5\" rx=\"27\" ry=\"18\"/>\n<text text-anchor=\"middle\" x=\"1008\" y=\"-123.8\" font-family=\"Times,serif\" font-size=\"14.00\">+</text>\n</g>\n<!-- 134612241591808&#45;&gt;134612241592912+ -->\n<g id=\"edge14\" class=\"edge\">\n<title>134612241591808&#45;&gt;134612241592912+</title>\n<path fill=\"none\" stroke=\"black\" d=\"M941.24,-118.51C952.12,-120 962.4,-121.4 971.45,-122.64\"/>\n<polygon fill=\"black\" stroke=\"black\" points=\"971.11,-126.13 981.49,-124.01 972.05,-119.19 971.11,-126.13\"/>\n</g>\n<!-- 134612241591808+ -->\n<g id=\"node2\" class=\"node\">\n<title>134612241591808+</title>\n<ellipse fill=\"none\" stroke=\"black\" cx=\"609\" cy=\"-100.5\" rx=\"27\" ry=\"18\"/>\n<text text-anchor=\"middle\" x=\"609\" y=\"-96.8\" font-family=\"Times,serif\" font-size=\"14.00\">+</text>\n</g>\n<!-- 134612241591808+&#45;&gt;134612241591808 -->\n<g id=\"edge1\" class=\"edge\">\n<title>134612241591808+&#45;&gt;134612241591808</title>\n<path fill=\"none\" stroke=\"black\" d=\"M636.23,-100.5C643.7,-100.5 652.41,-100.5 661.87,-100.5\"/>\n<polygon fill=\"black\" stroke=\"black\" points=\"661.98,-104 671.98,-100.5 661.98,-97 661.98,-104\"/>\n</g>\n<!-- 134612241595408 -->\n<g id=\"node3\" class=\"node\">\n<title>134612241595408</title>\n<polygon fill=\"none\" stroke=\"black\" points=\"2.5,-55.5 2.5,-91.5 197.5,-91.5 197.5,-55.5 2.5,-55.5\"/>\n<text text-anchor=\"middle\" x=\"19\" y=\"-69.8\" font-family=\"Times,serif\" font-size=\"14.00\">w2</text>\n<polyline fill=\"none\" stroke=\"black\" points=\"35.5,-55.5 35.5,-91.5 \"/>\n<text text-anchor=\"middle\" x=\"75.5\" y=\"-69.8\" font-family=\"Times,serif\" font-size=\"14.00\">data 1.0000</text>\n<polyline fill=\"none\" stroke=\"black\" points=\"115.5,-55.5 115.5,-91.5 \"/>\n<text text-anchor=\"middle\" x=\"156.5\" y=\"-69.8\" font-family=\"Times,serif\" font-size=\"14.00\">grad 0.0000</text>\n</g>\n<!-- 134612241595552* -->\n<g id=\"node9\" class=\"node\">\n<title>134612241595552*</title>\n<ellipse fill=\"none\" stroke=\"black\" cx=\"263\" cy=\"-73.5\" rx=\"27\" ry=\"18\"/>\n<text text-anchor=\"middle\" x=\"263\" y=\"-69.8\" font-family=\"Times,serif\" font-size=\"14.00\">*</text>\n</g>\n<!-- 134612241595408&#45;&gt;134612241595552* -->\n<g id=\"edge12\" class=\"edge\">\n<title>134612241595408&#45;&gt;134612241595552*</title>\n<path fill=\"none\" stroke=\"black\" d=\"M197.91,-73.5C207.65,-73.5 217.05,-73.5 225.52,-73.5\"/>\n<polygon fill=\"black\" stroke=\"black\" points=\"225.7,-77 235.7,-73.5 225.7,-70 225.7,-77\"/>\n</g>\n<!-- 134612241590848 -->\n<g id=\"node4\" class=\"node\">\n<title>134612241590848</title>\n<polygon fill=\"none\" stroke=\"black\" points=\"326,-110.5 326,-146.5 546,-146.5 546,-110.5 326,-110.5\"/>\n<text text-anchor=\"middle\" x=\"352.5\" y=\"-124.8\" font-family=\"Times,serif\" font-size=\"14.00\">x1*w1</text>\n<polyline fill=\"none\" stroke=\"black\" points=\"379,-110.5 379,-146.5 \"/>\n<text text-anchor=\"middle\" x=\"421.5\" y=\"-124.8\" font-family=\"Times,serif\" font-size=\"14.00\">data &#45;6.0000</text>\n<polyline fill=\"none\" stroke=\"black\" points=\"464,-110.5 464,-146.5 \"/>\n<text text-anchor=\"middle\" x=\"505\" y=\"-124.8\" font-family=\"Times,serif\" font-size=\"14.00\">grad 0.5000</text>\n</g>\n<!-- 134612241590848&#45;&gt;134612241591808+ -->\n<g id=\"edge10\" class=\"edge\">\n<title>134612241590848&#45;&gt;134612241591808+</title>\n<path fill=\"none\" stroke=\"black\" d=\"M546.27,-110.61C555.64,-109.07 564.6,-107.61 572.65,-106.29\"/>\n<polygon fill=\"black\" stroke=\"black\" points=\"573.35,-109.72 582.65,-104.65 572.22,-102.81 573.35,-109.72\"/>\n</g>\n<!-- 134612241590848* -->\n<g id=\"node5\" class=\"node\">\n<title>134612241590848*</title>\n<ellipse fill=\"none\" stroke=\"black\" cx=\"263\" cy=\"-128.5\" rx=\"27\" ry=\"18\"/>\n<text text-anchor=\"middle\" x=\"263\" y=\"-124.8\" font-family=\"Times,serif\" font-size=\"14.00\">*</text>\n</g>\n<!-- 134612241590848*&#45;&gt;134612241590848 -->\n<g id=\"edge2\" class=\"edge\">\n<title>134612241590848*&#45;&gt;134612241590848</title>\n<path fill=\"none\" stroke=\"black\" d=\"M290.34,-128.5C297.77,-128.5 306.37,-128.5 315.6,-128.5\"/>\n<polygon fill=\"black\" stroke=\"black\" points=\"315.84,-132 325.84,-128.5 315.84,-125 315.84,-132\"/>\n</g>\n<!-- 134612241592912 -->\n<g id=\"node6\" class=\"node\">\n<title>134612241592912</title>\n<polygon fill=\"none\" stroke=\"black\" points=\"1071,-109.5 1071,-145.5 1256,-145.5 1256,-109.5 1071,-109.5\"/>\n<text text-anchor=\"middle\" x=\"1082.5\" y=\"-123.8\" font-family=\"Times,serif\" font-size=\"14.00\">n</text>\n<polyline fill=\"none\" stroke=\"black\" points=\"1094,-109.5 1094,-145.5 \"/>\n<text text-anchor=\"middle\" x=\"1134\" y=\"-123.8\" font-family=\"Times,serif\" font-size=\"14.00\">data 0.8814</text>\n<polyline fill=\"none\" stroke=\"black\" points=\"1174,-109.5 1174,-145.5 \"/>\n<text text-anchor=\"middle\" x=\"1215\" y=\"-123.8\" font-family=\"Times,serif\" font-size=\"14.00\">grad 0.5000</text>\n</g>\n<!-- 134612241585904tanh -->\n<g id=\"node12\" class=\"node\">\n<title>134612241585904tanh</title>\n<ellipse fill=\"none\" stroke=\"black\" cx=\"1319\" cy=\"-127.5\" rx=\"27\" ry=\"18\"/>\n<text text-anchor=\"middle\" x=\"1319\" y=\"-123.8\" font-family=\"Times,serif\" font-size=\"14.00\">tanh</text>\n</g>\n<!-- 134612241592912&#45;&gt;134612241585904tanh -->\n<g id=\"edge6\" class=\"edge\">\n<title>134612241592912&#45;&gt;134612241585904tanh</title>\n<path fill=\"none\" stroke=\"black\" d=\"M1256.01,-127.5C1265.01,-127.5 1273.74,-127.5 1281.66,-127.5\"/>\n<polygon fill=\"black\" stroke=\"black\" points=\"1281.91,-131 1291.91,-127.5 1281.91,-124 1281.91,-131\"/>\n</g>\n<!-- 134612241592912+&#45;&gt;134612241592912 -->\n<g id=\"edge3\" class=\"edge\">\n<title>134612241592912+&#45;&gt;134612241592912</title>\n<path fill=\"none\" stroke=\"black\" d=\"M1035.04,-127.5C1042.58,-127.5 1051.3,-127.5 1060.57,-127.5\"/>\n<polygon fill=\"black\" stroke=\"black\" points=\"1060.81,-131 1070.81,-127.5 1060.81,-124 1060.81,-131\"/>\n</g>\n<!-- 134612241595552 -->\n<g id=\"node8\" class=\"node\">\n<title>134612241595552</title>\n<polygon fill=\"none\" stroke=\"black\" points=\"328.5,-55.5 328.5,-91.5 543.5,-91.5 543.5,-55.5 328.5,-55.5\"/>\n<text text-anchor=\"middle\" x=\"355\" y=\"-69.8\" font-family=\"Times,serif\" font-size=\"14.00\">x2*w2</text>\n<polyline fill=\"none\" stroke=\"black\" points=\"381.5,-55.5 381.5,-91.5 \"/>\n<text text-anchor=\"middle\" x=\"421.5\" y=\"-69.8\" font-family=\"Times,serif\" font-size=\"14.00\">data 0.0000</text>\n<polyline fill=\"none\" stroke=\"black\" points=\"461.5,-55.5 461.5,-91.5 \"/>\n<text text-anchor=\"middle\" x=\"502.5\" y=\"-69.8\" font-family=\"Times,serif\" font-size=\"14.00\">grad 0.5000</text>\n</g>\n<!-- 134612241595552&#45;&gt;134612241591808+ -->\n<g id=\"edge11\" class=\"edge\">\n<title>134612241595552&#45;&gt;134612241591808+</title>\n<path fill=\"none\" stroke=\"black\" d=\"M543.84,-90.37C554.01,-91.98 563.76,-93.51 572.44,-94.89\"/>\n<polygon fill=\"black\" stroke=\"black\" points=\"572.05,-98.37 582.47,-96.47 573.14,-91.45 572.05,-98.37\"/>\n</g>\n<!-- 134612241595552*&#45;&gt;134612241595552 -->\n<g id=\"edge4\" class=\"edge\">\n<title>134612241595552*&#45;&gt;134612241595552</title>\n<path fill=\"none\" stroke=\"black\" d=\"M290.34,-73.5C298.51,-73.5 308.08,-73.5 318.36,-73.5\"/>\n<polygon fill=\"black\" stroke=\"black\" points=\"318.39,-77 328.39,-73.5 318.39,-70 318.39,-77\"/>\n</g>\n<!-- 134612241583840 -->\n<g id=\"node10\" class=\"node\">\n<title>134612241583840</title>\n<polygon fill=\"none\" stroke=\"black\" points=\"2,-165.5 2,-201.5 198,-201.5 198,-165.5 2,-165.5\"/>\n<text text-anchor=\"middle\" x=\"17\" y=\"-179.8\" font-family=\"Times,serif\" font-size=\"14.00\">x1</text>\n<polyline fill=\"none\" stroke=\"black\" points=\"32,-165.5 32,-201.5 \"/>\n<text text-anchor=\"middle\" x=\"72\" y=\"-179.8\" font-family=\"Times,serif\" font-size=\"14.00\">data 2.0000</text>\n<polyline fill=\"none\" stroke=\"black\" points=\"112,-165.5 112,-201.5 \"/>\n<text text-anchor=\"middle\" x=\"155\" y=\"-179.8\" font-family=\"Times,serif\" font-size=\"14.00\">grad &#45;1.5000</text>\n</g>\n<!-- 134612241583840&#45;&gt;134612241590848* -->\n<g id=\"edge7\" class=\"edge\">\n<title>134612241583840&#45;&gt;134612241590848*</title>\n<path fill=\"none\" stroke=\"black\" d=\"M172.53,-165.44C181.84,-162.67 191.2,-159.67 200,-156.5 210.53,-152.71 221.75,-147.9 231.72,-143.33\"/>\n<polygon fill=\"black\" stroke=\"black\" points=\"233.25,-146.48 240.82,-139.07 230.28,-140.14 233.25,-146.48\"/>\n</g>\n<!-- 134612241585904 -->\n<g id=\"node11\" class=\"node\">\n<title>134612241585904</title>\n<polygon fill=\"none\" stroke=\"black\" points=\"1382,-109.5 1382,-145.5 1567,-145.5 1567,-109.5 1382,-109.5\"/>\n<text text-anchor=\"middle\" x=\"1393.5\" y=\"-123.8\" font-family=\"Times,serif\" font-size=\"14.00\">o</text>\n<polyline fill=\"none\" stroke=\"black\" points=\"1405,-109.5 1405,-145.5 \"/>\n<text text-anchor=\"middle\" x=\"1445\" y=\"-123.8\" font-family=\"Times,serif\" font-size=\"14.00\">data 0.7071</text>\n<polyline fill=\"none\" stroke=\"black\" points=\"1485,-109.5 1485,-145.5 \"/>\n<text text-anchor=\"middle\" x=\"1526\" y=\"-123.8\" font-family=\"Times,serif\" font-size=\"14.00\">grad 1.0000</text>\n</g>\n<!-- 134612241585904tanh&#45;&gt;134612241585904 -->\n<g id=\"edge5\" class=\"edge\">\n<title>134612241585904tanh&#45;&gt;134612241585904</title>\n<path fill=\"none\" stroke=\"black\" d=\"M1346.04,-127.5C1353.58,-127.5 1362.3,-127.5 1371.57,-127.5\"/>\n<polygon fill=\"black\" stroke=\"black\" points=\"1371.81,-131 1381.81,-127.5 1371.81,-124 1371.81,-131\"/>\n</g>\n<!-- 134612241580336 -->\n<g id=\"node13\" class=\"node\">\n<title>134612241580336</title>\n<polygon fill=\"none\" stroke=\"black\" points=\"716,-137.5 716,-173.5 901,-173.5 901,-137.5 716,-137.5\"/>\n<text text-anchor=\"middle\" x=\"727.5\" y=\"-151.8\" font-family=\"Times,serif\" font-size=\"14.00\">b</text>\n<polyline fill=\"none\" stroke=\"black\" points=\"739,-137.5 739,-173.5 \"/>\n<text text-anchor=\"middle\" x=\"779\" y=\"-151.8\" font-family=\"Times,serif\" font-size=\"14.00\">data 6.8814</text>\n<polyline fill=\"none\" stroke=\"black\" points=\"819,-137.5 819,-173.5 \"/>\n<text text-anchor=\"middle\" x=\"860\" y=\"-151.8\" font-family=\"Times,serif\" font-size=\"14.00\">grad 0.5000</text>\n</g>\n<!-- 134612241580336&#45;&gt;134612241592912+ -->\n<g id=\"edge8\" class=\"edge\">\n<title>134612241580336&#45;&gt;134612241592912+</title>\n<path fill=\"none\" stroke=\"black\" d=\"M901.02,-142.52C926,-138.98 951.59,-135.36 971.37,-132.55\"/>\n<polygon fill=\"black\" stroke=\"black\" points=\"972.03,-135.99 981.43,-131.12 971.04,-129.06 972.03,-135.99\"/>\n</g>\n<!-- 134612241586048 -->\n<g id=\"node14\" class=\"node\">\n<title>134612241586048</title>\n<polygon fill=\"none\" stroke=\"black\" points=\"0,-110.5 0,-146.5 200,-146.5 200,-110.5 0,-110.5\"/>\n<text text-anchor=\"middle\" x=\"16.5\" y=\"-124.8\" font-family=\"Times,serif\" font-size=\"14.00\">w1</text>\n<polyline fill=\"none\" stroke=\"black\" points=\"33,-110.5 33,-146.5 \"/>\n<text text-anchor=\"middle\" x=\"75.5\" y=\"-124.8\" font-family=\"Times,serif\" font-size=\"14.00\">data &#45;3.0000</text>\n<polyline fill=\"none\" stroke=\"black\" points=\"118,-110.5 118,-146.5 \"/>\n<text text-anchor=\"middle\" x=\"159\" y=\"-124.8\" font-family=\"Times,serif\" font-size=\"14.00\">grad 1.0000</text>\n</g>\n<!-- 134612241586048&#45;&gt;134612241590848* -->\n<g id=\"edge13\" class=\"edge\">\n<title>134612241586048&#45;&gt;134612241590848*</title>\n<path fill=\"none\" stroke=\"black\" d=\"M200.21,-128.5C209.2,-128.5 217.86,-128.5 225.7,-128.5\"/>\n<polygon fill=\"black\" stroke=\"black\" points=\"225.85,-132 235.85,-128.5 225.85,-125 225.85,-132\"/>\n</g>\n<!-- 134612241580432 -->\n<g id=\"node15\" class=\"node\">\n<title>134612241580432</title>\n<polygon fill=\"none\" stroke=\"black\" points=\"4,-0.5 4,-36.5 196,-36.5 196,-0.5 4,-0.5\"/>\n<text text-anchor=\"middle\" x=\"19\" y=\"-14.8\" font-family=\"Times,serif\" font-size=\"14.00\">x2</text>\n<polyline fill=\"none\" stroke=\"black\" points=\"34,-0.5 34,-36.5 \"/>\n<text text-anchor=\"middle\" x=\"74\" y=\"-14.8\" font-family=\"Times,serif\" font-size=\"14.00\">data 0.0000</text>\n<polyline fill=\"none\" stroke=\"black\" points=\"114,-0.5 114,-36.5 \"/>\n<text text-anchor=\"middle\" x=\"155\" y=\"-14.8\" font-family=\"Times,serif\" font-size=\"14.00\">grad 0.5000</text>\n</g>\n<!-- 134612241580432&#45;&gt;134612241595552* -->\n<g id=\"edge9\" class=\"edge\">\n<title>134612241580432&#45;&gt;134612241595552*</title>\n<path fill=\"none\" stroke=\"black\" d=\"M169.28,-36.5C179.65,-39.61 190.16,-42.98 200,-46.5 210.28,-50.17 221.28,-54.74 231.11,-59.07\"/>\n<polygon fill=\"black\" stroke=\"black\" points=\"229.93,-62.37 240.48,-63.27 232.79,-55.99 229.93,-62.37\"/>\n</g>\n</g>\n</svg>\n",
            "text/plain": [
              "<graphviz.graphs.Digraph at 0x7a6ddad795a0>"
            ]
          },
          "metadata": {},
          "execution_count": 237
        }
      ]
    },
    {
      "cell_type": "markdown",
      "source": [
        "### Backward propogation with one call"
      ],
      "metadata": {
        "id": "2cSlMghfRJaZ"
      }
    },
    {
      "cell_type": "code",
      "source": [
        "x1 = Value(2.0, label='x1')\n",
        "x2 = Value(0.0, label='x2')\n",
        "\n",
        "w1 = Value(-3.0, label='w1')\n",
        "w2 = Value(1.0, label='w2')\n",
        "\n",
        "b = Value(6.8813735870195432, label='b')\n",
        "\n",
        "x1w1 = x1*w1; x1w1.label='x1*w1'\n",
        "x2w2 = x2*w2; x2w2.label='x2*w2'\n",
        "x1w1x2w2 = x1w1 + x2w2; x1w1x2w2.label='x1*w1 + x2*w2'\n",
        "n = x1w1x2w2 + b; n.label='n'\n",
        "o = n.tanh(); o.label = 'o'"
      ],
      "metadata": {
        "id": "lePxb9GLRK01"
      },
      "execution_count": 238,
      "outputs": []
    },
    {
      "cell_type": "code",
      "source": [
        "draw_dot(o, label)"
      ],
      "metadata": {
        "colab": {
          "base_uri": "https://localhost:8080/",
          "height": 321
        },
        "id": "iURp-4j0RQIc",
        "outputId": "ee762441-5906-4143-d437-80ebc8057150"
      },
      "execution_count": 239,
      "outputs": [
        {
          "output_type": "execute_result",
          "data": {
            "image/svg+xml": "<?xml version=\"1.0\" encoding=\"UTF-8\" standalone=\"no\"?>\n<!DOCTYPE svg PUBLIC \"-//W3C//DTD SVG 1.1//EN\"\n \"http://www.w3.org/Graphics/SVG/1.1/DTD/svg11.dtd\">\n<!-- Generated by graphviz version 2.43.0 (0)\n -->\n<!-- Title: %3 Pages: 1 -->\n<svg width=\"1575pt\" height=\"210pt\"\n viewBox=\"0.00 0.00 1575.00 210.00\" xmlns=\"http://www.w3.org/2000/svg\" xmlns:xlink=\"http://www.w3.org/1999/xlink\">\n<g id=\"graph0\" class=\"graph\" transform=\"scale(1 1) rotate(0) translate(4 206)\">\n<title>%3</title>\n<polygon fill=\"white\" stroke=\"transparent\" points=\"-4,4 -4,-206 1571,-206 1571,4 -4,4\"/>\n<!-- 134612241591472 -->\n<g id=\"node1\" class=\"node\">\n<title>134612241591472</title>\n<polygon fill=\"none\" stroke=\"black\" points=\"716,-137.5 716,-173.5 901,-173.5 901,-137.5 716,-137.5\"/>\n<text text-anchor=\"middle\" x=\"727.5\" y=\"-151.8\" font-family=\"Times,serif\" font-size=\"14.00\">b</text>\n<polyline fill=\"none\" stroke=\"black\" points=\"739,-137.5 739,-173.5 \"/>\n<text text-anchor=\"middle\" x=\"779\" y=\"-151.8\" font-family=\"Times,serif\" font-size=\"14.00\">data 6.8814</text>\n<polyline fill=\"none\" stroke=\"black\" points=\"819,-137.5 819,-173.5 \"/>\n<text text-anchor=\"middle\" x=\"860\" y=\"-151.8\" font-family=\"Times,serif\" font-size=\"14.00\">grad 0.0000</text>\n</g>\n<!-- 134612240102112+ -->\n<g id=\"node5\" class=\"node\">\n<title>134612240102112+</title>\n<ellipse fill=\"none\" stroke=\"black\" cx=\"1008\" cy=\"-127.5\" rx=\"27\" ry=\"18\"/>\n<text text-anchor=\"middle\" x=\"1008\" y=\"-123.8\" font-family=\"Times,serif\" font-size=\"14.00\">+</text>\n</g>\n<!-- 134612241591472&#45;&gt;134612240102112+ -->\n<g id=\"edge8\" class=\"edge\">\n<title>134612241591472&#45;&gt;134612240102112+</title>\n<path fill=\"none\" stroke=\"black\" d=\"M901.02,-142.52C926,-138.98 951.59,-135.36 971.37,-132.55\"/>\n<polygon fill=\"black\" stroke=\"black\" points=\"972.03,-135.99 981.43,-131.12 971.04,-129.06 972.03,-135.99\"/>\n</g>\n<!-- 134612240101584 -->\n<g id=\"node2\" class=\"node\">\n<title>134612240101584</title>\n<polygon fill=\"none\" stroke=\"black\" points=\"326,-110.5 326,-146.5 546,-146.5 546,-110.5 326,-110.5\"/>\n<text text-anchor=\"middle\" x=\"352.5\" y=\"-124.8\" font-family=\"Times,serif\" font-size=\"14.00\">x1*w1</text>\n<polyline fill=\"none\" stroke=\"black\" points=\"379,-110.5 379,-146.5 \"/>\n<text text-anchor=\"middle\" x=\"421.5\" y=\"-124.8\" font-family=\"Times,serif\" font-size=\"14.00\">data &#45;6.0000</text>\n<polyline fill=\"none\" stroke=\"black\" points=\"464,-110.5 464,-146.5 \"/>\n<text text-anchor=\"middle\" x=\"505\" y=\"-124.8\" font-family=\"Times,serif\" font-size=\"14.00\">grad 0.0000</text>\n</g>\n<!-- 134612240093520+ -->\n<g id=\"node10\" class=\"node\">\n<title>134612240093520+</title>\n<ellipse fill=\"none\" stroke=\"black\" cx=\"609\" cy=\"-100.5\" rx=\"27\" ry=\"18\"/>\n<text text-anchor=\"middle\" x=\"609\" y=\"-96.8\" font-family=\"Times,serif\" font-size=\"14.00\">+</text>\n</g>\n<!-- 134612240101584&#45;&gt;134612240093520+ -->\n<g id=\"edge6\" class=\"edge\">\n<title>134612240101584&#45;&gt;134612240093520+</title>\n<path fill=\"none\" stroke=\"black\" d=\"M546.27,-110.61C555.64,-109.07 564.6,-107.61 572.65,-106.29\"/>\n<polygon fill=\"black\" stroke=\"black\" points=\"573.35,-109.72 582.65,-104.65 572.22,-102.81 573.35,-109.72\"/>\n</g>\n<!-- 134612240101584* -->\n<g id=\"node3\" class=\"node\">\n<title>134612240101584*</title>\n<ellipse fill=\"none\" stroke=\"black\" cx=\"263\" cy=\"-128.5\" rx=\"27\" ry=\"18\"/>\n<text text-anchor=\"middle\" x=\"263\" y=\"-124.8\" font-family=\"Times,serif\" font-size=\"14.00\">*</text>\n</g>\n<!-- 134612240101584*&#45;&gt;134612240101584 -->\n<g id=\"edge1\" class=\"edge\">\n<title>134612240101584*&#45;&gt;134612240101584</title>\n<path fill=\"none\" stroke=\"black\" d=\"M290.34,-128.5C297.77,-128.5 306.37,-128.5 315.6,-128.5\"/>\n<polygon fill=\"black\" stroke=\"black\" points=\"315.84,-132 325.84,-128.5 315.84,-125 315.84,-132\"/>\n</g>\n<!-- 134612240102112 -->\n<g id=\"node4\" class=\"node\">\n<title>134612240102112</title>\n<polygon fill=\"none\" stroke=\"black\" points=\"1071,-109.5 1071,-145.5 1256,-145.5 1256,-109.5 1071,-109.5\"/>\n<text text-anchor=\"middle\" x=\"1082.5\" y=\"-123.8\" font-family=\"Times,serif\" font-size=\"14.00\">n</text>\n<polyline fill=\"none\" stroke=\"black\" points=\"1094,-109.5 1094,-145.5 \"/>\n<text text-anchor=\"middle\" x=\"1134\" y=\"-123.8\" font-family=\"Times,serif\" font-size=\"14.00\">data 0.8814</text>\n<polyline fill=\"none\" stroke=\"black\" points=\"1174,-109.5 1174,-145.5 \"/>\n<text text-anchor=\"middle\" x=\"1215\" y=\"-123.8\" font-family=\"Times,serif\" font-size=\"14.00\">grad 0.0000</text>\n</g>\n<!-- 134612240101872tanh -->\n<g id=\"node15\" class=\"node\">\n<title>134612240101872tanh</title>\n<ellipse fill=\"none\" stroke=\"black\" cx=\"1319\" cy=\"-127.5\" rx=\"27\" ry=\"18\"/>\n<text text-anchor=\"middle\" x=\"1319\" y=\"-123.8\" font-family=\"Times,serif\" font-size=\"14.00\">tanh</text>\n</g>\n<!-- 134612240102112&#45;&gt;134612240101872tanh -->\n<g id=\"edge14\" class=\"edge\">\n<title>134612240102112&#45;&gt;134612240101872tanh</title>\n<path fill=\"none\" stroke=\"black\" d=\"M1256.01,-127.5C1265.01,-127.5 1273.74,-127.5 1281.66,-127.5\"/>\n<polygon fill=\"black\" stroke=\"black\" points=\"1281.91,-131 1291.91,-127.5 1281.91,-124 1281.91,-131\"/>\n</g>\n<!-- 134612240102112+&#45;&gt;134612240102112 -->\n<g id=\"edge2\" class=\"edge\">\n<title>134612240102112+&#45;&gt;134612240102112</title>\n<path fill=\"none\" stroke=\"black\" d=\"M1035.04,-127.5C1042.58,-127.5 1051.3,-127.5 1060.57,-127.5\"/>\n<polygon fill=\"black\" stroke=\"black\" points=\"1060.81,-131 1070.81,-127.5 1060.81,-124 1060.81,-131\"/>\n</g>\n<!-- 134612241584848 -->\n<g id=\"node6\" class=\"node\">\n<title>134612241584848</title>\n<polygon fill=\"none\" stroke=\"black\" points=\"0,-165.5 0,-201.5 200,-201.5 200,-165.5 0,-165.5\"/>\n<text text-anchor=\"middle\" x=\"16.5\" y=\"-179.8\" font-family=\"Times,serif\" font-size=\"14.00\">w1</text>\n<polyline fill=\"none\" stroke=\"black\" points=\"33,-165.5 33,-201.5 \"/>\n<text text-anchor=\"middle\" x=\"75.5\" y=\"-179.8\" font-family=\"Times,serif\" font-size=\"14.00\">data &#45;3.0000</text>\n<polyline fill=\"none\" stroke=\"black\" points=\"118,-165.5 118,-201.5 \"/>\n<text text-anchor=\"middle\" x=\"159\" y=\"-179.8\" font-family=\"Times,serif\" font-size=\"14.00\">grad 0.0000</text>\n</g>\n<!-- 134612241584848&#45;&gt;134612240101584* -->\n<g id=\"edge12\" class=\"edge\">\n<title>134612241584848&#45;&gt;134612240101584*</title>\n<path fill=\"none\" stroke=\"black\" d=\"M172.53,-165.44C181.84,-162.67 191.2,-159.67 200,-156.5 210.53,-152.71 221.75,-147.9 231.72,-143.33\"/>\n<polygon fill=\"black\" stroke=\"black\" points=\"233.25,-146.48 240.82,-139.07 230.28,-140.14 233.25,-146.48\"/>\n</g>\n<!-- 134612241595696 -->\n<g id=\"node7\" class=\"node\">\n<title>134612241595696</title>\n<polygon fill=\"none\" stroke=\"black\" points=\"2.5,-55.5 2.5,-91.5 197.5,-91.5 197.5,-55.5 2.5,-55.5\"/>\n<text text-anchor=\"middle\" x=\"19\" y=\"-69.8\" font-family=\"Times,serif\" font-size=\"14.00\">w2</text>\n<polyline fill=\"none\" stroke=\"black\" points=\"35.5,-55.5 35.5,-91.5 \"/>\n<text text-anchor=\"middle\" x=\"75.5\" y=\"-69.8\" font-family=\"Times,serif\" font-size=\"14.00\">data 1.0000</text>\n<polyline fill=\"none\" stroke=\"black\" points=\"115.5,-55.5 115.5,-91.5 \"/>\n<text text-anchor=\"middle\" x=\"156.5\" y=\"-69.8\" font-family=\"Times,serif\" font-size=\"14.00\">grad 0.0000</text>\n</g>\n<!-- 134612240093568* -->\n<g id=\"node13\" class=\"node\">\n<title>134612240093568*</title>\n<ellipse fill=\"none\" stroke=\"black\" cx=\"263\" cy=\"-73.5\" rx=\"27\" ry=\"18\"/>\n<text text-anchor=\"middle\" x=\"263\" y=\"-69.8\" font-family=\"Times,serif\" font-size=\"14.00\">*</text>\n</g>\n<!-- 134612241595696&#45;&gt;134612240093568* -->\n<g id=\"edge10\" class=\"edge\">\n<title>134612241595696&#45;&gt;134612240093568*</title>\n<path fill=\"none\" stroke=\"black\" d=\"M197.91,-73.5C207.65,-73.5 217.05,-73.5 225.52,-73.5\"/>\n<polygon fill=\"black\" stroke=\"black\" points=\"225.7,-77 235.7,-73.5 225.7,-70 225.7,-77\"/>\n</g>\n<!-- 134612241583936 -->\n<g id=\"node8\" class=\"node\">\n<title>134612241583936</title>\n<polygon fill=\"none\" stroke=\"black\" points=\"4,-110.5 4,-146.5 196,-146.5 196,-110.5 4,-110.5\"/>\n<text text-anchor=\"middle\" x=\"19\" y=\"-124.8\" font-family=\"Times,serif\" font-size=\"14.00\">x1</text>\n<polyline fill=\"none\" stroke=\"black\" points=\"34,-110.5 34,-146.5 \"/>\n<text text-anchor=\"middle\" x=\"74\" y=\"-124.8\" font-family=\"Times,serif\" font-size=\"14.00\">data 2.0000</text>\n<polyline fill=\"none\" stroke=\"black\" points=\"114,-110.5 114,-146.5 \"/>\n<text text-anchor=\"middle\" x=\"155\" y=\"-124.8\" font-family=\"Times,serif\" font-size=\"14.00\">grad 0.0000</text>\n</g>\n<!-- 134612241583936&#45;&gt;134612240101584* -->\n<g id=\"edge13\" class=\"edge\">\n<title>134612241583936&#45;&gt;134612240101584*</title>\n<path fill=\"none\" stroke=\"black\" d=\"M196.05,-128.5C206.52,-128.5 216.65,-128.5 225.71,-128.5\"/>\n<polygon fill=\"black\" stroke=\"black\" points=\"225.79,-132 235.79,-128.5 225.79,-125 225.79,-132\"/>\n</g>\n<!-- 134612240093520 -->\n<g id=\"node9\" class=\"node\">\n<title>134612240093520</title>\n<polygon fill=\"none\" stroke=\"black\" points=\"672,-82.5 672,-118.5 945,-118.5 945,-82.5 672,-82.5\"/>\n<text text-anchor=\"middle\" x=\"725\" y=\"-96.8\" font-family=\"Times,serif\" font-size=\"14.00\">x1*w1 + x2*w2</text>\n<polyline fill=\"none\" stroke=\"black\" points=\"778,-82.5 778,-118.5 \"/>\n<text text-anchor=\"middle\" x=\"820.5\" y=\"-96.8\" font-family=\"Times,serif\" font-size=\"14.00\">data &#45;6.0000</text>\n<polyline fill=\"none\" stroke=\"black\" points=\"863,-82.5 863,-118.5 \"/>\n<text text-anchor=\"middle\" x=\"904\" y=\"-96.8\" font-family=\"Times,serif\" font-size=\"14.00\">grad 0.0000</text>\n</g>\n<!-- 134612240093520&#45;&gt;134612240102112+ -->\n<g id=\"edge11\" class=\"edge\">\n<title>134612240093520&#45;&gt;134612240102112+</title>\n<path fill=\"none\" stroke=\"black\" d=\"M941.24,-118.51C952.12,-120 962.4,-121.4 971.45,-122.64\"/>\n<polygon fill=\"black\" stroke=\"black\" points=\"971.11,-126.13 981.49,-124.01 972.05,-119.19 971.11,-126.13\"/>\n</g>\n<!-- 134612240093520+&#45;&gt;134612240093520 -->\n<g id=\"edge3\" class=\"edge\">\n<title>134612240093520+&#45;&gt;134612240093520</title>\n<path fill=\"none\" stroke=\"black\" d=\"M636.23,-100.5C643.7,-100.5 652.41,-100.5 661.87,-100.5\"/>\n<polygon fill=\"black\" stroke=\"black\" points=\"661.98,-104 671.98,-100.5 661.98,-97 661.98,-104\"/>\n</g>\n<!-- 134612241580384 -->\n<g id=\"node11\" class=\"node\">\n<title>134612241580384</title>\n<polygon fill=\"none\" stroke=\"black\" points=\"4,-0.5 4,-36.5 196,-36.5 196,-0.5 4,-0.5\"/>\n<text text-anchor=\"middle\" x=\"19\" y=\"-14.8\" font-family=\"Times,serif\" font-size=\"14.00\">x2</text>\n<polyline fill=\"none\" stroke=\"black\" points=\"34,-0.5 34,-36.5 \"/>\n<text text-anchor=\"middle\" x=\"74\" y=\"-14.8\" font-family=\"Times,serif\" font-size=\"14.00\">data 0.0000</text>\n<polyline fill=\"none\" stroke=\"black\" points=\"114,-0.5 114,-36.5 \"/>\n<text text-anchor=\"middle\" x=\"155\" y=\"-14.8\" font-family=\"Times,serif\" font-size=\"14.00\">grad 0.0000</text>\n</g>\n<!-- 134612241580384&#45;&gt;134612240093568* -->\n<g id=\"edge7\" class=\"edge\">\n<title>134612241580384&#45;&gt;134612240093568*</title>\n<path fill=\"none\" stroke=\"black\" d=\"M169.28,-36.5C179.65,-39.61 190.16,-42.98 200,-46.5 210.28,-50.17 221.28,-54.74 231.11,-59.07\"/>\n<polygon fill=\"black\" stroke=\"black\" points=\"229.93,-62.37 240.48,-63.27 232.79,-55.99 229.93,-62.37\"/>\n</g>\n<!-- 134612240093568 -->\n<g id=\"node12\" class=\"node\">\n<title>134612240093568</title>\n<polygon fill=\"none\" stroke=\"black\" points=\"328.5,-55.5 328.5,-91.5 543.5,-91.5 543.5,-55.5 328.5,-55.5\"/>\n<text text-anchor=\"middle\" x=\"355\" y=\"-69.8\" font-family=\"Times,serif\" font-size=\"14.00\">x2*w2</text>\n<polyline fill=\"none\" stroke=\"black\" points=\"381.5,-55.5 381.5,-91.5 \"/>\n<text text-anchor=\"middle\" x=\"421.5\" y=\"-69.8\" font-family=\"Times,serif\" font-size=\"14.00\">data 0.0000</text>\n<polyline fill=\"none\" stroke=\"black\" points=\"461.5,-55.5 461.5,-91.5 \"/>\n<text text-anchor=\"middle\" x=\"502.5\" y=\"-69.8\" font-family=\"Times,serif\" font-size=\"14.00\">grad 0.0000</text>\n</g>\n<!-- 134612240093568&#45;&gt;134612240093520+ -->\n<g id=\"edge9\" class=\"edge\">\n<title>134612240093568&#45;&gt;134612240093520+</title>\n<path fill=\"none\" stroke=\"black\" d=\"M543.84,-90.37C554.01,-91.98 563.76,-93.51 572.44,-94.89\"/>\n<polygon fill=\"black\" stroke=\"black\" points=\"572.05,-98.37 582.47,-96.47 573.14,-91.45 572.05,-98.37\"/>\n</g>\n<!-- 134612240093568*&#45;&gt;134612240093568 -->\n<g id=\"edge4\" class=\"edge\">\n<title>134612240093568*&#45;&gt;134612240093568</title>\n<path fill=\"none\" stroke=\"black\" d=\"M290.34,-73.5C298.51,-73.5 308.08,-73.5 318.36,-73.5\"/>\n<polygon fill=\"black\" stroke=\"black\" points=\"318.39,-77 328.39,-73.5 318.39,-70 318.39,-77\"/>\n</g>\n<!-- 134612240101872 -->\n<g id=\"node14\" class=\"node\">\n<title>134612240101872</title>\n<polygon fill=\"none\" stroke=\"black\" points=\"1382,-109.5 1382,-145.5 1567,-145.5 1567,-109.5 1382,-109.5\"/>\n<text text-anchor=\"middle\" x=\"1393.5\" y=\"-123.8\" font-family=\"Times,serif\" font-size=\"14.00\">o</text>\n<polyline fill=\"none\" stroke=\"black\" points=\"1405,-109.5 1405,-145.5 \"/>\n<text text-anchor=\"middle\" x=\"1445\" y=\"-123.8\" font-family=\"Times,serif\" font-size=\"14.00\">data 0.7071</text>\n<polyline fill=\"none\" stroke=\"black\" points=\"1485,-109.5 1485,-145.5 \"/>\n<text text-anchor=\"middle\" x=\"1526\" y=\"-123.8\" font-family=\"Times,serif\" font-size=\"14.00\">grad 0.0000</text>\n</g>\n<!-- 134612240101872tanh&#45;&gt;134612240101872 -->\n<g id=\"edge5\" class=\"edge\">\n<title>134612240101872tanh&#45;&gt;134612240101872</title>\n<path fill=\"none\" stroke=\"black\" d=\"M1346.04,-127.5C1353.58,-127.5 1362.3,-127.5 1371.57,-127.5\"/>\n<polygon fill=\"black\" stroke=\"black\" points=\"1371.81,-131 1381.81,-127.5 1371.81,-124 1371.81,-131\"/>\n</g>\n</g>\n</svg>\n",
            "text/plain": [
              "<graphviz.graphs.Digraph at 0x7a6ddad79060>"
            ]
          },
          "metadata": {},
          "execution_count": 239
        }
      ]
    },
    {
      "cell_type": "markdown",
      "source": [
        "#### Topological sort"
      ],
      "metadata": {
        "id": "iDaZuuTgReBW"
      }
    },
    {
      "cell_type": "code",
      "source": [
        "topo = []\n",
        "visited = set()\n",
        "def build_topo(v):\n",
        "    if v not in visited:\n",
        "        visited.add(v)\n",
        "        for child in v._prev:\n",
        "            build_topo(child)\n",
        "        topo.append(v)\n",
        "build_topo(o)\n",
        "topo"
      ],
      "metadata": {
        "colab": {
          "base_uri": "https://localhost:8080/"
        },
        "id": "O-DzDaE2Rfl_",
        "outputId": "b1573e1f-731e-40f8-a446-74c9ceb8870f"
      },
      "execution_count": 240,
      "outputs": [
        {
          "output_type": "execute_result",
          "data": {
            "text/plain": [
              "[Value(label=b data=6.881373587019543),\n",
              " Value(label=w2 data=1.0),\n",
              " Value(label=x2 data=0.0),\n",
              " Value(label=x2*w2 data=0.0),\n",
              " Value(label=x1 data=2.0),\n",
              " Value(label=w1 data=-3.0),\n",
              " Value(label=x1*w1 data=-6.0),\n",
              " Value(label=x1*w1 + x2*w2 data=-6.0),\n",
              " Value(label=n data=0.8813735870195432),\n",
              " Value(label=o data=0.7071067811865476)]"
            ]
          },
          "metadata": {},
          "execution_count": 240
        }
      ]
    },
    {
      "cell_type": "markdown",
      "source": [
        "#### Apply `backward` in reverse order of topological order of the computation graph"
      ],
      "metadata": {
        "id": "vJvwyMtiRlzX"
      }
    },
    {
      "cell_type": "code",
      "source": [
        "o.grad = 1.0\n",
        "for node in reversed(topo):\n",
        "    node._backward()"
      ],
      "metadata": {
        "id": "1CcJk3okRnK1"
      },
      "execution_count": 241,
      "outputs": []
    },
    {
      "cell_type": "code",
      "source": [
        "draw_dot(o, label)"
      ],
      "metadata": {
        "colab": {
          "base_uri": "https://localhost:8080/",
          "height": 321
        },
        "id": "vQkBmq3IRrL8",
        "outputId": "9e874b31-73f3-49dc-9a59-9e9c9e0a9062"
      },
      "execution_count": 242,
      "outputs": [
        {
          "output_type": "execute_result",
          "data": {
            "image/svg+xml": "<?xml version=\"1.0\" encoding=\"UTF-8\" standalone=\"no\"?>\n<!DOCTYPE svg PUBLIC \"-//W3C//DTD SVG 1.1//EN\"\n \"http://www.w3.org/Graphics/SVG/1.1/DTD/svg11.dtd\">\n<!-- Generated by graphviz version 2.43.0 (0)\n -->\n<!-- Title: %3 Pages: 1 -->\n<svg width=\"1575pt\" height=\"210pt\"\n viewBox=\"0.00 0.00 1575.00 210.00\" xmlns=\"http://www.w3.org/2000/svg\" xmlns:xlink=\"http://www.w3.org/1999/xlink\">\n<g id=\"graph0\" class=\"graph\" transform=\"scale(1 1) rotate(0) translate(4 206)\">\n<title>%3</title>\n<polygon fill=\"white\" stroke=\"transparent\" points=\"-4,4 -4,-206 1571,-206 1571,4 -4,4\"/>\n<!-- 134612241591472 -->\n<g id=\"node1\" class=\"node\">\n<title>134612241591472</title>\n<polygon fill=\"none\" stroke=\"black\" points=\"716,-137.5 716,-173.5 901,-173.5 901,-137.5 716,-137.5\"/>\n<text text-anchor=\"middle\" x=\"727.5\" y=\"-151.8\" font-family=\"Times,serif\" font-size=\"14.00\">b</text>\n<polyline fill=\"none\" stroke=\"black\" points=\"739,-137.5 739,-173.5 \"/>\n<text text-anchor=\"middle\" x=\"779\" y=\"-151.8\" font-family=\"Times,serif\" font-size=\"14.00\">data 6.8814</text>\n<polyline fill=\"none\" stroke=\"black\" points=\"819,-137.5 819,-173.5 \"/>\n<text text-anchor=\"middle\" x=\"860\" y=\"-151.8\" font-family=\"Times,serif\" font-size=\"14.00\">grad 0.5000</text>\n</g>\n<!-- 134612240102112+ -->\n<g id=\"node5\" class=\"node\">\n<title>134612240102112+</title>\n<ellipse fill=\"none\" stroke=\"black\" cx=\"1008\" cy=\"-127.5\" rx=\"27\" ry=\"18\"/>\n<text text-anchor=\"middle\" x=\"1008\" y=\"-123.8\" font-family=\"Times,serif\" font-size=\"14.00\">+</text>\n</g>\n<!-- 134612241591472&#45;&gt;134612240102112+ -->\n<g id=\"edge8\" class=\"edge\">\n<title>134612241591472&#45;&gt;134612240102112+</title>\n<path fill=\"none\" stroke=\"black\" d=\"M901.02,-142.52C926,-138.98 951.59,-135.36 971.37,-132.55\"/>\n<polygon fill=\"black\" stroke=\"black\" points=\"972.03,-135.99 981.43,-131.12 971.04,-129.06 972.03,-135.99\"/>\n</g>\n<!-- 134612240101584 -->\n<g id=\"node2\" class=\"node\">\n<title>134612240101584</title>\n<polygon fill=\"none\" stroke=\"black\" points=\"326,-110.5 326,-146.5 546,-146.5 546,-110.5 326,-110.5\"/>\n<text text-anchor=\"middle\" x=\"352.5\" y=\"-124.8\" font-family=\"Times,serif\" font-size=\"14.00\">x1*w1</text>\n<polyline fill=\"none\" stroke=\"black\" points=\"379,-110.5 379,-146.5 \"/>\n<text text-anchor=\"middle\" x=\"421.5\" y=\"-124.8\" font-family=\"Times,serif\" font-size=\"14.00\">data &#45;6.0000</text>\n<polyline fill=\"none\" stroke=\"black\" points=\"464,-110.5 464,-146.5 \"/>\n<text text-anchor=\"middle\" x=\"505\" y=\"-124.8\" font-family=\"Times,serif\" font-size=\"14.00\">grad 0.5000</text>\n</g>\n<!-- 134612240093520+ -->\n<g id=\"node10\" class=\"node\">\n<title>134612240093520+</title>\n<ellipse fill=\"none\" stroke=\"black\" cx=\"609\" cy=\"-100.5\" rx=\"27\" ry=\"18\"/>\n<text text-anchor=\"middle\" x=\"609\" y=\"-96.8\" font-family=\"Times,serif\" font-size=\"14.00\">+</text>\n</g>\n<!-- 134612240101584&#45;&gt;134612240093520+ -->\n<g id=\"edge6\" class=\"edge\">\n<title>134612240101584&#45;&gt;134612240093520+</title>\n<path fill=\"none\" stroke=\"black\" d=\"M546.27,-110.61C555.64,-109.07 564.6,-107.61 572.65,-106.29\"/>\n<polygon fill=\"black\" stroke=\"black\" points=\"573.35,-109.72 582.65,-104.65 572.22,-102.81 573.35,-109.72\"/>\n</g>\n<!-- 134612240101584* -->\n<g id=\"node3\" class=\"node\">\n<title>134612240101584*</title>\n<ellipse fill=\"none\" stroke=\"black\" cx=\"263\" cy=\"-128.5\" rx=\"27\" ry=\"18\"/>\n<text text-anchor=\"middle\" x=\"263\" y=\"-124.8\" font-family=\"Times,serif\" font-size=\"14.00\">*</text>\n</g>\n<!-- 134612240101584*&#45;&gt;134612240101584 -->\n<g id=\"edge1\" class=\"edge\">\n<title>134612240101584*&#45;&gt;134612240101584</title>\n<path fill=\"none\" stroke=\"black\" d=\"M290.34,-128.5C297.77,-128.5 306.37,-128.5 315.6,-128.5\"/>\n<polygon fill=\"black\" stroke=\"black\" points=\"315.84,-132 325.84,-128.5 315.84,-125 315.84,-132\"/>\n</g>\n<!-- 134612240102112 -->\n<g id=\"node4\" class=\"node\">\n<title>134612240102112</title>\n<polygon fill=\"none\" stroke=\"black\" points=\"1071,-109.5 1071,-145.5 1256,-145.5 1256,-109.5 1071,-109.5\"/>\n<text text-anchor=\"middle\" x=\"1082.5\" y=\"-123.8\" font-family=\"Times,serif\" font-size=\"14.00\">n</text>\n<polyline fill=\"none\" stroke=\"black\" points=\"1094,-109.5 1094,-145.5 \"/>\n<text text-anchor=\"middle\" x=\"1134\" y=\"-123.8\" font-family=\"Times,serif\" font-size=\"14.00\">data 0.8814</text>\n<polyline fill=\"none\" stroke=\"black\" points=\"1174,-109.5 1174,-145.5 \"/>\n<text text-anchor=\"middle\" x=\"1215\" y=\"-123.8\" font-family=\"Times,serif\" font-size=\"14.00\">grad 0.5000</text>\n</g>\n<!-- 134612240101872tanh -->\n<g id=\"node15\" class=\"node\">\n<title>134612240101872tanh</title>\n<ellipse fill=\"none\" stroke=\"black\" cx=\"1319\" cy=\"-127.5\" rx=\"27\" ry=\"18\"/>\n<text text-anchor=\"middle\" x=\"1319\" y=\"-123.8\" font-family=\"Times,serif\" font-size=\"14.00\">tanh</text>\n</g>\n<!-- 134612240102112&#45;&gt;134612240101872tanh -->\n<g id=\"edge14\" class=\"edge\">\n<title>134612240102112&#45;&gt;134612240101872tanh</title>\n<path fill=\"none\" stroke=\"black\" d=\"M1256.01,-127.5C1265.01,-127.5 1273.74,-127.5 1281.66,-127.5\"/>\n<polygon fill=\"black\" stroke=\"black\" points=\"1281.91,-131 1291.91,-127.5 1281.91,-124 1281.91,-131\"/>\n</g>\n<!-- 134612240102112+&#45;&gt;134612240102112 -->\n<g id=\"edge2\" class=\"edge\">\n<title>134612240102112+&#45;&gt;134612240102112</title>\n<path fill=\"none\" stroke=\"black\" d=\"M1035.04,-127.5C1042.58,-127.5 1051.3,-127.5 1060.57,-127.5\"/>\n<polygon fill=\"black\" stroke=\"black\" points=\"1060.81,-131 1070.81,-127.5 1060.81,-124 1060.81,-131\"/>\n</g>\n<!-- 134612241584848 -->\n<g id=\"node6\" class=\"node\">\n<title>134612241584848</title>\n<polygon fill=\"none\" stroke=\"black\" points=\"0,-165.5 0,-201.5 200,-201.5 200,-165.5 0,-165.5\"/>\n<text text-anchor=\"middle\" x=\"16.5\" y=\"-179.8\" font-family=\"Times,serif\" font-size=\"14.00\">w1</text>\n<polyline fill=\"none\" stroke=\"black\" points=\"33,-165.5 33,-201.5 \"/>\n<text text-anchor=\"middle\" x=\"75.5\" y=\"-179.8\" font-family=\"Times,serif\" font-size=\"14.00\">data &#45;3.0000</text>\n<polyline fill=\"none\" stroke=\"black\" points=\"118,-165.5 118,-201.5 \"/>\n<text text-anchor=\"middle\" x=\"159\" y=\"-179.8\" font-family=\"Times,serif\" font-size=\"14.00\">grad 1.0000</text>\n</g>\n<!-- 134612241584848&#45;&gt;134612240101584* -->\n<g id=\"edge12\" class=\"edge\">\n<title>134612241584848&#45;&gt;134612240101584*</title>\n<path fill=\"none\" stroke=\"black\" d=\"M172.53,-165.44C181.84,-162.67 191.2,-159.67 200,-156.5 210.53,-152.71 221.75,-147.9 231.72,-143.33\"/>\n<polygon fill=\"black\" stroke=\"black\" points=\"233.25,-146.48 240.82,-139.07 230.28,-140.14 233.25,-146.48\"/>\n</g>\n<!-- 134612241595696 -->\n<g id=\"node7\" class=\"node\">\n<title>134612241595696</title>\n<polygon fill=\"none\" stroke=\"black\" points=\"2.5,-55.5 2.5,-91.5 197.5,-91.5 197.5,-55.5 2.5,-55.5\"/>\n<text text-anchor=\"middle\" x=\"19\" y=\"-69.8\" font-family=\"Times,serif\" font-size=\"14.00\">w2</text>\n<polyline fill=\"none\" stroke=\"black\" points=\"35.5,-55.5 35.5,-91.5 \"/>\n<text text-anchor=\"middle\" x=\"75.5\" y=\"-69.8\" font-family=\"Times,serif\" font-size=\"14.00\">data 1.0000</text>\n<polyline fill=\"none\" stroke=\"black\" points=\"115.5,-55.5 115.5,-91.5 \"/>\n<text text-anchor=\"middle\" x=\"156.5\" y=\"-69.8\" font-family=\"Times,serif\" font-size=\"14.00\">grad 0.0000</text>\n</g>\n<!-- 134612240093568* -->\n<g id=\"node13\" class=\"node\">\n<title>134612240093568*</title>\n<ellipse fill=\"none\" stroke=\"black\" cx=\"263\" cy=\"-73.5\" rx=\"27\" ry=\"18\"/>\n<text text-anchor=\"middle\" x=\"263\" y=\"-69.8\" font-family=\"Times,serif\" font-size=\"14.00\">*</text>\n</g>\n<!-- 134612241595696&#45;&gt;134612240093568* -->\n<g id=\"edge10\" class=\"edge\">\n<title>134612241595696&#45;&gt;134612240093568*</title>\n<path fill=\"none\" stroke=\"black\" d=\"M197.91,-73.5C207.65,-73.5 217.05,-73.5 225.52,-73.5\"/>\n<polygon fill=\"black\" stroke=\"black\" points=\"225.7,-77 235.7,-73.5 225.7,-70 225.7,-77\"/>\n</g>\n<!-- 134612241583936 -->\n<g id=\"node8\" class=\"node\">\n<title>134612241583936</title>\n<polygon fill=\"none\" stroke=\"black\" points=\"2,-110.5 2,-146.5 198,-146.5 198,-110.5 2,-110.5\"/>\n<text text-anchor=\"middle\" x=\"17\" y=\"-124.8\" font-family=\"Times,serif\" font-size=\"14.00\">x1</text>\n<polyline fill=\"none\" stroke=\"black\" points=\"32,-110.5 32,-146.5 \"/>\n<text text-anchor=\"middle\" x=\"72\" y=\"-124.8\" font-family=\"Times,serif\" font-size=\"14.00\">data 2.0000</text>\n<polyline fill=\"none\" stroke=\"black\" points=\"112,-110.5 112,-146.5 \"/>\n<text text-anchor=\"middle\" x=\"155\" y=\"-124.8\" font-family=\"Times,serif\" font-size=\"14.00\">grad &#45;1.5000</text>\n</g>\n<!-- 134612241583936&#45;&gt;134612240101584* -->\n<g id=\"edge13\" class=\"edge\">\n<title>134612241583936&#45;&gt;134612240101584*</title>\n<path fill=\"none\" stroke=\"black\" d=\"M198.37,-128.5C208.05,-128.5 217.4,-128.5 225.8,-128.5\"/>\n<polygon fill=\"black\" stroke=\"black\" points=\"225.91,-132 235.91,-128.5 225.91,-125 225.91,-132\"/>\n</g>\n<!-- 134612240093520 -->\n<g id=\"node9\" class=\"node\">\n<title>134612240093520</title>\n<polygon fill=\"none\" stroke=\"black\" points=\"672,-82.5 672,-118.5 945,-118.5 945,-82.5 672,-82.5\"/>\n<text text-anchor=\"middle\" x=\"725\" y=\"-96.8\" font-family=\"Times,serif\" font-size=\"14.00\">x1*w1 + x2*w2</text>\n<polyline fill=\"none\" stroke=\"black\" points=\"778,-82.5 778,-118.5 \"/>\n<text text-anchor=\"middle\" x=\"820.5\" y=\"-96.8\" font-family=\"Times,serif\" font-size=\"14.00\">data &#45;6.0000</text>\n<polyline fill=\"none\" stroke=\"black\" points=\"863,-82.5 863,-118.5 \"/>\n<text text-anchor=\"middle\" x=\"904\" y=\"-96.8\" font-family=\"Times,serif\" font-size=\"14.00\">grad 0.5000</text>\n</g>\n<!-- 134612240093520&#45;&gt;134612240102112+ -->\n<g id=\"edge11\" class=\"edge\">\n<title>134612240093520&#45;&gt;134612240102112+</title>\n<path fill=\"none\" stroke=\"black\" d=\"M941.24,-118.51C952.12,-120 962.4,-121.4 971.45,-122.64\"/>\n<polygon fill=\"black\" stroke=\"black\" points=\"971.11,-126.13 981.49,-124.01 972.05,-119.19 971.11,-126.13\"/>\n</g>\n<!-- 134612240093520+&#45;&gt;134612240093520 -->\n<g id=\"edge3\" class=\"edge\">\n<title>134612240093520+&#45;&gt;134612240093520</title>\n<path fill=\"none\" stroke=\"black\" d=\"M636.23,-100.5C643.7,-100.5 652.41,-100.5 661.87,-100.5\"/>\n<polygon fill=\"black\" stroke=\"black\" points=\"661.98,-104 671.98,-100.5 661.98,-97 661.98,-104\"/>\n</g>\n<!-- 134612241580384 -->\n<g id=\"node11\" class=\"node\">\n<title>134612241580384</title>\n<polygon fill=\"none\" stroke=\"black\" points=\"4,-0.5 4,-36.5 196,-36.5 196,-0.5 4,-0.5\"/>\n<text text-anchor=\"middle\" x=\"19\" y=\"-14.8\" font-family=\"Times,serif\" font-size=\"14.00\">x2</text>\n<polyline fill=\"none\" stroke=\"black\" points=\"34,-0.5 34,-36.5 \"/>\n<text text-anchor=\"middle\" x=\"74\" y=\"-14.8\" font-family=\"Times,serif\" font-size=\"14.00\">data 0.0000</text>\n<polyline fill=\"none\" stroke=\"black\" points=\"114,-0.5 114,-36.5 \"/>\n<text text-anchor=\"middle\" x=\"155\" y=\"-14.8\" font-family=\"Times,serif\" font-size=\"14.00\">grad 0.5000</text>\n</g>\n<!-- 134612241580384&#45;&gt;134612240093568* -->\n<g id=\"edge7\" class=\"edge\">\n<title>134612241580384&#45;&gt;134612240093568*</title>\n<path fill=\"none\" stroke=\"black\" d=\"M169.28,-36.5C179.65,-39.61 190.16,-42.98 200,-46.5 210.28,-50.17 221.28,-54.74 231.11,-59.07\"/>\n<polygon fill=\"black\" stroke=\"black\" points=\"229.93,-62.37 240.48,-63.27 232.79,-55.99 229.93,-62.37\"/>\n</g>\n<!-- 134612240093568 -->\n<g id=\"node12\" class=\"node\">\n<title>134612240093568</title>\n<polygon fill=\"none\" stroke=\"black\" points=\"328.5,-55.5 328.5,-91.5 543.5,-91.5 543.5,-55.5 328.5,-55.5\"/>\n<text text-anchor=\"middle\" x=\"355\" y=\"-69.8\" font-family=\"Times,serif\" font-size=\"14.00\">x2*w2</text>\n<polyline fill=\"none\" stroke=\"black\" points=\"381.5,-55.5 381.5,-91.5 \"/>\n<text text-anchor=\"middle\" x=\"421.5\" y=\"-69.8\" font-family=\"Times,serif\" font-size=\"14.00\">data 0.0000</text>\n<polyline fill=\"none\" stroke=\"black\" points=\"461.5,-55.5 461.5,-91.5 \"/>\n<text text-anchor=\"middle\" x=\"502.5\" y=\"-69.8\" font-family=\"Times,serif\" font-size=\"14.00\">grad 0.5000</text>\n</g>\n<!-- 134612240093568&#45;&gt;134612240093520+ -->\n<g id=\"edge9\" class=\"edge\">\n<title>134612240093568&#45;&gt;134612240093520+</title>\n<path fill=\"none\" stroke=\"black\" d=\"M543.84,-90.37C554.01,-91.98 563.76,-93.51 572.44,-94.89\"/>\n<polygon fill=\"black\" stroke=\"black\" points=\"572.05,-98.37 582.47,-96.47 573.14,-91.45 572.05,-98.37\"/>\n</g>\n<!-- 134612240093568*&#45;&gt;134612240093568 -->\n<g id=\"edge4\" class=\"edge\">\n<title>134612240093568*&#45;&gt;134612240093568</title>\n<path fill=\"none\" stroke=\"black\" d=\"M290.34,-73.5C298.51,-73.5 308.08,-73.5 318.36,-73.5\"/>\n<polygon fill=\"black\" stroke=\"black\" points=\"318.39,-77 328.39,-73.5 318.39,-70 318.39,-77\"/>\n</g>\n<!-- 134612240101872 -->\n<g id=\"node14\" class=\"node\">\n<title>134612240101872</title>\n<polygon fill=\"none\" stroke=\"black\" points=\"1382,-109.5 1382,-145.5 1567,-145.5 1567,-109.5 1382,-109.5\"/>\n<text text-anchor=\"middle\" x=\"1393.5\" y=\"-123.8\" font-family=\"Times,serif\" font-size=\"14.00\">o</text>\n<polyline fill=\"none\" stroke=\"black\" points=\"1405,-109.5 1405,-145.5 \"/>\n<text text-anchor=\"middle\" x=\"1445\" y=\"-123.8\" font-family=\"Times,serif\" font-size=\"14.00\">data 0.7071</text>\n<polyline fill=\"none\" stroke=\"black\" points=\"1485,-109.5 1485,-145.5 \"/>\n<text text-anchor=\"middle\" x=\"1526\" y=\"-123.8\" font-family=\"Times,serif\" font-size=\"14.00\">grad 1.0000</text>\n</g>\n<!-- 134612240101872tanh&#45;&gt;134612240101872 -->\n<g id=\"edge5\" class=\"edge\">\n<title>134612240101872tanh&#45;&gt;134612240101872</title>\n<path fill=\"none\" stroke=\"black\" d=\"M1346.04,-127.5C1353.58,-127.5 1362.3,-127.5 1371.57,-127.5\"/>\n<polygon fill=\"black\" stroke=\"black\" points=\"1371.81,-131 1381.81,-127.5 1371.81,-124 1371.81,-131\"/>\n</g>\n</g>\n</svg>\n",
            "text/plain": [
              "<graphviz.graphs.Digraph at 0x7a6ddac0c100>"
            ]
          },
          "metadata": {},
          "execution_count": 242
        }
      ]
    },
    {
      "cell_type": "markdown",
      "source": [
        "#### Add `backward` to `Value`"
      ],
      "metadata": {
        "id": "gNi1dDYhR9Wr"
      }
    },
    {
      "cell_type": "code",
      "source": [
        "class Value:\n",
        "    def __init__(self, data, _children=(), _op='', label=''):\n",
        "        self.data = data\n",
        "        self.grad = 0.0 # ⭠ Add grad\n",
        "        self._backward = lambda : None\n",
        "        self._prev = set(_children)\n",
        "        self._op = _op\n",
        "        self.label = label\n",
        "\n",
        "    def __repr__(self):\n",
        "        return f\"Value(label={self.label} data={self.data})\"\n",
        "\n",
        "    def __add__(self, other):\n",
        "        out = Value(self.data + other.data, (self, other), '+')\n",
        "        def _backward():\n",
        "            self.grad = 1.0 * out.grad\n",
        "            other.grad = 1.0 * out.grad\n",
        "        out._backward = _backward\n",
        "        return out\n",
        "\n",
        "    def __mul__(self, other):\n",
        "        out = Value(self.data * other.data, (self, other), '*')\n",
        "        def _backward():\n",
        "            self.grad = other.data * out.grad\n",
        "            other.grad = self.data * out.grad\n",
        "        out._backward = _backward\n",
        "        return out\n",
        "\n",
        "    def tanh(self):\n",
        "        x = self.data\n",
        "        t = (math.exp(2*x) - 1)/(math.exp(2*x) + 1)\n",
        "        out = Value(t, (self,), 'tanh')\n",
        "\n",
        "        def _backward():\n",
        "            self.grad = (1 - t**2) * out.grad\n",
        "        out._backward = _backward\n",
        "        return out\n",
        "\n",
        "    def backward(self):\n",
        "        topo = []\n",
        "        visited = set()\n",
        "        def build_topo(v):\n",
        "            if v not in visited:\n",
        "                visited.add(v)\n",
        "                for child in v._prev:\n",
        "                    build_topo(child)\n",
        "                topo.append(v)\n",
        "        build_topo(self)\n",
        "\n",
        "        self.grad = 1.0\n",
        "        for node in reversed(topo):\n",
        "            node._backward()"
      ],
      "metadata": {
        "id": "YW90EJfTR-Vx"
      },
      "execution_count": 243,
      "outputs": []
    },
    {
      "cell_type": "code",
      "source": [
        "x1 = Value(2.0, label='x1')\n",
        "x2 = Value(0.0, label='x2')\n",
        "\n",
        "w1 = Value(-3.0, label='w1')\n",
        "w2 = Value(1.0, label='w2')\n",
        "\n",
        "b = Value(6.8813735870195432, label='b')\n",
        "\n",
        "x1w1 = x1*w1; x1w1.label='x1*w1'\n",
        "x2w2 = x2*w2; x2w2.label='x2*w2'\n",
        "x1w1x2w2 = x1w1 + x2w2; x1w1x2w2.label='x1*w1 + x2*w2'\n",
        "n = x1w1x2w2 + b; n.label='n'\n",
        "o = n.tanh(); o.label = 'o'"
      ],
      "metadata": {
        "id": "mxjJ0DoiSLf-"
      },
      "execution_count": 244,
      "outputs": []
    },
    {
      "cell_type": "code",
      "source": [
        "o.backward()"
      ],
      "metadata": {
        "id": "N3rRHAXXSS0t"
      },
      "execution_count": 245,
      "outputs": []
    },
    {
      "cell_type": "code",
      "source": [
        "draw_dot(o, label)"
      ],
      "metadata": {
        "colab": {
          "base_uri": "https://localhost:8080/",
          "height": 321
        },
        "id": "qQ5M_fqfSWOa",
        "outputId": "8c9555fb-850a-483e-c3d2-3b78e2b03a95"
      },
      "execution_count": 246,
      "outputs": [
        {
          "output_type": "execute_result",
          "data": {
            "image/svg+xml": "<?xml version=\"1.0\" encoding=\"UTF-8\" standalone=\"no\"?>\n<!DOCTYPE svg PUBLIC \"-//W3C//DTD SVG 1.1//EN\"\n \"http://www.w3.org/Graphics/SVG/1.1/DTD/svg11.dtd\">\n<!-- Generated by graphviz version 2.43.0 (0)\n -->\n<!-- Title: %3 Pages: 1 -->\n<svg width=\"1575pt\" height=\"210pt\"\n viewBox=\"0.00 0.00 1575.00 210.00\" xmlns=\"http://www.w3.org/2000/svg\" xmlns:xlink=\"http://www.w3.org/1999/xlink\">\n<g id=\"graph0\" class=\"graph\" transform=\"scale(1 1) rotate(0) translate(4 206)\">\n<title>%3</title>\n<polygon fill=\"white\" stroke=\"transparent\" points=\"-4,4 -4,-206 1571,-206 1571,4 -4,4\"/>\n<!-- 134612243926560 -->\n<g id=\"node1\" class=\"node\">\n<title>134612243926560</title>\n<polygon fill=\"none\" stroke=\"black\" points=\"328.5,-55.5 328.5,-91.5 543.5,-91.5 543.5,-55.5 328.5,-55.5\"/>\n<text text-anchor=\"middle\" x=\"355\" y=\"-69.8\" font-family=\"Times,serif\" font-size=\"14.00\">x2*w2</text>\n<polyline fill=\"none\" stroke=\"black\" points=\"381.5,-55.5 381.5,-91.5 \"/>\n<text text-anchor=\"middle\" x=\"421.5\" y=\"-69.8\" font-family=\"Times,serif\" font-size=\"14.00\">data 0.0000</text>\n<polyline fill=\"none\" stroke=\"black\" points=\"461.5,-55.5 461.5,-91.5 \"/>\n<text text-anchor=\"middle\" x=\"502.5\" y=\"-69.8\" font-family=\"Times,serif\" font-size=\"14.00\">grad 0.5000</text>\n</g>\n<!-- 134612243929920+ -->\n<g id=\"node11\" class=\"node\">\n<title>134612243929920+</title>\n<ellipse fill=\"none\" stroke=\"black\" cx=\"609\" cy=\"-100.5\" rx=\"27\" ry=\"18\"/>\n<text text-anchor=\"middle\" x=\"609\" y=\"-96.8\" font-family=\"Times,serif\" font-size=\"14.00\">+</text>\n</g>\n<!-- 134612243926560&#45;&gt;134612243929920+ -->\n<g id=\"edge8\" class=\"edge\">\n<title>134612243926560&#45;&gt;134612243929920+</title>\n<path fill=\"none\" stroke=\"black\" d=\"M543.84,-90.37C554.01,-91.98 563.76,-93.51 572.44,-94.89\"/>\n<polygon fill=\"black\" stroke=\"black\" points=\"572.05,-98.37 582.47,-96.47 573.14,-91.45 572.05,-98.37\"/>\n</g>\n<!-- 134612243926560* -->\n<g id=\"node2\" class=\"node\">\n<title>134612243926560*</title>\n<ellipse fill=\"none\" stroke=\"black\" cx=\"263\" cy=\"-73.5\" rx=\"27\" ry=\"18\"/>\n<text text-anchor=\"middle\" x=\"263\" y=\"-69.8\" font-family=\"Times,serif\" font-size=\"14.00\">*</text>\n</g>\n<!-- 134612243926560*&#45;&gt;134612243926560 -->\n<g id=\"edge1\" class=\"edge\">\n<title>134612243926560*&#45;&gt;134612243926560</title>\n<path fill=\"none\" stroke=\"black\" d=\"M290.34,-73.5C298.51,-73.5 308.08,-73.5 318.36,-73.5\"/>\n<polygon fill=\"black\" stroke=\"black\" points=\"318.39,-77 328.39,-73.5 318.39,-70 318.39,-77\"/>\n</g>\n<!-- 134612243930208 -->\n<g id=\"node3\" class=\"node\">\n<title>134612243930208</title>\n<polygon fill=\"none\" stroke=\"black\" points=\"1071,-109.5 1071,-145.5 1256,-145.5 1256,-109.5 1071,-109.5\"/>\n<text text-anchor=\"middle\" x=\"1082.5\" y=\"-123.8\" font-family=\"Times,serif\" font-size=\"14.00\">n</text>\n<polyline fill=\"none\" stroke=\"black\" points=\"1094,-109.5 1094,-145.5 \"/>\n<text text-anchor=\"middle\" x=\"1134\" y=\"-123.8\" font-family=\"Times,serif\" font-size=\"14.00\">data 0.8814</text>\n<polyline fill=\"none\" stroke=\"black\" points=\"1174,-109.5 1174,-145.5 \"/>\n<text text-anchor=\"middle\" x=\"1215\" y=\"-123.8\" font-family=\"Times,serif\" font-size=\"14.00\">grad 0.5000</text>\n</g>\n<!-- 134612243938032tanh -->\n<g id=\"node9\" class=\"node\">\n<title>134612243938032tanh</title>\n<ellipse fill=\"none\" stroke=\"black\" cx=\"1319\" cy=\"-127.5\" rx=\"27\" ry=\"18\"/>\n<text text-anchor=\"middle\" x=\"1319\" y=\"-123.8\" font-family=\"Times,serif\" font-size=\"14.00\">tanh</text>\n</g>\n<!-- 134612243930208&#45;&gt;134612243938032tanh -->\n<g id=\"edge9\" class=\"edge\">\n<title>134612243930208&#45;&gt;134612243938032tanh</title>\n<path fill=\"none\" stroke=\"black\" d=\"M1256.01,-127.5C1265.01,-127.5 1273.74,-127.5 1281.66,-127.5\"/>\n<polygon fill=\"black\" stroke=\"black\" points=\"1281.91,-131 1291.91,-127.5 1281.91,-124 1281.91,-131\"/>\n</g>\n<!-- 134612243930208+ -->\n<g id=\"node4\" class=\"node\">\n<title>134612243930208+</title>\n<ellipse fill=\"none\" stroke=\"black\" cx=\"1008\" cy=\"-127.5\" rx=\"27\" ry=\"18\"/>\n<text text-anchor=\"middle\" x=\"1008\" y=\"-123.8\" font-family=\"Times,serif\" font-size=\"14.00\">+</text>\n</g>\n<!-- 134612243930208+&#45;&gt;134612243930208 -->\n<g id=\"edge2\" class=\"edge\">\n<title>134612243930208+&#45;&gt;134612243930208</title>\n<path fill=\"none\" stroke=\"black\" d=\"M1035.04,-127.5C1042.58,-127.5 1051.3,-127.5 1060.57,-127.5\"/>\n<polygon fill=\"black\" stroke=\"black\" points=\"1060.81,-131 1070.81,-127.5 1060.81,-124 1060.81,-131\"/>\n</g>\n<!-- 134612243934816 -->\n<g id=\"node5\" class=\"node\">\n<title>134612243934816</title>\n<polygon fill=\"none\" stroke=\"black\" points=\"716,-137.5 716,-173.5 901,-173.5 901,-137.5 716,-137.5\"/>\n<text text-anchor=\"middle\" x=\"727.5\" y=\"-151.8\" font-family=\"Times,serif\" font-size=\"14.00\">b</text>\n<polyline fill=\"none\" stroke=\"black\" points=\"739,-137.5 739,-173.5 \"/>\n<text text-anchor=\"middle\" x=\"779\" y=\"-151.8\" font-family=\"Times,serif\" font-size=\"14.00\">data 6.8814</text>\n<polyline fill=\"none\" stroke=\"black\" points=\"819,-137.5 819,-173.5 \"/>\n<text text-anchor=\"middle\" x=\"860\" y=\"-151.8\" font-family=\"Times,serif\" font-size=\"14.00\">grad 0.5000</text>\n</g>\n<!-- 134612243934816&#45;&gt;134612243930208+ -->\n<g id=\"edge13\" class=\"edge\">\n<title>134612243934816&#45;&gt;134612243930208+</title>\n<path fill=\"none\" stroke=\"black\" d=\"M901.02,-142.52C926,-138.98 951.59,-135.36 971.37,-132.55\"/>\n<polygon fill=\"black\" stroke=\"black\" points=\"972.03,-135.99 981.43,-131.12 971.04,-129.06 972.03,-135.99\"/>\n</g>\n<!-- 134612243926224 -->\n<g id=\"node6\" class=\"node\">\n<title>134612243926224</title>\n<polygon fill=\"none\" stroke=\"black\" points=\"326,-110.5 326,-146.5 546,-146.5 546,-110.5 326,-110.5\"/>\n<text text-anchor=\"middle\" x=\"352.5\" y=\"-124.8\" font-family=\"Times,serif\" font-size=\"14.00\">x1*w1</text>\n<polyline fill=\"none\" stroke=\"black\" points=\"379,-110.5 379,-146.5 \"/>\n<text text-anchor=\"middle\" x=\"421.5\" y=\"-124.8\" font-family=\"Times,serif\" font-size=\"14.00\">data &#45;6.0000</text>\n<polyline fill=\"none\" stroke=\"black\" points=\"464,-110.5 464,-146.5 \"/>\n<text text-anchor=\"middle\" x=\"505\" y=\"-124.8\" font-family=\"Times,serif\" font-size=\"14.00\">grad 0.5000</text>\n</g>\n<!-- 134612243926224&#45;&gt;134612243929920+ -->\n<g id=\"edge6\" class=\"edge\">\n<title>134612243926224&#45;&gt;134612243929920+</title>\n<path fill=\"none\" stroke=\"black\" d=\"M546.27,-110.61C555.64,-109.07 564.6,-107.61 572.65,-106.29\"/>\n<polygon fill=\"black\" stroke=\"black\" points=\"573.35,-109.72 582.65,-104.65 572.22,-102.81 573.35,-109.72\"/>\n</g>\n<!-- 134612243926224* -->\n<g id=\"node7\" class=\"node\">\n<title>134612243926224*</title>\n<ellipse fill=\"none\" stroke=\"black\" cx=\"263\" cy=\"-128.5\" rx=\"27\" ry=\"18\"/>\n<text text-anchor=\"middle\" x=\"263\" y=\"-124.8\" font-family=\"Times,serif\" font-size=\"14.00\">*</text>\n</g>\n<!-- 134612243926224*&#45;&gt;134612243926224 -->\n<g id=\"edge3\" class=\"edge\">\n<title>134612243926224*&#45;&gt;134612243926224</title>\n<path fill=\"none\" stroke=\"black\" d=\"M290.34,-128.5C297.77,-128.5 306.37,-128.5 315.6,-128.5\"/>\n<polygon fill=\"black\" stroke=\"black\" points=\"315.84,-132 325.84,-128.5 315.84,-125 315.84,-132\"/>\n</g>\n<!-- 134612243938032 -->\n<g id=\"node8\" class=\"node\">\n<title>134612243938032</title>\n<polygon fill=\"none\" stroke=\"black\" points=\"1382,-109.5 1382,-145.5 1567,-145.5 1567,-109.5 1382,-109.5\"/>\n<text text-anchor=\"middle\" x=\"1393.5\" y=\"-123.8\" font-family=\"Times,serif\" font-size=\"14.00\">o</text>\n<polyline fill=\"none\" stroke=\"black\" points=\"1405,-109.5 1405,-145.5 \"/>\n<text text-anchor=\"middle\" x=\"1445\" y=\"-123.8\" font-family=\"Times,serif\" font-size=\"14.00\">data 0.7071</text>\n<polyline fill=\"none\" stroke=\"black\" points=\"1485,-109.5 1485,-145.5 \"/>\n<text text-anchor=\"middle\" x=\"1526\" y=\"-123.8\" font-family=\"Times,serif\" font-size=\"14.00\">grad 1.0000</text>\n</g>\n<!-- 134612243938032tanh&#45;&gt;134612243938032 -->\n<g id=\"edge4\" class=\"edge\">\n<title>134612243938032tanh&#45;&gt;134612243938032</title>\n<path fill=\"none\" stroke=\"black\" d=\"M1346.04,-127.5C1353.58,-127.5 1362.3,-127.5 1371.57,-127.5\"/>\n<polygon fill=\"black\" stroke=\"black\" points=\"1371.81,-131 1381.81,-127.5 1371.81,-124 1371.81,-131\"/>\n</g>\n<!-- 134612243929920 -->\n<g id=\"node10\" class=\"node\">\n<title>134612243929920</title>\n<polygon fill=\"none\" stroke=\"black\" points=\"672,-82.5 672,-118.5 945,-118.5 945,-82.5 672,-82.5\"/>\n<text text-anchor=\"middle\" x=\"725\" y=\"-96.8\" font-family=\"Times,serif\" font-size=\"14.00\">x1*w1 + x2*w2</text>\n<polyline fill=\"none\" stroke=\"black\" points=\"778,-82.5 778,-118.5 \"/>\n<text text-anchor=\"middle\" x=\"820.5\" y=\"-96.8\" font-family=\"Times,serif\" font-size=\"14.00\">data &#45;6.0000</text>\n<polyline fill=\"none\" stroke=\"black\" points=\"863,-82.5 863,-118.5 \"/>\n<text text-anchor=\"middle\" x=\"904\" y=\"-96.8\" font-family=\"Times,serif\" font-size=\"14.00\">grad 0.5000</text>\n</g>\n<!-- 134612243929920&#45;&gt;134612243930208+ -->\n<g id=\"edge14\" class=\"edge\">\n<title>134612243929920&#45;&gt;134612243930208+</title>\n<path fill=\"none\" stroke=\"black\" d=\"M941.24,-118.51C952.12,-120 962.4,-121.4 971.45,-122.64\"/>\n<polygon fill=\"black\" stroke=\"black\" points=\"971.11,-126.13 981.49,-124.01 972.05,-119.19 971.11,-126.13\"/>\n</g>\n<!-- 134612243929920+&#45;&gt;134612243929920 -->\n<g id=\"edge5\" class=\"edge\">\n<title>134612243929920+&#45;&gt;134612243929920</title>\n<path fill=\"none\" stroke=\"black\" d=\"M636.23,-100.5C643.7,-100.5 652.41,-100.5 661.87,-100.5\"/>\n<polygon fill=\"black\" stroke=\"black\" points=\"661.98,-104 671.98,-100.5 661.98,-97 661.98,-104\"/>\n</g>\n<!-- 134612243931456 -->\n<g id=\"node12\" class=\"node\">\n<title>134612243931456</title>\n<polygon fill=\"none\" stroke=\"black\" points=\"2.5,-55.5 2.5,-91.5 197.5,-91.5 197.5,-55.5 2.5,-55.5\"/>\n<text text-anchor=\"middle\" x=\"19\" y=\"-69.8\" font-family=\"Times,serif\" font-size=\"14.00\">w2</text>\n<polyline fill=\"none\" stroke=\"black\" points=\"35.5,-55.5 35.5,-91.5 \"/>\n<text text-anchor=\"middle\" x=\"75.5\" y=\"-69.8\" font-family=\"Times,serif\" font-size=\"14.00\">data 1.0000</text>\n<polyline fill=\"none\" stroke=\"black\" points=\"115.5,-55.5 115.5,-91.5 \"/>\n<text text-anchor=\"middle\" x=\"156.5\" y=\"-69.8\" font-family=\"Times,serif\" font-size=\"14.00\">grad 0.0000</text>\n</g>\n<!-- 134612243931456&#45;&gt;134612243926560* -->\n<g id=\"edge10\" class=\"edge\">\n<title>134612243931456&#45;&gt;134612243926560*</title>\n<path fill=\"none\" stroke=\"black\" d=\"M197.91,-73.5C207.65,-73.5 217.05,-73.5 225.52,-73.5\"/>\n<polygon fill=\"black\" stroke=\"black\" points=\"225.7,-77 235.7,-73.5 225.7,-70 225.7,-77\"/>\n</g>\n<!-- 134612243932512 -->\n<g id=\"node13\" class=\"node\">\n<title>134612243932512</title>\n<polygon fill=\"none\" stroke=\"black\" points=\"2,-165.5 2,-201.5 198,-201.5 198,-165.5 2,-165.5\"/>\n<text text-anchor=\"middle\" x=\"17\" y=\"-179.8\" font-family=\"Times,serif\" font-size=\"14.00\">x1</text>\n<polyline fill=\"none\" stroke=\"black\" points=\"32,-165.5 32,-201.5 \"/>\n<text text-anchor=\"middle\" x=\"72\" y=\"-179.8\" font-family=\"Times,serif\" font-size=\"14.00\">data 2.0000</text>\n<polyline fill=\"none\" stroke=\"black\" points=\"112,-165.5 112,-201.5 \"/>\n<text text-anchor=\"middle\" x=\"155\" y=\"-179.8\" font-family=\"Times,serif\" font-size=\"14.00\">grad &#45;1.5000</text>\n</g>\n<!-- 134612243932512&#45;&gt;134612243926224* -->\n<g id=\"edge12\" class=\"edge\">\n<title>134612243932512&#45;&gt;134612243926224*</title>\n<path fill=\"none\" stroke=\"black\" d=\"M172.53,-165.44C181.84,-162.67 191.2,-159.67 200,-156.5 210.53,-152.71 221.75,-147.9 231.72,-143.33\"/>\n<polygon fill=\"black\" stroke=\"black\" points=\"233.25,-146.48 240.82,-139.07 230.28,-140.14 233.25,-146.48\"/>\n</g>\n<!-- 134612243934096 -->\n<g id=\"node14\" class=\"node\">\n<title>134612243934096</title>\n<polygon fill=\"none\" stroke=\"black\" points=\"0,-110.5 0,-146.5 200,-146.5 200,-110.5 0,-110.5\"/>\n<text text-anchor=\"middle\" x=\"16.5\" y=\"-124.8\" font-family=\"Times,serif\" font-size=\"14.00\">w1</text>\n<polyline fill=\"none\" stroke=\"black\" points=\"33,-110.5 33,-146.5 \"/>\n<text text-anchor=\"middle\" x=\"75.5\" y=\"-124.8\" font-family=\"Times,serif\" font-size=\"14.00\">data &#45;3.0000</text>\n<polyline fill=\"none\" stroke=\"black\" points=\"118,-110.5 118,-146.5 \"/>\n<text text-anchor=\"middle\" x=\"159\" y=\"-124.8\" font-family=\"Times,serif\" font-size=\"14.00\">grad 1.0000</text>\n</g>\n<!-- 134612243934096&#45;&gt;134612243926224* -->\n<g id=\"edge7\" class=\"edge\">\n<title>134612243934096&#45;&gt;134612243926224*</title>\n<path fill=\"none\" stroke=\"black\" d=\"M200.21,-128.5C209.2,-128.5 217.86,-128.5 225.7,-128.5\"/>\n<polygon fill=\"black\" stroke=\"black\" points=\"225.85,-132 235.85,-128.5 225.85,-125 225.85,-132\"/>\n</g>\n<!-- 134612243934624 -->\n<g id=\"node15\" class=\"node\">\n<title>134612243934624</title>\n<polygon fill=\"none\" stroke=\"black\" points=\"4,-0.5 4,-36.5 196,-36.5 196,-0.5 4,-0.5\"/>\n<text text-anchor=\"middle\" x=\"19\" y=\"-14.8\" font-family=\"Times,serif\" font-size=\"14.00\">x2</text>\n<polyline fill=\"none\" stroke=\"black\" points=\"34,-0.5 34,-36.5 \"/>\n<text text-anchor=\"middle\" x=\"74\" y=\"-14.8\" font-family=\"Times,serif\" font-size=\"14.00\">data 0.0000</text>\n<polyline fill=\"none\" stroke=\"black\" points=\"114,-0.5 114,-36.5 \"/>\n<text text-anchor=\"middle\" x=\"155\" y=\"-14.8\" font-family=\"Times,serif\" font-size=\"14.00\">grad 0.5000</text>\n</g>\n<!-- 134612243934624&#45;&gt;134612243926560* -->\n<g id=\"edge11\" class=\"edge\">\n<title>134612243934624&#45;&gt;134612243926560*</title>\n<path fill=\"none\" stroke=\"black\" d=\"M169.28,-36.5C179.65,-39.61 190.16,-42.98 200,-46.5 210.28,-50.17 221.28,-54.74 231.11,-59.07\"/>\n<polygon fill=\"black\" stroke=\"black\" points=\"229.93,-62.37 240.48,-63.27 232.79,-55.99 229.93,-62.37\"/>\n</g>\n</g>\n</svg>\n",
            "text/plain": [
              "<graphviz.graphs.Digraph at 0x7a6ddafb6620>"
            ]
          },
          "metadata": {},
          "execution_count": 246
        }
      ]
    },
    {
      "cell_type": "markdown",
      "source": [
        "### Fixing a backprop bug"
      ],
      "metadata": {
        "id": "MuSs-abUSahG"
      }
    },
    {
      "cell_type": "code",
      "source": [
        "a = Value(3.0, label='b')\n",
        "b = a + a; b.label = 'b'\n",
        "b.backward()\n",
        "draw_dot(b, label)"
      ],
      "metadata": {
        "colab": {
          "base_uri": "https://localhost:8080/",
          "height": 81
        },
        "id": "E7HosVZcSbvL",
        "outputId": "5a59f278-46c3-4ae8-d350-3d77142752a0"
      },
      "execution_count": 247,
      "outputs": [
        {
          "output_type": "execute_result",
          "data": {
            "image/svg+xml": "<?xml version=\"1.0\" encoding=\"UTF-8\" standalone=\"no\"?>\n<!DOCTYPE svg PUBLIC \"-//W3C//DTD SVG 1.1//EN\"\n \"http://www.w3.org/Graphics/SVG/1.1/DTD/svg11.dtd\">\n<!-- Generated by graphviz version 2.43.0 (0)\n -->\n<!-- Title: %3 Pages: 1 -->\n<svg width=\"504pt\" height=\"45pt\"\n viewBox=\"0.00 0.00 504.00 45.00\" xmlns=\"http://www.w3.org/2000/svg\" xmlns:xlink=\"http://www.w3.org/1999/xlink\">\n<g id=\"graph0\" class=\"graph\" transform=\"scale(1 1) rotate(0) translate(4 41)\">\n<title>%3</title>\n<polygon fill=\"white\" stroke=\"transparent\" points=\"-4,4 -4,-41 500,-41 500,4 -4,4\"/>\n<!-- 134612243927040 -->\n<g id=\"node1\" class=\"node\">\n<title>134612243927040</title>\n<polygon fill=\"none\" stroke=\"black\" points=\"311,-0.5 311,-36.5 496,-36.5 496,-0.5 311,-0.5\"/>\n<text text-anchor=\"middle\" x=\"322.5\" y=\"-14.8\" font-family=\"Times,serif\" font-size=\"14.00\">b</text>\n<polyline fill=\"none\" stroke=\"black\" points=\"334,-0.5 334,-36.5 \"/>\n<text text-anchor=\"middle\" x=\"374\" y=\"-14.8\" font-family=\"Times,serif\" font-size=\"14.00\">data 6.0000</text>\n<polyline fill=\"none\" stroke=\"black\" points=\"414,-0.5 414,-36.5 \"/>\n<text text-anchor=\"middle\" x=\"455\" y=\"-14.8\" font-family=\"Times,serif\" font-size=\"14.00\">grad 1.0000</text>\n</g>\n<!-- 134612243927040+ -->\n<g id=\"node2\" class=\"node\">\n<title>134612243927040+</title>\n<ellipse fill=\"none\" stroke=\"black\" cx=\"248\" cy=\"-18.5\" rx=\"27\" ry=\"18\"/>\n<text text-anchor=\"middle\" x=\"248\" y=\"-14.8\" font-family=\"Times,serif\" font-size=\"14.00\">+</text>\n</g>\n<!-- 134612243927040+&#45;&gt;134612243927040 -->\n<g id=\"edge1\" class=\"edge\">\n<title>134612243927040+&#45;&gt;134612243927040</title>\n<path fill=\"none\" stroke=\"black\" d=\"M275.04,-18.5C282.58,-18.5 291.3,-18.5 300.57,-18.5\"/>\n<polygon fill=\"black\" stroke=\"black\" points=\"300.81,-22 310.81,-18.5 300.81,-15 300.81,-22\"/>\n</g>\n<!-- 134612243938560 -->\n<g id=\"node3\" class=\"node\">\n<title>134612243938560</title>\n<polygon fill=\"none\" stroke=\"black\" points=\"0,-0.5 0,-36.5 185,-36.5 185,-0.5 0,-0.5\"/>\n<text text-anchor=\"middle\" x=\"11.5\" y=\"-14.8\" font-family=\"Times,serif\" font-size=\"14.00\">b</text>\n<polyline fill=\"none\" stroke=\"black\" points=\"23,-0.5 23,-36.5 \"/>\n<text text-anchor=\"middle\" x=\"63\" y=\"-14.8\" font-family=\"Times,serif\" font-size=\"14.00\">data 3.0000</text>\n<polyline fill=\"none\" stroke=\"black\" points=\"103,-0.5 103,-36.5 \"/>\n<text text-anchor=\"middle\" x=\"144\" y=\"-14.8\" font-family=\"Times,serif\" font-size=\"14.00\">grad 1.0000</text>\n</g>\n<!-- 134612243938560&#45;&gt;134612243927040+ -->\n<g id=\"edge2\" class=\"edge\">\n<title>134612243938560&#45;&gt;134612243927040+</title>\n<path fill=\"none\" stroke=\"black\" d=\"M185.01,-18.5C194.01,-18.5 202.74,-18.5 210.66,-18.5\"/>\n<polygon fill=\"black\" stroke=\"black\" points=\"210.91,-22 220.91,-18.5 210.91,-15 210.91,-22\"/>\n</g>\n</g>\n</svg>\n",
            "text/plain": [
              "<graphviz.graphs.Digraph at 0x7a6ddafb5a50>"
            ]
          },
          "metadata": {},
          "execution_count": 247
        }
      ]
    },
    {
      "cell_type": "code",
      "source": [
        "a = Value(-2.0, label='a')\n",
        "b = Value(3.0, label='b')\n",
        "d = a*b; d.label = 'd'\n",
        "e = a+b; e.label = 'e'\n",
        "f = d*e; f.label = 'f'\n",
        "f.backward()\n",
        "draw_dot(f, label)"
      ],
      "metadata": {
        "colab": {
          "base_uri": "https://localhost:8080/",
          "height": 174
        },
        "id": "e3O75e40Sfcd",
        "outputId": "abdd7cbd-7806-4907-9f9b-2fd3480e6a5a"
      },
      "execution_count": 248,
      "outputs": [
        {
          "output_type": "execute_result",
          "data": {
            "image/svg+xml": "<?xml version=\"1.0\" encoding=\"UTF-8\" standalone=\"no\"?>\n<!DOCTYPE svg PUBLIC \"-//W3C//DTD SVG 1.1//EN\"\n \"http://www.w3.org/Graphics/SVG/1.1/DTD/svg11.dtd\">\n<!-- Generated by graphviz version 2.43.0 (0)\n -->\n<!-- Title: %3 Pages: 1 -->\n<svg width=\"828pt\" height=\"100pt\"\n viewBox=\"0.00 0.00 828.00 100.00\" xmlns=\"http://www.w3.org/2000/svg\" xmlns:xlink=\"http://www.w3.org/1999/xlink\">\n<g id=\"graph0\" class=\"graph\" transform=\"scale(1 1) rotate(0) translate(4 96)\">\n<title>%3</title>\n<polygon fill=\"white\" stroke=\"transparent\" points=\"-4,4 -4,-96 824,-96 824,4 -4,4\"/>\n<!-- 134612240089632 -->\n<g id=\"node1\" class=\"node\">\n<title>134612240089632</title>\n<polygon fill=\"none\" stroke=\"black\" points=\"632,-27.5 632,-63.5 820,-63.5 820,-27.5 632,-27.5\"/>\n<text text-anchor=\"middle\" x=\"642.5\" y=\"-41.8\" font-family=\"Times,serif\" font-size=\"14.00\">f</text>\n<polyline fill=\"none\" stroke=\"black\" points=\"653,-27.5 653,-63.5 \"/>\n<text text-anchor=\"middle\" x=\"695.5\" y=\"-41.8\" font-family=\"Times,serif\" font-size=\"14.00\">data &#45;6.0000</text>\n<polyline fill=\"none\" stroke=\"black\" points=\"738,-27.5 738,-63.5 \"/>\n<text text-anchor=\"middle\" x=\"779\" y=\"-41.8\" font-family=\"Times,serif\" font-size=\"14.00\">grad 1.0000</text>\n</g>\n<!-- 134612240089632* -->\n<g id=\"node2\" class=\"node\">\n<title>134612240089632*</title>\n<ellipse fill=\"none\" stroke=\"black\" cx=\"569\" cy=\"-45.5\" rx=\"27\" ry=\"18\"/>\n<text text-anchor=\"middle\" x=\"569\" y=\"-41.8\" font-family=\"Times,serif\" font-size=\"14.00\">*</text>\n</g>\n<!-- 134612240089632*&#45;&gt;134612240089632 -->\n<g id=\"edge1\" class=\"edge\">\n<title>134612240089632*&#45;&gt;134612240089632</title>\n<path fill=\"none\" stroke=\"black\" d=\"M596.29,-45.5C603.78,-45.5 612.42,-45.5 621.6,-45.5\"/>\n<polygon fill=\"black\" stroke=\"black\" points=\"621.76,-49 631.76,-45.5 621.76,-42 621.76,-49\"/>\n</g>\n<!-- 134612243934912 -->\n<g id=\"node3\" class=\"node\">\n<title>134612243934912</title>\n<polygon fill=\"none\" stroke=\"black\" points=\"0,-55.5 0,-91.5 190,-91.5 190,-55.5 0,-55.5\"/>\n<text text-anchor=\"middle\" x=\"11.5\" y=\"-69.8\" font-family=\"Times,serif\" font-size=\"14.00\">a</text>\n<polyline fill=\"none\" stroke=\"black\" points=\"23,-55.5 23,-91.5 \"/>\n<text text-anchor=\"middle\" x=\"65.5\" y=\"-69.8\" font-family=\"Times,serif\" font-size=\"14.00\">data &#45;2.0000</text>\n<polyline fill=\"none\" stroke=\"black\" points=\"108,-55.5 108,-91.5 \"/>\n<text text-anchor=\"middle\" x=\"149\" y=\"-69.8\" font-family=\"Times,serif\" font-size=\"14.00\">grad 3.0000</text>\n</g>\n<!-- 134612243933952* -->\n<g id=\"node6\" class=\"node\">\n<title>134612243933952*</title>\n<ellipse fill=\"none\" stroke=\"black\" cx=\"253\" cy=\"-73.5\" rx=\"27\" ry=\"18\"/>\n<text text-anchor=\"middle\" x=\"253\" y=\"-69.8\" font-family=\"Times,serif\" font-size=\"14.00\">*</text>\n</g>\n<!-- 134612243934912&#45;&gt;134612243933952* -->\n<g id=\"edge7\" class=\"edge\">\n<title>134612243934912&#45;&gt;134612243933952*</title>\n<path fill=\"none\" stroke=\"black\" d=\"M190.34,-73.5C199.26,-73.5 207.87,-73.5 215.69,-73.5\"/>\n<polygon fill=\"black\" stroke=\"black\" points=\"215.82,-77 225.82,-73.5 215.82,-70 215.82,-77\"/>\n</g>\n<!-- 134612240098800+ -->\n<g id=\"node8\" class=\"node\">\n<title>134612240098800+</title>\n<ellipse fill=\"none\" stroke=\"black\" cx=\"253\" cy=\"-18.5\" rx=\"27\" ry=\"18\"/>\n<text text-anchor=\"middle\" x=\"253\" y=\"-14.8\" font-family=\"Times,serif\" font-size=\"14.00\">+</text>\n</g>\n<!-- 134612243934912&#45;&gt;134612240098800+ -->\n<g id=\"edge4\" class=\"edge\">\n<title>134612243934912&#45;&gt;134612240098800+</title>\n<path fill=\"none\" stroke=\"black\" d=\"M163.39,-55.42C172.4,-52.63 181.47,-49.63 190,-46.5 200.5,-42.64 211.72,-37.81 221.69,-33.24\"/>\n<polygon fill=\"black\" stroke=\"black\" points=\"223.21,-36.39 230.8,-28.99 220.26,-30.05 223.21,-36.39\"/>\n</g>\n<!-- 134612243932368 -->\n<g id=\"node4\" class=\"node\">\n<title>134612243932368</title>\n<polygon fill=\"none\" stroke=\"black\" points=\"0.5,-0.5 0.5,-36.5 189.5,-36.5 189.5,-0.5 0.5,-0.5\"/>\n<text text-anchor=\"middle\" x=\"12\" y=\"-14.8\" font-family=\"Times,serif\" font-size=\"14.00\">b</text>\n<polyline fill=\"none\" stroke=\"black\" points=\"23.5,-0.5 23.5,-36.5 \"/>\n<text text-anchor=\"middle\" x=\"63.5\" y=\"-14.8\" font-family=\"Times,serif\" font-size=\"14.00\">data 3.0000</text>\n<polyline fill=\"none\" stroke=\"black\" points=\"103.5,-0.5 103.5,-36.5 \"/>\n<text text-anchor=\"middle\" x=\"146.5\" y=\"-14.8\" font-family=\"Times,serif\" font-size=\"14.00\">grad &#45;2.0000</text>\n</g>\n<!-- 134612243932368&#45;&gt;134612243933952* -->\n<g id=\"edge8\" class=\"edge\">\n<title>134612243932368&#45;&gt;134612243933952*</title>\n<path fill=\"none\" stroke=\"black\" d=\"M160.31,-36.52C170.31,-39.65 180.48,-43.02 190,-46.5 200.26,-50.25 211.24,-54.83 221.08,-59.16\"/>\n<polygon fill=\"black\" stroke=\"black\" points=\"219.9,-62.46 230.45,-63.35 222.75,-56.07 219.9,-62.46\"/>\n</g>\n<!-- 134612243932368&#45;&gt;134612240098800+ -->\n<g id=\"edge5\" class=\"edge\">\n<title>134612243932368&#45;&gt;134612240098800+</title>\n<path fill=\"none\" stroke=\"black\" d=\"M189.9,-18.5C199.05,-18.5 207.9,-18.5 215.91,-18.5\"/>\n<polygon fill=\"black\" stroke=\"black\" points=\"215.91,-22 225.91,-18.5 215.91,-15 215.91,-22\"/>\n</g>\n<!-- 134612243933952 -->\n<g id=\"node5\" class=\"node\">\n<title>134612243933952</title>\n<polygon fill=\"none\" stroke=\"black\" points=\"316,-55.5 316,-91.5 506,-91.5 506,-55.5 316,-55.5\"/>\n<text text-anchor=\"middle\" x=\"327.5\" y=\"-69.8\" font-family=\"Times,serif\" font-size=\"14.00\">d</text>\n<polyline fill=\"none\" stroke=\"black\" points=\"339,-55.5 339,-91.5 \"/>\n<text text-anchor=\"middle\" x=\"381.5\" y=\"-69.8\" font-family=\"Times,serif\" font-size=\"14.00\">data &#45;6.0000</text>\n<polyline fill=\"none\" stroke=\"black\" points=\"424,-55.5 424,-91.5 \"/>\n<text text-anchor=\"middle\" x=\"465\" y=\"-69.8\" font-family=\"Times,serif\" font-size=\"14.00\">grad 1.0000</text>\n</g>\n<!-- 134612243933952&#45;&gt;134612240089632* -->\n<g id=\"edge6\" class=\"edge\">\n<title>134612243933952&#45;&gt;134612240089632*</title>\n<path fill=\"none\" stroke=\"black\" d=\"M506.34,-56.57C515.62,-54.9 524.58,-53.29 532.66,-51.84\"/>\n<polygon fill=\"black\" stroke=\"black\" points=\"533.49,-55.25 542.72,-50.04 532.26,-48.36 533.49,-55.25\"/>\n</g>\n<!-- 134612243933952*&#45;&gt;134612243933952 -->\n<g id=\"edge2\" class=\"edge\">\n<title>134612243933952*&#45;&gt;134612243933952</title>\n<path fill=\"none\" stroke=\"black\" d=\"M280.11,-73.5C287.63,-73.5 296.32,-73.5 305.58,-73.5\"/>\n<polygon fill=\"black\" stroke=\"black\" points=\"305.81,-77 315.81,-73.5 305.81,-70 305.81,-77\"/>\n</g>\n<!-- 134612240098800 -->\n<g id=\"node7\" class=\"node\">\n<title>134612240098800</title>\n<polygon fill=\"none\" stroke=\"black\" points=\"316.5,-0.5 316.5,-36.5 505.5,-36.5 505.5,-0.5 316.5,-0.5\"/>\n<text text-anchor=\"middle\" x=\"328\" y=\"-14.8\" font-family=\"Times,serif\" font-size=\"14.00\">e</text>\n<polyline fill=\"none\" stroke=\"black\" points=\"339.5,-0.5 339.5,-36.5 \"/>\n<text text-anchor=\"middle\" x=\"379.5\" y=\"-14.8\" font-family=\"Times,serif\" font-size=\"14.00\">data 1.0000</text>\n<polyline fill=\"none\" stroke=\"black\" points=\"419.5,-0.5 419.5,-36.5 \"/>\n<text text-anchor=\"middle\" x=\"462.5\" y=\"-14.8\" font-family=\"Times,serif\" font-size=\"14.00\">grad &#45;6.0000</text>\n</g>\n<!-- 134612240098800&#45;&gt;134612240089632* -->\n<g id=\"edge9\" class=\"edge\">\n<title>134612240098800&#45;&gt;134612240089632*</title>\n<path fill=\"none\" stroke=\"black\" d=\"M505.9,-34.75C515.33,-36.38 524.45,-37.96 532.65,-39.38\"/>\n<polygon fill=\"black\" stroke=\"black\" points=\"532.06,-42.83 542.51,-41.09 533.26,-35.93 532.06,-42.83\"/>\n</g>\n<!-- 134612240098800+&#45;&gt;134612240098800 -->\n<g id=\"edge3\" class=\"edge\">\n<title>134612240098800+&#45;&gt;134612240098800</title>\n<path fill=\"none\" stroke=\"black\" d=\"M280.11,-18.5C287.84,-18.5 296.8,-18.5 306.35,-18.5\"/>\n<polygon fill=\"black\" stroke=\"black\" points=\"306.48,-22 316.48,-18.5 306.48,-15 306.48,-22\"/>\n</g>\n</g>\n</svg>\n",
            "text/plain": [
              "<graphviz.graphs.Digraph at 0x7a6ddafb5510>"
            ]
          },
          "metadata": {},
          "execution_count": 248
        }
      ]
    },
    {
      "cell_type": "markdown",
      "source": [
        "#### Accumulate the gradient"
      ],
      "metadata": {
        "id": "8I-QzCfySl_Q"
      }
    },
    {
      "cell_type": "code",
      "source": [
        "class Value:\n",
        "    def __init__(self, data, _children=(), _op='', label=''):\n",
        "        self.data = data\n",
        "        self.grad = 0.0 # ⭠ Add grad\n",
        "        self._backward = lambda : None\n",
        "        self._prev = set(_children)\n",
        "        self._op = _op\n",
        "        self.label = label\n",
        "\n",
        "    def __repr__(self):\n",
        "        return f\"Value(label={self.label} data={self.data})\"\n",
        "\n",
        "    def __add__(self, other):\n",
        "        out = Value(self.data + other.data, (self, other), '+')\n",
        "        def _backward():\n",
        "            self.grad += 1.0 * out.grad # <- Accumulate the gradient\n",
        "            other.grad += 1.0 * out.grad # <- Accumulate the gradient\n",
        "        out._backward = _backward\n",
        "        return out\n",
        "\n",
        "    def __mul__(self, other):\n",
        "        out = Value(self.data * other.data, (self, other), '*')\n",
        "        def _backward():\n",
        "            self.grad += other.data * out.grad # <- Accumulate the gradient\n",
        "            other.grad += self.data * out.grad # <- Accumulate the gradient\n",
        "        out._backward = _backward\n",
        "        return out\n",
        "\n",
        "    def tanh(self):\n",
        "        x = self.data\n",
        "        t = (math.exp(2*x) - 1)/(math.exp(2*x) + 1)\n",
        "        out = Value(t, (self,), 'tanh')\n",
        "\n",
        "        def _backward():\n",
        "            self.grad += (1 - t**2) * out.grad # <- Accumulate the gradient\n",
        "        out._backward = _backward\n",
        "        return out\n",
        "\n",
        "    def backward(self):\n",
        "        topo = []\n",
        "        visited = set()\n",
        "        def build_topo(v):\n",
        "            if v not in visited:\n",
        "                visited.add(v)\n",
        "                for child in v._prev:\n",
        "                    build_topo(child)\n",
        "                topo.append(v)\n",
        "        build_topo(self)\n",
        "\n",
        "        self.grad = 1.0\n",
        "        for node in reversed(topo):\n",
        "            node._backward()"
      ],
      "metadata": {
        "id": "AkCewpdrSnvt"
      },
      "execution_count": 249,
      "outputs": []
    },
    {
      "cell_type": "code",
      "source": [
        "a = Value(3.0, label='b')\n",
        "b = a + a; b.label = 'b'\n",
        "b.backward()\n",
        "draw_dot(b, label)"
      ],
      "metadata": {
        "colab": {
          "base_uri": "https://localhost:8080/",
          "height": 81
        },
        "id": "U6hTGf7ASwoZ",
        "outputId": "22980fc9-cf58-47af-c4a9-3e67c1d66dcf"
      },
      "execution_count": 250,
      "outputs": [
        {
          "output_type": "execute_result",
          "data": {
            "image/svg+xml": "<?xml version=\"1.0\" encoding=\"UTF-8\" standalone=\"no\"?>\n<!DOCTYPE svg PUBLIC \"-//W3C//DTD SVG 1.1//EN\"\n \"http://www.w3.org/Graphics/SVG/1.1/DTD/svg11.dtd\">\n<!-- Generated by graphviz version 2.43.0 (0)\n -->\n<!-- Title: %3 Pages: 1 -->\n<svg width=\"504pt\" height=\"45pt\"\n viewBox=\"0.00 0.00 504.00 45.00\" xmlns=\"http://www.w3.org/2000/svg\" xmlns:xlink=\"http://www.w3.org/1999/xlink\">\n<g id=\"graph0\" class=\"graph\" transform=\"scale(1 1) rotate(0) translate(4 41)\">\n<title>%3</title>\n<polygon fill=\"white\" stroke=\"transparent\" points=\"-4,4 -4,-41 500,-41 500,4 -4,4\"/>\n<!-- 134612243936688 -->\n<g id=\"node1\" class=\"node\">\n<title>134612243936688</title>\n<polygon fill=\"none\" stroke=\"black\" points=\"311,-0.5 311,-36.5 496,-36.5 496,-0.5 311,-0.5\"/>\n<text text-anchor=\"middle\" x=\"322.5\" y=\"-14.8\" font-family=\"Times,serif\" font-size=\"14.00\">b</text>\n<polyline fill=\"none\" stroke=\"black\" points=\"334,-0.5 334,-36.5 \"/>\n<text text-anchor=\"middle\" x=\"374\" y=\"-14.8\" font-family=\"Times,serif\" font-size=\"14.00\">data 6.0000</text>\n<polyline fill=\"none\" stroke=\"black\" points=\"414,-0.5 414,-36.5 \"/>\n<text text-anchor=\"middle\" x=\"455\" y=\"-14.8\" font-family=\"Times,serif\" font-size=\"14.00\">grad 1.0000</text>\n</g>\n<!-- 134612243936688+ -->\n<g id=\"node2\" class=\"node\">\n<title>134612243936688+</title>\n<ellipse fill=\"none\" stroke=\"black\" cx=\"248\" cy=\"-18.5\" rx=\"27\" ry=\"18\"/>\n<text text-anchor=\"middle\" x=\"248\" y=\"-14.8\" font-family=\"Times,serif\" font-size=\"14.00\">+</text>\n</g>\n<!-- 134612243936688+&#45;&gt;134612243936688 -->\n<g id=\"edge1\" class=\"edge\">\n<title>134612243936688+&#45;&gt;134612243936688</title>\n<path fill=\"none\" stroke=\"black\" d=\"M275.04,-18.5C282.58,-18.5 291.3,-18.5 300.57,-18.5\"/>\n<polygon fill=\"black\" stroke=\"black\" points=\"300.81,-22 310.81,-18.5 300.81,-15 300.81,-22\"/>\n</g>\n<!-- 134612243932608 -->\n<g id=\"node3\" class=\"node\">\n<title>134612243932608</title>\n<polygon fill=\"none\" stroke=\"black\" points=\"0,-0.5 0,-36.5 185,-36.5 185,-0.5 0,-0.5\"/>\n<text text-anchor=\"middle\" x=\"11.5\" y=\"-14.8\" font-family=\"Times,serif\" font-size=\"14.00\">b</text>\n<polyline fill=\"none\" stroke=\"black\" points=\"23,-0.5 23,-36.5 \"/>\n<text text-anchor=\"middle\" x=\"63\" y=\"-14.8\" font-family=\"Times,serif\" font-size=\"14.00\">data 3.0000</text>\n<polyline fill=\"none\" stroke=\"black\" points=\"103,-0.5 103,-36.5 \"/>\n<text text-anchor=\"middle\" x=\"144\" y=\"-14.8\" font-family=\"Times,serif\" font-size=\"14.00\">grad 2.0000</text>\n</g>\n<!-- 134612243932608&#45;&gt;134612243936688+ -->\n<g id=\"edge2\" class=\"edge\">\n<title>134612243932608&#45;&gt;134612243936688+</title>\n<path fill=\"none\" stroke=\"black\" d=\"M185.01,-18.5C194.01,-18.5 202.74,-18.5 210.66,-18.5\"/>\n<polygon fill=\"black\" stroke=\"black\" points=\"210.91,-22 220.91,-18.5 210.91,-15 210.91,-22\"/>\n</g>\n</g>\n</svg>\n",
            "text/plain": [
              "<graphviz.graphs.Digraph at 0x7a6ddafb65f0>"
            ]
          },
          "metadata": {},
          "execution_count": 250
        }
      ]
    },
    {
      "cell_type": "code",
      "source": [
        "a = Value(-2.0, label='a')\n",
        "b = Value(3.0, label='b')\n",
        "d = a*b; d.label = 'd'\n",
        "e = a+b; e.label = 'e'\n",
        "f = d*e; f.label = 'f'\n",
        "f.backward()\n",
        "draw_dot(f, label)"
      ],
      "metadata": {
        "colab": {
          "base_uri": "https://localhost:8080/",
          "height": 174
        },
        "id": "-6ERlu3CS0I3",
        "outputId": "17beb6f6-2c65-464e-8ab2-3f07cf010cbf"
      },
      "execution_count": 251,
      "outputs": [
        {
          "output_type": "execute_result",
          "data": {
            "image/svg+xml": "<?xml version=\"1.0\" encoding=\"UTF-8\" standalone=\"no\"?>\n<!DOCTYPE svg PUBLIC \"-//W3C//DTD SVG 1.1//EN\"\n \"http://www.w3.org/Graphics/SVG/1.1/DTD/svg11.dtd\">\n<!-- Generated by graphviz version 2.43.0 (0)\n -->\n<!-- Title: %3 Pages: 1 -->\n<svg width=\"832pt\" height=\"100pt\"\n viewBox=\"0.00 0.00 832.00 100.00\" xmlns=\"http://www.w3.org/2000/svg\" xmlns:xlink=\"http://www.w3.org/1999/xlink\">\n<g id=\"graph0\" class=\"graph\" transform=\"scale(1 1) rotate(0) translate(4 96)\">\n<title>%3</title>\n<polygon fill=\"white\" stroke=\"transparent\" points=\"-4,4 -4,-96 828,-96 828,4 -4,4\"/>\n<!-- 134612240097840 -->\n<g id=\"node1\" class=\"node\">\n<title>134612240097840</title>\n<polygon fill=\"none\" stroke=\"black\" points=\"320,-55.5 320,-91.5 510,-91.5 510,-55.5 320,-55.5\"/>\n<text text-anchor=\"middle\" x=\"331.5\" y=\"-69.8\" font-family=\"Times,serif\" font-size=\"14.00\">d</text>\n<polyline fill=\"none\" stroke=\"black\" points=\"343,-55.5 343,-91.5 \"/>\n<text text-anchor=\"middle\" x=\"385.5\" y=\"-69.8\" font-family=\"Times,serif\" font-size=\"14.00\">data &#45;6.0000</text>\n<polyline fill=\"none\" stroke=\"black\" points=\"428,-55.5 428,-91.5 \"/>\n<text text-anchor=\"middle\" x=\"469\" y=\"-69.8\" font-family=\"Times,serif\" font-size=\"14.00\">grad 1.0000</text>\n</g>\n<!-- 134612240095680* -->\n<g id=\"node8\" class=\"node\">\n<title>134612240095680*</title>\n<ellipse fill=\"none\" stroke=\"black\" cx=\"573\" cy=\"-45.5\" rx=\"27\" ry=\"18\"/>\n<text text-anchor=\"middle\" x=\"573\" y=\"-41.8\" font-family=\"Times,serif\" font-size=\"14.00\">*</text>\n</g>\n<!-- 134612240097840&#45;&gt;134612240095680* -->\n<g id=\"edge6\" class=\"edge\">\n<title>134612240097840&#45;&gt;134612240095680*</title>\n<path fill=\"none\" stroke=\"black\" d=\"M510.34,-56.57C519.62,-54.9 528.58,-53.29 536.66,-51.84\"/>\n<polygon fill=\"black\" stroke=\"black\" points=\"537.49,-55.25 546.72,-50.04 536.26,-48.36 537.49,-55.25\"/>\n</g>\n<!-- 134612240097840* -->\n<g id=\"node2\" class=\"node\">\n<title>134612240097840*</title>\n<ellipse fill=\"none\" stroke=\"black\" cx=\"257\" cy=\"-73.5\" rx=\"27\" ry=\"18\"/>\n<text text-anchor=\"middle\" x=\"257\" y=\"-69.8\" font-family=\"Times,serif\" font-size=\"14.00\">*</text>\n</g>\n<!-- 134612240097840*&#45;&gt;134612240097840 -->\n<g id=\"edge1\" class=\"edge\">\n<title>134612240097840*&#45;&gt;134612240097840</title>\n<path fill=\"none\" stroke=\"black\" d=\"M284.11,-73.5C291.63,-73.5 300.32,-73.5 309.58,-73.5\"/>\n<polygon fill=\"black\" stroke=\"black\" points=\"309.81,-77 319.81,-73.5 309.81,-70 309.81,-77\"/>\n</g>\n<!-- 134612240103504 -->\n<g id=\"node3\" class=\"node\">\n<title>134612240103504</title>\n<polygon fill=\"none\" stroke=\"black\" points=\"320.5,-0.5 320.5,-36.5 509.5,-36.5 509.5,-0.5 320.5,-0.5\"/>\n<text text-anchor=\"middle\" x=\"332\" y=\"-14.8\" font-family=\"Times,serif\" font-size=\"14.00\">e</text>\n<polyline fill=\"none\" stroke=\"black\" points=\"343.5,-0.5 343.5,-36.5 \"/>\n<text text-anchor=\"middle\" x=\"383.5\" y=\"-14.8\" font-family=\"Times,serif\" font-size=\"14.00\">data 1.0000</text>\n<polyline fill=\"none\" stroke=\"black\" points=\"423.5,-0.5 423.5,-36.5 \"/>\n<text text-anchor=\"middle\" x=\"466.5\" y=\"-14.8\" font-family=\"Times,serif\" font-size=\"14.00\">grad &#45;6.0000</text>\n</g>\n<!-- 134612240103504&#45;&gt;134612240095680* -->\n<g id=\"edge5\" class=\"edge\">\n<title>134612240103504&#45;&gt;134612240095680*</title>\n<path fill=\"none\" stroke=\"black\" d=\"M509.9,-34.75C519.33,-36.38 528.45,-37.96 536.65,-39.38\"/>\n<polygon fill=\"black\" stroke=\"black\" points=\"536.06,-42.83 546.51,-41.09 537.26,-35.93 536.06,-42.83\"/>\n</g>\n<!-- 134612240103504+ -->\n<g id=\"node4\" class=\"node\">\n<title>134612240103504+</title>\n<ellipse fill=\"none\" stroke=\"black\" cx=\"257\" cy=\"-18.5\" rx=\"27\" ry=\"18\"/>\n<text text-anchor=\"middle\" x=\"257\" y=\"-14.8\" font-family=\"Times,serif\" font-size=\"14.00\">+</text>\n</g>\n<!-- 134612240103504+&#45;&gt;134612240103504 -->\n<g id=\"edge2\" class=\"edge\">\n<title>134612240103504+&#45;&gt;134612240103504</title>\n<path fill=\"none\" stroke=\"black\" d=\"M284.11,-18.5C291.84,-18.5 300.8,-18.5 310.35,-18.5\"/>\n<polygon fill=\"black\" stroke=\"black\" points=\"310.48,-22 320.48,-18.5 310.48,-15 310.48,-22\"/>\n</g>\n<!-- 134612243927136 -->\n<g id=\"node5\" class=\"node\">\n<title>134612243927136</title>\n<polygon fill=\"none\" stroke=\"black\" points=\"0,-55.5 0,-91.5 194,-91.5 194,-55.5 0,-55.5\"/>\n<text text-anchor=\"middle\" x=\"11.5\" y=\"-69.8\" font-family=\"Times,serif\" font-size=\"14.00\">a</text>\n<polyline fill=\"none\" stroke=\"black\" points=\"23,-55.5 23,-91.5 \"/>\n<text text-anchor=\"middle\" x=\"65.5\" y=\"-69.8\" font-family=\"Times,serif\" font-size=\"14.00\">data &#45;2.0000</text>\n<polyline fill=\"none\" stroke=\"black\" points=\"108,-55.5 108,-91.5 \"/>\n<text text-anchor=\"middle\" x=\"151\" y=\"-69.8\" font-family=\"Times,serif\" font-size=\"14.00\">grad &#45;3.0000</text>\n</g>\n<!-- 134612243927136&#45;&gt;134612240097840* -->\n<g id=\"edge9\" class=\"edge\">\n<title>134612243927136&#45;&gt;134612240097840*</title>\n<path fill=\"none\" stroke=\"black\" d=\"M194.01,-73.5C202.98,-73.5 211.65,-73.5 219.51,-73.5\"/>\n<polygon fill=\"black\" stroke=\"black\" points=\"219.7,-77 229.7,-73.5 219.7,-70 219.7,-77\"/>\n</g>\n<!-- 134612243927136&#45;&gt;134612240103504+ -->\n<g id=\"edge8\" class=\"edge\">\n<title>134612243927136&#45;&gt;134612240103504+</title>\n<path fill=\"none\" stroke=\"black\" d=\"M166.84,-55.49C176.04,-52.69 185.3,-49.67 194,-46.5 204.51,-42.67 215.73,-37.84 225.7,-33.28\"/>\n<polygon fill=\"black\" stroke=\"black\" points=\"227.23,-36.43 234.81,-29.02 224.27,-30.09 227.23,-36.43\"/>\n</g>\n<!-- 134612243924256 -->\n<g id=\"node6\" class=\"node\">\n<title>134612243924256</title>\n<polygon fill=\"none\" stroke=\"black\" points=\"2.5,-0.5 2.5,-36.5 191.5,-36.5 191.5,-0.5 2.5,-0.5\"/>\n<text text-anchor=\"middle\" x=\"14\" y=\"-14.8\" font-family=\"Times,serif\" font-size=\"14.00\">b</text>\n<polyline fill=\"none\" stroke=\"black\" points=\"25.5,-0.5 25.5,-36.5 \"/>\n<text text-anchor=\"middle\" x=\"65.5\" y=\"-14.8\" font-family=\"Times,serif\" font-size=\"14.00\">data 3.0000</text>\n<polyline fill=\"none\" stroke=\"black\" points=\"105.5,-0.5 105.5,-36.5 \"/>\n<text text-anchor=\"middle\" x=\"148.5\" y=\"-14.8\" font-family=\"Times,serif\" font-size=\"14.00\">grad &#45;8.0000</text>\n</g>\n<!-- 134612243924256&#45;&gt;134612240097840* -->\n<g id=\"edge4\" class=\"edge\">\n<title>134612243924256&#45;&gt;134612240097840*</title>\n<path fill=\"none\" stroke=\"black\" d=\"M163.94,-36.53C174.08,-39.65 184.37,-43.01 194,-46.5 204.27,-50.22 215.26,-54.8 225.09,-59.12\"/>\n<polygon fill=\"black\" stroke=\"black\" points=\"223.91,-62.43 234.47,-63.32 226.77,-56.04 223.91,-62.43\"/>\n</g>\n<!-- 134612243924256&#45;&gt;134612240103504+ -->\n<g id=\"edge7\" class=\"edge\">\n<title>134612243924256&#45;&gt;134612240103504+</title>\n<path fill=\"none\" stroke=\"black\" d=\"M191.74,-18.5C201.55,-18.5 211.04,-18.5 219.59,-18.5\"/>\n<polygon fill=\"black\" stroke=\"black\" points=\"219.87,-22 229.87,-18.5 219.87,-15 219.87,-22\"/>\n</g>\n<!-- 134612240095680 -->\n<g id=\"node7\" class=\"node\">\n<title>134612240095680</title>\n<polygon fill=\"none\" stroke=\"black\" points=\"636,-27.5 636,-63.5 824,-63.5 824,-27.5 636,-27.5\"/>\n<text text-anchor=\"middle\" x=\"646.5\" y=\"-41.8\" font-family=\"Times,serif\" font-size=\"14.00\">f</text>\n<polyline fill=\"none\" stroke=\"black\" points=\"657,-27.5 657,-63.5 \"/>\n<text text-anchor=\"middle\" x=\"699.5\" y=\"-41.8\" font-family=\"Times,serif\" font-size=\"14.00\">data &#45;6.0000</text>\n<polyline fill=\"none\" stroke=\"black\" points=\"742,-27.5 742,-63.5 \"/>\n<text text-anchor=\"middle\" x=\"783\" y=\"-41.8\" font-family=\"Times,serif\" font-size=\"14.00\">grad 1.0000</text>\n</g>\n<!-- 134612240095680*&#45;&gt;134612240095680 -->\n<g id=\"edge3\" class=\"edge\">\n<title>134612240095680*&#45;&gt;134612240095680</title>\n<path fill=\"none\" stroke=\"black\" d=\"M600.29,-45.5C607.78,-45.5 616.42,-45.5 625.6,-45.5\"/>\n<polygon fill=\"black\" stroke=\"black\" points=\"625.76,-49 635.76,-45.5 625.76,-42 625.76,-49\"/>\n</g>\n</g>\n</svg>\n",
            "text/plain": [
              "<graphviz.graphs.Digraph at 0x7a6ddac0dae0>"
            ]
          },
          "metadata": {},
          "execution_count": 251
        }
      ]
    },
    {
      "cell_type": "markdown",
      "source": [
        "### Add and multiply `Value` object with constant"
      ],
      "metadata": {
        "id": "JB-EL9G8S50Z"
      }
    },
    {
      "cell_type": "code",
      "source": [
        "class Value:\n",
        "    def __init__(self, data, _children=(), _op='', label=''):\n",
        "        self.data = data\n",
        "        self.grad = 0.0 # ⭠ Add grad\n",
        "        self._backward = lambda : None\n",
        "        self._prev = set(_children)\n",
        "        self._op = _op\n",
        "        self.label = label\n",
        "\n",
        "    def __repr__(self):\n",
        "        return f\"Value(label={self.label} data={self.data})\"\n",
        "\n",
        "    def __add__(self, other):\n",
        "        other = other if isinstance(other, Value) else Value(other)\n",
        "        out = Value(self.data + other.data, (self, other), '+')\n",
        "        def _backward():\n",
        "            self.grad += 1.0 * out.grad # <- Accumulate the gradient\n",
        "            other.grad += 1.0 * out.grad # <- Accumulate the gradient\n",
        "        out._backward = _backward\n",
        "        return out\n",
        "\n",
        "    def __radd__(self, other): # other + self\n",
        "        return self + other\n",
        "\n",
        "    def __mul__(self, other):\n",
        "        other = other if isinstance(other, Value) else Value(other)\n",
        "        out = Value(self.data * other.data, (self, other), '*')\n",
        "        def _backward():\n",
        "            self.grad += other.data * out.grad # <- Accumulate the gradient\n",
        "            other.grad += self.data * out.grad # <- Accumulate the gradient\n",
        "        out._backward = _backward\n",
        "        return out\n",
        "\n",
        "    def __rmul__(self, other): # other * self\n",
        "        return self * other\n",
        "\n",
        "    def tanh(self):\n",
        "        x = self.data\n",
        "        t = (math.exp(2*x) - 1)/(math.exp(2*x) + 1)\n",
        "        out = Value(t, (self,), 'tanh')\n",
        "\n",
        "        def _backward():\n",
        "            self.grad += (1 - t**2) * out.grad # <- Accumulate the gradient\n",
        "        out._backward = _backward\n",
        "        return out\n",
        "\n",
        "    def backward(self):\n",
        "        topo = []\n",
        "        visited = set()\n",
        "        def build_topo(v):\n",
        "            if v not in visited:\n",
        "                visited.add(v)\n",
        "                for child in v._prev:\n",
        "                    build_topo(child)\n",
        "                topo.append(v)\n",
        "        build_topo(self)\n",
        "\n",
        "        self.grad = 1.0\n",
        "        for node in reversed(topo):\n",
        "            node._backward()"
      ],
      "metadata": {
        "id": "PXKCw1sxS7Nq"
      },
      "execution_count": 252,
      "outputs": []
    },
    {
      "cell_type": "code",
      "source": [
        "a = Value(2.0); a + 1"
      ],
      "metadata": {
        "colab": {
          "base_uri": "https://localhost:8080/"
        },
        "id": "_JicxQpdS_cc",
        "outputId": "ec4112a5-4bd1-493f-b454-fdd77bb44924"
      },
      "execution_count": 253,
      "outputs": [
        {
          "output_type": "execute_result",
          "data": {
            "text/plain": [
              "Value(label= data=3.0)"
            ]
          },
          "metadata": {},
          "execution_count": 253
        }
      ]
    },
    {
      "cell_type": "code",
      "source": [
        "a = Value(2.0); a * 1"
      ],
      "metadata": {
        "colab": {
          "base_uri": "https://localhost:8080/"
        },
        "id": "Mygrc97ITCwL",
        "outputId": "a2f37e74-4ce5-4966-93d8-f11f40177735"
      },
      "execution_count": 254,
      "outputs": [
        {
          "output_type": "execute_result",
          "data": {
            "text/plain": [
              "Value(label= data=2.0)"
            ]
          },
          "metadata": {},
          "execution_count": 254
        }
      ]
    },
    {
      "cell_type": "code",
      "source": [
        "2 * a"
      ],
      "metadata": {
        "colab": {
          "base_uri": "https://localhost:8080/"
        },
        "id": "ighwybFhTGBT",
        "outputId": "956d132f-ca01-46eb-eb0e-d25a08afe26f"
      },
      "execution_count": 255,
      "outputs": [
        {
          "output_type": "execute_result",
          "data": {
            "text/plain": [
              "Value(label= data=4.0)"
            ]
          },
          "metadata": {},
          "execution_count": 255
        }
      ]
    },
    {
      "cell_type": "code",
      "source": [
        "2 + a"
      ],
      "metadata": {
        "colab": {
          "base_uri": "https://localhost:8080/"
        },
        "id": "DbYkKPzqTMTD",
        "outputId": "a07df223-39fa-4d17-af33-757ee678673a"
      },
      "execution_count": 256,
      "outputs": [
        {
          "output_type": "execute_result",
          "data": {
            "text/plain": [
              "Value(label= data=4.0)"
            ]
          },
          "metadata": {},
          "execution_count": 256
        }
      ]
    },
    {
      "cell_type": "markdown",
      "source": [
        "### Implement `tanh`"
      ],
      "metadata": {
        "id": "mn8A5PCSTN5b"
      }
    },
    {
      "cell_type": "code",
      "source": [
        "class Value:\n",
        "    def __init__(self, data, _children=(), _op='', label=''):\n",
        "        self.data = data\n",
        "        self.grad = 0.0 # ⭠ Add grad\n",
        "        self._backward = lambda : None\n",
        "        self._prev = set(_children)\n",
        "        self._op = _op\n",
        "        self.label = label\n",
        "\n",
        "    def __repr__(self):\n",
        "        return f\"Value(label={self.label} data={self.data})\"\n",
        "\n",
        "    def __add__(self, other):\n",
        "        other = other if isinstance(other, Value) else Value(other)\n",
        "        out = Value(self.data + other.data, (self, other), '+')\n",
        "        def _backward():\n",
        "            self.grad += 1.0 * out.grad # <- Accumulate the gradient\n",
        "            other.grad += 1.0 * out.grad # <- Accumulate the gradient\n",
        "        out._backward = _backward\n",
        "        return out\n",
        "\n",
        "    def __radd__(self, other): # other + self\n",
        "        return self + other\n",
        "\n",
        "    def __mul__(self, other):\n",
        "        other = other if isinstance(other, Value) else Value(other)\n",
        "        out = Value(self.data * other.data, (self, other), '*')\n",
        "        def _backward():\n",
        "            self.grad += other.data * out.grad # <- Accumulate the gradient\n",
        "            other.grad += self.data * out.grad # <- Accumulate the gradient\n",
        "        out._backward = _backward\n",
        "        return out\n",
        "\n",
        "    def __rmul__(self, other): # other * self\n",
        "        return self * other\n",
        "\n",
        "    def __pow__(self, other):\n",
        "        assert isinstance(other, (int, float)), \"only supporting int/float powers for now\"\n",
        "        out = Value(self.data ** other, (self,), f'**{other}')\n",
        "\n",
        "        def _backward():\n",
        "            self.grad += other * (self.data ** (other - 1)) * out.grad\n",
        "        out._backward = _backward\n",
        "\n",
        "        return out\n",
        "\n",
        "\n",
        "    def exp(self):\n",
        "        x = self.data\n",
        "        out = Value(math.exp(x), (self,), 'exp')\n",
        "\n",
        "        def _backward():\n",
        "            self.grad += out.data * out.grad\n",
        "        out._backward = _backward\n",
        "        return out\n",
        "\n",
        "    def __truediv__(self, other): # self / other\n",
        "        return self * other**-1\n",
        "\n",
        "    def tanh(self):\n",
        "        x = self.data\n",
        "        t = (math.exp(2*x) - 1)/(math.exp(2*x) + 1)\n",
        "        out = Value(t, (self,), 'tanh')\n",
        "\n",
        "        def _backward():\n",
        "            self.grad += (1 - t**2) * out.grad # <- Accumulate the gradient\n",
        "        out._backward = _backward\n",
        "        return out\n",
        "\n",
        "    def __neg__(self): #-self\n",
        "        return -self\n",
        "\n",
        "    def __sub__(self, other): # self - other\n",
        "        return self + (-other)\n",
        "\n",
        "    def backward(self):\n",
        "        topo = []\n",
        "        visited = set()\n",
        "        def build_topo(v):\n",
        "            if v not in visited:\n",
        "                visited.add(v)\n",
        "                for child in v._prev:\n",
        "                    build_topo(child)\n",
        "                topo.append(v)\n",
        "        build_topo(self)\n",
        "\n",
        "        self.grad = 1.0\n",
        "        for node in reversed(topo):\n",
        "            node._backward()"
      ],
      "metadata": {
        "id": "IWKejVO7TVan"
      },
      "execution_count": 257,
      "outputs": []
    },
    {
      "cell_type": "code",
      "source": [
        "a = Value(2.0)"
      ],
      "metadata": {
        "id": "jKvt8J9pTgMG"
      },
      "execution_count": 258,
      "outputs": []
    },
    {
      "cell_type": "code",
      "source": [
        "a.exp()"
      ],
      "metadata": {
        "colab": {
          "base_uri": "https://localhost:8080/"
        },
        "id": "R9qPEwnyTiGX",
        "outputId": "fd0a1b17-6165-421d-bde0-ff2c00ffee99"
      },
      "execution_count": 259,
      "outputs": [
        {
          "output_type": "execute_result",
          "data": {
            "text/plain": [
              "Value(label= data=7.38905609893065)"
            ]
          },
          "metadata": {},
          "execution_count": 259
        }
      ]
    },
    {
      "cell_type": "code",
      "source": [
        "b = Value(3.0)"
      ],
      "metadata": {
        "id": "Wc0ODspRTmF6"
      },
      "execution_count": 260,
      "outputs": []
    },
    {
      "cell_type": "code",
      "source": [
        "a/b"
      ],
      "metadata": {
        "colab": {
          "base_uri": "https://localhost:8080/"
        },
        "id": "VRgwvEJRTprn",
        "outputId": "25c9dd9b-efdd-4204-c4aa-6695164c0dc5"
      },
      "execution_count": 261,
      "outputs": [
        {
          "output_type": "execute_result",
          "data": {
            "text/plain": [
              "Value(label= data=0.6666666666666666)"
            ]
          },
          "metadata": {},
          "execution_count": 261
        }
      ]
    },
    {
      "cell_type": "code",
      "source": [
        "a **4"
      ],
      "metadata": {
        "colab": {
          "base_uri": "https://localhost:8080/"
        },
        "id": "Wa96zlcNTs_Z",
        "outputId": "363bd2d9-085c-4fdd-cb60-02aee8771414"
      },
      "execution_count": 262,
      "outputs": [
        {
          "output_type": "execute_result",
          "data": {
            "text/plain": [
              "Value(label= data=16.0)"
            ]
          },
          "metadata": {},
          "execution_count": 262
        }
      ]
    },
    {
      "cell_type": "code",
      "source": [
        "a - 1"
      ],
      "metadata": {
        "colab": {
          "base_uri": "https://localhost:8080/"
        },
        "id": "V9jMgJ8eTwEP",
        "outputId": "38363ec0-8def-45d9-f1d8-fd2f1fc341b1"
      },
      "execution_count": 263,
      "outputs": [
        {
          "output_type": "execute_result",
          "data": {
            "text/plain": [
              "Value(label= data=1.0)"
            ]
          },
          "metadata": {},
          "execution_count": 263
        }
      ]
    },
    {
      "cell_type": "code",
      "source": [
        "x1 = Value(2.0, label='x1')\n",
        "x2 = Value(0.0, label='x2')\n",
        "\n",
        "w1 = Value(-3.0, label='w1')\n",
        "w2 = Value(1.0, label='w2')\n",
        "\n",
        "b = Value(6.8813735870195432, label='b')\n",
        "\n",
        "x1w1 = x1*w1; x1w1.label='x1*w1'\n",
        "x2w2 = x2*w2; x2w2.label='x2*w2'\n",
        "x1w1x2w2 = x1w1 + x2w2; x1w1x2w2.label='x1*w1 + x2*w2'\n",
        "n = x1w1x2w2 + b; n.label='n'\n",
        "# -----\n",
        "e = (2*n).exp()\n",
        "o = (e - 1)/(e + 1)\n",
        "# -----\n",
        "o.label = 'o'\n",
        "o.backward()\n",
        "draw_dot(o, label)"
      ],
      "metadata": {
        "colab": {
          "base_uri": "https://localhost:8080/",
          "height": 356
        },
        "id": "hUq26rKqT1Nv",
        "outputId": "4814d5d3-e878-4fd0-a1fd-91e6255b27a4"
      },
      "execution_count": 264,
      "outputs": [
        {
          "output_type": "execute_result",
          "data": {
            "image/svg+xml": "<?xml version=\"1.0\" encoding=\"UTF-8\" standalone=\"no\"?>\n<!DOCTYPE svg PUBLIC \"-//W3C//DTD SVG 1.1//EN\"\n \"http://www.w3.org/Graphics/SVG/1.1/DTD/svg11.dtd\">\n<!-- Generated by graphviz version 2.43.0 (0)\n -->\n<!-- Title: %3 Pages: 1 -->\n<svg width=\"2944pt\" height=\"236pt\"\n viewBox=\"0.00 0.00 2944.00 236.00\" xmlns=\"http://www.w3.org/2000/svg\" xmlns:xlink=\"http://www.w3.org/1999/xlink\">\n<g id=\"graph0\" class=\"graph\" transform=\"scale(1 1) rotate(0) translate(4 232)\">\n<title>%3</title>\n<polygon fill=\"white\" stroke=\"transparent\" points=\"-4,4 -4,-232 2940,-232 2940,4 -4,4\"/>\n<!-- 134612240513536 -->\n<g id=\"node1\" class=\"node\">\n<title>134612240513536</title>\n<polygon fill=\"none\" stroke=\"black\" points=\"2225,-163.5 2225,-199.5 2407,-199.5 2407,-163.5 2225,-163.5\"/>\n<text text-anchor=\"middle\" x=\"2235\" y=\"-177.8\" font-family=\"Times,serif\" font-size=\"14.00\"> </text>\n<polyline fill=\"none\" stroke=\"black\" points=\"2245,-163.5 2245,-199.5 \"/>\n<text text-anchor=\"middle\" x=\"2285\" y=\"-177.8\" font-family=\"Times,serif\" font-size=\"14.00\">data 4.8284</text>\n<polyline fill=\"none\" stroke=\"black\" points=\"2325,-163.5 2325,-199.5 \"/>\n<text text-anchor=\"middle\" x=\"2366\" y=\"-177.8\" font-family=\"Times,serif\" font-size=\"14.00\">grad 0.1464</text>\n</g>\n<!-- 134612240503504* -->\n<g id=\"node8\" class=\"node\">\n<title>134612240503504*</title>\n<ellipse fill=\"none\" stroke=\"black\" cx=\"2688\" cy=\"-153.5\" rx=\"27\" ry=\"18\"/>\n<text text-anchor=\"middle\" x=\"2688\" y=\"-149.8\" font-family=\"Times,serif\" font-size=\"14.00\">*</text>\n</g>\n<!-- 134612240513536&#45;&gt;134612240503504* -->\n<g id=\"edge13\" class=\"edge\">\n<title>134612240513536&#45;&gt;134612240503504*</title>\n<path fill=\"none\" stroke=\"black\" d=\"M2407.31,-174.9C2468.7,-170.37 2551.76,-164.19 2625,-158.5 2633.42,-157.85 2642.48,-157.13 2651.01,-156.44\"/>\n<polygon fill=\"black\" stroke=\"black\" points=\"2651.37,-159.92 2661.06,-155.63 2650.81,-152.94 2651.37,-159.92\"/>\n</g>\n<!-- 134612240513536+ -->\n<g id=\"node2\" class=\"node\">\n<title>134612240513536+</title>\n<ellipse fill=\"none\" stroke=\"black\" cx=\"1940\" cy=\"-181.5\" rx=\"27\" ry=\"18\"/>\n<text text-anchor=\"middle\" x=\"1940\" y=\"-177.8\" font-family=\"Times,serif\" font-size=\"14.00\">+</text>\n</g>\n<!-- 134612240513536+&#45;&gt;134612240513536 -->\n<g id=\"edge1\" class=\"edge\">\n<title>134612240513536+&#45;&gt;134612240513536</title>\n<path fill=\"none\" stroke=\"black\" d=\"M1967,-181.5C2017.46,-181.5 2131.06,-181.5 2214.81,-181.5\"/>\n<polygon fill=\"black\" stroke=\"black\" points=\"2214.87,-185 2224.87,-181.5 2214.87,-178 2214.87,-185\"/>\n</g>\n<!-- 134612240511520 -->\n<g id=\"node3\" class=\"node\">\n<title>134612240511520</title>\n<polygon fill=\"none\" stroke=\"black\" points=\"1692.5,-136.5 1692.5,-172.5 1874.5,-172.5 1874.5,-136.5 1692.5,-136.5\"/>\n<text text-anchor=\"middle\" x=\"1702.5\" y=\"-150.8\" font-family=\"Times,serif\" font-size=\"14.00\"> </text>\n<polyline fill=\"none\" stroke=\"black\" points=\"1712.5,-136.5 1712.5,-172.5 \"/>\n<text text-anchor=\"middle\" x=\"1752.5\" y=\"-150.8\" font-family=\"Times,serif\" font-size=\"14.00\">data 5.8284</text>\n<polyline fill=\"none\" stroke=\"black\" points=\"1792.5,-136.5 1792.5,-172.5 \"/>\n<text text-anchor=\"middle\" x=\"1833.5\" y=\"-150.8\" font-family=\"Times,serif\" font-size=\"14.00\">grad 0.0429</text>\n</g>\n<!-- 134612240511520&#45;&gt;134612240513536+ -->\n<g id=\"edge23\" class=\"edge\">\n<title>134612240511520&#45;&gt;134612240513536+</title>\n<path fill=\"none\" stroke=\"black\" d=\"M1874.82,-170.28C1885.07,-172.08 1895.01,-173.81 1903.88,-175.36\"/>\n<polygon fill=\"black\" stroke=\"black\" points=\"1903.3,-178.81 1913.75,-177.09 1904.5,-171.92 1903.3,-178.81\"/>\n</g>\n<!-- 134612240514976+ -->\n<g id=\"node25\" class=\"node\">\n<title>134612240514976+</title>\n<ellipse fill=\"none\" stroke=\"black\" cx=\"1940\" cy=\"-126.5\" rx=\"27\" ry=\"18\"/>\n<text text-anchor=\"middle\" x=\"1940\" y=\"-122.8\" font-family=\"Times,serif\" font-size=\"14.00\">+</text>\n</g>\n<!-- 134612240511520&#45;&gt;134612240514976+ -->\n<g id=\"edge25\" class=\"edge\">\n<title>134612240511520&#45;&gt;134612240514976+</title>\n<path fill=\"none\" stroke=\"black\" d=\"M1874.82,-138.13C1885.07,-136.27 1895.01,-134.47 1903.88,-132.87\"/>\n<polygon fill=\"black\" stroke=\"black\" points=\"1904.54,-136.3 1913.75,-131.08 1903.29,-129.42 1904.54,-136.3\"/>\n</g>\n<!-- 134612240511520exp -->\n<g id=\"node4\" class=\"node\">\n<title>134612240511520exp</title>\n<ellipse fill=\"none\" stroke=\"black\" cx=\"1627\" cy=\"-154.5\" rx=\"27\" ry=\"18\"/>\n<text text-anchor=\"middle\" x=\"1627\" y=\"-150.8\" font-family=\"Times,serif\" font-size=\"14.00\">exp</text>\n</g>\n<!-- 134612240511520exp&#45;&gt;134612240511520 -->\n<g id=\"edge2\" class=\"edge\">\n<title>134612240511520exp&#45;&gt;134612240511520</title>\n<path fill=\"none\" stroke=\"black\" d=\"M1654.21,-154.5C1662.34,-154.5 1671.85,-154.5 1681.94,-154.5\"/>\n<polygon fill=\"black\" stroke=\"black\" points=\"1682.19,-158 1692.19,-154.5 1682.19,-151 1682.19,-158\"/>\n</g>\n<!-- 134612240500912 -->\n<g id=\"node5\" class=\"node\">\n<title>134612240500912</title>\n<polygon fill=\"none\" stroke=\"black\" points=\"716,-137.5 716,-173.5 901,-173.5 901,-137.5 716,-137.5\"/>\n<text text-anchor=\"middle\" x=\"727.5\" y=\"-151.8\" font-family=\"Times,serif\" font-size=\"14.00\">b</text>\n<polyline fill=\"none\" stroke=\"black\" points=\"739,-137.5 739,-173.5 \"/>\n<text text-anchor=\"middle\" x=\"779\" y=\"-151.8\" font-family=\"Times,serif\" font-size=\"14.00\">data 6.8814</text>\n<polyline fill=\"none\" stroke=\"black\" points=\"819,-137.5 819,-173.5 \"/>\n<text text-anchor=\"middle\" x=\"860\" y=\"-151.8\" font-family=\"Times,serif\" font-size=\"14.00\">grad 0.5000</text>\n</g>\n<!-- 134612240507632+ -->\n<g id=\"node12\" class=\"node\">\n<title>134612240507632+</title>\n<ellipse fill=\"none\" stroke=\"black\" cx=\"1008\" cy=\"-127.5\" rx=\"27\" ry=\"18\"/>\n<text text-anchor=\"middle\" x=\"1008\" y=\"-123.8\" font-family=\"Times,serif\" font-size=\"14.00\">+</text>\n</g>\n<!-- 134612240500912&#45;&gt;134612240507632+ -->\n<g id=\"edge17\" class=\"edge\">\n<title>134612240500912&#45;&gt;134612240507632+</title>\n<path fill=\"none\" stroke=\"black\" d=\"M901.02,-142.52C926,-138.98 951.59,-135.36 971.37,-132.55\"/>\n<polygon fill=\"black\" stroke=\"black\" points=\"972.03,-135.99 981.43,-131.12 971.04,-129.06 972.03,-135.99\"/>\n</g>\n<!-- 134612240504512 -->\n<g id=\"node6\" class=\"node\">\n<title>134612240504512</title>\n<polygon fill=\"none\" stroke=\"black\" points=\"1072.5,-164.5 1072.5,-200.5 1254.5,-200.5 1254.5,-164.5 1072.5,-164.5\"/>\n<text text-anchor=\"middle\" x=\"1082.5\" y=\"-178.8\" font-family=\"Times,serif\" font-size=\"14.00\"> </text>\n<polyline fill=\"none\" stroke=\"black\" points=\"1092.5,-164.5 1092.5,-200.5 \"/>\n<text text-anchor=\"middle\" x=\"1132.5\" y=\"-178.8\" font-family=\"Times,serif\" font-size=\"14.00\">data 2.0000</text>\n<polyline fill=\"none\" stroke=\"black\" points=\"1172.5,-164.5 1172.5,-200.5 \"/>\n<text text-anchor=\"middle\" x=\"1213.5\" y=\"-178.8\" font-family=\"Times,serif\" font-size=\"14.00\">grad 0.2203</text>\n</g>\n<!-- 134612240511184* -->\n<g id=\"node10\" class=\"node\">\n<title>134612240511184*</title>\n<ellipse fill=\"none\" stroke=\"black\" cx=\"1319\" cy=\"-154.5\" rx=\"27\" ry=\"18\"/>\n<text text-anchor=\"middle\" x=\"1319\" y=\"-150.8\" font-family=\"Times,serif\" font-size=\"14.00\">*</text>\n</g>\n<!-- 134612240504512&#45;&gt;134612240511184* -->\n<g id=\"edge19\" class=\"edge\">\n<title>134612240504512&#45;&gt;134612240511184*</title>\n<path fill=\"none\" stroke=\"black\" d=\"M1254.68,-166.05C1264.61,-164.24 1274.23,-162.48 1282.84,-160.91\"/>\n<polygon fill=\"black\" stroke=\"black\" points=\"1283.6,-164.33 1292.81,-159.09 1282.35,-157.45 1283.6,-164.33\"/>\n</g>\n<!-- 134612240503504 -->\n<g id=\"node7\" class=\"node\">\n<title>134612240503504</title>\n<polygon fill=\"none\" stroke=\"black\" points=\"2751,-135.5 2751,-171.5 2936,-171.5 2936,-135.5 2751,-135.5\"/>\n<text text-anchor=\"middle\" x=\"2762.5\" y=\"-149.8\" font-family=\"Times,serif\" font-size=\"14.00\">o</text>\n<polyline fill=\"none\" stroke=\"black\" points=\"2774,-135.5 2774,-171.5 \"/>\n<text text-anchor=\"middle\" x=\"2814\" y=\"-149.8\" font-family=\"Times,serif\" font-size=\"14.00\">data 0.7071</text>\n<polyline fill=\"none\" stroke=\"black\" points=\"2854,-135.5 2854,-171.5 \"/>\n<text text-anchor=\"middle\" x=\"2895\" y=\"-149.8\" font-family=\"Times,serif\" font-size=\"14.00\">grad 1.0000</text>\n</g>\n<!-- 134612240503504*&#45;&gt;134612240503504 -->\n<g id=\"edge3\" class=\"edge\">\n<title>134612240503504*&#45;&gt;134612240503504</title>\n<path fill=\"none\" stroke=\"black\" d=\"M2715.04,-153.5C2722.58,-153.5 2731.3,-153.5 2740.57,-153.5\"/>\n<polygon fill=\"black\" stroke=\"black\" points=\"2740.81,-157 2750.81,-153.5 2740.81,-150 2740.81,-157\"/>\n</g>\n<!-- 134612240511184 -->\n<g id=\"node9\" class=\"node\">\n<title>134612240511184</title>\n<polygon fill=\"none\" stroke=\"black\" points=\"1382,-136.5 1382,-172.5 1564,-172.5 1564,-136.5 1382,-136.5\"/>\n<text text-anchor=\"middle\" x=\"1392\" y=\"-150.8\" font-family=\"Times,serif\" font-size=\"14.00\"> </text>\n<polyline fill=\"none\" stroke=\"black\" points=\"1402,-136.5 1402,-172.5 \"/>\n<text text-anchor=\"middle\" x=\"1442\" y=\"-150.8\" font-family=\"Times,serif\" font-size=\"14.00\">data 1.7627</text>\n<polyline fill=\"none\" stroke=\"black\" points=\"1482,-136.5 1482,-172.5 \"/>\n<text text-anchor=\"middle\" x=\"1523\" y=\"-150.8\" font-family=\"Times,serif\" font-size=\"14.00\">grad 0.2500</text>\n</g>\n<!-- 134612240511184&#45;&gt;134612240511520exp -->\n<g id=\"edge28\" class=\"edge\">\n<title>134612240511184&#45;&gt;134612240511520exp</title>\n<path fill=\"none\" stroke=\"black\" d=\"M1564.18,-154.5C1573.14,-154.5 1581.83,-154.5 1589.73,-154.5\"/>\n<polygon fill=\"black\" stroke=\"black\" points=\"1589.96,-158 1599.96,-154.5 1589.96,-151 1589.96,-158\"/>\n</g>\n<!-- 134612240511184*&#45;&gt;134612240511184 -->\n<g id=\"edge4\" class=\"edge\">\n<title>134612240511184*&#45;&gt;134612240511184</title>\n<path fill=\"none\" stroke=\"black\" d=\"M1346.13,-154.5C1353.67,-154.5 1362.39,-154.5 1371.64,-154.5\"/>\n<polygon fill=\"black\" stroke=\"black\" points=\"1371.87,-158 1381.87,-154.5 1371.87,-151 1371.87,-158\"/>\n</g>\n<!-- 134612240507632 -->\n<g id=\"node11\" class=\"node\">\n<title>134612240507632</title>\n<polygon fill=\"none\" stroke=\"black\" points=\"1071,-109.5 1071,-145.5 1256,-145.5 1256,-109.5 1071,-109.5\"/>\n<text text-anchor=\"middle\" x=\"1082.5\" y=\"-123.8\" font-family=\"Times,serif\" font-size=\"14.00\">n</text>\n<polyline fill=\"none\" stroke=\"black\" points=\"1094,-109.5 1094,-145.5 \"/>\n<text text-anchor=\"middle\" x=\"1134\" y=\"-123.8\" font-family=\"Times,serif\" font-size=\"14.00\">data 0.8814</text>\n<polyline fill=\"none\" stroke=\"black\" points=\"1174,-109.5 1174,-145.5 \"/>\n<text text-anchor=\"middle\" x=\"1215\" y=\"-123.8\" font-family=\"Times,serif\" font-size=\"14.00\">grad 0.5000</text>\n</g>\n<!-- 134612240507632&#45;&gt;134612240511184* -->\n<g id=\"edge14\" class=\"edge\">\n<title>134612240507632&#45;&gt;134612240511184*</title>\n<path fill=\"none\" stroke=\"black\" d=\"M1256.01,-143.6C1265.49,-145.26 1274.66,-146.88 1282.9,-148.33\"/>\n<polygon fill=\"black\" stroke=\"black\" points=\"1282.36,-151.78 1292.81,-150.07 1283.57,-144.89 1282.36,-151.78\"/>\n</g>\n<!-- 134612240507632+&#45;&gt;134612240507632 -->\n<g id=\"edge5\" class=\"edge\">\n<title>134612240507632+&#45;&gt;134612240507632</title>\n<path fill=\"none\" stroke=\"black\" d=\"M1035.04,-127.5C1042.58,-127.5 1051.3,-127.5 1060.57,-127.5\"/>\n<polygon fill=\"black\" stroke=\"black\" points=\"1060.81,-131 1070.81,-127.5 1060.81,-124 1060.81,-131\"/>\n</g>\n<!-- 134612240502496 -->\n<g id=\"node13\" class=\"node\">\n<title>134612240502496</title>\n<polygon fill=\"none\" stroke=\"black\" points=\"4,-55.5 4,-91.5 196,-91.5 196,-55.5 4,-55.5\"/>\n<text text-anchor=\"middle\" x=\"19\" y=\"-69.8\" font-family=\"Times,serif\" font-size=\"14.00\">x2</text>\n<polyline fill=\"none\" stroke=\"black\" points=\"34,-55.5 34,-91.5 \"/>\n<text text-anchor=\"middle\" x=\"74\" y=\"-69.8\" font-family=\"Times,serif\" font-size=\"14.00\">data 0.0000</text>\n<polyline fill=\"none\" stroke=\"black\" points=\"114,-55.5 114,-91.5 \"/>\n<text text-anchor=\"middle\" x=\"155\" y=\"-69.8\" font-family=\"Times,serif\" font-size=\"14.00\">grad 0.5000</text>\n</g>\n<!-- 134612240507200* -->\n<g id=\"node19\" class=\"node\">\n<title>134612240507200*</title>\n<ellipse fill=\"none\" stroke=\"black\" cx=\"263\" cy=\"-73.5\" rx=\"27\" ry=\"18\"/>\n<text text-anchor=\"middle\" x=\"263\" y=\"-69.8\" font-family=\"Times,serif\" font-size=\"14.00\">*</text>\n</g>\n<!-- 134612240502496&#45;&gt;134612240507200* -->\n<g id=\"edge11\" class=\"edge\">\n<title>134612240502496&#45;&gt;134612240507200*</title>\n<path fill=\"none\" stroke=\"black\" d=\"M196.05,-73.5C206.52,-73.5 216.65,-73.5 225.71,-73.5\"/>\n<polygon fill=\"black\" stroke=\"black\" points=\"225.79,-77 235.79,-73.5 225.79,-70 225.79,-77\"/>\n</g>\n<!-- 134612240505040 -->\n<g id=\"node14\" class=\"node\">\n<title>134612240505040</title>\n<polygon fill=\"none\" stroke=\"black\" points=\"326,-110.5 326,-146.5 546,-146.5 546,-110.5 326,-110.5\"/>\n<text text-anchor=\"middle\" x=\"352.5\" y=\"-124.8\" font-family=\"Times,serif\" font-size=\"14.00\">x1*w1</text>\n<polyline fill=\"none\" stroke=\"black\" points=\"379,-110.5 379,-146.5 \"/>\n<text text-anchor=\"middle\" x=\"421.5\" y=\"-124.8\" font-family=\"Times,serif\" font-size=\"14.00\">data &#45;6.0000</text>\n<polyline fill=\"none\" stroke=\"black\" points=\"464,-110.5 464,-146.5 \"/>\n<text text-anchor=\"middle\" x=\"505\" y=\"-124.8\" font-family=\"Times,serif\" font-size=\"14.00\">grad 0.5000</text>\n</g>\n<!-- 134612240507344+ -->\n<g id=\"node27\" class=\"node\">\n<title>134612240507344+</title>\n<ellipse fill=\"none\" stroke=\"black\" cx=\"609\" cy=\"-100.5\" rx=\"27\" ry=\"18\"/>\n<text text-anchor=\"middle\" x=\"609\" y=\"-96.8\" font-family=\"Times,serif\" font-size=\"14.00\">+</text>\n</g>\n<!-- 134612240505040&#45;&gt;134612240507344+ -->\n<g id=\"edge12\" class=\"edge\">\n<title>134612240505040&#45;&gt;134612240507344+</title>\n<path fill=\"none\" stroke=\"black\" d=\"M546.27,-110.61C555.64,-109.07 564.6,-107.61 572.65,-106.29\"/>\n<polygon fill=\"black\" stroke=\"black\" points=\"573.35,-109.72 582.65,-104.65 572.22,-102.81 573.35,-109.72\"/>\n</g>\n<!-- 134612240505040* -->\n<g id=\"node15\" class=\"node\">\n<title>134612240505040*</title>\n<ellipse fill=\"none\" stroke=\"black\" cx=\"263\" cy=\"-128.5\" rx=\"27\" ry=\"18\"/>\n<text text-anchor=\"middle\" x=\"263\" y=\"-124.8\" font-family=\"Times,serif\" font-size=\"14.00\">*</text>\n</g>\n<!-- 134612240505040*&#45;&gt;134612240505040 -->\n<g id=\"edge6\" class=\"edge\">\n<title>134612240505040*&#45;&gt;134612240505040</title>\n<path fill=\"none\" stroke=\"black\" d=\"M290.34,-128.5C297.77,-128.5 306.37,-128.5 315.6,-128.5\"/>\n<polygon fill=\"black\" stroke=\"black\" points=\"315.84,-132 325.84,-128.5 315.84,-125 315.84,-132\"/>\n</g>\n<!-- 134612240500480 -->\n<g id=\"node16\" class=\"node\">\n<title>134612240500480</title>\n<polygon fill=\"none\" stroke=\"black\" points=\"0,-165.5 0,-201.5 200,-201.5 200,-165.5 0,-165.5\"/>\n<text text-anchor=\"middle\" x=\"16.5\" y=\"-179.8\" font-family=\"Times,serif\" font-size=\"14.00\">w1</text>\n<polyline fill=\"none\" stroke=\"black\" points=\"33,-165.5 33,-201.5 \"/>\n<text text-anchor=\"middle\" x=\"75.5\" y=\"-179.8\" font-family=\"Times,serif\" font-size=\"14.00\">data &#45;3.0000</text>\n<polyline fill=\"none\" stroke=\"black\" points=\"118,-165.5 118,-201.5 \"/>\n<text text-anchor=\"middle\" x=\"159\" y=\"-179.8\" font-family=\"Times,serif\" font-size=\"14.00\">grad 1.0000</text>\n</g>\n<!-- 134612240500480&#45;&gt;134612240505040* -->\n<g id=\"edge20\" class=\"edge\">\n<title>134612240500480&#45;&gt;134612240505040*</title>\n<path fill=\"none\" stroke=\"black\" d=\"M172.53,-165.44C181.84,-162.67 191.2,-159.67 200,-156.5 210.53,-152.71 221.75,-147.9 231.72,-143.33\"/>\n<polygon fill=\"black\" stroke=\"black\" points=\"233.25,-146.48 240.82,-139.07 230.28,-140.14 233.25,-146.48\"/>\n</g>\n<!-- 134612240500528 -->\n<g id=\"node17\" class=\"node\">\n<title>134612240500528</title>\n<polygon fill=\"none\" stroke=\"black\" points=\"2,-110.5 2,-146.5 198,-146.5 198,-110.5 2,-110.5\"/>\n<text text-anchor=\"middle\" x=\"17\" y=\"-124.8\" font-family=\"Times,serif\" font-size=\"14.00\">x1</text>\n<polyline fill=\"none\" stroke=\"black\" points=\"32,-110.5 32,-146.5 \"/>\n<text text-anchor=\"middle\" x=\"72\" y=\"-124.8\" font-family=\"Times,serif\" font-size=\"14.00\">data 2.0000</text>\n<polyline fill=\"none\" stroke=\"black\" points=\"112,-110.5 112,-146.5 \"/>\n<text text-anchor=\"middle\" x=\"155\" y=\"-124.8\" font-family=\"Times,serif\" font-size=\"14.00\">grad &#45;1.5000</text>\n</g>\n<!-- 134612240500528&#45;&gt;134612240505040* -->\n<g id=\"edge27\" class=\"edge\">\n<title>134612240500528&#45;&gt;134612240505040*</title>\n<path fill=\"none\" stroke=\"black\" d=\"M198.37,-128.5C208.05,-128.5 217.4,-128.5 225.8,-128.5\"/>\n<polygon fill=\"black\" stroke=\"black\" points=\"225.91,-132 235.91,-128.5 225.91,-125 225.91,-132\"/>\n</g>\n<!-- 134612240507200 -->\n<g id=\"node18\" class=\"node\">\n<title>134612240507200</title>\n<polygon fill=\"none\" stroke=\"black\" points=\"328.5,-55.5 328.5,-91.5 543.5,-91.5 543.5,-55.5 328.5,-55.5\"/>\n<text text-anchor=\"middle\" x=\"355\" y=\"-69.8\" font-family=\"Times,serif\" font-size=\"14.00\">x2*w2</text>\n<polyline fill=\"none\" stroke=\"black\" points=\"381.5,-55.5 381.5,-91.5 \"/>\n<text text-anchor=\"middle\" x=\"421.5\" y=\"-69.8\" font-family=\"Times,serif\" font-size=\"14.00\">data 0.0000</text>\n<polyline fill=\"none\" stroke=\"black\" points=\"461.5,-55.5 461.5,-91.5 \"/>\n<text text-anchor=\"middle\" x=\"502.5\" y=\"-69.8\" font-family=\"Times,serif\" font-size=\"14.00\">grad 0.5000</text>\n</g>\n<!-- 134612240507200&#45;&gt;134612240507344+ -->\n<g id=\"edge26\" class=\"edge\">\n<title>134612240507200&#45;&gt;134612240507344+</title>\n<path fill=\"none\" stroke=\"black\" d=\"M543.84,-90.37C554.01,-91.98 563.76,-93.51 572.44,-94.89\"/>\n<polygon fill=\"black\" stroke=\"black\" points=\"572.05,-98.37 582.47,-96.47 573.14,-91.45 572.05,-98.37\"/>\n</g>\n<!-- 134612240507200*&#45;&gt;134612240507200 -->\n<g id=\"edge7\" class=\"edge\">\n<title>134612240507200*&#45;&gt;134612240507200</title>\n<path fill=\"none\" stroke=\"black\" d=\"M290.34,-73.5C298.51,-73.5 308.08,-73.5 318.36,-73.5\"/>\n<polygon fill=\"black\" stroke=\"black\" points=\"318.39,-77 328.39,-73.5 318.39,-70 318.39,-77\"/>\n</g>\n<!-- 134612240513488 -->\n<g id=\"node20\" class=\"node\">\n<title>134612240513488</title>\n<polygon fill=\"none\" stroke=\"black\" points=\"1690,-191.5 1690,-227.5 1877,-227.5 1877,-191.5 1690,-191.5\"/>\n<text text-anchor=\"middle\" x=\"1700\" y=\"-205.8\" font-family=\"Times,serif\" font-size=\"14.00\"> </text>\n<polyline fill=\"none\" stroke=\"black\" points=\"1710,-191.5 1710,-227.5 \"/>\n<text text-anchor=\"middle\" x=\"1752.5\" y=\"-205.8\" font-family=\"Times,serif\" font-size=\"14.00\">data &#45;1.0000</text>\n<polyline fill=\"none\" stroke=\"black\" points=\"1795,-191.5 1795,-227.5 \"/>\n<text text-anchor=\"middle\" x=\"1836\" y=\"-205.8\" font-family=\"Times,serif\" font-size=\"14.00\">grad 0.1464</text>\n</g>\n<!-- 134612240513488&#45;&gt;134612240513536+ -->\n<g id=\"edge18\" class=\"edge\">\n<title>134612240513488&#45;&gt;134612240513536+</title>\n<path fill=\"none\" stroke=\"black\" d=\"M1877.05,-192.73C1886.54,-191.01 1895.71,-189.35 1903.95,-187.85\"/>\n<polygon fill=\"black\" stroke=\"black\" points=\"1904.64,-191.28 1913.85,-186.06 1903.39,-184.4 1904.64,-191.28\"/>\n</g>\n<!-- 134612240500576 -->\n<g id=\"node21\" class=\"node\">\n<title>134612240500576</title>\n<polygon fill=\"none\" stroke=\"black\" points=\"2.5,-0.5 2.5,-36.5 197.5,-36.5 197.5,-0.5 2.5,-0.5\"/>\n<text text-anchor=\"middle\" x=\"19\" y=\"-14.8\" font-family=\"Times,serif\" font-size=\"14.00\">w2</text>\n<polyline fill=\"none\" stroke=\"black\" points=\"35.5,-0.5 35.5,-36.5 \"/>\n<text text-anchor=\"middle\" x=\"75.5\" y=\"-14.8\" font-family=\"Times,serif\" font-size=\"14.00\">data 1.0000</text>\n<polyline fill=\"none\" stroke=\"black\" points=\"115.5,-0.5 115.5,-36.5 \"/>\n<text text-anchor=\"middle\" x=\"156.5\" y=\"-14.8\" font-family=\"Times,serif\" font-size=\"14.00\">grad 0.0000</text>\n</g>\n<!-- 134612240500576&#45;&gt;134612240507200* -->\n<g id=\"edge21\" class=\"edge\">\n<title>134612240500576&#45;&gt;134612240507200*</title>\n<path fill=\"none\" stroke=\"black\" d=\"M172.53,-36.56C181.84,-39.33 191.2,-42.33 200,-45.5 210.53,-49.29 221.75,-54.1 231.72,-58.67\"/>\n<polygon fill=\"black\" stroke=\"black\" points=\"230.28,-61.86 240.82,-62.93 233.25,-55.52 230.28,-61.86\"/>\n</g>\n<!-- 134612240503072 -->\n<g id=\"node22\" class=\"node\">\n<title>134612240503072</title>\n<polygon fill=\"none\" stroke=\"black\" points=\"2443,-112.5 2443,-148.5 2625,-148.5 2625,-112.5 2443,-112.5\"/>\n<text text-anchor=\"middle\" x=\"2453\" y=\"-126.8\" font-family=\"Times,serif\" font-size=\"14.00\"> </text>\n<polyline fill=\"none\" stroke=\"black\" points=\"2463,-112.5 2463,-148.5 \"/>\n<text text-anchor=\"middle\" x=\"2503\" y=\"-126.8\" font-family=\"Times,serif\" font-size=\"14.00\">data 0.1464</text>\n<polyline fill=\"none\" stroke=\"black\" points=\"2543,-112.5 2543,-148.5 \"/>\n<text text-anchor=\"middle\" x=\"2584\" y=\"-126.8\" font-family=\"Times,serif\" font-size=\"14.00\">grad 4.8284</text>\n</g>\n<!-- 134612240503072&#45;&gt;134612240503504* -->\n<g id=\"edge24\" class=\"edge\">\n<title>134612240503072&#45;&gt;134612240503504*</title>\n<path fill=\"none\" stroke=\"black\" d=\"M2625.18,-144.15C2634.42,-145.54 2643.38,-146.9 2651.47,-148.12\"/>\n<polygon fill=\"black\" stroke=\"black\" points=\"2651.15,-151.61 2661.56,-149.65 2652.19,-144.69 2651.15,-151.61\"/>\n</g>\n<!-- 134612240503072**&#45;1 -->\n<g id=\"node23\" class=\"node\">\n<title>134612240503072**&#45;1</title>\n<ellipse fill=\"none\" stroke=\"black\" cx=\"2316\" cy=\"-126.5\" rx=\"27\" ry=\"18\"/>\n<text text-anchor=\"middle\" x=\"2316\" y=\"-122.8\" font-family=\"Times,serif\" font-size=\"14.00\">**&#45;1</text>\n</g>\n<!-- 134612240503072**&#45;1&#45;&gt;134612240503072 -->\n<g id=\"edge8\" class=\"edge\">\n<title>134612240503072**&#45;1&#45;&gt;134612240503072</title>\n<path fill=\"none\" stroke=\"black\" d=\"M2343.05,-126.98C2365.53,-127.4 2399.48,-128.03 2432.5,-128.64\"/>\n<polygon fill=\"black\" stroke=\"black\" points=\"2432.64,-132.14 2442.7,-128.83 2432.77,-125.14 2432.64,-132.14\"/>\n</g>\n<!-- 134612240514976 -->\n<g id=\"node24\" class=\"node\">\n<title>134612240514976</title>\n<polygon fill=\"none\" stroke=\"black\" points=\"2003,-108.5 2003,-144.5 2189,-144.5 2189,-108.5 2003,-108.5\"/>\n<text text-anchor=\"middle\" x=\"2013\" y=\"-122.8\" font-family=\"Times,serif\" font-size=\"14.00\"> </text>\n<polyline fill=\"none\" stroke=\"black\" points=\"2023,-108.5 2023,-144.5 \"/>\n<text text-anchor=\"middle\" x=\"2063\" y=\"-122.8\" font-family=\"Times,serif\" font-size=\"14.00\">data 6.8284</text>\n<polyline fill=\"none\" stroke=\"black\" points=\"2103,-108.5 2103,-144.5 \"/>\n<text text-anchor=\"middle\" x=\"2146\" y=\"-122.8\" font-family=\"Times,serif\" font-size=\"14.00\">grad &#45;0.1036</text>\n</g>\n<!-- 134612240514976&#45;&gt;134612240503072**&#45;1 -->\n<g id=\"edge22\" class=\"edge\">\n<title>134612240514976&#45;&gt;134612240503072**&#45;1</title>\n<path fill=\"none\" stroke=\"black\" d=\"M2189.14,-126.5C2220.72,-126.5 2254.24,-126.5 2278.74,-126.5\"/>\n<polygon fill=\"black\" stroke=\"black\" points=\"2278.98,-130 2288.98,-126.5 2278.98,-123 2278.98,-130\"/>\n</g>\n<!-- 134612240514976+&#45;&gt;134612240514976 -->\n<g id=\"edge9\" class=\"edge\">\n<title>134612240514976+&#45;&gt;134612240514976</title>\n<path fill=\"none\" stroke=\"black\" d=\"M1967.12,-126.5C1974.62,-126.5 1983.29,-126.5 1992.5,-126.5\"/>\n<polygon fill=\"black\" stroke=\"black\" points=\"1992.69,-130 2002.69,-126.5 1992.69,-123 1992.69,-130\"/>\n</g>\n<!-- 134612240507344 -->\n<g id=\"node26\" class=\"node\">\n<title>134612240507344</title>\n<polygon fill=\"none\" stroke=\"black\" points=\"672,-82.5 672,-118.5 945,-118.5 945,-82.5 672,-82.5\"/>\n<text text-anchor=\"middle\" x=\"725\" y=\"-96.8\" font-family=\"Times,serif\" font-size=\"14.00\">x1*w1 + x2*w2</text>\n<polyline fill=\"none\" stroke=\"black\" points=\"778,-82.5 778,-118.5 \"/>\n<text text-anchor=\"middle\" x=\"820.5\" y=\"-96.8\" font-family=\"Times,serif\" font-size=\"14.00\">data &#45;6.0000</text>\n<polyline fill=\"none\" stroke=\"black\" points=\"863,-82.5 863,-118.5 \"/>\n<text text-anchor=\"middle\" x=\"904\" y=\"-96.8\" font-family=\"Times,serif\" font-size=\"14.00\">grad 0.5000</text>\n</g>\n<!-- 134612240507344&#45;&gt;134612240507632+ -->\n<g id=\"edge15\" class=\"edge\">\n<title>134612240507344&#45;&gt;134612240507632+</title>\n<path fill=\"none\" stroke=\"black\" d=\"M941.24,-118.51C952.12,-120 962.4,-121.4 971.45,-122.64\"/>\n<polygon fill=\"black\" stroke=\"black\" points=\"971.11,-126.13 981.49,-124.01 972.05,-119.19 971.11,-126.13\"/>\n</g>\n<!-- 134612240507344+&#45;&gt;134612240507344 -->\n<g id=\"edge10\" class=\"edge\">\n<title>134612240507344+&#45;&gt;134612240507344</title>\n<path fill=\"none\" stroke=\"black\" d=\"M636.23,-100.5C643.7,-100.5 652.41,-100.5 661.87,-100.5\"/>\n<polygon fill=\"black\" stroke=\"black\" points=\"661.98,-104 671.98,-100.5 661.98,-97 661.98,-104\"/>\n</g>\n<!-- 134612240513728 -->\n<g id=\"node28\" class=\"node\">\n<title>134612240513728</title>\n<polygon fill=\"none\" stroke=\"black\" points=\"1690.5,-81.5 1690.5,-117.5 1876.5,-117.5 1876.5,-81.5 1690.5,-81.5\"/>\n<text text-anchor=\"middle\" x=\"1700.5\" y=\"-95.8\" font-family=\"Times,serif\" font-size=\"14.00\"> </text>\n<polyline fill=\"none\" stroke=\"black\" points=\"1710.5,-81.5 1710.5,-117.5 \"/>\n<text text-anchor=\"middle\" x=\"1750.5\" y=\"-95.8\" font-family=\"Times,serif\" font-size=\"14.00\">data 1.0000</text>\n<polyline fill=\"none\" stroke=\"black\" points=\"1790.5,-81.5 1790.5,-117.5 \"/>\n<text text-anchor=\"middle\" x=\"1833.5\" y=\"-95.8\" font-family=\"Times,serif\" font-size=\"14.00\">grad &#45;0.1036</text>\n</g>\n<!-- 134612240513728&#45;&gt;134612240514976+ -->\n<g id=\"edge16\" class=\"edge\">\n<title>134612240513728&#45;&gt;134612240514976+</title>\n<path fill=\"none\" stroke=\"black\" d=\"M1876.6,-115.6C1886.15,-117.26 1895.37,-118.88 1903.68,-120.33\"/>\n<polygon fill=\"black\" stroke=\"black\" points=\"1903.2,-123.8 1913.65,-122.07 1904.4,-116.9 1903.2,-123.8\"/>\n</g>\n</g>\n</svg>\n",
            "text/plain": [
              "<graphviz.graphs.Digraph at 0x7a6ddac732b0>"
            ]
          },
          "metadata": {},
          "execution_count": 264
        }
      ]
    },
    {
      "cell_type": "markdown",
      "source": [
        "## `x1w1 + x2w2 + b` with PyTorch"
      ],
      "metadata": {
        "id": "riQSsgBhT5sA"
      }
    },
    {
      "cell_type": "code",
      "source": [
        "import torch"
      ],
      "metadata": {
        "id": "zmiZlquTT6yG"
      },
      "execution_count": 265,
      "outputs": []
    },
    {
      "cell_type": "code",
      "source": [
        "x1 = torch.Tensor([2.0]).double(); x1.requires_grad = True\n",
        "x2 = torch.Tensor([0.0]).double(); x2.requires_grad = True\n",
        "w1 = torch.Tensor([-3.0]).double(); w1.requires_grad = True\n",
        "w2 = torch.Tensor([1.0]).double(); w2.requires_grad = True\n",
        "b = torch.Tensor([6.8813735870195432]); b.requires_grad = True\n",
        "n = x1*w1 + x2*w2 + b\n",
        "o = torch.tanh(n)\n",
        "\n",
        "print(o.data.item())\n",
        "o.backward()\n",
        "\n",
        "print('-----')\n",
        "print('x2', x2.grad.item())\n",
        "print('w2', w2.grad.item())\n",
        "print('x1', x1.grad.item())\n",
        "print('w1', w1.grad.item())\n"
      ],
      "metadata": {
        "colab": {
          "base_uri": "https://localhost:8080/"
        },
        "id": "i7rIbWctT_ZU",
        "outputId": "0512168d-ba66-4f73-9825-94549fba90bf"
      },
      "execution_count": 266,
      "outputs": [
        {
          "output_type": "stream",
          "name": "stdout",
          "text": [
            "0.7071066904050358\n",
            "-----\n",
            "x2 0.5000001283844369\n",
            "w2 0.0\n",
            "x1 -1.5000003851533106\n",
            "w1 1.0000002567688737\n"
          ]
        }
      ]
    },
    {
      "cell_type": "code",
      "source": [
        "torch.Tensor([[1, 2, 3], [4, 5, 6]])"
      ],
      "metadata": {
        "colab": {
          "base_uri": "https://localhost:8080/"
        },
        "id": "KqNH7GJpUE3r",
        "outputId": "f44b11bc-9be6-4b12-cd55-ef611d76d9e2"
      },
      "execution_count": 267,
      "outputs": [
        {
          "output_type": "execute_result",
          "data": {
            "text/plain": [
              "tensor([[1., 2., 3.],\n",
              "        [4., 5., 6.]])"
            ]
          },
          "metadata": {},
          "execution_count": 267
        }
      ]
    },
    {
      "cell_type": "markdown",
      "source": [
        "## Neural Network"
      ],
      "metadata": {
        "id": "tGDY2RSrUGwR"
      }
    },
    {
      "cell_type": "code",
      "source": [
        "import random"
      ],
      "metadata": {
        "id": "8wauW7ejUJ7w"
      },
      "execution_count": 268,
      "outputs": []
    },
    {
      "cell_type": "code",
      "source": [
        "class Neuron:\n",
        "    def __init__(self, nin):\n",
        "        self.w = [Value(random.uniform(-1, 1)) for _ in range(nin)]\n",
        "        self.b = Value(random.uniform(-1, 1))\n",
        "\n",
        "    def __call__(self, x):\n",
        "        act =  sum((wi*xi for wi, xi in zip(self.w, x)), self.b)\n",
        "        return act.tanh()\n",
        "\n",
        "    def parameters(self):\n",
        "        return self.w + [self.b]\n",
        "\n",
        "x = [2.0, 3.0]\n",
        "n = Neuron(2)\n",
        "n(x)"
      ],
      "metadata": {
        "colab": {
          "base_uri": "https://localhost:8080/"
        },
        "id": "-2eh-LbqUPl9",
        "outputId": "d554ffd8-d73f-49d1-8112-3aaff3d346f4"
      },
      "execution_count": 269,
      "outputs": [
        {
          "output_type": "execute_result",
          "data": {
            "text/plain": [
              "Value(label= data=-0.9547022535373646)"
            ]
          },
          "metadata": {},
          "execution_count": 269
        }
      ]
    },
    {
      "cell_type": "code",
      "source": [
        "class Layer:\n",
        "    def __init__(self, nin, nout):\n",
        "        self.neurons = [Neuron(nin) for _ in range(nout)]\n",
        "\n",
        "    def __call__(self, x):\n",
        "        outs = [n(x) for n in self.neurons]\n",
        "        return outs[0] if len(outs) == 1 else outs\n",
        "\n",
        "    def parameters(self):\n",
        "        return [p for neuron in self.neurons for p in neuron.parameters()]\n",
        "\n",
        "x = [2.0, 3.0]\n",
        "n = Layer(2, 3)\n",
        "n(x)\n"
      ],
      "metadata": {
        "colab": {
          "base_uri": "https://localhost:8080/"
        },
        "id": "bsTFyywjZuFf",
        "outputId": "58ad297a-aa29-4b09-a8e1-9b88723bbf9c"
      },
      "execution_count": 270,
      "outputs": [
        {
          "output_type": "execute_result",
          "data": {
            "text/plain": [
              "[Value(label= data=-0.9838145661539537),\n",
              " Value(label= data=-0.5012680507780342),\n",
              " Value(label= data=-0.3498822031960552)]"
            ]
          },
          "metadata": {},
          "execution_count": 270
        }
      ]
    },
    {
      "cell_type": "code",
      "source": [
        "class MLP:\n",
        "    def __init__(self, nin, nouts):\n",
        "        sz = [nin] + nouts\n",
        "        self.layers = [Layer(sz[i], sz[i+1]) for i\n",
        "                       in range(len(nouts))]\n",
        "\n",
        "    def __call__(self, x):\n",
        "        for layer in self.layers:\n",
        "            x = layer(x)\n",
        "        return x\n",
        "\n",
        "    def parameters(self):\n",
        "        return [p for layer in self.layers for p in layer.parameters()]\n",
        "\n",
        "x = [2.0, 3.0, -1.0]\n",
        "n = MLP(3, [4, 4, 1])\n",
        "n(x)\n"
      ],
      "metadata": {
        "colab": {
          "base_uri": "https://localhost:8080/"
        },
        "id": "94RdPDUcUL6l",
        "outputId": "e83c599d-0c14-4857-c744-a4095f823f9f"
      },
      "execution_count": 271,
      "outputs": [
        {
          "output_type": "execute_result",
          "data": {
            "text/plain": [
              "Value(label= data=0.8272616576037315)"
            ]
          },
          "metadata": {},
          "execution_count": 271
        }
      ]
    },
    {
      "cell_type": "code",
      "source": [
        "draw_dot(n(x), label)"
      ],
      "metadata": {
        "colab": {
          "base_uri": "https://localhost:8080/",
          "height": 1000
        },
        "id": "Awwn5bhHV5sy",
        "outputId": "554033a7-76e5-4652-c28d-e1b881d66aab"
      },
      "execution_count": 272,
      "outputs": [
        {
          "output_type": "execute_result",
          "data": {
            "image/svg+xml": "<?xml version=\"1.0\" encoding=\"UTF-8\" standalone=\"no\"?>\n<!DOCTYPE svg PUBLIC \"-//W3C//DTD SVG 1.1//EN\"\n \"http://www.w3.org/Graphics/SVG/1.1/DTD/svg11.dtd\">\n<!-- Generated by graphviz version 2.43.0 (0)\n -->\n<!-- Title: %3 Pages: 1 -->\n<svg width=\"5614pt\" height=\"925pt\"\n viewBox=\"0.00 0.00 5614.00 925.00\" xmlns=\"http://www.w3.org/2000/svg\" xmlns:xlink=\"http://www.w3.org/1999/xlink\">\n<g id=\"graph0\" class=\"graph\" transform=\"scale(1 1) rotate(0) translate(4 921)\">\n<title>%3</title>\n<polygon fill=\"white\" stroke=\"transparent\" points=\"-4,4 -4,-921 5610,-921 5610,4 -4,4\"/>\n<!-- 134612240744560 -->\n<g id=\"node1\" class=\"node\">\n<title>134612240744560</title>\n<polygon fill=\"none\" stroke=\"black\" points=\"2188.5,-715.5 2188.5,-751.5 2370.5,-751.5 2370.5,-715.5 2188.5,-715.5\"/>\n<text text-anchor=\"middle\" x=\"2198.5\" y=\"-729.8\" font-family=\"Times,serif\" font-size=\"14.00\"> </text>\n<polyline fill=\"none\" stroke=\"black\" points=\"2208.5,-715.5 2208.5,-751.5 \"/>\n<text text-anchor=\"middle\" x=\"2248.5\" y=\"-729.8\" font-family=\"Times,serif\" font-size=\"14.00\">data 0.8654</text>\n<polyline fill=\"none\" stroke=\"black\" points=\"2288.5,-715.5 2288.5,-751.5 \"/>\n<text text-anchor=\"middle\" x=\"2329.5\" y=\"-729.8\" font-family=\"Times,serif\" font-size=\"14.00\">grad 0.0000</text>\n</g>\n<!-- 134612240744944+ -->\n<g id=\"node7\" class=\"node\">\n<title>134612240744944+</title>\n<ellipse fill=\"none\" stroke=\"black\" cx=\"2436\" cy=\"-678.5\" rx=\"27\" ry=\"18\"/>\n<text text-anchor=\"middle\" x=\"2436\" y=\"-674.8\" font-family=\"Times,serif\" font-size=\"14.00\">+</text>\n</g>\n<!-- 134612240744560&#45;&gt;134612240744944+ -->\n<g id=\"edge162\" class=\"edge\">\n<title>134612240744560&#45;&gt;134612240744944+</title>\n<path fill=\"none\" stroke=\"black\" d=\"M2346.56,-715.45C2355.51,-712.64 2364.53,-709.63 2373,-706.5 2383.49,-702.62 2394.71,-697.78 2404.68,-693.22\"/>\n<polygon fill=\"black\" stroke=\"black\" points=\"2406.2,-696.37 2413.79,-688.97 2403.25,-690.02 2406.2,-696.37\"/>\n</g>\n<!-- 134612240744560+ -->\n<g id=\"node2\" class=\"node\">\n<title>134612240744560+</title>\n<ellipse fill=\"none\" stroke=\"black\" cx=\"2123\" cy=\"-788.5\" rx=\"27\" ry=\"18\"/>\n<text text-anchor=\"middle\" x=\"2123\" y=\"-784.8\" font-family=\"Times,serif\" font-size=\"14.00\">+</text>\n</g>\n<!-- 134612240744560+&#45;&gt;134612240744560 -->\n<g id=\"edge1\" class=\"edge\">\n<title>134612240744560+&#45;&gt;134612240744560</title>\n<path fill=\"none\" stroke=\"black\" d=\"M2145.55,-778.37C2157.36,-773.02 2172.34,-766.52 2186,-761.5 2192.24,-759.2 2198.77,-756.95 2205.34,-754.78\"/>\n<polygon fill=\"black\" stroke=\"black\" points=\"2206.55,-758.07 2214.98,-751.65 2204.39,-751.41 2206.55,-758.07\"/>\n</g>\n<!-- 134612240744752 -->\n<g id=\"node3\" class=\"node\">\n<title>134612240744752</title>\n<polygon fill=\"none\" stroke=\"black\" points=\"2188.5,-660.5 2188.5,-696.5 2370.5,-696.5 2370.5,-660.5 2188.5,-660.5\"/>\n<text text-anchor=\"middle\" x=\"2198.5\" y=\"-674.8\" font-family=\"Times,serif\" font-size=\"14.00\"> </text>\n<polyline fill=\"none\" stroke=\"black\" points=\"2208.5,-660.5 2208.5,-696.5 \"/>\n<text text-anchor=\"middle\" x=\"2248.5\" y=\"-674.8\" font-family=\"Times,serif\" font-size=\"14.00\">data 0.8607</text>\n<polyline fill=\"none\" stroke=\"black\" points=\"2288.5,-660.5 2288.5,-696.5 \"/>\n<text text-anchor=\"middle\" x=\"2329.5\" y=\"-674.8\" font-family=\"Times,serif\" font-size=\"14.00\">grad 0.0000</text>\n</g>\n<!-- 134612240744752&#45;&gt;134612240744944+ -->\n<g id=\"edge113\" class=\"edge\">\n<title>134612240744752&#45;&gt;134612240744944+</title>\n<path fill=\"none\" stroke=\"black\" d=\"M2370.82,-678.5C2380.57,-678.5 2390.04,-678.5 2398.57,-678.5\"/>\n<polygon fill=\"black\" stroke=\"black\" points=\"2398.83,-682 2408.83,-678.5 2398.83,-675 2398.83,-682\"/>\n</g>\n<!-- 134612240744752* -->\n<g id=\"node4\" class=\"node\">\n<title>134612240744752*</title>\n<ellipse fill=\"none\" stroke=\"black\" cx=\"2123\" cy=\"-623.5\" rx=\"27\" ry=\"18\"/>\n<text text-anchor=\"middle\" x=\"2123\" y=\"-619.8\" font-family=\"Times,serif\" font-size=\"14.00\">*</text>\n</g>\n<!-- 134612240744752*&#45;&gt;134612240744752 -->\n<g id=\"edge2\" class=\"edge\">\n<title>134612240744752*&#45;&gt;134612240744752</title>\n<path fill=\"none\" stroke=\"black\" d=\"M2145.21,-633.97C2157.05,-639.59 2172.15,-646.38 2186,-651.5 2191.43,-653.51 2197.08,-655.46 2202.79,-657.35\"/>\n<polygon fill=\"black\" stroke=\"black\" points=\"2201.85,-660.72 2212.44,-660.45 2203.99,-654.06 2201.85,-660.72\"/>\n</g>\n<!-- 134612240089488 -->\n<g id=\"node5\" class=\"node\">\n<title>134612240089488</title>\n<polygon fill=\"none\" stroke=\"black\" points=\"2186,-605.5 2186,-641.5 2373,-641.5 2373,-605.5 2186,-605.5\"/>\n<text text-anchor=\"middle\" x=\"2196\" y=\"-619.8\" font-family=\"Times,serif\" font-size=\"14.00\"> </text>\n<polyline fill=\"none\" stroke=\"black\" points=\"2206,-605.5 2206,-641.5 \"/>\n<text text-anchor=\"middle\" x=\"2248.5\" y=\"-619.8\" font-family=\"Times,serif\" font-size=\"14.00\">data &#45;0.0839</text>\n<polyline fill=\"none\" stroke=\"black\" points=\"2291,-605.5 2291,-641.5 \"/>\n<text text-anchor=\"middle\" x=\"2332\" y=\"-619.8\" font-family=\"Times,serif\" font-size=\"14.00\">grad 0.0000</text>\n</g>\n<!-- 134612240745136* -->\n<g id=\"node13\" class=\"node\">\n<title>134612240745136*</title>\n<ellipse fill=\"none\" stroke=\"black\" cx=\"2436\" cy=\"-623.5\" rx=\"27\" ry=\"18\"/>\n<text text-anchor=\"middle\" x=\"2436\" y=\"-619.8\" font-family=\"Times,serif\" font-size=\"14.00\">*</text>\n</g>\n<!-- 134612240089488&#45;&gt;134612240745136* -->\n<g id=\"edge172\" class=\"edge\">\n<title>134612240089488&#45;&gt;134612240745136*</title>\n<path fill=\"none\" stroke=\"black\" d=\"M2373.05,-623.5C2382.06,-623.5 2390.79,-623.5 2398.7,-623.5\"/>\n<polygon fill=\"black\" stroke=\"black\" points=\"2398.95,-627 2408.95,-623.5 2398.95,-620 2398.95,-627\"/>\n</g>\n<!-- 134612240744944 -->\n<g id=\"node6\" class=\"node\">\n<title>134612240744944</title>\n<polygon fill=\"none\" stroke=\"black\" points=\"2501.5,-660.5 2501.5,-696.5 2683.5,-696.5 2683.5,-660.5 2501.5,-660.5\"/>\n<text text-anchor=\"middle\" x=\"2511.5\" y=\"-674.8\" font-family=\"Times,serif\" font-size=\"14.00\"> </text>\n<polyline fill=\"none\" stroke=\"black\" points=\"2521.5,-660.5 2521.5,-696.5 \"/>\n<text text-anchor=\"middle\" x=\"2561.5\" y=\"-674.8\" font-family=\"Times,serif\" font-size=\"14.00\">data 1.7261</text>\n<polyline fill=\"none\" stroke=\"black\" points=\"2601.5,-660.5 2601.5,-696.5 \"/>\n<text text-anchor=\"middle\" x=\"2642.5\" y=\"-674.8\" font-family=\"Times,serif\" font-size=\"14.00\">grad 0.0000</text>\n</g>\n<!-- 134612240745328+ -->\n<g id=\"node19\" class=\"node\">\n<title>134612240745328+</title>\n<ellipse fill=\"none\" stroke=\"black\" cx=\"2749\" cy=\"-678.5\" rx=\"27\" ry=\"18\"/>\n<text text-anchor=\"middle\" x=\"2749\" y=\"-674.8\" font-family=\"Times,serif\" font-size=\"14.00\">+</text>\n</g>\n<!-- 134612240744944&#45;&gt;134612240745328+ -->\n<g id=\"edge139\" class=\"edge\">\n<title>134612240744944&#45;&gt;134612240745328+</title>\n<path fill=\"none\" stroke=\"black\" d=\"M2683.82,-678.5C2693.57,-678.5 2703.04,-678.5 2711.57,-678.5\"/>\n<polygon fill=\"black\" stroke=\"black\" points=\"2711.83,-682 2721.83,-678.5 2711.83,-675 2711.83,-682\"/>\n</g>\n<!-- 134612240744944+&#45;&gt;134612240744944 -->\n<g id=\"edge3\" class=\"edge\">\n<title>134612240744944+&#45;&gt;134612240744944</title>\n<path fill=\"none\" stroke=\"black\" d=\"M2463.21,-678.5C2471.34,-678.5 2480.85,-678.5 2490.94,-678.5\"/>\n<polygon fill=\"black\" stroke=\"black\" points=\"2491.19,-682 2501.19,-678.5 2491.19,-675 2491.19,-682\"/>\n</g>\n<!-- 134612240089584 -->\n<g id=\"node8\" class=\"node\">\n<title>134612240089584</title>\n<polygon fill=\"none\" stroke=\"black\" points=\"1875.5,-605.5 1875.5,-641.5 2057.5,-641.5 2057.5,-605.5 1875.5,-605.5\"/>\n<text text-anchor=\"middle\" x=\"1885.5\" y=\"-619.8\" font-family=\"Times,serif\" font-size=\"14.00\"> </text>\n<polyline fill=\"none\" stroke=\"black\" points=\"1895.5,-605.5 1895.5,-641.5 \"/>\n<text text-anchor=\"middle\" x=\"1935.5\" y=\"-619.8\" font-family=\"Times,serif\" font-size=\"14.00\">data 0.9922</text>\n<polyline fill=\"none\" stroke=\"black\" points=\"1975.5,-605.5 1975.5,-641.5 \"/>\n<text text-anchor=\"middle\" x=\"2016.5\" y=\"-619.8\" font-family=\"Times,serif\" font-size=\"14.00\">grad 0.0000</text>\n</g>\n<!-- 134612240089584&#45;&gt;134612240744752* -->\n<g id=\"edge204\" class=\"edge\">\n<title>134612240089584&#45;&gt;134612240744752*</title>\n<path fill=\"none\" stroke=\"black\" d=\"M2057.82,-623.5C2067.57,-623.5 2077.04,-623.5 2085.57,-623.5\"/>\n<polygon fill=\"black\" stroke=\"black\" points=\"2085.83,-627 2095.83,-623.5 2085.83,-620 2085.83,-627\"/>\n</g>\n<!-- 134612240089680 -->\n<g id=\"node9\" class=\"node\">\n<title>134612240089680</title>\n<polygon fill=\"none\" stroke=\"black\" points=\"308,-275.5 308,-311.5 495,-311.5 495,-275.5 308,-275.5\"/>\n<text text-anchor=\"middle\" x=\"318\" y=\"-289.8\" font-family=\"Times,serif\" font-size=\"14.00\"> </text>\n<polyline fill=\"none\" stroke=\"black\" points=\"328,-275.5 328,-311.5 \"/>\n<text text-anchor=\"middle\" x=\"370.5\" y=\"-289.8\" font-family=\"Times,serif\" font-size=\"14.00\">data &#45;0.0730</text>\n<polyline fill=\"none\" stroke=\"black\" points=\"413,-275.5 413,-311.5 \"/>\n<text text-anchor=\"middle\" x=\"454\" y=\"-289.8\" font-family=\"Times,serif\" font-size=\"14.00\">grad 0.0000</text>\n</g>\n<!-- 134612240099040* -->\n<g id=\"node37\" class=\"node\">\n<title>134612240099040*</title>\n<ellipse fill=\"none\" stroke=\"black\" cx=\"558\" cy=\"-238.5\" rx=\"27\" ry=\"18\"/>\n<text text-anchor=\"middle\" x=\"558\" y=\"-234.8\" font-family=\"Times,serif\" font-size=\"14.00\">*</text>\n</g>\n<!-- 134612240089680&#45;&gt;134612240099040* -->\n<g id=\"edge188\" class=\"edge\">\n<title>134612240089680&#45;&gt;134612240099040*</title>\n<path fill=\"none\" stroke=\"black\" d=\"M466.02,-275.35C475.79,-272.24 485.71,-268.92 495,-265.5 505.25,-261.73 516.23,-257.14 526.07,-252.82\"/>\n<polygon fill=\"black\" stroke=\"black\" points=\"527.74,-255.9 535.45,-248.63 524.89,-249.51 527.74,-255.9\"/>\n</g>\n<!-- 134612240097888 -->\n<g id=\"node10\" class=\"node\">\n<title>134612240097888</title>\n<polygon fill=\"none\" stroke=\"black\" points=\"621,-110.5 621,-146.5 808,-146.5 808,-110.5 621,-110.5\"/>\n<text text-anchor=\"middle\" x=\"631\" y=\"-124.8\" font-family=\"Times,serif\" font-size=\"14.00\"> </text>\n<polyline fill=\"none\" stroke=\"black\" points=\"641,-110.5 641,-146.5 \"/>\n<text text-anchor=\"middle\" x=\"683.5\" y=\"-124.8\" font-family=\"Times,serif\" font-size=\"14.00\">data &#45;1.0000</text>\n<polyline fill=\"none\" stroke=\"black\" points=\"726,-110.5 726,-146.5 \"/>\n<text text-anchor=\"middle\" x=\"767\" y=\"-124.8\" font-family=\"Times,serif\" font-size=\"14.00\">grad 0.0000</text>\n</g>\n<!-- 134612240096544* -->\n<g id=\"node185\" class=\"node\">\n<title>134612240096544*</title>\n<ellipse fill=\"none\" stroke=\"black\" cx=\"871\" cy=\"-128.5\" rx=\"27\" ry=\"18\"/>\n<text text-anchor=\"middle\" x=\"871\" y=\"-124.8\" font-family=\"Times,serif\" font-size=\"14.00\">*</text>\n</g>\n<!-- 134612240097888&#45;&gt;134612240096544* -->\n<g id=\"edge84\" class=\"edge\">\n<title>134612240097888&#45;&gt;134612240096544*</title>\n<path fill=\"none\" stroke=\"black\" d=\"M808.05,-128.5C817.06,-128.5 825.79,-128.5 833.7,-128.5\"/>\n<polygon fill=\"black\" stroke=\"black\" points=\"833.95,-132 843.95,-128.5 833.95,-125 833.95,-132\"/>\n</g>\n<!-- 134612240097936 -->\n<g id=\"node11\" class=\"node\">\n<title>134612240097936</title>\n<polygon fill=\"none\" stroke=\"black\" points=\"1875.5,-825.5 1875.5,-861.5 2057.5,-861.5 2057.5,-825.5 1875.5,-825.5\"/>\n<text text-anchor=\"middle\" x=\"1885.5\" y=\"-839.8\" font-family=\"Times,serif\" font-size=\"14.00\"> </text>\n<polyline fill=\"none\" stroke=\"black\" points=\"1895.5,-825.5 1895.5,-861.5 \"/>\n<text text-anchor=\"middle\" x=\"1935.5\" y=\"-839.8\" font-family=\"Times,serif\" font-size=\"14.00\">data 0.4833</text>\n<polyline fill=\"none\" stroke=\"black\" points=\"1975.5,-825.5 1975.5,-861.5 \"/>\n<text text-anchor=\"middle\" x=\"2016.5\" y=\"-839.8\" font-family=\"Times,serif\" font-size=\"14.00\">grad 0.0000</text>\n</g>\n<!-- 134612240097936&#45;&gt;134612240744560+ -->\n<g id=\"edge166\" class=\"edge\">\n<title>134612240097936&#45;&gt;134612240744560+</title>\n<path fill=\"none\" stroke=\"black\" d=\"M2033.56,-825.45C2042.51,-822.64 2051.53,-819.63 2060,-816.5 2070.49,-812.62 2081.71,-807.78 2091.68,-803.22\"/>\n<polygon fill=\"black\" stroke=\"black\" points=\"2093.2,-806.37 2100.79,-798.97 2090.25,-800.02 2093.2,-806.37\"/>\n</g>\n<!-- 134612240745136 -->\n<g id=\"node12\" class=\"node\">\n<title>134612240745136</title>\n<polygon fill=\"none\" stroke=\"black\" points=\"2499,-605.5 2499,-641.5 2686,-641.5 2686,-605.5 2499,-605.5\"/>\n<text text-anchor=\"middle\" x=\"2509\" y=\"-619.8\" font-family=\"Times,serif\" font-size=\"14.00\"> </text>\n<polyline fill=\"none\" stroke=\"black\" points=\"2519,-605.5 2519,-641.5 \"/>\n<text text-anchor=\"middle\" x=\"2561.5\" y=\"-619.8\" font-family=\"Times,serif\" font-size=\"14.00\">data &#45;0.0376</text>\n<polyline fill=\"none\" stroke=\"black\" points=\"2604,-605.5 2604,-641.5 \"/>\n<text text-anchor=\"middle\" x=\"2645\" y=\"-619.8\" font-family=\"Times,serif\" font-size=\"14.00\">grad 0.0000</text>\n</g>\n<!-- 134612240745136&#45;&gt;134612240745328+ -->\n<g id=\"edge187\" class=\"edge\">\n<title>134612240745136&#45;&gt;134612240745328+</title>\n<path fill=\"none\" stroke=\"black\" d=\"M2657.02,-641.65C2666.79,-644.76 2676.71,-648.08 2686,-651.5 2696.25,-655.27 2707.23,-659.86 2717.07,-664.18\"/>\n<polygon fill=\"black\" stroke=\"black\" points=\"2715.89,-667.49 2726.45,-668.37 2718.74,-661.1 2715.89,-667.49\"/>\n</g>\n<!-- 134612240745136*&#45;&gt;134612240745136 -->\n<g id=\"edge4\" class=\"edge\">\n<title>134612240745136*&#45;&gt;134612240745136</title>\n<path fill=\"none\" stroke=\"black\" d=\"M2463.21,-623.5C2470.73,-623.5 2479.43,-623.5 2488.67,-623.5\"/>\n<polygon fill=\"black\" stroke=\"black\" points=\"2488.89,-627 2498.89,-623.5 2488.89,-620 2488.89,-627\"/>\n</g>\n<!-- 134612241589024 -->\n<g id=\"node14\" class=\"node\">\n<title>134612241589024</title>\n<polygon fill=\"none\" stroke=\"black\" points=\"3440.5,-356.5 3440.5,-392.5 3622.5,-392.5 3622.5,-356.5 3440.5,-356.5\"/>\n<text text-anchor=\"middle\" x=\"3450.5\" y=\"-370.8\" font-family=\"Times,serif\" font-size=\"14.00\"> </text>\n<polyline fill=\"none\" stroke=\"black\" points=\"3460.5,-356.5 3460.5,-392.5 \"/>\n<text text-anchor=\"middle\" x=\"3500.5\" y=\"-370.8\" font-family=\"Times,serif\" font-size=\"14.00\">data 0.8420</text>\n<polyline fill=\"none\" stroke=\"black\" points=\"3540.5,-356.5 3540.5,-392.5 \"/>\n<text text-anchor=\"middle\" x=\"3581.5\" y=\"-370.8\" font-family=\"Times,serif\" font-size=\"14.00\">grad 0.0000</text>\n</g>\n<!-- 134612240746864* -->\n<g id=\"node60\" class=\"node\">\n<title>134612240746864*</title>\n<ellipse fill=\"none\" stroke=\"black\" cx=\"3688\" cy=\"-374.5\" rx=\"27\" ry=\"18\"/>\n<text text-anchor=\"middle\" x=\"3688\" y=\"-370.8\" font-family=\"Times,serif\" font-size=\"14.00\">*</text>\n</g>\n<!-- 134612241589024&#45;&gt;134612240746864* -->\n<g id=\"edge134\" class=\"edge\">\n<title>134612241589024&#45;&gt;134612240746864*</title>\n<path fill=\"none\" stroke=\"black\" d=\"M3622.82,-374.5C3632.57,-374.5 3642.04,-374.5 3650.57,-374.5\"/>\n<polygon fill=\"black\" stroke=\"black\" points=\"3650.83,-378 3660.83,-374.5 3650.83,-371 3650.83,-378\"/>\n</g>\n<!-- 134612241589024tanh -->\n<g id=\"node15\" class=\"node\">\n<title>134612241589024tanh</title>\n<ellipse fill=\"none\" stroke=\"black\" cx=\"3375\" cy=\"-374.5\" rx=\"27\" ry=\"18\"/>\n<text text-anchor=\"middle\" x=\"3375\" y=\"-370.8\" font-family=\"Times,serif\" font-size=\"14.00\">tanh</text>\n</g>\n<!-- 134612241589024tanh&#45;&gt;134612241589024 -->\n<g id=\"edge5\" class=\"edge\">\n<title>134612241589024tanh&#45;&gt;134612241589024</title>\n<path fill=\"none\" stroke=\"black\" d=\"M3402.21,-374.5C3410.34,-374.5 3419.85,-374.5 3429.94,-374.5\"/>\n<polygon fill=\"black\" stroke=\"black\" points=\"3430.19,-378 3440.19,-374.5 3430.19,-371 3430.19,-378\"/>\n</g>\n<!-- 134612240098128 -->\n<g id=\"node16\" class=\"node\">\n<title>134612240098128</title>\n<polygon fill=\"none\" stroke=\"black\" points=\"623.5,-330.5 623.5,-366.5 805.5,-366.5 805.5,-330.5 623.5,-330.5\"/>\n<text text-anchor=\"middle\" x=\"633.5\" y=\"-344.8\" font-family=\"Times,serif\" font-size=\"14.00\"> </text>\n<polyline fill=\"none\" stroke=\"black\" points=\"643.5,-330.5 643.5,-366.5 \"/>\n<text text-anchor=\"middle\" x=\"683.5\" y=\"-344.8\" font-family=\"Times,serif\" font-size=\"14.00\">data 0.2621</text>\n<polyline fill=\"none\" stroke=\"black\" points=\"723.5,-330.5 723.5,-366.5 \"/>\n<text text-anchor=\"middle\" x=\"764.5\" y=\"-344.8\" font-family=\"Times,serif\" font-size=\"14.00\">grad 0.0000</text>\n</g>\n<!-- 134612240094960+ -->\n<g id=\"node156\" class=\"node\">\n<title>134612240094960+</title>\n<ellipse fill=\"none\" stroke=\"black\" cx=\"871\" cy=\"-348.5\" rx=\"27\" ry=\"18\"/>\n<text text-anchor=\"middle\" x=\"871\" y=\"-344.8\" font-family=\"Times,serif\" font-size=\"14.00\">+</text>\n</g>\n<!-- 134612240098128&#45;&gt;134612240094960+ -->\n<g id=\"edge144\" class=\"edge\">\n<title>134612240098128&#45;&gt;134612240094960+</title>\n<path fill=\"none\" stroke=\"black\" d=\"M805.82,-348.5C815.57,-348.5 825.04,-348.5 833.57,-348.5\"/>\n<polygon fill=\"black\" stroke=\"black\" points=\"833.83,-352 843.83,-348.5 833.83,-345 833.83,-352\"/>\n</g>\n<!-- 134612240098128* -->\n<g id=\"node17\" class=\"node\">\n<title>134612240098128*</title>\n<ellipse fill=\"none\" stroke=\"black\" cx=\"558\" cy=\"-348.5\" rx=\"27\" ry=\"18\"/>\n<text text-anchor=\"middle\" x=\"558\" y=\"-344.8\" font-family=\"Times,serif\" font-size=\"14.00\">*</text>\n</g>\n<!-- 134612240098128*&#45;&gt;134612240098128 -->\n<g id=\"edge6\" class=\"edge\">\n<title>134612240098128*&#45;&gt;134612240098128</title>\n<path fill=\"none\" stroke=\"black\" d=\"M585.21,-348.5C593.34,-348.5 602.85,-348.5 612.94,-348.5\"/>\n<polygon fill=\"black\" stroke=\"black\" points=\"613.19,-352 623.19,-348.5 613.19,-345 613.19,-352\"/>\n</g>\n<!-- 134612240745328 -->\n<g id=\"node18\" class=\"node\">\n<title>134612240745328</title>\n<polygon fill=\"none\" stroke=\"black\" points=\"2814.5,-686.5 2814.5,-722.5 2996.5,-722.5 2996.5,-686.5 2814.5,-686.5\"/>\n<text text-anchor=\"middle\" x=\"2824.5\" y=\"-700.8\" font-family=\"Times,serif\" font-size=\"14.00\"> </text>\n<polyline fill=\"none\" stroke=\"black\" points=\"2834.5,-686.5 2834.5,-722.5 \"/>\n<text text-anchor=\"middle\" x=\"2874.5\" y=\"-700.8\" font-family=\"Times,serif\" font-size=\"14.00\">data 1.6885</text>\n<polyline fill=\"none\" stroke=\"black\" points=\"2914.5,-686.5 2914.5,-722.5 \"/>\n<text text-anchor=\"middle\" x=\"2955.5\" y=\"-700.8\" font-family=\"Times,serif\" font-size=\"14.00\">grad 0.0000</text>\n</g>\n<!-- 134612240745712+ -->\n<g id=\"node27\" class=\"node\">\n<title>134612240745712+</title>\n<ellipse fill=\"none\" stroke=\"black\" cx=\"3062\" cy=\"-704.5\" rx=\"27\" ry=\"18\"/>\n<text text-anchor=\"middle\" x=\"3062\" y=\"-700.8\" font-family=\"Times,serif\" font-size=\"14.00\">+</text>\n</g>\n<!-- 134612240745328&#45;&gt;134612240745712+ -->\n<g id=\"edge206\" class=\"edge\">\n<title>134612240745328&#45;&gt;134612240745712+</title>\n<path fill=\"none\" stroke=\"black\" d=\"M2996.82,-704.5C3006.57,-704.5 3016.04,-704.5 3024.57,-704.5\"/>\n<polygon fill=\"black\" stroke=\"black\" points=\"3024.83,-708 3034.83,-704.5 3024.83,-701 3024.83,-708\"/>\n</g>\n<!-- 134612240745328+&#45;&gt;134612240745328 -->\n<g id=\"edge7\" class=\"edge\">\n<title>134612240745328+&#45;&gt;134612240745328</title>\n<path fill=\"none\" stroke=\"black\" d=\"M2775.51,-682.79C2783.83,-684.19 2793.62,-685.84 2804.03,-687.59\"/>\n<polygon fill=\"black\" stroke=\"black\" points=\"2803.74,-691.09 2814.18,-689.3 2804.9,-684.19 2803.74,-691.09\"/>\n</g>\n<!-- 134612240090064 -->\n<g id=\"node20\" class=\"node\">\n<title>134612240090064</title>\n<polygon fill=\"none\" stroke=\"black\" points=\"936.5,-275.5 936.5,-311.5 1118.5,-311.5 1118.5,-275.5 936.5,-275.5\"/>\n<text text-anchor=\"middle\" x=\"946.5\" y=\"-289.8\" font-family=\"Times,serif\" font-size=\"14.00\"> </text>\n<polyline fill=\"none\" stroke=\"black\" points=\"956.5,-275.5 956.5,-311.5 \"/>\n<text text-anchor=\"middle\" x=\"996.5\" y=\"-289.8\" font-family=\"Times,serif\" font-size=\"14.00\">data 0.9321</text>\n<polyline fill=\"none\" stroke=\"black\" points=\"1036.5,-275.5 1036.5,-311.5 \"/>\n<text text-anchor=\"middle\" x=\"1077.5\" y=\"-289.8\" font-family=\"Times,serif\" font-size=\"14.00\">grad 0.0000</text>\n</g>\n<!-- 134612240511088* -->\n<g id=\"node115\" class=\"node\">\n<title>134612240511088*</title>\n<ellipse fill=\"none\" stroke=\"black\" cx=\"1184\" cy=\"-293.5\" rx=\"27\" ry=\"18\"/>\n<text text-anchor=\"middle\" x=\"1184\" y=\"-289.8\" font-family=\"Times,serif\" font-size=\"14.00\">*</text>\n</g>\n<!-- 134612240090064&#45;&gt;134612240511088* -->\n<g id=\"edge111\" class=\"edge\">\n<title>134612240090064&#45;&gt;134612240511088*</title>\n<path fill=\"none\" stroke=\"black\" d=\"M1118.82,-293.5C1128.57,-293.5 1138.04,-293.5 1146.57,-293.5\"/>\n<polygon fill=\"black\" stroke=\"black\" points=\"1146.83,-297 1156.83,-293.5 1146.83,-290 1146.83,-297\"/>\n</g>\n<!-- 134612241589216 -->\n<g id=\"node21\" class=\"node\">\n<title>134612241589216</title>\n<polygon fill=\"none\" stroke=\"black\" points=\"1875.5,-770.5 1875.5,-806.5 2057.5,-806.5 2057.5,-770.5 1875.5,-770.5\"/>\n<text text-anchor=\"middle\" x=\"1885.5\" y=\"-784.8\" font-family=\"Times,serif\" font-size=\"14.00\"> </text>\n<polyline fill=\"none\" stroke=\"black\" points=\"1895.5,-770.5 1895.5,-806.5 \"/>\n<text text-anchor=\"middle\" x=\"1935.5\" y=\"-784.8\" font-family=\"Times,serif\" font-size=\"14.00\">data 0.3822</text>\n<polyline fill=\"none\" stroke=\"black\" points=\"1975.5,-770.5 1975.5,-806.5 \"/>\n<text text-anchor=\"middle\" x=\"2016.5\" y=\"-784.8\" font-family=\"Times,serif\" font-size=\"14.00\">grad 0.0000</text>\n</g>\n<!-- 134612241589216&#45;&gt;134612240744560+ -->\n<g id=\"edge93\" class=\"edge\">\n<title>134612241589216&#45;&gt;134612240744560+</title>\n<path fill=\"none\" stroke=\"black\" d=\"M2057.82,-788.5C2067.57,-788.5 2077.04,-788.5 2085.57,-788.5\"/>\n<polygon fill=\"black\" stroke=\"black\" points=\"2085.83,-792 2095.83,-788.5 2085.83,-785 2085.83,-792\"/>\n</g>\n<!-- 134612241589216* -->\n<g id=\"node22\" class=\"node\">\n<title>134612241589216*</title>\n<ellipse fill=\"none\" stroke=\"black\" cx=\"1810\" cy=\"-733.5\" rx=\"27\" ry=\"18\"/>\n<text text-anchor=\"middle\" x=\"1810\" y=\"-729.8\" font-family=\"Times,serif\" font-size=\"14.00\">*</text>\n</g>\n<!-- 134612241589216*&#45;&gt;134612241589216 -->\n<g id=\"edge8\" class=\"edge\">\n<title>134612241589216*&#45;&gt;134612241589216</title>\n<path fill=\"none\" stroke=\"black\" d=\"M1832.21,-743.97C1844.05,-749.59 1859.15,-756.38 1873,-761.5 1878.43,-763.51 1884.08,-765.46 1889.79,-767.35\"/>\n<polygon fill=\"black\" stroke=\"black\" points=\"1888.85,-770.72 1899.44,-770.45 1890.99,-764.06 1888.85,-770.72\"/>\n</g>\n<!-- 134612240745520 -->\n<g id=\"node23\" class=\"node\">\n<title>134612240745520</title>\n<polygon fill=\"none\" stroke=\"black\" points=\"2812,-755.5 2812,-791.5 2999,-791.5 2999,-755.5 2812,-755.5\"/>\n<text text-anchor=\"middle\" x=\"2822\" y=\"-769.8\" font-family=\"Times,serif\" font-size=\"14.00\"> </text>\n<polyline fill=\"none\" stroke=\"black\" points=\"2832,-755.5 2832,-791.5 \"/>\n<text text-anchor=\"middle\" x=\"2874.5\" y=\"-769.8\" font-family=\"Times,serif\" font-size=\"14.00\">data &#45;0.0429</text>\n<polyline fill=\"none\" stroke=\"black\" points=\"2917,-755.5 2917,-791.5 \"/>\n<text text-anchor=\"middle\" x=\"2958\" y=\"-769.8\" font-family=\"Times,serif\" font-size=\"14.00\">grad 0.0000</text>\n</g>\n<!-- 134612240745520&#45;&gt;134612240745712+ -->\n<g id=\"edge153\" class=\"edge\">\n<title>134612240745520&#45;&gt;134612240745712+</title>\n<path fill=\"none\" stroke=\"black\" d=\"M2947.51,-755.4C2963.58,-748.28 2982.16,-740.03 2999,-732.5 3009.03,-728.01 3019.95,-723.09 3029.8,-718.64\"/>\n<polygon fill=\"black\" stroke=\"black\" points=\"3031.54,-721.7 3039.21,-714.39 3028.66,-715.32 3031.54,-721.7\"/>\n</g>\n<!-- 134612240745520* -->\n<g id=\"node24\" class=\"node\">\n<title>134612240745520*</title>\n<ellipse fill=\"none\" stroke=\"black\" cx=\"2749\" cy=\"-786.5\" rx=\"27\" ry=\"18\"/>\n<text text-anchor=\"middle\" x=\"2749\" y=\"-782.8\" font-family=\"Times,serif\" font-size=\"14.00\">*</text>\n</g>\n<!-- 134612240745520*&#45;&gt;134612240745520 -->\n<g id=\"edge9\" class=\"edge\">\n<title>134612240745520*&#45;&gt;134612240745520</title>\n<path fill=\"none\" stroke=\"black\" d=\"M2775.86,-784.32C2783.51,-783.68 2792.39,-782.93 2801.84,-782.14\"/>\n<polygon fill=\"black\" stroke=\"black\" points=\"2802.2,-785.62 2811.87,-781.29 2801.62,-778.64 2802.2,-785.62\"/>\n</g>\n<!-- 134612240098512 -->\n<g id=\"node25\" class=\"node\">\n<title>134612240098512</title>\n<polygon fill=\"none\" stroke=\"black\" points=\"623.5,-440.5 623.5,-476.5 805.5,-476.5 805.5,-440.5 623.5,-440.5\"/>\n<text text-anchor=\"middle\" x=\"633.5\" y=\"-454.8\" font-family=\"Times,serif\" font-size=\"14.00\"> </text>\n<polyline fill=\"none\" stroke=\"black\" points=\"643.5,-440.5 643.5,-476.5 \"/>\n<text text-anchor=\"middle\" x=\"683.5\" y=\"-454.8\" font-family=\"Times,serif\" font-size=\"14.00\">data 0.6258</text>\n<polyline fill=\"none\" stroke=\"black\" points=\"723.5,-440.5 723.5,-476.5 \"/>\n<text text-anchor=\"middle\" x=\"764.5\" y=\"-454.8\" font-family=\"Times,serif\" font-size=\"14.00\">grad 0.0000</text>\n</g>\n<!-- 134612240500816* -->\n<g id=\"node48\" class=\"node\">\n<title>134612240500816*</title>\n<ellipse fill=\"none\" stroke=\"black\" cx=\"871\" cy=\"-403.5\" rx=\"27\" ry=\"18\"/>\n<text text-anchor=\"middle\" x=\"871\" y=\"-399.8\" font-family=\"Times,serif\" font-size=\"14.00\">*</text>\n</g>\n<!-- 134612240098512&#45;&gt;134612240500816* -->\n<g id=\"edge133\" class=\"edge\">\n<title>134612240098512&#45;&gt;134612240500816*</title>\n<path fill=\"none\" stroke=\"black\" d=\"M779.02,-440.35C788.79,-437.24 798.71,-433.92 808,-430.5 818.25,-426.73 829.23,-422.14 839.07,-417.82\"/>\n<polygon fill=\"black\" stroke=\"black\" points=\"840.74,-420.9 848.45,-413.63 837.89,-414.51 840.74,-420.9\"/>\n</g>\n<!-- 134612240745712 -->\n<g id=\"node26\" class=\"node\">\n<title>134612240745712</title>\n<polygon fill=\"none\" stroke=\"black\" points=\"3127.5,-686.5 3127.5,-722.5 3309.5,-722.5 3309.5,-686.5 3127.5,-686.5\"/>\n<text text-anchor=\"middle\" x=\"3137.5\" y=\"-700.8\" font-family=\"Times,serif\" font-size=\"14.00\"> </text>\n<polyline fill=\"none\" stroke=\"black\" points=\"3147.5,-686.5 3147.5,-722.5 \"/>\n<text text-anchor=\"middle\" x=\"3187.5\" y=\"-700.8\" font-family=\"Times,serif\" font-size=\"14.00\">data 1.6457</text>\n<polyline fill=\"none\" stroke=\"black\" points=\"3227.5,-686.5 3227.5,-722.5 \"/>\n<text text-anchor=\"middle\" x=\"3268.5\" y=\"-700.8\" font-family=\"Times,serif\" font-size=\"14.00\">grad 0.0000</text>\n</g>\n<!-- 134612240745808tanh -->\n<g id=\"node29\" class=\"node\">\n<title>134612240745808tanh</title>\n<ellipse fill=\"none\" stroke=\"black\" cx=\"3375\" cy=\"-704.5\" rx=\"27\" ry=\"18\"/>\n<text text-anchor=\"middle\" x=\"3375\" y=\"-700.8\" font-family=\"Times,serif\" font-size=\"14.00\">tanh</text>\n</g>\n<!-- 134612240745712&#45;&gt;134612240745808tanh -->\n<g id=\"edge181\" class=\"edge\">\n<title>134612240745712&#45;&gt;134612240745808tanh</title>\n<path fill=\"none\" stroke=\"black\" d=\"M3309.82,-704.5C3319.57,-704.5 3329.04,-704.5 3337.57,-704.5\"/>\n<polygon fill=\"black\" stroke=\"black\" points=\"3337.83,-708 3347.83,-704.5 3337.83,-701 3337.83,-708\"/>\n</g>\n<!-- 134612240745712+&#45;&gt;134612240745712 -->\n<g id=\"edge10\" class=\"edge\">\n<title>134612240745712+&#45;&gt;134612240745712</title>\n<path fill=\"none\" stroke=\"black\" d=\"M3089.21,-704.5C3097.34,-704.5 3106.85,-704.5 3116.94,-704.5\"/>\n<polygon fill=\"black\" stroke=\"black\" points=\"3117.19,-708 3127.19,-704.5 3117.19,-701 3117.19,-708\"/>\n</g>\n<!-- 134612240745808 -->\n<g id=\"node28\" class=\"node\">\n<title>134612240745808</title>\n<polygon fill=\"none\" stroke=\"black\" points=\"3440.5,-686.5 3440.5,-722.5 3622.5,-722.5 3622.5,-686.5 3440.5,-686.5\"/>\n<text text-anchor=\"middle\" x=\"3450.5\" y=\"-700.8\" font-family=\"Times,serif\" font-size=\"14.00\"> </text>\n<polyline fill=\"none\" stroke=\"black\" points=\"3460.5,-686.5 3460.5,-722.5 \"/>\n<text text-anchor=\"middle\" x=\"3500.5\" y=\"-700.8\" font-family=\"Times,serif\" font-size=\"14.00\">data 0.9283</text>\n<polyline fill=\"none\" stroke=\"black\" points=\"3540.5,-686.5 3540.5,-722.5 \"/>\n<text text-anchor=\"middle\" x=\"3581.5\" y=\"-700.8\" font-family=\"Times,serif\" font-size=\"14.00\">grad 0.0000</text>\n</g>\n<!-- 134612240747248* -->\n<g id=\"node78\" class=\"node\">\n<title>134612240747248*</title>\n<ellipse fill=\"none\" stroke=\"black\" cx=\"3688\" cy=\"-649.5\" rx=\"27\" ry=\"18\"/>\n<text text-anchor=\"middle\" x=\"3688\" y=\"-645.8\" font-family=\"Times,serif\" font-size=\"14.00\">*</text>\n</g>\n<!-- 134612240745808&#45;&gt;134612240747248* -->\n<g id=\"edge106\" class=\"edge\">\n<title>134612240745808&#45;&gt;134612240747248*</title>\n<path fill=\"none\" stroke=\"black\" d=\"M3598.56,-686.45C3607.51,-683.64 3616.53,-680.63 3625,-677.5 3635.49,-673.62 3646.71,-668.78 3656.68,-664.22\"/>\n<polygon fill=\"black\" stroke=\"black\" points=\"3658.2,-667.37 3665.79,-659.97 3655.25,-661.02 3658.2,-667.37\"/>\n</g>\n<!-- 134612240745808tanh&#45;&gt;134612240745808 -->\n<g id=\"edge11\" class=\"edge\">\n<title>134612240745808tanh&#45;&gt;134612240745808</title>\n<path fill=\"none\" stroke=\"black\" d=\"M3402.21,-704.5C3410.34,-704.5 3419.85,-704.5 3429.94,-704.5\"/>\n<polygon fill=\"black\" stroke=\"black\" points=\"3430.19,-708 3440.19,-704.5 3430.19,-701 3430.19,-708\"/>\n</g>\n<!-- 134612240098656 -->\n<g id=\"node30\" class=\"node\">\n<title>134612240098656</title>\n<polygon fill=\"none\" stroke=\"black\" points=\"1247,-770.5 1247,-806.5 1434,-806.5 1434,-770.5 1247,-770.5\"/>\n<text text-anchor=\"middle\" x=\"1257\" y=\"-784.8\" font-family=\"Times,serif\" font-size=\"14.00\"> </text>\n<polyline fill=\"none\" stroke=\"black\" points=\"1267,-770.5 1267,-806.5 \"/>\n<text text-anchor=\"middle\" x=\"1309.5\" y=\"-784.8\" font-family=\"Times,serif\" font-size=\"14.00\">data &#45;0.4299</text>\n<polyline fill=\"none\" stroke=\"black\" points=\"1352,-770.5 1352,-806.5 \"/>\n<text text-anchor=\"middle\" x=\"1393\" y=\"-784.8\" font-family=\"Times,serif\" font-size=\"14.00\">grad 0.0000</text>\n</g>\n<!-- 134612240459920+ -->\n<g id=\"node50\" class=\"node\">\n<title>134612240459920+</title>\n<ellipse fill=\"none\" stroke=\"black\" cx=\"1497\" cy=\"-788.5\" rx=\"27\" ry=\"18\"/>\n<text text-anchor=\"middle\" x=\"1497\" y=\"-784.8\" font-family=\"Times,serif\" font-size=\"14.00\">+</text>\n</g>\n<!-- 134612240098656&#45;&gt;134612240459920+ -->\n<g id=\"edge151\" class=\"edge\">\n<title>134612240098656&#45;&gt;134612240459920+</title>\n<path fill=\"none\" stroke=\"black\" d=\"M1434.05,-788.5C1443.06,-788.5 1451.79,-788.5 1459.7,-788.5\"/>\n<polygon fill=\"black\" stroke=\"black\" points=\"1459.95,-792 1469.95,-788.5 1459.95,-785 1459.95,-792\"/>\n</g>\n<!-- 134612240459248 -->\n<g id=\"node31\" class=\"node\">\n<title>134612240459248</title>\n<polygon fill=\"none\" stroke=\"black\" points=\"936.5,-770.5 936.5,-806.5 1118.5,-806.5 1118.5,-770.5 936.5,-770.5\"/>\n<text text-anchor=\"middle\" x=\"946.5\" y=\"-784.8\" font-family=\"Times,serif\" font-size=\"14.00\"> </text>\n<polyline fill=\"none\" stroke=\"black\" points=\"956.5,-770.5 956.5,-806.5 \"/>\n<text text-anchor=\"middle\" x=\"996.5\" y=\"-784.8\" font-family=\"Times,serif\" font-size=\"14.00\">data 2.0000</text>\n<polyline fill=\"none\" stroke=\"black\" points=\"1036.5,-770.5 1036.5,-806.5 \"/>\n<text text-anchor=\"middle\" x=\"1077.5\" y=\"-784.8\" font-family=\"Times,serif\" font-size=\"14.00\">grad 0.0000</text>\n</g>\n<!-- 134612240459344* -->\n<g id=\"node33\" class=\"node\">\n<title>134612240459344*</title>\n<ellipse fill=\"none\" stroke=\"black\" cx=\"1184\" cy=\"-733.5\" rx=\"27\" ry=\"18\"/>\n<text text-anchor=\"middle\" x=\"1184\" y=\"-729.8\" font-family=\"Times,serif\" font-size=\"14.00\">*</text>\n</g>\n<!-- 134612240459248&#45;&gt;134612240459344* -->\n<g id=\"edge193\" class=\"edge\">\n<title>134612240459248&#45;&gt;134612240459344*</title>\n<path fill=\"none\" stroke=\"black\" d=\"M1094.56,-770.45C1103.51,-767.64 1112.53,-764.63 1121,-761.5 1131.49,-757.62 1142.71,-752.78 1152.68,-748.22\"/>\n<polygon fill=\"black\" stroke=\"black\" points=\"1154.2,-751.37 1161.79,-743.97 1151.25,-745.02 1154.2,-751.37\"/>\n</g>\n<!-- 134612240459344 -->\n<g id=\"node32\" class=\"node\">\n<title>134612240459344</title>\n<polygon fill=\"none\" stroke=\"black\" points=\"1249.5,-715.5 1249.5,-751.5 1431.5,-751.5 1431.5,-715.5 1249.5,-715.5\"/>\n<text text-anchor=\"middle\" x=\"1259.5\" y=\"-729.8\" font-family=\"Times,serif\" font-size=\"14.00\"> </text>\n<polyline fill=\"none\" stroke=\"black\" points=\"1269.5,-715.5 1269.5,-751.5 \"/>\n<text text-anchor=\"middle\" x=\"1309.5\" y=\"-729.8\" font-family=\"Times,serif\" font-size=\"14.00\">data 1.9257</text>\n<polyline fill=\"none\" stroke=\"black\" points=\"1349.5,-715.5 1349.5,-751.5 \"/>\n<text text-anchor=\"middle\" x=\"1390.5\" y=\"-729.8\" font-family=\"Times,serif\" font-size=\"14.00\">grad 0.0000</text>\n</g>\n<!-- 134612240459344&#45;&gt;134612240459920+ -->\n<g id=\"edge141\" class=\"edge\">\n<title>134612240459344&#45;&gt;134612240459920+</title>\n<path fill=\"none\" stroke=\"black\" d=\"M1405.02,-751.65C1414.79,-754.76 1424.71,-758.08 1434,-761.5 1444.25,-765.27 1455.23,-769.86 1465.07,-774.18\"/>\n<polygon fill=\"black\" stroke=\"black\" points=\"1463.89,-777.49 1474.45,-778.37 1466.74,-771.1 1463.89,-777.49\"/>\n</g>\n<!-- 134612240459344*&#45;&gt;134612240459344 -->\n<g id=\"edge12\" class=\"edge\">\n<title>134612240459344*&#45;&gt;134612240459344</title>\n<path fill=\"none\" stroke=\"black\" d=\"M1211.21,-733.5C1219.34,-733.5 1228.85,-733.5 1238.94,-733.5\"/>\n<polygon fill=\"black\" stroke=\"black\" points=\"1239.19,-737 1249.19,-733.5 1239.19,-730 1239.19,-737\"/>\n</g>\n<!-- 134612240746096 -->\n<g id=\"node34\" class=\"node\">\n<title>134612240746096</title>\n<polygon fill=\"none\" stroke=\"black\" points=\"3751,-466.5 3751,-502.5 3938,-502.5 3938,-466.5 3751,-466.5\"/>\n<text text-anchor=\"middle\" x=\"3761\" y=\"-480.8\" font-family=\"Times,serif\" font-size=\"14.00\"> </text>\n<polyline fill=\"none\" stroke=\"black\" points=\"3771,-466.5 3771,-502.5 \"/>\n<text text-anchor=\"middle\" x=\"3813.5\" y=\"-480.8\" font-family=\"Times,serif\" font-size=\"14.00\">data &#45;0.6381</text>\n<polyline fill=\"none\" stroke=\"black\" points=\"3856,-466.5 3856,-502.5 \"/>\n<text text-anchor=\"middle\" x=\"3897\" y=\"-480.8\" font-family=\"Times,serif\" font-size=\"14.00\">grad 0.0000</text>\n</g>\n<!-- 134612240746288+ -->\n<g id=\"node39\" class=\"node\">\n<title>134612240746288+</title>\n<ellipse fill=\"none\" stroke=\"black\" cx=\"4065\" cy=\"-484.5\" rx=\"27\" ry=\"18\"/>\n<text text-anchor=\"middle\" x=\"4065\" y=\"-480.8\" font-family=\"Times,serif\" font-size=\"14.00\">+</text>\n</g>\n<!-- 134612240746096&#45;&gt;134612240746288+ -->\n<g id=\"edge85\" class=\"edge\">\n<title>134612240746096&#45;&gt;134612240746288+</title>\n<path fill=\"none\" stroke=\"black\" d=\"M3938.16,-484.5C3969.57,-484.5 4002.85,-484.5 4027.3,-484.5\"/>\n<polygon fill=\"black\" stroke=\"black\" points=\"4027.53,-488 4037.53,-484.5 4027.53,-481 4027.53,-488\"/>\n</g>\n<!-- 134612240746096* -->\n<g id=\"node35\" class=\"node\">\n<title>134612240746096*</title>\n<ellipse fill=\"none\" stroke=\"black\" cx=\"3688\" cy=\"-484.5\" rx=\"27\" ry=\"18\"/>\n<text text-anchor=\"middle\" x=\"3688\" y=\"-480.8\" font-family=\"Times,serif\" font-size=\"14.00\">*</text>\n</g>\n<!-- 134612240746096*&#45;&gt;134612240746096 -->\n<g id=\"edge13\" class=\"edge\">\n<title>134612240746096*&#45;&gt;134612240746096</title>\n<path fill=\"none\" stroke=\"black\" d=\"M3715.21,-484.5C3722.73,-484.5 3731.43,-484.5 3740.67,-484.5\"/>\n<polygon fill=\"black\" stroke=\"black\" points=\"3740.89,-488 3750.89,-484.5 3740.89,-481 3740.89,-488\"/>\n</g>\n<!-- 134612240099040 -->\n<g id=\"node36\" class=\"node\">\n<title>134612240099040</title>\n<polygon fill=\"none\" stroke=\"black\" points=\"621,-220.5 621,-256.5 808,-256.5 808,-220.5 621,-220.5\"/>\n<text text-anchor=\"middle\" x=\"631\" y=\"-234.8\" font-family=\"Times,serif\" font-size=\"14.00\"> </text>\n<polyline fill=\"none\" stroke=\"black\" points=\"641,-220.5 641,-256.5 \"/>\n<text text-anchor=\"middle\" x=\"683.5\" y=\"-234.8\" font-family=\"Times,serif\" font-size=\"14.00\">data &#45;0.2191</text>\n<polyline fill=\"none\" stroke=\"black\" points=\"726,-220.5 726,-256.5 \"/>\n<text text-anchor=\"middle\" x=\"767\" y=\"-234.8\" font-family=\"Times,serif\" font-size=\"14.00\">grad 0.0000</text>\n</g>\n<!-- 134612240100576+ -->\n<g id=\"node93\" class=\"node\">\n<title>134612240100576+</title>\n<ellipse fill=\"none\" stroke=\"black\" cx=\"871\" cy=\"-183.5\" rx=\"27\" ry=\"18\"/>\n<text text-anchor=\"middle\" x=\"871\" y=\"-179.8\" font-family=\"Times,serif\" font-size=\"14.00\">+</text>\n</g>\n<!-- 134612240099040&#45;&gt;134612240100576+ -->\n<g id=\"edge74\" class=\"edge\">\n<title>134612240099040&#45;&gt;134612240100576+</title>\n<path fill=\"none\" stroke=\"black\" d=\"M779.02,-220.35C788.79,-217.24 798.71,-213.92 808,-210.5 818.25,-206.73 829.23,-202.14 839.07,-197.82\"/>\n<polygon fill=\"black\" stroke=\"black\" points=\"840.74,-200.9 848.45,-193.63 837.89,-194.51 840.74,-200.9\"/>\n</g>\n<!-- 134612240099040*&#45;&gt;134612240099040 -->\n<g id=\"edge14\" class=\"edge\">\n<title>134612240099040*&#45;&gt;134612240099040</title>\n<path fill=\"none\" stroke=\"black\" d=\"M585.21,-238.5C592.73,-238.5 601.43,-238.5 610.67,-238.5\"/>\n<polygon fill=\"black\" stroke=\"black\" points=\"610.89,-242 620.89,-238.5 610.89,-235 610.89,-242\"/>\n</g>\n<!-- 134612240746288 -->\n<g id=\"node38\" class=\"node\">\n<title>134612240746288</title>\n<polygon fill=\"none\" stroke=\"black\" points=\"4192,-468.5 4192,-504.5 4374,-504.5 4374,-468.5 4192,-468.5\"/>\n<text text-anchor=\"middle\" x=\"4202\" y=\"-482.8\" font-family=\"Times,serif\" font-size=\"14.00\"> </text>\n<polyline fill=\"none\" stroke=\"black\" points=\"4212,-468.5 4212,-504.5 \"/>\n<text text-anchor=\"middle\" x=\"4252\" y=\"-482.8\" font-family=\"Times,serif\" font-size=\"14.00\">data 0.2733</text>\n<polyline fill=\"none\" stroke=\"black\" points=\"4292,-468.5 4292,-504.5 \"/>\n<text text-anchor=\"middle\" x=\"4333\" y=\"-482.8\" font-family=\"Times,serif\" font-size=\"14.00\">grad 0.0000</text>\n</g>\n<!-- 134612240746672+ -->\n<g id=\"node52\" class=\"node\">\n<title>134612240746672+</title>\n<ellipse fill=\"none\" stroke=\"black\" cx=\"4437\" cy=\"-502.5\" rx=\"27\" ry=\"18\"/>\n<text text-anchor=\"middle\" x=\"4437\" y=\"-498.8\" font-family=\"Times,serif\" font-size=\"14.00\">+</text>\n</g>\n<!-- 134612240746288&#45;&gt;134612240746672+ -->\n<g id=\"edge110\" class=\"edge\">\n<title>134612240746288&#45;&gt;134612240746672+</title>\n<path fill=\"none\" stroke=\"black\" d=\"M4374.18,-495.99C4383.33,-496.96 4392.2,-497.89 4400.23,-498.74\"/>\n<polygon fill=\"black\" stroke=\"black\" points=\"4399.95,-502.22 4410.26,-499.79 4400.68,-495.26 4399.95,-502.22\"/>\n</g>\n<!-- 134612240746288+&#45;&gt;134612240746288 -->\n<g id=\"edge15\" class=\"edge\">\n<title>134612240746288+&#45;&gt;134612240746288</title>\n<path fill=\"none\" stroke=\"black\" d=\"M4092.05,-484.74C4114.53,-484.95 4148.48,-485.26 4181.5,-485.57\"/>\n<polygon fill=\"black\" stroke=\"black\" points=\"4181.67,-489.07 4191.7,-485.66 4181.74,-482.07 4181.67,-489.07\"/>\n</g>\n<!-- 134612240459632 -->\n<g id=\"node40\" class=\"node\">\n<title>134612240459632</title>\n<polygon fill=\"none\" stroke=\"black\" points=\"1560,-825.5 1560,-861.5 1747,-861.5 1747,-825.5 1560,-825.5\"/>\n<text text-anchor=\"middle\" x=\"1570\" y=\"-839.8\" font-family=\"Times,serif\" font-size=\"14.00\"> </text>\n<polyline fill=\"none\" stroke=\"black\" points=\"1580,-825.5 1580,-861.5 \"/>\n<text text-anchor=\"middle\" x=\"1622.5\" y=\"-839.8\" font-family=\"Times,serif\" font-size=\"14.00\">data &#45;0.7832</text>\n<polyline fill=\"none\" stroke=\"black\" points=\"1665,-825.5 1665,-861.5 \"/>\n<text text-anchor=\"middle\" x=\"1706\" y=\"-839.8\" font-family=\"Times,serif\" font-size=\"14.00\">grad 0.0000</text>\n</g>\n<!-- 134612240462416+ -->\n<g id=\"node130\" class=\"node\">\n<title>134612240462416+</title>\n<ellipse fill=\"none\" stroke=\"black\" cx=\"1810\" cy=\"-788.5\" rx=\"27\" ry=\"18\"/>\n<text text-anchor=\"middle\" x=\"1810\" y=\"-784.8\" font-family=\"Times,serif\" font-size=\"14.00\">+</text>\n</g>\n<!-- 134612240459632&#45;&gt;134612240462416+ -->\n<g id=\"edge196\" class=\"edge\">\n<title>134612240459632&#45;&gt;134612240462416+</title>\n<path fill=\"none\" stroke=\"black\" d=\"M1720.56,-825.45C1729.51,-822.64 1738.53,-819.63 1747,-816.5 1757.49,-812.62 1768.71,-807.78 1778.68,-803.22\"/>\n<polygon fill=\"black\" stroke=\"black\" points=\"1780.2,-806.37 1787.79,-798.97 1777.25,-800.02 1780.2,-806.37\"/>\n</g>\n<!-- 134612240459632* -->\n<g id=\"node41\" class=\"node\">\n<title>134612240459632*</title>\n<ellipse fill=\"none\" stroke=\"black\" cx=\"1497\" cy=\"-843.5\" rx=\"27\" ry=\"18\"/>\n<text text-anchor=\"middle\" x=\"1497\" y=\"-839.8\" font-family=\"Times,serif\" font-size=\"14.00\">*</text>\n</g>\n<!-- 134612240459632*&#45;&gt;134612240459632 -->\n<g id=\"edge16\" class=\"edge\">\n<title>134612240459632*&#45;&gt;134612240459632</title>\n<path fill=\"none\" stroke=\"black\" d=\"M1524.21,-843.5C1531.73,-843.5 1540.43,-843.5 1549.67,-843.5\"/>\n<polygon fill=\"black\" stroke=\"black\" points=\"1549.89,-847 1559.89,-843.5 1549.89,-840 1549.89,-847\"/>\n</g>\n<!-- 134612240746480 -->\n<g id=\"node42\" class=\"node\">\n<title>134612240746480</title>\n<polygon fill=\"none\" stroke=\"black\" points=\"3974,-521.5 3974,-557.5 4156,-557.5 4156,-521.5 3974,-521.5\"/>\n<text text-anchor=\"middle\" x=\"3984\" y=\"-535.8\" font-family=\"Times,serif\" font-size=\"14.00\"> </text>\n<polyline fill=\"none\" stroke=\"black\" points=\"3994,-521.5 3994,-557.5 \"/>\n<text text-anchor=\"middle\" x=\"4034\" y=\"-535.8\" font-family=\"Times,serif\" font-size=\"14.00\">data 0.6837</text>\n<polyline fill=\"none\" stroke=\"black\" points=\"4074,-521.5 4074,-557.5 \"/>\n<text text-anchor=\"middle\" x=\"4115\" y=\"-535.8\" font-family=\"Times,serif\" font-size=\"14.00\">grad 0.0000</text>\n</g>\n<!-- 134612240746480&#45;&gt;134612240746672+ -->\n<g id=\"edge199\" class=\"edge\">\n<title>134612240746480&#45;&gt;134612240746672+</title>\n<path fill=\"none\" stroke=\"black\" d=\"M4156.19,-534.07C4217.72,-529.82 4300.97,-523.04 4374,-513.5 4382.8,-512.35 4392.26,-510.82 4401.07,-509.27\"/>\n<polygon fill=\"black\" stroke=\"black\" points=\"4401.83,-512.69 4411.04,-507.46 4400.58,-505.81 4401.83,-512.69\"/>\n</g>\n<!-- 134612240746480* -->\n<g id=\"node43\" class=\"node\">\n<title>134612240746480*</title>\n<ellipse fill=\"none\" stroke=\"black\" cx=\"3688\" cy=\"-539.5\" rx=\"27\" ry=\"18\"/>\n<text text-anchor=\"middle\" x=\"3688\" y=\"-535.8\" font-family=\"Times,serif\" font-size=\"14.00\">*</text>\n</g>\n<!-- 134612240746480*&#45;&gt;134612240746480 -->\n<g id=\"edge17\" class=\"edge\">\n<title>134612240746480*&#45;&gt;134612240746480</title>\n<path fill=\"none\" stroke=\"black\" d=\"M3715.07,-539.5C3765.67,-539.5 3879.57,-539.5 3963.54,-539.5\"/>\n<polygon fill=\"black\" stroke=\"black\" points=\"3963.63,-543 3973.63,-539.5 3963.63,-536 3963.63,-543\"/>\n</g>\n<!-- 134612240099328 -->\n<g id=\"node44\" class=\"node\">\n<title>134612240099328</title>\n<polygon fill=\"none\" stroke=\"black\" points=\"0,-193.5 0,-229.5 182,-229.5 182,-193.5 0,-193.5\"/>\n<text text-anchor=\"middle\" x=\"10\" y=\"-207.8\" font-family=\"Times,serif\" font-size=\"14.00\"> </text>\n<polyline fill=\"none\" stroke=\"black\" points=\"20,-193.5 20,-229.5 \"/>\n<text text-anchor=\"middle\" x=\"60\" y=\"-207.8\" font-family=\"Times,serif\" font-size=\"14.00\">data 0.9442</text>\n<polyline fill=\"none\" stroke=\"black\" points=\"100,-193.5 100,-229.5 \"/>\n<text text-anchor=\"middle\" x=\"141\" y=\"-207.8\" font-family=\"Times,serif\" font-size=\"14.00\">grad 0.0000</text>\n</g>\n<!-- 134612240093760* -->\n<g id=\"node128\" class=\"node\">\n<title>134612240093760*</title>\n<ellipse fill=\"none\" stroke=\"black\" cx=\"245\" cy=\"-183.5\" rx=\"27\" ry=\"18\"/>\n<text text-anchor=\"middle\" x=\"245\" y=\"-179.8\" font-family=\"Times,serif\" font-size=\"14.00\">*</text>\n</g>\n<!-- 134612240099328&#45;&gt;134612240093760* -->\n<g id=\"edge123\" class=\"edge\">\n<title>134612240099328&#45;&gt;134612240093760*</title>\n<path fill=\"none\" stroke=\"black\" d=\"M182.18,-194.89C191.61,-193.15 200.75,-191.47 208.98,-189.95\"/>\n<polygon fill=\"black\" stroke=\"black\" points=\"209.66,-193.39 218.86,-188.13 208.39,-186.5 209.66,-193.39\"/>\n</g>\n<!-- 134612240459776 -->\n<g id=\"node45\" class=\"node\">\n<title>134612240459776</title>\n<polygon fill=\"none\" stroke=\"black\" points=\"1249.5,-880.5 1249.5,-916.5 1431.5,-916.5 1431.5,-880.5 1249.5,-880.5\"/>\n<text text-anchor=\"middle\" x=\"1259.5\" y=\"-894.8\" font-family=\"Times,serif\" font-size=\"14.00\"> </text>\n<polyline fill=\"none\" stroke=\"black\" points=\"1269.5,-880.5 1269.5,-916.5 \"/>\n<text text-anchor=\"middle\" x=\"1309.5\" y=\"-894.8\" font-family=\"Times,serif\" font-size=\"14.00\">data 3.0000</text>\n<polyline fill=\"none\" stroke=\"black\" points=\"1349.5,-880.5 1349.5,-916.5 \"/>\n<text text-anchor=\"middle\" x=\"1390.5\" y=\"-894.8\" font-family=\"Times,serif\" font-size=\"14.00\">grad 0.0000</text>\n</g>\n<!-- 134612240459776&#45;&gt;134612240459632* -->\n<g id=\"edge125\" class=\"edge\">\n<title>134612240459776&#45;&gt;134612240459632*</title>\n<path fill=\"none\" stroke=\"black\" d=\"M1407.56,-880.45C1416.51,-877.64 1425.53,-874.63 1434,-871.5 1444.49,-867.62 1455.71,-862.78 1465.68,-858.22\"/>\n<polygon fill=\"black\" stroke=\"black\" points=\"1467.2,-861.37 1474.79,-853.97 1464.25,-855.02 1467.2,-861.37\"/>\n</g>\n<!-- 134612240099376 -->\n<g id=\"node46\" class=\"node\">\n<title>134612240099376</title>\n<polygon fill=\"none\" stroke=\"black\" points=\"1562.5,-385.5 1562.5,-421.5 1744.5,-421.5 1744.5,-385.5 1562.5,-385.5\"/>\n<text text-anchor=\"middle\" x=\"1572.5\" y=\"-399.8\" font-family=\"Times,serif\" font-size=\"14.00\"> </text>\n<polyline fill=\"none\" stroke=\"black\" points=\"1582.5,-385.5 1582.5,-421.5 \"/>\n<text text-anchor=\"middle\" x=\"1622.5\" y=\"-399.8\" font-family=\"Times,serif\" font-size=\"14.00\">data 0.0840</text>\n<polyline fill=\"none\" stroke=\"black\" points=\"1662.5,-385.5 1662.5,-421.5 \"/>\n<text text-anchor=\"middle\" x=\"1703.5\" y=\"-399.8\" font-family=\"Times,serif\" font-size=\"14.00\">grad 0.0000</text>\n</g>\n<!-- 134612240456848* -->\n<g id=\"node183\" class=\"node\">\n<title>134612240456848*</title>\n<ellipse fill=\"none\" stroke=\"black\" cx=\"1810\" cy=\"-403.5\" rx=\"27\" ry=\"18\"/>\n<text text-anchor=\"middle\" x=\"1810\" y=\"-399.8\" font-family=\"Times,serif\" font-size=\"14.00\">*</text>\n</g>\n<!-- 134612240099376&#45;&gt;134612240456848* -->\n<g id=\"edge205\" class=\"edge\">\n<title>134612240099376&#45;&gt;134612240456848*</title>\n<path fill=\"none\" stroke=\"black\" d=\"M1744.82,-403.5C1754.57,-403.5 1764.04,-403.5 1772.57,-403.5\"/>\n<polygon fill=\"black\" stroke=\"black\" points=\"1772.83,-407 1782.83,-403.5 1772.83,-400 1772.83,-407\"/>\n</g>\n<!-- 134612240500816 -->\n<g id=\"node47\" class=\"node\">\n<title>134612240500816</title>\n<polygon fill=\"none\" stroke=\"black\" points=\"936.5,-385.5 936.5,-421.5 1118.5,-421.5 1118.5,-385.5 936.5,-385.5\"/>\n<text text-anchor=\"middle\" x=\"946.5\" y=\"-399.8\" font-family=\"Times,serif\" font-size=\"14.00\"> </text>\n<polyline fill=\"none\" stroke=\"black\" points=\"956.5,-385.5 956.5,-421.5 \"/>\n<text text-anchor=\"middle\" x=\"996.5\" y=\"-399.8\" font-family=\"Times,serif\" font-size=\"14.00\">data 1.8775</text>\n<polyline fill=\"none\" stroke=\"black\" points=\"1036.5,-385.5 1036.5,-421.5 \"/>\n<text text-anchor=\"middle\" x=\"1077.5\" y=\"-399.8\" font-family=\"Times,serif\" font-size=\"14.00\">grad 0.0000</text>\n</g>\n<!-- 134612240501056+ -->\n<g id=\"node58\" class=\"node\">\n<title>134612240501056+</title>\n<ellipse fill=\"none\" stroke=\"black\" cx=\"1184\" cy=\"-348.5\" rx=\"27\" ry=\"18\"/>\n<text text-anchor=\"middle\" x=\"1184\" y=\"-344.8\" font-family=\"Times,serif\" font-size=\"14.00\">+</text>\n</g>\n<!-- 134612240500816&#45;&gt;134612240501056+ -->\n<g id=\"edge120\" class=\"edge\">\n<title>134612240500816&#45;&gt;134612240501056+</title>\n<path fill=\"none\" stroke=\"black\" d=\"M1092.02,-385.35C1101.79,-382.24 1111.71,-378.92 1121,-375.5 1131.25,-371.73 1142.23,-367.14 1152.07,-362.82\"/>\n<polygon fill=\"black\" stroke=\"black\" points=\"1153.74,-365.9 1161.45,-358.63 1150.89,-359.51 1153.74,-365.9\"/>\n</g>\n<!-- 134612240500816*&#45;&gt;134612240500816 -->\n<g id=\"edge18\" class=\"edge\">\n<title>134612240500816*&#45;&gt;134612240500816</title>\n<path fill=\"none\" stroke=\"black\" d=\"M898.21,-403.5C906.34,-403.5 915.85,-403.5 925.94,-403.5\"/>\n<polygon fill=\"black\" stroke=\"black\" points=\"926.19,-407 936.19,-403.5 926.19,-400 926.19,-407\"/>\n</g>\n<!-- 134612240459920 -->\n<g id=\"node49\" class=\"node\">\n<title>134612240459920</title>\n<polygon fill=\"none\" stroke=\"black\" points=\"1562.5,-770.5 1562.5,-806.5 1744.5,-806.5 1744.5,-770.5 1562.5,-770.5\"/>\n<text text-anchor=\"middle\" x=\"1572.5\" y=\"-784.8\" font-family=\"Times,serif\" font-size=\"14.00\"> </text>\n<polyline fill=\"none\" stroke=\"black\" points=\"1582.5,-770.5 1582.5,-806.5 \"/>\n<text text-anchor=\"middle\" x=\"1622.5\" y=\"-784.8\" font-family=\"Times,serif\" font-size=\"14.00\">data 1.4958</text>\n<polyline fill=\"none\" stroke=\"black\" points=\"1662.5,-770.5 1662.5,-806.5 \"/>\n<text text-anchor=\"middle\" x=\"1703.5\" y=\"-784.8\" font-family=\"Times,serif\" font-size=\"14.00\">grad 0.0000</text>\n</g>\n<!-- 134612240459920&#45;&gt;134612240462416+ -->\n<g id=\"edge155\" class=\"edge\">\n<title>134612240459920&#45;&gt;134612240462416+</title>\n<path fill=\"none\" stroke=\"black\" d=\"M1744.82,-788.5C1754.57,-788.5 1764.04,-788.5 1772.57,-788.5\"/>\n<polygon fill=\"black\" stroke=\"black\" points=\"1772.83,-792 1782.83,-788.5 1772.83,-785 1772.83,-792\"/>\n</g>\n<!-- 134612240459920+&#45;&gt;134612240459920 -->\n<g id=\"edge19\" class=\"edge\">\n<title>134612240459920+&#45;&gt;134612240459920</title>\n<path fill=\"none\" stroke=\"black\" d=\"M1524.21,-788.5C1532.34,-788.5 1541.85,-788.5 1551.94,-788.5\"/>\n<polygon fill=\"black\" stroke=\"black\" points=\"1552.19,-792 1562.19,-788.5 1552.19,-785 1552.19,-792\"/>\n</g>\n<!-- 134612240746672 -->\n<g id=\"node51\" class=\"node\">\n<title>134612240746672</title>\n<polygon fill=\"none\" stroke=\"black\" points=\"4500,-484.5 4500,-520.5 4682,-520.5 4682,-484.5 4500,-484.5\"/>\n<text text-anchor=\"middle\" x=\"4510\" y=\"-498.8\" font-family=\"Times,serif\" font-size=\"14.00\"> </text>\n<polyline fill=\"none\" stroke=\"black\" points=\"4520,-484.5 4520,-520.5 \"/>\n<text text-anchor=\"middle\" x=\"4560\" y=\"-498.8\" font-family=\"Times,serif\" font-size=\"14.00\">data 0.9570</text>\n<polyline fill=\"none\" stroke=\"black\" points=\"4600,-484.5 4600,-520.5 \"/>\n<text text-anchor=\"middle\" x=\"4641\" y=\"-498.8\" font-family=\"Times,serif\" font-size=\"14.00\">grad 0.0000</text>\n</g>\n<!-- 134612240747056+ -->\n<g id=\"node69\" class=\"node\">\n<title>134612240747056+</title>\n<ellipse fill=\"none\" stroke=\"black\" cx=\"4745\" cy=\"-502.5\" rx=\"27\" ry=\"18\"/>\n<text text-anchor=\"middle\" x=\"4745\" y=\"-498.8\" font-family=\"Times,serif\" font-size=\"14.00\">+</text>\n</g>\n<!-- 134612240746672&#45;&gt;134612240747056+ -->\n<g id=\"edge185\" class=\"edge\">\n<title>134612240746672&#45;&gt;134612240747056+</title>\n<path fill=\"none\" stroke=\"black\" d=\"M4682.18,-502.5C4691.14,-502.5 4699.83,-502.5 4707.73,-502.5\"/>\n<polygon fill=\"black\" stroke=\"black\" points=\"4707.96,-506 4717.96,-502.5 4707.96,-499 4707.96,-506\"/>\n</g>\n<!-- 134612240746672+&#45;&gt;134612240746672 -->\n<g id=\"edge20\" class=\"edge\">\n<title>134612240746672+&#45;&gt;134612240746672</title>\n<path fill=\"none\" stroke=\"black\" d=\"M4464.13,-502.5C4471.67,-502.5 4480.39,-502.5 4489.64,-502.5\"/>\n<polygon fill=\"black\" stroke=\"black\" points=\"4489.87,-506 4499.87,-502.5 4489.87,-499 4489.87,-506\"/>\n</g>\n<!-- 134612240091312 -->\n<g id=\"node53\" class=\"node\">\n<title>134612240091312</title>\n<polygon fill=\"none\" stroke=\"black\" points=\"2501.5,-770.5 2501.5,-806.5 2683.5,-806.5 2683.5,-770.5 2501.5,-770.5\"/>\n<text text-anchor=\"middle\" x=\"2511.5\" y=\"-784.8\" font-family=\"Times,serif\" font-size=\"14.00\"> </text>\n<polyline fill=\"none\" stroke=\"black\" points=\"2521.5,-770.5 2521.5,-806.5 \"/>\n<text text-anchor=\"middle\" x=\"2561.5\" y=\"-784.8\" font-family=\"Times,serif\" font-size=\"14.00\">data 0.7907</text>\n<polyline fill=\"none\" stroke=\"black\" points=\"2601.5,-770.5 2601.5,-806.5 \"/>\n<text text-anchor=\"middle\" x=\"2642.5\" y=\"-784.8\" font-family=\"Times,serif\" font-size=\"14.00\">grad 0.0000</text>\n</g>\n<!-- 134612240460544* -->\n<g id=\"node80\" class=\"node\">\n<title>134612240460544*</title>\n<ellipse fill=\"none\" stroke=\"black\" cx=\"2749\" cy=\"-732.5\" rx=\"27\" ry=\"18\"/>\n<text text-anchor=\"middle\" x=\"2749\" y=\"-728.8\" font-family=\"Times,serif\" font-size=\"14.00\">*</text>\n</g>\n<!-- 134612240091312&#45;&gt;134612240460544* -->\n<g id=\"edge180\" class=\"edge\">\n<title>134612240091312&#45;&gt;134612240460544*</title>\n<path fill=\"none\" stroke=\"black\" d=\"M2660.1,-770.4C2668.88,-767.62 2677.7,-764.63 2686,-761.5 2696.62,-757.49 2707.94,-752.44 2717.96,-747.68\"/>\n<polygon fill=\"black\" stroke=\"black\" points=\"2719.64,-750.76 2727.11,-743.25 2716.59,-744.46 2719.64,-750.76\"/>\n</g>\n<!-- 134612240099520 -->\n<g id=\"node54\" class=\"node\">\n<title>134612240099520</title>\n<polygon fill=\"none\" stroke=\"black\" points=\"2501.5,-495.5 2501.5,-531.5 2683.5,-531.5 2683.5,-495.5 2501.5,-495.5\"/>\n<text text-anchor=\"middle\" x=\"2511.5\" y=\"-509.8\" font-family=\"Times,serif\" font-size=\"14.00\"> </text>\n<polyline fill=\"none\" stroke=\"black\" points=\"2521.5,-495.5 2521.5,-531.5 \"/>\n<text text-anchor=\"middle\" x=\"2561.5\" y=\"-509.8\" font-family=\"Times,serif\" font-size=\"14.00\">data 0.0888</text>\n<polyline fill=\"none\" stroke=\"black\" points=\"2601.5,-495.5 2601.5,-531.5 \"/>\n<text text-anchor=\"middle\" x=\"2642.5\" y=\"-509.8\" font-family=\"Times,serif\" font-size=\"14.00\">grad 0.0000</text>\n</g>\n<!-- 134612241590848* -->\n<g id=\"node72\" class=\"node\">\n<title>134612241590848*</title>\n<ellipse fill=\"none\" stroke=\"black\" cx=\"2749\" cy=\"-513.5\" rx=\"27\" ry=\"18\"/>\n<text text-anchor=\"middle\" x=\"2749\" y=\"-509.8\" font-family=\"Times,serif\" font-size=\"14.00\">*</text>\n</g>\n<!-- 134612240099520&#45;&gt;134612241590848* -->\n<g id=\"edge160\" class=\"edge\">\n<title>134612240099520&#45;&gt;134612241590848*</title>\n<path fill=\"none\" stroke=\"black\" d=\"M2683.82,-513.5C2693.57,-513.5 2703.04,-513.5 2711.57,-513.5\"/>\n<polygon fill=\"black\" stroke=\"black\" points=\"2711.83,-517 2721.83,-513.5 2711.83,-510 2711.83,-517\"/>\n</g>\n<!-- 134612240099568 -->\n<g id=\"node55\" class=\"node\">\n<title>134612240099568</title>\n<polygon fill=\"none\" stroke=\"black\" points=\"310.5,-385.5 310.5,-421.5 492.5,-421.5 492.5,-385.5 310.5,-385.5\"/>\n<text text-anchor=\"middle\" x=\"320.5\" y=\"-399.8\" font-family=\"Times,serif\" font-size=\"14.00\"> </text>\n<polyline fill=\"none\" stroke=\"black\" points=\"330.5,-385.5 330.5,-421.5 \"/>\n<text text-anchor=\"middle\" x=\"370.5\" y=\"-399.8\" font-family=\"Times,serif\" font-size=\"14.00\">data 2.0000</text>\n<polyline fill=\"none\" stroke=\"black\" points=\"410.5,-385.5 410.5,-421.5 \"/>\n<text text-anchor=\"middle\" x=\"451.5\" y=\"-399.8\" font-family=\"Times,serif\" font-size=\"14.00\">grad 0.0000</text>\n</g>\n<!-- 134612240099568&#45;&gt;134612240098128* -->\n<g id=\"edge115\" class=\"edge\">\n<title>134612240099568&#45;&gt;134612240098128*</title>\n<path fill=\"none\" stroke=\"black\" d=\"M466.02,-385.35C475.79,-382.24 485.71,-378.92 495,-375.5 505.25,-371.73 516.23,-367.14 526.07,-362.82\"/>\n<polygon fill=\"black\" stroke=\"black\" points=\"527.74,-365.9 535.45,-358.63 524.89,-359.51 527.74,-365.9\"/>\n</g>\n<!-- 134612240099616 -->\n<g id=\"node56\" class=\"node\">\n<title>134612240099616</title>\n<polygon fill=\"none\" stroke=\"black\" points=\"1562.5,-165.5 1562.5,-201.5 1744.5,-201.5 1744.5,-165.5 1562.5,-165.5\"/>\n<text text-anchor=\"middle\" x=\"1572.5\" y=\"-179.8\" font-family=\"Times,serif\" font-size=\"14.00\"> </text>\n<polyline fill=\"none\" stroke=\"black\" points=\"1582.5,-165.5 1582.5,-201.5 \"/>\n<text text-anchor=\"middle\" x=\"1622.5\" y=\"-179.8\" font-family=\"Times,serif\" font-size=\"14.00\">data 0.9800</text>\n<polyline fill=\"none\" stroke=\"black\" points=\"1662.5,-165.5 1662.5,-201.5 \"/>\n<text text-anchor=\"middle\" x=\"1703.5\" y=\"-179.8\" font-family=\"Times,serif\" font-size=\"14.00\">grad 0.0000</text>\n</g>\n<!-- 134612240461408* -->\n<g id=\"node104\" class=\"node\">\n<title>134612240461408*</title>\n<ellipse fill=\"none\" stroke=\"black\" cx=\"1810\" cy=\"-238.5\" rx=\"27\" ry=\"18\"/>\n<text text-anchor=\"middle\" x=\"1810\" y=\"-234.8\" font-family=\"Times,serif\" font-size=\"14.00\">*</text>\n</g>\n<!-- 134612240099616&#45;&gt;134612240461408* -->\n<g id=\"edge129\" class=\"edge\">\n<title>134612240099616&#45;&gt;134612240461408*</title>\n<path fill=\"none\" stroke=\"black\" d=\"M1720.56,-201.55C1729.51,-204.36 1738.53,-207.37 1747,-210.5 1757.49,-214.38 1768.71,-219.22 1778.68,-223.78\"/>\n<polygon fill=\"black\" stroke=\"black\" points=\"1777.25,-226.98 1787.79,-228.03 1780.2,-220.63 1777.25,-226.98\"/>\n</g>\n<!-- 134612240501056 -->\n<g id=\"node57\" class=\"node\">\n<title>134612240501056</title>\n<polygon fill=\"none\" stroke=\"black\" points=\"1249.5,-330.5 1249.5,-366.5 1431.5,-366.5 1431.5,-330.5 1249.5,-330.5\"/>\n<text text-anchor=\"middle\" x=\"1259.5\" y=\"-344.8\" font-family=\"Times,serif\" font-size=\"14.00\"> </text>\n<polyline fill=\"none\" stroke=\"black\" points=\"1269.5,-330.5 1269.5,-366.5 \"/>\n<text text-anchor=\"middle\" x=\"1309.5\" y=\"-344.8\" font-family=\"Times,serif\" font-size=\"14.00\">data 2.2547</text>\n<polyline fill=\"none\" stroke=\"black\" points=\"1349.5,-330.5 1349.5,-366.5 \"/>\n<text text-anchor=\"middle\" x=\"1390.5\" y=\"-344.8\" font-family=\"Times,serif\" font-size=\"14.00\">grad 0.0000</text>\n</g>\n<!-- 134612240509648+ -->\n<g id=\"node75\" class=\"node\">\n<title>134612240509648+</title>\n<ellipse fill=\"none\" stroke=\"black\" cx=\"1497\" cy=\"-293.5\" rx=\"27\" ry=\"18\"/>\n<text text-anchor=\"middle\" x=\"1497\" y=\"-289.8\" font-family=\"Times,serif\" font-size=\"14.00\">+</text>\n</g>\n<!-- 134612240501056&#45;&gt;134612240509648+ -->\n<g id=\"edge159\" class=\"edge\">\n<title>134612240501056&#45;&gt;134612240509648+</title>\n<path fill=\"none\" stroke=\"black\" d=\"M1405.02,-330.35C1414.79,-327.24 1424.71,-323.92 1434,-320.5 1444.25,-316.73 1455.23,-312.14 1465.07,-307.82\"/>\n<polygon fill=\"black\" stroke=\"black\" points=\"1466.74,-310.9 1474.45,-303.63 1463.89,-304.51 1466.74,-310.9\"/>\n</g>\n<!-- 134612240501056+&#45;&gt;134612240501056 -->\n<g id=\"edge21\" class=\"edge\">\n<title>134612240501056+&#45;&gt;134612240501056</title>\n<path fill=\"none\" stroke=\"black\" d=\"M1211.21,-348.5C1219.34,-348.5 1228.85,-348.5 1238.94,-348.5\"/>\n<polygon fill=\"black\" stroke=\"black\" points=\"1239.19,-352 1249.19,-348.5 1239.19,-345 1239.19,-352\"/>\n</g>\n<!-- 134612240746864 -->\n<g id=\"node59\" class=\"node\">\n<title>134612240746864</title>\n<polygon fill=\"none\" stroke=\"black\" points=\"4192,-390.5 4192,-426.5 4374,-426.5 4374,-390.5 4192,-390.5\"/>\n<text text-anchor=\"middle\" x=\"4202\" y=\"-404.8\" font-family=\"Times,serif\" font-size=\"14.00\"> </text>\n<polyline fill=\"none\" stroke=\"black\" points=\"4212,-390.5 4212,-426.5 \"/>\n<text text-anchor=\"middle\" x=\"4252\" y=\"-404.8\" font-family=\"Times,serif\" font-size=\"14.00\">data 0.1403</text>\n<polyline fill=\"none\" stroke=\"black\" points=\"4292,-390.5 4292,-426.5 \"/>\n<text text-anchor=\"middle\" x=\"4333\" y=\"-404.8\" font-family=\"Times,serif\" font-size=\"14.00\">grad 0.0000</text>\n</g>\n<!-- 134612240746864&#45;&gt;134612240747056+ -->\n<g id=\"edge142\" class=\"edge\">\n<title>134612240746864&#45;&gt;134612240747056+</title>\n<path fill=\"none\" stroke=\"black\" d=\"M4374.04,-416.68C4455.71,-425.69 4578.77,-443.22 4682,-474.5 4692.79,-477.77 4704.16,-482.5 4714.17,-487.14\"/>\n<polygon fill=\"black\" stroke=\"black\" points=\"4712.76,-490.34 4723.29,-491.51 4715.79,-484.03 4712.76,-490.34\"/>\n</g>\n<!-- 134612240746864*&#45;&gt;134612240746864 -->\n<g id=\"edge22\" class=\"edge\">\n<title>134612240746864*&#45;&gt;134612240746864</title>\n<path fill=\"none\" stroke=\"black\" d=\"M3715.25,-376C3795.61,-380.61 4041.33,-394.7 4181.42,-402.73\"/>\n<polygon fill=\"black\" stroke=\"black\" points=\"4181.55,-406.25 4191.74,-403.32 4181.95,-399.26 4181.55,-406.25\"/>\n</g>\n<!-- 134612240460160 -->\n<g id=\"node61\" class=\"node\">\n<title>134612240460160</title>\n<polygon fill=\"none\" stroke=\"black\" points=\"1560,-660.5 1560,-696.5 1747,-696.5 1747,-660.5 1560,-660.5\"/>\n<text text-anchor=\"middle\" x=\"1570\" y=\"-674.8\" font-family=\"Times,serif\" font-size=\"14.00\"> </text>\n<polyline fill=\"none\" stroke=\"black\" points=\"1580,-660.5 1580,-696.5 \"/>\n<text text-anchor=\"middle\" x=\"1622.5\" y=\"-674.8\" font-family=\"Times,serif\" font-size=\"14.00\">data &#45;1.0000</text>\n<polyline fill=\"none\" stroke=\"black\" points=\"1665,-660.5 1665,-696.5 \"/>\n<text text-anchor=\"middle\" x=\"1706\" y=\"-674.8\" font-family=\"Times,serif\" font-size=\"14.00\">grad 0.0000</text>\n</g>\n<!-- 134612240460256* -->\n<g id=\"node67\" class=\"node\">\n<title>134612240460256*</title>\n<ellipse fill=\"none\" stroke=\"black\" cx=\"1810\" cy=\"-678.5\" rx=\"27\" ry=\"18\"/>\n<text text-anchor=\"middle\" x=\"1810\" y=\"-674.8\" font-family=\"Times,serif\" font-size=\"14.00\">*</text>\n</g>\n<!-- 134612240460160&#45;&gt;134612240460256* -->\n<g id=\"edge135\" class=\"edge\">\n<title>134612240460160&#45;&gt;134612240460256*</title>\n<path fill=\"none\" stroke=\"black\" d=\"M1747.05,-678.5C1756.06,-678.5 1764.79,-678.5 1772.7,-678.5\"/>\n<polygon fill=\"black\" stroke=\"black\" points=\"1772.95,-682 1782.95,-678.5 1772.95,-675 1772.95,-682\"/>\n</g>\n<!-- 134612241713520 -->\n<g id=\"node62\" class=\"node\">\n<title>134612241713520</title>\n<polygon fill=\"none\" stroke=\"black\" points=\"1875.5,-0.5 1875.5,-36.5 2057.5,-36.5 2057.5,-0.5 1875.5,-0.5\"/>\n<text text-anchor=\"middle\" x=\"1885.5\" y=\"-14.8\" font-family=\"Times,serif\" font-size=\"14.00\"> </text>\n<polyline fill=\"none\" stroke=\"black\" points=\"1895.5,-0.5 1895.5,-36.5 \"/>\n<text text-anchor=\"middle\" x=\"1935.5\" y=\"-14.8\" font-family=\"Times,serif\" font-size=\"14.00\">data 0.8240</text>\n<polyline fill=\"none\" stroke=\"black\" points=\"1975.5,-0.5 1975.5,-36.5 \"/>\n<text text-anchor=\"middle\" x=\"2016.5\" y=\"-14.8\" font-family=\"Times,serif\" font-size=\"14.00\">grad 0.0000</text>\n</g>\n<!-- 134612242076176+ -->\n<g id=\"node126\" class=\"node\">\n<title>134612242076176+</title>\n<ellipse fill=\"none\" stroke=\"black\" cx=\"2123\" cy=\"-73.5\" rx=\"27\" ry=\"18\"/>\n<text text-anchor=\"middle\" x=\"2123\" y=\"-69.8\" font-family=\"Times,serif\" font-size=\"14.00\">+</text>\n</g>\n<!-- 134612241713520&#45;&gt;134612242076176+ -->\n<g id=\"edge146\" class=\"edge\">\n<title>134612241713520&#45;&gt;134612242076176+</title>\n<path fill=\"none\" stroke=\"black\" d=\"M2033.56,-36.55C2042.51,-39.36 2051.53,-42.37 2060,-45.5 2070.49,-49.38 2081.71,-54.22 2091.68,-58.78\"/>\n<polygon fill=\"black\" stroke=\"black\" points=\"2090.25,-61.98 2100.79,-63.03 2093.2,-55.63 2090.25,-61.98\"/>\n</g>\n<!-- 134612241713520* -->\n<g id=\"node63\" class=\"node\">\n<title>134612241713520*</title>\n<ellipse fill=\"none\" stroke=\"black\" cx=\"1810\" cy=\"-73.5\" rx=\"27\" ry=\"18\"/>\n<text text-anchor=\"middle\" x=\"1810\" y=\"-69.8\" font-family=\"Times,serif\" font-size=\"14.00\">*</text>\n</g>\n<!-- 134612241713520*&#45;&gt;134612241713520 -->\n<g id=\"edge23\" class=\"edge\">\n<title>134612241713520*&#45;&gt;134612241713520</title>\n<path fill=\"none\" stroke=\"black\" d=\"M1832.21,-63.03C1844.05,-57.41 1859.15,-50.62 1873,-45.5 1878.43,-43.49 1884.08,-41.54 1889.79,-39.65\"/>\n<polygon fill=\"black\" stroke=\"black\" points=\"1890.99,-42.94 1899.44,-36.55 1888.85,-36.28 1890.99,-42.94\"/>\n</g>\n<!-- 134612240509360 -->\n<g id=\"node64\" class=\"node\">\n<title>134612240509360</title>\n<polygon fill=\"none\" stroke=\"black\" points=\"623.5,-550.5 623.5,-586.5 805.5,-586.5 805.5,-550.5 623.5,-550.5\"/>\n<text text-anchor=\"middle\" x=\"633.5\" y=\"-564.8\" font-family=\"Times,serif\" font-size=\"14.00\"> </text>\n<polyline fill=\"none\" stroke=\"black\" points=\"643.5,-550.5 643.5,-586.5 \"/>\n<text text-anchor=\"middle\" x=\"683.5\" y=\"-564.8\" font-family=\"Times,serif\" font-size=\"14.00\">data 2.0000</text>\n<polyline fill=\"none\" stroke=\"black\" points=\"723.5,-550.5 723.5,-586.5 \"/>\n<text text-anchor=\"middle\" x=\"764.5\" y=\"-564.8\" font-family=\"Times,serif\" font-size=\"14.00\">grad 0.0000</text>\n</g>\n<!-- 134612240503456* -->\n<g id=\"node136\" class=\"node\">\n<title>134612240503456*</title>\n<ellipse fill=\"none\" stroke=\"black\" cx=\"871\" cy=\"-513.5\" rx=\"27\" ry=\"18\"/>\n<text text-anchor=\"middle\" x=\"871\" y=\"-509.8\" font-family=\"Times,serif\" font-size=\"14.00\">*</text>\n</g>\n<!-- 134612240509360&#45;&gt;134612240503456* -->\n<g id=\"edge98\" class=\"edge\">\n<title>134612240509360&#45;&gt;134612240503456*</title>\n<path fill=\"none\" stroke=\"black\" d=\"M781.56,-550.45C790.51,-547.64 799.53,-544.63 808,-541.5 818.49,-537.62 829.71,-532.78 839.68,-528.22\"/>\n<polygon fill=\"black\" stroke=\"black\" points=\"841.2,-531.37 848.79,-523.97 838.25,-525.02 841.2,-531.37\"/>\n</g>\n<!-- 134612240099808 -->\n<g id=\"node65\" class=\"node\">\n<title>134612240099808</title>\n<polygon fill=\"none\" stroke=\"black\" points=\"623.5,-275.5 623.5,-311.5 805.5,-311.5 805.5,-275.5 623.5,-275.5\"/>\n<text text-anchor=\"middle\" x=\"633.5\" y=\"-289.8\" font-family=\"Times,serif\" font-size=\"14.00\"> </text>\n<polyline fill=\"none\" stroke=\"black\" points=\"643.5,-275.5 643.5,-311.5 \"/>\n<text text-anchor=\"middle\" x=\"683.5\" y=\"-289.8\" font-family=\"Times,serif\" font-size=\"14.00\">data 0.1151</text>\n<polyline fill=\"none\" stroke=\"black\" points=\"723.5,-275.5 723.5,-311.5 \"/>\n<text text-anchor=\"middle\" x=\"764.5\" y=\"-289.8\" font-family=\"Times,serif\" font-size=\"14.00\">grad 0.0000</text>\n</g>\n<!-- 134612240099808&#45;&gt;134612240094960+ -->\n<g id=\"edge184\" class=\"edge\">\n<title>134612240099808&#45;&gt;134612240094960+</title>\n<path fill=\"none\" stroke=\"black\" d=\"M781.56,-311.55C790.51,-314.36 799.53,-317.37 808,-320.5 818.49,-324.38 829.71,-329.22 839.68,-333.78\"/>\n<polygon fill=\"black\" stroke=\"black\" points=\"838.25,-336.98 848.79,-338.03 841.2,-330.63 838.25,-336.98\"/>\n</g>\n<!-- 134612240460256 -->\n<g id=\"node66\" class=\"node\">\n<title>134612240460256</title>\n<polygon fill=\"none\" stroke=\"black\" points=\"1873,-660.5 1873,-696.5 2060,-696.5 2060,-660.5 1873,-660.5\"/>\n<text text-anchor=\"middle\" x=\"1883\" y=\"-674.8\" font-family=\"Times,serif\" font-size=\"14.00\"> </text>\n<polyline fill=\"none\" stroke=\"black\" points=\"1893,-660.5 1893,-696.5 \"/>\n<text text-anchor=\"middle\" x=\"1935.5\" y=\"-674.8\" font-family=\"Times,serif\" font-size=\"14.00\">data &#45;0.6662</text>\n<polyline fill=\"none\" stroke=\"black\" points=\"1978,-660.5 1978,-696.5 \"/>\n<text text-anchor=\"middle\" x=\"2019\" y=\"-674.8\" font-family=\"Times,serif\" font-size=\"14.00\">grad 0.0000</text>\n</g>\n<!-- 134612240461072+ -->\n<g id=\"node95\" class=\"node\">\n<title>134612240461072+</title>\n<ellipse fill=\"none\" stroke=\"black\" cx=\"2123\" cy=\"-733.5\" rx=\"27\" ry=\"18\"/>\n<text text-anchor=\"middle\" x=\"2123\" y=\"-729.8\" font-family=\"Times,serif\" font-size=\"14.00\">+</text>\n</g>\n<!-- 134612240460256&#45;&gt;134612240461072+ -->\n<g id=\"edge92\" class=\"edge\">\n<title>134612240460256&#45;&gt;134612240461072+</title>\n<path fill=\"none\" stroke=\"black\" d=\"M2031.02,-696.65C2040.79,-699.76 2050.71,-703.08 2060,-706.5 2070.25,-710.27 2081.23,-714.86 2091.07,-719.18\"/>\n<polygon fill=\"black\" stroke=\"black\" points=\"2089.89,-722.49 2100.45,-723.37 2092.74,-716.1 2089.89,-722.49\"/>\n</g>\n<!-- 134612240460256*&#45;&gt;134612240460256 -->\n<g id=\"edge24\" class=\"edge\">\n<title>134612240460256*&#45;&gt;134612240460256</title>\n<path fill=\"none\" stroke=\"black\" d=\"M1837.21,-678.5C1844.73,-678.5 1853.43,-678.5 1862.67,-678.5\"/>\n<polygon fill=\"black\" stroke=\"black\" points=\"1862.89,-682 1872.89,-678.5 1862.89,-675 1862.89,-682\"/>\n</g>\n<!-- 134612240747056 -->\n<g id=\"node68\" class=\"node\">\n<title>134612240747056</title>\n<polygon fill=\"none\" stroke=\"black\" points=\"4808,-501.5 4808,-537.5 4990,-537.5 4990,-501.5 4808,-501.5\"/>\n<text text-anchor=\"middle\" x=\"4818\" y=\"-515.8\" font-family=\"Times,serif\" font-size=\"14.00\"> </text>\n<polyline fill=\"none\" stroke=\"black\" points=\"4828,-501.5 4828,-537.5 \"/>\n<text text-anchor=\"middle\" x=\"4868\" y=\"-515.8\" font-family=\"Times,serif\" font-size=\"14.00\">data 1.0974</text>\n<polyline fill=\"none\" stroke=\"black\" points=\"4908,-501.5 4908,-537.5 \"/>\n<text text-anchor=\"middle\" x=\"4949\" y=\"-515.8\" font-family=\"Times,serif\" font-size=\"14.00\">grad 0.0000</text>\n</g>\n<!-- 134612240747440+ -->\n<g id=\"node88\" class=\"node\">\n<title>134612240747440+</title>\n<ellipse fill=\"none\" stroke=\"black\" cx=\"5053\" cy=\"-542.5\" rx=\"27\" ry=\"18\"/>\n<text text-anchor=\"middle\" x=\"5053\" y=\"-538.8\" font-family=\"Times,serif\" font-size=\"14.00\">+</text>\n</g>\n<!-- 134612240747056&#45;&gt;134612240747440+ -->\n<g id=\"edge124\" class=\"edge\">\n<title>134612240747056&#45;&gt;134612240747440+</title>\n<path fill=\"none\" stroke=\"black\" d=\"M4990.18,-533.15C4999.42,-534.54 5008.38,-535.9 5016.47,-537.12\"/>\n<polygon fill=\"black\" stroke=\"black\" points=\"5016.15,-540.61 5026.56,-538.65 5017.19,-533.69 5016.15,-540.61\"/>\n</g>\n<!-- 134612240747056+&#45;&gt;134612240747056 -->\n<g id=\"edge25\" class=\"edge\">\n<title>134612240747056+&#45;&gt;134612240747056</title>\n<path fill=\"none\" stroke=\"black\" d=\"M4771.78,-505.38C4779.45,-506.24 4788.36,-507.24 4797.82,-508.3\"/>\n<polygon fill=\"black\" stroke=\"black\" points=\"4797.53,-511.78 4807.86,-509.42 4798.31,-504.83 4797.53,-511.78\"/>\n</g>\n<!-- 134612240091696 -->\n<g id=\"node70\" class=\"node\">\n<title>134612240091696</title>\n<polygon fill=\"none\" stroke=\"black\" points=\"2186,-330.5 2186,-366.5 2373,-366.5 2373,-330.5 2186,-330.5\"/>\n<text text-anchor=\"middle\" x=\"2196\" y=\"-344.8\" font-family=\"Times,serif\" font-size=\"14.00\"> </text>\n<polyline fill=\"none\" stroke=\"black\" points=\"2206,-330.5 2206,-366.5 \"/>\n<text text-anchor=\"middle\" x=\"2248.5\" y=\"-344.8\" font-family=\"Times,serif\" font-size=\"14.00\">data &#45;0.5166</text>\n<polyline fill=\"none\" stroke=\"black\" points=\"2291,-330.5 2291,-366.5 \"/>\n<text text-anchor=\"middle\" x=\"2332\" y=\"-344.8\" font-family=\"Times,serif\" font-size=\"14.00\">grad 0.0000</text>\n</g>\n<!-- 134612240462176* -->\n<g id=\"node119\" class=\"node\">\n<title>134612240462176*</title>\n<ellipse fill=\"none\" stroke=\"black\" cx=\"2436\" cy=\"-348.5\" rx=\"27\" ry=\"18\"/>\n<text text-anchor=\"middle\" x=\"2436\" y=\"-344.8\" font-family=\"Times,serif\" font-size=\"14.00\">*</text>\n</g>\n<!-- 134612240091696&#45;&gt;134612240462176* -->\n<g id=\"edge171\" class=\"edge\">\n<title>134612240091696&#45;&gt;134612240462176*</title>\n<path fill=\"none\" stroke=\"black\" d=\"M2373.05,-348.5C2382.06,-348.5 2390.79,-348.5 2398.7,-348.5\"/>\n<polygon fill=\"black\" stroke=\"black\" points=\"2398.95,-352 2408.95,-348.5 2398.95,-345 2398.95,-352\"/>\n</g>\n<!-- 134612241590848 -->\n<g id=\"node71\" class=\"node\">\n<title>134612241590848</title>\n<polygon fill=\"none\" stroke=\"black\" points=\"2814.5,-495.5 2814.5,-531.5 2996.5,-531.5 2996.5,-495.5 2814.5,-495.5\"/>\n<text text-anchor=\"middle\" x=\"2824.5\" y=\"-509.8\" font-family=\"Times,serif\" font-size=\"14.00\"> </text>\n<polyline fill=\"none\" stroke=\"black\" points=\"2834.5,-495.5 2834.5,-531.5 \"/>\n<text text-anchor=\"middle\" x=\"2874.5\" y=\"-509.8\" font-family=\"Times,serif\" font-size=\"14.00\">data 0.0041</text>\n<polyline fill=\"none\" stroke=\"black\" points=\"2914.5,-495.5 2914.5,-531.5 \"/>\n<text text-anchor=\"middle\" x=\"2955.5\" y=\"-509.8\" font-family=\"Times,serif\" font-size=\"14.00\">grad 0.0000</text>\n</g>\n<!-- 134612241584992+ -->\n<g id=\"node140\" class=\"node\">\n<title>134612241584992+</title>\n<ellipse fill=\"none\" stroke=\"black\" cx=\"3062\" cy=\"-374.5\" rx=\"27\" ry=\"18\"/>\n<text text-anchor=\"middle\" x=\"3062\" y=\"-370.8\" font-family=\"Times,serif\" font-size=\"14.00\">+</text>\n</g>\n<!-- 134612241590848&#45;&gt;134612241584992+ -->\n<g id=\"edge178\" class=\"edge\">\n<title>134612241590848&#45;&gt;134612241584992+</title>\n<path fill=\"none\" stroke=\"black\" d=\"M2984.93,-495.41C2989.98,-492.58 2994.74,-489.29 2999,-485.5 3029.02,-458.75 3013,-436.16 3035,-402.5 3036.24,-400.6 3037.61,-398.72 3039.05,-396.87\"/>\n<polygon fill=\"black\" stroke=\"black\" points=\"3041.85,-398.99 3045.69,-389.12 3036.53,-394.44 3041.85,-398.99\"/>\n</g>\n<!-- 134612241590848*&#45;&gt;134612241590848 -->\n<g id=\"edge26\" class=\"edge\">\n<title>134612241590848*&#45;&gt;134612241590848</title>\n<path fill=\"none\" stroke=\"black\" d=\"M2776.21,-513.5C2784.34,-513.5 2793.85,-513.5 2803.94,-513.5\"/>\n<polygon fill=\"black\" stroke=\"black\" points=\"2804.19,-517 2814.19,-513.5 2804.19,-510 2804.19,-517\"/>\n</g>\n<!-- 134612240099952 -->\n<g id=\"node73\" class=\"node\">\n<title>134612240099952</title>\n<polygon fill=\"none\" stroke=\"black\" points=\"2186,-275.5 2186,-311.5 2373,-311.5 2373,-275.5 2186,-275.5\"/>\n<text text-anchor=\"middle\" x=\"2196\" y=\"-289.8\" font-family=\"Times,serif\" font-size=\"14.00\"> </text>\n<polyline fill=\"none\" stroke=\"black\" points=\"2206,-275.5 2206,-311.5 \"/>\n<text text-anchor=\"middle\" x=\"2248.5\" y=\"-289.8\" font-family=\"Times,serif\" font-size=\"14.00\">data &#45;0.2195</text>\n<polyline fill=\"none\" stroke=\"black\" points=\"2291,-275.5 2291,-311.5 \"/>\n<text text-anchor=\"middle\" x=\"2332\" y=\"-289.8\" font-family=\"Times,serif\" font-size=\"14.00\">grad 0.0000</text>\n</g>\n<!-- 134612241594592* -->\n<g id=\"node168\" class=\"node\">\n<title>134612241594592*</title>\n<ellipse fill=\"none\" stroke=\"black\" cx=\"2436\" cy=\"-293.5\" rx=\"27\" ry=\"18\"/>\n<text text-anchor=\"middle\" x=\"2436\" y=\"-289.8\" font-family=\"Times,serif\" font-size=\"14.00\">*</text>\n</g>\n<!-- 134612240099952&#45;&gt;134612241594592* -->\n<g id=\"edge96\" class=\"edge\">\n<title>134612240099952&#45;&gt;134612241594592*</title>\n<path fill=\"none\" stroke=\"black\" d=\"M2373.05,-293.5C2382.06,-293.5 2390.79,-293.5 2398.7,-293.5\"/>\n<polygon fill=\"black\" stroke=\"black\" points=\"2398.95,-297 2408.95,-293.5 2398.95,-290 2398.95,-297\"/>\n</g>\n<!-- 134612240509648 -->\n<g id=\"node74\" class=\"node\">\n<title>134612240509648</title>\n<polygon fill=\"none\" stroke=\"black\" points=\"1562.5,-275.5 1562.5,-311.5 1744.5,-311.5 1744.5,-275.5 1562.5,-275.5\"/>\n<text text-anchor=\"middle\" x=\"1572.5\" y=\"-289.8\" font-family=\"Times,serif\" font-size=\"14.00\"> </text>\n<polyline fill=\"none\" stroke=\"black\" points=\"1582.5,-275.5 1582.5,-311.5 \"/>\n<text text-anchor=\"middle\" x=\"1622.5\" y=\"-289.8\" font-family=\"Times,serif\" font-size=\"14.00\">data 1.3226</text>\n<polyline fill=\"none\" stroke=\"black\" points=\"1662.5,-275.5 1662.5,-311.5 \"/>\n<text text-anchor=\"middle\" x=\"1703.5\" y=\"-289.8\" font-family=\"Times,serif\" font-size=\"14.00\">grad 0.0000</text>\n</g>\n<!-- 134612240506384tanh -->\n<g id=\"node192\" class=\"node\">\n<title>134612240506384tanh</title>\n<ellipse fill=\"none\" stroke=\"black\" cx=\"1810\" cy=\"-293.5\" rx=\"27\" ry=\"18\"/>\n<text text-anchor=\"middle\" x=\"1810\" y=\"-289.8\" font-family=\"Times,serif\" font-size=\"14.00\">tanh</text>\n</g>\n<!-- 134612240509648&#45;&gt;134612240506384tanh -->\n<g id=\"edge90\" class=\"edge\">\n<title>134612240509648&#45;&gt;134612240506384tanh</title>\n<path fill=\"none\" stroke=\"black\" d=\"M1744.82,-293.5C1754.57,-293.5 1764.04,-293.5 1772.57,-293.5\"/>\n<polygon fill=\"black\" stroke=\"black\" points=\"1772.83,-297 1782.83,-293.5 1772.83,-290 1772.83,-297\"/>\n</g>\n<!-- 134612240509648+&#45;&gt;134612240509648 -->\n<g id=\"edge27\" class=\"edge\">\n<title>134612240509648+&#45;&gt;134612240509648</title>\n<path fill=\"none\" stroke=\"black\" d=\"M1524.21,-293.5C1532.34,-293.5 1541.85,-293.5 1551.94,-293.5\"/>\n<polygon fill=\"black\" stroke=\"black\" points=\"1552.19,-297 1562.19,-293.5 1552.19,-290 1552.19,-297\"/>\n</g>\n<!-- 134612240100048 -->\n<g id=\"node76\" class=\"node\">\n<title>134612240100048</title>\n<polygon fill=\"none\" stroke=\"black\" points=\"1875.5,-55.5 1875.5,-91.5 2057.5,-91.5 2057.5,-55.5 1875.5,-55.5\"/>\n<text text-anchor=\"middle\" x=\"1885.5\" y=\"-69.8\" font-family=\"Times,serif\" font-size=\"14.00\"> </text>\n<polyline fill=\"none\" stroke=\"black\" points=\"1895.5,-55.5 1895.5,-91.5 \"/>\n<text text-anchor=\"middle\" x=\"1935.5\" y=\"-69.8\" font-family=\"Times,serif\" font-size=\"14.00\">data 0.8319</text>\n<polyline fill=\"none\" stroke=\"black\" points=\"1975.5,-55.5 1975.5,-91.5 \"/>\n<text text-anchor=\"middle\" x=\"2016.5\" y=\"-69.8\" font-family=\"Times,serif\" font-size=\"14.00\">grad 0.0000</text>\n</g>\n<!-- 134612240100048&#45;&gt;134612242076176+ -->\n<g id=\"edge186\" class=\"edge\">\n<title>134612240100048&#45;&gt;134612242076176+</title>\n<path fill=\"none\" stroke=\"black\" d=\"M2057.82,-73.5C2067.57,-73.5 2077.04,-73.5 2085.57,-73.5\"/>\n<polygon fill=\"black\" stroke=\"black\" points=\"2085.83,-77 2095.83,-73.5 2085.83,-70 2085.83,-77\"/>\n</g>\n<!-- 134612240747248 -->\n<g id=\"node77\" class=\"node\">\n<title>134612240747248</title>\n<polygon fill=\"none\" stroke=\"black\" points=\"3974,-603.5 3974,-639.5 4156,-639.5 4156,-603.5 3974,-603.5\"/>\n<text text-anchor=\"middle\" x=\"3984\" y=\"-617.8\" font-family=\"Times,serif\" font-size=\"14.00\"> </text>\n<polyline fill=\"none\" stroke=\"black\" points=\"3994,-603.5 3994,-639.5 \"/>\n<text text-anchor=\"middle\" x=\"4034\" y=\"-617.8\" font-family=\"Times,serif\" font-size=\"14.00\">data 0.0820</text>\n<polyline fill=\"none\" stroke=\"black\" points=\"4074,-603.5 4074,-639.5 \"/>\n<text text-anchor=\"middle\" x=\"4115\" y=\"-617.8\" font-family=\"Times,serif\" font-size=\"14.00\">grad 0.0000</text>\n</g>\n<!-- 134612240747248&#45;&gt;134612240747440+ -->\n<g id=\"edge209\" class=\"edge\">\n<title>134612240747248&#45;&gt;134612240747440+</title>\n<path fill=\"none\" stroke=\"black\" d=\"M4156.24,-607.79C4231.01,-597.61 4340.16,-585.5 4436,-585.5 4436,-585.5 4436,-585.5 4746,-585.5 4845.24,-585.5 4960.84,-563.05 5017.33,-550.59\"/>\n<polygon fill=\"black\" stroke=\"black\" points=\"5018.18,-553.99 5027.18,-548.39 5016.65,-547.16 5018.18,-553.99\"/>\n</g>\n<!-- 134612240747248*&#45;&gt;134612240747248 -->\n<g id=\"edge28\" class=\"edge\">\n<title>134612240747248*&#45;&gt;134612240747248</title>\n<path fill=\"none\" stroke=\"black\" d=\"M3715.07,-647.55C3765.67,-643.78 3879.57,-635.27 3963.54,-629\"/>\n<polygon fill=\"black\" stroke=\"black\" points=\"3963.91,-632.48 3973.63,-628.25 3963.39,-625.5 3963.91,-632.48\"/>\n</g>\n<!-- 134612240460544 -->\n<g id=\"node79\" class=\"node\">\n<title>134612240460544</title>\n<polygon fill=\"none\" stroke=\"black\" points=\"2814.5,-605.5 2814.5,-641.5 2996.5,-641.5 2996.5,-605.5 2814.5,-605.5\"/>\n<text text-anchor=\"middle\" x=\"2824.5\" y=\"-619.8\" font-family=\"Times,serif\" font-size=\"14.00\"> </text>\n<polyline fill=\"none\" stroke=\"black\" points=\"2834.5,-605.5 2834.5,-641.5 \"/>\n<text text-anchor=\"middle\" x=\"2874.5\" y=\"-619.8\" font-family=\"Times,serif\" font-size=\"14.00\">data 0.0367</text>\n<polyline fill=\"none\" stroke=\"black\" points=\"2914.5,-605.5 2914.5,-641.5 \"/>\n<text text-anchor=\"middle\" x=\"2955.5\" y=\"-619.8\" font-family=\"Times,serif\" font-size=\"14.00\">grad 0.0000</text>\n</g>\n<!-- 134612240461696+ -->\n<g id=\"node111\" class=\"node\">\n<title>134612240461696+</title>\n<ellipse fill=\"none\" stroke=\"black\" cx=\"3062\" cy=\"-539.5\" rx=\"27\" ry=\"18\"/>\n<text text-anchor=\"middle\" x=\"3062\" y=\"-535.8\" font-family=\"Times,serif\" font-size=\"14.00\">+</text>\n</g>\n<!-- 134612240460544&#45;&gt;134612240461696+ -->\n<g id=\"edge117\" class=\"edge\">\n<title>134612240460544&#45;&gt;134612240461696+</title>\n<path fill=\"none\" stroke=\"black\" d=\"M2980,-605.49C2986.59,-602.85 2993.03,-599.87 2999,-596.5 3014.77,-587.6 3029.8,-573.97 3041.11,-562.27\"/>\n<polygon fill=\"black\" stroke=\"black\" points=\"3043.7,-564.62 3047.97,-554.93 3038.58,-559.84 3043.7,-564.62\"/>\n</g>\n<!-- 134612240460544*&#45;&gt;134612240460544 -->\n<g id=\"edge29\" class=\"edge\">\n<title>134612240460544*&#45;&gt;134612240460544</title>\n<path fill=\"none\" stroke=\"black\" d=\"M2765.08,-717.59C2777.21,-705.98 2794.99,-689.83 2812,-677.5 2827.23,-666.46 2844.87,-655.72 2860.63,-646.76\"/>\n<polygon fill=\"black\" stroke=\"black\" points=\"2862.65,-649.64 2869.66,-641.7 2859.23,-643.53 2862.65,-649.64\"/>\n</g>\n<!-- 134612240100096 -->\n<g id=\"node81\" class=\"node\">\n<title>134612240100096</title>\n<polygon fill=\"none\" stroke=\"black\" points=\"1562.5,-55.5 1562.5,-91.5 1744.5,-91.5 1744.5,-55.5 1562.5,-55.5\"/>\n<text text-anchor=\"middle\" x=\"1572.5\" y=\"-69.8\" font-family=\"Times,serif\" font-size=\"14.00\"> </text>\n<polyline fill=\"none\" stroke=\"black\" points=\"1582.5,-55.5 1582.5,-91.5 \"/>\n<text text-anchor=\"middle\" x=\"1622.5\" y=\"-69.8\" font-family=\"Times,serif\" font-size=\"14.00\">data 0.9343</text>\n<polyline fill=\"none\" stroke=\"black\" points=\"1662.5,-55.5 1662.5,-91.5 \"/>\n<text text-anchor=\"middle\" x=\"1703.5\" y=\"-69.8\" font-family=\"Times,serif\" font-size=\"14.00\">grad 0.0000</text>\n</g>\n<!-- 134612240100096&#45;&gt;134612241713520* -->\n<g id=\"edge114\" class=\"edge\">\n<title>134612240100096&#45;&gt;134612241713520*</title>\n<path fill=\"none\" stroke=\"black\" d=\"M1744.82,-73.5C1754.57,-73.5 1764.04,-73.5 1772.57,-73.5\"/>\n<polygon fill=\"black\" stroke=\"black\" points=\"1772.83,-77 1782.83,-73.5 1772.83,-70 1772.83,-77\"/>\n</g>\n<!-- 134612241582928 -->\n<g id=\"node82\" class=\"node\">\n<title>134612241582928</title>\n<polygon fill=\"none\" stroke=\"black\" points=\"2501.5,-138.5 2501.5,-174.5 2683.5,-174.5 2683.5,-138.5 2501.5,-138.5\"/>\n<text text-anchor=\"middle\" x=\"2511.5\" y=\"-152.8\" font-family=\"Times,serif\" font-size=\"14.00\"> </text>\n<polyline fill=\"none\" stroke=\"black\" points=\"2521.5,-138.5 2521.5,-174.5 \"/>\n<text text-anchor=\"middle\" x=\"2561.5\" y=\"-152.8\" font-family=\"Times,serif\" font-size=\"14.00\">data 1.3222</text>\n<polyline fill=\"none\" stroke=\"black\" points=\"2601.5,-138.5 2601.5,-174.5 \"/>\n<text text-anchor=\"middle\" x=\"2642.5\" y=\"-152.8\" font-family=\"Times,serif\" font-size=\"14.00\">grad 0.0000</text>\n</g>\n<!-- 134612241584752+ -->\n<g id=\"node132\" class=\"node\">\n<title>134612241584752+</title>\n<ellipse fill=\"none\" stroke=\"black\" cx=\"2749\" cy=\"-293.5\" rx=\"27\" ry=\"18\"/>\n<text text-anchor=\"middle\" x=\"2749\" y=\"-289.8\" font-family=\"Times,serif\" font-size=\"14.00\">+</text>\n</g>\n<!-- 134612241582928&#45;&gt;134612241584752+ -->\n<g id=\"edge137\" class=\"edge\">\n<title>134612241582928&#45;&gt;134612241584752+</title>\n<path fill=\"none\" stroke=\"black\" d=\"M2632.25,-174.64C2649.76,-183.91 2670.05,-196.26 2686,-210.5 2704.74,-227.23 2721.48,-250.41 2732.83,-268.02\"/>\n<polygon fill=\"black\" stroke=\"black\" points=\"2729.98,-270.05 2738.26,-276.66 2735.9,-266.33 2729.98,-270.05\"/>\n</g>\n<!-- 134612241582928+ -->\n<g id=\"node83\" class=\"node\">\n<title>134612241582928+</title>\n<ellipse fill=\"none\" stroke=\"black\" cx=\"2436\" cy=\"-128.5\" rx=\"27\" ry=\"18\"/>\n<text text-anchor=\"middle\" x=\"2436\" y=\"-124.8\" font-family=\"Times,serif\" font-size=\"14.00\">+</text>\n</g>\n<!-- 134612241582928+&#45;&gt;134612241582928 -->\n<g id=\"edge30\" class=\"edge\">\n<title>134612241582928+&#45;&gt;134612241582928</title>\n<path fill=\"none\" stroke=\"black\" d=\"M2462.17,-133.06C2470.61,-134.59 2480.61,-136.4 2491.25,-138.33\"/>\n<polygon fill=\"black\" stroke=\"black\" points=\"2490.71,-141.79 2501.18,-140.13 2491.96,-134.9 2490.71,-141.79\"/>\n</g>\n<!-- 134612240460640 -->\n<g id=\"node84\" class=\"node\">\n<title>134612240460640</title>\n<polygon fill=\"none\" stroke=\"black\" points=\"2501.5,-715.5 2501.5,-751.5 2683.5,-751.5 2683.5,-715.5 2501.5,-715.5\"/>\n<text text-anchor=\"middle\" x=\"2511.5\" y=\"-729.8\" font-family=\"Times,serif\" font-size=\"14.00\"> </text>\n<polyline fill=\"none\" stroke=\"black\" points=\"2521.5,-715.5 2521.5,-751.5 \"/>\n<text text-anchor=\"middle\" x=\"2561.5\" y=\"-729.8\" font-family=\"Times,serif\" font-size=\"14.00\">data 0.0465</text>\n<polyline fill=\"none\" stroke=\"black\" points=\"2601.5,-715.5 2601.5,-751.5 \"/>\n<text text-anchor=\"middle\" x=\"2642.5\" y=\"-729.8\" font-family=\"Times,serif\" font-size=\"14.00\">grad 0.0000</text>\n</g>\n<!-- 134612240460640&#45;&gt;134612240745520* -->\n<g id=\"edge150\" class=\"edge\">\n<title>134612240460640&#45;&gt;134612240745520*</title>\n<path fill=\"none\" stroke=\"black\" d=\"M2655.94,-751.57C2666.04,-754.73 2676.35,-758.1 2686,-761.5 2696.02,-765.03 2706.79,-769.23 2716.51,-773.17\"/>\n<polygon fill=\"black\" stroke=\"black\" points=\"2715.22,-776.42 2725.8,-776.99 2717.88,-769.95 2715.22,-776.42\"/>\n</g>\n<!-- 134612240460640&#45;&gt;134612241590848* -->\n<g id=\"edge143\" class=\"edge\">\n<title>134612240460640&#45;&gt;134612241590848*</title>\n<path fill=\"none\" stroke=\"black\" d=\"M2675.73,-715.27C2679.46,-712.71 2682.92,-709.8 2686,-706.5 2737.21,-651.62 2687.23,-608.02 2722,-541.5 2723.05,-539.49 2724.28,-537.52 2725.63,-535.62\"/>\n<polygon fill=\"black\" stroke=\"black\" points=\"2728.44,-537.71 2732.06,-527.75 2723.02,-533.28 2728.44,-537.71\"/>\n</g>\n<!-- 134612240460640&#45;&gt;134612240460544* -->\n<g id=\"edge190\" class=\"edge\">\n<title>134612240460640&#45;&gt;134612240460544*</title>\n<path fill=\"none\" stroke=\"black\" d=\"M2683.82,-732.92C2693.57,-732.85 2703.04,-732.79 2711.57,-732.74\"/>\n<polygon fill=\"black\" stroke=\"black\" points=\"2711.85,-736.23 2721.83,-732.67 2711.81,-729.23 2711.85,-736.23\"/>\n</g>\n<!-- 134612240463040* -->\n<g id=\"node145\" class=\"node\">\n<title>134612240463040*</title>\n<ellipse fill=\"none\" stroke=\"black\" cx=\"2749\" cy=\"-568.5\" rx=\"27\" ry=\"18\"/>\n<text text-anchor=\"middle\" x=\"2749\" y=\"-564.8\" font-family=\"Times,serif\" font-size=\"14.00\">*</text>\n</g>\n<!-- 134612240460640&#45;&gt;134612240463040* -->\n<g id=\"edge148\" class=\"edge\">\n<title>134612240460640&#45;&gt;134612240463040*</title>\n<path fill=\"none\" stroke=\"black\" d=\"M2673.19,-715.48C2677.77,-712.88 2682.09,-709.91 2686,-706.5 2703.44,-691.31 2726.23,-631.71 2738.75,-595.99\"/>\n<polygon fill=\"black\" stroke=\"black\" points=\"2742.19,-596.77 2742.15,-586.18 2735.57,-594.48 2742.19,-596.77\"/>\n</g>\n<!-- 134612240460640tanh -->\n<g id=\"node85\" class=\"node\">\n<title>134612240460640tanh</title>\n<ellipse fill=\"none\" stroke=\"black\" cx=\"2436\" cy=\"-760.5\" rx=\"27\" ry=\"18\"/>\n<text text-anchor=\"middle\" x=\"2436\" y=\"-756.8\" font-family=\"Times,serif\" font-size=\"14.00\">tanh</text>\n</g>\n<!-- 134612240460640tanh&#45;&gt;134612240460640 -->\n<g id=\"edge31\" class=\"edge\">\n<title>134612240460640tanh&#45;&gt;134612240460640</title>\n<path fill=\"none\" stroke=\"black\" d=\"M2462.51,-756.04C2470.83,-754.59 2480.62,-752.88 2491.03,-751.06\"/>\n<polygon fill=\"black\" stroke=\"black\" points=\"2491.93,-754.45 2501.18,-749.28 2490.73,-747.56 2491.93,-754.45\"/>\n</g>\n<!-- 134612240100192 -->\n<g id=\"node86\" class=\"node\">\n<title>134612240100192</title>\n<polygon fill=\"none\" stroke=\"black\" points=\"1873,-110.5 1873,-146.5 2060,-146.5 2060,-110.5 1873,-110.5\"/>\n<text text-anchor=\"middle\" x=\"1883\" y=\"-124.8\" font-family=\"Times,serif\" font-size=\"14.00\"> </text>\n<polyline fill=\"none\" stroke=\"black\" points=\"1893,-110.5 1893,-146.5 \"/>\n<text text-anchor=\"middle\" x=\"1935.5\" y=\"-124.8\" font-family=\"Times,serif\" font-size=\"14.00\">data &#45;0.3847</text>\n<polyline fill=\"none\" stroke=\"black\" points=\"1978,-110.5 1978,-146.5 \"/>\n<text text-anchor=\"middle\" x=\"2019\" y=\"-124.8\" font-family=\"Times,serif\" font-size=\"14.00\">grad 0.0000</text>\n</g>\n<!-- 134612242076464* -->\n<g id=\"node138\" class=\"node\">\n<title>134612242076464*</title>\n<ellipse fill=\"none\" stroke=\"black\" cx=\"2123\" cy=\"-128.5\" rx=\"27\" ry=\"18\"/>\n<text text-anchor=\"middle\" x=\"2123\" y=\"-124.8\" font-family=\"Times,serif\" font-size=\"14.00\">*</text>\n</g>\n<!-- 134612240100192&#45;&gt;134612242076464* -->\n<g id=\"edge210\" class=\"edge\">\n<title>134612240100192&#45;&gt;134612242076464*</title>\n<path fill=\"none\" stroke=\"black\" d=\"M2060.05,-128.5C2069.06,-128.5 2077.79,-128.5 2085.7,-128.5\"/>\n<polygon fill=\"black\" stroke=\"black\" points=\"2085.95,-132 2095.95,-128.5 2085.95,-125 2085.95,-132\"/>\n</g>\n<!-- 134612240747440 -->\n<g id=\"node87\" class=\"node\">\n<title>134612240747440</title>\n<polygon fill=\"none\" stroke=\"black\" points=\"5116,-524.5 5116,-560.5 5298,-560.5 5298,-524.5 5116,-524.5\"/>\n<text text-anchor=\"middle\" x=\"5126\" y=\"-538.8\" font-family=\"Times,serif\" font-size=\"14.00\"> </text>\n<polyline fill=\"none\" stroke=\"black\" points=\"5136,-524.5 5136,-560.5 \"/>\n<text text-anchor=\"middle\" x=\"5176\" y=\"-538.8\" font-family=\"Times,serif\" font-size=\"14.00\">data 1.1794</text>\n<polyline fill=\"none\" stroke=\"black\" points=\"5216,-524.5 5216,-560.5 \"/>\n<text text-anchor=\"middle\" x=\"5257\" y=\"-538.8\" font-family=\"Times,serif\" font-size=\"14.00\">grad 0.0000</text>\n</g>\n<!-- 134612240747536tanh -->\n<g id=\"node91\" class=\"node\">\n<title>134612240747536tanh</title>\n<ellipse fill=\"none\" stroke=\"black\" cx=\"5361\" cy=\"-542.5\" rx=\"27\" ry=\"18\"/>\n<text text-anchor=\"middle\" x=\"5361\" y=\"-538.8\" font-family=\"Times,serif\" font-size=\"14.00\">tanh</text>\n</g>\n<!-- 134612240747440&#45;&gt;134612240747536tanh -->\n<g id=\"edge95\" class=\"edge\">\n<title>134612240747440&#45;&gt;134612240747536tanh</title>\n<path fill=\"none\" stroke=\"black\" d=\"M5298.18,-542.5C5307.14,-542.5 5315.83,-542.5 5323.73,-542.5\"/>\n<polygon fill=\"black\" stroke=\"black\" points=\"5323.96,-546 5333.96,-542.5 5323.96,-539 5323.96,-546\"/>\n</g>\n<!-- 134612240747440+&#45;&gt;134612240747440 -->\n<g id=\"edge32\" class=\"edge\">\n<title>134612240747440+&#45;&gt;134612240747440</title>\n<path fill=\"none\" stroke=\"black\" d=\"M5080.13,-542.5C5087.67,-542.5 5096.39,-542.5 5105.64,-542.5\"/>\n<polygon fill=\"black\" stroke=\"black\" points=\"5105.87,-546 5115.87,-542.5 5105.87,-539 5105.87,-546\"/>\n</g>\n<!-- 134612240092128 -->\n<g id=\"node89\" class=\"node\">\n<title>134612240092128</title>\n<polygon fill=\"none\" stroke=\"black\" points=\"1247,-440.5 1247,-476.5 1434,-476.5 1434,-440.5 1247,-440.5\"/>\n<text text-anchor=\"middle\" x=\"1257\" y=\"-454.8\" font-family=\"Times,serif\" font-size=\"14.00\"> </text>\n<polyline fill=\"none\" stroke=\"black\" points=\"1267,-440.5 1267,-476.5 \"/>\n<text text-anchor=\"middle\" x=\"1309.5\" y=\"-454.8\" font-family=\"Times,serif\" font-size=\"14.00\">data &#45;0.8581</text>\n<polyline fill=\"none\" stroke=\"black\" points=\"1352,-440.5 1352,-476.5 \"/>\n<text text-anchor=\"middle\" x=\"1393\" y=\"-454.8\" font-family=\"Times,serif\" font-size=\"14.00\">grad 0.0000</text>\n</g>\n<!-- 134612240455744* -->\n<g id=\"node164\" class=\"node\">\n<title>134612240455744*</title>\n<ellipse fill=\"none\" stroke=\"black\" cx=\"1497\" cy=\"-513.5\" rx=\"27\" ry=\"18\"/>\n<text text-anchor=\"middle\" x=\"1497\" y=\"-509.8\" font-family=\"Times,serif\" font-size=\"14.00\">*</text>\n</g>\n<!-- 134612240092128&#45;&gt;134612240455744* -->\n<g id=\"edge81\" class=\"edge\">\n<title>134612240092128&#45;&gt;134612240455744*</title>\n<path fill=\"none\" stroke=\"black\" d=\"M1407.56,-476.55C1416.51,-479.36 1425.53,-482.37 1434,-485.5 1444.49,-489.38 1455.71,-494.22 1465.68,-498.78\"/>\n<polygon fill=\"black\" stroke=\"black\" points=\"1464.25,-501.98 1474.79,-503.03 1467.2,-495.63 1464.25,-501.98\"/>\n</g>\n<!-- 134612240747536 -->\n<g id=\"node90\" class=\"node\">\n<title>134612240747536</title>\n<polygon fill=\"none\" stroke=\"black\" points=\"5424,-524.5 5424,-560.5 5606,-560.5 5606,-524.5 5424,-524.5\"/>\n<text text-anchor=\"middle\" x=\"5434\" y=\"-538.8\" font-family=\"Times,serif\" font-size=\"14.00\"> </text>\n<polyline fill=\"none\" stroke=\"black\" points=\"5444,-524.5 5444,-560.5 \"/>\n<text text-anchor=\"middle\" x=\"5484\" y=\"-538.8\" font-family=\"Times,serif\" font-size=\"14.00\">data 0.8273</text>\n<polyline fill=\"none\" stroke=\"black\" points=\"5524,-524.5 5524,-560.5 \"/>\n<text text-anchor=\"middle\" x=\"5565\" y=\"-538.8\" font-family=\"Times,serif\" font-size=\"14.00\">grad 0.0000</text>\n</g>\n<!-- 134612240747536tanh&#45;&gt;134612240747536 -->\n<g id=\"edge33\" class=\"edge\">\n<title>134612240747536tanh&#45;&gt;134612240747536</title>\n<path fill=\"none\" stroke=\"black\" d=\"M5388.13,-542.5C5395.67,-542.5 5404.39,-542.5 5413.64,-542.5\"/>\n<polygon fill=\"black\" stroke=\"black\" points=\"5413.87,-546 5423.87,-542.5 5413.87,-539 5413.87,-546\"/>\n</g>\n<!-- 134612240100576 -->\n<g id=\"node92\" class=\"node\">\n<title>134612240100576</title>\n<polygon fill=\"none\" stroke=\"black\" points=\"936.5,-165.5 936.5,-201.5 1118.5,-201.5 1118.5,-165.5 936.5,-165.5\"/>\n<text text-anchor=\"middle\" x=\"946.5\" y=\"-179.8\" font-family=\"Times,serif\" font-size=\"14.00\"> </text>\n<polyline fill=\"none\" stroke=\"black\" points=\"956.5,-165.5 956.5,-201.5 \"/>\n<text text-anchor=\"middle\" x=\"996.5\" y=\"-179.8\" font-family=\"Times,serif\" font-size=\"14.00\">data 1.0642</text>\n<polyline fill=\"none\" stroke=\"black\" points=\"1036.5,-165.5 1036.5,-201.5 \"/>\n<text text-anchor=\"middle\" x=\"1077.5\" y=\"-179.8\" font-family=\"Times,serif\" font-size=\"14.00\">grad 0.0000</text>\n</g>\n<!-- 134612240103456+ -->\n<g id=\"node162\" class=\"node\">\n<title>134612240103456+</title>\n<ellipse fill=\"none\" stroke=\"black\" cx=\"1184\" cy=\"-183.5\" rx=\"27\" ry=\"18\"/>\n<text text-anchor=\"middle\" x=\"1184\" y=\"-179.8\" font-family=\"Times,serif\" font-size=\"14.00\">+</text>\n</g>\n<!-- 134612240100576&#45;&gt;134612240103456+ -->\n<g id=\"edge119\" class=\"edge\">\n<title>134612240100576&#45;&gt;134612240103456+</title>\n<path fill=\"none\" stroke=\"black\" d=\"M1118.82,-183.5C1128.57,-183.5 1138.04,-183.5 1146.57,-183.5\"/>\n<polygon fill=\"black\" stroke=\"black\" points=\"1146.83,-187 1156.83,-183.5 1146.83,-180 1146.83,-187\"/>\n</g>\n<!-- 134612240100576+&#45;&gt;134612240100576 -->\n<g id=\"edge34\" class=\"edge\">\n<title>134612240100576+&#45;&gt;134612240100576</title>\n<path fill=\"none\" stroke=\"black\" d=\"M898.21,-183.5C906.34,-183.5 915.85,-183.5 925.94,-183.5\"/>\n<polygon fill=\"black\" stroke=\"black\" points=\"926.19,-187 936.19,-183.5 926.19,-180 926.19,-187\"/>\n</g>\n<!-- 134612240461072 -->\n<g id=\"node94\" class=\"node\">\n<title>134612240461072</title>\n<polygon fill=\"none\" stroke=\"black\" points=\"2188.5,-770.5 2188.5,-806.5 2370.5,-806.5 2370.5,-770.5 2188.5,-770.5\"/>\n<text text-anchor=\"middle\" x=\"2198.5\" y=\"-784.8\" font-family=\"Times,serif\" font-size=\"14.00\"> </text>\n<polyline fill=\"none\" stroke=\"black\" points=\"2208.5,-770.5 2208.5,-806.5 \"/>\n<text text-anchor=\"middle\" x=\"2248.5\" y=\"-784.8\" font-family=\"Times,serif\" font-size=\"14.00\">data 0.0465</text>\n<polyline fill=\"none\" stroke=\"black\" points=\"2288.5,-770.5 2288.5,-806.5 \"/>\n<text text-anchor=\"middle\" x=\"2329.5\" y=\"-784.8\" font-family=\"Times,serif\" font-size=\"14.00\">grad 0.0000</text>\n</g>\n<!-- 134612240461072&#45;&gt;134612240460640tanh -->\n<g id=\"edge175\" class=\"edge\">\n<title>134612240461072&#45;&gt;134612240460640tanh</title>\n<path fill=\"none\" stroke=\"black\" d=\"M2370.82,-772.13C2381.07,-770.27 2391.01,-768.47 2399.88,-766.87\"/>\n<polygon fill=\"black\" stroke=\"black\" points=\"2400.54,-770.3 2409.75,-765.08 2399.29,-763.42 2400.54,-770.3\"/>\n</g>\n<!-- 134612240461072+&#45;&gt;134612240461072 -->\n<g id=\"edge35\" class=\"edge\">\n<title>134612240461072+&#45;&gt;134612240461072</title>\n<path fill=\"none\" stroke=\"black\" d=\"M2145.21,-743.97C2157.05,-749.59 2172.15,-756.38 2186,-761.5 2191.43,-763.51 2197.08,-765.46 2202.79,-767.35\"/>\n<polygon fill=\"black\" stroke=\"black\" points=\"2201.85,-770.72 2212.44,-770.45 2203.99,-764.06 2201.85,-770.72\"/>\n</g>\n<!-- 134612240452960 -->\n<g id=\"node96\" class=\"node\">\n<title>134612240452960</title>\n<polygon fill=\"none\" stroke=\"black\" points=\"3127.5,-411.5 3127.5,-447.5 3309.5,-447.5 3309.5,-411.5 3127.5,-411.5\"/>\n<text text-anchor=\"middle\" x=\"3137.5\" y=\"-425.8\" font-family=\"Times,serif\" font-size=\"14.00\"> </text>\n<polyline fill=\"none\" stroke=\"black\" points=\"3147.5,-411.5 3147.5,-447.5 \"/>\n<text text-anchor=\"middle\" x=\"3187.5\" y=\"-425.8\" font-family=\"Times,serif\" font-size=\"14.00\">data 1.2659</text>\n<polyline fill=\"none\" stroke=\"black\" points=\"3227.5,-411.5 3227.5,-447.5 \"/>\n<text text-anchor=\"middle\" x=\"3268.5\" y=\"-425.8\" font-family=\"Times,serif\" font-size=\"14.00\">grad 0.0000</text>\n</g>\n<!-- 134612240453056tanh -->\n<g id=\"node101\" class=\"node\">\n<title>134612240453056tanh</title>\n<ellipse fill=\"none\" stroke=\"black\" cx=\"3375\" cy=\"-429.5\" rx=\"27\" ry=\"18\"/>\n<text text-anchor=\"middle\" x=\"3375\" y=\"-425.8\" font-family=\"Times,serif\" font-size=\"14.00\">tanh</text>\n</g>\n<!-- 134612240452960&#45;&gt;134612240453056tanh -->\n<g id=\"edge203\" class=\"edge\">\n<title>134612240452960&#45;&gt;134612240453056tanh</title>\n<path fill=\"none\" stroke=\"black\" d=\"M3309.82,-429.5C3319.57,-429.5 3329.04,-429.5 3337.57,-429.5\"/>\n<polygon fill=\"black\" stroke=\"black\" points=\"3337.83,-433 3347.83,-429.5 3337.83,-426 3337.83,-433\"/>\n</g>\n<!-- 134612240452960+ -->\n<g id=\"node97\" class=\"node\">\n<title>134612240452960+</title>\n<ellipse fill=\"none\" stroke=\"black\" cx=\"3062\" cy=\"-429.5\" rx=\"27\" ry=\"18\"/>\n<text text-anchor=\"middle\" x=\"3062\" y=\"-425.8\" font-family=\"Times,serif\" font-size=\"14.00\">+</text>\n</g>\n<!-- 134612240452960+&#45;&gt;134612240452960 -->\n<g id=\"edge36\" class=\"edge\">\n<title>134612240452960+&#45;&gt;134612240452960</title>\n<path fill=\"none\" stroke=\"black\" d=\"M3089.21,-429.5C3097.34,-429.5 3106.85,-429.5 3116.94,-429.5\"/>\n<polygon fill=\"black\" stroke=\"black\" points=\"3117.19,-433 3127.19,-429.5 3117.19,-426 3117.19,-433\"/>\n</g>\n<!-- 134612240461168 -->\n<g id=\"node98\" class=\"node\">\n<title>134612240461168</title>\n<polygon fill=\"none\" stroke=\"black\" points=\"3438,-521.5 3438,-557.5 3625,-557.5 3625,-521.5 3438,-521.5\"/>\n<text text-anchor=\"middle\" x=\"3448\" y=\"-535.8\" font-family=\"Times,serif\" font-size=\"14.00\"> </text>\n<polyline fill=\"none\" stroke=\"black\" points=\"3458,-521.5 3458,-557.5 \"/>\n<text text-anchor=\"middle\" x=\"3500.5\" y=\"-535.8\" font-family=\"Times,serif\" font-size=\"14.00\">data &#45;0.8501</text>\n<polyline fill=\"none\" stroke=\"black\" points=\"3543,-521.5 3543,-557.5 \"/>\n<text text-anchor=\"middle\" x=\"3584\" y=\"-535.8\" font-family=\"Times,serif\" font-size=\"14.00\">grad 0.0000</text>\n</g>\n<!-- 134612240461168&#45;&gt;134612240746480* -->\n<g id=\"edge161\" class=\"edge\">\n<title>134612240461168&#45;&gt;134612240746480*</title>\n<path fill=\"none\" stroke=\"black\" d=\"M3625.05,-539.5C3634.06,-539.5 3642.79,-539.5 3650.7,-539.5\"/>\n<polygon fill=\"black\" stroke=\"black\" points=\"3650.95,-543 3660.95,-539.5 3650.95,-536 3650.95,-543\"/>\n</g>\n<!-- 134612240461168tanh -->\n<g id=\"node99\" class=\"node\">\n<title>134612240461168tanh</title>\n<ellipse fill=\"none\" stroke=\"black\" cx=\"3375\" cy=\"-539.5\" rx=\"27\" ry=\"18\"/>\n<text text-anchor=\"middle\" x=\"3375\" y=\"-535.8\" font-family=\"Times,serif\" font-size=\"14.00\">tanh</text>\n</g>\n<!-- 134612240461168tanh&#45;&gt;134612240461168 -->\n<g id=\"edge37\" class=\"edge\">\n<title>134612240461168tanh&#45;&gt;134612240461168</title>\n<path fill=\"none\" stroke=\"black\" d=\"M3402.21,-539.5C3409.73,-539.5 3418.43,-539.5 3427.67,-539.5\"/>\n<polygon fill=\"black\" stroke=\"black\" points=\"3427.89,-543 3437.89,-539.5 3427.89,-536 3427.89,-543\"/>\n</g>\n<!-- 134612240453056 -->\n<g id=\"node100\" class=\"node\">\n<title>134612240453056</title>\n<polygon fill=\"none\" stroke=\"black\" points=\"3440.5,-411.5 3440.5,-447.5 3622.5,-447.5 3622.5,-411.5 3440.5,-411.5\"/>\n<text text-anchor=\"middle\" x=\"3450.5\" y=\"-425.8\" font-family=\"Times,serif\" font-size=\"14.00\"> </text>\n<polyline fill=\"none\" stroke=\"black\" points=\"3460.5,-411.5 3460.5,-447.5 \"/>\n<text text-anchor=\"middle\" x=\"3500.5\" y=\"-425.8\" font-family=\"Times,serif\" font-size=\"14.00\">data 0.8527</text>\n<polyline fill=\"none\" stroke=\"black\" points=\"3540.5,-411.5 3540.5,-447.5 \"/>\n<text text-anchor=\"middle\" x=\"3581.5\" y=\"-425.8\" font-family=\"Times,serif\" font-size=\"14.00\">grad 0.0000</text>\n</g>\n<!-- 134612240453056&#45;&gt;134612240746096* -->\n<g id=\"edge170\" class=\"edge\">\n<title>134612240453056&#45;&gt;134612240746096*</title>\n<path fill=\"none\" stroke=\"black\" d=\"M3598.56,-447.55C3607.51,-450.36 3616.53,-453.37 3625,-456.5 3635.49,-460.38 3646.71,-465.22 3656.68,-469.78\"/>\n<polygon fill=\"black\" stroke=\"black\" points=\"3655.25,-472.98 3665.79,-474.03 3658.2,-466.63 3655.25,-472.98\"/>\n</g>\n<!-- 134612240453056tanh&#45;&gt;134612240453056 -->\n<g id=\"edge38\" class=\"edge\">\n<title>134612240453056tanh&#45;&gt;134612240453056</title>\n<path fill=\"none\" stroke=\"black\" d=\"M3402.21,-429.5C3410.34,-429.5 3419.85,-429.5 3429.94,-429.5\"/>\n<polygon fill=\"black\" stroke=\"black\" points=\"3430.19,-433 3440.19,-429.5 3430.19,-426 3430.19,-433\"/>\n</g>\n<!-- 134612240092656 -->\n<g id=\"node102\" class=\"node\">\n<title>134612240092656</title>\n<polygon fill=\"none\" stroke=\"black\" points=\"2501.5,-550.5 2501.5,-586.5 2683.5,-586.5 2683.5,-550.5 2501.5,-550.5\"/>\n<text text-anchor=\"middle\" x=\"2511.5\" y=\"-564.8\" font-family=\"Times,serif\" font-size=\"14.00\"> </text>\n<polyline fill=\"none\" stroke=\"black\" points=\"2521.5,-550.5 2521.5,-586.5 \"/>\n<text text-anchor=\"middle\" x=\"2561.5\" y=\"-564.8\" font-family=\"Times,serif\" font-size=\"14.00\">data 0.1942</text>\n<polyline fill=\"none\" stroke=\"black\" points=\"2601.5,-550.5 2601.5,-586.5 \"/>\n<text text-anchor=\"middle\" x=\"2642.5\" y=\"-564.8\" font-family=\"Times,serif\" font-size=\"14.00\">grad 0.0000</text>\n</g>\n<!-- 134612240092656&#45;&gt;134612240463040* -->\n<g id=\"edge100\" class=\"edge\">\n<title>134612240092656&#45;&gt;134612240463040*</title>\n<path fill=\"none\" stroke=\"black\" d=\"M2683.82,-568.5C2693.57,-568.5 2703.04,-568.5 2711.57,-568.5\"/>\n<polygon fill=\"black\" stroke=\"black\" points=\"2711.83,-572 2721.83,-568.5 2711.83,-565 2711.83,-572\"/>\n</g>\n<!-- 134612240461408 -->\n<g id=\"node103\" class=\"node\">\n<title>134612240461408</title>\n<polygon fill=\"none\" stroke=\"black\" points=\"1875.5,-220.5 1875.5,-256.5 2057.5,-256.5 2057.5,-220.5 1875.5,-220.5\"/>\n<text text-anchor=\"middle\" x=\"1885.5\" y=\"-234.8\" font-family=\"Times,serif\" font-size=\"14.00\"> </text>\n<polyline fill=\"none\" stroke=\"black\" points=\"1895.5,-220.5 1895.5,-256.5 \"/>\n<text text-anchor=\"middle\" x=\"1935.5\" y=\"-234.8\" font-family=\"Times,serif\" font-size=\"14.00\">data 0.8643</text>\n<polyline fill=\"none\" stroke=\"black\" points=\"1975.5,-220.5 1975.5,-256.5 \"/>\n<text text-anchor=\"middle\" x=\"2016.5\" y=\"-234.8\" font-family=\"Times,serif\" font-size=\"14.00\">grad 0.0000</text>\n</g>\n<!-- 134612240462224+ -->\n<g id=\"node121\" class=\"node\">\n<title>134612240462224+</title>\n<ellipse fill=\"none\" stroke=\"black\" cx=\"2123\" cy=\"-238.5\" rx=\"27\" ry=\"18\"/>\n<text text-anchor=\"middle\" x=\"2123\" y=\"-234.8\" font-family=\"Times,serif\" font-size=\"14.00\">+</text>\n</g>\n<!-- 134612240461408&#45;&gt;134612240462224+ -->\n<g id=\"edge108\" class=\"edge\">\n<title>134612240461408&#45;&gt;134612240462224+</title>\n<path fill=\"none\" stroke=\"black\" d=\"M2057.82,-238.5C2067.57,-238.5 2077.04,-238.5 2085.57,-238.5\"/>\n<polygon fill=\"black\" stroke=\"black\" points=\"2085.83,-242 2095.83,-238.5 2085.83,-235 2085.83,-242\"/>\n</g>\n<!-- 134612240461408*&#45;&gt;134612240461408 -->\n<g id=\"edge39\" class=\"edge\">\n<title>134612240461408*&#45;&gt;134612240461408</title>\n<path fill=\"none\" stroke=\"black\" d=\"M1837.21,-238.5C1845.34,-238.5 1854.85,-238.5 1864.94,-238.5\"/>\n<polygon fill=\"black\" stroke=\"black\" points=\"1865.19,-242 1875.19,-238.5 1865.19,-235 1865.19,-242\"/>\n</g>\n<!-- 134612240092800 -->\n<g id=\"node105\" class=\"node\">\n<title>134612240092800</title>\n<polygon fill=\"none\" stroke=\"black\" points=\"623.5,-165.5 623.5,-201.5 805.5,-201.5 805.5,-165.5 623.5,-165.5\"/>\n<text text-anchor=\"middle\" x=\"633.5\" y=\"-179.8\" font-family=\"Times,serif\" font-size=\"14.00\"> </text>\n<polyline fill=\"none\" stroke=\"black\" points=\"643.5,-165.5 643.5,-201.5 \"/>\n<text text-anchor=\"middle\" x=\"683.5\" y=\"-179.8\" font-family=\"Times,serif\" font-size=\"14.00\">data 1.2832</text>\n<polyline fill=\"none\" stroke=\"black\" points=\"723.5,-165.5 723.5,-201.5 \"/>\n<text text-anchor=\"middle\" x=\"764.5\" y=\"-179.8\" font-family=\"Times,serif\" font-size=\"14.00\">grad 0.0000</text>\n</g>\n<!-- 134612240092800&#45;&gt;134612240100576+ -->\n<g id=\"edge147\" class=\"edge\">\n<title>134612240092800&#45;&gt;134612240100576+</title>\n<path fill=\"none\" stroke=\"black\" d=\"M805.82,-183.5C815.57,-183.5 825.04,-183.5 833.57,-183.5\"/>\n<polygon fill=\"black\" stroke=\"black\" points=\"833.83,-187 843.83,-183.5 833.83,-180 833.83,-187\"/>\n</g>\n<!-- 134612240092800+ -->\n<g id=\"node106\" class=\"node\">\n<title>134612240092800+</title>\n<ellipse fill=\"none\" stroke=\"black\" cx=\"558\" cy=\"-183.5\" rx=\"27\" ry=\"18\"/>\n<text text-anchor=\"middle\" x=\"558\" y=\"-179.8\" font-family=\"Times,serif\" font-size=\"14.00\">+</text>\n</g>\n<!-- 134612240092800+&#45;&gt;134612240092800 -->\n<g id=\"edge40\" class=\"edge\">\n<title>134612240092800+&#45;&gt;134612240092800</title>\n<path fill=\"none\" stroke=\"black\" d=\"M585.21,-183.5C593.34,-183.5 602.85,-183.5 612.94,-183.5\"/>\n<polygon fill=\"black\" stroke=\"black\" points=\"613.19,-187 623.19,-183.5 613.19,-180 613.19,-187\"/>\n</g>\n<!-- 134612240092848 -->\n<g id=\"node107\" class=\"node\">\n<title>134612240092848</title>\n<polygon fill=\"none\" stroke=\"black\" points=\"934,-660.5 934,-696.5 1121,-696.5 1121,-660.5 934,-660.5\"/>\n<text text-anchor=\"middle\" x=\"944\" y=\"-674.8\" font-family=\"Times,serif\" font-size=\"14.00\"> </text>\n<polyline fill=\"none\" stroke=\"black\" points=\"954,-660.5 954,-696.5 \"/>\n<text text-anchor=\"middle\" x=\"996.5\" y=\"-674.8\" font-family=\"Times,serif\" font-size=\"14.00\">data &#45;0.8741</text>\n<polyline fill=\"none\" stroke=\"black\" points=\"1039,-660.5 1039,-696.5 \"/>\n<text text-anchor=\"middle\" x=\"1080\" y=\"-674.8\" font-family=\"Times,serif\" font-size=\"14.00\">grad 0.0000</text>\n</g>\n<!-- 134612240457472* -->\n<g id=\"node196\" class=\"node\">\n<title>134612240457472*</title>\n<ellipse fill=\"none\" stroke=\"black\" cx=\"1184\" cy=\"-623.5\" rx=\"27\" ry=\"18\"/>\n<text text-anchor=\"middle\" x=\"1184\" y=\"-619.8\" font-family=\"Times,serif\" font-size=\"14.00\">*</text>\n</g>\n<!-- 134612240092848&#45;&gt;134612240457472* -->\n<g id=\"edge192\" class=\"edge\">\n<title>134612240092848&#45;&gt;134612240457472*</title>\n<path fill=\"none\" stroke=\"black\" d=\"M1094.56,-660.45C1103.51,-657.64 1112.53,-654.63 1121,-651.5 1131.49,-647.62 1142.71,-642.78 1152.68,-638.22\"/>\n<polygon fill=\"black\" stroke=\"black\" points=\"1154.2,-641.37 1161.79,-633.97 1151.25,-635.02 1154.2,-641.37\"/>\n</g>\n<!-- 134612240092896 -->\n<g id=\"node108\" class=\"node\">\n<title>134612240092896</title>\n<polygon fill=\"none\" stroke=\"black\" points=\"936.5,-550.5 936.5,-586.5 1118.5,-586.5 1118.5,-550.5 936.5,-550.5\"/>\n<text text-anchor=\"middle\" x=\"946.5\" y=\"-564.8\" font-family=\"Times,serif\" font-size=\"14.00\"> </text>\n<polyline fill=\"none\" stroke=\"black\" points=\"956.5,-550.5 956.5,-586.5 \"/>\n<text text-anchor=\"middle\" x=\"996.5\" y=\"-564.8\" font-family=\"Times,serif\" font-size=\"14.00\">data 0.7687</text>\n<polyline fill=\"none\" stroke=\"black\" points=\"1036.5,-550.5 1036.5,-586.5 \"/>\n<text text-anchor=\"middle\" x=\"1077.5\" y=\"-564.8\" font-family=\"Times,serif\" font-size=\"14.00\">grad 0.0000</text>\n</g>\n<!-- 134612240513200+ -->\n<g id=\"node166\" class=\"node\">\n<title>134612240513200+</title>\n<ellipse fill=\"none\" stroke=\"black\" cx=\"1184\" cy=\"-568.5\" rx=\"27\" ry=\"18\"/>\n<text text-anchor=\"middle\" x=\"1184\" y=\"-564.8\" font-family=\"Times,serif\" font-size=\"14.00\">+</text>\n</g>\n<!-- 134612240092896&#45;&gt;134612240513200+ -->\n<g id=\"edge198\" class=\"edge\">\n<title>134612240092896&#45;&gt;134612240513200+</title>\n<path fill=\"none\" stroke=\"black\" d=\"M1118.82,-568.5C1128.57,-568.5 1138.04,-568.5 1146.57,-568.5\"/>\n<polygon fill=\"black\" stroke=\"black\" points=\"1146.83,-572 1156.83,-568.5 1146.83,-565 1146.83,-572\"/>\n</g>\n<!-- 134612240510752 -->\n<g id=\"node109\" class=\"node\">\n<title>134612240510752</title>\n<polygon fill=\"none\" stroke=\"black\" points=\"934,-220.5 934,-256.5 1121,-256.5 1121,-220.5 934,-220.5\"/>\n<text text-anchor=\"middle\" x=\"944\" y=\"-234.8\" font-family=\"Times,serif\" font-size=\"14.00\"> </text>\n<polyline fill=\"none\" stroke=\"black\" points=\"954,-220.5 954,-256.5 \"/>\n<text text-anchor=\"middle\" x=\"996.5\" y=\"-234.8\" font-family=\"Times,serif\" font-size=\"14.00\">data &#45;1.0000</text>\n<polyline fill=\"none\" stroke=\"black\" points=\"1039,-220.5 1039,-256.5 \"/>\n<text text-anchor=\"middle\" x=\"1080\" y=\"-234.8\" font-family=\"Times,serif\" font-size=\"14.00\">grad 0.0000</text>\n</g>\n<!-- 134612240510752&#45;&gt;134612240511088* -->\n<g id=\"edge104\" class=\"edge\">\n<title>134612240510752&#45;&gt;134612240511088*</title>\n<path fill=\"none\" stroke=\"black\" d=\"M1094.56,-256.55C1103.51,-259.36 1112.53,-262.37 1121,-265.5 1131.49,-269.38 1142.71,-274.22 1152.68,-278.78\"/>\n<polygon fill=\"black\" stroke=\"black\" points=\"1151.25,-281.98 1161.79,-283.03 1154.2,-275.63 1151.25,-281.98\"/>\n</g>\n<!-- 134612240461696 -->\n<g id=\"node110\" class=\"node\">\n<title>134612240461696</title>\n<polygon fill=\"none\" stroke=\"black\" points=\"3125,-521.5 3125,-557.5 3312,-557.5 3312,-521.5 3125,-521.5\"/>\n<text text-anchor=\"middle\" x=\"3135\" y=\"-535.8\" font-family=\"Times,serif\" font-size=\"14.00\"> </text>\n<polyline fill=\"none\" stroke=\"black\" points=\"3145,-521.5 3145,-557.5 \"/>\n<text text-anchor=\"middle\" x=\"3187.5\" y=\"-535.8\" font-family=\"Times,serif\" font-size=\"14.00\">data &#45;1.2565</text>\n<polyline fill=\"none\" stroke=\"black\" points=\"3230,-521.5 3230,-557.5 \"/>\n<text text-anchor=\"middle\" x=\"3271\" y=\"-535.8\" font-family=\"Times,serif\" font-size=\"14.00\">grad 0.0000</text>\n</g>\n<!-- 134612240461696&#45;&gt;134612240461168tanh -->\n<g id=\"edge158\" class=\"edge\">\n<title>134612240461696&#45;&gt;134612240461168tanh</title>\n<path fill=\"none\" stroke=\"black\" d=\"M3312.05,-539.5C3321.06,-539.5 3329.79,-539.5 3337.7,-539.5\"/>\n<polygon fill=\"black\" stroke=\"black\" points=\"3337.95,-543 3347.95,-539.5 3337.95,-536 3337.95,-543\"/>\n</g>\n<!-- 134612240461696+&#45;&gt;134612240461696 -->\n<g id=\"edge41\" class=\"edge\">\n<title>134612240461696+&#45;&gt;134612240461696</title>\n<path fill=\"none\" stroke=\"black\" d=\"M3089.21,-539.5C3096.73,-539.5 3105.43,-539.5 3114.67,-539.5\"/>\n<polygon fill=\"black\" stroke=\"black\" points=\"3114.89,-543 3124.89,-539.5 3114.89,-536 3114.89,-543\"/>\n</g>\n<!-- 134612240093088 -->\n<g id=\"node112\" class=\"node\">\n<title>134612240093088</title>\n<polygon fill=\"none\" stroke=\"black\" points=\"1247,-825.5 1247,-861.5 1434,-861.5 1434,-825.5 1247,-825.5\"/>\n<text text-anchor=\"middle\" x=\"1257\" y=\"-839.8\" font-family=\"Times,serif\" font-size=\"14.00\"> </text>\n<polyline fill=\"none\" stroke=\"black\" points=\"1267,-825.5 1267,-861.5 \"/>\n<text text-anchor=\"middle\" x=\"1309.5\" y=\"-839.8\" font-family=\"Times,serif\" font-size=\"14.00\">data &#45;0.2611</text>\n<polyline fill=\"none\" stroke=\"black\" points=\"1352,-825.5 1352,-861.5 \"/>\n<text text-anchor=\"middle\" x=\"1393\" y=\"-839.8\" font-family=\"Times,serif\" font-size=\"14.00\">grad 0.0000</text>\n</g>\n<!-- 134612240093088&#45;&gt;134612240459632* -->\n<g id=\"edge89\" class=\"edge\">\n<title>134612240093088&#45;&gt;134612240459632*</title>\n<path fill=\"none\" stroke=\"black\" d=\"M1434.05,-843.5C1443.06,-843.5 1451.79,-843.5 1459.7,-843.5\"/>\n<polygon fill=\"black\" stroke=\"black\" points=\"1459.95,-847 1469.95,-843.5 1459.95,-840 1459.95,-847\"/>\n</g>\n<!-- 134612240101296 -->\n<g id=\"node113\" class=\"node\">\n<title>134612240101296</title>\n<polygon fill=\"none\" stroke=\"black\" points=\"1873,-495.5 1873,-531.5 2060,-531.5 2060,-495.5 1873,-495.5\"/>\n<text text-anchor=\"middle\" x=\"1883\" y=\"-509.8\" font-family=\"Times,serif\" font-size=\"14.00\"> </text>\n<polyline fill=\"none\" stroke=\"black\" points=\"1893,-495.5 1893,-531.5 \"/>\n<text text-anchor=\"middle\" x=\"1935.5\" y=\"-509.8\" font-family=\"Times,serif\" font-size=\"14.00\">data &#45;0.6658</text>\n<polyline fill=\"none\" stroke=\"black\" points=\"1978,-495.5 1978,-531.5 \"/>\n<text text-anchor=\"middle\" x=\"2019\" y=\"-509.8\" font-family=\"Times,serif\" font-size=\"14.00\">grad 0.0000</text>\n</g>\n<!-- 134612240456608+ -->\n<g id=\"node175\" class=\"node\">\n<title>134612240456608+</title>\n<ellipse fill=\"none\" stroke=\"black\" cx=\"2123\" cy=\"-458.5\" rx=\"27\" ry=\"18\"/>\n<text text-anchor=\"middle\" x=\"2123\" y=\"-454.8\" font-family=\"Times,serif\" font-size=\"14.00\">+</text>\n</g>\n<!-- 134612240101296&#45;&gt;134612240456608+ -->\n<g id=\"edge78\" class=\"edge\">\n<title>134612240101296&#45;&gt;134612240456608+</title>\n<path fill=\"none\" stroke=\"black\" d=\"M2031.02,-495.35C2040.79,-492.24 2050.71,-488.92 2060,-485.5 2070.25,-481.73 2081.23,-477.14 2091.07,-472.82\"/>\n<polygon fill=\"black\" stroke=\"black\" points=\"2092.74,-475.9 2100.45,-468.63 2089.89,-469.51 2092.74,-475.9\"/>\n</g>\n<!-- 134612240511088 -->\n<g id=\"node114\" class=\"node\">\n<title>134612240511088</title>\n<polygon fill=\"none\" stroke=\"black\" points=\"1247,-275.5 1247,-311.5 1434,-311.5 1434,-275.5 1247,-275.5\"/>\n<text text-anchor=\"middle\" x=\"1257\" y=\"-289.8\" font-family=\"Times,serif\" font-size=\"14.00\"> </text>\n<polyline fill=\"none\" stroke=\"black\" points=\"1267,-275.5 1267,-311.5 \"/>\n<text text-anchor=\"middle\" x=\"1309.5\" y=\"-289.8\" font-family=\"Times,serif\" font-size=\"14.00\">data &#45;0.9321</text>\n<polyline fill=\"none\" stroke=\"black\" points=\"1352,-275.5 1352,-311.5 \"/>\n<text text-anchor=\"middle\" x=\"1393\" y=\"-289.8\" font-family=\"Times,serif\" font-size=\"14.00\">grad 0.0000</text>\n</g>\n<!-- 134612240511088&#45;&gt;134612240509648+ -->\n<g id=\"edge136\" class=\"edge\">\n<title>134612240511088&#45;&gt;134612240509648+</title>\n<path fill=\"none\" stroke=\"black\" d=\"M1434.05,-293.5C1443.06,-293.5 1451.79,-293.5 1459.7,-293.5\"/>\n<polygon fill=\"black\" stroke=\"black\" points=\"1459.95,-297 1469.95,-293.5 1459.95,-290 1459.95,-297\"/>\n</g>\n<!-- 134612240511088*&#45;&gt;134612240511088 -->\n<g id=\"edge42\" class=\"edge\">\n<title>134612240511088*&#45;&gt;134612240511088</title>\n<path fill=\"none\" stroke=\"black\" d=\"M1211.21,-293.5C1218.73,-293.5 1227.43,-293.5 1236.67,-293.5\"/>\n<polygon fill=\"black\" stroke=\"black\" points=\"1236.89,-297 1246.89,-293.5 1236.89,-290 1236.89,-297\"/>\n</g>\n<!-- 134612240462128 -->\n<g id=\"node116\" class=\"node\">\n<title>134612240462128</title>\n<polygon fill=\"none\" stroke=\"black\" points=\"2186,-165.5 2186,-201.5 2373,-201.5 2373,-165.5 2186,-165.5\"/>\n<text text-anchor=\"middle\" x=\"2196\" y=\"-179.8\" font-family=\"Times,serif\" font-size=\"14.00\"> </text>\n<polyline fill=\"none\" stroke=\"black\" points=\"2206,-165.5 2206,-201.5 \"/>\n<text text-anchor=\"middle\" x=\"2248.5\" y=\"-179.8\" font-family=\"Times,serif\" font-size=\"14.00\">data &#45;0.1909</text>\n<polyline fill=\"none\" stroke=\"black\" points=\"2291,-165.5 2291,-201.5 \"/>\n<text text-anchor=\"middle\" x=\"2332\" y=\"-179.8\" font-family=\"Times,serif\" font-size=\"14.00\">grad 0.0000</text>\n</g>\n<!-- 134612240462272+ -->\n<g id=\"node123\" class=\"node\">\n<title>134612240462272+</title>\n<ellipse fill=\"none\" stroke=\"black\" cx=\"2436\" cy=\"-238.5\" rx=\"27\" ry=\"18\"/>\n<text text-anchor=\"middle\" x=\"2436\" y=\"-234.8\" font-family=\"Times,serif\" font-size=\"14.00\">+</text>\n</g>\n<!-- 134612240462128&#45;&gt;134612240462272+ -->\n<g id=\"edge131\" class=\"edge\">\n<title>134612240462128&#45;&gt;134612240462272+</title>\n<path fill=\"none\" stroke=\"black\" d=\"M2346.56,-201.55C2355.51,-204.36 2364.53,-207.37 2373,-210.5 2383.49,-214.38 2394.71,-219.22 2404.68,-223.78\"/>\n<polygon fill=\"black\" stroke=\"black\" points=\"2403.25,-226.98 2413.79,-228.03 2406.2,-220.63 2403.25,-226.98\"/>\n</g>\n<!-- 134612240462128* -->\n<g id=\"node117\" class=\"node\">\n<title>134612240462128*</title>\n<ellipse fill=\"none\" stroke=\"black\" cx=\"2123\" cy=\"-183.5\" rx=\"27\" ry=\"18\"/>\n<text text-anchor=\"middle\" x=\"2123\" y=\"-179.8\" font-family=\"Times,serif\" font-size=\"14.00\">*</text>\n</g>\n<!-- 134612240462128*&#45;&gt;134612240462128 -->\n<g id=\"edge43\" class=\"edge\">\n<title>134612240462128*&#45;&gt;134612240462128</title>\n<path fill=\"none\" stroke=\"black\" d=\"M2150.21,-183.5C2157.73,-183.5 2166.43,-183.5 2175.67,-183.5\"/>\n<polygon fill=\"black\" stroke=\"black\" points=\"2175.89,-187 2185.89,-183.5 2175.89,-180 2175.89,-187\"/>\n</g>\n<!-- 134612240462176 -->\n<g id=\"node118\" class=\"node\">\n<title>134612240462176</title>\n<polygon fill=\"none\" stroke=\"black\" points=\"2499,-330.5 2499,-366.5 2686,-366.5 2686,-330.5 2499,-330.5\"/>\n<text text-anchor=\"middle\" x=\"2509\" y=\"-344.8\" font-family=\"Times,serif\" font-size=\"14.00\"> </text>\n<polyline fill=\"none\" stroke=\"black\" points=\"2519,-330.5 2519,-366.5 \"/>\n<text text-anchor=\"middle\" x=\"2561.5\" y=\"-344.8\" font-family=\"Times,serif\" font-size=\"14.00\">data &#45;0.2315</text>\n<polyline fill=\"none\" stroke=\"black\" points=\"2604,-330.5 2604,-366.5 \"/>\n<text text-anchor=\"middle\" x=\"2645\" y=\"-344.8\" font-family=\"Times,serif\" font-size=\"14.00\">grad 0.0000</text>\n</g>\n<!-- 134612240462992+ -->\n<g id=\"node143\" class=\"node\">\n<title>134612240462992+</title>\n<ellipse fill=\"none\" stroke=\"black\" cx=\"2749\" cy=\"-348.5\" rx=\"27\" ry=\"18\"/>\n<text text-anchor=\"middle\" x=\"2749\" y=\"-344.8\" font-family=\"Times,serif\" font-size=\"14.00\">+</text>\n</g>\n<!-- 134612240462176&#45;&gt;134612240462992+ -->\n<g id=\"edge94\" class=\"edge\">\n<title>134612240462176&#45;&gt;134612240462992+</title>\n<path fill=\"none\" stroke=\"black\" d=\"M2686.05,-348.5C2695.06,-348.5 2703.79,-348.5 2711.7,-348.5\"/>\n<polygon fill=\"black\" stroke=\"black\" points=\"2711.95,-352 2721.95,-348.5 2711.95,-345 2711.95,-352\"/>\n</g>\n<!-- 134612240462176*&#45;&gt;134612240462176 -->\n<g id=\"edge44\" class=\"edge\">\n<title>134612240462176*&#45;&gt;134612240462176</title>\n<path fill=\"none\" stroke=\"black\" d=\"M2463.21,-348.5C2470.73,-348.5 2479.43,-348.5 2488.67,-348.5\"/>\n<polygon fill=\"black\" stroke=\"black\" points=\"2488.89,-352 2498.89,-348.5 2488.89,-345 2488.89,-352\"/>\n</g>\n<!-- 134612240462224 -->\n<g id=\"node120\" class=\"node\">\n<title>134612240462224</title>\n<polygon fill=\"none\" stroke=\"black\" points=\"2188.5,-220.5 2188.5,-256.5 2370.5,-256.5 2370.5,-220.5 2188.5,-220.5\"/>\n<text text-anchor=\"middle\" x=\"2198.5\" y=\"-234.8\" font-family=\"Times,serif\" font-size=\"14.00\"> </text>\n<polyline fill=\"none\" stroke=\"black\" points=\"2208.5,-220.5 2208.5,-256.5 \"/>\n<text text-anchor=\"middle\" x=\"2248.5\" y=\"-234.8\" font-family=\"Times,serif\" font-size=\"14.00\">data 1.6792</text>\n<polyline fill=\"none\" stroke=\"black\" points=\"2288.5,-220.5 2288.5,-256.5 \"/>\n<text text-anchor=\"middle\" x=\"2329.5\" y=\"-234.8\" font-family=\"Times,serif\" font-size=\"14.00\">grad 0.0000</text>\n</g>\n<!-- 134612240462224&#45;&gt;134612240462272+ -->\n<g id=\"edge207\" class=\"edge\">\n<title>134612240462224&#45;&gt;134612240462272+</title>\n<path fill=\"none\" stroke=\"black\" d=\"M2370.82,-238.5C2380.57,-238.5 2390.04,-238.5 2398.57,-238.5\"/>\n<polygon fill=\"black\" stroke=\"black\" points=\"2398.83,-242 2408.83,-238.5 2398.83,-235 2398.83,-242\"/>\n</g>\n<!-- 134612240462224+&#45;&gt;134612240462224 -->\n<g id=\"edge45\" class=\"edge\">\n<title>134612240462224+&#45;&gt;134612240462224</title>\n<path fill=\"none\" stroke=\"black\" d=\"M2150.21,-238.5C2158.34,-238.5 2167.85,-238.5 2177.94,-238.5\"/>\n<polygon fill=\"black\" stroke=\"black\" points=\"2178.19,-242 2188.19,-238.5 2178.19,-235 2178.19,-242\"/>\n</g>\n<!-- 134612240462272 -->\n<g id=\"node122\" class=\"node\">\n<title>134612240462272</title>\n<polygon fill=\"none\" stroke=\"black\" points=\"2501.5,-220.5 2501.5,-256.5 2683.5,-256.5 2683.5,-220.5 2501.5,-220.5\"/>\n<text text-anchor=\"middle\" x=\"2511.5\" y=\"-234.8\" font-family=\"Times,serif\" font-size=\"14.00\"> </text>\n<polyline fill=\"none\" stroke=\"black\" points=\"2521.5,-220.5 2521.5,-256.5 \"/>\n<text text-anchor=\"middle\" x=\"2561.5\" y=\"-234.8\" font-family=\"Times,serif\" font-size=\"14.00\">data 1.4884</text>\n<polyline fill=\"none\" stroke=\"black\" points=\"2601.5,-220.5 2601.5,-256.5 \"/>\n<text text-anchor=\"middle\" x=\"2642.5\" y=\"-234.8\" font-family=\"Times,serif\" font-size=\"14.00\">grad 0.0000</text>\n</g>\n<!-- 134612240462272&#45;&gt;134612240462992+ -->\n<g id=\"edge168\" class=\"edge\">\n<title>134612240462272&#45;&gt;134612240462992+</title>\n<path fill=\"none\" stroke=\"black\" d=\"M2671.23,-256.56C2676.44,-259.15 2681.43,-262.11 2686,-265.5 2709.47,-282.89 2704,-297.49 2722,-320.5 2723.4,-322.28 2724.88,-324.09 2726.41,-325.88\"/>\n<polygon fill=\"black\" stroke=\"black\" points=\"2723.94,-328.37 2733.21,-333.51 2729.17,-323.72 2723.94,-328.37\"/>\n</g>\n<!-- 134612240462272+&#45;&gt;134612240462272 -->\n<g id=\"edge46\" class=\"edge\">\n<title>134612240462272+&#45;&gt;134612240462272</title>\n<path fill=\"none\" stroke=\"black\" d=\"M2463.21,-238.5C2471.34,-238.5 2480.85,-238.5 2490.94,-238.5\"/>\n<polygon fill=\"black\" stroke=\"black\" points=\"2491.19,-242 2501.19,-238.5 2491.19,-235 2491.19,-242\"/>\n</g>\n<!-- 134612240101824 -->\n<g id=\"node124\" class=\"node\">\n<title>134612240101824</title>\n<polygon fill=\"none\" stroke=\"black\" points=\"623.5,-385.5 623.5,-421.5 805.5,-421.5 805.5,-385.5 623.5,-385.5\"/>\n<text text-anchor=\"middle\" x=\"633.5\" y=\"-399.8\" font-family=\"Times,serif\" font-size=\"14.00\"> </text>\n<polyline fill=\"none\" stroke=\"black\" points=\"643.5,-385.5 643.5,-421.5 \"/>\n<text text-anchor=\"middle\" x=\"683.5\" y=\"-399.8\" font-family=\"Times,serif\" font-size=\"14.00\">data 3.0000</text>\n<polyline fill=\"none\" stroke=\"black\" points=\"723.5,-385.5 723.5,-421.5 \"/>\n<text text-anchor=\"middle\" x=\"764.5\" y=\"-399.8\" font-family=\"Times,serif\" font-size=\"14.00\">grad 0.0000</text>\n</g>\n<!-- 134612240101824&#45;&gt;134612240500816* -->\n<g id=\"edge157\" class=\"edge\">\n<title>134612240101824&#45;&gt;134612240500816*</title>\n<path fill=\"none\" stroke=\"black\" d=\"M805.82,-403.5C815.57,-403.5 825.04,-403.5 833.57,-403.5\"/>\n<polygon fill=\"black\" stroke=\"black\" points=\"833.83,-407 843.83,-403.5 833.83,-400 833.83,-407\"/>\n</g>\n<!-- 134612242076176 -->\n<g id=\"node125\" class=\"node\">\n<title>134612242076176</title>\n<polygon fill=\"none\" stroke=\"black\" points=\"2188.5,-55.5 2188.5,-91.5 2370.5,-91.5 2370.5,-55.5 2188.5,-55.5\"/>\n<text text-anchor=\"middle\" x=\"2198.5\" y=\"-69.8\" font-family=\"Times,serif\" font-size=\"14.00\"> </text>\n<polyline fill=\"none\" stroke=\"black\" points=\"2208.5,-55.5 2208.5,-91.5 \"/>\n<text text-anchor=\"middle\" x=\"2248.5\" y=\"-69.8\" font-family=\"Times,serif\" font-size=\"14.00\">data 1.6559</text>\n<polyline fill=\"none\" stroke=\"black\" points=\"2288.5,-55.5 2288.5,-91.5 \"/>\n<text text-anchor=\"middle\" x=\"2329.5\" y=\"-69.8\" font-family=\"Times,serif\" font-size=\"14.00\">grad 0.0000</text>\n</g>\n<!-- 134612242076176&#45;&gt;134612241582928+ -->\n<g id=\"edge82\" class=\"edge\">\n<title>134612242076176&#45;&gt;134612241582928+</title>\n<path fill=\"none\" stroke=\"black\" d=\"M2346.56,-91.55C2355.51,-94.36 2364.53,-97.37 2373,-100.5 2383.49,-104.38 2394.71,-109.22 2404.68,-113.78\"/>\n<polygon fill=\"black\" stroke=\"black\" points=\"2403.25,-116.98 2413.79,-118.03 2406.2,-110.63 2403.25,-116.98\"/>\n</g>\n<!-- 134612242076176+&#45;&gt;134612242076176 -->\n<g id=\"edge47\" class=\"edge\">\n<title>134612242076176+&#45;&gt;134612242076176</title>\n<path fill=\"none\" stroke=\"black\" d=\"M2150.21,-73.5C2158.34,-73.5 2167.85,-73.5 2177.94,-73.5\"/>\n<polygon fill=\"black\" stroke=\"black\" points=\"2178.19,-77 2188.19,-73.5 2178.19,-70 2178.19,-77\"/>\n</g>\n<!-- 134612240093760 -->\n<g id=\"node127\" class=\"node\">\n<title>134612240093760</title>\n<polygon fill=\"none\" stroke=\"black\" points=\"310.5,-165.5 310.5,-201.5 492.5,-201.5 492.5,-165.5 310.5,-165.5\"/>\n<text text-anchor=\"middle\" x=\"320.5\" y=\"-179.8\" font-family=\"Times,serif\" font-size=\"14.00\"> </text>\n<polyline fill=\"none\" stroke=\"black\" points=\"330.5,-165.5 330.5,-201.5 \"/>\n<text text-anchor=\"middle\" x=\"370.5\" y=\"-179.8\" font-family=\"Times,serif\" font-size=\"14.00\">data 1.8884</text>\n<polyline fill=\"none\" stroke=\"black\" points=\"410.5,-165.5 410.5,-201.5 \"/>\n<text text-anchor=\"middle\" x=\"451.5\" y=\"-179.8\" font-family=\"Times,serif\" font-size=\"14.00\">grad 0.0000</text>\n</g>\n<!-- 134612240093760&#45;&gt;134612240092800+ -->\n<g id=\"edge118\" class=\"edge\">\n<title>134612240093760&#45;&gt;134612240092800+</title>\n<path fill=\"none\" stroke=\"black\" d=\"M492.82,-183.5C502.57,-183.5 512.04,-183.5 520.57,-183.5\"/>\n<polygon fill=\"black\" stroke=\"black\" points=\"520.83,-187 530.83,-183.5 520.83,-180 520.83,-187\"/>\n</g>\n<!-- 134612240093760*&#45;&gt;134612240093760 -->\n<g id=\"edge48\" class=\"edge\">\n<title>134612240093760*&#45;&gt;134612240093760</title>\n<path fill=\"none\" stroke=\"black\" d=\"M272.21,-183.5C280.34,-183.5 289.85,-183.5 299.94,-183.5\"/>\n<polygon fill=\"black\" stroke=\"black\" points=\"300.19,-187 310.19,-183.5 300.19,-180 300.19,-187\"/>\n</g>\n<!-- 134612240462416 -->\n<g id=\"node129\" class=\"node\">\n<title>134612240462416</title>\n<polygon fill=\"none\" stroke=\"black\" points=\"1875.5,-715.5 1875.5,-751.5 2057.5,-751.5 2057.5,-715.5 1875.5,-715.5\"/>\n<text text-anchor=\"middle\" x=\"1885.5\" y=\"-729.8\" font-family=\"Times,serif\" font-size=\"14.00\"> </text>\n<polyline fill=\"none\" stroke=\"black\" points=\"1895.5,-715.5 1895.5,-751.5 \"/>\n<text text-anchor=\"middle\" x=\"1935.5\" y=\"-729.8\" font-family=\"Times,serif\" font-size=\"14.00\">data 0.7127</text>\n<polyline fill=\"none\" stroke=\"black\" points=\"1975.5,-715.5 1975.5,-751.5 \"/>\n<text text-anchor=\"middle\" x=\"2016.5\" y=\"-729.8\" font-family=\"Times,serif\" font-size=\"14.00\">grad 0.0000</text>\n</g>\n<!-- 134612240462416&#45;&gt;134612240461072+ -->\n<g id=\"edge109\" class=\"edge\">\n<title>134612240462416&#45;&gt;134612240461072+</title>\n<path fill=\"none\" stroke=\"black\" d=\"M2057.82,-733.5C2067.57,-733.5 2077.04,-733.5 2085.57,-733.5\"/>\n<polygon fill=\"black\" stroke=\"black\" points=\"2085.83,-737 2095.83,-733.5 2085.83,-730 2085.83,-737\"/>\n</g>\n<!-- 134612240462416+&#45;&gt;134612240462416 -->\n<g id=\"edge49\" class=\"edge\">\n<title>134612240462416+&#45;&gt;134612240462416</title>\n<path fill=\"none\" stroke=\"black\" d=\"M1832.55,-778.37C1844.36,-773.02 1859.34,-766.52 1873,-761.5 1879.24,-759.2 1885.77,-756.95 1892.34,-754.78\"/>\n<polygon fill=\"black\" stroke=\"black\" points=\"1893.55,-758.07 1901.98,-751.65 1891.39,-751.41 1893.55,-758.07\"/>\n</g>\n<!-- 134612241584752 -->\n<g id=\"node131\" class=\"node\">\n<title>134612241584752</title>\n<polygon fill=\"none\" stroke=\"black\" points=\"2814.5,-303.5 2814.5,-339.5 2996.5,-339.5 2996.5,-303.5 2814.5,-303.5\"/>\n<text text-anchor=\"middle\" x=\"2824.5\" y=\"-317.8\" font-family=\"Times,serif\" font-size=\"14.00\"> </text>\n<polyline fill=\"none\" stroke=\"black\" points=\"2834.5,-303.5 2834.5,-339.5 \"/>\n<text text-anchor=\"middle\" x=\"2874.5\" y=\"-317.8\" font-family=\"Times,serif\" font-size=\"14.00\">data 1.2239</text>\n<polyline fill=\"none\" stroke=\"black\" points=\"2914.5,-303.5 2914.5,-339.5 \"/>\n<text text-anchor=\"middle\" x=\"2955.5\" y=\"-317.8\" font-family=\"Times,serif\" font-size=\"14.00\">grad 0.0000</text>\n</g>\n<!-- 134612241584752&#45;&gt;134612241584992+ -->\n<g id=\"edge183\" class=\"edge\">\n<title>134612241584752&#45;&gt;134612241584992+</title>\n<path fill=\"none\" stroke=\"black\" d=\"M2959.24,-339.59C2981.97,-347.39 3007.87,-356.27 3027.84,-363.13\"/>\n<polygon fill=\"black\" stroke=\"black\" points=\"3026.82,-366.48 3037.42,-366.41 3029.1,-359.86 3026.82,-366.48\"/>\n</g>\n<!-- 134612241584752+&#45;&gt;134612241584752 -->\n<g id=\"edge50\" class=\"edge\">\n<title>134612241584752+&#45;&gt;134612241584752</title>\n<path fill=\"none\" stroke=\"black\" d=\"M2775.17,-298.06C2783.61,-299.59 2793.61,-301.4 2804.25,-303.33\"/>\n<polygon fill=\"black\" stroke=\"black\" points=\"2803.71,-306.79 2814.18,-305.13 2804.96,-299.9 2803.71,-306.79\"/>\n</g>\n<!-- 134612240102016 -->\n<g id=\"node133\" class=\"node\">\n<title>134612240102016</title>\n<polygon fill=\"none\" stroke=\"black\" points=\"2186,-550.5 2186,-586.5 2373,-586.5 2373,-550.5 2186,-550.5\"/>\n<text text-anchor=\"middle\" x=\"2196\" y=\"-564.8\" font-family=\"Times,serif\" font-size=\"14.00\"> </text>\n<polyline fill=\"none\" stroke=\"black\" points=\"2206,-550.5 2206,-586.5 \"/>\n<text text-anchor=\"middle\" x=\"2248.5\" y=\"-564.8\" font-family=\"Times,serif\" font-size=\"14.00\">data &#45;0.3361</text>\n<polyline fill=\"none\" stroke=\"black\" points=\"2291,-550.5 2291,-586.5 \"/>\n<text text-anchor=\"middle\" x=\"2332\" y=\"-564.8\" font-family=\"Times,serif\" font-size=\"14.00\">grad 0.0000</text>\n</g>\n<!-- 134612240457280* -->\n<g id=\"node194\" class=\"node\">\n<title>134612240457280*</title>\n<ellipse fill=\"none\" stroke=\"black\" cx=\"2436\" cy=\"-513.5\" rx=\"27\" ry=\"18\"/>\n<text text-anchor=\"middle\" x=\"2436\" y=\"-509.8\" font-family=\"Times,serif\" font-size=\"14.00\">*</text>\n</g>\n<!-- 134612240102016&#45;&gt;134612240457280* -->\n<g id=\"edge174\" class=\"edge\">\n<title>134612240102016&#45;&gt;134612240457280*</title>\n<path fill=\"none\" stroke=\"black\" d=\"M2346.56,-550.45C2355.51,-547.64 2364.53,-544.63 2373,-541.5 2383.49,-537.62 2394.71,-532.78 2404.68,-528.22\"/>\n<polygon fill=\"black\" stroke=\"black\" points=\"2406.2,-531.37 2413.79,-523.97 2403.25,-525.02 2406.2,-531.37\"/>\n</g>\n<!-- 134612240093856 -->\n<g id=\"node134\" class=\"node\">\n<title>134612240093856</title>\n<polygon fill=\"none\" stroke=\"black\" points=\"0,-138.5 0,-174.5 182,-174.5 182,-138.5 0,-138.5\"/>\n<text text-anchor=\"middle\" x=\"10\" y=\"-152.8\" font-family=\"Times,serif\" font-size=\"14.00\"> </text>\n<polyline fill=\"none\" stroke=\"black\" points=\"20,-138.5 20,-174.5 \"/>\n<text text-anchor=\"middle\" x=\"60\" y=\"-152.8\" font-family=\"Times,serif\" font-size=\"14.00\">data 2.0000</text>\n<polyline fill=\"none\" stroke=\"black\" points=\"100,-138.5 100,-174.5 \"/>\n<text text-anchor=\"middle\" x=\"141\" y=\"-152.8\" font-family=\"Times,serif\" font-size=\"14.00\">grad 0.0000</text>\n</g>\n<!-- 134612240093856&#45;&gt;134612240093760* -->\n<g id=\"edge169\" class=\"edge\">\n<title>134612240093856&#45;&gt;134612240093760*</title>\n<path fill=\"none\" stroke=\"black\" d=\"M182.18,-172.52C191.42,-174.16 200.38,-175.75 208.47,-177.19\"/>\n<polygon fill=\"black\" stroke=\"black\" points=\"208.1,-180.68 218.56,-178.98 209.32,-173.79 208.1,-180.68\"/>\n</g>\n<!-- 134612240503456 -->\n<g id=\"node135\" class=\"node\">\n<title>134612240503456</title>\n<polygon fill=\"none\" stroke=\"black\" points=\"936.5,-495.5 936.5,-531.5 1118.5,-531.5 1118.5,-495.5 936.5,-495.5\"/>\n<text text-anchor=\"middle\" x=\"946.5\" y=\"-509.8\" font-family=\"Times,serif\" font-size=\"14.00\"> </text>\n<polyline fill=\"none\" stroke=\"black\" points=\"956.5,-495.5 956.5,-531.5 \"/>\n<text text-anchor=\"middle\" x=\"996.5\" y=\"-509.8\" font-family=\"Times,serif\" font-size=\"14.00\">data 1.4779</text>\n<polyline fill=\"none\" stroke=\"black\" points=\"1036.5,-495.5 1036.5,-531.5 \"/>\n<text text-anchor=\"middle\" x=\"1077.5\" y=\"-509.8\" font-family=\"Times,serif\" font-size=\"14.00\">grad 0.0000</text>\n</g>\n<!-- 134612240503456&#45;&gt;134612240513200+ -->\n<g id=\"edge202\" class=\"edge\">\n<title>134612240503456&#45;&gt;134612240513200+</title>\n<path fill=\"none\" stroke=\"black\" d=\"M1092.02,-531.65C1101.79,-534.76 1111.71,-538.08 1121,-541.5 1131.25,-545.27 1142.23,-549.86 1152.07,-554.18\"/>\n<polygon fill=\"black\" stroke=\"black\" points=\"1150.89,-557.49 1161.45,-558.37 1153.74,-551.1 1150.89,-557.49\"/>\n</g>\n<!-- 134612240503456*&#45;&gt;134612240503456 -->\n<g id=\"edge51\" class=\"edge\">\n<title>134612240503456*&#45;&gt;134612240503456</title>\n<path fill=\"none\" stroke=\"black\" d=\"M898.21,-513.5C906.34,-513.5 915.85,-513.5 925.94,-513.5\"/>\n<polygon fill=\"black\" stroke=\"black\" points=\"926.19,-517 936.19,-513.5 926.19,-510 926.19,-517\"/>\n</g>\n<!-- 134612242076464 -->\n<g id=\"node137\" class=\"node\">\n<title>134612242076464</title>\n<polygon fill=\"none\" stroke=\"black\" points=\"2186,-110.5 2186,-146.5 2373,-146.5 2373,-110.5 2186,-110.5\"/>\n<text text-anchor=\"middle\" x=\"2196\" y=\"-124.8\" font-family=\"Times,serif\" font-size=\"14.00\"> </text>\n<polyline fill=\"none\" stroke=\"black\" points=\"2206,-110.5 2206,-146.5 \"/>\n<text text-anchor=\"middle\" x=\"2248.5\" y=\"-124.8\" font-family=\"Times,serif\" font-size=\"14.00\">data &#45;0.3337</text>\n<polyline fill=\"none\" stroke=\"black\" points=\"2291,-110.5 2291,-146.5 \"/>\n<text text-anchor=\"middle\" x=\"2332\" y=\"-124.8\" font-family=\"Times,serif\" font-size=\"14.00\">grad 0.0000</text>\n</g>\n<!-- 134612242076464&#45;&gt;134612241582928+ -->\n<g id=\"edge189\" class=\"edge\">\n<title>134612242076464&#45;&gt;134612241582928+</title>\n<path fill=\"none\" stroke=\"black\" d=\"M2373.05,-128.5C2382.06,-128.5 2390.79,-128.5 2398.7,-128.5\"/>\n<polygon fill=\"black\" stroke=\"black\" points=\"2398.95,-132 2408.95,-128.5 2398.95,-125 2398.95,-132\"/>\n</g>\n<!-- 134612242076464*&#45;&gt;134612242076464 -->\n<g id=\"edge52\" class=\"edge\">\n<title>134612242076464*&#45;&gt;134612242076464</title>\n<path fill=\"none\" stroke=\"black\" d=\"M2150.21,-128.5C2157.73,-128.5 2166.43,-128.5 2175.67,-128.5\"/>\n<polygon fill=\"black\" stroke=\"black\" points=\"2175.89,-132 2185.89,-128.5 2175.89,-125 2175.89,-132\"/>\n</g>\n<!-- 134612241584992 -->\n<g id=\"node139\" class=\"node\">\n<title>134612241584992</title>\n<polygon fill=\"none\" stroke=\"black\" points=\"3127.5,-356.5 3127.5,-392.5 3309.5,-392.5 3309.5,-356.5 3127.5,-356.5\"/>\n<text text-anchor=\"middle\" x=\"3137.5\" y=\"-370.8\" font-family=\"Times,serif\" font-size=\"14.00\"> </text>\n<polyline fill=\"none\" stroke=\"black\" points=\"3147.5,-356.5 3147.5,-392.5 \"/>\n<text text-anchor=\"middle\" x=\"3187.5\" y=\"-370.8\" font-family=\"Times,serif\" font-size=\"14.00\">data 1.2280</text>\n<polyline fill=\"none\" stroke=\"black\" points=\"3227.5,-356.5 3227.5,-392.5 \"/>\n<text text-anchor=\"middle\" x=\"3268.5\" y=\"-370.8\" font-family=\"Times,serif\" font-size=\"14.00\">grad 0.0000</text>\n</g>\n<!-- 134612241584992&#45;&gt;134612241589024tanh -->\n<g id=\"edge101\" class=\"edge\">\n<title>134612241584992&#45;&gt;134612241589024tanh</title>\n<path fill=\"none\" stroke=\"black\" d=\"M3309.82,-374.5C3319.57,-374.5 3329.04,-374.5 3337.57,-374.5\"/>\n<polygon fill=\"black\" stroke=\"black\" points=\"3337.83,-378 3347.83,-374.5 3337.83,-371 3337.83,-378\"/>\n</g>\n<!-- 134612241584992+&#45;&gt;134612241584992 -->\n<g id=\"edge53\" class=\"edge\">\n<title>134612241584992+&#45;&gt;134612241584992</title>\n<path fill=\"none\" stroke=\"black\" d=\"M3089.21,-374.5C3097.34,-374.5 3106.85,-374.5 3116.94,-374.5\"/>\n<polygon fill=\"black\" stroke=\"black\" points=\"3117.19,-378 3127.19,-374.5 3117.19,-371 3117.19,-378\"/>\n</g>\n<!-- 134612240102304 -->\n<g id=\"node141\" class=\"node\">\n<title>134612240102304</title>\n<polygon fill=\"none\" stroke=\"black\" points=\"2499,-825.5 2499,-861.5 2686,-861.5 2686,-825.5 2499,-825.5\"/>\n<text text-anchor=\"middle\" x=\"2509\" y=\"-839.8\" font-family=\"Times,serif\" font-size=\"14.00\"> </text>\n<polyline fill=\"none\" stroke=\"black\" points=\"2519,-825.5 2519,-861.5 \"/>\n<text text-anchor=\"middle\" x=\"2561.5\" y=\"-839.8\" font-family=\"Times,serif\" font-size=\"14.00\">data &#45;0.9229</text>\n<polyline fill=\"none\" stroke=\"black\" points=\"2604,-825.5 2604,-861.5 \"/>\n<text text-anchor=\"middle\" x=\"2645\" y=\"-839.8\" font-family=\"Times,serif\" font-size=\"14.00\">grad 0.0000</text>\n</g>\n<!-- 134612240102304&#45;&gt;134612240745520* -->\n<g id=\"edge177\" class=\"edge\">\n<title>134612240102304&#45;&gt;134612240745520*</title>\n<path fill=\"none\" stroke=\"black\" d=\"M2660.14,-825.5C2668.91,-822.71 2677.73,-819.68 2686,-816.5 2696.74,-812.37 2708.17,-807.1 2718.25,-802.14\"/>\n<polygon fill=\"black\" stroke=\"black\" points=\"2720.07,-805.14 2727.43,-797.52 2716.93,-798.89 2720.07,-805.14\"/>\n</g>\n<!-- 134612240462992 -->\n<g id=\"node142\" class=\"node\">\n<title>134612240462992</title>\n<polygon fill=\"none\" stroke=\"black\" points=\"2814.5,-385.5 2814.5,-421.5 2996.5,-421.5 2996.5,-385.5 2814.5,-385.5\"/>\n<text text-anchor=\"middle\" x=\"2824.5\" y=\"-399.8\" font-family=\"Times,serif\" font-size=\"14.00\"> </text>\n<polyline fill=\"none\" stroke=\"black\" points=\"2834.5,-385.5 2834.5,-421.5 \"/>\n<text text-anchor=\"middle\" x=\"2874.5\" y=\"-399.8\" font-family=\"Times,serif\" font-size=\"14.00\">data 1.2568</text>\n<polyline fill=\"none\" stroke=\"black\" points=\"2914.5,-385.5 2914.5,-421.5 \"/>\n<text text-anchor=\"middle\" x=\"2955.5\" y=\"-399.8\" font-family=\"Times,serif\" font-size=\"14.00\">grad 0.0000</text>\n</g>\n<!-- 134612240462992&#45;&gt;134612240452960+ -->\n<g id=\"edge105\" class=\"edge\">\n<title>134612240462992&#45;&gt;134612240452960+</title>\n<path fill=\"none\" stroke=\"black\" d=\"M2996.82,-418.7C3007.07,-420.42 3017.01,-422.1 3025.88,-423.59\"/>\n<polygon fill=\"black\" stroke=\"black\" points=\"3025.31,-427.04 3035.75,-425.25 3026.47,-420.14 3025.31,-427.04\"/>\n</g>\n<!-- 134612240462992+&#45;&gt;134612240462992 -->\n<g id=\"edge54\" class=\"edge\">\n<title>134612240462992+&#45;&gt;134612240462992</title>\n<path fill=\"none\" stroke=\"black\" d=\"M2773.13,-356.73C2791.86,-363.4 2819.11,-373.1 2843.95,-381.94\"/>\n<polygon fill=\"black\" stroke=\"black\" points=\"2843.09,-385.35 2853.69,-385.41 2845.44,-378.76 2843.09,-385.35\"/>\n</g>\n<!-- 134612240463040 -->\n<g id=\"node144\" class=\"node\">\n<title>134612240463040</title>\n<polygon fill=\"none\" stroke=\"black\" points=\"2814.5,-550.5 2814.5,-586.5 2996.5,-586.5 2996.5,-550.5 2814.5,-550.5\"/>\n<text text-anchor=\"middle\" x=\"2824.5\" y=\"-564.8\" font-family=\"Times,serif\" font-size=\"14.00\"> </text>\n<polyline fill=\"none\" stroke=\"black\" points=\"2834.5,-550.5 2834.5,-586.5 \"/>\n<text text-anchor=\"middle\" x=\"2874.5\" y=\"-564.8\" font-family=\"Times,serif\" font-size=\"14.00\">data 0.0090</text>\n<polyline fill=\"none\" stroke=\"black\" points=\"2914.5,-550.5 2914.5,-586.5 \"/>\n<text text-anchor=\"middle\" x=\"2955.5\" y=\"-564.8\" font-family=\"Times,serif\" font-size=\"14.00\">grad 0.0000</text>\n</g>\n<!-- 134612240463040&#45;&gt;134612240452960+ -->\n<g id=\"edge154\" class=\"edge\">\n<title>134612240463040&#45;&gt;134612240452960+</title>\n<path fill=\"none\" stroke=\"black\" d=\"M2985.42,-550.34C2990.24,-547.77 2994.82,-544.84 2999,-541.5 3026.31,-519.66 3043.47,-482.37 3052.64,-456.86\"/>\n<polygon fill=\"black\" stroke=\"black\" points=\"3056.06,-457.65 3055.98,-447.06 3049.44,-455.39 3056.06,-457.65\"/>\n</g>\n<!-- 134612240463040*&#45;&gt;134612240463040 -->\n<g id=\"edge55\" class=\"edge\">\n<title>134612240463040*&#45;&gt;134612240463040</title>\n<path fill=\"none\" stroke=\"black\" d=\"M2776.21,-568.5C2784.34,-568.5 2793.85,-568.5 2803.94,-568.5\"/>\n<polygon fill=\"black\" stroke=\"black\" points=\"2804.19,-572 2814.19,-568.5 2804.19,-565 2804.19,-572\"/>\n</g>\n<!-- 134612240102640 -->\n<g id=\"node146\" class=\"node\">\n<title>134612240102640</title>\n<polygon fill=\"none\" stroke=\"black\" points=\"3438,-576.5 3438,-612.5 3625,-612.5 3625,-576.5 3438,-576.5\"/>\n<text text-anchor=\"middle\" x=\"3448\" y=\"-590.8\" font-family=\"Times,serif\" font-size=\"14.00\"> </text>\n<polyline fill=\"none\" stroke=\"black\" points=\"3458,-576.5 3458,-612.5 \"/>\n<text text-anchor=\"middle\" x=\"3500.5\" y=\"-590.8\" font-family=\"Times,serif\" font-size=\"14.00\">data &#45;0.8043</text>\n<polyline fill=\"none\" stroke=\"black\" points=\"3543,-576.5 3543,-612.5 \"/>\n<text text-anchor=\"middle\" x=\"3584\" y=\"-590.8\" font-family=\"Times,serif\" font-size=\"14.00\">grad 0.0000</text>\n</g>\n<!-- 134612240102640&#45;&gt;134612240746480* -->\n<g id=\"edge138\" class=\"edge\">\n<title>134612240102640&#45;&gt;134612240746480*</title>\n<path fill=\"none\" stroke=\"black\" d=\"M3598.56,-576.45C3607.51,-573.64 3616.53,-570.63 3625,-567.5 3635.49,-563.62 3646.71,-558.78 3656.68,-554.22\"/>\n<polygon fill=\"black\" stroke=\"black\" points=\"3658.2,-557.37 3665.79,-549.97 3655.25,-551.02 3658.2,-557.37\"/>\n</g>\n<!-- 134612240102736 -->\n<g id=\"node147\" class=\"node\">\n<title>134612240102736</title>\n<polygon fill=\"none\" stroke=\"black\" points=\"623.5,-495.5 623.5,-531.5 805.5,-531.5 805.5,-495.5 623.5,-495.5\"/>\n<text text-anchor=\"middle\" x=\"633.5\" y=\"-509.8\" font-family=\"Times,serif\" font-size=\"14.00\"> </text>\n<polyline fill=\"none\" stroke=\"black\" points=\"643.5,-495.5 643.5,-531.5 \"/>\n<text text-anchor=\"middle\" x=\"683.5\" y=\"-509.8\" font-family=\"Times,serif\" font-size=\"14.00\">data 0.7389</text>\n<polyline fill=\"none\" stroke=\"black\" points=\"723.5,-495.5 723.5,-531.5 \"/>\n<text text-anchor=\"middle\" x=\"764.5\" y=\"-509.8\" font-family=\"Times,serif\" font-size=\"14.00\">grad 0.0000</text>\n</g>\n<!-- 134612240102736&#45;&gt;134612240503456* -->\n<g id=\"edge91\" class=\"edge\">\n<title>134612240102736&#45;&gt;134612240503456*</title>\n<path fill=\"none\" stroke=\"black\" d=\"M805.82,-513.5C815.57,-513.5 825.04,-513.5 833.57,-513.5\"/>\n<polygon fill=\"black\" stroke=\"black\" points=\"833.83,-517 843.83,-513.5 833.83,-510 833.83,-517\"/>\n</g>\n<!-- 134612240455072 -->\n<g id=\"node148\" class=\"node\">\n<title>134612240455072</title>\n<polygon fill=\"none\" stroke=\"black\" points=\"1875.5,-550.5 1875.5,-586.5 2057.5,-586.5 2057.5,-550.5 1875.5,-550.5\"/>\n<text text-anchor=\"middle\" x=\"1885.5\" y=\"-564.8\" font-family=\"Times,serif\" font-size=\"14.00\"> </text>\n<polyline fill=\"none\" stroke=\"black\" points=\"1895.5,-550.5 1895.5,-586.5 \"/>\n<text text-anchor=\"middle\" x=\"1935.5\" y=\"-564.8\" font-family=\"Times,serif\" font-size=\"14.00\">data 0.4824</text>\n<polyline fill=\"none\" stroke=\"black\" points=\"1975.5,-550.5 1975.5,-586.5 \"/>\n<text text-anchor=\"middle\" x=\"2016.5\" y=\"-564.8\" font-family=\"Times,serif\" font-size=\"14.00\">grad 0.0000</text>\n</g>\n<!-- 134612240455696tanh -->\n<g id=\"node160\" class=\"node\">\n<title>134612240455696tanh</title>\n<ellipse fill=\"none\" stroke=\"black\" cx=\"2123\" cy=\"-540.5\" rx=\"27\" ry=\"18\"/>\n<text text-anchor=\"middle\" x=\"2123\" y=\"-536.8\" font-family=\"Times,serif\" font-size=\"14.00\">tanh</text>\n</g>\n<!-- 134612240455072&#45;&gt;134612240455696tanh -->\n<g id=\"edge167\" class=\"edge\">\n<title>134612240455072&#45;&gt;134612240455696tanh</title>\n<path fill=\"none\" stroke=\"black\" d=\"M2057.82,-552.13C2068.07,-550.27 2078.01,-548.47 2086.88,-546.87\"/>\n<polygon fill=\"black\" stroke=\"black\" points=\"2087.54,-550.3 2096.75,-545.08 2086.29,-543.42 2087.54,-550.3\"/>\n</g>\n<!-- 134612240455072+ -->\n<g id=\"node149\" class=\"node\">\n<title>134612240455072+</title>\n<ellipse fill=\"none\" stroke=\"black\" cx=\"1810\" cy=\"-568.5\" rx=\"27\" ry=\"18\"/>\n<text text-anchor=\"middle\" x=\"1810\" y=\"-564.8\" font-family=\"Times,serif\" font-size=\"14.00\">+</text>\n</g>\n<!-- 134612240455072+&#45;&gt;134612240455072 -->\n<g id=\"edge56\" class=\"edge\">\n<title>134612240455072+&#45;&gt;134612240455072</title>\n<path fill=\"none\" stroke=\"black\" d=\"M1837.21,-568.5C1845.34,-568.5 1854.85,-568.5 1864.94,-568.5\"/>\n<polygon fill=\"black\" stroke=\"black\" points=\"1865.19,-572 1875.19,-568.5 1865.19,-565 1865.19,-572\"/>\n</g>\n<!-- 134612240094672 -->\n<g id=\"node150\" class=\"node\">\n<title>134612240094672</title>\n<polygon fill=\"none\" stroke=\"black\" points=\"1562.5,-605.5 1562.5,-641.5 1744.5,-641.5 1744.5,-605.5 1562.5,-605.5\"/>\n<text text-anchor=\"middle\" x=\"1572.5\" y=\"-619.8\" font-family=\"Times,serif\" font-size=\"14.00\"> </text>\n<polyline fill=\"none\" stroke=\"black\" points=\"1582.5,-605.5 1582.5,-641.5 \"/>\n<text text-anchor=\"middle\" x=\"1622.5\" y=\"-619.8\" font-family=\"Times,serif\" font-size=\"14.00\">data 0.6662</text>\n<polyline fill=\"none\" stroke=\"black\" points=\"1662.5,-605.5 1662.5,-641.5 \"/>\n<text text-anchor=\"middle\" x=\"1703.5\" y=\"-619.8\" font-family=\"Times,serif\" font-size=\"14.00\">grad 0.0000</text>\n</g>\n<!-- 134612240094672&#45;&gt;134612240460256* -->\n<g id=\"edge130\" class=\"edge\">\n<title>134612240094672&#45;&gt;134612240460256*</title>\n<path fill=\"none\" stroke=\"black\" d=\"M1718.02,-641.65C1727.79,-644.76 1737.71,-648.08 1747,-651.5 1757.25,-655.27 1768.23,-659.86 1778.07,-664.18\"/>\n<polygon fill=\"black\" stroke=\"black\" points=\"1776.89,-667.49 1787.45,-668.37 1779.74,-661.1 1776.89,-667.49\"/>\n</g>\n<!-- 134612240102880 -->\n<g id=\"node151\" class=\"node\">\n<title>134612240102880</title>\n<polygon fill=\"none\" stroke=\"black\" points=\"3440.5,-631.5 3440.5,-667.5 3622.5,-667.5 3622.5,-631.5 3440.5,-631.5\"/>\n<text text-anchor=\"middle\" x=\"3450.5\" y=\"-645.8\" font-family=\"Times,serif\" font-size=\"14.00\"> </text>\n<polyline fill=\"none\" stroke=\"black\" points=\"3460.5,-631.5 3460.5,-667.5 \"/>\n<text text-anchor=\"middle\" x=\"3500.5\" y=\"-645.8\" font-family=\"Times,serif\" font-size=\"14.00\">data 0.0884</text>\n<polyline fill=\"none\" stroke=\"black\" points=\"3540.5,-631.5 3540.5,-667.5 \"/>\n<text text-anchor=\"middle\" x=\"3581.5\" y=\"-645.8\" font-family=\"Times,serif\" font-size=\"14.00\">grad 0.0000</text>\n</g>\n<!-- 134612240102880&#45;&gt;134612240747248* -->\n<g id=\"edge112\" class=\"edge\">\n<title>134612240102880&#45;&gt;134612240747248*</title>\n<path fill=\"none\" stroke=\"black\" d=\"M3622.82,-649.5C3632.57,-649.5 3642.04,-649.5 3650.57,-649.5\"/>\n<polygon fill=\"black\" stroke=\"black\" points=\"3650.83,-653 3660.83,-649.5 3650.83,-646 3650.83,-653\"/>\n</g>\n<!-- 134612240094816 -->\n<g id=\"node152\" class=\"node\">\n<title>134612240094816</title>\n<polygon fill=\"none\" stroke=\"black\" points=\"1875.5,-330.5 1875.5,-366.5 2057.5,-366.5 2057.5,-330.5 1875.5,-330.5\"/>\n<text text-anchor=\"middle\" x=\"1885.5\" y=\"-344.8\" font-family=\"Times,serif\" font-size=\"14.00\"> </text>\n<polyline fill=\"none\" stroke=\"black\" points=\"1895.5,-330.5 1895.5,-366.5 \"/>\n<text text-anchor=\"middle\" x=\"1935.5\" y=\"-344.8\" font-family=\"Times,serif\" font-size=\"14.00\">data 0.8149</text>\n<polyline fill=\"none\" stroke=\"black\" points=\"1975.5,-330.5 1975.5,-366.5 \"/>\n<text text-anchor=\"middle\" x=\"2016.5\" y=\"-344.8\" font-family=\"Times,serif\" font-size=\"14.00\">grad 0.0000</text>\n</g>\n<!-- 134612240094816&#45;&gt;134612240462224+ -->\n<g id=\"edge77\" class=\"edge\">\n<title>134612240094816&#45;&gt;134612240462224+</title>\n<path fill=\"none\" stroke=\"black\" d=\"M2042.64,-330.32C2048.75,-327.49 2054.63,-324.24 2060,-320.5 2080.7,-306.07 2097.44,-282.58 2108.29,-264.43\"/>\n<polygon fill=\"black\" stroke=\"black\" points=\"2111.47,-265.91 2113.41,-255.5 2105.4,-262.43 2111.47,-265.91\"/>\n</g>\n<!-- 134612240455360 -->\n<g id=\"node153\" class=\"node\">\n<title>134612240455360</title>\n<polygon fill=\"none\" stroke=\"black\" points=\"936.5,-605.5 936.5,-641.5 1118.5,-641.5 1118.5,-605.5 936.5,-605.5\"/>\n<text text-anchor=\"middle\" x=\"946.5\" y=\"-619.8\" font-family=\"Times,serif\" font-size=\"14.00\"> </text>\n<polyline fill=\"none\" stroke=\"black\" points=\"956.5,-605.5 956.5,-641.5 \"/>\n<text text-anchor=\"middle\" x=\"996.5\" y=\"-619.8\" font-family=\"Times,serif\" font-size=\"14.00\">data 3.0000</text>\n<polyline fill=\"none\" stroke=\"black\" points=\"1036.5,-605.5 1036.5,-641.5 \"/>\n<text text-anchor=\"middle\" x=\"1077.5\" y=\"-619.8\" font-family=\"Times,serif\" font-size=\"14.00\">grad 0.0000</text>\n</g>\n<!-- 134612240455360&#45;&gt;134612240457472* -->\n<g id=\"edge182\" class=\"edge\">\n<title>134612240455360&#45;&gt;134612240457472*</title>\n<path fill=\"none\" stroke=\"black\" d=\"M1118.82,-623.5C1128.57,-623.5 1138.04,-623.5 1146.57,-623.5\"/>\n<polygon fill=\"black\" stroke=\"black\" points=\"1146.83,-627 1156.83,-623.5 1146.83,-620 1146.83,-627\"/>\n</g>\n<!-- 134612240103120 -->\n<g id=\"node154\" class=\"node\">\n<title>134612240103120</title>\n<polygon fill=\"none\" stroke=\"black\" points=\"3438,-466.5 3438,-502.5 3625,-502.5 3625,-466.5 3438,-466.5\"/>\n<text text-anchor=\"middle\" x=\"3448\" y=\"-480.8\" font-family=\"Times,serif\" font-size=\"14.00\"> </text>\n<polyline fill=\"none\" stroke=\"black\" points=\"3458,-466.5 3458,-502.5 \"/>\n<text text-anchor=\"middle\" x=\"3500.5\" y=\"-480.8\" font-family=\"Times,serif\" font-size=\"14.00\">data &#45;0.7483</text>\n<polyline fill=\"none\" stroke=\"black\" points=\"3543,-466.5 3543,-502.5 \"/>\n<text text-anchor=\"middle\" x=\"3584\" y=\"-480.8\" font-family=\"Times,serif\" font-size=\"14.00\">grad 0.0000</text>\n</g>\n<!-- 134612240103120&#45;&gt;134612240746096* -->\n<g id=\"edge75\" class=\"edge\">\n<title>134612240103120&#45;&gt;134612240746096*</title>\n<path fill=\"none\" stroke=\"black\" d=\"M3625.05,-484.5C3634.06,-484.5 3642.79,-484.5 3650.7,-484.5\"/>\n<polygon fill=\"black\" stroke=\"black\" points=\"3650.95,-488 3660.95,-484.5 3650.95,-481 3650.95,-488\"/>\n</g>\n<!-- 134612240094960 -->\n<g id=\"node155\" class=\"node\">\n<title>134612240094960</title>\n<polygon fill=\"none\" stroke=\"black\" points=\"936.5,-330.5 936.5,-366.5 1118.5,-366.5 1118.5,-330.5 936.5,-330.5\"/>\n<text text-anchor=\"middle\" x=\"946.5\" y=\"-344.8\" font-family=\"Times,serif\" font-size=\"14.00\"> </text>\n<polyline fill=\"none\" stroke=\"black\" points=\"956.5,-330.5 956.5,-366.5 \"/>\n<text text-anchor=\"middle\" x=\"996.5\" y=\"-344.8\" font-family=\"Times,serif\" font-size=\"14.00\">data 0.3772</text>\n<polyline fill=\"none\" stroke=\"black\" points=\"1036.5,-330.5 1036.5,-366.5 \"/>\n<text text-anchor=\"middle\" x=\"1077.5\" y=\"-344.8\" font-family=\"Times,serif\" font-size=\"14.00\">grad 0.0000</text>\n</g>\n<!-- 134612240094960&#45;&gt;134612240501056+ -->\n<g id=\"edge163\" class=\"edge\">\n<title>134612240094960&#45;&gt;134612240501056+</title>\n<path fill=\"none\" stroke=\"black\" d=\"M1118.82,-348.5C1128.57,-348.5 1138.04,-348.5 1146.57,-348.5\"/>\n<polygon fill=\"black\" stroke=\"black\" points=\"1146.83,-352 1156.83,-348.5 1146.83,-345 1146.83,-352\"/>\n</g>\n<!-- 134612240094960+&#45;&gt;134612240094960 -->\n<g id=\"edge57\" class=\"edge\">\n<title>134612240094960+&#45;&gt;134612240094960</title>\n<path fill=\"none\" stroke=\"black\" d=\"M898.21,-348.5C906.34,-348.5 915.85,-348.5 925.94,-348.5\"/>\n<polygon fill=\"black\" stroke=\"black\" points=\"926.19,-352 936.19,-348.5 926.19,-345 926.19,-352\"/>\n</g>\n<!-- 134612240455504 -->\n<g id=\"node157\" class=\"node\">\n<title>134612240455504</title>\n<polygon fill=\"none\" stroke=\"black\" points=\"1560,-550.5 1560,-586.5 1747,-586.5 1747,-550.5 1560,-550.5\"/>\n<text text-anchor=\"middle\" x=\"1570\" y=\"-564.8\" font-family=\"Times,serif\" font-size=\"14.00\"> </text>\n<polyline fill=\"none\" stroke=\"black\" points=\"1580,-550.5 1580,-586.5 \"/>\n<text text-anchor=\"middle\" x=\"1622.5\" y=\"-564.8\" font-family=\"Times,serif\" font-size=\"14.00\">data &#45;0.3757</text>\n<polyline fill=\"none\" stroke=\"black\" points=\"1665,-550.5 1665,-586.5 \"/>\n<text text-anchor=\"middle\" x=\"1706\" y=\"-564.8\" font-family=\"Times,serif\" font-size=\"14.00\">grad 0.0000</text>\n</g>\n<!-- 134612240455504&#45;&gt;134612240455072+ -->\n<g id=\"edge149\" class=\"edge\">\n<title>134612240455504&#45;&gt;134612240455072+</title>\n<path fill=\"none\" stroke=\"black\" d=\"M1747.05,-568.5C1756.06,-568.5 1764.79,-568.5 1772.7,-568.5\"/>\n<polygon fill=\"black\" stroke=\"black\" points=\"1772.95,-572 1782.95,-568.5 1772.95,-565 1772.95,-572\"/>\n</g>\n<!-- 134612240455504+ -->\n<g id=\"node158\" class=\"node\">\n<title>134612240455504+</title>\n<ellipse fill=\"none\" stroke=\"black\" cx=\"1497\" cy=\"-568.5\" rx=\"27\" ry=\"18\"/>\n<text text-anchor=\"middle\" x=\"1497\" y=\"-564.8\" font-family=\"Times,serif\" font-size=\"14.00\">+</text>\n</g>\n<!-- 134612240455504+&#45;&gt;134612240455504 -->\n<g id=\"edge58\" class=\"edge\">\n<title>134612240455504+&#45;&gt;134612240455504</title>\n<path fill=\"none\" stroke=\"black\" d=\"M1524.21,-568.5C1531.73,-568.5 1540.43,-568.5 1549.67,-568.5\"/>\n<polygon fill=\"black\" stroke=\"black\" points=\"1549.89,-572 1559.89,-568.5 1549.89,-565 1549.89,-572\"/>\n</g>\n<!-- 134612240455696 -->\n<g id=\"node159\" class=\"node\">\n<title>134612240455696</title>\n<polygon fill=\"none\" stroke=\"black\" points=\"2188.5,-495.5 2188.5,-531.5 2370.5,-531.5 2370.5,-495.5 2188.5,-495.5\"/>\n<text text-anchor=\"middle\" x=\"2198.5\" y=\"-509.8\" font-family=\"Times,serif\" font-size=\"14.00\"> </text>\n<polyline fill=\"none\" stroke=\"black\" points=\"2208.5,-495.5 2208.5,-531.5 \"/>\n<text text-anchor=\"middle\" x=\"2248.5\" y=\"-509.8\" font-family=\"Times,serif\" font-size=\"14.00\">data 0.4482</text>\n<polyline fill=\"none\" stroke=\"black\" points=\"2288.5,-495.5 2288.5,-531.5 \"/>\n<text text-anchor=\"middle\" x=\"2329.5\" y=\"-509.8\" font-family=\"Times,serif\" font-size=\"14.00\">grad 0.0000</text>\n</g>\n<!-- 134612240455696&#45;&gt;134612240745136* -->\n<g id=\"edge194\" class=\"edge\">\n<title>134612240455696&#45;&gt;134612240745136*</title>\n<path fill=\"none\" stroke=\"black\" d=\"M2355.64,-531.68C2361.75,-534.51 2367.63,-537.76 2373,-541.5 2393.7,-555.93 2410.44,-579.42 2421.29,-597.57\"/>\n<polygon fill=\"black\" stroke=\"black\" points=\"2418.4,-599.57 2426.41,-606.5 2424.47,-596.09 2418.4,-599.57\"/>\n</g>\n<!-- 134612240455696&#45;&gt;134612240462176* -->\n<g id=\"edge80\" class=\"edge\">\n<title>134612240455696&#45;&gt;134612240462176*</title>\n<path fill=\"none\" stroke=\"black\" d=\"M2360.2,-495.31C2364.83,-492.5 2369.16,-489.25 2373,-485.5 2409.52,-449.88 2383.05,-420.42 2409,-376.5 2410.15,-374.55 2411.46,-372.62 2412.86,-370.75\"/>\n<polygon fill=\"black\" stroke=\"black\" points=\"2415.66,-372.85 2419.4,-362.94 2410.3,-368.36 2415.66,-372.85\"/>\n</g>\n<!-- 134612240455696&#45;&gt;134612241594592* -->\n<g id=\"edge195\" class=\"edge\">\n<title>134612240455696&#45;&gt;134612241594592*</title>\n<path fill=\"none\" stroke=\"black\" d=\"M2361.07,-495.48C2365.43,-492.62 2369.47,-489.32 2373,-485.5 2423.67,-430.72 2374.39,-387.61 2409,-321.5 2410.05,-319.49 2411.28,-317.53 2412.63,-315.62\"/>\n<polygon fill=\"black\" stroke=\"black\" points=\"2415.44,-317.71 2419.06,-307.75 2410.02,-313.28 2415.44,-317.71\"/>\n</g>\n<!-- 134612240455696&#45;&gt;134612240457280* -->\n<g id=\"edge197\" class=\"edge\">\n<title>134612240455696&#45;&gt;134612240457280*</title>\n<path fill=\"none\" stroke=\"black\" d=\"M2370.82,-513.5C2380.57,-513.5 2390.04,-513.5 2398.57,-513.5\"/>\n<polygon fill=\"black\" stroke=\"black\" points=\"2398.83,-517 2408.83,-513.5 2398.83,-510 2398.83,-517\"/>\n</g>\n<!-- 134612240455696tanh&#45;&gt;134612240455696 -->\n<g id=\"edge59\" class=\"edge\">\n<title>134612240455696tanh&#45;&gt;134612240455696</title>\n<path fill=\"none\" stroke=\"black\" d=\"M2149.51,-536.04C2157.83,-534.59 2167.62,-532.88 2178.03,-531.06\"/>\n<polygon fill=\"black\" stroke=\"black\" points=\"2178.93,-534.45 2188.18,-529.28 2177.73,-527.56 2178.93,-534.45\"/>\n</g>\n<!-- 134612240103456 -->\n<g id=\"node161\" class=\"node\">\n<title>134612240103456</title>\n<polygon fill=\"none\" stroke=\"black\" points=\"1249.5,-220.5 1249.5,-256.5 1431.5,-256.5 1431.5,-220.5 1249.5,-220.5\"/>\n<text text-anchor=\"middle\" x=\"1259.5\" y=\"-234.8\" font-family=\"Times,serif\" font-size=\"14.00\"> </text>\n<polyline fill=\"none\" stroke=\"black\" points=\"1269.5,-220.5 1269.5,-256.5 \"/>\n<text text-anchor=\"middle\" x=\"1309.5\" y=\"-234.8\" font-family=\"Times,serif\" font-size=\"14.00\">data 1.3843</text>\n<polyline fill=\"none\" stroke=\"black\" points=\"1349.5,-220.5 1349.5,-256.5 \"/>\n<text text-anchor=\"middle\" x=\"1390.5\" y=\"-234.8\" font-family=\"Times,serif\" font-size=\"14.00\">grad 0.0000</text>\n</g>\n<!-- 134612240104512tanh -->\n<g id=\"node178\" class=\"node\">\n<title>134612240104512tanh</title>\n<ellipse fill=\"none\" stroke=\"black\" cx=\"1497\" cy=\"-238.5\" rx=\"27\" ry=\"18\"/>\n<text text-anchor=\"middle\" x=\"1497\" y=\"-234.8\" font-family=\"Times,serif\" font-size=\"14.00\">tanh</text>\n</g>\n<!-- 134612240103456&#45;&gt;134612240104512tanh -->\n<g id=\"edge107\" class=\"edge\">\n<title>134612240103456&#45;&gt;134612240104512tanh</title>\n<path fill=\"none\" stroke=\"black\" d=\"M1431.82,-238.5C1441.57,-238.5 1451.04,-238.5 1459.57,-238.5\"/>\n<polygon fill=\"black\" stroke=\"black\" points=\"1459.83,-242 1469.83,-238.5 1459.83,-235 1459.83,-242\"/>\n</g>\n<!-- 134612240103456+&#45;&gt;134612240103456 -->\n<g id=\"edge60\" class=\"edge\">\n<title>134612240103456+&#45;&gt;134612240103456</title>\n<path fill=\"none\" stroke=\"black\" d=\"M1208.13,-191.73C1226.86,-198.4 1254.11,-208.1 1278.95,-216.94\"/>\n<polygon fill=\"black\" stroke=\"black\" points=\"1278.09,-220.35 1288.69,-220.41 1280.44,-213.76 1278.09,-220.35\"/>\n</g>\n<!-- 134612240455744 -->\n<g id=\"node163\" class=\"node\">\n<title>134612240455744</title>\n<polygon fill=\"none\" stroke=\"black\" points=\"1562.5,-495.5 1562.5,-531.5 1744.5,-531.5 1744.5,-495.5 1562.5,-495.5\"/>\n<text text-anchor=\"middle\" x=\"1572.5\" y=\"-509.8\" font-family=\"Times,serif\" font-size=\"14.00\"> </text>\n<polyline fill=\"none\" stroke=\"black\" points=\"1582.5,-495.5 1582.5,-531.5 \"/>\n<text text-anchor=\"middle\" x=\"1622.5\" y=\"-509.8\" font-family=\"Times,serif\" font-size=\"14.00\">data 0.8581</text>\n<polyline fill=\"none\" stroke=\"black\" points=\"1662.5,-495.5 1662.5,-531.5 \"/>\n<text text-anchor=\"middle\" x=\"1703.5\" y=\"-509.8\" font-family=\"Times,serif\" font-size=\"14.00\">grad 0.0000</text>\n</g>\n<!-- 134612240455744&#45;&gt;134612240455072+ -->\n<g id=\"edge122\" class=\"edge\">\n<title>134612240455744&#45;&gt;134612240455072+</title>\n<path fill=\"none\" stroke=\"black\" d=\"M1718.02,-531.65C1727.79,-534.76 1737.71,-538.08 1747,-541.5 1757.25,-545.27 1768.23,-549.86 1778.07,-554.18\"/>\n<polygon fill=\"black\" stroke=\"black\" points=\"1776.89,-557.49 1787.45,-558.37 1779.74,-551.1 1776.89,-557.49\"/>\n</g>\n<!-- 134612240455744*&#45;&gt;134612240455744 -->\n<g id=\"edge61\" class=\"edge\">\n<title>134612240455744*&#45;&gt;134612240455744</title>\n<path fill=\"none\" stroke=\"black\" d=\"M1524.21,-513.5C1532.34,-513.5 1541.85,-513.5 1551.94,-513.5\"/>\n<polygon fill=\"black\" stroke=\"black\" points=\"1552.19,-517 1562.19,-513.5 1552.19,-510 1552.19,-517\"/>\n</g>\n<!-- 134612240513200 -->\n<g id=\"node165\" class=\"node\">\n<title>134612240513200</title>\n<polygon fill=\"none\" stroke=\"black\" points=\"1249.5,-550.5 1249.5,-586.5 1431.5,-586.5 1431.5,-550.5 1249.5,-550.5\"/>\n<text text-anchor=\"middle\" x=\"1259.5\" y=\"-564.8\" font-family=\"Times,serif\" font-size=\"14.00\"> </text>\n<polyline fill=\"none\" stroke=\"black\" points=\"1269.5,-550.5 1269.5,-586.5 \"/>\n<text text-anchor=\"middle\" x=\"1309.5\" y=\"-564.8\" font-family=\"Times,serif\" font-size=\"14.00\">data 2.2465</text>\n<polyline fill=\"none\" stroke=\"black\" points=\"1349.5,-550.5 1349.5,-586.5 \"/>\n<text text-anchor=\"middle\" x=\"1390.5\" y=\"-564.8\" font-family=\"Times,serif\" font-size=\"14.00\">grad 0.0000</text>\n</g>\n<!-- 134612240513200&#45;&gt;134612240455504+ -->\n<g id=\"edge176\" class=\"edge\">\n<title>134612240513200&#45;&gt;134612240455504+</title>\n<path fill=\"none\" stroke=\"black\" d=\"M1431.82,-568.5C1441.57,-568.5 1451.04,-568.5 1459.57,-568.5\"/>\n<polygon fill=\"black\" stroke=\"black\" points=\"1459.83,-572 1469.83,-568.5 1459.83,-565 1459.83,-572\"/>\n</g>\n<!-- 134612240513200+&#45;&gt;134612240513200 -->\n<g id=\"edge62\" class=\"edge\">\n<title>134612240513200+&#45;&gt;134612240513200</title>\n<path fill=\"none\" stroke=\"black\" d=\"M1211.21,-568.5C1219.34,-568.5 1228.85,-568.5 1238.94,-568.5\"/>\n<polygon fill=\"black\" stroke=\"black\" points=\"1239.19,-572 1249.19,-568.5 1239.19,-565 1239.19,-572\"/>\n</g>\n<!-- 134612241594592 -->\n<g id=\"node167\" class=\"node\">\n<title>134612241594592</title>\n<polygon fill=\"none\" stroke=\"black\" points=\"2499,-275.5 2499,-311.5 2686,-311.5 2686,-275.5 2499,-275.5\"/>\n<text text-anchor=\"middle\" x=\"2509\" y=\"-289.8\" font-family=\"Times,serif\" font-size=\"14.00\"> </text>\n<polyline fill=\"none\" stroke=\"black\" points=\"2519,-275.5 2519,-311.5 \"/>\n<text text-anchor=\"middle\" x=\"2561.5\" y=\"-289.8\" font-family=\"Times,serif\" font-size=\"14.00\">data &#45;0.0984</text>\n<polyline fill=\"none\" stroke=\"black\" points=\"2604,-275.5 2604,-311.5 \"/>\n<text text-anchor=\"middle\" x=\"2645\" y=\"-289.8\" font-family=\"Times,serif\" font-size=\"14.00\">grad 0.0000</text>\n</g>\n<!-- 134612241594592&#45;&gt;134612241584752+ -->\n<g id=\"edge132\" class=\"edge\">\n<title>134612241594592&#45;&gt;134612241584752+</title>\n<path fill=\"none\" stroke=\"black\" d=\"M2686.05,-293.5C2695.06,-293.5 2703.79,-293.5 2711.7,-293.5\"/>\n<polygon fill=\"black\" stroke=\"black\" points=\"2711.95,-297 2721.95,-293.5 2711.95,-290 2711.95,-297\"/>\n</g>\n<!-- 134612241594592*&#45;&gt;134612241594592 -->\n<g id=\"edge63\" class=\"edge\">\n<title>134612241594592*&#45;&gt;134612241594592</title>\n<path fill=\"none\" stroke=\"black\" d=\"M2463.21,-293.5C2470.73,-293.5 2479.43,-293.5 2488.67,-293.5\"/>\n<polygon fill=\"black\" stroke=\"black\" points=\"2488.89,-297 2498.89,-293.5 2488.89,-290 2488.89,-297\"/>\n</g>\n<!-- 134612240456128 -->\n<g id=\"node169\" class=\"node\">\n<title>134612240456128</title>\n<polygon fill=\"none\" stroke=\"black\" points=\"1247,-495.5 1247,-531.5 1434,-531.5 1434,-495.5 1247,-495.5\"/>\n<text text-anchor=\"middle\" x=\"1257\" y=\"-509.8\" font-family=\"Times,serif\" font-size=\"14.00\"> </text>\n<polyline fill=\"none\" stroke=\"black\" points=\"1267,-495.5 1267,-531.5 \"/>\n<text text-anchor=\"middle\" x=\"1309.5\" y=\"-509.8\" font-family=\"Times,serif\" font-size=\"14.00\">data &#45;1.0000</text>\n<polyline fill=\"none\" stroke=\"black\" points=\"1352,-495.5 1352,-531.5 \"/>\n<text text-anchor=\"middle\" x=\"1393\" y=\"-509.8\" font-family=\"Times,serif\" font-size=\"14.00\">grad 0.0000</text>\n</g>\n<!-- 134612240456128&#45;&gt;134612240455744* -->\n<g id=\"edge99\" class=\"edge\">\n<title>134612240456128&#45;&gt;134612240455744*</title>\n<path fill=\"none\" stroke=\"black\" d=\"M1434.05,-513.5C1443.06,-513.5 1451.79,-513.5 1459.7,-513.5\"/>\n<polygon fill=\"black\" stroke=\"black\" points=\"1459.95,-517 1469.95,-513.5 1459.95,-510 1459.95,-517\"/>\n</g>\n<!-- 134612240103936 -->\n<g id=\"node170\" class=\"node\">\n<title>134612240103936</title>\n<polygon fill=\"none\" stroke=\"black\" points=\"1873,-385.5 1873,-421.5 2060,-421.5 2060,-385.5 1873,-385.5\"/>\n<text text-anchor=\"middle\" x=\"1883\" y=\"-399.8\" font-family=\"Times,serif\" font-size=\"14.00\"> </text>\n<polyline fill=\"none\" stroke=\"black\" points=\"1893,-385.5 1893,-421.5 \"/>\n<text text-anchor=\"middle\" x=\"1935.5\" y=\"-399.8\" font-family=\"Times,serif\" font-size=\"14.00\">data &#45;0.6351</text>\n<polyline fill=\"none\" stroke=\"black\" points=\"1978,-385.5 1978,-421.5 \"/>\n<text text-anchor=\"middle\" x=\"2019\" y=\"-399.8\" font-family=\"Times,serif\" font-size=\"14.00\">grad 0.0000</text>\n</g>\n<!-- 134612240457136* -->\n<g id=\"node188\" class=\"node\">\n<title>134612240457136*</title>\n<ellipse fill=\"none\" stroke=\"black\" cx=\"2123\" cy=\"-403.5\" rx=\"27\" ry=\"18\"/>\n<text text-anchor=\"middle\" x=\"2123\" y=\"-399.8\" font-family=\"Times,serif\" font-size=\"14.00\">*</text>\n</g>\n<!-- 134612240103936&#45;&gt;134612240457136* -->\n<g id=\"edge88\" class=\"edge\">\n<title>134612240103936&#45;&gt;134612240457136*</title>\n<path fill=\"none\" stroke=\"black\" d=\"M2060.05,-403.5C2069.06,-403.5 2077.79,-403.5 2085.7,-403.5\"/>\n<polygon fill=\"black\" stroke=\"black\" points=\"2085.95,-407 2095.95,-403.5 2085.95,-400 2085.95,-407\"/>\n</g>\n<!-- 134612240096016 -->\n<g id=\"node171\" class=\"node\">\n<title>134612240096016</title>\n<polygon fill=\"none\" stroke=\"black\" points=\"936.5,-715.5 936.5,-751.5 1118.5,-751.5 1118.5,-715.5 936.5,-715.5\"/>\n<text text-anchor=\"middle\" x=\"946.5\" y=\"-729.8\" font-family=\"Times,serif\" font-size=\"14.00\"> </text>\n<polyline fill=\"none\" stroke=\"black\" points=\"956.5,-715.5 956.5,-751.5 \"/>\n<text text-anchor=\"middle\" x=\"996.5\" y=\"-729.8\" font-family=\"Times,serif\" font-size=\"14.00\">data 0.9628</text>\n<polyline fill=\"none\" stroke=\"black\" points=\"1036.5,-715.5 1036.5,-751.5 \"/>\n<text text-anchor=\"middle\" x=\"1077.5\" y=\"-729.8\" font-family=\"Times,serif\" font-size=\"14.00\">grad 0.0000</text>\n</g>\n<!-- 134612240096016&#45;&gt;134612240459344* -->\n<g id=\"edge76\" class=\"edge\">\n<title>134612240096016&#45;&gt;134612240459344*</title>\n<path fill=\"none\" stroke=\"black\" d=\"M1118.82,-733.5C1128.57,-733.5 1138.04,-733.5 1146.57,-733.5\"/>\n<polygon fill=\"black\" stroke=\"black\" points=\"1146.83,-737 1156.83,-733.5 1146.83,-730 1146.83,-737\"/>\n</g>\n<!-- 134612240104224 -->\n<g id=\"node172\" class=\"node\">\n<title>134612240104224</title>\n<polygon fill=\"none\" stroke=\"black\" points=\"3753.5,-411.5 3753.5,-447.5 3935.5,-447.5 3935.5,-411.5 3753.5,-411.5\"/>\n<text text-anchor=\"middle\" x=\"3763.5\" y=\"-425.8\" font-family=\"Times,serif\" font-size=\"14.00\"> </text>\n<polyline fill=\"none\" stroke=\"black\" points=\"3773.5,-411.5 3773.5,-447.5 \"/>\n<text text-anchor=\"middle\" x=\"3813.5\" y=\"-425.8\" font-family=\"Times,serif\" font-size=\"14.00\">data 0.9114</text>\n<polyline fill=\"none\" stroke=\"black\" points=\"3853.5,-411.5 3853.5,-447.5 \"/>\n<text text-anchor=\"middle\" x=\"3894.5\" y=\"-425.8\" font-family=\"Times,serif\" font-size=\"14.00\">grad 0.0000</text>\n</g>\n<!-- 134612240104224&#45;&gt;134612240746288+ -->\n<g id=\"edge103\" class=\"edge\">\n<title>134612240104224&#45;&gt;134612240746288+</title>\n<path fill=\"none\" stroke=\"black\" d=\"M3917.05,-447.51C3954.79,-457.01 3999.37,-468.23 4029.46,-475.8\"/>\n<polygon fill=\"black\" stroke=\"black\" points=\"4028.9,-479.27 4039.46,-478.32 4030.61,-472.49 4028.9,-479.27\"/>\n</g>\n<!-- 134612240096112 -->\n<g id=\"node173\" class=\"node\">\n<title>134612240096112</title>\n<polygon fill=\"none\" stroke=\"black\" points=\"1562.5,-715.5 1562.5,-751.5 1744.5,-751.5 1744.5,-715.5 1562.5,-715.5\"/>\n<text text-anchor=\"middle\" x=\"1572.5\" y=\"-729.8\" font-family=\"Times,serif\" font-size=\"14.00\"> </text>\n<polyline fill=\"none\" stroke=\"black\" points=\"1582.5,-715.5 1582.5,-751.5 \"/>\n<text text-anchor=\"middle\" x=\"1622.5\" y=\"-729.8\" font-family=\"Times,serif\" font-size=\"14.00\">data 0.4333</text>\n<polyline fill=\"none\" stroke=\"black\" points=\"1662.5,-715.5 1662.5,-751.5 \"/>\n<text text-anchor=\"middle\" x=\"1703.5\" y=\"-729.8\" font-family=\"Times,serif\" font-size=\"14.00\">grad 0.0000</text>\n</g>\n<!-- 134612240096112&#45;&gt;134612241589216* -->\n<g id=\"edge201\" class=\"edge\">\n<title>134612240096112&#45;&gt;134612241589216*</title>\n<path fill=\"none\" stroke=\"black\" d=\"M1744.82,-733.5C1754.57,-733.5 1764.04,-733.5 1772.57,-733.5\"/>\n<polygon fill=\"black\" stroke=\"black\" points=\"1772.83,-737 1782.83,-733.5 1772.83,-730 1772.83,-737\"/>\n</g>\n<!-- 134612240456608 -->\n<g id=\"node174\" class=\"node\">\n<title>134612240456608</title>\n<polygon fill=\"none\" stroke=\"black\" points=\"2186,-440.5 2186,-476.5 2373,-476.5 2373,-440.5 2186,-440.5\"/>\n<text text-anchor=\"middle\" x=\"2196\" y=\"-454.8\" font-family=\"Times,serif\" font-size=\"14.00\"> </text>\n<polyline fill=\"none\" stroke=\"black\" points=\"2206,-440.5 2206,-476.5 \"/>\n<text text-anchor=\"middle\" x=\"2248.5\" y=\"-454.8\" font-family=\"Times,serif\" font-size=\"14.00\">data &#45;0.5917</text>\n<polyline fill=\"none\" stroke=\"black\" points=\"2291,-440.5 2291,-476.5 \"/>\n<text text-anchor=\"middle\" x=\"2332\" y=\"-454.8\" font-family=\"Times,serif\" font-size=\"14.00\">grad 0.0000</text>\n</g>\n<!-- 134612240456800+ -->\n<g id=\"node180\" class=\"node\">\n<title>134612240456800+</title>\n<ellipse fill=\"none\" stroke=\"black\" cx=\"2436\" cy=\"-403.5\" rx=\"27\" ry=\"18\"/>\n<text text-anchor=\"middle\" x=\"2436\" y=\"-399.8\" font-family=\"Times,serif\" font-size=\"14.00\">+</text>\n</g>\n<!-- 134612240456608&#45;&gt;134612240456800+ -->\n<g id=\"edge152\" class=\"edge\">\n<title>134612240456608&#45;&gt;134612240456800+</title>\n<path fill=\"none\" stroke=\"black\" d=\"M2344.02,-440.35C2353.79,-437.24 2363.71,-433.92 2373,-430.5 2383.25,-426.73 2394.23,-422.14 2404.07,-417.82\"/>\n<polygon fill=\"black\" stroke=\"black\" points=\"2405.74,-420.9 2413.45,-413.63 2402.89,-414.51 2405.74,-420.9\"/>\n</g>\n<!-- 134612240456608+&#45;&gt;134612240456608 -->\n<g id=\"edge64\" class=\"edge\">\n<title>134612240456608+&#45;&gt;134612240456608</title>\n<path fill=\"none\" stroke=\"black\" d=\"M2150.21,-458.5C2157.73,-458.5 2166.43,-458.5 2175.67,-458.5\"/>\n<polygon fill=\"black\" stroke=\"black\" points=\"2175.89,-462 2185.89,-458.5 2175.89,-455 2175.89,-462\"/>\n</g>\n<!-- 134612240104464 -->\n<g id=\"node176\" class=\"node\">\n<title>134612240104464</title>\n<polygon fill=\"none\" stroke=\"black\" points=\"310.5,-220.5 310.5,-256.5 492.5,-256.5 492.5,-220.5 310.5,-220.5\"/>\n<text text-anchor=\"middle\" x=\"320.5\" y=\"-234.8\" font-family=\"Times,serif\" font-size=\"14.00\"> </text>\n<polyline fill=\"none\" stroke=\"black\" points=\"330.5,-220.5 330.5,-256.5 \"/>\n<text text-anchor=\"middle\" x=\"370.5\" y=\"-234.8\" font-family=\"Times,serif\" font-size=\"14.00\">data 3.0000</text>\n<polyline fill=\"none\" stroke=\"black\" points=\"410.5,-220.5 410.5,-256.5 \"/>\n<text text-anchor=\"middle\" x=\"451.5\" y=\"-234.8\" font-family=\"Times,serif\" font-size=\"14.00\">grad 0.0000</text>\n</g>\n<!-- 134612240104464&#45;&gt;134612240099040* -->\n<g id=\"edge83\" class=\"edge\">\n<title>134612240104464&#45;&gt;134612240099040*</title>\n<path fill=\"none\" stroke=\"black\" d=\"M492.82,-238.5C502.57,-238.5 512.04,-238.5 520.57,-238.5\"/>\n<polygon fill=\"black\" stroke=\"black\" points=\"520.83,-242 530.83,-238.5 520.83,-235 520.83,-242\"/>\n</g>\n<!-- 134612240104512 -->\n<g id=\"node177\" class=\"node\">\n<title>134612240104512</title>\n<polygon fill=\"none\" stroke=\"black\" points=\"1562.5,-220.5 1562.5,-256.5 1744.5,-256.5 1744.5,-220.5 1562.5,-220.5\"/>\n<text text-anchor=\"middle\" x=\"1572.5\" y=\"-234.8\" font-family=\"Times,serif\" font-size=\"14.00\"> </text>\n<polyline fill=\"none\" stroke=\"black\" points=\"1582.5,-220.5 1582.5,-256.5 \"/>\n<text text-anchor=\"middle\" x=\"1622.5\" y=\"-234.8\" font-family=\"Times,serif\" font-size=\"14.00\">data 0.8819</text>\n<polyline fill=\"none\" stroke=\"black\" points=\"1662.5,-220.5 1662.5,-256.5 \"/>\n<text text-anchor=\"middle\" x=\"1703.5\" y=\"-234.8\" font-family=\"Times,serif\" font-size=\"14.00\">grad 0.0000</text>\n</g>\n<!-- 134612240104512&#45;&gt;134612241589216* -->\n<g id=\"edge116\" class=\"edge\">\n<title>134612240104512&#45;&gt;134612241589216*</title>\n<path fill=\"none\" stroke=\"black\" d=\"M1737.67,-256.56C1741.11,-259.17 1744.25,-262.13 1747,-265.5 1809.01,-341.52 1743.44,-615.72 1783,-705.5 1783.91,-707.57 1785.04,-709.59 1786.32,-711.53\"/>\n<polygon fill=\"black\" stroke=\"black\" points=\"1783.65,-713.8 1792.6,-719.47 1789.14,-709.46 1783.65,-713.8\"/>\n</g>\n<!-- 134612240104512&#45;&gt;134612241713520* -->\n<g id=\"edge102\" class=\"edge\">\n<title>134612240104512&#45;&gt;134612241713520*</title>\n<path fill=\"none\" stroke=\"black\" d=\"M1732.86,-220.34C1737.93,-217.52 1742.71,-214.26 1747,-210.5 1779.66,-181.86 1796.06,-132.58 1803.53,-101.58\"/>\n<polygon fill=\"black\" stroke=\"black\" points=\"1807.03,-101.97 1805.82,-91.45 1800.2,-100.43 1807.03,-101.97\"/>\n</g>\n<!-- 134612240104512&#45;&gt;134612240461408* -->\n<g id=\"edge128\" class=\"edge\">\n<title>134612240104512&#45;&gt;134612240461408*</title>\n<path fill=\"none\" stroke=\"black\" d=\"M1744.82,-238.5C1754.57,-238.5 1764.04,-238.5 1772.57,-238.5\"/>\n<polygon fill=\"black\" stroke=\"black\" points=\"1772.83,-242 1782.83,-238.5 1772.83,-235 1772.83,-242\"/>\n</g>\n<!-- 134612240104512&#45;&gt;134612240456848* -->\n<g id=\"edge208\" class=\"edge\">\n<title>134612240104512&#45;&gt;134612240456848*</title>\n<path fill=\"none\" stroke=\"black\" d=\"M1734.19,-256.52C1738.77,-259.12 1743.09,-262.09 1747,-265.5 1764.44,-280.69 1787.23,-340.29 1799.75,-376.01\"/>\n<polygon fill=\"black\" stroke=\"black\" points=\"1796.57,-377.52 1803.15,-385.82 1803.19,-375.23 1796.57,-377.52\"/>\n</g>\n<!-- 134612240104512tanh&#45;&gt;134612240104512 -->\n<g id=\"edge65\" class=\"edge\">\n<title>134612240104512tanh&#45;&gt;134612240104512</title>\n<path fill=\"none\" stroke=\"black\" d=\"M1524.21,-238.5C1532.34,-238.5 1541.85,-238.5 1551.94,-238.5\"/>\n<polygon fill=\"black\" stroke=\"black\" points=\"1552.19,-242 1562.19,-238.5 1552.19,-235 1552.19,-242\"/>\n</g>\n<!-- 134612240456800 -->\n<g id=\"node179\" class=\"node\">\n<title>134612240456800</title>\n<polygon fill=\"none\" stroke=\"black\" points=\"2499,-385.5 2499,-421.5 2686,-421.5 2686,-385.5 2499,-385.5\"/>\n<text text-anchor=\"middle\" x=\"2509\" y=\"-399.8\" font-family=\"Times,serif\" font-size=\"14.00\"> </text>\n<polyline fill=\"none\" stroke=\"black\" points=\"2519,-385.5 2519,-421.5 \"/>\n<text text-anchor=\"middle\" x=\"2561.5\" y=\"-399.8\" font-family=\"Times,serif\" font-size=\"14.00\">data &#45;1.1426</text>\n<polyline fill=\"none\" stroke=\"black\" points=\"2604,-385.5 2604,-421.5 \"/>\n<text text-anchor=\"middle\" x=\"2645\" y=\"-399.8\" font-family=\"Times,serif\" font-size=\"14.00\">grad 0.0000</text>\n</g>\n<!-- 134612240457616+ -->\n<g id=\"node199\" class=\"node\">\n<title>134612240457616+</title>\n<ellipse fill=\"none\" stroke=\"black\" cx=\"2749\" cy=\"-458.5\" rx=\"27\" ry=\"18\"/>\n<text text-anchor=\"middle\" x=\"2749\" y=\"-454.8\" font-family=\"Times,serif\" font-size=\"14.00\">+</text>\n</g>\n<!-- 134612240456800&#45;&gt;134612240457616+ -->\n<g id=\"edge79\" class=\"edge\">\n<title>134612240456800&#45;&gt;134612240457616+</title>\n<path fill=\"none\" stroke=\"black\" d=\"M2659.56,-421.55C2668.51,-424.36 2677.53,-427.37 2686,-430.5 2696.49,-434.38 2707.71,-439.22 2717.68,-443.78\"/>\n<polygon fill=\"black\" stroke=\"black\" points=\"2716.25,-446.98 2726.79,-448.03 2719.2,-440.63 2716.25,-446.98\"/>\n</g>\n<!-- 134612240456800+&#45;&gt;134612240456800 -->\n<g id=\"edge66\" class=\"edge\">\n<title>134612240456800+&#45;&gt;134612240456800</title>\n<path fill=\"none\" stroke=\"black\" d=\"M2463.21,-403.5C2470.73,-403.5 2479.43,-403.5 2488.67,-403.5\"/>\n<polygon fill=\"black\" stroke=\"black\" points=\"2488.89,-407 2498.89,-403.5 2488.89,-400 2488.89,-407\"/>\n</g>\n<!-- 134612240104560 -->\n<g id=\"node181\" class=\"node\">\n<title>134612240104560</title>\n<polygon fill=\"none\" stroke=\"black\" points=\"3440.5,-301.5 3440.5,-337.5 3622.5,-337.5 3622.5,-301.5 3440.5,-301.5\"/>\n<text text-anchor=\"middle\" x=\"3450.5\" y=\"-315.8\" font-family=\"Times,serif\" font-size=\"14.00\"> </text>\n<polyline fill=\"none\" stroke=\"black\" points=\"3460.5,-301.5 3460.5,-337.5 \"/>\n<text text-anchor=\"middle\" x=\"3500.5\" y=\"-315.8\" font-family=\"Times,serif\" font-size=\"14.00\">data 0.1666</text>\n<polyline fill=\"none\" stroke=\"black\" points=\"3540.5,-301.5 3540.5,-337.5 \"/>\n<text text-anchor=\"middle\" x=\"3581.5\" y=\"-315.8\" font-family=\"Times,serif\" font-size=\"14.00\">grad 0.0000</text>\n</g>\n<!-- 134612240104560&#45;&gt;134612240746864* -->\n<g id=\"edge87\" class=\"edge\">\n<title>134612240104560&#45;&gt;134612240746864*</title>\n<path fill=\"none\" stroke=\"black\" d=\"M3598.56,-337.55C3607.51,-340.36 3616.53,-343.37 3625,-346.5 3635.49,-350.38 3646.71,-355.22 3656.68,-359.78\"/>\n<polygon fill=\"black\" stroke=\"black\" points=\"3655.25,-362.98 3665.79,-364.03 3658.2,-356.63 3655.25,-362.98\"/>\n</g>\n<!-- 134612240456848 -->\n<g id=\"node182\" class=\"node\">\n<title>134612240456848</title>\n<polygon fill=\"none\" stroke=\"black\" points=\"1875.5,-440.5 1875.5,-476.5 2057.5,-476.5 2057.5,-440.5 1875.5,-440.5\"/>\n<text text-anchor=\"middle\" x=\"1885.5\" y=\"-454.8\" font-family=\"Times,serif\" font-size=\"14.00\"> </text>\n<polyline fill=\"none\" stroke=\"black\" points=\"1895.5,-440.5 1895.5,-476.5 \"/>\n<text text-anchor=\"middle\" x=\"1935.5\" y=\"-454.8\" font-family=\"Times,serif\" font-size=\"14.00\">data 0.0741</text>\n<polyline fill=\"none\" stroke=\"black\" points=\"1975.5,-440.5 1975.5,-476.5 \"/>\n<text text-anchor=\"middle\" x=\"2016.5\" y=\"-454.8\" font-family=\"Times,serif\" font-size=\"14.00\">grad 0.0000</text>\n</g>\n<!-- 134612240456848&#45;&gt;134612240456608+ -->\n<g id=\"edge200\" class=\"edge\">\n<title>134612240456848&#45;&gt;134612240456608+</title>\n<path fill=\"none\" stroke=\"black\" d=\"M2057.82,-458.5C2067.57,-458.5 2077.04,-458.5 2085.57,-458.5\"/>\n<polygon fill=\"black\" stroke=\"black\" points=\"2085.83,-462 2095.83,-458.5 2085.83,-455 2085.83,-462\"/>\n</g>\n<!-- 134612240456848*&#45;&gt;134612240456848 -->\n<g id=\"edge67\" class=\"edge\">\n<title>134612240456848*&#45;&gt;134612240456848</title>\n<path fill=\"none\" stroke=\"black\" d=\"M1832.55,-413.63C1844.36,-418.98 1859.34,-425.48 1873,-430.5 1879.24,-432.8 1885.77,-435.05 1892.34,-437.22\"/>\n<polygon fill=\"black\" stroke=\"black\" points=\"1891.39,-440.59 1901.98,-440.35 1893.55,-433.93 1891.39,-440.59\"/>\n</g>\n<!-- 134612240096544 -->\n<g id=\"node184\" class=\"node\">\n<title>134612240096544</title>\n<polygon fill=\"none\" stroke=\"black\" points=\"936.5,-110.5 936.5,-146.5 1118.5,-146.5 1118.5,-110.5 936.5,-110.5\"/>\n<text text-anchor=\"middle\" x=\"946.5\" y=\"-124.8\" font-family=\"Times,serif\" font-size=\"14.00\"> </text>\n<polyline fill=\"none\" stroke=\"black\" points=\"956.5,-110.5 956.5,-146.5 \"/>\n<text text-anchor=\"middle\" x=\"996.5\" y=\"-124.8\" font-family=\"Times,serif\" font-size=\"14.00\">data 0.3202</text>\n<polyline fill=\"none\" stroke=\"black\" points=\"1036.5,-110.5 1036.5,-146.5 \"/>\n<text text-anchor=\"middle\" x=\"1077.5\" y=\"-124.8\" font-family=\"Times,serif\" font-size=\"14.00\">grad 0.0000</text>\n</g>\n<!-- 134612240096544&#45;&gt;134612240103456+ -->\n<g id=\"edge173\" class=\"edge\">\n<title>134612240096544&#45;&gt;134612240103456+</title>\n<path fill=\"none\" stroke=\"black\" d=\"M1094.56,-146.55C1103.51,-149.36 1112.53,-152.37 1121,-155.5 1131.49,-159.38 1142.71,-164.22 1152.68,-168.78\"/>\n<polygon fill=\"black\" stroke=\"black\" points=\"1151.25,-171.98 1161.79,-173.03 1154.2,-165.63 1151.25,-171.98\"/>\n</g>\n<!-- 134612240096544*&#45;&gt;134612240096544 -->\n<g id=\"edge68\" class=\"edge\">\n<title>134612240096544*&#45;&gt;134612240096544</title>\n<path fill=\"none\" stroke=\"black\" d=\"M898.21,-128.5C906.34,-128.5 915.85,-128.5 925.94,-128.5\"/>\n<polygon fill=\"black\" stroke=\"black\" points=\"926.19,-132 936.19,-128.5 926.19,-125 926.19,-132\"/>\n</g>\n<!-- 134612240096592 -->\n<g id=\"node186\" class=\"node\">\n<title>134612240096592</title>\n<polygon fill=\"none\" stroke=\"black\" points=\"1873,-165.5 1873,-201.5 2060,-201.5 2060,-165.5 1873,-165.5\"/>\n<text text-anchor=\"middle\" x=\"1883\" y=\"-179.8\" font-family=\"Times,serif\" font-size=\"14.00\"> </text>\n<polyline fill=\"none\" stroke=\"black\" points=\"1893,-165.5 1893,-201.5 \"/>\n<text text-anchor=\"middle\" x=\"1935.5\" y=\"-179.8\" font-family=\"Times,serif\" font-size=\"14.00\">data &#45;0.2200</text>\n<polyline fill=\"none\" stroke=\"black\" points=\"1978,-165.5 1978,-201.5 \"/>\n<text text-anchor=\"middle\" x=\"2019\" y=\"-179.8\" font-family=\"Times,serif\" font-size=\"14.00\">grad 0.0000</text>\n</g>\n<!-- 134612240096592&#45;&gt;134612240462128* -->\n<g id=\"edge164\" class=\"edge\">\n<title>134612240096592&#45;&gt;134612240462128*</title>\n<path fill=\"none\" stroke=\"black\" d=\"M2060.05,-183.5C2069.06,-183.5 2077.79,-183.5 2085.7,-183.5\"/>\n<polygon fill=\"black\" stroke=\"black\" points=\"2085.95,-187 2095.95,-183.5 2085.95,-180 2085.95,-187\"/>\n</g>\n<!-- 134612240457136 -->\n<g id=\"node187\" class=\"node\">\n<title>134612240457136</title>\n<polygon fill=\"none\" stroke=\"black\" points=\"2186,-385.5 2186,-421.5 2373,-421.5 2373,-385.5 2186,-385.5\"/>\n<text text-anchor=\"middle\" x=\"2196\" y=\"-399.8\" font-family=\"Times,serif\" font-size=\"14.00\"> </text>\n<polyline fill=\"none\" stroke=\"black\" points=\"2206,-385.5 2206,-421.5 \"/>\n<text text-anchor=\"middle\" x=\"2248.5\" y=\"-399.8\" font-family=\"Times,serif\" font-size=\"14.00\">data &#45;0.5509</text>\n<polyline fill=\"none\" stroke=\"black\" points=\"2291,-385.5 2291,-421.5 \"/>\n<text text-anchor=\"middle\" x=\"2332\" y=\"-399.8\" font-family=\"Times,serif\" font-size=\"14.00\">grad 0.0000</text>\n</g>\n<!-- 134612240457136&#45;&gt;134612240456800+ -->\n<g id=\"edge86\" class=\"edge\">\n<title>134612240457136&#45;&gt;134612240456800+</title>\n<path fill=\"none\" stroke=\"black\" d=\"M2373.05,-403.5C2382.06,-403.5 2390.79,-403.5 2398.7,-403.5\"/>\n<polygon fill=\"black\" stroke=\"black\" points=\"2398.95,-407 2408.95,-403.5 2398.95,-400 2398.95,-407\"/>\n</g>\n<!-- 134612240457136*&#45;&gt;134612240457136 -->\n<g id=\"edge69\" class=\"edge\">\n<title>134612240457136*&#45;&gt;134612240457136</title>\n<path fill=\"none\" stroke=\"black\" d=\"M2150.21,-403.5C2157.73,-403.5 2166.43,-403.5 2175.67,-403.5\"/>\n<polygon fill=\"black\" stroke=\"black\" points=\"2175.89,-407 2185.89,-403.5 2175.89,-400 2175.89,-407\"/>\n</g>\n<!-- 134612240096736 -->\n<g id=\"node189\" class=\"node\">\n<title>134612240096736</title>\n<polygon fill=\"none\" stroke=\"black\" points=\"308,-110.5 308,-146.5 495,-146.5 495,-110.5 308,-110.5\"/>\n<text text-anchor=\"middle\" x=\"318\" y=\"-124.8\" font-family=\"Times,serif\" font-size=\"14.00\"> </text>\n<polyline fill=\"none\" stroke=\"black\" points=\"328,-110.5 328,-146.5 \"/>\n<text text-anchor=\"middle\" x=\"370.5\" y=\"-124.8\" font-family=\"Times,serif\" font-size=\"14.00\">data &#45;0.6052</text>\n<polyline fill=\"none\" stroke=\"black\" points=\"413,-110.5 413,-146.5 \"/>\n<text text-anchor=\"middle\" x=\"454\" y=\"-124.8\" font-family=\"Times,serif\" font-size=\"14.00\">grad 0.0000</text>\n</g>\n<!-- 134612240096736&#45;&gt;134612240092800+ -->\n<g id=\"edge165\" class=\"edge\">\n<title>134612240096736&#45;&gt;134612240092800+</title>\n<path fill=\"none\" stroke=\"black\" d=\"M468.56,-146.55C477.51,-149.36 486.53,-152.37 495,-155.5 505.49,-159.38 516.71,-164.22 526.68,-168.78\"/>\n<polygon fill=\"black\" stroke=\"black\" points=\"525.25,-171.98 535.79,-173.03 528.2,-165.63 525.25,-171.98\"/>\n</g>\n<!-- 134612240096784 -->\n<g id=\"node190\" class=\"node\">\n<title>134612240096784</title>\n<polygon fill=\"none\" stroke=\"black\" points=\"621,-55.5 621,-91.5 808,-91.5 808,-55.5 621,-55.5\"/>\n<text text-anchor=\"middle\" x=\"631\" y=\"-69.8\" font-family=\"Times,serif\" font-size=\"14.00\"> </text>\n<polyline fill=\"none\" stroke=\"black\" points=\"641,-55.5 641,-91.5 \"/>\n<text text-anchor=\"middle\" x=\"683.5\" y=\"-69.8\" font-family=\"Times,serif\" font-size=\"14.00\">data &#45;0.3202</text>\n<polyline fill=\"none\" stroke=\"black\" points=\"726,-55.5 726,-91.5 \"/>\n<text text-anchor=\"middle\" x=\"767\" y=\"-69.8\" font-family=\"Times,serif\" font-size=\"14.00\">grad 0.0000</text>\n</g>\n<!-- 134612240096784&#45;&gt;134612240096544* -->\n<g id=\"edge156\" class=\"edge\">\n<title>134612240096784&#45;&gt;134612240096544*</title>\n<path fill=\"none\" stroke=\"black\" d=\"M781.56,-91.55C790.51,-94.36 799.53,-97.37 808,-100.5 818.49,-104.38 829.71,-109.22 839.68,-113.78\"/>\n<polygon fill=\"black\" stroke=\"black\" points=\"838.25,-116.98 848.79,-118.03 841.2,-110.63 838.25,-116.98\"/>\n</g>\n<!-- 134612240506384 -->\n<g id=\"node191\" class=\"node\">\n<title>134612240506384</title>\n<polygon fill=\"none\" stroke=\"black\" points=\"1875.5,-275.5 1875.5,-311.5 2057.5,-311.5 2057.5,-275.5 1875.5,-275.5\"/>\n<text text-anchor=\"middle\" x=\"1885.5\" y=\"-289.8\" font-family=\"Times,serif\" font-size=\"14.00\"> </text>\n<polyline fill=\"none\" stroke=\"black\" points=\"1895.5,-275.5 1895.5,-311.5 \"/>\n<text text-anchor=\"middle\" x=\"1935.5\" y=\"-289.8\" font-family=\"Times,serif\" font-size=\"14.00\">data 0.8674</text>\n<polyline fill=\"none\" stroke=\"black\" points=\"1975.5,-275.5 1975.5,-311.5 \"/>\n<text text-anchor=\"middle\" x=\"2016.5\" y=\"-289.8\" font-family=\"Times,serif\" font-size=\"14.00\">grad 0.0000</text>\n</g>\n<!-- 134612240506384&#45;&gt;134612240744752* -->\n<g id=\"edge145\" class=\"edge\">\n<title>134612240506384&#45;&gt;134612240744752*</title>\n<path fill=\"none\" stroke=\"black\" d=\"M2050.42,-311.77C2053.92,-314.32 2057.15,-317.22 2060,-320.5 2132.8,-404.21 2064.31,-461.19 2096,-567.5 2099.05,-577.72 2103.65,-588.45 2108.14,-597.75\"/>\n<polygon fill=\"black\" stroke=\"black\" points=\"2105.09,-599.48 2112.71,-606.85 2111.35,-596.34 2105.09,-599.48\"/>\n</g>\n<!-- 134612240506384&#45;&gt;134612240462128* -->\n<g id=\"edge140\" class=\"edge\">\n<title>134612240506384&#45;&gt;134612240462128*</title>\n<path fill=\"none\" stroke=\"black\" d=\"M2043.35,-275.43C2049.24,-272.59 2054.88,-269.3 2060,-265.5 2083.16,-248.31 2078.13,-234.14 2096,-211.5 2097.4,-209.72 2098.89,-207.92 2100.42,-206.14\"/>\n<polygon fill=\"black\" stroke=\"black\" points=\"2103.18,-208.3 2107.24,-198.51 2097.96,-203.64 2103.18,-208.3\"/>\n</g>\n<!-- 134612240506384&#45;&gt;134612242076464* -->\n<g id=\"edge191\" class=\"edge\">\n<title>134612240506384&#45;&gt;134612242076464*</title>\n<path fill=\"none\" stroke=\"black\" d=\"M2047.2,-275.31C2051.83,-272.5 2056.16,-269.25 2060,-265.5 2096.52,-229.88 2070.05,-200.42 2096,-156.5 2097.15,-154.55 2098.46,-152.62 2099.86,-150.75\"/>\n<polygon fill=\"black\" stroke=\"black\" points=\"2102.66,-152.85 2106.4,-142.94 2097.3,-148.36 2102.66,-152.85\"/>\n</g>\n<!-- 134612240506384&#45;&gt;134612240457136* -->\n<g id=\"edge179\" class=\"edge\">\n<title>134612240506384&#45;&gt;134612240457136*</title>\n<path fill=\"none\" stroke=\"black\" d=\"M2044.53,-311.66C2049.97,-314.23 2055.19,-317.16 2060,-320.5 2081.11,-335.15 2097.97,-359.3 2108.74,-377.78\"/>\n<polygon fill=\"black\" stroke=\"black\" points=\"2105.74,-379.57 2113.68,-386.59 2111.85,-376.15 2105.74,-379.57\"/>\n</g>\n<!-- 134612240506384tanh&#45;&gt;134612240506384 -->\n<g id=\"edge70\" class=\"edge\">\n<title>134612240506384tanh&#45;&gt;134612240506384</title>\n<path fill=\"none\" stroke=\"black\" d=\"M1837.21,-293.5C1845.34,-293.5 1854.85,-293.5 1864.94,-293.5\"/>\n<polygon fill=\"black\" stroke=\"black\" points=\"1865.19,-297 1875.19,-293.5 1865.19,-290 1865.19,-297\"/>\n</g>\n<!-- 134612240457280 -->\n<g id=\"node193\" class=\"node\">\n<title>134612240457280</title>\n<polygon fill=\"none\" stroke=\"black\" points=\"2499,-440.5 2499,-476.5 2686,-476.5 2686,-440.5 2499,-440.5\"/>\n<text text-anchor=\"middle\" x=\"2509\" y=\"-454.8\" font-family=\"Times,serif\" font-size=\"14.00\"> </text>\n<polyline fill=\"none\" stroke=\"black\" points=\"2519,-440.5 2519,-476.5 \"/>\n<text text-anchor=\"middle\" x=\"2561.5\" y=\"-454.8\" font-family=\"Times,serif\" font-size=\"14.00\">data &#45;0.1506</text>\n<polyline fill=\"none\" stroke=\"black\" points=\"2604,-440.5 2604,-476.5 \"/>\n<text text-anchor=\"middle\" x=\"2645\" y=\"-454.8\" font-family=\"Times,serif\" font-size=\"14.00\">grad 0.0000</text>\n</g>\n<!-- 134612240457280&#45;&gt;134612240457616+ -->\n<g id=\"edge97\" class=\"edge\">\n<title>134612240457280&#45;&gt;134612240457616+</title>\n<path fill=\"none\" stroke=\"black\" d=\"M2686.05,-458.5C2695.06,-458.5 2703.79,-458.5 2711.7,-458.5\"/>\n<polygon fill=\"black\" stroke=\"black\" points=\"2711.95,-462 2721.95,-458.5 2711.95,-455 2711.95,-462\"/>\n</g>\n<!-- 134612240457280*&#45;&gt;134612240457280 -->\n<g id=\"edge71\" class=\"edge\">\n<title>134612240457280*&#45;&gt;134612240457280</title>\n<path fill=\"none\" stroke=\"black\" d=\"M2458.21,-503.03C2470.05,-497.41 2485.15,-490.62 2499,-485.5 2504.43,-483.49 2510.08,-481.54 2515.79,-479.65\"/>\n<polygon fill=\"black\" stroke=\"black\" points=\"2516.99,-482.94 2525.44,-476.55 2514.85,-476.28 2516.99,-482.94\"/>\n</g>\n<!-- 134612240457472 -->\n<g id=\"node195\" class=\"node\">\n<title>134612240457472</title>\n<polygon fill=\"none\" stroke=\"black\" points=\"1247,-605.5 1247,-641.5 1434,-641.5 1434,-605.5 1247,-605.5\"/>\n<text text-anchor=\"middle\" x=\"1257\" y=\"-619.8\" font-family=\"Times,serif\" font-size=\"14.00\"> </text>\n<polyline fill=\"none\" stroke=\"black\" points=\"1267,-605.5 1267,-641.5 \"/>\n<text text-anchor=\"middle\" x=\"1309.5\" y=\"-619.8\" font-family=\"Times,serif\" font-size=\"14.00\">data &#45;2.6222</text>\n<polyline fill=\"none\" stroke=\"black\" points=\"1352,-605.5 1352,-641.5 \"/>\n<text text-anchor=\"middle\" x=\"1393\" y=\"-619.8\" font-family=\"Times,serif\" font-size=\"14.00\">grad 0.0000</text>\n</g>\n<!-- 134612240457472&#45;&gt;134612240455504+ -->\n<g id=\"edge121\" class=\"edge\">\n<title>134612240457472&#45;&gt;134612240455504+</title>\n<path fill=\"none\" stroke=\"black\" d=\"M1407.56,-605.45C1416.51,-602.64 1425.53,-599.63 1434,-596.5 1444.49,-592.62 1455.71,-587.78 1465.68,-583.22\"/>\n<polygon fill=\"black\" stroke=\"black\" points=\"1467.2,-586.37 1474.79,-578.97 1464.25,-580.02 1467.2,-586.37\"/>\n</g>\n<!-- 134612240457472*&#45;&gt;134612240457472 -->\n<g id=\"edge72\" class=\"edge\">\n<title>134612240457472*&#45;&gt;134612240457472</title>\n<path fill=\"none\" stroke=\"black\" d=\"M1211.21,-623.5C1218.73,-623.5 1227.43,-623.5 1236.67,-623.5\"/>\n<polygon fill=\"black\" stroke=\"black\" points=\"1236.89,-627 1246.89,-623.5 1236.89,-620 1236.89,-627\"/>\n</g>\n<!-- 134612240105328 -->\n<g id=\"node197\" class=\"node\">\n<title>134612240105328</title>\n<polygon fill=\"none\" stroke=\"black\" points=\"310.5,-330.5 310.5,-366.5 492.5,-366.5 492.5,-330.5 310.5,-330.5\"/>\n<text text-anchor=\"middle\" x=\"320.5\" y=\"-344.8\" font-family=\"Times,serif\" font-size=\"14.00\"> </text>\n<polyline fill=\"none\" stroke=\"black\" points=\"330.5,-330.5 330.5,-366.5 \"/>\n<text text-anchor=\"middle\" x=\"370.5\" y=\"-344.8\" font-family=\"Times,serif\" font-size=\"14.00\">data 0.1310</text>\n<polyline fill=\"none\" stroke=\"black\" points=\"410.5,-330.5 410.5,-366.5 \"/>\n<text text-anchor=\"middle\" x=\"451.5\" y=\"-344.8\" font-family=\"Times,serif\" font-size=\"14.00\">grad 0.0000</text>\n</g>\n<!-- 134612240105328&#45;&gt;134612240098128* -->\n<g id=\"edge126\" class=\"edge\">\n<title>134612240105328&#45;&gt;134612240098128*</title>\n<path fill=\"none\" stroke=\"black\" d=\"M492.82,-348.5C502.57,-348.5 512.04,-348.5 520.57,-348.5\"/>\n<polygon fill=\"black\" stroke=\"black\" points=\"520.83,-352 530.83,-348.5 520.83,-345 520.83,-352\"/>\n</g>\n<!-- 134612240457616 -->\n<g id=\"node198\" class=\"node\">\n<title>134612240457616</title>\n<polygon fill=\"none\" stroke=\"black\" points=\"2812,-440.5 2812,-476.5 2999,-476.5 2999,-440.5 2812,-440.5\"/>\n<text text-anchor=\"middle\" x=\"2822\" y=\"-454.8\" font-family=\"Times,serif\" font-size=\"14.00\"> </text>\n<polyline fill=\"none\" stroke=\"black\" points=\"2832,-440.5 2832,-476.5 \"/>\n<text text-anchor=\"middle\" x=\"2874.5\" y=\"-454.8\" font-family=\"Times,serif\" font-size=\"14.00\">data &#45;1.2933</text>\n<polyline fill=\"none\" stroke=\"black\" points=\"2917,-440.5 2917,-476.5 \"/>\n<text text-anchor=\"middle\" x=\"2958\" y=\"-454.8\" font-family=\"Times,serif\" font-size=\"14.00\">grad 0.0000</text>\n</g>\n<!-- 134612240457616&#45;&gt;134612240461696+ -->\n<g id=\"edge127\" class=\"edge\">\n<title>134612240457616&#45;&gt;134612240461696+</title>\n<path fill=\"none\" stroke=\"black\" d=\"M2979.91,-476.68C2986.52,-479.28 2992.98,-482.21 2999,-485.5 3014.06,-493.73 3028.65,-506.15 3039.89,-517\"/>\n<polygon fill=\"black\" stroke=\"black\" points=\"3037.55,-519.6 3047.1,-524.19 3042.49,-514.65 3037.55,-519.6\"/>\n</g>\n<!-- 134612240457616+&#45;&gt;134612240457616 -->\n<g id=\"edge73\" class=\"edge\">\n<title>134612240457616+&#45;&gt;134612240457616</title>\n<path fill=\"none\" stroke=\"black\" d=\"M2776.21,-458.5C2783.73,-458.5 2792.43,-458.5 2801.67,-458.5\"/>\n<polygon fill=\"black\" stroke=\"black\" points=\"2801.89,-462 2811.89,-458.5 2801.89,-455 2801.89,-462\"/>\n</g>\n</g>\n</svg>\n",
            "text/plain": [
              "<graphviz.graphs.Digraph at 0x7a6ddac0ded0>"
            ]
          },
          "metadata": {},
          "execution_count": 272
        }
      ]
    },
    {
      "cell_type": "markdown",
      "source": [
        "## Tiny Dataset with loss function"
      ],
      "metadata": {
        "id": "AXfTMpICXS2Y"
      }
    },
    {
      "cell_type": "code",
      "source": [
        "xs = [\n",
        "    [2.0, 3.0, -1.0],\n",
        "    [3.0, -1.0, 0.5],\n",
        "    [0.5, 1.0, 1.0],\n",
        "    [1.0, 1.0, -1.0]\n",
        "]\n",
        "ys = [1.0, -1.0, -1.0, 1.0]"
      ],
      "metadata": {
        "id": "vlzWjOhXXUqa"
      },
      "execution_count": 273,
      "outputs": []
    },
    {
      "cell_type": "code",
      "source": [
        "ypred = [n(x) for x in xs]\n",
        "loss = sum([(yout - ygt)**2 for ygt, yout in zip(ys, ypred)])\n",
        "loss"
      ],
      "metadata": {
        "colab": {
          "base_uri": "https://localhost:8080/"
        },
        "id": "Uyy8o-muXZw-",
        "outputId": "382e49e9-1b74-4b7f-8686-818528cd1d4c"
      },
      "execution_count": 274,
      "outputs": [
        {
          "output_type": "execute_result",
          "data": {
            "text/plain": [
              "Value(label= data=5.954789053822846)"
            ]
          },
          "metadata": {},
          "execution_count": 274
        }
      ]
    },
    {
      "cell_type": "code",
      "source": [
        "ypred"
      ],
      "metadata": {
        "colab": {
          "base_uri": "https://localhost:8080/"
        },
        "id": "jsW7AmlzXpVp",
        "outputId": "167ad712-ca40-4066-a1d7-662fa3cd0469"
      },
      "execution_count": 275,
      "outputs": [
        {
          "output_type": "execute_result",
          "data": {
            "text/plain": [
              "[Value(label= data=0.8272616576037315),\n",
              " Value(label= data=0.5987269289488985),\n",
              " Value(label= data=0.8298155375742502),\n",
              " Value(label= data=0.85578549312043)]"
            ]
          },
          "metadata": {},
          "execution_count": 275
        }
      ]
    },
    {
      "cell_type": "markdown",
      "source": [
        "### Repeat"
      ],
      "metadata": {
        "id": "0L_nncgAzpcw"
      }
    },
    {
      "cell_type": "code",
      "source": [
        "loss.backward()"
      ],
      "metadata": {
        "id": "O_n1OawqzrGX"
      },
      "execution_count": 276,
      "outputs": []
    },
    {
      "cell_type": "code",
      "source": [
        "n.layers[0].neurons[0].w[0].grad"
      ],
      "metadata": {
        "colab": {
          "base_uri": "https://localhost:8080/"
        },
        "id": "GJrjwTY2z0Ew",
        "outputId": "5e55b7b8-56b1-4701-c69e-5505fc9119b4"
      },
      "execution_count": 277,
      "outputs": [
        {
          "output_type": "execute_result",
          "data": {
            "text/plain": [
              "-0.2212034634754475"
            ]
          },
          "metadata": {},
          "execution_count": 277
        }
      ]
    },
    {
      "cell_type": "code",
      "source": [
        "for p in n.parameters():\n",
        "    p.data += -0.01 * p.grad"
      ],
      "metadata": {
        "id": "WL8dXzEjz8_9"
      },
      "execution_count": 278,
      "outputs": []
    },
    {
      "cell_type": "code",
      "source": [
        "n.layers[0].neurons[0].w[0].data"
      ],
      "metadata": {
        "colab": {
          "base_uri": "https://localhost:8080/"
        },
        "id": "LSA0HOyI0Fgq",
        "outputId": "d100596d-aaf3-445d-8b40-94c08c480d40"
      },
      "execution_count": 279,
      "outputs": [
        {
          "output_type": "execute_result",
          "data": {
            "text/plain": [
              "0.9464077315158275"
            ]
          },
          "metadata": {},
          "execution_count": 279
        }
      ]
    },
    {
      "cell_type": "code",
      "source": [
        "ypred = [n(x) for x in xs]\n",
        "loss = sum([(yout - ygt)**2 for ygt, yout in zip(ys, ypred)])\n",
        "loss"
      ],
      "metadata": {
        "colab": {
          "base_uri": "https://localhost:8080/"
        },
        "id": "-RqzFclw0Vfw",
        "outputId": "7ffd03e9-26c1-4cb0-8eef-faaead670c4f"
      },
      "execution_count": 280,
      "outputs": [
        {
          "output_type": "execute_result",
          "data": {
            "text/plain": [
              "Value(label= data=5.4616050698259855)"
            ]
          },
          "metadata": {},
          "execution_count": 280
        }
      ]
    },
    {
      "cell_type": "code",
      "source": [
        "ypred"
      ],
      "metadata": {
        "colab": {
          "base_uri": "https://localhost:8080/"
        },
        "id": "7Dy4NIVe0b4g",
        "outputId": "fbebb951-3182-4239-e5b1-0c9c33ea71ff"
      },
      "execution_count": 281,
      "outputs": [
        {
          "output_type": "execute_result",
          "data": {
            "text/plain": [
              "[Value(label= data=0.7905838991449546),\n",
              " Value(label= data=0.4695811481741384),\n",
              " Value(label= data=0.7967159171227357),\n",
              " Value(label= data=0.8271037055988694)]"
            ]
          },
          "metadata": {},
          "execution_count": 281
        }
      ]
    },
    {
      "cell_type": "code",
      "source": [
        "n.parameters()"
      ],
      "metadata": {
        "colab": {
          "base_uri": "https://localhost:8080/"
        },
        "id": "g8zAMeFv0l5A",
        "outputId": "e6bbd38e-e286-41a7-826e-666fdc9987eb"
      },
      "execution_count": 282,
      "outputs": [
        {
          "output_type": "execute_result",
          "data": {
            "text/plain": [
              "[Value(label= data=0.9464077315158275),\n",
              " Value(label= data=-0.06960885832052927),\n",
              " Value(label= data=-0.31593754801409163),\n",
              " Value(label= data=-0.6013033096011158),\n",
              " Value(label= data=0.10032494261397887),\n",
              " Value(label= data=0.6359143996689209),\n",
              " Value(label= data=0.9261848986918615),\n",
              " Value(label= data=0.10460161067714292),\n",
              " Value(label= data=0.7374671458591787),\n",
              " Value(label= data=-0.8769925599297983),\n",
              " Value(label= data=-0.8617027566478146),\n",
              " Value(label= data=0.7653993330079512),\n",
              " Value(label= data=0.9648715094095328),\n",
              " Value(label= data=-0.25740678523700633),\n",
              " Value(label= data=0.6714144912730995),\n",
              " Value(label= data=-0.42548129902015996),\n",
              " Value(label= data=0.9798052982705839),\n",
              " Value(label= data=-0.21271234063707226),\n",
              " Value(label= data=-0.517135740727202),\n",
              " Value(label= data=0.20064734039375917),\n",
              " Value(label= data=0.8246243008110437),\n",
              " Value(label= data=0.09546240460031288),\n",
              " Value(label= data=-0.625455128046182),\n",
              " Value(label= data=-0.32453704030527625),\n",
              " Value(label= data=0.8075655524923595),\n",
              " Value(label= data=-0.6463884945825237),\n",
              " Value(label= data=0.9346752780642833),\n",
              " Value(label= data=-0.3865800120965012),\n",
              " Value(label= data=-0.21910676946166713),\n",
              " Value(label= data=0.08736096204973247),\n",
              " Value(label= data=0.8295291554679524),\n",
              " Value(label= data=0.4319384600349767),\n",
              " Value(label= data=0.9911665791258539),\n",
              " Value(label= data=-0.0852650143058671),\n",
              " Value(label= data=-0.9248498429103996),\n",
              " Value(label= data=0.48107620874400153),\n",
              " Value(label= data=-0.7701440497057713),\n",
              " Value(label= data=-0.7915461625241244),\n",
              " Value(label= data=0.1477126233430041),\n",
              " Value(label= data=0.07731636264024105),\n",
              " Value(label= data=0.8813732642023977)]"
            ]
          },
          "metadata": {},
          "execution_count": 282
        }
      ]
    },
    {
      "cell_type": "markdown",
      "source": [
        "### Make the above `Repeat` section into `training` loop"
      ],
      "metadata": {
        "id": "tG16Q70y0uzD"
      }
    },
    {
      "cell_type": "code",
      "source": [
        "def train(repeats, model, xs, ygt, lr = 0.01):\n",
        "\n",
        "    for k in range(repeats):\n",
        "        # forward pass\n",
        "        ypred = [model(x) for x in xs]\n",
        "        loss = sum((yout - ygt)**2 for ygt, yout in zip(ygt, ypred))\n",
        "        print(k, loss.data)\n",
        "\n",
        "        # backward propagation\n",
        "        for p in n.parameters(): p.grad = 0.0 # zero_grad()\n",
        "        loss.backward()\n",
        "\n",
        "        # update: gradient descent\n",
        "        for p in model.parameters(): p.data += -lr * p.grad\n",
        "    return ypred"
      ],
      "metadata": {
        "id": "nOKw0Orb0tyu"
      },
      "execution_count": 283,
      "outputs": []
    },
    {
      "cell_type": "code",
      "source": [
        "xs = [\n",
        "    [2.0, 3.0, -1.0],\n",
        "    [3.0, -1.0, 0.5],\n",
        "    [0.5, 1.0, 1.0],\n",
        "    [1.0, 1.0, -1.0]\n",
        "]\n",
        "ys = [1.0, -1.0, -1.0, 1.0]"
      ],
      "metadata": {
        "id": "X4JbRdx1076b"
      },
      "execution_count": 284,
      "outputs": []
    },
    {
      "cell_type": "code",
      "source": [
        "model = MLP(3, [4, 4, 1])"
      ],
      "metadata": {
        "id": "R8vK9f331A2m"
      },
      "execution_count": 285,
      "outputs": []
    },
    {
      "cell_type": "code",
      "source": [
        "train(10, model, xs, ys, 0.05)"
      ],
      "metadata": {
        "colab": {
          "base_uri": "https://localhost:8080/"
        },
        "id": "BxFt22FR1GPs",
        "outputId": "8ecf6953-6bea-4a5f-b39f-be6305252648"
      },
      "execution_count": 286,
      "outputs": [
        {
          "output_type": "stream",
          "name": "stdout",
          "text": [
            "0 7.910337715204892\n",
            "1 7.759011746463958\n",
            "2 7.542657305960585\n",
            "3 7.1370831272780775\n",
            "4 6.077403666753207\n",
            "5 4.257449740025928\n",
            "6 3.3960655418941013\n",
            "7 2.1413778401388757\n",
            "8 2.271990149031126\n",
            "9 0.061772403685231216\n"
          ]
        },
        {
          "output_type": "execute_result",
          "data": {
            "text/plain": [
              "[Value(label= data=0.860054359321644),\n",
              " Value(label= data=-0.996241370568794),\n",
              " Value(label= data=-0.7967870948496631),\n",
              " Value(label= data=0.9703687795473296)]"
            ]
          },
          "metadata": {},
          "execution_count": 286
        }
      ]
    }
  ],
  "metadata": {
    "colab": {
      "provenance": []
    },
    "kernelspec": {
      "display_name": "Python 3",
      "name": "python3"
    },
    "language_info": {
      "name": "python"
    }
  },
  "nbformat": 4,
  "nbformat_minor": 0
}